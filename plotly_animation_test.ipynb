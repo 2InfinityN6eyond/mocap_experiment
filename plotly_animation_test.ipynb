{
 "cells": [
  {
   "cell_type": "code",
   "execution_count": 2,
   "metadata": {},
   "outputs": [
    {
     "data": {
      "application/vnd.plotly.v1+json": {
       "config": {
        "plotlyServerURL": "https://plot.ly"
       },
       "data": [
        {
         "marker": {
          "color": "red",
          "size": 10
         },
         "mode": "markers",
         "type": "scatter3d",
         "x": [],
         "y": [],
         "z": []
        }
       ],
       "frames": [
        {
         "data": [
          {
           "type": "scatter3d",
           "x": [
            0
           ],
           "y": [
            0.510048447995771
           ],
           "z": [
            0.23964394977105508
           ]
          }
         ],
         "name": "frame0",
         "traces": [
          0
         ]
        },
        {
         "data": [
          {
           "type": "scatter3d",
           "x": [
            1
           ],
           "y": [
            0.17982399390194537
           ],
           "z": [
            0.0815251274543769
           ]
          }
         ],
         "name": "frame1",
         "traces": [
          0
         ]
        },
        {
         "data": [
          {
           "type": "scatter3d",
           "x": [
            2
           ],
           "y": [
            0.4483108467453527
           ],
           "z": [
            0.7905567513607968
           ]
          }
         ],
         "name": "frame2",
         "traces": [
          0
         ]
        },
        {
         "data": [
          {
           "type": "scatter3d",
           "x": [
            3
           ],
           "y": [
            0.7336509560185827
           ],
           "z": [
            0.9239828486673278
           ]
          }
         ],
         "name": "frame3",
         "traces": [
          0
         ]
        },
        {
         "data": [
          {
           "type": "scatter3d",
           "x": [
            4
           ],
           "y": [
            0.9608599262748445
           ],
           "z": [
            0.37981400420375766
           ]
          }
         ],
         "name": "frame4",
         "traces": [
          0
         ]
        },
        {
         "data": [
          {
           "type": "scatter3d",
           "x": [
            5
           ],
           "y": [
            0.13696493400529486
           ],
           "z": [
            0.16233836093162313
           ]
          }
         ],
         "name": "frame5",
         "traces": [
          0
         ]
        },
        {
         "data": [
          {
           "type": "scatter3d",
           "x": [
            6
           ],
           "y": [
            0.5822788571394577
           ],
           "z": [
            0.03231082968368004
           ]
          }
         ],
         "name": "frame6",
         "traces": [
          0
         ]
        },
        {
         "data": [
          {
           "type": "scatter3d",
           "x": [
            7
           ],
           "y": [
            0.3110592591674328
           ],
           "z": [
            0.788955922720837
           ]
          }
         ],
         "name": "frame7",
         "traces": [
          0
         ]
        },
        {
         "data": [
          {
           "type": "scatter3d",
           "x": [
            8
           ],
           "y": [
            0.5374658536894935
           ],
           "z": [
            0.850981776791727
           ]
          }
         ],
         "name": "frame8",
         "traces": [
          0
         ]
        },
        {
         "data": [
          {
           "type": "scatter3d",
           "x": [
            9
           ],
           "y": [
            0.3367994544456693
           ],
           "z": [
            0.09482189792908102
           ]
          }
         ],
         "name": "frame9",
         "traces": [
          0
         ]
        },
        {
         "data": [
          {
           "type": "scatter3d",
           "x": [
            10
           ],
           "y": [
            0.7217143249005606
           ],
           "z": [
            0.18493872247089127
           ]
          }
         ],
         "name": "frame10",
         "traces": [
          0
         ]
        },
        {
         "data": [
          {
           "type": "scatter3d",
           "x": [
            11
           ],
           "y": [
            0.8411638991809974
           ],
           "z": [
            0.8295708723911916
           ]
          }
         ],
         "name": "frame11",
         "traces": [
          0
         ]
        },
        {
         "data": [
          {
           "type": "scatter3d",
           "x": [
            12
           ],
           "y": [
            0.37180951847993116
           ],
           "z": [
            0.6782293535456508
           ]
          }
         ],
         "name": "frame12",
         "traces": [
          0
         ]
        },
        {
         "data": [
          {
           "type": "scatter3d",
           "x": [
            13
           ],
           "y": [
            0.6838314090600706
           ],
           "z": [
            0.39050895403391384
           ]
          }
         ],
         "name": "frame13",
         "traces": [
          0
         ]
        },
        {
         "data": [
          {
           "type": "scatter3d",
           "x": [
            14
           ],
           "y": [
            0.9142587756228469
           ],
           "z": [
            0.6338272094354902
           ]
          }
         ],
         "name": "frame14",
         "traces": [
          0
         ]
        },
        {
         "data": [
          {
           "type": "scatter3d",
           "x": [
            15
           ],
           "y": [
            0.8646267289525752
           ],
           "z": [
            0.8903390373383732
           ]
          }
         ],
         "name": "frame15",
         "traces": [
          0
         ]
        },
        {
         "data": [
          {
           "type": "scatter3d",
           "x": [
            16
           ],
           "y": [
            0.6578557380304734
           ],
           "z": [
            0.009200191913154798
           ]
          }
         ],
         "name": "frame16",
         "traces": [
          0
         ]
        },
        {
         "data": [
          {
           "type": "scatter3d",
           "x": [
            17
           ],
           "y": [
            0.7939799693580645
           ],
           "z": [
            0.26748178593456695
           ]
          }
         ],
         "name": "frame17",
         "traces": [
          0
         ]
        },
        {
         "data": [
          {
           "type": "scatter3d",
           "x": [
            18
           ],
           "y": [
            0.33904911970473006
           ],
           "z": [
            0.21363813927267983
           ]
          }
         ],
         "name": "frame18",
         "traces": [
          0
         ]
        },
        {
         "data": [
          {
           "type": "scatter3d",
           "x": [
            19
           ],
           "y": [
            0.6781022191873062
           ],
           "z": [
            0.8925152651660743
           ]
          }
         ],
         "name": "frame19",
         "traces": [
          0
         ]
        },
        {
         "data": [
          {
           "type": "scatter3d",
           "x": [
            20
           ],
           "y": [
            0.07245626393167359
           ],
           "z": [
            0.2783891473168616
           ]
          }
         ],
         "name": "frame20",
         "traces": [
          0
         ]
        },
        {
         "data": [
          {
           "type": "scatter3d",
           "x": [
            21
           ],
           "y": [
            0.2669541977140768
           ],
           "z": [
            0.16267704898195734
           ]
          }
         ],
         "name": "frame21",
         "traces": [
          0
         ]
        },
        {
         "data": [
          {
           "type": "scatter3d",
           "x": [
            22
           ],
           "y": [
            0.9102554229736003
           ],
           "z": [
            0.5279054943924377
           ]
          }
         ],
         "name": "frame22",
         "traces": [
          0
         ]
        },
        {
         "data": [
          {
           "type": "scatter3d",
           "x": [
            23
           ],
           "y": [
            0.13023444048972077
           ],
           "z": [
            0.23513707507925463
           ]
          }
         ],
         "name": "frame23",
         "traces": [
          0
         ]
        },
        {
         "data": [
          {
           "type": "scatter3d",
           "x": [
            24
           ],
           "y": [
            0.048475305843126426
           ],
           "z": [
            0.046851561304677714
           ]
          }
         ],
         "name": "frame24",
         "traces": [
          0
         ]
        },
        {
         "data": [
          {
           "type": "scatter3d",
           "x": [
            25
           ],
           "y": [
            0.04521809465827997
           ],
           "z": [
            0.6657913967724042
           ]
          }
         ],
         "name": "frame25",
         "traces": [
          0
         ]
        },
        {
         "data": [
          {
           "type": "scatter3d",
           "x": [
            26
           ],
           "y": [
            0.775677089727486
           ],
           "z": [
            0.8194563028533667
           ]
          }
         ],
         "name": "frame26",
         "traces": [
          0
         ]
        },
        {
         "data": [
          {
           "type": "scatter3d",
           "x": [
            27
           ],
           "y": [
            0.7259060684012036
           ],
           "z": [
            0.5672833106369751
           ]
          }
         ],
         "name": "frame27",
         "traces": [
          0
         ]
        },
        {
         "data": [
          {
           "type": "scatter3d",
           "x": [
            28
           ],
           "y": [
            0.4310459562533884
           ],
           "z": [
            0.8506858759480612
           ]
          }
         ],
         "name": "frame28",
         "traces": [
          0
         ]
        },
        {
         "data": [
          {
           "type": "scatter3d",
           "x": [
            29
           ],
           "y": [
            0.3316488583102293
           ],
           "z": [
            0.04759164968477336
           ]
          }
         ],
         "name": "frame29",
         "traces": [
          0
         ]
        },
        {
         "data": [
          {
           "type": "scatter3d",
           "x": [
            30
           ],
           "y": [
            0.8572959896204635
           ],
           "z": [
            0.6502617089902445
           ]
          }
         ],
         "name": "frame30",
         "traces": [
          0
         ]
        },
        {
         "data": [
          {
           "type": "scatter3d",
           "x": [
            31
           ],
           "y": [
            0.963595022651395
           ],
           "z": [
            0.43863073018242404
           ]
          }
         ],
         "name": "frame31",
         "traces": [
          0
         ]
        },
        {
         "data": [
          {
           "type": "scatter3d",
           "x": [
            32
           ],
           "y": [
            0.8200477142740261
           ],
           "z": [
            0.10094231388939645
           ]
          }
         ],
         "name": "frame32",
         "traces": [
          0
         ]
        },
        {
         "data": [
          {
           "type": "scatter3d",
           "x": [
            33
           ],
           "y": [
            0.536731879632389
           ],
           "z": [
            0.6037274086443754
           ]
          }
         ],
         "name": "frame33",
         "traces": [
          0
         ]
        },
        {
         "data": [
          {
           "type": "scatter3d",
           "x": [
            34
           ],
           "y": [
            0.2788042280057228
           ],
           "z": [
            0.04265648210903883
           ]
          }
         ],
         "name": "frame34",
         "traces": [
          0
         ]
        },
        {
         "data": [
          {
           "type": "scatter3d",
           "x": [
            35
           ],
           "y": [
            0.6493523337205156
           ],
           "z": [
            0.5516683532101091
           ]
          }
         ],
         "name": "frame35",
         "traces": [
          0
         ]
        },
        {
         "data": [
          {
           "type": "scatter3d",
           "x": [
            36
           ],
           "y": [
            0.15049907840213783
           ],
           "z": [
            0.4171674975382167
           ]
          }
         ],
         "name": "frame36",
         "traces": [
          0
         ]
        },
        {
         "data": [
          {
           "type": "scatter3d",
           "x": [
            37
           ],
           "y": [
            0.9330891678683495
           ],
           "z": [
            0.9866036040482781
           ]
          }
         ],
         "name": "frame37",
         "traces": [
          0
         ]
        },
        {
         "data": [
          {
           "type": "scatter3d",
           "x": [
            38
           ],
           "y": [
            0.9976352406404119
           ],
           "z": [
            0.5336127852325356
           ]
          }
         ],
         "name": "frame38",
         "traces": [
          0
         ]
        },
        {
         "data": [
          {
           "type": "scatter3d",
           "x": [
            39
           ],
           "y": [
            0.30373227691350246
           ],
           "z": [
            0.6787843900655666
           ]
          }
         ],
         "name": "frame39",
         "traces": [
          0
         ]
        },
        {
         "data": [
          {
           "type": "scatter3d",
           "x": [
            40
           ],
           "y": [
            0.07857053096778932
           ],
           "z": [
            0.36078280426935005
           ]
          }
         ],
         "name": "frame40",
         "traces": [
          0
         ]
        },
        {
         "data": [
          {
           "type": "scatter3d",
           "x": [
            41
           ],
           "y": [
            0.03667249043969156
           ],
           "z": [
            0.08174034812758613
           ]
          }
         ],
         "name": "frame41",
         "traces": [
          0
         ]
        },
        {
         "data": [
          {
           "type": "scatter3d",
           "x": [
            42
           ],
           "y": [
            0.8992034602298972
           ],
           "z": [
            0.09247008909315724
           ]
          }
         ],
         "name": "frame42",
         "traces": [
          0
         ]
        },
        {
         "data": [
          {
           "type": "scatter3d",
           "x": [
            43
           ],
           "y": [
            0.9101934472103499
           ],
           "z": [
            0.8621948298637472
           ]
          }
         ],
         "name": "frame43",
         "traces": [
          0
         ]
        },
        {
         "data": [
          {
           "type": "scatter3d",
           "x": [
            44
           ],
           "y": [
            0.5407927804516868
           ],
           "z": [
            0.015536904567207133
           ]
          }
         ],
         "name": "frame44",
         "traces": [
          0
         ]
        },
        {
         "data": [
          {
           "type": "scatter3d",
           "x": [
            45
           ],
           "y": [
            0.5789194031119522
           ],
           "z": [
            0.255300961330993
           ]
          }
         ],
         "name": "frame45",
         "traces": [
          0
         ]
        },
        {
         "data": [
          {
           "type": "scatter3d",
           "x": [
            46
           ],
           "y": [
            0.6869729808116686
           ],
           "z": [
            0.831923085668793
           ]
          }
         ],
         "name": "frame46",
         "traces": [
          0
         ]
        },
        {
         "data": [
          {
           "type": "scatter3d",
           "x": [
            47
           ],
           "y": [
            0.3340368066715176
           ],
           "z": [
            0.17589954613786563
           ]
          }
         ],
         "name": "frame47",
         "traces": [
          0
         ]
        },
        {
         "data": [
          {
           "type": "scatter3d",
           "x": [
            48
           ],
           "y": [
            0.34131376692214743
           ],
           "z": [
            0.32172892049143653
           ]
          }
         ],
         "name": "frame48",
         "traces": [
          0
         ]
        },
        {
         "data": [
          {
           "type": "scatter3d",
           "x": [
            49
           ],
           "y": [
            0.29315692603723287
           ],
           "z": [
            0.035803073405031305
           ]
          }
         ],
         "name": "frame49",
         "traces": [
          0
         ]
        },
        {
         "data": [
          {
           "type": "scatter3d",
           "x": [
            50
           ],
           "y": [
            0.21441163577037248
           ],
           "z": [
            0.27927095060649254
           ]
          }
         ],
         "name": "frame50",
         "traces": [
          0
         ]
        },
        {
         "data": [
          {
           "type": "scatter3d",
           "x": [
            51
           ],
           "y": [
            0.2906113478279546
           ],
           "z": [
            0.9167565916018768
           ]
          }
         ],
         "name": "frame51",
         "traces": [
          0
         ]
        },
        {
         "data": [
          {
           "type": "scatter3d",
           "x": [
            52
           ],
           "y": [
            0.6508716772283545
           ],
           "z": [
            0.1639242927074016
           ]
          }
         ],
         "name": "frame52",
         "traces": [
          0
         ]
        },
        {
         "data": [
          {
           "type": "scatter3d",
           "x": [
            53
           ],
           "y": [
            0.15270930835443175
           ],
           "z": [
            0.3779615742992535
           ]
          }
         ],
         "name": "frame53",
         "traces": [
          0
         ]
        },
        {
         "data": [
          {
           "type": "scatter3d",
           "x": [
            54
           ],
           "y": [
            0.6727504174956861
           ],
           "z": [
            0.04943458726147498
           ]
          }
         ],
         "name": "frame54",
         "traces": [
          0
         ]
        },
        {
         "data": [
          {
           "type": "scatter3d",
           "x": [
            55
           ],
           "y": [
            0.12639800865633377
           ],
           "z": [
            0.9591545720399616
           ]
          }
         ],
         "name": "frame55",
         "traces": [
          0
         ]
        },
        {
         "data": [
          {
           "type": "scatter3d",
           "x": [
            56
           ],
           "y": [
            0.009459326758059161
           ],
           "z": [
            0.16759686721253586
           ]
          }
         ],
         "name": "frame56",
         "traces": [
          0
         ]
        },
        {
         "data": [
          {
           "type": "scatter3d",
           "x": [
            57
           ],
           "y": [
            0.38817780710292804
           ],
           "z": [
            0.04151165056579109
           ]
          }
         ],
         "name": "frame57",
         "traces": [
          0
         ]
        },
        {
         "data": [
          {
           "type": "scatter3d",
           "x": [
            58
           ],
           "y": [
            0.5542978531960163
           ],
           "z": [
            0.13277555509389194
           ]
          }
         ],
         "name": "frame58",
         "traces": [
          0
         ]
        },
        {
         "data": [
          {
           "type": "scatter3d",
           "x": [
            59
           ],
           "y": [
            0.1969822583302897
           ],
           "z": [
            0.5000874830780232
           ]
          }
         ],
         "name": "frame59",
         "traces": [
          0
         ]
        },
        {
         "data": [
          {
           "type": "scatter3d",
           "x": [
            60
           ],
           "y": [
            0.6636697905660723
           ],
           "z": [
            0.578331975355909
           ]
          }
         ],
         "name": "frame60",
         "traces": [
          0
         ]
        },
        {
         "data": [
          {
           "type": "scatter3d",
           "x": [
            61
           ],
           "y": [
            0.08069028800916889
           ],
           "z": [
            0.5753878506971389
           ]
          }
         ],
         "name": "frame61",
         "traces": [
          0
         ]
        },
        {
         "data": [
          {
           "type": "scatter3d",
           "x": [
            62
           ],
           "y": [
            0.19158372263569812
           ],
           "z": [
            0.5070078004637812
           ]
          }
         ],
         "name": "frame62",
         "traces": [
          0
         ]
        },
        {
         "data": [
          {
           "type": "scatter3d",
           "x": [
            63
           ],
           "y": [
            0.798774195269825
           ],
           "z": [
            0.5741307585132528
           ]
          }
         ],
         "name": "frame63",
         "traces": [
          0
         ]
        },
        {
         "data": [
          {
           "type": "scatter3d",
           "x": [
            64
           ],
           "y": [
            0.11876782871557223
           ],
           "z": [
            0.35598478498044706
           ]
          }
         ],
         "name": "frame64",
         "traces": [
          0
         ]
        },
        {
         "data": [
          {
           "type": "scatter3d",
           "x": [
            65
           ],
           "y": [
            0.342996655775732
           ],
           "z": [
            0.4715294580214623
           ]
          }
         ],
         "name": "frame65",
         "traces": [
          0
         ]
        },
        {
         "data": [
          {
           "type": "scatter3d",
           "x": [
            66
           ],
           "y": [
            0.3850002349004945
           ],
           "z": [
            0.8207018893493211
           ]
          }
         ],
         "name": "frame66",
         "traces": [
          0
         ]
        },
        {
         "data": [
          {
           "type": "scatter3d",
           "x": [
            67
           ],
           "y": [
            0.7947003211220098
           ],
           "z": [
            0.9651893848439089
           ]
          }
         ],
         "name": "frame67",
         "traces": [
          0
         ]
        },
        {
         "data": [
          {
           "type": "scatter3d",
           "x": [
            68
           ],
           "y": [
            0.5787120501736088
           ],
           "z": [
            0.5105395816937316
           ]
          }
         ],
         "name": "frame68",
         "traces": [
          0
         ]
        },
        {
         "data": [
          {
           "type": "scatter3d",
           "x": [
            69
           ],
           "y": [
            0.02307315245004593
           ],
           "z": [
            0.7222391644092836
           ]
          }
         ],
         "name": "frame69",
         "traces": [
          0
         ]
        },
        {
         "data": [
          {
           "type": "scatter3d",
           "x": [
            70
           ],
           "y": [
            0.22134223532316222
           ],
           "z": [
            0.2808303995145498
           ]
          }
         ],
         "name": "frame70",
         "traces": [
          0
         ]
        },
        {
         "data": [
          {
           "type": "scatter3d",
           "x": [
            71
           ],
           "y": [
            0.39959488953964273
           ],
           "z": [
            0.9100492090521771
           ]
          }
         ],
         "name": "frame71",
         "traces": [
          0
         ]
        },
        {
         "data": [
          {
           "type": "scatter3d",
           "x": [
            72
           ],
           "y": [
            0.6037737687821737
           ],
           "z": [
            0.972105340353509
           ]
          }
         ],
         "name": "frame72",
         "traces": [
          0
         ]
        },
        {
         "data": [
          {
           "type": "scatter3d",
           "x": [
            73
           ],
           "y": [
            0.09816668730883926
           ],
           "z": [
            0.17950234667632115
           ]
          }
         ],
         "name": "frame73",
         "traces": [
          0
         ]
        },
        {
         "data": [
          {
           "type": "scatter3d",
           "x": [
            74
           ],
           "y": [
            0.03419530932272641
           ],
           "z": [
            0.9542497030098163
           ]
          }
         ],
         "name": "frame74",
         "traces": [
          0
         ]
        },
        {
         "data": [
          {
           "type": "scatter3d",
           "x": [
            75
           ],
           "y": [
            0.9616475998722759
           ],
           "z": [
            0.41726412467256435
           ]
          }
         ],
         "name": "frame75",
         "traces": [
          0
         ]
        },
        {
         "data": [
          {
           "type": "scatter3d",
           "x": [
            76
           ],
           "y": [
            0.2951717279783974
           ],
           "z": [
            0.28576812651707084
           ]
          }
         ],
         "name": "frame76",
         "traces": [
          0
         ]
        },
        {
         "data": [
          {
           "type": "scatter3d",
           "x": [
            77
           ],
           "y": [
            0.9168975263588384
           ],
           "z": [
            0.05665224822911907
           ]
          }
         ],
         "name": "frame77",
         "traces": [
          0
         ]
        },
        {
         "data": [
          {
           "type": "scatter3d",
           "x": [
            78
           ],
           "y": [
            0.510552640928887
           ],
           "z": [
            0.6167129097033182
           ]
          }
         ],
         "name": "frame78",
         "traces": [
          0
         ]
        },
        {
         "data": [
          {
           "type": "scatter3d",
           "x": [
            79
           ],
           "y": [
            0.14385773845192273
           ],
           "z": [
            0.0441877206010266
           ]
          }
         ],
         "name": "frame79",
         "traces": [
          0
         ]
        },
        {
         "data": [
          {
           "type": "scatter3d",
           "x": [
            80
           ],
           "y": [
            0.1414451937361384
           ],
           "z": [
            0.9913899366665723
           ]
          }
         ],
         "name": "frame80",
         "traces": [
          0
         ]
        },
        {
         "data": [
          {
           "type": "scatter3d",
           "x": [
            81
           ],
           "y": [
            0.9146690990666108
           ],
           "z": [
            0.5060612890178906
           ]
          }
         ],
         "name": "frame81",
         "traces": [
          0
         ]
        },
        {
         "data": [
          {
           "type": "scatter3d",
           "x": [
            82
           ],
           "y": [
            0.031103433970636418
           ],
           "z": [
            0.2863654308781314
           ]
          }
         ],
         "name": "frame82",
         "traces": [
          0
         ]
        },
        {
         "data": [
          {
           "type": "scatter3d",
           "x": [
            83
           ],
           "y": [
            0.16889120717012396
           ],
           "z": [
            0.17325218245670837
           ]
          }
         ],
         "name": "frame83",
         "traces": [
          0
         ]
        },
        {
         "data": [
          {
           "type": "scatter3d",
           "x": [
            84
           ],
           "y": [
            0.8766678568989706
           ],
           "z": [
            0.9557459294416891
           ]
          }
         ],
         "name": "frame84",
         "traces": [
          0
         ]
        },
        {
         "data": [
          {
           "type": "scatter3d",
           "x": [
            85
           ],
           "y": [
            0.4576463099155804
           ],
           "z": [
            0.5487789370817516
           ]
          }
         ],
         "name": "frame85",
         "traces": [
          0
         ]
        },
        {
         "data": [
          {
           "type": "scatter3d",
           "x": [
            86
           ],
           "y": [
            0.9341836293892056
           ],
           "z": [
            0.2305624577762473
           ]
          }
         ],
         "name": "frame86",
         "traces": [
          0
         ]
        },
        {
         "data": [
          {
           "type": "scatter3d",
           "x": [
            87
           ],
           "y": [
            0.15364640751814973
           ],
           "z": [
            0.569345511112672
           ]
          }
         ],
         "name": "frame87",
         "traces": [
          0
         ]
        },
        {
         "data": [
          {
           "type": "scatter3d",
           "x": [
            88
           ],
           "y": [
            0.7056472752895369
           ],
           "z": [
            0.7199741229847926
           ]
          }
         ],
         "name": "frame88",
         "traces": [
          0
         ]
        },
        {
         "data": [
          {
           "type": "scatter3d",
           "x": [
            89
           ],
           "y": [
            0.13075870069739137
           ],
           "z": [
            0.9757022200031147
           ]
          }
         ],
         "name": "frame89",
         "traces": [
          0
         ]
        },
        {
         "data": [
          {
           "type": "scatter3d",
           "x": [
            90
           ],
           "y": [
            0.7457537350523057
           ],
           "z": [
            0.810816526221277
           ]
          }
         ],
         "name": "frame90",
         "traces": [
          0
         ]
        },
        {
         "data": [
          {
           "type": "scatter3d",
           "x": [
            91
           ],
           "y": [
            0.45078882329705083
           ],
           "z": [
            0.10779281811165964
           ]
          }
         ],
         "name": "frame91",
         "traces": [
          0
         ]
        },
        {
         "data": [
          {
           "type": "scatter3d",
           "x": [
            92
           ],
           "y": [
            0.8749301733334893
           ],
           "z": [
            0.22927504716611224
           ]
          }
         ],
         "name": "frame92",
         "traces": [
          0
         ]
        },
        {
         "data": [
          {
           "type": "scatter3d",
           "x": [
            93
           ],
           "y": [
            0.7916712775450311
           ],
           "z": [
            0.35406766612756924
           ]
          }
         ],
         "name": "frame93",
         "traces": [
          0
         ]
        },
        {
         "data": [
          {
           "type": "scatter3d",
           "x": [
            94
           ],
           "y": [
            0.665155924397634
           ],
           "z": [
            0.41276027200662346
           ]
          }
         ],
         "name": "frame94",
         "traces": [
          0
         ]
        },
        {
         "data": [
          {
           "type": "scatter3d",
           "x": [
            95
           ],
           "y": [
            0.7017037679266581
           ],
           "z": [
            0.4100421817345127
           ]
          }
         ],
         "name": "frame95",
         "traces": [
          0
         ]
        },
        {
         "data": [
          {
           "type": "scatter3d",
           "x": [
            96
           ],
           "y": [
            0.008786526185471377
           ],
           "z": [
            0.49278445690980655
           ]
          }
         ],
         "name": "frame96",
         "traces": [
          0
         ]
        },
        {
         "data": [
          {
           "type": "scatter3d",
           "x": [
            97
           ],
           "y": [
            0.191911363449342
           ],
           "z": [
            0.8153482349203821
           ]
          }
         ],
         "name": "frame97",
         "traces": [
          0
         ]
        },
        {
         "data": [
          {
           "type": "scatter3d",
           "x": [
            98
           ],
           "y": [
            0.0922166499391911
           ],
           "z": [
            0.8051097080348172
           ]
          }
         ],
         "name": "frame98",
         "traces": [
          0
         ]
        },
        {
         "data": [
          {
           "type": "scatter3d",
           "x": [
            99
           ],
           "y": [
            0.20014169244227697
           ],
           "z": [
            0.38098029664757005
           ]
          }
         ],
         "name": "frame99",
         "traces": [
          0
         ]
        }
       ],
       "layout": {
        "scene": {
         "xaxis": {
          "autorange": false,
          "range": [
           0,
           99
          ]
         },
         "yaxis": {
          "autorange": false,
          "range": [
           0.008786526185471377,
           0.9976352406404119
          ]
         },
         "zaxis": {
          "autorange": false,
          "range": [
           0.009200191913154798,
           0.9913899366665723
          ]
         }
        },
        "template": {
         "data": {
          "bar": [
           {
            "error_x": {
             "color": "#2a3f5f"
            },
            "error_y": {
             "color": "#2a3f5f"
            },
            "marker": {
             "line": {
              "color": "#E5ECF6",
              "width": 0.5
             },
             "pattern": {
              "fillmode": "overlay",
              "size": 10,
              "solidity": 0.2
             }
            },
            "type": "bar"
           }
          ],
          "barpolar": [
           {
            "marker": {
             "line": {
              "color": "#E5ECF6",
              "width": 0.5
             },
             "pattern": {
              "fillmode": "overlay",
              "size": 10,
              "solidity": 0.2
             }
            },
            "type": "barpolar"
           }
          ],
          "carpet": [
           {
            "aaxis": {
             "endlinecolor": "#2a3f5f",
             "gridcolor": "white",
             "linecolor": "white",
             "minorgridcolor": "white",
             "startlinecolor": "#2a3f5f"
            },
            "baxis": {
             "endlinecolor": "#2a3f5f",
             "gridcolor": "white",
             "linecolor": "white",
             "minorgridcolor": "white",
             "startlinecolor": "#2a3f5f"
            },
            "type": "carpet"
           }
          ],
          "choropleth": [
           {
            "colorbar": {
             "outlinewidth": 0,
             "ticks": ""
            },
            "type": "choropleth"
           }
          ],
          "contour": [
           {
            "colorbar": {
             "outlinewidth": 0,
             "ticks": ""
            },
            "colorscale": [
             [
              0,
              "#0d0887"
             ],
             [
              0.1111111111111111,
              "#46039f"
             ],
             [
              0.2222222222222222,
              "#7201a8"
             ],
             [
              0.3333333333333333,
              "#9c179e"
             ],
             [
              0.4444444444444444,
              "#bd3786"
             ],
             [
              0.5555555555555556,
              "#d8576b"
             ],
             [
              0.6666666666666666,
              "#ed7953"
             ],
             [
              0.7777777777777778,
              "#fb9f3a"
             ],
             [
              0.8888888888888888,
              "#fdca26"
             ],
             [
              1,
              "#f0f921"
             ]
            ],
            "type": "contour"
           }
          ],
          "contourcarpet": [
           {
            "colorbar": {
             "outlinewidth": 0,
             "ticks": ""
            },
            "type": "contourcarpet"
           }
          ],
          "heatmap": [
           {
            "colorbar": {
             "outlinewidth": 0,
             "ticks": ""
            },
            "colorscale": [
             [
              0,
              "#0d0887"
             ],
             [
              0.1111111111111111,
              "#46039f"
             ],
             [
              0.2222222222222222,
              "#7201a8"
             ],
             [
              0.3333333333333333,
              "#9c179e"
             ],
             [
              0.4444444444444444,
              "#bd3786"
             ],
             [
              0.5555555555555556,
              "#d8576b"
             ],
             [
              0.6666666666666666,
              "#ed7953"
             ],
             [
              0.7777777777777778,
              "#fb9f3a"
             ],
             [
              0.8888888888888888,
              "#fdca26"
             ],
             [
              1,
              "#f0f921"
             ]
            ],
            "type": "heatmap"
           }
          ],
          "heatmapgl": [
           {
            "colorbar": {
             "outlinewidth": 0,
             "ticks": ""
            },
            "colorscale": [
             [
              0,
              "#0d0887"
             ],
             [
              0.1111111111111111,
              "#46039f"
             ],
             [
              0.2222222222222222,
              "#7201a8"
             ],
             [
              0.3333333333333333,
              "#9c179e"
             ],
             [
              0.4444444444444444,
              "#bd3786"
             ],
             [
              0.5555555555555556,
              "#d8576b"
             ],
             [
              0.6666666666666666,
              "#ed7953"
             ],
             [
              0.7777777777777778,
              "#fb9f3a"
             ],
             [
              0.8888888888888888,
              "#fdca26"
             ],
             [
              1,
              "#f0f921"
             ]
            ],
            "type": "heatmapgl"
           }
          ],
          "histogram": [
           {
            "marker": {
             "pattern": {
              "fillmode": "overlay",
              "size": 10,
              "solidity": 0.2
             }
            },
            "type": "histogram"
           }
          ],
          "histogram2d": [
           {
            "colorbar": {
             "outlinewidth": 0,
             "ticks": ""
            },
            "colorscale": [
             [
              0,
              "#0d0887"
             ],
             [
              0.1111111111111111,
              "#46039f"
             ],
             [
              0.2222222222222222,
              "#7201a8"
             ],
             [
              0.3333333333333333,
              "#9c179e"
             ],
             [
              0.4444444444444444,
              "#bd3786"
             ],
             [
              0.5555555555555556,
              "#d8576b"
             ],
             [
              0.6666666666666666,
              "#ed7953"
             ],
             [
              0.7777777777777778,
              "#fb9f3a"
             ],
             [
              0.8888888888888888,
              "#fdca26"
             ],
             [
              1,
              "#f0f921"
             ]
            ],
            "type": "histogram2d"
           }
          ],
          "histogram2dcontour": [
           {
            "colorbar": {
             "outlinewidth": 0,
             "ticks": ""
            },
            "colorscale": [
             [
              0,
              "#0d0887"
             ],
             [
              0.1111111111111111,
              "#46039f"
             ],
             [
              0.2222222222222222,
              "#7201a8"
             ],
             [
              0.3333333333333333,
              "#9c179e"
             ],
             [
              0.4444444444444444,
              "#bd3786"
             ],
             [
              0.5555555555555556,
              "#d8576b"
             ],
             [
              0.6666666666666666,
              "#ed7953"
             ],
             [
              0.7777777777777778,
              "#fb9f3a"
             ],
             [
              0.8888888888888888,
              "#fdca26"
             ],
             [
              1,
              "#f0f921"
             ]
            ],
            "type": "histogram2dcontour"
           }
          ],
          "mesh3d": [
           {
            "colorbar": {
             "outlinewidth": 0,
             "ticks": ""
            },
            "type": "mesh3d"
           }
          ],
          "parcoords": [
           {
            "line": {
             "colorbar": {
              "outlinewidth": 0,
              "ticks": ""
             }
            },
            "type": "parcoords"
           }
          ],
          "pie": [
           {
            "automargin": true,
            "type": "pie"
           }
          ],
          "scatter": [
           {
            "fillpattern": {
             "fillmode": "overlay",
             "size": 10,
             "solidity": 0.2
            },
            "type": "scatter"
           }
          ],
          "scatter3d": [
           {
            "line": {
             "colorbar": {
              "outlinewidth": 0,
              "ticks": ""
             }
            },
            "marker": {
             "colorbar": {
              "outlinewidth": 0,
              "ticks": ""
             }
            },
            "type": "scatter3d"
           }
          ],
          "scattercarpet": [
           {
            "marker": {
             "colorbar": {
              "outlinewidth": 0,
              "ticks": ""
             }
            },
            "type": "scattercarpet"
           }
          ],
          "scattergeo": [
           {
            "marker": {
             "colorbar": {
              "outlinewidth": 0,
              "ticks": ""
             }
            },
            "type": "scattergeo"
           }
          ],
          "scattergl": [
           {
            "marker": {
             "colorbar": {
              "outlinewidth": 0,
              "ticks": ""
             }
            },
            "type": "scattergl"
           }
          ],
          "scattermapbox": [
           {
            "marker": {
             "colorbar": {
              "outlinewidth": 0,
              "ticks": ""
             }
            },
            "type": "scattermapbox"
           }
          ],
          "scatterpolar": [
           {
            "marker": {
             "colorbar": {
              "outlinewidth": 0,
              "ticks": ""
             }
            },
            "type": "scatterpolar"
           }
          ],
          "scatterpolargl": [
           {
            "marker": {
             "colorbar": {
              "outlinewidth": 0,
              "ticks": ""
             }
            },
            "type": "scatterpolargl"
           }
          ],
          "scatterternary": [
           {
            "marker": {
             "colorbar": {
              "outlinewidth": 0,
              "ticks": ""
             }
            },
            "type": "scatterternary"
           }
          ],
          "surface": [
           {
            "colorbar": {
             "outlinewidth": 0,
             "ticks": ""
            },
            "colorscale": [
             [
              0,
              "#0d0887"
             ],
             [
              0.1111111111111111,
              "#46039f"
             ],
             [
              0.2222222222222222,
              "#7201a8"
             ],
             [
              0.3333333333333333,
              "#9c179e"
             ],
             [
              0.4444444444444444,
              "#bd3786"
             ],
             [
              0.5555555555555556,
              "#d8576b"
             ],
             [
              0.6666666666666666,
              "#ed7953"
             ],
             [
              0.7777777777777778,
              "#fb9f3a"
             ],
             [
              0.8888888888888888,
              "#fdca26"
             ],
             [
              1,
              "#f0f921"
             ]
            ],
            "type": "surface"
           }
          ],
          "table": [
           {
            "cells": {
             "fill": {
              "color": "#EBF0F8"
             },
             "line": {
              "color": "white"
             }
            },
            "header": {
             "fill": {
              "color": "#C8D4E3"
             },
             "line": {
              "color": "white"
             }
            },
            "type": "table"
           }
          ]
         },
         "layout": {
          "annotationdefaults": {
           "arrowcolor": "#2a3f5f",
           "arrowhead": 0,
           "arrowwidth": 1
          },
          "autotypenumbers": "strict",
          "coloraxis": {
           "colorbar": {
            "outlinewidth": 0,
            "ticks": ""
           }
          },
          "colorscale": {
           "diverging": [
            [
             0,
             "#8e0152"
            ],
            [
             0.1,
             "#c51b7d"
            ],
            [
             0.2,
             "#de77ae"
            ],
            [
             0.3,
             "#f1b6da"
            ],
            [
             0.4,
             "#fde0ef"
            ],
            [
             0.5,
             "#f7f7f7"
            ],
            [
             0.6,
             "#e6f5d0"
            ],
            [
             0.7,
             "#b8e186"
            ],
            [
             0.8,
             "#7fbc41"
            ],
            [
             0.9,
             "#4d9221"
            ],
            [
             1,
             "#276419"
            ]
           ],
           "sequential": [
            [
             0,
             "#0d0887"
            ],
            [
             0.1111111111111111,
             "#46039f"
            ],
            [
             0.2222222222222222,
             "#7201a8"
            ],
            [
             0.3333333333333333,
             "#9c179e"
            ],
            [
             0.4444444444444444,
             "#bd3786"
            ],
            [
             0.5555555555555556,
             "#d8576b"
            ],
            [
             0.6666666666666666,
             "#ed7953"
            ],
            [
             0.7777777777777778,
             "#fb9f3a"
            ],
            [
             0.8888888888888888,
             "#fdca26"
            ],
            [
             1,
             "#f0f921"
            ]
           ],
           "sequentialminus": [
            [
             0,
             "#0d0887"
            ],
            [
             0.1111111111111111,
             "#46039f"
            ],
            [
             0.2222222222222222,
             "#7201a8"
            ],
            [
             0.3333333333333333,
             "#9c179e"
            ],
            [
             0.4444444444444444,
             "#bd3786"
            ],
            [
             0.5555555555555556,
             "#d8576b"
            ],
            [
             0.6666666666666666,
             "#ed7953"
            ],
            [
             0.7777777777777778,
             "#fb9f3a"
            ],
            [
             0.8888888888888888,
             "#fdca26"
            ],
            [
             1,
             "#f0f921"
            ]
           ]
          },
          "colorway": [
           "#636efa",
           "#EF553B",
           "#00cc96",
           "#ab63fa",
           "#FFA15A",
           "#19d3f3",
           "#FF6692",
           "#B6E880",
           "#FF97FF",
           "#FECB52"
          ],
          "font": {
           "color": "#2a3f5f"
          },
          "geo": {
           "bgcolor": "white",
           "lakecolor": "white",
           "landcolor": "#E5ECF6",
           "showlakes": true,
           "showland": true,
           "subunitcolor": "white"
          },
          "hoverlabel": {
           "align": "left"
          },
          "hovermode": "closest",
          "mapbox": {
           "style": "light"
          },
          "paper_bgcolor": "white",
          "plot_bgcolor": "#E5ECF6",
          "polar": {
           "angularaxis": {
            "gridcolor": "white",
            "linecolor": "white",
            "ticks": ""
           },
           "bgcolor": "#E5ECF6",
           "radialaxis": {
            "gridcolor": "white",
            "linecolor": "white",
            "ticks": ""
           }
          },
          "scene": {
           "xaxis": {
            "backgroundcolor": "#E5ECF6",
            "gridcolor": "white",
            "gridwidth": 2,
            "linecolor": "white",
            "showbackground": true,
            "ticks": "",
            "zerolinecolor": "white"
           },
           "yaxis": {
            "backgroundcolor": "#E5ECF6",
            "gridcolor": "white",
            "gridwidth": 2,
            "linecolor": "white",
            "showbackground": true,
            "ticks": "",
            "zerolinecolor": "white"
           },
           "zaxis": {
            "backgroundcolor": "#E5ECF6",
            "gridcolor": "white",
            "gridwidth": 2,
            "linecolor": "white",
            "showbackground": true,
            "ticks": "",
            "zerolinecolor": "white"
           }
          },
          "shapedefaults": {
           "line": {
            "color": "#2a3f5f"
           }
          },
          "ternary": {
           "aaxis": {
            "gridcolor": "white",
            "linecolor": "white",
            "ticks": ""
           },
           "baxis": {
            "gridcolor": "white",
            "linecolor": "white",
            "ticks": ""
           },
           "bgcolor": "#E5ECF6",
           "caxis": {
            "gridcolor": "white",
            "linecolor": "white",
            "ticks": ""
           }
          },
          "title": {
           "x": 0.05
          },
          "xaxis": {
           "automargin": true,
           "gridcolor": "white",
           "linecolor": "white",
           "ticks": "",
           "title": {
            "standoff": 15
           },
           "zerolinecolor": "white",
           "zerolinewidth": 2
          },
          "yaxis": {
           "automargin": true,
           "gridcolor": "white",
           "linecolor": "white",
           "ticks": "",
           "title": {
            "standoff": 15
           },
           "zerolinecolor": "white",
           "zerolinewidth": 2
          }
         }
        },
        "updatemenus": [
         {
          "buttons": [
           {
            "args": [
             null,
             {
              "frame": {
               "fromcurrent": true,
               "mode": "immediate",
               "redraw": true
              }
             }
            ],
            "label": "Play",
            "method": "animate"
           }
          ],
          "type": "buttons"
         }
        ]
       }
      }
     },
     "metadata": {},
     "output_type": "display_data"
    }
   ],
   "source": [
    "import numpy as np\n",
    "import plotly.graph_objects as go\n",
    "\n",
    "#x,y,z = np.genfromtxt(r'dat.txt', unpack=True)\n",
    "x = np.arange(100)\n",
    "y = np.random.random(100)\n",
    "z = np.random.random(100)\n",
    "\n",
    "# Create figure\n",
    "fig = go.Figure(\n",
    "    data=[go.Scatter3d(x=[], y=[], z=[],\n",
    "                     mode=\"markers\",marker=dict(color=\"red\", size=10))])\n",
    "    \n",
    "fig.update_layout(    \n",
    "    scene = dict(\n",
    "        \n",
    "        xaxis=dict(range=[min(x), max(x)], autorange=False),\n",
    "        yaxis=dict(range=[min(y), max(y)], autorange=False),\n",
    "        zaxis=dict(range=[min(z), max(z)], autorange=False),\n",
    "        )),\n",
    "\n",
    "\n",
    "frames = [go.Frame(data= [go.Scatter3d(\n",
    "                                       x=x[[k]], \n",
    "                                       y=y[[k]],\n",
    "                                       z=z[[k]])],\n",
    "                   \n",
    "                   traces= [0],\n",
    "                   name=f'frame{k}'      \n",
    "                  )for k  in  range(len(x))]\n",
    "fig.update(frames=frames),\n",
    "\n",
    "\n",
    "\n",
    "\n",
    "fig.update_layout(updatemenus=[dict(type=\"buttons\",\n",
    "                          buttons=[dict(label=\"Play\",\n",
    "                                        method=\"animate\",\n",
    "                                        args=[None, dict(frame=dict(redraw=True,fromcurrent=True, mode='immediate'))      ])])])\n",
    "\n",
    "\n",
    "fig.show()\n"
   ]
  },
  {
   "cell_type": "code",
   "execution_count": 12,
   "metadata": {},
   "outputs": [],
   "source": [
    "import pandas as pd\n",
    "import io\n",
    "import os\n",
    "import glob\n",
    "from dataclasses import dataclass\n",
    "import matplotlib.pyplot as plt\n",
    "import numpy as np\n",
    "\n",
    "\n",
    "@dataclass\n",
    "class MocapLowerLandmark :\n",
    "    LANK: np.ndarray = None # 0\n",
    "    LASI: np.ndarray = None # 1\n",
    "    LHEE: np.ndarray = None # 2\n",
    "    LKNE: np.ndarray = None # 3\n",
    "    LPSI: np.ndarray = None # 4\n",
    "    LTHI: np.ndarray = None # 5\n",
    "    LTIB: np.ndarray = None # 6\n",
    "    LTOE: np.ndarray = None # 7\n",
    "    RANK: np.ndarray = None # 8\n",
    "    RASI: np.ndarray = None # 9\n",
    "    RHEE: np.ndarray = None # 10\n",
    "    RKNE: np.ndarray = None # 11\n",
    "    RPSI: np.ndarray = None # 12\n",
    "    RTHI: np.ndarray = None # 13\n",
    "    RTIB: np.ndarray = None # 14\n",
    "    RTOE: np.ndarray = None # 15\n",
    "    \n",
    "    CONN_PATH_LIST = [\n",
    "         7,  2,  0,  3,  1,  4, \n",
    "        12,  9, 11,  8, 10, 15\n",
    "    ]\n",
    "\n",
    "    @staticmethod\n",
    "    def calcKneeDegrees(mocap_df, idx = 0) :\n",
    "        raw_val = mocap_df.loc[:, ~mocap_df.columns.isin([\"Frame\", \"Time (Seconds)\"]) ].to_numpy()\n",
    "        raw_val = raw_val[idx].reshape(16, 3)\n",
    "\n",
    "        rthai = raw_val[9] - raw_val[11]\n",
    "        rcalf = raw_val[8] - raw_val[11]\n",
    "\n",
    "        lthai = raw_val[1] - raw_val[3]\n",
    "        lcalf = raw_val[0] - raw_val[3]\n",
    "\n",
    "        rthai_unit = rthai / np.linalg.norm(rthai)\n",
    "        rcalf_unit = rcalf / np.linalg.norm(rcalf)\n",
    "\n",
    "        lthai_unit = lthai / np.linalg.norm(lthai)\n",
    "        lcalf_unit = lcalf / np.linalg.norm(lcalf)\n",
    "\n",
    "        rangle = np.arccos(np.dot(rthai_unit, rcalf_unit))\n",
    "        langle = np.arccos(np.dot(lthai_unit, lcalf_unit))\n",
    "\n",
    "        return langle, rangle\n",
    "\n",
    "    @staticmethod\n",
    "    def df2landmark(mocap_df, idx = 0) :\n",
    "        raw_val = mocap_df.loc[:, ~mocap_df.columns.isin([\"Frame\", \"Time (Seconds)\"]) ].to_numpy()\n",
    "        return raw_val[idx].reshape(16, 3)\n",
    "\n",
    "\n",
    "def read_whole_data(trial_idx, experiment_idx) :\n",
    "    FORCE_PLATE_1_PATH = f\"/Volumes/HJP/CODES/mocap/data/d1/230626_Group7_trial{trial_idx}_{experiment_idx:03}_forceplate_1.csv\"\n",
    "    FORCE_PLATE_2_PATH = f\"/Volumes/HJP/CODES/mocap/data/d1/230626_Group7_trial{trial_idx}_{experiment_idx:03}_forceplate_2.csv\"\n",
    "    MOCAP_PATH = f\"/Volumes/HJP/CODES/mocap/data/d1/230626_Group7_trial{trial_idx}_{experiment_idx:03}.csv\"\n",
    "    EMG_PATH = f\"/Volumes/HJP/CODES/mocap/data/d1/230626_Group7_trial{trial_idx}_{experiment_idx:03}_Trigno_2883.csv\"\n",
    "\n",
    "    \n",
    "    with open(FORCE_PLATE_1_PATH, \"r\") as fp :\n",
    "        lines = fp.readlines()\n",
    "    raw_text = \"\".join(lines)\n",
    "    table = raw_text.split(\"\\n\\n\")[-1]\n",
    "    fp1_df = pd.read_csv(io.StringIO(table))\n",
    "\n",
    "    with open(FORCE_PLATE_2_PATH, \"r\") as fp :\n",
    "        lines = fp.readlines()\n",
    "    raw_text = \"\".join(lines)\n",
    "    table = raw_text.split(\"\\n\\n\")[-1]\n",
    "    fp2_df = pd.read_csv(io.StringIO(table))\n",
    "\n",
    "    with open(EMG_PATH, \"r\") as fp :\n",
    "        lines = fp.readlines()\n",
    "    raw_text = \"\".join(lines)\n",
    "    table = raw_text.split(\"\\n\\n\")[-1]\n",
    "    emg_df = pd.read_csv(io.StringIO(table))\n",
    "\n",
    "    with open(MOCAP_PATH, \"r\") as fp :\n",
    "        lines = fp.readlines()\n",
    "    mocap_df = pd.read_csv(io.StringIO( ''.join(lines[6:]) ))\n",
    "    \n",
    "    return mocap_df, emg_df, fp1_df, fp2_df\n",
    "\n",
    "mocap_df, emg_df, fp1_df, fp2_df = read_whole_data(2, 1)"
   ]
  },
  {
   "cell_type": "code",
   "execution_count": 81,
   "metadata": {},
   "outputs": [
    {
     "data": {
      "application/vnd.plotly.v1+json": {
       "config": {
        "plotlyServerURL": "https://plot.ly"
       },
       "data": [
        {
         "marker": {
          "color": "red",
          "size": 10
         },
         "mode": "markers",
         "type": "scatter3d",
         "x": [],
         "y": [],
         "z": []
        }
       ],
       "frames": [
        {
         "data": [
          {
           "type": "scatter3d",
           "x": [
            0
           ],
           "y": [
            0.6340764398697226
           ],
           "z": [
            0.2812225392781358
           ]
          }
         ],
         "name": "frame0",
         "traces": [
          0
         ]
        },
        {
         "data": [
          {
           "type": "scatter3d",
           "x": [
            1
           ],
           "y": [
            0.5428024982506737
           ],
           "z": [
            0.29199238386470805
           ]
          }
         ],
         "name": "frame1",
         "traces": [
          0
         ]
        },
        {
         "data": [
          {
           "type": "scatter3d",
           "x": [
            2
           ],
           "y": [
            0.8401892952264101
           ],
           "z": [
            0.9822293448974211
           ]
          }
         ],
         "name": "frame2",
         "traces": [
          0
         ]
        },
        {
         "data": [
          {
           "type": "scatter3d",
           "x": [
            3
           ],
           "y": [
            0.47039741364336585
           ],
           "z": [
            0.017380185196786635
           ]
          }
         ],
         "name": "frame3",
         "traces": [
          0
         ]
        },
        {
         "data": [
          {
           "type": "scatter3d",
           "x": [
            4
           ],
           "y": [
            0.3145329941786006
           ],
           "z": [
            0.07318268734171318
           ]
          }
         ],
         "name": "frame4",
         "traces": [
          0
         ]
        },
        {
         "data": [
          {
           "type": "scatter3d",
           "x": [
            5
           ],
           "y": [
            0.8350759556790868
           ],
           "z": [
            0.6602309682091068
           ]
          }
         ],
         "name": "frame5",
         "traces": [
          0
         ]
        },
        {
         "data": [
          {
           "type": "scatter3d",
           "x": [
            6
           ],
           "y": [
            0.2776806046088941
           ],
           "z": [
            0.36286739366813003
           ]
          }
         ],
         "name": "frame6",
         "traces": [
          0
         ]
        },
        {
         "data": [
          {
           "type": "scatter3d",
           "x": [
            7
           ],
           "y": [
            0.08909385110995172
           ],
           "z": [
            0.3658954622230136
           ]
          }
         ],
         "name": "frame7",
         "traces": [
          0
         ]
        },
        {
         "data": [
          {
           "type": "scatter3d",
           "x": [
            8
           ],
           "y": [
            0.6199003053268621
           ],
           "z": [
            0.5876684885417551
           ]
          }
         ],
         "name": "frame8",
         "traces": [
          0
         ]
        },
        {
         "data": [
          {
           "type": "scatter3d",
           "x": [
            9
           ],
           "y": [
            0.4543082548151425
           ],
           "z": [
            0.5903656600840356
           ]
          }
         ],
         "name": "frame9",
         "traces": [
          0
         ]
        },
        {
         "data": [
          {
           "type": "scatter3d",
           "x": [
            10
           ],
           "y": [
            0.42851472473461827
           ],
           "z": [
            0.6509472060887738
           ]
          }
         ],
         "name": "frame10",
         "traces": [
          0
         ]
        },
        {
         "data": [
          {
           "type": "scatter3d",
           "x": [
            11
           ],
           "y": [
            0.37015029022189916
           ],
           "z": [
            0.1822297966320945
           ]
          }
         ],
         "name": "frame11",
         "traces": [
          0
         ]
        },
        {
         "data": [
          {
           "type": "scatter3d",
           "x": [
            12
           ],
           "y": [
            0.7931066281723838
           ],
           "z": [
            0.8395047203423817
           ]
          }
         ],
         "name": "frame12",
         "traces": [
          0
         ]
        },
        {
         "data": [
          {
           "type": "scatter3d",
           "x": [
            13
           ],
           "y": [
            0.1524866224481578
           ],
           "z": [
            0.9758418883731323
           ]
          }
         ],
         "name": "frame13",
         "traces": [
          0
         ]
        },
        {
         "data": [
          {
           "type": "scatter3d",
           "x": [
            14
           ],
           "y": [
            0.32763794702274285
           ],
           "z": [
            0.26533115441920285
           ]
          }
         ],
         "name": "frame14",
         "traces": [
          0
         ]
        },
        {
         "data": [
          {
           "type": "scatter3d",
           "x": [
            15
           ],
           "y": [
            0.2019141001627751
           ],
           "z": [
            0.8781695879642268
           ]
          }
         ],
         "name": "frame15",
         "traces": [
          0
         ]
        },
        {
         "data": [
          {
           "type": "scatter3d",
           "x": [
            16
           ],
           "y": [
            0.7929456006679968
           ],
           "z": [
            0.07362131134434646
           ]
          }
         ],
         "name": "frame16",
         "traces": [
          0
         ]
        },
        {
         "data": [
          {
           "type": "scatter3d",
           "x": [
            17
           ],
           "y": [
            0.5951649288307708
           ],
           "z": [
            0.6875214244017285
           ]
          }
         ],
         "name": "frame17",
         "traces": [
          0
         ]
        },
        {
         "data": [
          {
           "type": "scatter3d",
           "x": [
            18
           ],
           "y": [
            0.9937579605639547
           ],
           "z": [
            0.4909545039983858
           ]
          }
         ],
         "name": "frame18",
         "traces": [
          0
         ]
        },
        {
         "data": [
          {
           "type": "scatter3d",
           "x": [
            19
           ],
           "y": [
            0.5770742074262286
           ],
           "z": [
            0.4255398398317175
           ]
          }
         ],
         "name": "frame19",
         "traces": [
          0
         ]
        },
        {
         "data": [
          {
           "type": "scatter3d",
           "x": [
            20
           ],
           "y": [
            0.04559978154366473
           ],
           "z": [
            0.688199240187741
           ]
          }
         ],
         "name": "frame20",
         "traces": [
          0
         ]
        },
        {
         "data": [
          {
           "type": "scatter3d",
           "x": [
            21
           ],
           "y": [
            0.19599250929944145
           ],
           "z": [
            0.26167190956657926
           ]
          }
         ],
         "name": "frame21",
         "traces": [
          0
         ]
        },
        {
         "data": [
          {
           "type": "scatter3d",
           "x": [
            22
           ],
           "y": [
            0.9751531672591589
           ],
           "z": [
            0.11046999873240493
           ]
          }
         ],
         "name": "frame22",
         "traces": [
          0
         ]
        },
        {
         "data": [
          {
           "type": "scatter3d",
           "x": [
            23
           ],
           "y": [
            0.5630791223485251
           ],
           "z": [
            0.5573061450619606
           ]
          }
         ],
         "name": "frame23",
         "traces": [
          0
         ]
        },
        {
         "data": [
          {
           "type": "scatter3d",
           "x": [
            24
           ],
           "y": [
            0.7948742774364055
           ],
           "z": [
            0.9576523328596149
           ]
          }
         ],
         "name": "frame24",
         "traces": [
          0
         ]
        },
        {
         "data": [
          {
           "type": "scatter3d",
           "x": [
            25
           ],
           "y": [
            0.28278006515320875
           ],
           "z": [
            0.3727286788840468
           ]
          }
         ],
         "name": "frame25",
         "traces": [
          0
         ]
        },
        {
         "data": [
          {
           "type": "scatter3d",
           "x": [
            26
           ],
           "y": [
            0.5161880211625045
           ],
           "z": [
            0.024613852396864977
           ]
          }
         ],
         "name": "frame26",
         "traces": [
          0
         ]
        },
        {
         "data": [
          {
           "type": "scatter3d",
           "x": [
            27
           ],
           "y": [
            0.9706806533559773
           ],
           "z": [
            0.37203255525093015
           ]
          }
         ],
         "name": "frame27",
         "traces": [
          0
         ]
        },
        {
         "data": [
          {
           "type": "scatter3d",
           "x": [
            28
           ],
           "y": [
            0.7973569889312233
           ],
           "z": [
            0.4912815725626932
           ]
          }
         ],
         "name": "frame28",
         "traces": [
          0
         ]
        },
        {
         "data": [
          {
           "type": "scatter3d",
           "x": [
            29
           ],
           "y": [
            0.3032708551834439
           ],
           "z": [
            0.2448253018982791
           ]
          }
         ],
         "name": "frame29",
         "traces": [
          0
         ]
        },
        {
         "data": [
          {
           "type": "scatter3d",
           "x": [
            30
           ],
           "y": [
            0.2641700342125284
           ],
           "z": [
            0.02268773812657887
           ]
          }
         ],
         "name": "frame30",
         "traces": [
          0
         ]
        },
        {
         "data": [
          {
           "type": "scatter3d",
           "x": [
            31
           ],
           "y": [
            0.675900728537019
           ],
           "z": [
            0.303240695355838
           ]
          }
         ],
         "name": "frame31",
         "traces": [
          0
         ]
        },
        {
         "data": [
          {
           "type": "scatter3d",
           "x": [
            32
           ],
           "y": [
            0.2899679615185461
           ],
           "z": [
            0.8273881180023192
           ]
          }
         ],
         "name": "frame32",
         "traces": [
          0
         ]
        },
        {
         "data": [
          {
           "type": "scatter3d",
           "x": [
            33
           ],
           "y": [
            0.9471320003887477
           ],
           "z": [
            0.9513855872154378
           ]
          }
         ],
         "name": "frame33",
         "traces": [
          0
         ]
        },
        {
         "data": [
          {
           "type": "scatter3d",
           "x": [
            34
           ],
           "y": [
            0.6362764802577593
           ],
           "z": [
            0.9480150433310361
           ]
          }
         ],
         "name": "frame34",
         "traces": [
          0
         ]
        },
        {
         "data": [
          {
           "type": "scatter3d",
           "x": [
            35
           ],
           "y": [
            0.20894280215999117
           ],
           "z": [
            0.9136743082023469
           ]
          }
         ],
         "name": "frame35",
         "traces": [
          0
         ]
        },
        {
         "data": [
          {
           "type": "scatter3d",
           "x": [
            36
           ],
           "y": [
            0.8225570861368706
           ],
           "z": [
            0.10238523483979511
           ]
          }
         ],
         "name": "frame36",
         "traces": [
          0
         ]
        },
        {
         "data": [
          {
           "type": "scatter3d",
           "x": [
            37
           ],
           "y": [
            0.012249903609159896
           ],
           "z": [
            0.9018023686644423
           ]
          }
         ],
         "name": "frame37",
         "traces": [
          0
         ]
        },
        {
         "data": [
          {
           "type": "scatter3d",
           "x": [
            38
           ],
           "y": [
            0.843230228996628
           ],
           "z": [
            0.9502586678359135
           ]
          }
         ],
         "name": "frame38",
         "traces": [
          0
         ]
        },
        {
         "data": [
          {
           "type": "scatter3d",
           "x": [
            39
           ],
           "y": [
            0.9831534139436926
           ],
           "z": [
            0.7171173160533952
           ]
          }
         ],
         "name": "frame39",
         "traces": [
          0
         ]
        },
        {
         "data": [
          {
           "type": "scatter3d",
           "x": [
            40
           ],
           "y": [
            0.4804655424099985
           ],
           "z": [
            0.6671805072892129
           ]
          }
         ],
         "name": "frame40",
         "traces": [
          0
         ]
        },
        {
         "data": [
          {
           "type": "scatter3d",
           "x": [
            41
           ],
           "y": [
            0.5616778617186383
           ],
           "z": [
            0.5212148762226394
           ]
          }
         ],
         "name": "frame41",
         "traces": [
          0
         ]
        },
        {
         "data": [
          {
           "type": "scatter3d",
           "x": [
            42
           ],
           "y": [
            0.6049555545865724
           ],
           "z": [
            0.11789689079533583
           ]
          }
         ],
         "name": "frame42",
         "traces": [
          0
         ]
        },
        {
         "data": [
          {
           "type": "scatter3d",
           "x": [
            43
           ],
           "y": [
            0.15780503054439077
           ],
           "z": [
            0.6157880877869925
           ]
          }
         ],
         "name": "frame43",
         "traces": [
          0
         ]
        },
        {
         "data": [
          {
           "type": "scatter3d",
           "x": [
            44
           ],
           "y": [
            0.08492466811858823
           ],
           "z": [
            0.2869064735087401
           ]
          }
         ],
         "name": "frame44",
         "traces": [
          0
         ]
        },
        {
         "data": [
          {
           "type": "scatter3d",
           "x": [
            45
           ],
           "y": [
            0.7882887630316452
           ],
           "z": [
            0.32346211342775955
           ]
          }
         ],
         "name": "frame45",
         "traces": [
          0
         ]
        },
        {
         "data": [
          {
           "type": "scatter3d",
           "x": [
            46
           ],
           "y": [
            0.8317298301141327
           ],
           "z": [
            0.8643799118578962
           ]
          }
         ],
         "name": "frame46",
         "traces": [
          0
         ]
        },
        {
         "data": [
          {
           "type": "scatter3d",
           "x": [
            47
           ],
           "y": [
            0.503430487736064
           ],
           "z": [
            0.8286836255807366
           ]
          }
         ],
         "name": "frame47",
         "traces": [
          0
         ]
        },
        {
         "data": [
          {
           "type": "scatter3d",
           "x": [
            48
           ],
           "y": [
            0.09947607675433978
           ],
           "z": [
            0.6308098664599311
           ]
          }
         ],
         "name": "frame48",
         "traces": [
          0
         ]
        },
        {
         "data": [
          {
           "type": "scatter3d",
           "x": [
            49
           ],
           "y": [
            0.9777074012295154
           ],
           "z": [
            0.9546421545029722
           ]
          }
         ],
         "name": "frame49",
         "traces": [
          0
         ]
        },
        {
         "data": [
          {
           "type": "scatter3d",
           "x": [
            50
           ],
           "y": [
            0.03913109183434049
           ],
           "z": [
            0.9809539693414454
           ]
          }
         ],
         "name": "frame50",
         "traces": [
          0
         ]
        },
        {
         "data": [
          {
           "type": "scatter3d",
           "x": [
            51
           ],
           "y": [
            0.3916974172185811
           ],
           "z": [
            0.16405255113300565
           ]
          }
         ],
         "name": "frame51",
         "traces": [
          0
         ]
        },
        {
         "data": [
          {
           "type": "scatter3d",
           "x": [
            52
           ],
           "y": [
            0.7355246963115364
           ],
           "z": [
            0.2350298765879888
           ]
          }
         ],
         "name": "frame52",
         "traces": [
          0
         ]
        },
        {
         "data": [
          {
           "type": "scatter3d",
           "x": [
            53
           ],
           "y": [
            0.13707849884770507
           ],
           "z": [
            0.5934917157794999
           ]
          }
         ],
         "name": "frame53",
         "traces": [
          0
         ]
        },
        {
         "data": [
          {
           "type": "scatter3d",
           "x": [
            54
           ],
           "y": [
            0.16137977593251052
           ],
           "z": [
            0.5695884655898058
           ]
          }
         ],
         "name": "frame54",
         "traces": [
          0
         ]
        },
        {
         "data": [
          {
           "type": "scatter3d",
           "x": [
            55
           ],
           "y": [
            0.5259408899554683
           ],
           "z": [
            0.061445841507231314
           ]
          }
         ],
         "name": "frame55",
         "traces": [
          0
         ]
        },
        {
         "data": [
          {
           "type": "scatter3d",
           "x": [
            56
           ],
           "y": [
            0.029539167221013574
           ],
           "z": [
            0.6136031313521692
           ]
          }
         ],
         "name": "frame56",
         "traces": [
          0
         ]
        },
        {
         "data": [
          {
           "type": "scatter3d",
           "x": [
            57
           ],
           "y": [
            0.20492878936805292
           ],
           "z": [
            0.8268668563204494
           ]
          }
         ],
         "name": "frame57",
         "traces": [
          0
         ]
        },
        {
         "data": [
          {
           "type": "scatter3d",
           "x": [
            58
           ],
           "y": [
            0.9628292393248886
           ],
           "z": [
            0.33071379462552364
           ]
          }
         ],
         "name": "frame58",
         "traces": [
          0
         ]
        },
        {
         "data": [
          {
           "type": "scatter3d",
           "x": [
            59
           ],
           "y": [
            0.9117741223826061
           ],
           "z": [
            0.2988842844565426
           ]
          }
         ],
         "name": "frame59",
         "traces": [
          0
         ]
        },
        {
         "data": [
          {
           "type": "scatter3d",
           "x": [
            60
           ],
           "y": [
            0.059143001740732504
           ],
           "z": [
            0.8025213717247277
           ]
          }
         ],
         "name": "frame60",
         "traces": [
          0
         ]
        },
        {
         "data": [
          {
           "type": "scatter3d",
           "x": [
            61
           ],
           "y": [
            0.5541963358216002
           ],
           "z": [
            0.7206396113565346
           ]
          }
         ],
         "name": "frame61",
         "traces": [
          0
         ]
        },
        {
         "data": [
          {
           "type": "scatter3d",
           "x": [
            62
           ],
           "y": [
            0.13401431392528795
           ],
           "z": [
            0.9773149521893476
           ]
          }
         ],
         "name": "frame62",
         "traces": [
          0
         ]
        },
        {
         "data": [
          {
           "type": "scatter3d",
           "x": [
            63
           ],
           "y": [
            0.8705851366177998
           ],
           "z": [
            0.39506239021560874
           ]
          }
         ],
         "name": "frame63",
         "traces": [
          0
         ]
        },
        {
         "data": [
          {
           "type": "scatter3d",
           "x": [
            64
           ],
           "y": [
            0.8224876648832784
           ],
           "z": [
            0.3975592982048495
           ]
          }
         ],
         "name": "frame64",
         "traces": [
          0
         ]
        },
        {
         "data": [
          {
           "type": "scatter3d",
           "x": [
            65
           ],
           "y": [
            0.8871341362825271
           ],
           "z": [
            0.3311096625315999
           ]
          }
         ],
         "name": "frame65",
         "traces": [
          0
         ]
        },
        {
         "data": [
          {
           "type": "scatter3d",
           "x": [
            66
           ],
           "y": [
            0.8342260236885835
           ],
           "z": [
            0.9152239189607412
           ]
          }
         ],
         "name": "frame66",
         "traces": [
          0
         ]
        },
        {
         "data": [
          {
           "type": "scatter3d",
           "x": [
            67
           ],
           "y": [
            0.4251931609728985
           ],
           "z": [
            0.30931250696351187
           ]
          }
         ],
         "name": "frame67",
         "traces": [
          0
         ]
        },
        {
         "data": [
          {
           "type": "scatter3d",
           "x": [
            68
           ],
           "y": [
            0.6605933024059482
           ],
           "z": [
            0.6683996315713249
           ]
          }
         ],
         "name": "frame68",
         "traces": [
          0
         ]
        },
        {
         "data": [
          {
           "type": "scatter3d",
           "x": [
            69
           ],
           "y": [
            0.7410482245157415
           ],
           "z": [
            0.814526539108226
           ]
          }
         ],
         "name": "frame69",
         "traces": [
          0
         ]
        },
        {
         "data": [
          {
           "type": "scatter3d",
           "x": [
            70
           ],
           "y": [
            0.7098449145435192
           ],
           "z": [
            0.6926960487319411
           ]
          }
         ],
         "name": "frame70",
         "traces": [
          0
         ]
        },
        {
         "data": [
          {
           "type": "scatter3d",
           "x": [
            71
           ],
           "y": [
            0.11160542453337585
           ],
           "z": [
            0.352470661067522
           ]
          }
         ],
         "name": "frame71",
         "traces": [
          0
         ]
        },
        {
         "data": [
          {
           "type": "scatter3d",
           "x": [
            72
           ],
           "y": [
            0.2213773813022173
           ],
           "z": [
            0.4982015583617734
           ]
          }
         ],
         "name": "frame72",
         "traces": [
          0
         ]
        },
        {
         "data": [
          {
           "type": "scatter3d",
           "x": [
            73
           ],
           "y": [
            0.5926773766876364
           ],
           "z": [
            0.4343988142617612
           ]
          }
         ],
         "name": "frame73",
         "traces": [
          0
         ]
        },
        {
         "data": [
          {
           "type": "scatter3d",
           "x": [
            74
           ],
           "y": [
            0.8154072405836398
           ],
           "z": [
            0.5656834067468407
           ]
          }
         ],
         "name": "frame74",
         "traces": [
          0
         ]
        },
        {
         "data": [
          {
           "type": "scatter3d",
           "x": [
            75
           ],
           "y": [
            0.43641631568518024
           ],
           "z": [
            0.5405739637423383
           ]
          }
         ],
         "name": "frame75",
         "traces": [
          0
         ]
        },
        {
         "data": [
          {
           "type": "scatter3d",
           "x": [
            76
           ],
           "y": [
            0.3606319135615108
           ],
           "z": [
            0.14541556425322244
           ]
          }
         ],
         "name": "frame76",
         "traces": [
          0
         ]
        },
        {
         "data": [
          {
           "type": "scatter3d",
           "x": [
            77
           ],
           "y": [
            0.6664647764040954
           ],
           "z": [
            0.7528585523562455
           ]
          }
         ],
         "name": "frame77",
         "traces": [
          0
         ]
        },
        {
         "data": [
          {
           "type": "scatter3d",
           "x": [
            78
           ],
           "y": [
            0.11228802213009359
           ],
           "z": [
            0.7870548376664926
           ]
          }
         ],
         "name": "frame78",
         "traces": [
          0
         ]
        },
        {
         "data": [
          {
           "type": "scatter3d",
           "x": [
            79
           ],
           "y": [
            0.450979618166336
           ],
           "z": [
            0.47217182748597697
           ]
          }
         ],
         "name": "frame79",
         "traces": [
          0
         ]
        },
        {
         "data": [
          {
           "type": "scatter3d",
           "x": [
            80
           ],
           "y": [
            0.1954884960563581
           ],
           "z": [
            0.7556453429657939
           ]
          }
         ],
         "name": "frame80",
         "traces": [
          0
         ]
        },
        {
         "data": [
          {
           "type": "scatter3d",
           "x": [
            81
           ],
           "y": [
            0.5025113805652296
           ],
           "z": [
            0.2614429413988779
           ]
          }
         ],
         "name": "frame81",
         "traces": [
          0
         ]
        },
        {
         "data": [
          {
           "type": "scatter3d",
           "x": [
            82
           ],
           "y": [
            0.6477807466558346
           ],
           "z": [
            0.2558651710855422
           ]
          }
         ],
         "name": "frame82",
         "traces": [
          0
         ]
        },
        {
         "data": [
          {
           "type": "scatter3d",
           "x": [
            83
           ],
           "y": [
            0.6864702981012455
           ],
           "z": [
            0.7078694743987503
           ]
          }
         ],
         "name": "frame83",
         "traces": [
          0
         ]
        },
        {
         "data": [
          {
           "type": "scatter3d",
           "x": [
            84
           ],
           "y": [
            0.9110420754504356
           ],
           "z": [
            0.3315402733642324
           ]
          }
         ],
         "name": "frame84",
         "traces": [
          0
         ]
        },
        {
         "data": [
          {
           "type": "scatter3d",
           "x": [
            85
           ],
           "y": [
            0.9647120260995832
           ],
           "z": [
            0.4873996991404278
           ]
          }
         ],
         "name": "frame85",
         "traces": [
          0
         ]
        },
        {
         "data": [
          {
           "type": "scatter3d",
           "x": [
            86
           ],
           "y": [
            0.14915270542501047
           ],
           "z": [
            0.7652513805442547
           ]
          }
         ],
         "name": "frame86",
         "traces": [
          0
         ]
        },
        {
         "data": [
          {
           "type": "scatter3d",
           "x": [
            87
           ],
           "y": [
            0.0021859760326538025
           ],
           "z": [
            0.7256175953349294
           ]
          }
         ],
         "name": "frame87",
         "traces": [
          0
         ]
        },
        {
         "data": [
          {
           "type": "scatter3d",
           "x": [
            88
           ],
           "y": [
            0.6331843545113598
           ],
           "z": [
            0.9798769769235538
           ]
          }
         ],
         "name": "frame88",
         "traces": [
          0
         ]
        },
        {
         "data": [
          {
           "type": "scatter3d",
           "x": [
            89
           ],
           "y": [
            0.250051309432453
           ],
           "z": [
            0.7150121386167253
           ]
          }
         ],
         "name": "frame89",
         "traces": [
          0
         ]
        },
        {
         "data": [
          {
           "type": "scatter3d",
           "x": [
            90
           ],
           "y": [
            0.7140367208521861
           ],
           "z": [
            0.21818242983197778
           ]
          }
         ],
         "name": "frame90",
         "traces": [
          0
         ]
        },
        {
         "data": [
          {
           "type": "scatter3d",
           "x": [
            91
           ],
           "y": [
            0.35530505376773536
           ],
           "z": [
            0.6610573407386355
           ]
          }
         ],
         "name": "frame91",
         "traces": [
          0
         ]
        },
        {
         "data": [
          {
           "type": "scatter3d",
           "x": [
            92
           ],
           "y": [
            0.12468195750831967
           ],
           "z": [
            0.8358143601167624
           ]
          }
         ],
         "name": "frame92",
         "traces": [
          0
         ]
        },
        {
         "data": [
          {
           "type": "scatter3d",
           "x": [
            93
           ],
           "y": [
            0.7830444398982578
           ],
           "z": [
            0.04179439664009532
           ]
          }
         ],
         "name": "frame93",
         "traces": [
          0
         ]
        },
        {
         "data": [
          {
           "type": "scatter3d",
           "x": [
            94
           ],
           "y": [
            0.1865560491165339
           ],
           "z": [
            0.10422746962880636
           ]
          }
         ],
         "name": "frame94",
         "traces": [
          0
         ]
        },
        {
         "data": [
          {
           "type": "scatter3d",
           "x": [
            95
           ],
           "y": [
            0.7859259613389109
           ],
           "z": [
            0.8895244825328755
           ]
          }
         ],
         "name": "frame95",
         "traces": [
          0
         ]
        },
        {
         "data": [
          {
           "type": "scatter3d",
           "x": [
            96
           ],
           "y": [
            0.8126889019950042
           ],
           "z": [
            0.4144336723146024
           ]
          }
         ],
         "name": "frame96",
         "traces": [
          0
         ]
        },
        {
         "data": [
          {
           "type": "scatter3d",
           "x": [
            97
           ],
           "y": [
            0.17277223281487875
           ],
           "z": [
            0.8541853508456386
           ]
          }
         ],
         "name": "frame97",
         "traces": [
          0
         ]
        },
        {
         "data": [
          {
           "type": "scatter3d",
           "x": [
            98
           ],
           "y": [
            0.4016091091275067
           ],
           "z": [
            0.1713920925696264
           ]
          }
         ],
         "name": "frame98",
         "traces": [
          0
         ]
        }
       ],
       "layout": {
        "scene": {
         "xaxis": {
          "autorange": false,
          "range": [
           0,
           99
          ]
         },
         "yaxis": {
          "autorange": false,
          "range": [
           0.0021859760326538025,
           0.9937579605639547
          ]
         },
         "zaxis": {
          "autorange": false,
          "range": [
           0.017380185196786635,
           0.9822293448974211
          ]
         }
        },
        "sliders": [
         {
          "len": 0.9,
          "pad": {
           "b": 10,
           "t": 60
          },
          "steps": [
           {
            "args": [
             [
              "frame0"
             ],
             {
              "frame": {
               "duration": 0
              },
              "fromcurrent": true,
              "mode": "immediate",
              "transition": {
               "duration": 0,
               "easing": "linear"
              }
             }
            ],
            "label": "0",
            "method": "animate"
           },
           {
            "args": [
             [
              "frame1"
             ],
             {
              "frame": {
               "duration": 0
              },
              "fromcurrent": true,
              "mode": "immediate",
              "transition": {
               "duration": 0,
               "easing": "linear"
              }
             }
            ],
            "label": "1",
            "method": "animate"
           },
           {
            "args": [
             [
              "frame2"
             ],
             {
              "frame": {
               "duration": 0
              },
              "fromcurrent": true,
              "mode": "immediate",
              "transition": {
               "duration": 0,
               "easing": "linear"
              }
             }
            ],
            "label": "2",
            "method": "animate"
           },
           {
            "args": [
             [
              "frame3"
             ],
             {
              "frame": {
               "duration": 0
              },
              "fromcurrent": true,
              "mode": "immediate",
              "transition": {
               "duration": 0,
               "easing": "linear"
              }
             }
            ],
            "label": "3",
            "method": "animate"
           },
           {
            "args": [
             [
              "frame4"
             ],
             {
              "frame": {
               "duration": 0
              },
              "fromcurrent": true,
              "mode": "immediate",
              "transition": {
               "duration": 0,
               "easing": "linear"
              }
             }
            ],
            "label": "4",
            "method": "animate"
           },
           {
            "args": [
             [
              "frame5"
             ],
             {
              "frame": {
               "duration": 0
              },
              "fromcurrent": true,
              "mode": "immediate",
              "transition": {
               "duration": 0,
               "easing": "linear"
              }
             }
            ],
            "label": "5",
            "method": "animate"
           },
           {
            "args": [
             [
              "frame6"
             ],
             {
              "frame": {
               "duration": 0
              },
              "fromcurrent": true,
              "mode": "immediate",
              "transition": {
               "duration": 0,
               "easing": "linear"
              }
             }
            ],
            "label": "6",
            "method": "animate"
           },
           {
            "args": [
             [
              "frame7"
             ],
             {
              "frame": {
               "duration": 0
              },
              "fromcurrent": true,
              "mode": "immediate",
              "transition": {
               "duration": 0,
               "easing": "linear"
              }
             }
            ],
            "label": "7",
            "method": "animate"
           },
           {
            "args": [
             [
              "frame8"
             ],
             {
              "frame": {
               "duration": 0
              },
              "fromcurrent": true,
              "mode": "immediate",
              "transition": {
               "duration": 0,
               "easing": "linear"
              }
             }
            ],
            "label": "8",
            "method": "animate"
           },
           {
            "args": [
             [
              "frame9"
             ],
             {
              "frame": {
               "duration": 0
              },
              "fromcurrent": true,
              "mode": "immediate",
              "transition": {
               "duration": 0,
               "easing": "linear"
              }
             }
            ],
            "label": "9",
            "method": "animate"
           },
           {
            "args": [
             [
              "frame10"
             ],
             {
              "frame": {
               "duration": 0
              },
              "fromcurrent": true,
              "mode": "immediate",
              "transition": {
               "duration": 0,
               "easing": "linear"
              }
             }
            ],
            "label": "10",
            "method": "animate"
           },
           {
            "args": [
             [
              "frame11"
             ],
             {
              "frame": {
               "duration": 0
              },
              "fromcurrent": true,
              "mode": "immediate",
              "transition": {
               "duration": 0,
               "easing": "linear"
              }
             }
            ],
            "label": "11",
            "method": "animate"
           },
           {
            "args": [
             [
              "frame12"
             ],
             {
              "frame": {
               "duration": 0
              },
              "fromcurrent": true,
              "mode": "immediate",
              "transition": {
               "duration": 0,
               "easing": "linear"
              }
             }
            ],
            "label": "12",
            "method": "animate"
           },
           {
            "args": [
             [
              "frame13"
             ],
             {
              "frame": {
               "duration": 0
              },
              "fromcurrent": true,
              "mode": "immediate",
              "transition": {
               "duration": 0,
               "easing": "linear"
              }
             }
            ],
            "label": "13",
            "method": "animate"
           },
           {
            "args": [
             [
              "frame14"
             ],
             {
              "frame": {
               "duration": 0
              },
              "fromcurrent": true,
              "mode": "immediate",
              "transition": {
               "duration": 0,
               "easing": "linear"
              }
             }
            ],
            "label": "14",
            "method": "animate"
           },
           {
            "args": [
             [
              "frame15"
             ],
             {
              "frame": {
               "duration": 0
              },
              "fromcurrent": true,
              "mode": "immediate",
              "transition": {
               "duration": 0,
               "easing": "linear"
              }
             }
            ],
            "label": "15",
            "method": "animate"
           },
           {
            "args": [
             [
              "frame16"
             ],
             {
              "frame": {
               "duration": 0
              },
              "fromcurrent": true,
              "mode": "immediate",
              "transition": {
               "duration": 0,
               "easing": "linear"
              }
             }
            ],
            "label": "16",
            "method": "animate"
           },
           {
            "args": [
             [
              "frame17"
             ],
             {
              "frame": {
               "duration": 0
              },
              "fromcurrent": true,
              "mode": "immediate",
              "transition": {
               "duration": 0,
               "easing": "linear"
              }
             }
            ],
            "label": "17",
            "method": "animate"
           },
           {
            "args": [
             [
              "frame18"
             ],
             {
              "frame": {
               "duration": 0
              },
              "fromcurrent": true,
              "mode": "immediate",
              "transition": {
               "duration": 0,
               "easing": "linear"
              }
             }
            ],
            "label": "18",
            "method": "animate"
           },
           {
            "args": [
             [
              "frame19"
             ],
             {
              "frame": {
               "duration": 0
              },
              "fromcurrent": true,
              "mode": "immediate",
              "transition": {
               "duration": 0,
               "easing": "linear"
              }
             }
            ],
            "label": "19",
            "method": "animate"
           },
           {
            "args": [
             [
              "frame20"
             ],
             {
              "frame": {
               "duration": 0
              },
              "fromcurrent": true,
              "mode": "immediate",
              "transition": {
               "duration": 0,
               "easing": "linear"
              }
             }
            ],
            "label": "20",
            "method": "animate"
           },
           {
            "args": [
             [
              "frame21"
             ],
             {
              "frame": {
               "duration": 0
              },
              "fromcurrent": true,
              "mode": "immediate",
              "transition": {
               "duration": 0,
               "easing": "linear"
              }
             }
            ],
            "label": "21",
            "method": "animate"
           },
           {
            "args": [
             [
              "frame22"
             ],
             {
              "frame": {
               "duration": 0
              },
              "fromcurrent": true,
              "mode": "immediate",
              "transition": {
               "duration": 0,
               "easing": "linear"
              }
             }
            ],
            "label": "22",
            "method": "animate"
           },
           {
            "args": [
             [
              "frame23"
             ],
             {
              "frame": {
               "duration": 0
              },
              "fromcurrent": true,
              "mode": "immediate",
              "transition": {
               "duration": 0,
               "easing": "linear"
              }
             }
            ],
            "label": "23",
            "method": "animate"
           },
           {
            "args": [
             [
              "frame24"
             ],
             {
              "frame": {
               "duration": 0
              },
              "fromcurrent": true,
              "mode": "immediate",
              "transition": {
               "duration": 0,
               "easing": "linear"
              }
             }
            ],
            "label": "24",
            "method": "animate"
           },
           {
            "args": [
             [
              "frame25"
             ],
             {
              "frame": {
               "duration": 0
              },
              "fromcurrent": true,
              "mode": "immediate",
              "transition": {
               "duration": 0,
               "easing": "linear"
              }
             }
            ],
            "label": "25",
            "method": "animate"
           },
           {
            "args": [
             [
              "frame26"
             ],
             {
              "frame": {
               "duration": 0
              },
              "fromcurrent": true,
              "mode": "immediate",
              "transition": {
               "duration": 0,
               "easing": "linear"
              }
             }
            ],
            "label": "26",
            "method": "animate"
           },
           {
            "args": [
             [
              "frame27"
             ],
             {
              "frame": {
               "duration": 0
              },
              "fromcurrent": true,
              "mode": "immediate",
              "transition": {
               "duration": 0,
               "easing": "linear"
              }
             }
            ],
            "label": "27",
            "method": "animate"
           },
           {
            "args": [
             [
              "frame28"
             ],
             {
              "frame": {
               "duration": 0
              },
              "fromcurrent": true,
              "mode": "immediate",
              "transition": {
               "duration": 0,
               "easing": "linear"
              }
             }
            ],
            "label": "28",
            "method": "animate"
           },
           {
            "args": [
             [
              "frame29"
             ],
             {
              "frame": {
               "duration": 0
              },
              "fromcurrent": true,
              "mode": "immediate",
              "transition": {
               "duration": 0,
               "easing": "linear"
              }
             }
            ],
            "label": "29",
            "method": "animate"
           },
           {
            "args": [
             [
              "frame30"
             ],
             {
              "frame": {
               "duration": 0
              },
              "fromcurrent": true,
              "mode": "immediate",
              "transition": {
               "duration": 0,
               "easing": "linear"
              }
             }
            ],
            "label": "30",
            "method": "animate"
           },
           {
            "args": [
             [
              "frame31"
             ],
             {
              "frame": {
               "duration": 0
              },
              "fromcurrent": true,
              "mode": "immediate",
              "transition": {
               "duration": 0,
               "easing": "linear"
              }
             }
            ],
            "label": "31",
            "method": "animate"
           },
           {
            "args": [
             [
              "frame32"
             ],
             {
              "frame": {
               "duration": 0
              },
              "fromcurrent": true,
              "mode": "immediate",
              "transition": {
               "duration": 0,
               "easing": "linear"
              }
             }
            ],
            "label": "32",
            "method": "animate"
           },
           {
            "args": [
             [
              "frame33"
             ],
             {
              "frame": {
               "duration": 0
              },
              "fromcurrent": true,
              "mode": "immediate",
              "transition": {
               "duration": 0,
               "easing": "linear"
              }
             }
            ],
            "label": "33",
            "method": "animate"
           },
           {
            "args": [
             [
              "frame34"
             ],
             {
              "frame": {
               "duration": 0
              },
              "fromcurrent": true,
              "mode": "immediate",
              "transition": {
               "duration": 0,
               "easing": "linear"
              }
             }
            ],
            "label": "34",
            "method": "animate"
           },
           {
            "args": [
             [
              "frame35"
             ],
             {
              "frame": {
               "duration": 0
              },
              "fromcurrent": true,
              "mode": "immediate",
              "transition": {
               "duration": 0,
               "easing": "linear"
              }
             }
            ],
            "label": "35",
            "method": "animate"
           },
           {
            "args": [
             [
              "frame36"
             ],
             {
              "frame": {
               "duration": 0
              },
              "fromcurrent": true,
              "mode": "immediate",
              "transition": {
               "duration": 0,
               "easing": "linear"
              }
             }
            ],
            "label": "36",
            "method": "animate"
           },
           {
            "args": [
             [
              "frame37"
             ],
             {
              "frame": {
               "duration": 0
              },
              "fromcurrent": true,
              "mode": "immediate",
              "transition": {
               "duration": 0,
               "easing": "linear"
              }
             }
            ],
            "label": "37",
            "method": "animate"
           },
           {
            "args": [
             [
              "frame38"
             ],
             {
              "frame": {
               "duration": 0
              },
              "fromcurrent": true,
              "mode": "immediate",
              "transition": {
               "duration": 0,
               "easing": "linear"
              }
             }
            ],
            "label": "38",
            "method": "animate"
           },
           {
            "args": [
             [
              "frame39"
             ],
             {
              "frame": {
               "duration": 0
              },
              "fromcurrent": true,
              "mode": "immediate",
              "transition": {
               "duration": 0,
               "easing": "linear"
              }
             }
            ],
            "label": "39",
            "method": "animate"
           },
           {
            "args": [
             [
              "frame40"
             ],
             {
              "frame": {
               "duration": 0
              },
              "fromcurrent": true,
              "mode": "immediate",
              "transition": {
               "duration": 0,
               "easing": "linear"
              }
             }
            ],
            "label": "40",
            "method": "animate"
           },
           {
            "args": [
             [
              "frame41"
             ],
             {
              "frame": {
               "duration": 0
              },
              "fromcurrent": true,
              "mode": "immediate",
              "transition": {
               "duration": 0,
               "easing": "linear"
              }
             }
            ],
            "label": "41",
            "method": "animate"
           },
           {
            "args": [
             [
              "frame42"
             ],
             {
              "frame": {
               "duration": 0
              },
              "fromcurrent": true,
              "mode": "immediate",
              "transition": {
               "duration": 0,
               "easing": "linear"
              }
             }
            ],
            "label": "42",
            "method": "animate"
           },
           {
            "args": [
             [
              "frame43"
             ],
             {
              "frame": {
               "duration": 0
              },
              "fromcurrent": true,
              "mode": "immediate",
              "transition": {
               "duration": 0,
               "easing": "linear"
              }
             }
            ],
            "label": "43",
            "method": "animate"
           },
           {
            "args": [
             [
              "frame44"
             ],
             {
              "frame": {
               "duration": 0
              },
              "fromcurrent": true,
              "mode": "immediate",
              "transition": {
               "duration": 0,
               "easing": "linear"
              }
             }
            ],
            "label": "44",
            "method": "animate"
           },
           {
            "args": [
             [
              "frame45"
             ],
             {
              "frame": {
               "duration": 0
              },
              "fromcurrent": true,
              "mode": "immediate",
              "transition": {
               "duration": 0,
               "easing": "linear"
              }
             }
            ],
            "label": "45",
            "method": "animate"
           },
           {
            "args": [
             [
              "frame46"
             ],
             {
              "frame": {
               "duration": 0
              },
              "fromcurrent": true,
              "mode": "immediate",
              "transition": {
               "duration": 0,
               "easing": "linear"
              }
             }
            ],
            "label": "46",
            "method": "animate"
           },
           {
            "args": [
             [
              "frame47"
             ],
             {
              "frame": {
               "duration": 0
              },
              "fromcurrent": true,
              "mode": "immediate",
              "transition": {
               "duration": 0,
               "easing": "linear"
              }
             }
            ],
            "label": "47",
            "method": "animate"
           },
           {
            "args": [
             [
              "frame48"
             ],
             {
              "frame": {
               "duration": 0
              },
              "fromcurrent": true,
              "mode": "immediate",
              "transition": {
               "duration": 0,
               "easing": "linear"
              }
             }
            ],
            "label": "48",
            "method": "animate"
           },
           {
            "args": [
             [
              "frame49"
             ],
             {
              "frame": {
               "duration": 0
              },
              "fromcurrent": true,
              "mode": "immediate",
              "transition": {
               "duration": 0,
               "easing": "linear"
              }
             }
            ],
            "label": "49",
            "method": "animate"
           },
           {
            "args": [
             [
              "frame50"
             ],
             {
              "frame": {
               "duration": 0
              },
              "fromcurrent": true,
              "mode": "immediate",
              "transition": {
               "duration": 0,
               "easing": "linear"
              }
             }
            ],
            "label": "50",
            "method": "animate"
           },
           {
            "args": [
             [
              "frame51"
             ],
             {
              "frame": {
               "duration": 0
              },
              "fromcurrent": true,
              "mode": "immediate",
              "transition": {
               "duration": 0,
               "easing": "linear"
              }
             }
            ],
            "label": "51",
            "method": "animate"
           },
           {
            "args": [
             [
              "frame52"
             ],
             {
              "frame": {
               "duration": 0
              },
              "fromcurrent": true,
              "mode": "immediate",
              "transition": {
               "duration": 0,
               "easing": "linear"
              }
             }
            ],
            "label": "52",
            "method": "animate"
           },
           {
            "args": [
             [
              "frame53"
             ],
             {
              "frame": {
               "duration": 0
              },
              "fromcurrent": true,
              "mode": "immediate",
              "transition": {
               "duration": 0,
               "easing": "linear"
              }
             }
            ],
            "label": "53",
            "method": "animate"
           },
           {
            "args": [
             [
              "frame54"
             ],
             {
              "frame": {
               "duration": 0
              },
              "fromcurrent": true,
              "mode": "immediate",
              "transition": {
               "duration": 0,
               "easing": "linear"
              }
             }
            ],
            "label": "54",
            "method": "animate"
           },
           {
            "args": [
             [
              "frame55"
             ],
             {
              "frame": {
               "duration": 0
              },
              "fromcurrent": true,
              "mode": "immediate",
              "transition": {
               "duration": 0,
               "easing": "linear"
              }
             }
            ],
            "label": "55",
            "method": "animate"
           },
           {
            "args": [
             [
              "frame56"
             ],
             {
              "frame": {
               "duration": 0
              },
              "fromcurrent": true,
              "mode": "immediate",
              "transition": {
               "duration": 0,
               "easing": "linear"
              }
             }
            ],
            "label": "56",
            "method": "animate"
           },
           {
            "args": [
             [
              "frame57"
             ],
             {
              "frame": {
               "duration": 0
              },
              "fromcurrent": true,
              "mode": "immediate",
              "transition": {
               "duration": 0,
               "easing": "linear"
              }
             }
            ],
            "label": "57",
            "method": "animate"
           },
           {
            "args": [
             [
              "frame58"
             ],
             {
              "frame": {
               "duration": 0
              },
              "fromcurrent": true,
              "mode": "immediate",
              "transition": {
               "duration": 0,
               "easing": "linear"
              }
             }
            ],
            "label": "58",
            "method": "animate"
           },
           {
            "args": [
             [
              "frame59"
             ],
             {
              "frame": {
               "duration": 0
              },
              "fromcurrent": true,
              "mode": "immediate",
              "transition": {
               "duration": 0,
               "easing": "linear"
              }
             }
            ],
            "label": "59",
            "method": "animate"
           },
           {
            "args": [
             [
              "frame60"
             ],
             {
              "frame": {
               "duration": 0
              },
              "fromcurrent": true,
              "mode": "immediate",
              "transition": {
               "duration": 0,
               "easing": "linear"
              }
             }
            ],
            "label": "60",
            "method": "animate"
           },
           {
            "args": [
             [
              "frame61"
             ],
             {
              "frame": {
               "duration": 0
              },
              "fromcurrent": true,
              "mode": "immediate",
              "transition": {
               "duration": 0,
               "easing": "linear"
              }
             }
            ],
            "label": "61",
            "method": "animate"
           },
           {
            "args": [
             [
              "frame62"
             ],
             {
              "frame": {
               "duration": 0
              },
              "fromcurrent": true,
              "mode": "immediate",
              "transition": {
               "duration": 0,
               "easing": "linear"
              }
             }
            ],
            "label": "62",
            "method": "animate"
           },
           {
            "args": [
             [
              "frame63"
             ],
             {
              "frame": {
               "duration": 0
              },
              "fromcurrent": true,
              "mode": "immediate",
              "transition": {
               "duration": 0,
               "easing": "linear"
              }
             }
            ],
            "label": "63",
            "method": "animate"
           },
           {
            "args": [
             [
              "frame64"
             ],
             {
              "frame": {
               "duration": 0
              },
              "fromcurrent": true,
              "mode": "immediate",
              "transition": {
               "duration": 0,
               "easing": "linear"
              }
             }
            ],
            "label": "64",
            "method": "animate"
           },
           {
            "args": [
             [
              "frame65"
             ],
             {
              "frame": {
               "duration": 0
              },
              "fromcurrent": true,
              "mode": "immediate",
              "transition": {
               "duration": 0,
               "easing": "linear"
              }
             }
            ],
            "label": "65",
            "method": "animate"
           },
           {
            "args": [
             [
              "frame66"
             ],
             {
              "frame": {
               "duration": 0
              },
              "fromcurrent": true,
              "mode": "immediate",
              "transition": {
               "duration": 0,
               "easing": "linear"
              }
             }
            ],
            "label": "66",
            "method": "animate"
           },
           {
            "args": [
             [
              "frame67"
             ],
             {
              "frame": {
               "duration": 0
              },
              "fromcurrent": true,
              "mode": "immediate",
              "transition": {
               "duration": 0,
               "easing": "linear"
              }
             }
            ],
            "label": "67",
            "method": "animate"
           },
           {
            "args": [
             [
              "frame68"
             ],
             {
              "frame": {
               "duration": 0
              },
              "fromcurrent": true,
              "mode": "immediate",
              "transition": {
               "duration": 0,
               "easing": "linear"
              }
             }
            ],
            "label": "68",
            "method": "animate"
           },
           {
            "args": [
             [
              "frame69"
             ],
             {
              "frame": {
               "duration": 0
              },
              "fromcurrent": true,
              "mode": "immediate",
              "transition": {
               "duration": 0,
               "easing": "linear"
              }
             }
            ],
            "label": "69",
            "method": "animate"
           },
           {
            "args": [
             [
              "frame70"
             ],
             {
              "frame": {
               "duration": 0
              },
              "fromcurrent": true,
              "mode": "immediate",
              "transition": {
               "duration": 0,
               "easing": "linear"
              }
             }
            ],
            "label": "70",
            "method": "animate"
           },
           {
            "args": [
             [
              "frame71"
             ],
             {
              "frame": {
               "duration": 0
              },
              "fromcurrent": true,
              "mode": "immediate",
              "transition": {
               "duration": 0,
               "easing": "linear"
              }
             }
            ],
            "label": "71",
            "method": "animate"
           },
           {
            "args": [
             [
              "frame72"
             ],
             {
              "frame": {
               "duration": 0
              },
              "fromcurrent": true,
              "mode": "immediate",
              "transition": {
               "duration": 0,
               "easing": "linear"
              }
             }
            ],
            "label": "72",
            "method": "animate"
           },
           {
            "args": [
             [
              "frame73"
             ],
             {
              "frame": {
               "duration": 0
              },
              "fromcurrent": true,
              "mode": "immediate",
              "transition": {
               "duration": 0,
               "easing": "linear"
              }
             }
            ],
            "label": "73",
            "method": "animate"
           },
           {
            "args": [
             [
              "frame74"
             ],
             {
              "frame": {
               "duration": 0
              },
              "fromcurrent": true,
              "mode": "immediate",
              "transition": {
               "duration": 0,
               "easing": "linear"
              }
             }
            ],
            "label": "74",
            "method": "animate"
           },
           {
            "args": [
             [
              "frame75"
             ],
             {
              "frame": {
               "duration": 0
              },
              "fromcurrent": true,
              "mode": "immediate",
              "transition": {
               "duration": 0,
               "easing": "linear"
              }
             }
            ],
            "label": "75",
            "method": "animate"
           },
           {
            "args": [
             [
              "frame76"
             ],
             {
              "frame": {
               "duration": 0
              },
              "fromcurrent": true,
              "mode": "immediate",
              "transition": {
               "duration": 0,
               "easing": "linear"
              }
             }
            ],
            "label": "76",
            "method": "animate"
           },
           {
            "args": [
             [
              "frame77"
             ],
             {
              "frame": {
               "duration": 0
              },
              "fromcurrent": true,
              "mode": "immediate",
              "transition": {
               "duration": 0,
               "easing": "linear"
              }
             }
            ],
            "label": "77",
            "method": "animate"
           },
           {
            "args": [
             [
              "frame78"
             ],
             {
              "frame": {
               "duration": 0
              },
              "fromcurrent": true,
              "mode": "immediate",
              "transition": {
               "duration": 0,
               "easing": "linear"
              }
             }
            ],
            "label": "78",
            "method": "animate"
           },
           {
            "args": [
             [
              "frame79"
             ],
             {
              "frame": {
               "duration": 0
              },
              "fromcurrent": true,
              "mode": "immediate",
              "transition": {
               "duration": 0,
               "easing": "linear"
              }
             }
            ],
            "label": "79",
            "method": "animate"
           },
           {
            "args": [
             [
              "frame80"
             ],
             {
              "frame": {
               "duration": 0
              },
              "fromcurrent": true,
              "mode": "immediate",
              "transition": {
               "duration": 0,
               "easing": "linear"
              }
             }
            ],
            "label": "80",
            "method": "animate"
           },
           {
            "args": [
             [
              "frame81"
             ],
             {
              "frame": {
               "duration": 0
              },
              "fromcurrent": true,
              "mode": "immediate",
              "transition": {
               "duration": 0,
               "easing": "linear"
              }
             }
            ],
            "label": "81",
            "method": "animate"
           },
           {
            "args": [
             [
              "frame82"
             ],
             {
              "frame": {
               "duration": 0
              },
              "fromcurrent": true,
              "mode": "immediate",
              "transition": {
               "duration": 0,
               "easing": "linear"
              }
             }
            ],
            "label": "82",
            "method": "animate"
           },
           {
            "args": [
             [
              "frame83"
             ],
             {
              "frame": {
               "duration": 0
              },
              "fromcurrent": true,
              "mode": "immediate",
              "transition": {
               "duration": 0,
               "easing": "linear"
              }
             }
            ],
            "label": "83",
            "method": "animate"
           },
           {
            "args": [
             [
              "frame84"
             ],
             {
              "frame": {
               "duration": 0
              },
              "fromcurrent": true,
              "mode": "immediate",
              "transition": {
               "duration": 0,
               "easing": "linear"
              }
             }
            ],
            "label": "84",
            "method": "animate"
           },
           {
            "args": [
             [
              "frame85"
             ],
             {
              "frame": {
               "duration": 0
              },
              "fromcurrent": true,
              "mode": "immediate",
              "transition": {
               "duration": 0,
               "easing": "linear"
              }
             }
            ],
            "label": "85",
            "method": "animate"
           },
           {
            "args": [
             [
              "frame86"
             ],
             {
              "frame": {
               "duration": 0
              },
              "fromcurrent": true,
              "mode": "immediate",
              "transition": {
               "duration": 0,
               "easing": "linear"
              }
             }
            ],
            "label": "86",
            "method": "animate"
           },
           {
            "args": [
             [
              "frame87"
             ],
             {
              "frame": {
               "duration": 0
              },
              "fromcurrent": true,
              "mode": "immediate",
              "transition": {
               "duration": 0,
               "easing": "linear"
              }
             }
            ],
            "label": "87",
            "method": "animate"
           },
           {
            "args": [
             [
              "frame88"
             ],
             {
              "frame": {
               "duration": 0
              },
              "fromcurrent": true,
              "mode": "immediate",
              "transition": {
               "duration": 0,
               "easing": "linear"
              }
             }
            ],
            "label": "88",
            "method": "animate"
           },
           {
            "args": [
             [
              "frame89"
             ],
             {
              "frame": {
               "duration": 0
              },
              "fromcurrent": true,
              "mode": "immediate",
              "transition": {
               "duration": 0,
               "easing": "linear"
              }
             }
            ],
            "label": "89",
            "method": "animate"
           },
           {
            "args": [
             [
              "frame90"
             ],
             {
              "frame": {
               "duration": 0
              },
              "fromcurrent": true,
              "mode": "immediate",
              "transition": {
               "duration": 0,
               "easing": "linear"
              }
             }
            ],
            "label": "90",
            "method": "animate"
           },
           {
            "args": [
             [
              "frame91"
             ],
             {
              "frame": {
               "duration": 0
              },
              "fromcurrent": true,
              "mode": "immediate",
              "transition": {
               "duration": 0,
               "easing": "linear"
              }
             }
            ],
            "label": "91",
            "method": "animate"
           },
           {
            "args": [
             [
              "frame92"
             ],
             {
              "frame": {
               "duration": 0
              },
              "fromcurrent": true,
              "mode": "immediate",
              "transition": {
               "duration": 0,
               "easing": "linear"
              }
             }
            ],
            "label": "92",
            "method": "animate"
           },
           {
            "args": [
             [
              "frame93"
             ],
             {
              "frame": {
               "duration": 0
              },
              "fromcurrent": true,
              "mode": "immediate",
              "transition": {
               "duration": 0,
               "easing": "linear"
              }
             }
            ],
            "label": "93",
            "method": "animate"
           },
           {
            "args": [
             [
              "frame94"
             ],
             {
              "frame": {
               "duration": 0
              },
              "fromcurrent": true,
              "mode": "immediate",
              "transition": {
               "duration": 0,
               "easing": "linear"
              }
             }
            ],
            "label": "94",
            "method": "animate"
           },
           {
            "args": [
             [
              "frame95"
             ],
             {
              "frame": {
               "duration": 0
              },
              "fromcurrent": true,
              "mode": "immediate",
              "transition": {
               "duration": 0,
               "easing": "linear"
              }
             }
            ],
            "label": "95",
            "method": "animate"
           },
           {
            "args": [
             [
              "frame96"
             ],
             {
              "frame": {
               "duration": 0
              },
              "fromcurrent": true,
              "mode": "immediate",
              "transition": {
               "duration": 0,
               "easing": "linear"
              }
             }
            ],
            "label": "96",
            "method": "animate"
           },
           {
            "args": [
             [
              "frame97"
             ],
             {
              "frame": {
               "duration": 0
              },
              "fromcurrent": true,
              "mode": "immediate",
              "transition": {
               "duration": 0,
               "easing": "linear"
              }
             }
            ],
            "label": "97",
            "method": "animate"
           },
           {
            "args": [
             [
              "frame98"
             ],
             {
              "frame": {
               "duration": 0
              },
              "fromcurrent": true,
              "mode": "immediate",
              "transition": {
               "duration": 0,
               "easing": "linear"
              }
             }
            ],
            "label": "98",
            "method": "animate"
           }
          ],
          "x": 0.1,
          "y": 0
         }
        ],
        "template": {
         "data": {
          "bar": [
           {
            "error_x": {
             "color": "#2a3f5f"
            },
            "error_y": {
             "color": "#2a3f5f"
            },
            "marker": {
             "line": {
              "color": "#E5ECF6",
              "width": 0.5
             },
             "pattern": {
              "fillmode": "overlay",
              "size": 10,
              "solidity": 0.2
             }
            },
            "type": "bar"
           }
          ],
          "barpolar": [
           {
            "marker": {
             "line": {
              "color": "#E5ECF6",
              "width": 0.5
             },
             "pattern": {
              "fillmode": "overlay",
              "size": 10,
              "solidity": 0.2
             }
            },
            "type": "barpolar"
           }
          ],
          "carpet": [
           {
            "aaxis": {
             "endlinecolor": "#2a3f5f",
             "gridcolor": "white",
             "linecolor": "white",
             "minorgridcolor": "white",
             "startlinecolor": "#2a3f5f"
            },
            "baxis": {
             "endlinecolor": "#2a3f5f",
             "gridcolor": "white",
             "linecolor": "white",
             "minorgridcolor": "white",
             "startlinecolor": "#2a3f5f"
            },
            "type": "carpet"
           }
          ],
          "choropleth": [
           {
            "colorbar": {
             "outlinewidth": 0,
             "ticks": ""
            },
            "type": "choropleth"
           }
          ],
          "contour": [
           {
            "colorbar": {
             "outlinewidth": 0,
             "ticks": ""
            },
            "colorscale": [
             [
              0,
              "#0d0887"
             ],
             [
              0.1111111111111111,
              "#46039f"
             ],
             [
              0.2222222222222222,
              "#7201a8"
             ],
             [
              0.3333333333333333,
              "#9c179e"
             ],
             [
              0.4444444444444444,
              "#bd3786"
             ],
             [
              0.5555555555555556,
              "#d8576b"
             ],
             [
              0.6666666666666666,
              "#ed7953"
             ],
             [
              0.7777777777777778,
              "#fb9f3a"
             ],
             [
              0.8888888888888888,
              "#fdca26"
             ],
             [
              1,
              "#f0f921"
             ]
            ],
            "type": "contour"
           }
          ],
          "contourcarpet": [
           {
            "colorbar": {
             "outlinewidth": 0,
             "ticks": ""
            },
            "type": "contourcarpet"
           }
          ],
          "heatmap": [
           {
            "colorbar": {
             "outlinewidth": 0,
             "ticks": ""
            },
            "colorscale": [
             [
              0,
              "#0d0887"
             ],
             [
              0.1111111111111111,
              "#46039f"
             ],
             [
              0.2222222222222222,
              "#7201a8"
             ],
             [
              0.3333333333333333,
              "#9c179e"
             ],
             [
              0.4444444444444444,
              "#bd3786"
             ],
             [
              0.5555555555555556,
              "#d8576b"
             ],
             [
              0.6666666666666666,
              "#ed7953"
             ],
             [
              0.7777777777777778,
              "#fb9f3a"
             ],
             [
              0.8888888888888888,
              "#fdca26"
             ],
             [
              1,
              "#f0f921"
             ]
            ],
            "type": "heatmap"
           }
          ],
          "heatmapgl": [
           {
            "colorbar": {
             "outlinewidth": 0,
             "ticks": ""
            },
            "colorscale": [
             [
              0,
              "#0d0887"
             ],
             [
              0.1111111111111111,
              "#46039f"
             ],
             [
              0.2222222222222222,
              "#7201a8"
             ],
             [
              0.3333333333333333,
              "#9c179e"
             ],
             [
              0.4444444444444444,
              "#bd3786"
             ],
             [
              0.5555555555555556,
              "#d8576b"
             ],
             [
              0.6666666666666666,
              "#ed7953"
             ],
             [
              0.7777777777777778,
              "#fb9f3a"
             ],
             [
              0.8888888888888888,
              "#fdca26"
             ],
             [
              1,
              "#f0f921"
             ]
            ],
            "type": "heatmapgl"
           }
          ],
          "histogram": [
           {
            "marker": {
             "pattern": {
              "fillmode": "overlay",
              "size": 10,
              "solidity": 0.2
             }
            },
            "type": "histogram"
           }
          ],
          "histogram2d": [
           {
            "colorbar": {
             "outlinewidth": 0,
             "ticks": ""
            },
            "colorscale": [
             [
              0,
              "#0d0887"
             ],
             [
              0.1111111111111111,
              "#46039f"
             ],
             [
              0.2222222222222222,
              "#7201a8"
             ],
             [
              0.3333333333333333,
              "#9c179e"
             ],
             [
              0.4444444444444444,
              "#bd3786"
             ],
             [
              0.5555555555555556,
              "#d8576b"
             ],
             [
              0.6666666666666666,
              "#ed7953"
             ],
             [
              0.7777777777777778,
              "#fb9f3a"
             ],
             [
              0.8888888888888888,
              "#fdca26"
             ],
             [
              1,
              "#f0f921"
             ]
            ],
            "type": "histogram2d"
           }
          ],
          "histogram2dcontour": [
           {
            "colorbar": {
             "outlinewidth": 0,
             "ticks": ""
            },
            "colorscale": [
             [
              0,
              "#0d0887"
             ],
             [
              0.1111111111111111,
              "#46039f"
             ],
             [
              0.2222222222222222,
              "#7201a8"
             ],
             [
              0.3333333333333333,
              "#9c179e"
             ],
             [
              0.4444444444444444,
              "#bd3786"
             ],
             [
              0.5555555555555556,
              "#d8576b"
             ],
             [
              0.6666666666666666,
              "#ed7953"
             ],
             [
              0.7777777777777778,
              "#fb9f3a"
             ],
             [
              0.8888888888888888,
              "#fdca26"
             ],
             [
              1,
              "#f0f921"
             ]
            ],
            "type": "histogram2dcontour"
           }
          ],
          "mesh3d": [
           {
            "colorbar": {
             "outlinewidth": 0,
             "ticks": ""
            },
            "type": "mesh3d"
           }
          ],
          "parcoords": [
           {
            "line": {
             "colorbar": {
              "outlinewidth": 0,
              "ticks": ""
             }
            },
            "type": "parcoords"
           }
          ],
          "pie": [
           {
            "automargin": true,
            "type": "pie"
           }
          ],
          "scatter": [
           {
            "fillpattern": {
             "fillmode": "overlay",
             "size": 10,
             "solidity": 0.2
            },
            "type": "scatter"
           }
          ],
          "scatter3d": [
           {
            "line": {
             "colorbar": {
              "outlinewidth": 0,
              "ticks": ""
             }
            },
            "marker": {
             "colorbar": {
              "outlinewidth": 0,
              "ticks": ""
             }
            },
            "type": "scatter3d"
           }
          ],
          "scattercarpet": [
           {
            "marker": {
             "colorbar": {
              "outlinewidth": 0,
              "ticks": ""
             }
            },
            "type": "scattercarpet"
           }
          ],
          "scattergeo": [
           {
            "marker": {
             "colorbar": {
              "outlinewidth": 0,
              "ticks": ""
             }
            },
            "type": "scattergeo"
           }
          ],
          "scattergl": [
           {
            "marker": {
             "colorbar": {
              "outlinewidth": 0,
              "ticks": ""
             }
            },
            "type": "scattergl"
           }
          ],
          "scattermapbox": [
           {
            "marker": {
             "colorbar": {
              "outlinewidth": 0,
              "ticks": ""
             }
            },
            "type": "scattermapbox"
           }
          ],
          "scatterpolar": [
           {
            "marker": {
             "colorbar": {
              "outlinewidth": 0,
              "ticks": ""
             }
            },
            "type": "scatterpolar"
           }
          ],
          "scatterpolargl": [
           {
            "marker": {
             "colorbar": {
              "outlinewidth": 0,
              "ticks": ""
             }
            },
            "type": "scatterpolargl"
           }
          ],
          "scatterternary": [
           {
            "marker": {
             "colorbar": {
              "outlinewidth": 0,
              "ticks": ""
             }
            },
            "type": "scatterternary"
           }
          ],
          "surface": [
           {
            "colorbar": {
             "outlinewidth": 0,
             "ticks": ""
            },
            "colorscale": [
             [
              0,
              "#0d0887"
             ],
             [
              0.1111111111111111,
              "#46039f"
             ],
             [
              0.2222222222222222,
              "#7201a8"
             ],
             [
              0.3333333333333333,
              "#9c179e"
             ],
             [
              0.4444444444444444,
              "#bd3786"
             ],
             [
              0.5555555555555556,
              "#d8576b"
             ],
             [
              0.6666666666666666,
              "#ed7953"
             ],
             [
              0.7777777777777778,
              "#fb9f3a"
             ],
             [
              0.8888888888888888,
              "#fdca26"
             ],
             [
              1,
              "#f0f921"
             ]
            ],
            "type": "surface"
           }
          ],
          "table": [
           {
            "cells": {
             "fill": {
              "color": "#EBF0F8"
             },
             "line": {
              "color": "white"
             }
            },
            "header": {
             "fill": {
              "color": "#C8D4E3"
             },
             "line": {
              "color": "white"
             }
            },
            "type": "table"
           }
          ]
         },
         "layout": {
          "annotationdefaults": {
           "arrowcolor": "#2a3f5f",
           "arrowhead": 0,
           "arrowwidth": 1
          },
          "autotypenumbers": "strict",
          "coloraxis": {
           "colorbar": {
            "outlinewidth": 0,
            "ticks": ""
           }
          },
          "colorscale": {
           "diverging": [
            [
             0,
             "#8e0152"
            ],
            [
             0.1,
             "#c51b7d"
            ],
            [
             0.2,
             "#de77ae"
            ],
            [
             0.3,
             "#f1b6da"
            ],
            [
             0.4,
             "#fde0ef"
            ],
            [
             0.5,
             "#f7f7f7"
            ],
            [
             0.6,
             "#e6f5d0"
            ],
            [
             0.7,
             "#b8e186"
            ],
            [
             0.8,
             "#7fbc41"
            ],
            [
             0.9,
             "#4d9221"
            ],
            [
             1,
             "#276419"
            ]
           ],
           "sequential": [
            [
             0,
             "#0d0887"
            ],
            [
             0.1111111111111111,
             "#46039f"
            ],
            [
             0.2222222222222222,
             "#7201a8"
            ],
            [
             0.3333333333333333,
             "#9c179e"
            ],
            [
             0.4444444444444444,
             "#bd3786"
            ],
            [
             0.5555555555555556,
             "#d8576b"
            ],
            [
             0.6666666666666666,
             "#ed7953"
            ],
            [
             0.7777777777777778,
             "#fb9f3a"
            ],
            [
             0.8888888888888888,
             "#fdca26"
            ],
            [
             1,
             "#f0f921"
            ]
           ],
           "sequentialminus": [
            [
             0,
             "#0d0887"
            ],
            [
             0.1111111111111111,
             "#46039f"
            ],
            [
             0.2222222222222222,
             "#7201a8"
            ],
            [
             0.3333333333333333,
             "#9c179e"
            ],
            [
             0.4444444444444444,
             "#bd3786"
            ],
            [
             0.5555555555555556,
             "#d8576b"
            ],
            [
             0.6666666666666666,
             "#ed7953"
            ],
            [
             0.7777777777777778,
             "#fb9f3a"
            ],
            [
             0.8888888888888888,
             "#fdca26"
            ],
            [
             1,
             "#f0f921"
            ]
           ]
          },
          "colorway": [
           "#636efa",
           "#EF553B",
           "#00cc96",
           "#ab63fa",
           "#FFA15A",
           "#19d3f3",
           "#FF6692",
           "#B6E880",
           "#FF97FF",
           "#FECB52"
          ],
          "font": {
           "color": "#2a3f5f"
          },
          "geo": {
           "bgcolor": "white",
           "lakecolor": "white",
           "landcolor": "#E5ECF6",
           "showlakes": true,
           "showland": true,
           "subunitcolor": "white"
          },
          "hoverlabel": {
           "align": "left"
          },
          "hovermode": "closest",
          "mapbox": {
           "style": "light"
          },
          "paper_bgcolor": "white",
          "plot_bgcolor": "#E5ECF6",
          "polar": {
           "angularaxis": {
            "gridcolor": "white",
            "linecolor": "white",
            "ticks": ""
           },
           "bgcolor": "#E5ECF6",
           "radialaxis": {
            "gridcolor": "white",
            "linecolor": "white",
            "ticks": ""
           }
          },
          "scene": {
           "xaxis": {
            "backgroundcolor": "#E5ECF6",
            "gridcolor": "white",
            "gridwidth": 2,
            "linecolor": "white",
            "showbackground": true,
            "ticks": "",
            "zerolinecolor": "white"
           },
           "yaxis": {
            "backgroundcolor": "#E5ECF6",
            "gridcolor": "white",
            "gridwidth": 2,
            "linecolor": "white",
            "showbackground": true,
            "ticks": "",
            "zerolinecolor": "white"
           },
           "zaxis": {
            "backgroundcolor": "#E5ECF6",
            "gridcolor": "white",
            "gridwidth": 2,
            "linecolor": "white",
            "showbackground": true,
            "ticks": "",
            "zerolinecolor": "white"
           }
          },
          "shapedefaults": {
           "line": {
            "color": "#2a3f5f"
           }
          },
          "ternary": {
           "aaxis": {
            "gridcolor": "white",
            "linecolor": "white",
            "ticks": ""
           },
           "baxis": {
            "gridcolor": "white",
            "linecolor": "white",
            "ticks": ""
           },
           "bgcolor": "#E5ECF6",
           "caxis": {
            "gridcolor": "white",
            "linecolor": "white",
            "ticks": ""
           }
          },
          "title": {
           "x": 0.05
          },
          "xaxis": {
           "automargin": true,
           "gridcolor": "white",
           "linecolor": "white",
           "ticks": "",
           "title": {
            "standoff": 15
           },
           "zerolinecolor": "white",
           "zerolinewidth": 2
          },
          "yaxis": {
           "automargin": true,
           "gridcolor": "white",
           "linecolor": "white",
           "ticks": "",
           "title": {
            "standoff": 15
           },
           "zerolinecolor": "white",
           "zerolinewidth": 2
          }
         }
        },
        "updatemenus": [
         {
          "buttons": [
           {
            "args": [
             null,
             {
              "frame": {
               "duration": 50
              },
              "fromcurrent": true,
              "mode": "immediate",
              "transition": {
               "duration": 50,
               "easing": "linear"
              }
             }
            ],
            "label": "Play",
            "method": "animate"
           },
           {
            "args": [
             [
              null
             ],
             {
              "frame": {
               "duration": 0
              },
              "fromcurrent": true,
              "mode": "immediate",
              "transition": {
               "duration": 0,
               "easing": "linear"
              }
             }
            ],
            "label": "Pause",
            "method": "animate"
           }
          ],
          "direction": "left",
          "pad": {
           "r": 10,
           "t": 70
          },
          "type": "buttons",
          "x": 0.1,
          "y": 0
         }
        ]
       }
      }
     },
     "metadata": {},
     "output_type": "display_data"
    }
   ],
   "source": [
    "import numpy as np\n",
    "import plotly.graph_objects as go\n",
    "\n",
    "#x,y,z = np.genfromtxt(r'dat.txt', unpack=True)\n",
    "x = np.arange(100)\n",
    "y = np.random.random(100)\n",
    "z = np.random.random(100)\n",
    "\n",
    "# Create figure\n",
    "fig = go.Figure(\n",
    "    data = go.Scatter3d(\n",
    "        x=[], y=[], z=[],\n",
    "        mode=\"markers\",\n",
    "        marker=dict(color=\"red\", size=10)\n",
    "    )\n",
    ")\n",
    "\n",
    "# Frames\n",
    "frames = [\n",
    "    go.Frame(\n",
    "        data = [\n",
    "            go.Scatter3d(\n",
    "                x=x[[k]],\n",
    "                y=y[[k]],\n",
    "                z=z[[k]]\n",
    "            )\n",
    "        ],\n",
    "        traces= [0],\n",
    "        name=f'frame{k}'      \n",
    "    )for k  in  range(len(x)-1)\n",
    "]\n",
    "fig.update(frames=frames)\n",
    "\n",
    "\n",
    "def frame_args(duration):\n",
    "    return {\n",
    "        \"frame\": {\"duration\": duration},\n",
    "        \"mode\": \"immediate\",\n",
    "        \"fromcurrent\": True,\n",
    "        \"transition\": {\"duration\": duration, \"easing\": \"linear\"},\n",
    "    }\n",
    "\n",
    "\n",
    "sliders = [\n",
    "    {\n",
    "        \"pad\": {\"b\": 10, \"t\": 60},\n",
    "        \"len\": 0.9,\n",
    "        \"x\": 0.1,\n",
    "        \"y\": 0,\n",
    "        \"steps\": [\n",
    "            {\n",
    "                \"args\": [[f.name], frame_args(0)],\n",
    "                \"label\": str(k),\n",
    "                \"method\": \"animate\",\n",
    "            } for k, f in enumerate(fig.frames)\n",
    "        ]\n",
    "    }\n",
    "]\n",
    "\n",
    "fig.update_layout(\n",
    "    updatemenus = [\n",
    "        {\n",
    "            \"buttons\":[\n",
    "                {\n",
    "                    \"args\": [None, frame_args(50)],\n",
    "                    \"label\": \"Play\", \n",
    "                    \"method\": \"animate\",\n",
    "                },\n",
    "                {\n",
    "                    \"args\": [[None], frame_args(0)],\n",
    "                    \"label\": \"Pause\", \n",
    "                    \"method\": \"animate\",\n",
    "                }\n",
    "            ],    \n",
    "            \"direction\": \"left\",\n",
    "            \"pad\": {\"r\": 10, \"t\": 70},\n",
    "            \"type\": \"buttons\",\n",
    "            \"x\": 0.1,\n",
    "            \"y\": 0,\n",
    "        }\n",
    "    ],\n",
    "    sliders=sliders\n",
    ")\n",
    "\n",
    "fig.update_layout(\n",
    "    scene = dict(\n",
    "        xaxis=dict(range=[min(x), max(x)],autorange=False),\n",
    "        yaxis=dict(range=[min(y), max(y)], autorange=False),\n",
    "        zaxis=dict(range=[min(z), max(z)], autorange=False)\n",
    "    )\n",
    ")\n",
    "\n",
    "fig.update_layout(sliders=sliders)\n",
    "fig.show()"
   ]
  },
  {
   "cell_type": "code",
   "execution_count": null,
   "metadata": {},
   "outputs": [],
   "source": []
  },
  {
   "cell_type": "code",
   "execution_count": 70,
   "metadata": {},
   "outputs": [
    {
     "data": {
      "application/vnd.plotly.v1+json": {
       "config": {
        "plotlyServerURL": "https://plot.ly"
       },
       "data": [
        {
         "marker": {
          "color": "red",
          "size": 2
         },
         "mode": "lines+markers+text",
         "type": "scatter3d",
         "x": [],
         "y": [],
         "z": []
        }
       ],
       "frames": [
        {
         "data": [
          {
           "type": "scatter3d",
           "x": [
            0.291835
           ],
           "y": [
            0.59291
           ],
           "z": [
            0.71101
           ]
          }
         ],
         "name": "frame0",
         "traces": [
          0
         ]
        },
        {
         "data": [
          {
           "type": "scatter3d",
           "x": [
            0.291782
           ],
           "y": [
            0.592881
           ],
           "z": [
            0.711023
           ]
          }
         ],
         "name": "frame1",
         "traces": [
          0
         ]
        },
        {
         "data": [
          {
           "type": "scatter3d",
           "x": [
            0.291747
           ],
           "y": [
            0.592851
           ],
           "z": [
            0.710979
           ]
          }
         ],
         "name": "frame2",
         "traces": [
          0
         ]
        },
        {
         "data": [
          {
           "type": "scatter3d",
           "x": [
            0.291769
           ],
           "y": [
            0.592873
           ],
           "z": [
            0.71095
           ]
          }
         ],
         "name": "frame3",
         "traces": [
          0
         ]
        },
        {
         "data": [
          {
           "type": "scatter3d",
           "x": [
            0.291789
           ],
           "y": [
            0.592861
           ],
           "z": [
            0.71089
           ]
          }
         ],
         "name": "frame4",
         "traces": [
          0
         ]
        },
        {
         "data": [
          {
           "type": "scatter3d",
           "x": [
            0.291778
           ],
           "y": [
            0.592806
           ],
           "z": [
            0.710833
           ]
          }
         ],
         "name": "frame5",
         "traces": [
          0
         ]
        },
        {
         "data": [
          {
           "type": "scatter3d",
           "x": [
            0.291791
           ],
           "y": [
            0.592822
           ],
           "z": [
            0.710767
           ]
          }
         ],
         "name": "frame6",
         "traces": [
          0
         ]
        },
        {
         "data": [
          {
           "type": "scatter3d",
           "x": [
            0.291785
           ],
           "y": [
            0.59286
           ],
           "z": [
            0.710719
           ]
          }
         ],
         "name": "frame7",
         "traces": [
          0
         ]
        },
        {
         "data": [
          {
           "type": "scatter3d",
           "x": [
            0.291772
           ],
           "y": [
            0.592851
           ],
           "z": [
            0.710669
           ]
          }
         ],
         "name": "frame8",
         "traces": [
          0
         ]
        },
        {
         "data": [
          {
           "type": "scatter3d",
           "x": [
            0.291743
           ],
           "y": [
            0.592817
           ],
           "z": [
            0.710593
           ]
          }
         ],
         "name": "frame9",
         "traces": [
          0
         ]
        },
        {
         "data": [
          {
           "type": "scatter3d",
           "x": [
            0.291762
           ],
           "y": [
            0.592809
           ],
           "z": [
            0.710477
           ]
          }
         ],
         "name": "frame10",
         "traces": [
          0
         ]
        },
        {
         "data": [
          {
           "type": "scatter3d",
           "x": [
            0.291784
           ],
           "y": [
            0.592769
           ],
           "z": [
            0.710342
           ]
          }
         ],
         "name": "frame11",
         "traces": [
          0
         ]
        },
        {
         "data": [
          {
           "type": "scatter3d",
           "x": [
            0.291831
           ],
           "y": [
            0.592785
           ],
           "z": [
            0.710247
           ]
          }
         ],
         "name": "frame12",
         "traces": [
          0
         ]
        },
        {
         "data": [
          {
           "type": "scatter3d",
           "x": [
            0.291831
           ],
           "y": [
            0.592743
           ],
           "z": [
            0.71015
           ]
          }
         ],
         "name": "frame13",
         "traces": [
          0
         ]
        },
        {
         "data": [
          {
           "type": "scatter3d",
           "x": [
            0.291835
           ],
           "y": [
            0.592711
           ],
           "z": [
            0.710031
           ]
          }
         ],
         "name": "frame14",
         "traces": [
          0
         ]
        },
        {
         "data": [
          {
           "type": "scatter3d",
           "x": [
            0.291847
           ],
           "y": [
            0.592709
           ],
           "z": [
            0.709961
           ]
          }
         ],
         "name": "frame15",
         "traces": [
          0
         ]
        },
        {
         "data": [
          {
           "type": "scatter3d",
           "x": [
            0.291867
           ],
           "y": [
            0.592691
           ],
           "z": [
            0.709854
           ]
          }
         ],
         "name": "frame16",
         "traces": [
          0
         ]
        },
        {
         "data": [
          {
           "type": "scatter3d",
           "x": [
            0.291927
           ],
           "y": [
            0.592708
           ],
           "z": [
            0.709737
           ]
          }
         ],
         "name": "frame17",
         "traces": [
          0
         ]
        },
        {
         "data": [
          {
           "type": "scatter3d",
           "x": [
            0.292021
           ],
           "y": [
            0.592741
           ],
           "z": [
            0.709617
           ]
          }
         ],
         "name": "frame18",
         "traces": [
          0
         ]
        },
        {
         "data": [
          {
           "type": "scatter3d",
           "x": [
            0.292167
           ],
           "y": [
            0.592752
           ],
           "z": [
            0.709483
           ]
          }
         ],
         "name": "frame19",
         "traces": [
          0
         ]
        },
        {
         "data": [
          {
           "type": "scatter3d",
           "x": [
            0.292271
           ],
           "y": [
            0.592736
           ],
           "z": [
            0.709361
           ]
          }
         ],
         "name": "frame20",
         "traces": [
          0
         ]
        },
        {
         "data": [
          {
           "type": "scatter3d",
           "x": [
            0.292371
           ],
           "y": [
            0.592752
           ],
           "z": [
            0.709298
           ]
          }
         ],
         "name": "frame21",
         "traces": [
          0
         ]
        },
        {
         "data": [
          {
           "type": "scatter3d",
           "x": [
            0.292398
           ],
           "y": [
            0.592709
           ],
           "z": [
            0.709201
           ]
          }
         ],
         "name": "frame22",
         "traces": [
          0
         ]
        },
        {
         "data": [
          {
           "type": "scatter3d",
           "x": [
            0.29243
           ],
           "y": [
            0.592704
           ],
           "z": [
            0.709163
           ]
          }
         ],
         "name": "frame23",
         "traces": [
          0
         ]
        },
        {
         "data": [
          {
           "type": "scatter3d",
           "x": [
            0.292443
           ],
           "y": [
            0.59267
           ],
           "z": [
            0.70914
           ]
          }
         ],
         "name": "frame24",
         "traces": [
          0
         ]
        },
        {
         "data": [
          {
           "type": "scatter3d",
           "x": [
            0.292458
           ],
           "y": [
            0.592646
           ],
           "z": [
            0.709106
           ]
          }
         ],
         "name": "frame25",
         "traces": [
          0
         ]
        },
        {
         "data": [
          {
           "type": "scatter3d",
           "x": [
            0.292488
           ],
           "y": [
            0.592644
           ],
           "z": [
            0.709054
           ]
          }
         ],
         "name": "frame26",
         "traces": [
          0
         ]
        },
        {
         "data": [
          {
           "type": "scatter3d",
           "x": [
            0.292542
           ],
           "y": [
            0.592646
           ],
           "z": [
            0.709007
           ]
          }
         ],
         "name": "frame27",
         "traces": [
          0
         ]
        },
        {
         "data": [
          {
           "type": "scatter3d",
           "x": [
            0.292634
           ],
           "y": [
            0.592624
           ],
           "z": [
            0.708952
           ]
          }
         ],
         "name": "frame28",
         "traces": [
          0
         ]
        },
        {
         "data": [
          {
           "type": "scatter3d",
           "x": [
            0.292726
           ],
           "y": [
            0.592602
           ],
           "z": [
            0.708881
           ]
          }
         ],
         "name": "frame29",
         "traces": [
          0
         ]
        },
        {
         "data": [
          {
           "type": "scatter3d",
           "x": [
            0.292817
           ],
           "y": [
            0.592611
           ],
           "z": [
            0.708844
           ]
          }
         ],
         "name": "frame30",
         "traces": [
          0
         ]
        },
        {
         "data": [
          {
           "type": "scatter3d",
           "x": [
            0.292879
           ],
           "y": [
            0.592608
           ],
           "z": [
            0.708828
           ]
          }
         ],
         "name": "frame31",
         "traces": [
          0
         ]
        },
        {
         "data": [
          {
           "type": "scatter3d",
           "x": [
            0.292928
           ],
           "y": [
            0.592583
           ],
           "z": [
            0.708831
           ]
          }
         ],
         "name": "frame32",
         "traces": [
          0
         ]
        },
        {
         "data": [
          {
           "type": "scatter3d",
           "x": [
            0.29294
           ],
           "y": [
            0.592565
           ],
           "z": [
            0.70886
           ]
          }
         ],
         "name": "frame33",
         "traces": [
          0
         ]
        },
        {
         "data": [
          {
           "type": "scatter3d",
           "x": [
            0.292953
           ],
           "y": [
            0.592551
           ],
           "z": [
            0.708892
           ]
          }
         ],
         "name": "frame34",
         "traces": [
          0
         ]
        },
        {
         "data": [
          {
           "type": "scatter3d",
           "x": [
            0.292943
           ],
           "y": [
            0.592506
           ],
           "z": [
            0.708873
           ]
          }
         ],
         "name": "frame35",
         "traces": [
          0
         ]
        },
        {
         "data": [
          {
           "type": "scatter3d",
           "x": [
            0.292965
           ],
           "y": [
            0.592491
           ],
           "z": [
            0.708884
           ]
          }
         ],
         "name": "frame36",
         "traces": [
          0
         ]
        },
        {
         "data": [
          {
           "type": "scatter3d",
           "x": [
            0.293023
           ],
           "y": [
            0.59249
           ],
           "z": [
            0.708863
           ]
          }
         ],
         "name": "frame37",
         "traces": [
          0
         ]
        },
        {
         "data": [
          {
           "type": "scatter3d",
           "x": [
            0.293099
           ],
           "y": [
            0.592472
           ],
           "z": [
            0.708823
           ]
          }
         ],
         "name": "frame38",
         "traces": [
          0
         ]
        },
        {
         "data": [
          {
           "type": "scatter3d",
           "x": [
            0.293256
           ],
           "y": [
            0.59251
           ],
           "z": [
            0.708793
           ]
          }
         ],
         "name": "frame39",
         "traces": [
          0
         ]
        },
        {
         "data": [
          {
           "type": "scatter3d",
           "x": [
            0.293415
           ],
           "y": [
            0.59249
           ],
           "z": [
            0.708731
           ]
          }
         ],
         "name": "frame40",
         "traces": [
          0
         ]
        },
        {
         "data": [
          {
           "type": "scatter3d",
           "x": [
            0.29356
           ],
           "y": [
            0.592496
           ],
           "z": [
            0.708681
           ]
          }
         ],
         "name": "frame41",
         "traces": [
          0
         ]
        },
        {
         "data": [
          {
           "type": "scatter3d",
           "x": [
            0.293643
           ],
           "y": [
            0.592476
           ],
           "z": [
            0.708659
           ]
          }
         ],
         "name": "frame42",
         "traces": [
          0
         ]
        },
        {
         "data": [
          {
           "type": "scatter3d",
           "x": [
            0.293695
           ],
           "y": [
            0.592433
           ],
           "z": [
            0.708655
           ]
          }
         ],
         "name": "frame43",
         "traces": [
          0
         ]
        },
        {
         "data": [
          {
           "type": "scatter3d",
           "x": [
            0.293676
           ],
           "y": [
            0.592416
           ],
           "z": [
            0.708668
           ]
          }
         ],
         "name": "frame44",
         "traces": [
          0
         ]
        },
        {
         "data": [
          {
           "type": "scatter3d",
           "x": [
            0.293658
           ],
           "y": [
            0.592382
           ],
           "z": [
            0.708638
           ]
          }
         ],
         "name": "frame45",
         "traces": [
          0
         ]
        },
        {
         "data": [
          {
           "type": "scatter3d",
           "x": [
            0.293628
           ],
           "y": [
            0.592362
           ],
           "z": [
            0.708619
           ]
          }
         ],
         "name": "frame46",
         "traces": [
          0
         ]
        },
        {
         "data": [
          {
           "type": "scatter3d",
           "x": [
            0.293595
           ],
           "y": [
            0.592323
           ],
           "z": [
            0.708559
           ]
          }
         ],
         "name": "frame47",
         "traces": [
          0
         ]
        },
        {
         "data": [
          {
           "type": "scatter3d",
           "x": [
            0.293581
           ],
           "y": [
            0.592288
           ],
           "z": [
            0.708474
           ]
          }
         ],
         "name": "frame48",
         "traces": [
          0
         ]
        },
        {
         "data": [
          {
           "type": "scatter3d",
           "x": [
            0.293632
           ],
           "y": [
            0.592285
           ],
           "z": [
            0.708362
           ]
          }
         ],
         "name": "frame49",
         "traces": [
          0
         ]
        },
        {
         "data": [
          {
           "type": "scatter3d",
           "x": [
            0.293722
           ],
           "y": [
            0.592245
           ],
           "z": [
            0.708199
           ]
          }
         ],
         "name": "frame50",
         "traces": [
          0
         ]
        },
        {
         "data": [
          {
           "type": "scatter3d",
           "x": [
            0.293779
           ],
           "y": [
            0.592227
           ],
           "z": [
            0.708062
           ]
          }
         ],
         "name": "frame51",
         "traces": [
          0
         ]
        },
        {
         "data": [
          {
           "type": "scatter3d",
           "x": [
            0.29386
           ],
           "y": [
            0.592241
           ],
           "z": [
            0.707956
           ]
          }
         ],
         "name": "frame52",
         "traces": [
          0
         ]
        },
        {
         "data": [
          {
           "type": "scatter3d",
           "x": [
            0.293908
           ],
           "y": [
            0.592236
           ],
           "z": [
            0.707859
           ]
          }
         ],
         "name": "frame53",
         "traces": [
          0
         ]
        },
        {
         "data": [
          {
           "type": "scatter3d",
           "x": [
            0.293962
           ],
           "y": [
            0.592236
           ],
           "z": [
            0.707757
           ]
          }
         ],
         "name": "frame54",
         "traces": [
          0
         ]
        },
        {
         "data": [
          {
           "type": "scatter3d",
           "x": [
            0.293985
           ],
           "y": [
            0.592207
           ],
           "z": [
            0.707642
           ]
          }
         ],
         "name": "frame55",
         "traces": [
          0
         ]
        },
        {
         "data": [
          {
           "type": "scatter3d",
           "x": [
            0.294003
           ],
           "y": [
            0.592178
           ],
           "z": [
            0.707528
           ]
          }
         ],
         "name": "frame56",
         "traces": [
          0
         ]
        },
        {
         "data": [
          {
           "type": "scatter3d",
           "x": [
            0.294055
           ],
           "y": [
            0.592177
           ],
           "z": [
            0.707407
           ]
          }
         ],
         "name": "frame57",
         "traces": [
          0
         ]
        },
        {
         "data": [
          {
           "type": "scatter3d",
           "x": [
            0.294106
           ],
           "y": [
            0.592176
           ],
           "z": [
            0.707252
           ]
          }
         ],
         "name": "frame58",
         "traces": [
          0
         ]
        },
        {
         "data": [
          {
           "type": "scatter3d",
           "x": [
            0.294127
           ],
           "y": [
            0.592172
           ],
           "z": [
            0.707146
           ]
          }
         ],
         "name": "frame59",
         "traces": [
          0
         ]
        },
        {
         "data": [
          {
           "type": "scatter3d",
           "x": [
            0.294084
           ],
           "y": [
            0.592163
           ],
           "z": [
            0.707062
           ]
          }
         ],
         "name": "frame60",
         "traces": [
          0
         ]
        },
        {
         "data": [
          {
           "type": "scatter3d",
           "x": [
            0.294039
           ],
           "y": [
            0.592131
           ],
           "z": [
            0.706993
           ]
          }
         ],
         "name": "frame61",
         "traces": [
          0
         ]
        },
        {
         "data": [
          {
           "type": "scatter3d",
           "x": [
            0.293953
           ],
           "y": [
            0.592124
           ],
           "z": [
            0.707009
           ]
          }
         ],
         "name": "frame62",
         "traces": [
          0
         ]
        },
        {
         "data": [
          {
           "type": "scatter3d",
           "x": [
            0.293903
           ],
           "y": [
            0.592054
           ],
           "z": [
            0.706996
           ]
          }
         ],
         "name": "frame63",
         "traces": [
          0
         ]
        },
        {
         "data": [
          {
           "type": "scatter3d",
           "x": [
            0.293872
           ],
           "y": [
            0.592017
           ],
           "z": [
            0.707004
           ]
          }
         ],
         "name": "frame64",
         "traces": [
          0
         ]
        },
        {
         "data": [
          {
           "type": "scatter3d",
           "x": [
            0.29388
           ],
           "y": [
            0.592012
           ],
           "z": [
            0.707009
           ]
          }
         ],
         "name": "frame65",
         "traces": [
          0
         ]
        },
        {
         "data": [
          {
           "type": "scatter3d",
           "x": [
            0.293958
           ],
           "y": [
            0.592003
           ],
           "z": [
            0.707006
           ]
          }
         ],
         "name": "frame66",
         "traces": [
          0
         ]
        },
        {
         "data": [
          {
           "type": "scatter3d",
           "x": [
            0.294096
           ],
           "y": [
            0.591998
           ],
           "z": [
            0.706964
           ]
          }
         ],
         "name": "frame67",
         "traces": [
          0
         ]
        },
        {
         "data": [
          {
           "type": "scatter3d",
           "x": [
            0.294266
           ],
           "y": [
            0.592015
           ],
           "z": [
            0.70689
           ]
          }
         ],
         "name": "frame68",
         "traces": [
          0
         ]
        },
        {
         "data": [
          {
           "type": "scatter3d",
           "x": [
            0.294433
           ],
           "y": [
            0.592025
           ],
           "z": [
            0.706804
           ]
          }
         ],
         "name": "frame69",
         "traces": [
          0
         ]
        },
        {
         "data": [
          {
           "type": "scatter3d",
           "x": [
            0.294554
           ],
           "y": [
            0.59206
           ],
           "z": [
            0.706742
           ]
          }
         ],
         "name": "frame70",
         "traces": [
          0
         ]
        },
        {
         "data": [
          {
           "type": "scatter3d",
           "x": [
            0.294652
           ],
           "y": [
            0.592073
           ],
           "z": [
            0.706718
           ]
          }
         ],
         "name": "frame71",
         "traces": [
          0
         ]
        },
        {
         "data": [
          {
           "type": "scatter3d",
           "x": [
            0.2947
           ],
           "y": [
            0.592112
           ],
           "z": [
            0.70676
           ]
          }
         ],
         "name": "frame72",
         "traces": [
          0
         ]
        },
        {
         "data": [
          {
           "type": "scatter3d",
           "x": [
            0.294699
           ],
           "y": [
            0.592103
           ],
           "z": [
            0.706822
           ]
          }
         ],
         "name": "frame73",
         "traces": [
          0
         ]
        },
        {
         "data": [
          {
           "type": "scatter3d",
           "x": [
            0.294649
           ],
           "y": [
            0.592038
           ],
           "z": [
            0.706885
           ]
          }
         ],
         "name": "frame74",
         "traces": [
          0
         ]
        },
        {
         "data": [
          {
           "type": "scatter3d",
           "x": [
            0.294577
           ],
           "y": [
            0.59203
           ],
           "z": [
            0.707017
           ]
          }
         ],
         "name": "frame75",
         "traces": [
          0
         ]
        },
        {
         "data": [
          {
           "type": "scatter3d",
           "x": [
            0.294498
           ],
           "y": [
            0.592004
           ],
           "z": [
            0.707107
           ]
          }
         ],
         "name": "frame76",
         "traces": [
          0
         ]
        },
        {
         "data": [
          {
           "type": "scatter3d",
           "x": [
            0.294414
           ],
           "y": [
            0.591972
           ],
           "z": [
            0.707162
           ]
          }
         ],
         "name": "frame77",
         "traces": [
          0
         ]
        },
        {
         "data": [
          {
           "type": "scatter3d",
           "x": [
            0.294387
           ],
           "y": [
            0.591951
           ],
           "z": [
            0.707201
           ]
          }
         ],
         "name": "frame78",
         "traces": [
          0
         ]
        },
        {
         "data": [
          {
           "type": "scatter3d",
           "x": [
            0.294354
           ],
           "y": [
            0.591942
           ],
           "z": [
            0.707223
           ]
          }
         ],
         "name": "frame79",
         "traces": [
          0
         ]
        },
        {
         "data": [
          {
           "type": "scatter3d",
           "x": [
            0.294373
           ],
           "y": [
            0.591935
           ],
           "z": [
            0.707217
           ]
          }
         ],
         "name": "frame80",
         "traces": [
          0
         ]
        },
        {
         "data": [
          {
           "type": "scatter3d",
           "x": [
            0.294362
           ],
           "y": [
            0.591932
           ],
           "z": [
            0.707247
           ]
          }
         ],
         "name": "frame81",
         "traces": [
          0
         ]
        },
        {
         "data": [
          {
           "type": "scatter3d",
           "x": [
            0.294288
           ],
           "y": [
            0.591948
           ],
           "z": [
            0.707334
           ]
          }
         ],
         "name": "frame82",
         "traces": [
          0
         ]
        },
        {
         "data": [
          {
           "type": "scatter3d",
           "x": [
            0.29406
           ],
           "y": [
            0.591884
           ],
           "z": [
            0.707462
           ]
          }
         ],
         "name": "frame83",
         "traces": [
          0
         ]
        },
        {
         "data": [
          {
           "type": "scatter3d",
           "x": [
            0.293728
           ],
           "y": [
            0.591814
           ],
           "z": [
            0.707665
           ]
          }
         ],
         "name": "frame84",
         "traces": [
          0
         ]
        },
        {
         "data": [
          {
           "type": "scatter3d",
           "x": [
            0.293312
           ],
           "y": [
            0.591723
           ],
           "z": [
            0.707959
           ]
          }
         ],
         "name": "frame85",
         "traces": [
          0
         ]
        },
        {
         "data": [
          {
           "type": "scatter3d",
           "x": [
            0.292761
           ],
           "y": [
            0.591575
           ],
           "z": [
            0.708342
           ]
          }
         ],
         "name": "frame86",
         "traces": [
          0
         ]
        },
        {
         "data": [
          {
           "type": "scatter3d",
           "x": [
            0.292101
           ],
           "y": [
            0.591433
           ],
           "z": [
            0.70878
           ]
          }
         ],
         "name": "frame87",
         "traces": [
          0
         ]
        },
        {
         "data": [
          {
           "type": "scatter3d",
           "x": [
            0.291326
           ],
           "y": [
            0.591222
           ],
           "z": [
            0.709327
           ]
          }
         ],
         "name": "frame88",
         "traces": [
          0
         ]
        },
        {
         "data": [
          {
           "type": "scatter3d",
           "x": [
            0.290763
           ],
           "y": [
            0.591014
           ],
           "z": [
            0.709834
           ]
          }
         ],
         "name": "frame89",
         "traces": [
          0
         ]
        },
        {
         "data": [
          {
           "type": "scatter3d",
           "x": [
            0.290222
           ],
           "y": [
            0.590734
           ],
           "z": [
            0.710471
           ]
          }
         ],
         "name": "frame90",
         "traces": [
          0
         ]
        },
        {
         "data": [
          {
           "type": "scatter3d",
           "x": [
            0.289733
           ],
           "y": [
            0.59052
           ],
           "z": [
            0.711087
           ]
          }
         ],
         "name": "frame91",
         "traces": [
          0
         ]
        },
        {
         "data": [
          {
           "type": "scatter3d",
           "x": [
            0.289369
           ],
           "y": [
            0.590361
           ],
           "z": [
            0.711684
           ]
          }
         ],
         "name": "frame92",
         "traces": [
          0
         ]
        },
        {
         "data": [
          {
           "type": "scatter3d",
           "x": [
            0.289143
           ],
           "y": [
            0.590186
           ],
           "z": [
            0.712328
           ]
          }
         ],
         "name": "frame93",
         "traces": [
          0
         ]
        },
        {
         "data": [
          {
           "type": "scatter3d",
           "x": [
            0.288933
           ],
           "y": [
            0.589917
           ],
           "z": [
            0.712995
           ]
          }
         ],
         "name": "frame94",
         "traces": [
          0
         ]
        },
        {
         "data": [
          {
           "type": "scatter3d",
           "x": [
            0.28849
           ],
           "y": [
            0.589604
           ],
           "z": [
            0.713891
           ]
          }
         ],
         "name": "frame95",
         "traces": [
          0
         ]
        },
        {
         "data": [
          {
           "type": "scatter3d",
           "x": [
            0.287963
           ],
           "y": [
            0.589124
           ],
           "z": [
            0.71484
           ]
          }
         ],
         "name": "frame96",
         "traces": [
          0
         ]
        },
        {
         "data": [
          {
           "type": "scatter3d",
           "x": [
            0.287156
           ],
           "y": [
            0.588564
           ],
           "z": [
            0.716002
           ]
          }
         ],
         "name": "frame97",
         "traces": [
          0
         ]
        },
        {
         "data": [
          {
           "type": "scatter3d",
           "x": [
            0.286088
           ],
           "y": [
            0.587866
           ],
           "z": [
            0.717254
           ]
          }
         ],
         "name": "frame98",
         "traces": [
          0
         ]
        }
       ],
       "layout": {
        "scene": {
         "aspectmode": "cube",
         "camera": {
          "eye": {
           "x": -1,
           "y": -1,
           "z": 1
          }
         },
         "xaxis": {
          "range": [
           -0.1,
           1.0938970000000001
          ]
         },
         "yaxis": {
          "range": [
           -0.1,
           1.0938970000000001
          ]
         },
         "zaxis": {
          "range": [
           -0.1,
           1.0938970000000001
          ]
         }
        },
        "sliders": [
         {
          "len": 0.9,
          "pad": {
           "b": 10,
           "t": 60
          },
          "steps": [
           {
            "args": [
             [
              "frame0"
             ],
             {
              "frame": {
               "duration": 0
              },
              "fromcurrent": true,
              "mode": "immediate",
              "transition": {
               "duration": 0,
               "easing": "linear"
              }
             }
            ],
            "label": "0",
            "method": "animate"
           },
           {
            "args": [
             [
              "frame1"
             ],
             {
              "frame": {
               "duration": 0
              },
              "fromcurrent": true,
              "mode": "immediate",
              "transition": {
               "duration": 0,
               "easing": "linear"
              }
             }
            ],
            "label": "1",
            "method": "animate"
           },
           {
            "args": [
             [
              "frame2"
             ],
             {
              "frame": {
               "duration": 0
              },
              "fromcurrent": true,
              "mode": "immediate",
              "transition": {
               "duration": 0,
               "easing": "linear"
              }
             }
            ],
            "label": "2",
            "method": "animate"
           },
           {
            "args": [
             [
              "frame3"
             ],
             {
              "frame": {
               "duration": 0
              },
              "fromcurrent": true,
              "mode": "immediate",
              "transition": {
               "duration": 0,
               "easing": "linear"
              }
             }
            ],
            "label": "3",
            "method": "animate"
           },
           {
            "args": [
             [
              "frame4"
             ],
             {
              "frame": {
               "duration": 0
              },
              "fromcurrent": true,
              "mode": "immediate",
              "transition": {
               "duration": 0,
               "easing": "linear"
              }
             }
            ],
            "label": "4",
            "method": "animate"
           },
           {
            "args": [
             [
              "frame5"
             ],
             {
              "frame": {
               "duration": 0
              },
              "fromcurrent": true,
              "mode": "immediate",
              "transition": {
               "duration": 0,
               "easing": "linear"
              }
             }
            ],
            "label": "5",
            "method": "animate"
           },
           {
            "args": [
             [
              "frame6"
             ],
             {
              "frame": {
               "duration": 0
              },
              "fromcurrent": true,
              "mode": "immediate",
              "transition": {
               "duration": 0,
               "easing": "linear"
              }
             }
            ],
            "label": "6",
            "method": "animate"
           },
           {
            "args": [
             [
              "frame7"
             ],
             {
              "frame": {
               "duration": 0
              },
              "fromcurrent": true,
              "mode": "immediate",
              "transition": {
               "duration": 0,
               "easing": "linear"
              }
             }
            ],
            "label": "7",
            "method": "animate"
           },
           {
            "args": [
             [
              "frame8"
             ],
             {
              "frame": {
               "duration": 0
              },
              "fromcurrent": true,
              "mode": "immediate",
              "transition": {
               "duration": 0,
               "easing": "linear"
              }
             }
            ],
            "label": "8",
            "method": "animate"
           },
           {
            "args": [
             [
              "frame9"
             ],
             {
              "frame": {
               "duration": 0
              },
              "fromcurrent": true,
              "mode": "immediate",
              "transition": {
               "duration": 0,
               "easing": "linear"
              }
             }
            ],
            "label": "9",
            "method": "animate"
           },
           {
            "args": [
             [
              "frame10"
             ],
             {
              "frame": {
               "duration": 0
              },
              "fromcurrent": true,
              "mode": "immediate",
              "transition": {
               "duration": 0,
               "easing": "linear"
              }
             }
            ],
            "label": "10",
            "method": "animate"
           },
           {
            "args": [
             [
              "frame11"
             ],
             {
              "frame": {
               "duration": 0
              },
              "fromcurrent": true,
              "mode": "immediate",
              "transition": {
               "duration": 0,
               "easing": "linear"
              }
             }
            ],
            "label": "11",
            "method": "animate"
           },
           {
            "args": [
             [
              "frame12"
             ],
             {
              "frame": {
               "duration": 0
              },
              "fromcurrent": true,
              "mode": "immediate",
              "transition": {
               "duration": 0,
               "easing": "linear"
              }
             }
            ],
            "label": "12",
            "method": "animate"
           },
           {
            "args": [
             [
              "frame13"
             ],
             {
              "frame": {
               "duration": 0
              },
              "fromcurrent": true,
              "mode": "immediate",
              "transition": {
               "duration": 0,
               "easing": "linear"
              }
             }
            ],
            "label": "13",
            "method": "animate"
           },
           {
            "args": [
             [
              "frame14"
             ],
             {
              "frame": {
               "duration": 0
              },
              "fromcurrent": true,
              "mode": "immediate",
              "transition": {
               "duration": 0,
               "easing": "linear"
              }
             }
            ],
            "label": "14",
            "method": "animate"
           },
           {
            "args": [
             [
              "frame15"
             ],
             {
              "frame": {
               "duration": 0
              },
              "fromcurrent": true,
              "mode": "immediate",
              "transition": {
               "duration": 0,
               "easing": "linear"
              }
             }
            ],
            "label": "15",
            "method": "animate"
           },
           {
            "args": [
             [
              "frame16"
             ],
             {
              "frame": {
               "duration": 0
              },
              "fromcurrent": true,
              "mode": "immediate",
              "transition": {
               "duration": 0,
               "easing": "linear"
              }
             }
            ],
            "label": "16",
            "method": "animate"
           },
           {
            "args": [
             [
              "frame17"
             ],
             {
              "frame": {
               "duration": 0
              },
              "fromcurrent": true,
              "mode": "immediate",
              "transition": {
               "duration": 0,
               "easing": "linear"
              }
             }
            ],
            "label": "17",
            "method": "animate"
           },
           {
            "args": [
             [
              "frame18"
             ],
             {
              "frame": {
               "duration": 0
              },
              "fromcurrent": true,
              "mode": "immediate",
              "transition": {
               "duration": 0,
               "easing": "linear"
              }
             }
            ],
            "label": "18",
            "method": "animate"
           },
           {
            "args": [
             [
              "frame19"
             ],
             {
              "frame": {
               "duration": 0
              },
              "fromcurrent": true,
              "mode": "immediate",
              "transition": {
               "duration": 0,
               "easing": "linear"
              }
             }
            ],
            "label": "19",
            "method": "animate"
           },
           {
            "args": [
             [
              "frame20"
             ],
             {
              "frame": {
               "duration": 0
              },
              "fromcurrent": true,
              "mode": "immediate",
              "transition": {
               "duration": 0,
               "easing": "linear"
              }
             }
            ],
            "label": "20",
            "method": "animate"
           },
           {
            "args": [
             [
              "frame21"
             ],
             {
              "frame": {
               "duration": 0
              },
              "fromcurrent": true,
              "mode": "immediate",
              "transition": {
               "duration": 0,
               "easing": "linear"
              }
             }
            ],
            "label": "21",
            "method": "animate"
           },
           {
            "args": [
             [
              "frame22"
             ],
             {
              "frame": {
               "duration": 0
              },
              "fromcurrent": true,
              "mode": "immediate",
              "transition": {
               "duration": 0,
               "easing": "linear"
              }
             }
            ],
            "label": "22",
            "method": "animate"
           },
           {
            "args": [
             [
              "frame23"
             ],
             {
              "frame": {
               "duration": 0
              },
              "fromcurrent": true,
              "mode": "immediate",
              "transition": {
               "duration": 0,
               "easing": "linear"
              }
             }
            ],
            "label": "23",
            "method": "animate"
           },
           {
            "args": [
             [
              "frame24"
             ],
             {
              "frame": {
               "duration": 0
              },
              "fromcurrent": true,
              "mode": "immediate",
              "transition": {
               "duration": 0,
               "easing": "linear"
              }
             }
            ],
            "label": "24",
            "method": "animate"
           },
           {
            "args": [
             [
              "frame25"
             ],
             {
              "frame": {
               "duration": 0
              },
              "fromcurrent": true,
              "mode": "immediate",
              "transition": {
               "duration": 0,
               "easing": "linear"
              }
             }
            ],
            "label": "25",
            "method": "animate"
           },
           {
            "args": [
             [
              "frame26"
             ],
             {
              "frame": {
               "duration": 0
              },
              "fromcurrent": true,
              "mode": "immediate",
              "transition": {
               "duration": 0,
               "easing": "linear"
              }
             }
            ],
            "label": "26",
            "method": "animate"
           },
           {
            "args": [
             [
              "frame27"
             ],
             {
              "frame": {
               "duration": 0
              },
              "fromcurrent": true,
              "mode": "immediate",
              "transition": {
               "duration": 0,
               "easing": "linear"
              }
             }
            ],
            "label": "27",
            "method": "animate"
           },
           {
            "args": [
             [
              "frame28"
             ],
             {
              "frame": {
               "duration": 0
              },
              "fromcurrent": true,
              "mode": "immediate",
              "transition": {
               "duration": 0,
               "easing": "linear"
              }
             }
            ],
            "label": "28",
            "method": "animate"
           },
           {
            "args": [
             [
              "frame29"
             ],
             {
              "frame": {
               "duration": 0
              },
              "fromcurrent": true,
              "mode": "immediate",
              "transition": {
               "duration": 0,
               "easing": "linear"
              }
             }
            ],
            "label": "29",
            "method": "animate"
           },
           {
            "args": [
             [
              "frame30"
             ],
             {
              "frame": {
               "duration": 0
              },
              "fromcurrent": true,
              "mode": "immediate",
              "transition": {
               "duration": 0,
               "easing": "linear"
              }
             }
            ],
            "label": "30",
            "method": "animate"
           },
           {
            "args": [
             [
              "frame31"
             ],
             {
              "frame": {
               "duration": 0
              },
              "fromcurrent": true,
              "mode": "immediate",
              "transition": {
               "duration": 0,
               "easing": "linear"
              }
             }
            ],
            "label": "31",
            "method": "animate"
           },
           {
            "args": [
             [
              "frame32"
             ],
             {
              "frame": {
               "duration": 0
              },
              "fromcurrent": true,
              "mode": "immediate",
              "transition": {
               "duration": 0,
               "easing": "linear"
              }
             }
            ],
            "label": "32",
            "method": "animate"
           },
           {
            "args": [
             [
              "frame33"
             ],
             {
              "frame": {
               "duration": 0
              },
              "fromcurrent": true,
              "mode": "immediate",
              "transition": {
               "duration": 0,
               "easing": "linear"
              }
             }
            ],
            "label": "33",
            "method": "animate"
           },
           {
            "args": [
             [
              "frame34"
             ],
             {
              "frame": {
               "duration": 0
              },
              "fromcurrent": true,
              "mode": "immediate",
              "transition": {
               "duration": 0,
               "easing": "linear"
              }
             }
            ],
            "label": "34",
            "method": "animate"
           },
           {
            "args": [
             [
              "frame35"
             ],
             {
              "frame": {
               "duration": 0
              },
              "fromcurrent": true,
              "mode": "immediate",
              "transition": {
               "duration": 0,
               "easing": "linear"
              }
             }
            ],
            "label": "35",
            "method": "animate"
           },
           {
            "args": [
             [
              "frame36"
             ],
             {
              "frame": {
               "duration": 0
              },
              "fromcurrent": true,
              "mode": "immediate",
              "transition": {
               "duration": 0,
               "easing": "linear"
              }
             }
            ],
            "label": "36",
            "method": "animate"
           },
           {
            "args": [
             [
              "frame37"
             ],
             {
              "frame": {
               "duration": 0
              },
              "fromcurrent": true,
              "mode": "immediate",
              "transition": {
               "duration": 0,
               "easing": "linear"
              }
             }
            ],
            "label": "37",
            "method": "animate"
           },
           {
            "args": [
             [
              "frame38"
             ],
             {
              "frame": {
               "duration": 0
              },
              "fromcurrent": true,
              "mode": "immediate",
              "transition": {
               "duration": 0,
               "easing": "linear"
              }
             }
            ],
            "label": "38",
            "method": "animate"
           },
           {
            "args": [
             [
              "frame39"
             ],
             {
              "frame": {
               "duration": 0
              },
              "fromcurrent": true,
              "mode": "immediate",
              "transition": {
               "duration": 0,
               "easing": "linear"
              }
             }
            ],
            "label": "39",
            "method": "animate"
           },
           {
            "args": [
             [
              "frame40"
             ],
             {
              "frame": {
               "duration": 0
              },
              "fromcurrent": true,
              "mode": "immediate",
              "transition": {
               "duration": 0,
               "easing": "linear"
              }
             }
            ],
            "label": "40",
            "method": "animate"
           },
           {
            "args": [
             [
              "frame41"
             ],
             {
              "frame": {
               "duration": 0
              },
              "fromcurrent": true,
              "mode": "immediate",
              "transition": {
               "duration": 0,
               "easing": "linear"
              }
             }
            ],
            "label": "41",
            "method": "animate"
           },
           {
            "args": [
             [
              "frame42"
             ],
             {
              "frame": {
               "duration": 0
              },
              "fromcurrent": true,
              "mode": "immediate",
              "transition": {
               "duration": 0,
               "easing": "linear"
              }
             }
            ],
            "label": "42",
            "method": "animate"
           },
           {
            "args": [
             [
              "frame43"
             ],
             {
              "frame": {
               "duration": 0
              },
              "fromcurrent": true,
              "mode": "immediate",
              "transition": {
               "duration": 0,
               "easing": "linear"
              }
             }
            ],
            "label": "43",
            "method": "animate"
           },
           {
            "args": [
             [
              "frame44"
             ],
             {
              "frame": {
               "duration": 0
              },
              "fromcurrent": true,
              "mode": "immediate",
              "transition": {
               "duration": 0,
               "easing": "linear"
              }
             }
            ],
            "label": "44",
            "method": "animate"
           },
           {
            "args": [
             [
              "frame45"
             ],
             {
              "frame": {
               "duration": 0
              },
              "fromcurrent": true,
              "mode": "immediate",
              "transition": {
               "duration": 0,
               "easing": "linear"
              }
             }
            ],
            "label": "45",
            "method": "animate"
           },
           {
            "args": [
             [
              "frame46"
             ],
             {
              "frame": {
               "duration": 0
              },
              "fromcurrent": true,
              "mode": "immediate",
              "transition": {
               "duration": 0,
               "easing": "linear"
              }
             }
            ],
            "label": "46",
            "method": "animate"
           },
           {
            "args": [
             [
              "frame47"
             ],
             {
              "frame": {
               "duration": 0
              },
              "fromcurrent": true,
              "mode": "immediate",
              "transition": {
               "duration": 0,
               "easing": "linear"
              }
             }
            ],
            "label": "47",
            "method": "animate"
           },
           {
            "args": [
             [
              "frame48"
             ],
             {
              "frame": {
               "duration": 0
              },
              "fromcurrent": true,
              "mode": "immediate",
              "transition": {
               "duration": 0,
               "easing": "linear"
              }
             }
            ],
            "label": "48",
            "method": "animate"
           },
           {
            "args": [
             [
              "frame49"
             ],
             {
              "frame": {
               "duration": 0
              },
              "fromcurrent": true,
              "mode": "immediate",
              "transition": {
               "duration": 0,
               "easing": "linear"
              }
             }
            ],
            "label": "49",
            "method": "animate"
           },
           {
            "args": [
             [
              "frame50"
             ],
             {
              "frame": {
               "duration": 0
              },
              "fromcurrent": true,
              "mode": "immediate",
              "transition": {
               "duration": 0,
               "easing": "linear"
              }
             }
            ],
            "label": "50",
            "method": "animate"
           },
           {
            "args": [
             [
              "frame51"
             ],
             {
              "frame": {
               "duration": 0
              },
              "fromcurrent": true,
              "mode": "immediate",
              "transition": {
               "duration": 0,
               "easing": "linear"
              }
             }
            ],
            "label": "51",
            "method": "animate"
           },
           {
            "args": [
             [
              "frame52"
             ],
             {
              "frame": {
               "duration": 0
              },
              "fromcurrent": true,
              "mode": "immediate",
              "transition": {
               "duration": 0,
               "easing": "linear"
              }
             }
            ],
            "label": "52",
            "method": "animate"
           },
           {
            "args": [
             [
              "frame53"
             ],
             {
              "frame": {
               "duration": 0
              },
              "fromcurrent": true,
              "mode": "immediate",
              "transition": {
               "duration": 0,
               "easing": "linear"
              }
             }
            ],
            "label": "53",
            "method": "animate"
           },
           {
            "args": [
             [
              "frame54"
             ],
             {
              "frame": {
               "duration": 0
              },
              "fromcurrent": true,
              "mode": "immediate",
              "transition": {
               "duration": 0,
               "easing": "linear"
              }
             }
            ],
            "label": "54",
            "method": "animate"
           },
           {
            "args": [
             [
              "frame55"
             ],
             {
              "frame": {
               "duration": 0
              },
              "fromcurrent": true,
              "mode": "immediate",
              "transition": {
               "duration": 0,
               "easing": "linear"
              }
             }
            ],
            "label": "55",
            "method": "animate"
           },
           {
            "args": [
             [
              "frame56"
             ],
             {
              "frame": {
               "duration": 0
              },
              "fromcurrent": true,
              "mode": "immediate",
              "transition": {
               "duration": 0,
               "easing": "linear"
              }
             }
            ],
            "label": "56",
            "method": "animate"
           },
           {
            "args": [
             [
              "frame57"
             ],
             {
              "frame": {
               "duration": 0
              },
              "fromcurrent": true,
              "mode": "immediate",
              "transition": {
               "duration": 0,
               "easing": "linear"
              }
             }
            ],
            "label": "57",
            "method": "animate"
           },
           {
            "args": [
             [
              "frame58"
             ],
             {
              "frame": {
               "duration": 0
              },
              "fromcurrent": true,
              "mode": "immediate",
              "transition": {
               "duration": 0,
               "easing": "linear"
              }
             }
            ],
            "label": "58",
            "method": "animate"
           },
           {
            "args": [
             [
              "frame59"
             ],
             {
              "frame": {
               "duration": 0
              },
              "fromcurrent": true,
              "mode": "immediate",
              "transition": {
               "duration": 0,
               "easing": "linear"
              }
             }
            ],
            "label": "59",
            "method": "animate"
           },
           {
            "args": [
             [
              "frame60"
             ],
             {
              "frame": {
               "duration": 0
              },
              "fromcurrent": true,
              "mode": "immediate",
              "transition": {
               "duration": 0,
               "easing": "linear"
              }
             }
            ],
            "label": "60",
            "method": "animate"
           },
           {
            "args": [
             [
              "frame61"
             ],
             {
              "frame": {
               "duration": 0
              },
              "fromcurrent": true,
              "mode": "immediate",
              "transition": {
               "duration": 0,
               "easing": "linear"
              }
             }
            ],
            "label": "61",
            "method": "animate"
           },
           {
            "args": [
             [
              "frame62"
             ],
             {
              "frame": {
               "duration": 0
              },
              "fromcurrent": true,
              "mode": "immediate",
              "transition": {
               "duration": 0,
               "easing": "linear"
              }
             }
            ],
            "label": "62",
            "method": "animate"
           },
           {
            "args": [
             [
              "frame63"
             ],
             {
              "frame": {
               "duration": 0
              },
              "fromcurrent": true,
              "mode": "immediate",
              "transition": {
               "duration": 0,
               "easing": "linear"
              }
             }
            ],
            "label": "63",
            "method": "animate"
           },
           {
            "args": [
             [
              "frame64"
             ],
             {
              "frame": {
               "duration": 0
              },
              "fromcurrent": true,
              "mode": "immediate",
              "transition": {
               "duration": 0,
               "easing": "linear"
              }
             }
            ],
            "label": "64",
            "method": "animate"
           },
           {
            "args": [
             [
              "frame65"
             ],
             {
              "frame": {
               "duration": 0
              },
              "fromcurrent": true,
              "mode": "immediate",
              "transition": {
               "duration": 0,
               "easing": "linear"
              }
             }
            ],
            "label": "65",
            "method": "animate"
           },
           {
            "args": [
             [
              "frame66"
             ],
             {
              "frame": {
               "duration": 0
              },
              "fromcurrent": true,
              "mode": "immediate",
              "transition": {
               "duration": 0,
               "easing": "linear"
              }
             }
            ],
            "label": "66",
            "method": "animate"
           },
           {
            "args": [
             [
              "frame67"
             ],
             {
              "frame": {
               "duration": 0
              },
              "fromcurrent": true,
              "mode": "immediate",
              "transition": {
               "duration": 0,
               "easing": "linear"
              }
             }
            ],
            "label": "67",
            "method": "animate"
           },
           {
            "args": [
             [
              "frame68"
             ],
             {
              "frame": {
               "duration": 0
              },
              "fromcurrent": true,
              "mode": "immediate",
              "transition": {
               "duration": 0,
               "easing": "linear"
              }
             }
            ],
            "label": "68",
            "method": "animate"
           },
           {
            "args": [
             [
              "frame69"
             ],
             {
              "frame": {
               "duration": 0
              },
              "fromcurrent": true,
              "mode": "immediate",
              "transition": {
               "duration": 0,
               "easing": "linear"
              }
             }
            ],
            "label": "69",
            "method": "animate"
           },
           {
            "args": [
             [
              "frame70"
             ],
             {
              "frame": {
               "duration": 0
              },
              "fromcurrent": true,
              "mode": "immediate",
              "transition": {
               "duration": 0,
               "easing": "linear"
              }
             }
            ],
            "label": "70",
            "method": "animate"
           },
           {
            "args": [
             [
              "frame71"
             ],
             {
              "frame": {
               "duration": 0
              },
              "fromcurrent": true,
              "mode": "immediate",
              "transition": {
               "duration": 0,
               "easing": "linear"
              }
             }
            ],
            "label": "71",
            "method": "animate"
           },
           {
            "args": [
             [
              "frame72"
             ],
             {
              "frame": {
               "duration": 0
              },
              "fromcurrent": true,
              "mode": "immediate",
              "transition": {
               "duration": 0,
               "easing": "linear"
              }
             }
            ],
            "label": "72",
            "method": "animate"
           },
           {
            "args": [
             [
              "frame73"
             ],
             {
              "frame": {
               "duration": 0
              },
              "fromcurrent": true,
              "mode": "immediate",
              "transition": {
               "duration": 0,
               "easing": "linear"
              }
             }
            ],
            "label": "73",
            "method": "animate"
           },
           {
            "args": [
             [
              "frame74"
             ],
             {
              "frame": {
               "duration": 0
              },
              "fromcurrent": true,
              "mode": "immediate",
              "transition": {
               "duration": 0,
               "easing": "linear"
              }
             }
            ],
            "label": "74",
            "method": "animate"
           },
           {
            "args": [
             [
              "frame75"
             ],
             {
              "frame": {
               "duration": 0
              },
              "fromcurrent": true,
              "mode": "immediate",
              "transition": {
               "duration": 0,
               "easing": "linear"
              }
             }
            ],
            "label": "75",
            "method": "animate"
           },
           {
            "args": [
             [
              "frame76"
             ],
             {
              "frame": {
               "duration": 0
              },
              "fromcurrent": true,
              "mode": "immediate",
              "transition": {
               "duration": 0,
               "easing": "linear"
              }
             }
            ],
            "label": "76",
            "method": "animate"
           },
           {
            "args": [
             [
              "frame77"
             ],
             {
              "frame": {
               "duration": 0
              },
              "fromcurrent": true,
              "mode": "immediate",
              "transition": {
               "duration": 0,
               "easing": "linear"
              }
             }
            ],
            "label": "77",
            "method": "animate"
           },
           {
            "args": [
             [
              "frame78"
             ],
             {
              "frame": {
               "duration": 0
              },
              "fromcurrent": true,
              "mode": "immediate",
              "transition": {
               "duration": 0,
               "easing": "linear"
              }
             }
            ],
            "label": "78",
            "method": "animate"
           },
           {
            "args": [
             [
              "frame79"
             ],
             {
              "frame": {
               "duration": 0
              },
              "fromcurrent": true,
              "mode": "immediate",
              "transition": {
               "duration": 0,
               "easing": "linear"
              }
             }
            ],
            "label": "79",
            "method": "animate"
           },
           {
            "args": [
             [
              "frame80"
             ],
             {
              "frame": {
               "duration": 0
              },
              "fromcurrent": true,
              "mode": "immediate",
              "transition": {
               "duration": 0,
               "easing": "linear"
              }
             }
            ],
            "label": "80",
            "method": "animate"
           },
           {
            "args": [
             [
              "frame81"
             ],
             {
              "frame": {
               "duration": 0
              },
              "fromcurrent": true,
              "mode": "immediate",
              "transition": {
               "duration": 0,
               "easing": "linear"
              }
             }
            ],
            "label": "81",
            "method": "animate"
           },
           {
            "args": [
             [
              "frame82"
             ],
             {
              "frame": {
               "duration": 0
              },
              "fromcurrent": true,
              "mode": "immediate",
              "transition": {
               "duration": 0,
               "easing": "linear"
              }
             }
            ],
            "label": "82",
            "method": "animate"
           },
           {
            "args": [
             [
              "frame83"
             ],
             {
              "frame": {
               "duration": 0
              },
              "fromcurrent": true,
              "mode": "immediate",
              "transition": {
               "duration": 0,
               "easing": "linear"
              }
             }
            ],
            "label": "83",
            "method": "animate"
           },
           {
            "args": [
             [
              "frame84"
             ],
             {
              "frame": {
               "duration": 0
              },
              "fromcurrent": true,
              "mode": "immediate",
              "transition": {
               "duration": 0,
               "easing": "linear"
              }
             }
            ],
            "label": "84",
            "method": "animate"
           },
           {
            "args": [
             [
              "frame85"
             ],
             {
              "frame": {
               "duration": 0
              },
              "fromcurrent": true,
              "mode": "immediate",
              "transition": {
               "duration": 0,
               "easing": "linear"
              }
             }
            ],
            "label": "85",
            "method": "animate"
           },
           {
            "args": [
             [
              "frame86"
             ],
             {
              "frame": {
               "duration": 0
              },
              "fromcurrent": true,
              "mode": "immediate",
              "transition": {
               "duration": 0,
               "easing": "linear"
              }
             }
            ],
            "label": "86",
            "method": "animate"
           },
           {
            "args": [
             [
              "frame87"
             ],
             {
              "frame": {
               "duration": 0
              },
              "fromcurrent": true,
              "mode": "immediate",
              "transition": {
               "duration": 0,
               "easing": "linear"
              }
             }
            ],
            "label": "87",
            "method": "animate"
           },
           {
            "args": [
             [
              "frame88"
             ],
             {
              "frame": {
               "duration": 0
              },
              "fromcurrent": true,
              "mode": "immediate",
              "transition": {
               "duration": 0,
               "easing": "linear"
              }
             }
            ],
            "label": "88",
            "method": "animate"
           },
           {
            "args": [
             [
              "frame89"
             ],
             {
              "frame": {
               "duration": 0
              },
              "fromcurrent": true,
              "mode": "immediate",
              "transition": {
               "duration": 0,
               "easing": "linear"
              }
             }
            ],
            "label": "89",
            "method": "animate"
           },
           {
            "args": [
             [
              "frame90"
             ],
             {
              "frame": {
               "duration": 0
              },
              "fromcurrent": true,
              "mode": "immediate",
              "transition": {
               "duration": 0,
               "easing": "linear"
              }
             }
            ],
            "label": "90",
            "method": "animate"
           },
           {
            "args": [
             [
              "frame91"
             ],
             {
              "frame": {
               "duration": 0
              },
              "fromcurrent": true,
              "mode": "immediate",
              "transition": {
               "duration": 0,
               "easing": "linear"
              }
             }
            ],
            "label": "91",
            "method": "animate"
           },
           {
            "args": [
             [
              "frame92"
             ],
             {
              "frame": {
               "duration": 0
              },
              "fromcurrent": true,
              "mode": "immediate",
              "transition": {
               "duration": 0,
               "easing": "linear"
              }
             }
            ],
            "label": "92",
            "method": "animate"
           },
           {
            "args": [
             [
              "frame93"
             ],
             {
              "frame": {
               "duration": 0
              },
              "fromcurrent": true,
              "mode": "immediate",
              "transition": {
               "duration": 0,
               "easing": "linear"
              }
             }
            ],
            "label": "93",
            "method": "animate"
           },
           {
            "args": [
             [
              "frame94"
             ],
             {
              "frame": {
               "duration": 0
              },
              "fromcurrent": true,
              "mode": "immediate",
              "transition": {
               "duration": 0,
               "easing": "linear"
              }
             }
            ],
            "label": "94",
            "method": "animate"
           },
           {
            "args": [
             [
              "frame95"
             ],
             {
              "frame": {
               "duration": 0
              },
              "fromcurrent": true,
              "mode": "immediate",
              "transition": {
               "duration": 0,
               "easing": "linear"
              }
             }
            ],
            "label": "95",
            "method": "animate"
           },
           {
            "args": [
             [
              "frame96"
             ],
             {
              "frame": {
               "duration": 0
              },
              "fromcurrent": true,
              "mode": "immediate",
              "transition": {
               "duration": 0,
               "easing": "linear"
              }
             }
            ],
            "label": "96",
            "method": "animate"
           },
           {
            "args": [
             [
              "frame97"
             ],
             {
              "frame": {
               "duration": 0
              },
              "fromcurrent": true,
              "mode": "immediate",
              "transition": {
               "duration": 0,
               "easing": "linear"
              }
             }
            ],
            "label": "97",
            "method": "animate"
           },
           {
            "args": [
             [
              "frame98"
             ],
             {
              "frame": {
               "duration": 0
              },
              "fromcurrent": true,
              "mode": "immediate",
              "transition": {
               "duration": 0,
               "easing": "linear"
              }
             }
            ],
            "label": "98",
            "method": "animate"
           }
          ],
          "x": 0.1,
          "y": 0
         }
        ],
        "template": {
         "data": {
          "bar": [
           {
            "error_x": {
             "color": "#2a3f5f"
            },
            "error_y": {
             "color": "#2a3f5f"
            },
            "marker": {
             "line": {
              "color": "#E5ECF6",
              "width": 0.5
             },
             "pattern": {
              "fillmode": "overlay",
              "size": 10,
              "solidity": 0.2
             }
            },
            "type": "bar"
           }
          ],
          "barpolar": [
           {
            "marker": {
             "line": {
              "color": "#E5ECF6",
              "width": 0.5
             },
             "pattern": {
              "fillmode": "overlay",
              "size": 10,
              "solidity": 0.2
             }
            },
            "type": "barpolar"
           }
          ],
          "carpet": [
           {
            "aaxis": {
             "endlinecolor": "#2a3f5f",
             "gridcolor": "white",
             "linecolor": "white",
             "minorgridcolor": "white",
             "startlinecolor": "#2a3f5f"
            },
            "baxis": {
             "endlinecolor": "#2a3f5f",
             "gridcolor": "white",
             "linecolor": "white",
             "minorgridcolor": "white",
             "startlinecolor": "#2a3f5f"
            },
            "type": "carpet"
           }
          ],
          "choropleth": [
           {
            "colorbar": {
             "outlinewidth": 0,
             "ticks": ""
            },
            "type": "choropleth"
           }
          ],
          "contour": [
           {
            "colorbar": {
             "outlinewidth": 0,
             "ticks": ""
            },
            "colorscale": [
             [
              0,
              "#0d0887"
             ],
             [
              0.1111111111111111,
              "#46039f"
             ],
             [
              0.2222222222222222,
              "#7201a8"
             ],
             [
              0.3333333333333333,
              "#9c179e"
             ],
             [
              0.4444444444444444,
              "#bd3786"
             ],
             [
              0.5555555555555556,
              "#d8576b"
             ],
             [
              0.6666666666666666,
              "#ed7953"
             ],
             [
              0.7777777777777778,
              "#fb9f3a"
             ],
             [
              0.8888888888888888,
              "#fdca26"
             ],
             [
              1,
              "#f0f921"
             ]
            ],
            "type": "contour"
           }
          ],
          "contourcarpet": [
           {
            "colorbar": {
             "outlinewidth": 0,
             "ticks": ""
            },
            "type": "contourcarpet"
           }
          ],
          "heatmap": [
           {
            "colorbar": {
             "outlinewidth": 0,
             "ticks": ""
            },
            "colorscale": [
             [
              0,
              "#0d0887"
             ],
             [
              0.1111111111111111,
              "#46039f"
             ],
             [
              0.2222222222222222,
              "#7201a8"
             ],
             [
              0.3333333333333333,
              "#9c179e"
             ],
             [
              0.4444444444444444,
              "#bd3786"
             ],
             [
              0.5555555555555556,
              "#d8576b"
             ],
             [
              0.6666666666666666,
              "#ed7953"
             ],
             [
              0.7777777777777778,
              "#fb9f3a"
             ],
             [
              0.8888888888888888,
              "#fdca26"
             ],
             [
              1,
              "#f0f921"
             ]
            ],
            "type": "heatmap"
           }
          ],
          "heatmapgl": [
           {
            "colorbar": {
             "outlinewidth": 0,
             "ticks": ""
            },
            "colorscale": [
             [
              0,
              "#0d0887"
             ],
             [
              0.1111111111111111,
              "#46039f"
             ],
             [
              0.2222222222222222,
              "#7201a8"
             ],
             [
              0.3333333333333333,
              "#9c179e"
             ],
             [
              0.4444444444444444,
              "#bd3786"
             ],
             [
              0.5555555555555556,
              "#d8576b"
             ],
             [
              0.6666666666666666,
              "#ed7953"
             ],
             [
              0.7777777777777778,
              "#fb9f3a"
             ],
             [
              0.8888888888888888,
              "#fdca26"
             ],
             [
              1,
              "#f0f921"
             ]
            ],
            "type": "heatmapgl"
           }
          ],
          "histogram": [
           {
            "marker": {
             "pattern": {
              "fillmode": "overlay",
              "size": 10,
              "solidity": 0.2
             }
            },
            "type": "histogram"
           }
          ],
          "histogram2d": [
           {
            "colorbar": {
             "outlinewidth": 0,
             "ticks": ""
            },
            "colorscale": [
             [
              0,
              "#0d0887"
             ],
             [
              0.1111111111111111,
              "#46039f"
             ],
             [
              0.2222222222222222,
              "#7201a8"
             ],
             [
              0.3333333333333333,
              "#9c179e"
             ],
             [
              0.4444444444444444,
              "#bd3786"
             ],
             [
              0.5555555555555556,
              "#d8576b"
             ],
             [
              0.6666666666666666,
              "#ed7953"
             ],
             [
              0.7777777777777778,
              "#fb9f3a"
             ],
             [
              0.8888888888888888,
              "#fdca26"
             ],
             [
              1,
              "#f0f921"
             ]
            ],
            "type": "histogram2d"
           }
          ],
          "histogram2dcontour": [
           {
            "colorbar": {
             "outlinewidth": 0,
             "ticks": ""
            },
            "colorscale": [
             [
              0,
              "#0d0887"
             ],
             [
              0.1111111111111111,
              "#46039f"
             ],
             [
              0.2222222222222222,
              "#7201a8"
             ],
             [
              0.3333333333333333,
              "#9c179e"
             ],
             [
              0.4444444444444444,
              "#bd3786"
             ],
             [
              0.5555555555555556,
              "#d8576b"
             ],
             [
              0.6666666666666666,
              "#ed7953"
             ],
             [
              0.7777777777777778,
              "#fb9f3a"
             ],
             [
              0.8888888888888888,
              "#fdca26"
             ],
             [
              1,
              "#f0f921"
             ]
            ],
            "type": "histogram2dcontour"
           }
          ],
          "mesh3d": [
           {
            "colorbar": {
             "outlinewidth": 0,
             "ticks": ""
            },
            "type": "mesh3d"
           }
          ],
          "parcoords": [
           {
            "line": {
             "colorbar": {
              "outlinewidth": 0,
              "ticks": ""
             }
            },
            "type": "parcoords"
           }
          ],
          "pie": [
           {
            "automargin": true,
            "type": "pie"
           }
          ],
          "scatter": [
           {
            "fillpattern": {
             "fillmode": "overlay",
             "size": 10,
             "solidity": 0.2
            },
            "type": "scatter"
           }
          ],
          "scatter3d": [
           {
            "line": {
             "colorbar": {
              "outlinewidth": 0,
              "ticks": ""
             }
            },
            "marker": {
             "colorbar": {
              "outlinewidth": 0,
              "ticks": ""
             }
            },
            "type": "scatter3d"
           }
          ],
          "scattercarpet": [
           {
            "marker": {
             "colorbar": {
              "outlinewidth": 0,
              "ticks": ""
             }
            },
            "type": "scattercarpet"
           }
          ],
          "scattergeo": [
           {
            "marker": {
             "colorbar": {
              "outlinewidth": 0,
              "ticks": ""
             }
            },
            "type": "scattergeo"
           }
          ],
          "scattergl": [
           {
            "marker": {
             "colorbar": {
              "outlinewidth": 0,
              "ticks": ""
             }
            },
            "type": "scattergl"
           }
          ],
          "scattermapbox": [
           {
            "marker": {
             "colorbar": {
              "outlinewidth": 0,
              "ticks": ""
             }
            },
            "type": "scattermapbox"
           }
          ],
          "scatterpolar": [
           {
            "marker": {
             "colorbar": {
              "outlinewidth": 0,
              "ticks": ""
             }
            },
            "type": "scatterpolar"
           }
          ],
          "scatterpolargl": [
           {
            "marker": {
             "colorbar": {
              "outlinewidth": 0,
              "ticks": ""
             }
            },
            "type": "scatterpolargl"
           }
          ],
          "scatterternary": [
           {
            "marker": {
             "colorbar": {
              "outlinewidth": 0,
              "ticks": ""
             }
            },
            "type": "scatterternary"
           }
          ],
          "surface": [
           {
            "colorbar": {
             "outlinewidth": 0,
             "ticks": ""
            },
            "colorscale": [
             [
              0,
              "#0d0887"
             ],
             [
              0.1111111111111111,
              "#46039f"
             ],
             [
              0.2222222222222222,
              "#7201a8"
             ],
             [
              0.3333333333333333,
              "#9c179e"
             ],
             [
              0.4444444444444444,
              "#bd3786"
             ],
             [
              0.5555555555555556,
              "#d8576b"
             ],
             [
              0.6666666666666666,
              "#ed7953"
             ],
             [
              0.7777777777777778,
              "#fb9f3a"
             ],
             [
              0.8888888888888888,
              "#fdca26"
             ],
             [
              1,
              "#f0f921"
             ]
            ],
            "type": "surface"
           }
          ],
          "table": [
           {
            "cells": {
             "fill": {
              "color": "#EBF0F8"
             },
             "line": {
              "color": "white"
             }
            },
            "header": {
             "fill": {
              "color": "#C8D4E3"
             },
             "line": {
              "color": "white"
             }
            },
            "type": "table"
           }
          ]
         },
         "layout": {
          "annotationdefaults": {
           "arrowcolor": "#2a3f5f",
           "arrowhead": 0,
           "arrowwidth": 1
          },
          "autotypenumbers": "strict",
          "coloraxis": {
           "colorbar": {
            "outlinewidth": 0,
            "ticks": ""
           }
          },
          "colorscale": {
           "diverging": [
            [
             0,
             "#8e0152"
            ],
            [
             0.1,
             "#c51b7d"
            ],
            [
             0.2,
             "#de77ae"
            ],
            [
             0.3,
             "#f1b6da"
            ],
            [
             0.4,
             "#fde0ef"
            ],
            [
             0.5,
             "#f7f7f7"
            ],
            [
             0.6,
             "#e6f5d0"
            ],
            [
             0.7,
             "#b8e186"
            ],
            [
             0.8,
             "#7fbc41"
            ],
            [
             0.9,
             "#4d9221"
            ],
            [
             1,
             "#276419"
            ]
           ],
           "sequential": [
            [
             0,
             "#0d0887"
            ],
            [
             0.1111111111111111,
             "#46039f"
            ],
            [
             0.2222222222222222,
             "#7201a8"
            ],
            [
             0.3333333333333333,
             "#9c179e"
            ],
            [
             0.4444444444444444,
             "#bd3786"
            ],
            [
             0.5555555555555556,
             "#d8576b"
            ],
            [
             0.6666666666666666,
             "#ed7953"
            ],
            [
             0.7777777777777778,
             "#fb9f3a"
            ],
            [
             0.8888888888888888,
             "#fdca26"
            ],
            [
             1,
             "#f0f921"
            ]
           ],
           "sequentialminus": [
            [
             0,
             "#0d0887"
            ],
            [
             0.1111111111111111,
             "#46039f"
            ],
            [
             0.2222222222222222,
             "#7201a8"
            ],
            [
             0.3333333333333333,
             "#9c179e"
            ],
            [
             0.4444444444444444,
             "#bd3786"
            ],
            [
             0.5555555555555556,
             "#d8576b"
            ],
            [
             0.6666666666666666,
             "#ed7953"
            ],
            [
             0.7777777777777778,
             "#fb9f3a"
            ],
            [
             0.8888888888888888,
             "#fdca26"
            ],
            [
             1,
             "#f0f921"
            ]
           ]
          },
          "colorway": [
           "#636efa",
           "#EF553B",
           "#00cc96",
           "#ab63fa",
           "#FFA15A",
           "#19d3f3",
           "#FF6692",
           "#B6E880",
           "#FF97FF",
           "#FECB52"
          ],
          "font": {
           "color": "#2a3f5f"
          },
          "geo": {
           "bgcolor": "white",
           "lakecolor": "white",
           "landcolor": "#E5ECF6",
           "showlakes": true,
           "showland": true,
           "subunitcolor": "white"
          },
          "hoverlabel": {
           "align": "left"
          },
          "hovermode": "closest",
          "mapbox": {
           "style": "light"
          },
          "paper_bgcolor": "white",
          "plot_bgcolor": "#E5ECF6",
          "polar": {
           "angularaxis": {
            "gridcolor": "white",
            "linecolor": "white",
            "ticks": ""
           },
           "bgcolor": "#E5ECF6",
           "radialaxis": {
            "gridcolor": "white",
            "linecolor": "white",
            "ticks": ""
           }
          },
          "scene": {
           "xaxis": {
            "backgroundcolor": "#E5ECF6",
            "gridcolor": "white",
            "gridwidth": 2,
            "linecolor": "white",
            "showbackground": true,
            "ticks": "",
            "zerolinecolor": "white"
           },
           "yaxis": {
            "backgroundcolor": "#E5ECF6",
            "gridcolor": "white",
            "gridwidth": 2,
            "linecolor": "white",
            "showbackground": true,
            "ticks": "",
            "zerolinecolor": "white"
           },
           "zaxis": {
            "backgroundcolor": "#E5ECF6",
            "gridcolor": "white",
            "gridwidth": 2,
            "linecolor": "white",
            "showbackground": true,
            "ticks": "",
            "zerolinecolor": "white"
           }
          },
          "shapedefaults": {
           "line": {
            "color": "#2a3f5f"
           }
          },
          "ternary": {
           "aaxis": {
            "gridcolor": "white",
            "linecolor": "white",
            "ticks": ""
           },
           "baxis": {
            "gridcolor": "white",
            "linecolor": "white",
            "ticks": ""
           },
           "bgcolor": "#E5ECF6",
           "caxis": {
            "gridcolor": "white",
            "linecolor": "white",
            "ticks": ""
           }
          },
          "title": {
           "x": 0.05
          },
          "xaxis": {
           "automargin": true,
           "gridcolor": "white",
           "linecolor": "white",
           "ticks": "",
           "title": {
            "standoff": 15
           },
           "zerolinecolor": "white",
           "zerolinewidth": 2
          },
          "yaxis": {
           "automargin": true,
           "gridcolor": "white",
           "linecolor": "white",
           "ticks": "",
           "title": {
            "standoff": 15
           },
           "zerolinecolor": "white",
           "zerolinewidth": 2
          }
         }
        }
       }
      }
     },
     "metadata": {},
     "output_type": "display_data"
    }
   ],
   "source": [
    "MocapLowerLandmark.df2landmark(mocap_df, 100)\n",
    "\n",
    "def plot3d_with_slider(mocap_df) :\n",
    "    n_frames = len(mocap_df)\n",
    "    points_list = np.array(list(map(\n",
    "        lambda idx : MocapLowerLandmark.df2landmark(\n",
    "            mocap_df, idx\n",
    "        ),\n",
    "        range(n_frames)\n",
    "    )))\n",
    "    \n",
    "    points_list_ = np.nan_to_num(points_list.copy(), 0.1)\n",
    "\n",
    "    xmin = points_list_[:, :, 0].min()\n",
    "    xmax = points_list_[:, :, 0].max()\n",
    "    ymin = points_list_[:, :, 1].min()\n",
    "    ymax = points_list_[:, :, 1].max()\n",
    "    zmin = points_list_[:, :, 2].min()\n",
    "    zmax = points_list_[:, :, 2].max()\n",
    "\n",
    "    \n",
    "    connection_idx_list = MocapLowerLandmark.CONN_PATH_LIST\n",
    "    line_color_list = ['red'] * (len(connection_idx_list))\n",
    "    \n",
    "    \n",
    "    fig = go.Figure(\n",
    "        data = go.Scatter3d(\n",
    "            x=[], y=[], z=[],\n",
    "            mode = 'lines+markers+text',\n",
    "            marker=dict(color=\"red\", size=2)\n",
    "        )\n",
    "    )\n",
    "    frame_list = [\n",
    "        go.Frame(\n",
    "            data = list(map(\n",
    "                lambda i, j, c : go.Scatter3d(\n",
    "                    x = points[[i, j], 0],\n",
    "                    y = points[[i, j], 1],\n",
    "                    z = points[[i, j], 2],\n",
    "                    mode = 'lines+markers+text',\n",
    "                    line = dict(\n",
    "                        color = c\n",
    "                    ),\n",
    "                    marker = dict(\n",
    "                        color = c,\n",
    "                        size = 2\n",
    "                    )\n",
    "                ),\n",
    "                connection_idx_list[:-1],\n",
    "                connection_idx_list[1:],\n",
    "                line_color_list\n",
    "            )),\n",
    "            traces=[0],\n",
    "            name=f\"frame{fidx}\"\n",
    "        )\n",
    "        for fidx, points in enumerate(points_list)\n",
    "    ]\n",
    "    fig.update(frames = frames)\n",
    "\n",
    "    def frame_args(duration):\n",
    "        return {\n",
    "            \"frame\": {\"duration\": duration},\n",
    "            \"mode\": \"immediate\",\n",
    "            \"fromcurrent\": True,\n",
    "            \"transition\": {\"duration\": duration, \"easing\": \"linear\"},\n",
    "        }\n",
    "\n",
    "    sliders = [\n",
    "        {\n",
    "            \"pad\": {\"b\": 10, \"t\": 60},\n",
    "            \"len\": 0.9,\n",
    "            \"x\": 0.1,\n",
    "            \"y\": 0,\n",
    "            \"steps\": [\n",
    "                {\n",
    "                    \"args\": [[f.name], frame_args(0)],\n",
    "                    \"label\": str(k),\n",
    "                    \"method\": \"animate\",\n",
    "                } for k, f in enumerate(fig.frames)\n",
    "            ]\n",
    "        }\n",
    "    ]\n",
    "\n",
    "    fig.update_layout(\n",
    "        updatemenus = [\n",
    "            {\n",
    "                \"buttons\":[\n",
    "                    {\n",
    "                        \"args\": [None, frame_args(50)],\n",
    "                        \"label\": \"Play\", \n",
    "                        \"method\": \"animate\",\n",
    "                    },\n",
    "                    {\n",
    "                        \"args\": [[None], frame_args(0)],\n",
    "                        \"label\": \"Pause\", \n",
    "                        \"method\": \"animate\",\n",
    "                    }\n",
    "                ],    \n",
    "                \"direction\": \"left\",\n",
    "                \"pad\": {\"r\": 10, \"t\": 70},\n",
    "                \"type\": \"buttons\",\n",
    "                \"x\": 0.1,\n",
    "                \"y\": 0,\n",
    "            }\n",
    "        ],\n",
    "        sliders=sliders\n",
    "    )\n",
    "\n",
    "    layout = go.Layout(\n",
    "        scene = dict(\n",
    "            camera = dict(\n",
    "                eye = dict(x=-1, y = -1, z = 1)\n",
    "            ),\n",
    "            aspectmode=\"data\"\n",
    "        )\n",
    "    )\n",
    "    fig.layout = layout\n",
    "\n",
    "    max_range = max(xmax-xmin, ymax-ymin, zmax, zmin)\n",
    "    #max_range = np.max(np.ptp(points_list[0], axis=0))\n",
    "    #xmin, ymin, zmin = points_list[0].min(axis=0)\n",
    "\n",
    "    fig.update_layout(scene=dict(aspectmode='cube'))\n",
    "    fig.update_layout(\n",
    "        scene=dict(\n",
    "            xaxis = dict(range=[xmin-0.1, xmin + max_range+ 0.1]),\n",
    "            yaxis = dict(range=[ymin-0.1, ymin + max_range+ 0.1]),\n",
    "            zaxis = dict(range=[zmin-0.1, zmin + max_range+ 0.1])\n",
    "        )\n",
    "    )\n",
    "\n",
    "\n",
    "\n",
    "    fig.update_layout(sliders=sliders)\n",
    "    fig.show()\n",
    "\n",
    "plot3d_with_slider(mocap_df)"
   ]
  },
  {
   "cell_type": "code",
   "execution_count": 56,
   "metadata": {},
   "outputs": [
    {
     "data": {
      "text/plain": [
       "(0.0, 0.575867, 0.0, 0.993897, 0.0, 0.836932)"
      ]
     },
     "execution_count": 56,
     "metadata": {},
     "output_type": "execute_result"
    }
   ],
   "source": [
    "n_frames = len(mocap_df)\n",
    "points_list = np.array(list(map(\n",
    "    lambda idx : MocapLowerLandmark.df2landmark(\n",
    "        mocap_df, idx\n",
    "    ),\n",
    "    range(n_frames)\n",
    ")))\n",
    "\n",
    "points_list_ = np.nan_to_num(points_list.copy(), 0.1)\n",
    "\n",
    "xmin = points_list_[:, :, 0].min()\n",
    "xmax = points_list_[:, :, 0].max()\n",
    "ymin = points_list_[:, :, 1].min()\n",
    "ymax = points_list_[:, :, 1].max()\n",
    "zmin = points_list_[:, :, 2].min()\n",
    "zmax = points_list_[:, :, 2].max()\n",
    "\n",
    "xmin, xmax, ymin, ymax, zmin, zmax"
   ]
  },
  {
   "cell_type": "code",
   "execution_count": 58,
   "metadata": {},
   "outputs": [
    {
     "data": {
      "text/plain": [
       "3"
      ]
     },
     "execution_count": 58,
     "metadata": {},
     "output_type": "execute_result"
    }
   ],
   "source": [
    "max(1, 2, 3)"
   ]
  },
  {
   "cell_type": "code",
   "execution_count": 80,
   "metadata": {},
   "outputs": [
    {
     "data": {
      "application/vnd.plotly.v1+json": {
       "config": {
        "plotlyServerURL": "https://plot.ly"
       },
       "data": [
        {
         "line": {
          "color": "red"
         },
         "marker": {
          "color": "red",
          "size": 2
         },
         "mode": "lines+markers+text",
         "type": "scatter3d",
         "x": [
          0.198872,
          0.369634
         ],
         "y": [
          0.05138,
          0.081645
         ],
         "z": [
          0.772931,
          0.693437
         ]
        },
        {
         "line": {
          "color": "red"
         },
         "marker": {
          "color": "red",
          "size": 2
         },
         "mode": "lines+markers+text",
         "type": "scatter3d",
         "x": [
          0.369634,
          0.338916
         ],
         "y": [
          0.081645,
          0.084436
         ],
         "z": [
          0.693437,
          0.752809
         ]
        },
        {
         "line": {
          "color": "red"
         },
         "marker": {
          "color": "red",
          "size": 2
         },
         "mode": "lines+markers+text",
         "type": "scatter3d",
         "x": [
          0.338916,
          0.297212
         ],
         "y": [
          0.084436,
          0.513621
         ],
         "z": [
          0.752809,
          0.717409
         ]
        },
        {
         "line": {
          "color": "red"
         },
         "marker": {
          "color": "red",
          "size": 2
         },
         "mode": "lines+markers+text",
         "type": "scatter3d",
         "x": [
          0.297212,
          0.191586
         ],
         "y": [
          0.513621,
          0.983734
         ],
         "z": [
          0.717409,
          0.667026
         ]
        },
        {
         "line": {
          "color": "red"
         },
         "marker": {
          "color": "red",
          "size": 2
         },
         "mode": "lines+markers+text",
         "type": "scatter3d",
         "x": [
          0.191586,
          0.37478
         ],
         "y": [
          0.983734,
          0.988316
         ],
         "z": [
          0.667026,
          0.572416
         ]
        },
        {
         "line": {
          "color": "red"
         },
         "marker": {
          "color": "red",
          "size": 2
         },
         "mode": "lines+markers+text",
         "type": "scatter3d",
         "x": [
          0.37478,
          0.373585
         ],
         "y": [
          0.988316,
          0.984046
         ],
         "z": [
          0.572416,
          0.465982
         ]
        },
        {
         "line": {
          "color": "red"
         },
         "marker": {
          "color": "red",
          "size": 2
         },
         "mode": "lines+markers+text",
         "type": "scatter3d",
         "x": [
          0.373585,
          0.180945
         ],
         "y": [
          0.984046,
          0.968375
         ],
         "z": [
          0.465982,
          0.393901
         ]
        },
        {
         "line": {
          "color": "red"
         },
         "marker": {
          "color": "red",
          "size": 2
         },
         "mode": "lines+markers+text",
         "type": "scatter3d",
         "x": [
          0.180945,
          0.292822
         ],
         "y": [
          0.968375,
          0.515068
         ],
         "z": [
          0.393901,
          0.313044
         ]
        },
        {
         "line": {
          "color": "red"
         },
         "marker": {
          "color": "red",
          "size": 2
         },
         "mode": "lines+markers+text",
         "type": "scatter3d",
         "x": [
          0.292822,
          0.353347
         ],
         "y": [
          0.515068,
          0.077524
         ],
         "z": [
          0.313044,
          0.27215
         ]
        },
        {
         "line": {
          "color": "red"
         },
         "marker": {
          "color": "red",
          "size": 2
         },
         "mode": "lines+markers+text",
         "type": "scatter3d",
         "x": [
          0.353347,
          0.377832
         ],
         "y": [
          0.077524,
          0.077757
         ],
         "z": [
          0.27215,
          0.331774
         ]
        },
        {
         "line": {
          "color": "red"
         },
         "marker": {
          "color": "red",
          "size": 2
         },
         "mode": "lines+markers+text",
         "type": "scatter3d",
         "x": [
          0.377832,
          0.193287
         ],
         "y": [
          0.077757,
          0.041243
         ],
         "z": [
          0.331774,
          0.244515
         ]
        }
       ],
       "layout": {
        "scene": {
         "xaxis": {
          "autorange": false,
          "range": [
           0.284724,
           0.2947
          ]
         },
         "yaxis": {
          "autorange": false,
          "range": [
           0.587054,
           0.59291
          ]
         },
         "zaxis": {
          "autorange": false,
          "range": [
           0.706718,
           0.718887
          ]
         }
        },
        "sliders": [
         {
          "len": 0.9,
          "pad": {
           "b": 10,
           "t": 60
          },
          "x": 0.1,
          "y": 0
         }
        ],
        "template": {
         "data": {
          "bar": [
           {
            "error_x": {
             "color": "#2a3f5f"
            },
            "error_y": {
             "color": "#2a3f5f"
            },
            "marker": {
             "line": {
              "color": "#E5ECF6",
              "width": 0.5
             },
             "pattern": {
              "fillmode": "overlay",
              "size": 10,
              "solidity": 0.2
             }
            },
            "type": "bar"
           }
          ],
          "barpolar": [
           {
            "marker": {
             "line": {
              "color": "#E5ECF6",
              "width": 0.5
             },
             "pattern": {
              "fillmode": "overlay",
              "size": 10,
              "solidity": 0.2
             }
            },
            "type": "barpolar"
           }
          ],
          "carpet": [
           {
            "aaxis": {
             "endlinecolor": "#2a3f5f",
             "gridcolor": "white",
             "linecolor": "white",
             "minorgridcolor": "white",
             "startlinecolor": "#2a3f5f"
            },
            "baxis": {
             "endlinecolor": "#2a3f5f",
             "gridcolor": "white",
             "linecolor": "white",
             "minorgridcolor": "white",
             "startlinecolor": "#2a3f5f"
            },
            "type": "carpet"
           }
          ],
          "choropleth": [
           {
            "colorbar": {
             "outlinewidth": 0,
             "ticks": ""
            },
            "type": "choropleth"
           }
          ],
          "contour": [
           {
            "colorbar": {
             "outlinewidth": 0,
             "ticks": ""
            },
            "colorscale": [
             [
              0,
              "#0d0887"
             ],
             [
              0.1111111111111111,
              "#46039f"
             ],
             [
              0.2222222222222222,
              "#7201a8"
             ],
             [
              0.3333333333333333,
              "#9c179e"
             ],
             [
              0.4444444444444444,
              "#bd3786"
             ],
             [
              0.5555555555555556,
              "#d8576b"
             ],
             [
              0.6666666666666666,
              "#ed7953"
             ],
             [
              0.7777777777777778,
              "#fb9f3a"
             ],
             [
              0.8888888888888888,
              "#fdca26"
             ],
             [
              1,
              "#f0f921"
             ]
            ],
            "type": "contour"
           }
          ],
          "contourcarpet": [
           {
            "colorbar": {
             "outlinewidth": 0,
             "ticks": ""
            },
            "type": "contourcarpet"
           }
          ],
          "heatmap": [
           {
            "colorbar": {
             "outlinewidth": 0,
             "ticks": ""
            },
            "colorscale": [
             [
              0,
              "#0d0887"
             ],
             [
              0.1111111111111111,
              "#46039f"
             ],
             [
              0.2222222222222222,
              "#7201a8"
             ],
             [
              0.3333333333333333,
              "#9c179e"
             ],
             [
              0.4444444444444444,
              "#bd3786"
             ],
             [
              0.5555555555555556,
              "#d8576b"
             ],
             [
              0.6666666666666666,
              "#ed7953"
             ],
             [
              0.7777777777777778,
              "#fb9f3a"
             ],
             [
              0.8888888888888888,
              "#fdca26"
             ],
             [
              1,
              "#f0f921"
             ]
            ],
            "type": "heatmap"
           }
          ],
          "heatmapgl": [
           {
            "colorbar": {
             "outlinewidth": 0,
             "ticks": ""
            },
            "colorscale": [
             [
              0,
              "#0d0887"
             ],
             [
              0.1111111111111111,
              "#46039f"
             ],
             [
              0.2222222222222222,
              "#7201a8"
             ],
             [
              0.3333333333333333,
              "#9c179e"
             ],
             [
              0.4444444444444444,
              "#bd3786"
             ],
             [
              0.5555555555555556,
              "#d8576b"
             ],
             [
              0.6666666666666666,
              "#ed7953"
             ],
             [
              0.7777777777777778,
              "#fb9f3a"
             ],
             [
              0.8888888888888888,
              "#fdca26"
             ],
             [
              1,
              "#f0f921"
             ]
            ],
            "type": "heatmapgl"
           }
          ],
          "histogram": [
           {
            "marker": {
             "pattern": {
              "fillmode": "overlay",
              "size": 10,
              "solidity": 0.2
             }
            },
            "type": "histogram"
           }
          ],
          "histogram2d": [
           {
            "colorbar": {
             "outlinewidth": 0,
             "ticks": ""
            },
            "colorscale": [
             [
              0,
              "#0d0887"
             ],
             [
              0.1111111111111111,
              "#46039f"
             ],
             [
              0.2222222222222222,
              "#7201a8"
             ],
             [
              0.3333333333333333,
              "#9c179e"
             ],
             [
              0.4444444444444444,
              "#bd3786"
             ],
             [
              0.5555555555555556,
              "#d8576b"
             ],
             [
              0.6666666666666666,
              "#ed7953"
             ],
             [
              0.7777777777777778,
              "#fb9f3a"
             ],
             [
              0.8888888888888888,
              "#fdca26"
             ],
             [
              1,
              "#f0f921"
             ]
            ],
            "type": "histogram2d"
           }
          ],
          "histogram2dcontour": [
           {
            "colorbar": {
             "outlinewidth": 0,
             "ticks": ""
            },
            "colorscale": [
             [
              0,
              "#0d0887"
             ],
             [
              0.1111111111111111,
              "#46039f"
             ],
             [
              0.2222222222222222,
              "#7201a8"
             ],
             [
              0.3333333333333333,
              "#9c179e"
             ],
             [
              0.4444444444444444,
              "#bd3786"
             ],
             [
              0.5555555555555556,
              "#d8576b"
             ],
             [
              0.6666666666666666,
              "#ed7953"
             ],
             [
              0.7777777777777778,
              "#fb9f3a"
             ],
             [
              0.8888888888888888,
              "#fdca26"
             ],
             [
              1,
              "#f0f921"
             ]
            ],
            "type": "histogram2dcontour"
           }
          ],
          "mesh3d": [
           {
            "colorbar": {
             "outlinewidth": 0,
             "ticks": ""
            },
            "type": "mesh3d"
           }
          ],
          "parcoords": [
           {
            "line": {
             "colorbar": {
              "outlinewidth": 0,
              "ticks": ""
             }
            },
            "type": "parcoords"
           }
          ],
          "pie": [
           {
            "automargin": true,
            "type": "pie"
           }
          ],
          "scatter": [
           {
            "fillpattern": {
             "fillmode": "overlay",
             "size": 10,
             "solidity": 0.2
            },
            "type": "scatter"
           }
          ],
          "scatter3d": [
           {
            "line": {
             "colorbar": {
              "outlinewidth": 0,
              "ticks": ""
             }
            },
            "marker": {
             "colorbar": {
              "outlinewidth": 0,
              "ticks": ""
             }
            },
            "type": "scatter3d"
           }
          ],
          "scattercarpet": [
           {
            "marker": {
             "colorbar": {
              "outlinewidth": 0,
              "ticks": ""
             }
            },
            "type": "scattercarpet"
           }
          ],
          "scattergeo": [
           {
            "marker": {
             "colorbar": {
              "outlinewidth": 0,
              "ticks": ""
             }
            },
            "type": "scattergeo"
           }
          ],
          "scattergl": [
           {
            "marker": {
             "colorbar": {
              "outlinewidth": 0,
              "ticks": ""
             }
            },
            "type": "scattergl"
           }
          ],
          "scattermapbox": [
           {
            "marker": {
             "colorbar": {
              "outlinewidth": 0,
              "ticks": ""
             }
            },
            "type": "scattermapbox"
           }
          ],
          "scatterpolar": [
           {
            "marker": {
             "colorbar": {
              "outlinewidth": 0,
              "ticks": ""
             }
            },
            "type": "scatterpolar"
           }
          ],
          "scatterpolargl": [
           {
            "marker": {
             "colorbar": {
              "outlinewidth": 0,
              "ticks": ""
             }
            },
            "type": "scatterpolargl"
           }
          ],
          "scatterternary": [
           {
            "marker": {
             "colorbar": {
              "outlinewidth": 0,
              "ticks": ""
             }
            },
            "type": "scatterternary"
           }
          ],
          "surface": [
           {
            "colorbar": {
             "outlinewidth": 0,
             "ticks": ""
            },
            "colorscale": [
             [
              0,
              "#0d0887"
             ],
             [
              0.1111111111111111,
              "#46039f"
             ],
             [
              0.2222222222222222,
              "#7201a8"
             ],
             [
              0.3333333333333333,
              "#9c179e"
             ],
             [
              0.4444444444444444,
              "#bd3786"
             ],
             [
              0.5555555555555556,
              "#d8576b"
             ],
             [
              0.6666666666666666,
              "#ed7953"
             ],
             [
              0.7777777777777778,
              "#fb9f3a"
             ],
             [
              0.8888888888888888,
              "#fdca26"
             ],
             [
              1,
              "#f0f921"
             ]
            ],
            "type": "surface"
           }
          ],
          "table": [
           {
            "cells": {
             "fill": {
              "color": "#EBF0F8"
             },
             "line": {
              "color": "white"
             }
            },
            "header": {
             "fill": {
              "color": "#C8D4E3"
             },
             "line": {
              "color": "white"
             }
            },
            "type": "table"
           }
          ]
         },
         "layout": {
          "annotationdefaults": {
           "arrowcolor": "#2a3f5f",
           "arrowhead": 0,
           "arrowwidth": 1
          },
          "autotypenumbers": "strict",
          "coloraxis": {
           "colorbar": {
            "outlinewidth": 0,
            "ticks": ""
           }
          },
          "colorscale": {
           "diverging": [
            [
             0,
             "#8e0152"
            ],
            [
             0.1,
             "#c51b7d"
            ],
            [
             0.2,
             "#de77ae"
            ],
            [
             0.3,
             "#f1b6da"
            ],
            [
             0.4,
             "#fde0ef"
            ],
            [
             0.5,
             "#f7f7f7"
            ],
            [
             0.6,
             "#e6f5d0"
            ],
            [
             0.7,
             "#b8e186"
            ],
            [
             0.8,
             "#7fbc41"
            ],
            [
             0.9,
             "#4d9221"
            ],
            [
             1,
             "#276419"
            ]
           ],
           "sequential": [
            [
             0,
             "#0d0887"
            ],
            [
             0.1111111111111111,
             "#46039f"
            ],
            [
             0.2222222222222222,
             "#7201a8"
            ],
            [
             0.3333333333333333,
             "#9c179e"
            ],
            [
             0.4444444444444444,
             "#bd3786"
            ],
            [
             0.5555555555555556,
             "#d8576b"
            ],
            [
             0.6666666666666666,
             "#ed7953"
            ],
            [
             0.7777777777777778,
             "#fb9f3a"
            ],
            [
             0.8888888888888888,
             "#fdca26"
            ],
            [
             1,
             "#f0f921"
            ]
           ],
           "sequentialminus": [
            [
             0,
             "#0d0887"
            ],
            [
             0.1111111111111111,
             "#46039f"
            ],
            [
             0.2222222222222222,
             "#7201a8"
            ],
            [
             0.3333333333333333,
             "#9c179e"
            ],
            [
             0.4444444444444444,
             "#bd3786"
            ],
            [
             0.5555555555555556,
             "#d8576b"
            ],
            [
             0.6666666666666666,
             "#ed7953"
            ],
            [
             0.7777777777777778,
             "#fb9f3a"
            ],
            [
             0.8888888888888888,
             "#fdca26"
            ],
            [
             1,
             "#f0f921"
            ]
           ]
          },
          "colorway": [
           "#636efa",
           "#EF553B",
           "#00cc96",
           "#ab63fa",
           "#FFA15A",
           "#19d3f3",
           "#FF6692",
           "#B6E880",
           "#FF97FF",
           "#FECB52"
          ],
          "font": {
           "color": "#2a3f5f"
          },
          "geo": {
           "bgcolor": "white",
           "lakecolor": "white",
           "landcolor": "#E5ECF6",
           "showlakes": true,
           "showland": true,
           "subunitcolor": "white"
          },
          "hoverlabel": {
           "align": "left"
          },
          "hovermode": "closest",
          "mapbox": {
           "style": "light"
          },
          "paper_bgcolor": "white",
          "plot_bgcolor": "#E5ECF6",
          "polar": {
           "angularaxis": {
            "gridcolor": "white",
            "linecolor": "white",
            "ticks": ""
           },
           "bgcolor": "#E5ECF6",
           "radialaxis": {
            "gridcolor": "white",
            "linecolor": "white",
            "ticks": ""
           }
          },
          "scene": {
           "xaxis": {
            "backgroundcolor": "#E5ECF6",
            "gridcolor": "white",
            "gridwidth": 2,
            "linecolor": "white",
            "showbackground": true,
            "ticks": "",
            "zerolinecolor": "white"
           },
           "yaxis": {
            "backgroundcolor": "#E5ECF6",
            "gridcolor": "white",
            "gridwidth": 2,
            "linecolor": "white",
            "showbackground": true,
            "ticks": "",
            "zerolinecolor": "white"
           },
           "zaxis": {
            "backgroundcolor": "#E5ECF6",
            "gridcolor": "white",
            "gridwidth": 2,
            "linecolor": "white",
            "showbackground": true,
            "ticks": "",
            "zerolinecolor": "white"
           }
          },
          "shapedefaults": {
           "line": {
            "color": "#2a3f5f"
           }
          },
          "ternary": {
           "aaxis": {
            "gridcolor": "white",
            "linecolor": "white",
            "ticks": ""
           },
           "baxis": {
            "gridcolor": "white",
            "linecolor": "white",
            "ticks": ""
           },
           "bgcolor": "#E5ECF6",
           "caxis": {
            "gridcolor": "white",
            "linecolor": "white",
            "ticks": ""
           }
          },
          "title": {
           "x": 0.05
          },
          "xaxis": {
           "automargin": true,
           "gridcolor": "white",
           "linecolor": "white",
           "ticks": "",
           "title": {
            "standoff": 15
           },
           "zerolinecolor": "white",
           "zerolinewidth": 2
          },
          "yaxis": {
           "automargin": true,
           "gridcolor": "white",
           "linecolor": "white",
           "ticks": "",
           "title": {
            "standoff": 15
           },
           "zerolinecolor": "white",
           "zerolinewidth": 2
          }
         }
        },
        "updatemenus": [
         {
          "buttons": [
           {
            "args": [
             null,
             {
              "frame": {
               "duration": 50
              },
              "fromcurrent": true,
              "mode": "immediate",
              "transition": {
               "duration": 50,
               "easing": "linear"
              }
             }
            ],
            "label": "Play",
            "method": "animate"
           },
           {
            "args": [
             [
              null
             ],
             {
              "frame": {
               "duration": 0
              },
              "fromcurrent": true,
              "mode": "immediate",
              "transition": {
               "duration": 0,
               "easing": "linear"
              }
             }
            ],
            "label": "Pause",
            "method": "animate"
           }
          ],
          "direction": "left",
          "pad": {
           "r": 10,
           "t": 70
          },
          "type": "buttons",
          "x": 0.1,
          "y": 0
         }
        ]
       }
      }
     },
     "metadata": {},
     "output_type": "display_data"
    }
   ],
   "source": [
    "##\n",
    "\n",
    "import numpy as np\n",
    "import plotly.graph_objects as go\n",
    "\n",
    "n_frames = len(mocap_df)\n",
    "points_list = np.array(list(map(\n",
    "    lambda idx : MocapLowerLandmark.df2landmark(\n",
    "        mocap_df, idx\n",
    "    ),\n",
    "    range(n_frames)\n",
    ")))\n",
    "points_list_ = np.nan_to_num(points_list.copy(), 0.1)\n",
    "\n",
    "xmin = points_list_[:, :, 0].min()\n",
    "xmax = points_list_[:, :, 0].max()\n",
    "ymin = points_list_[:, :, 1].min()\n",
    "ymax = points_list_[:, :, 1].max()\n",
    "zmin = points_list_[:, :, 2].min()\n",
    "zmax = points_list_[:, :, 2].max()\n",
    "\n",
    "connection_idx_list = MocapLowerLandmark.CONN_PATH_LIST\n",
    "line_color_list = ['red'] * (len(connection_idx_list))\n",
    "\n",
    "'''\n",
    "lidx = 0\n",
    "ridx = 100\n",
    "jidx = 5\n",
    "x = points_list[lidx:ridx, jidx, 0]\n",
    "y = points_list[lidx:ridx, jidx, 1]\n",
    "z = points_list[lidx:ridx, jidx, 2]\n",
    "\n",
    "print(x)\n",
    "print(y)\n",
    "print(z)\n",
    "'''\n",
    "\n",
    "# Create figure\n",
    "'''\n",
    "fig = go.Figure(\n",
    "    data = go.Scatter3d(\n",
    "        x=[], y=[], z=[],\n",
    "        mode=\"markers\",\n",
    "        marker=dict(color=\"red\", size=10)\n",
    "    )\n",
    ")\n",
    "'''\n",
    "\n",
    "points = points_list[0]\n",
    "fig = go.Figure(\n",
    "    data = list(map(\n",
    "        lambda i, j, c : go.Scatter3d(\n",
    "            x = points[[i, j], 0],\n",
    "            y = points[[i, j], 1],\n",
    "            z = points[[i, j], 2],\n",
    "            mode = 'lines+markers+text',\n",
    "            line = dict(\n",
    "                color = c\n",
    "            ),\n",
    "            marker = dict(\n",
    "                color = c,\n",
    "                size = 2\n",
    "            )\n",
    "        ),\n",
    "        connection_idx_list[:-1],\n",
    "        connection_idx_list[1:],\n",
    "        line_color_list\n",
    "    ))\n",
    ")\n",
    "\n",
    "# Frames\n",
    "'''\n",
    "frames = [\n",
    "    go.Frame(\n",
    "        data = [\n",
    "            go.Scatter3d(\n",
    "                x=x[[k]],\n",
    "                y=y[[k]],\n",
    "                z=z[[k]]\n",
    "            )\n",
    "        ],\n",
    "        traces= [0],\n",
    "        name=f'frame{k}'      \n",
    "    )for k  in  range(len(x)-1)\n",
    "]\n",
    "fig.update(frames=frames)\n",
    "'''\n",
    "frames = [\n",
    "    go.Frame(\n",
    "        data = list(map(\n",
    "            lambda i, j, c : go.Scatter3d(\n",
    "                x = points[[i, j], 0],\n",
    "                y = points[[i, j], 1],\n",
    "                z = points[[i, j], 2],\n",
    "            ),\n",
    "            connection_idx_list[:-1],\n",
    "            connection_idx_list[1:],\n",
    "            line_color_list\n",
    "        )),\n",
    "        traces= [0],\n",
    "        name=f'frame{k}'      \n",
    "    )\n",
    "    for k, points in enumerate(points_list)\n",
    "\n",
    "]\n",
    "#fig.update(frames=frames)\n",
    "\n",
    "\n",
    "\n",
    "def frame_args(duration):\n",
    "    return {\n",
    "        \"frame\": {\"duration\": duration},\n",
    "        \"mode\": \"immediate\",\n",
    "        \"fromcurrent\": True,\n",
    "        \"transition\": {\"duration\": duration, \"easing\": \"linear\"},\n",
    "    }\n",
    "\n",
    "\n",
    "sliders = [\n",
    "    {\n",
    "        \"pad\": {\"b\": 10, \"t\": 60},\n",
    "        \"len\": 0.9,\n",
    "        \"x\": 0.1,\n",
    "        \"y\": 0,\n",
    "        \"steps\": [\n",
    "            {\n",
    "                \"args\": [[f.name], frame_args(0)],\n",
    "                \"label\": str(k),\n",
    "                \"method\": \"animate\",\n",
    "            } for k, f in enumerate(fig.frames)\n",
    "        ]\n",
    "    }\n",
    "]\n",
    "\n",
    "fig.update_layout(\n",
    "    updatemenus = [\n",
    "        {\n",
    "            \"buttons\":[\n",
    "                {\n",
    "                    \"args\": [None, frame_args(50)],\n",
    "                    \"label\": \"Play\", \n",
    "                    \"method\": \"animate\",\n",
    "                },\n",
    "                {\n",
    "                    \"args\": [[None], frame_args(0)],\n",
    "                    \"label\": \"Pause\", \n",
    "                    \"method\": \"animate\",\n",
    "                }\n",
    "            ],    \n",
    "            \"direction\": \"left\",\n",
    "            \"pad\": {\"r\": 10, \"t\": 70},\n",
    "            \"type\": \"buttons\",\n",
    "            \"x\": 0.1,\n",
    "            \"y\": 0,\n",
    "        }\n",
    "    ],\n",
    "    sliders=sliders\n",
    ")\n",
    "\n",
    "fig.update_layout(\n",
    "    scene = dict(\n",
    "        xaxis=dict(range=[min(x), max(x)],autorange=False),\n",
    "        yaxis=dict(range=[min(y), max(y)], autorange=False),\n",
    "        zaxis=dict(range=[min(z), max(z)], autorange=False)\n",
    "    )\n",
    ")\n",
    "\n",
    "\n",
    "fig.update_layout(sliders=sliders)\n",
    "fig.show()"
   ]
  },
  {
   "cell_type": "code",
   "execution_count": 73,
   "metadata": {},
   "outputs": [
    {
     "name": "stdout",
     "output_type": "stream",
     "text": [
      "0 (16, 3)\n",
      "1 (16, 3)\n",
      "2 (16, 3)\n",
      "3 (16, 3)\n",
      "4 (16, 3)\n",
      "5 (16, 3)\n",
      "6 (16, 3)\n",
      "7 (16, 3)\n",
      "8 (16, 3)\n",
      "9 (16, 3)\n",
      "10 (16, 3)\n",
      "11 (16, 3)\n",
      "12 (16, 3)\n",
      "13 (16, 3)\n",
      "14 (16, 3)\n",
      "15 (16, 3)\n",
      "16 (16, 3)\n",
      "17 (16, 3)\n",
      "18 (16, 3)\n",
      "19 (16, 3)\n",
      "20 (16, 3)\n",
      "21 (16, 3)\n",
      "22 (16, 3)\n",
      "23 (16, 3)\n",
      "24 (16, 3)\n",
      "25 (16, 3)\n",
      "26 (16, 3)\n",
      "27 (16, 3)\n",
      "28 (16, 3)\n",
      "29 (16, 3)\n",
      "30 (16, 3)\n",
      "31 (16, 3)\n",
      "32 (16, 3)\n",
      "33 (16, 3)\n",
      "34 (16, 3)\n",
      "35 (16, 3)\n",
      "36 (16, 3)\n",
      "37 (16, 3)\n",
      "38 (16, 3)\n",
      "39 (16, 3)\n",
      "40 (16, 3)\n",
      "41 (16, 3)\n",
      "42 (16, 3)\n",
      "43 (16, 3)\n",
      "44 (16, 3)\n",
      "45 (16, 3)\n",
      "46 (16, 3)\n",
      "47 (16, 3)\n",
      "48 (16, 3)\n",
      "49 (16, 3)\n",
      "50 (16, 3)\n",
      "51 (16, 3)\n",
      "52 (16, 3)\n",
      "53 (16, 3)\n",
      "54 (16, 3)\n",
      "55 (16, 3)\n",
      "56 (16, 3)\n",
      "57 (16, 3)\n",
      "58 (16, 3)\n",
      "59 (16, 3)\n",
      "60 (16, 3)\n",
      "61 (16, 3)\n",
      "62 (16, 3)\n",
      "63 (16, 3)\n",
      "64 (16, 3)\n",
      "65 (16, 3)\n",
      "66 (16, 3)\n",
      "67 (16, 3)\n",
      "68 (16, 3)\n",
      "69 (16, 3)\n",
      "70 (16, 3)\n",
      "71 (16, 3)\n",
      "72 (16, 3)\n",
      "73 (16, 3)\n",
      "74 (16, 3)\n",
      "75 (16, 3)\n",
      "76 (16, 3)\n",
      "77 (16, 3)\n",
      "78 (16, 3)\n",
      "79 (16, 3)\n",
      "80 (16, 3)\n",
      "81 (16, 3)\n",
      "82 (16, 3)\n",
      "83 (16, 3)\n",
      "84 (16, 3)\n",
      "85 (16, 3)\n",
      "86 (16, 3)\n",
      "87 (16, 3)\n",
      "88 (16, 3)\n",
      "89 (16, 3)\n",
      "90 (16, 3)\n",
      "91 (16, 3)\n",
      "92 (16, 3)\n",
      "93 (16, 3)\n",
      "94 (16, 3)\n",
      "95 (16, 3)\n",
      "96 (16, 3)\n",
      "97 (16, 3)\n",
      "98 (16, 3)\n",
      "99 (16, 3)\n",
      "100 (16, 3)\n",
      "101 (16, 3)\n",
      "102 (16, 3)\n",
      "103 (16, 3)\n",
      "104 (16, 3)\n",
      "105 (16, 3)\n",
      "106 (16, 3)\n",
      "107 (16, 3)\n",
      "108 (16, 3)\n",
      "109 (16, 3)\n",
      "110 (16, 3)\n",
      "111 (16, 3)\n",
      "112 (16, 3)\n",
      "113 (16, 3)\n",
      "114 (16, 3)\n",
      "115 (16, 3)\n",
      "116 (16, 3)\n",
      "117 (16, 3)\n",
      "118 (16, 3)\n",
      "119 (16, 3)\n",
      "120 (16, 3)\n",
      "121 (16, 3)\n",
      "122 (16, 3)\n",
      "123 (16, 3)\n",
      "124 (16, 3)\n",
      "125 (16, 3)\n",
      "126 (16, 3)\n",
      "127 (16, 3)\n",
      "128 (16, 3)\n",
      "129 (16, 3)\n",
      "130 (16, 3)\n",
      "131 (16, 3)\n",
      "132 (16, 3)\n",
      "133 (16, 3)\n",
      "134 (16, 3)\n",
      "135 (16, 3)\n",
      "136 (16, 3)\n",
      "137 (16, 3)\n",
      "138 (16, 3)\n",
      "139 (16, 3)\n",
      "140 (16, 3)\n",
      "141 (16, 3)\n",
      "142 (16, 3)\n",
      "143 (16, 3)\n",
      "144 (16, 3)\n",
      "145 (16, 3)\n",
      "146 (16, 3)\n",
      "147 (16, 3)\n",
      "148 (16, 3)\n",
      "149 (16, 3)\n",
      "150 (16, 3)\n",
      "151 (16, 3)\n",
      "152 (16, 3)\n",
      "153 (16, 3)\n",
      "154 (16, 3)\n",
      "155 (16, 3)\n",
      "156 (16, 3)\n",
      "157 (16, 3)\n",
      "158 (16, 3)\n",
      "159 (16, 3)\n",
      "160 (16, 3)\n",
      "161 (16, 3)\n",
      "162 (16, 3)\n",
      "163 (16, 3)\n",
      "164 (16, 3)\n",
      "165 (16, 3)\n",
      "166 (16, 3)\n",
      "167 (16, 3)\n",
      "168 (16, 3)\n",
      "169 (16, 3)\n",
      "170 (16, 3)\n",
      "171 (16, 3)\n",
      "172 (16, 3)\n",
      "173 (16, 3)\n",
      "174 (16, 3)\n",
      "175 (16, 3)\n",
      "176 (16, 3)\n",
      "177 (16, 3)\n",
      "178 (16, 3)\n",
      "179 (16, 3)\n",
      "180 (16, 3)\n",
      "181 (16, 3)\n",
      "182 (16, 3)\n",
      "183 (16, 3)\n",
      "184 (16, 3)\n",
      "185 (16, 3)\n",
      "186 (16, 3)\n",
      "187 (16, 3)\n",
      "188 (16, 3)\n",
      "189 (16, 3)\n",
      "190 (16, 3)\n",
      "191 (16, 3)\n",
      "192 (16, 3)\n",
      "193 (16, 3)\n",
      "194 (16, 3)\n",
      "195 (16, 3)\n",
      "196 (16, 3)\n",
      "197 (16, 3)\n",
      "198 (16, 3)\n",
      "199 (16, 3)\n",
      "200 (16, 3)\n",
      "201 (16, 3)\n",
      "202 (16, 3)\n",
      "203 (16, 3)\n",
      "204 (16, 3)\n",
      "205 (16, 3)\n",
      "206 (16, 3)\n",
      "207 (16, 3)\n",
      "208 (16, 3)\n",
      "209 (16, 3)\n",
      "210 (16, 3)\n",
      "211 (16, 3)\n",
      "212 (16, 3)\n",
      "213 (16, 3)\n",
      "214 (16, 3)\n",
      "215 (16, 3)\n",
      "216 (16, 3)\n",
      "217 (16, 3)\n",
      "218 (16, 3)\n",
      "219 (16, 3)\n",
      "220 (16, 3)\n",
      "221 (16, 3)\n",
      "222 (16, 3)\n",
      "223 (16, 3)\n",
      "224 (16, 3)\n",
      "225 (16, 3)\n",
      "226 (16, 3)\n",
      "227 (16, 3)\n",
      "228 (16, 3)\n",
      "229 (16, 3)\n",
      "230 (16, 3)\n",
      "231 (16, 3)\n",
      "232 (16, 3)\n",
      "233 (16, 3)\n",
      "234 (16, 3)\n",
      "235 (16, 3)\n",
      "236 (16, 3)\n",
      "237 (16, 3)\n",
      "238 (16, 3)\n",
      "239 (16, 3)\n",
      "240 (16, 3)\n",
      "241 (16, 3)\n",
      "242 (16, 3)\n",
      "243 (16, 3)\n",
      "244 (16, 3)\n",
      "245 (16, 3)\n",
      "246 (16, 3)\n",
      "247 (16, 3)\n",
      "248 (16, 3)\n",
      "249 (16, 3)\n",
      "250 (16, 3)\n",
      "251 (16, 3)\n",
      "252 (16, 3)\n",
      "253 (16, 3)\n",
      "254 (16, 3)\n",
      "255 (16, 3)\n",
      "256 (16, 3)\n",
      "257 (16, 3)\n",
      "258 (16, 3)\n",
      "259 (16, 3)\n",
      "260 (16, 3)\n",
      "261 (16, 3)\n",
      "262 (16, 3)\n",
      "263 (16, 3)\n",
      "264 (16, 3)\n",
      "265 (16, 3)\n",
      "266 (16, 3)\n",
      "267 (16, 3)\n",
      "268 (16, 3)\n",
      "269 (16, 3)\n",
      "270 (16, 3)\n",
      "271 (16, 3)\n",
      "272 (16, 3)\n",
      "273 (16, 3)\n",
      "274 (16, 3)\n",
      "275 (16, 3)\n",
      "276 (16, 3)\n",
      "277 (16, 3)\n",
      "278 (16, 3)\n",
      "279 (16, 3)\n",
      "280 (16, 3)\n",
      "281 (16, 3)\n",
      "282 (16, 3)\n",
      "283 (16, 3)\n",
      "284 (16, 3)\n",
      "285 (16, 3)\n",
      "286 (16, 3)\n",
      "287 (16, 3)\n",
      "288 (16, 3)\n",
      "289 (16, 3)\n",
      "290 (16, 3)\n",
      "291 (16, 3)\n",
      "292 (16, 3)\n",
      "293 (16, 3)\n",
      "294 (16, 3)\n",
      "295 (16, 3)\n",
      "296 (16, 3)\n",
      "297 (16, 3)\n",
      "298 (16, 3)\n",
      "299 (16, 3)\n",
      "300 (16, 3)\n",
      "301 (16, 3)\n",
      "302 (16, 3)\n",
      "303 (16, 3)\n",
      "304 (16, 3)\n",
      "305 (16, 3)\n",
      "306 (16, 3)\n",
      "307 (16, 3)\n",
      "308 (16, 3)\n",
      "309 (16, 3)\n",
      "310 (16, 3)\n",
      "311 (16, 3)\n",
      "312 (16, 3)\n",
      "313 (16, 3)\n",
      "314 (16, 3)\n",
      "315 (16, 3)\n",
      "316 (16, 3)\n",
      "317 (16, 3)\n",
      "318 (16, 3)\n",
      "319 (16, 3)\n",
      "320 (16, 3)\n",
      "321 (16, 3)\n",
      "322 (16, 3)\n",
      "323 (16, 3)\n",
      "324 (16, 3)\n",
      "325 (16, 3)\n",
      "326 (16, 3)\n",
      "327 (16, 3)\n",
      "328 (16, 3)\n",
      "329 (16, 3)\n",
      "330 (16, 3)\n",
      "331 (16, 3)\n",
      "332 (16, 3)\n",
      "333 (16, 3)\n",
      "334 (16, 3)\n",
      "335 (16, 3)\n",
      "336 (16, 3)\n",
      "337 (16, 3)\n",
      "338 (16, 3)\n"
     ]
    }
   ],
   "source": [
    "for k, points in enumerate(points_list) :\n",
    "    print(k, points.shape)"
   ]
  },
  {
   "cell_type": "code",
   "execution_count": 84,
   "metadata": {},
   "outputs": [
    {
     "data": {
      "text/plain": [
       "array([[ 0.        ,  0.1010101 ],\n",
       "       [ 0.2020202 ,  0.3030303 ],\n",
       "       [ 0.4040404 ,  0.50505051],\n",
       "       [ 0.60606061,  0.70707071],\n",
       "       [ 0.80808081,  0.90909091],\n",
       "       [ 1.01010101,  1.11111111],\n",
       "       [ 1.21212121,  1.31313131],\n",
       "       [ 1.41414141,  1.51515152],\n",
       "       [ 1.61616162,  1.71717172],\n",
       "       [ 1.81818182,  1.91919192],\n",
       "       [ 2.02020202,  2.12121212],\n",
       "       [ 2.22222222,  2.32323232],\n",
       "       [ 2.42424242,  2.52525253],\n",
       "       [ 2.62626263,  2.72727273],\n",
       "       [ 2.82828283,  2.92929293],\n",
       "       [ 3.03030303,  3.13131313],\n",
       "       [ 3.23232323,  3.33333333],\n",
       "       [ 3.43434343,  3.53535354],\n",
       "       [ 3.63636364,  3.73737374],\n",
       "       [ 3.83838384,  3.93939394],\n",
       "       [ 4.04040404,  4.14141414],\n",
       "       [ 4.24242424,  4.34343434],\n",
       "       [ 4.44444444,  4.54545455],\n",
       "       [ 4.64646465,  4.74747475],\n",
       "       [ 4.84848485,  4.94949495],\n",
       "       [ 5.05050505,  5.15151515],\n",
       "       [ 5.25252525,  5.35353535],\n",
       "       [ 5.45454545,  5.55555556],\n",
       "       [ 5.65656566,  5.75757576],\n",
       "       [ 5.85858586,  5.95959596],\n",
       "       [ 6.06060606,  6.16161616],\n",
       "       [ 6.26262626,  6.36363636],\n",
       "       [ 6.46464646,  6.56565657],\n",
       "       [ 6.66666667,  6.76767677],\n",
       "       [ 6.86868687,  6.96969697],\n",
       "       [ 7.07070707,  7.17171717],\n",
       "       [ 7.27272727,  7.37373737],\n",
       "       [ 7.47474747,  7.57575758],\n",
       "       [ 7.67676768,  7.77777778],\n",
       "       [ 7.87878788,  7.97979798],\n",
       "       [ 8.08080808,  8.18181818],\n",
       "       [ 8.28282828,  8.38383838],\n",
       "       [ 8.48484848,  8.58585859],\n",
       "       [ 8.68686869,  8.78787879],\n",
       "       [ 8.88888889,  8.98989899],\n",
       "       [ 9.09090909,  9.19191919],\n",
       "       [ 9.29292929,  9.39393939],\n",
       "       [ 9.49494949,  9.5959596 ],\n",
       "       [ 9.6969697 ,  9.7979798 ],\n",
       "       [ 9.8989899 , 10.        ]])"
      ]
     },
     "execution_count": 84,
     "metadata": {},
     "output_type": "execute_result"
    }
   ],
   "source": [
    "np.linspace(0, 10, 100).reshape(-1, 2)"
   ]
  },
  {
   "cell_type": "code",
   "execution_count": 95,
   "metadata": {},
   "outputs": [
    {
     "data": {
      "application/vnd.plotly.v1+json": {
       "config": {
        "plotlyServerURL": "https://plot.ly"
       },
       "data": [
        {
         "marker": {
          "color": "red",
          "size": 10
         },
         "mode": "markers",
         "type": "scatter3d",
         "x": [],
         "y": [],
         "z": []
        }
       ],
       "frames": [
        {
         "data": [
          {
           "type": "scatter3d",
           "x": [
            [
             0,
             0.10101010101010101
            ]
           ],
           "y": [
            [
             0,
             0.10101010101010101
            ]
           ],
           "z": [
            [
             0,
             0.10101010101010101
            ]
           ]
          }
         ],
         "name": "frame0",
         "traces": [
          0
         ]
        },
        {
         "data": [
          {
           "type": "scatter3d",
           "x": [
            [
             0,
             0.10101010101010101
            ],
            [
             0.20202020202020202,
             0.30303030303030304
            ]
           ],
           "y": [
            [
             0,
             0.10101010101010101
            ],
            [
             0.20202020202020202,
             0.30303030303030304
            ]
           ],
           "z": [
            [
             0,
             0.10101010101010101
            ],
            [
             0.20202020202020202,
             0.30303030303030304
            ]
           ]
          }
         ],
         "name": "frame1",
         "traces": [
          0
         ]
        },
        {
         "data": [
          {
           "type": "scatter3d",
           "x": [
            [
             0,
             0.10101010101010101
            ],
            [
             0.20202020202020202,
             0.30303030303030304
            ],
            [
             0.40404040404040403,
             0.5050505050505051
            ]
           ],
           "y": [
            [
             0,
             0.10101010101010101
            ],
            [
             0.20202020202020202,
             0.30303030303030304
            ],
            [
             0.40404040404040403,
             0.5050505050505051
            ]
           ],
           "z": [
            [
             0,
             0.10101010101010101
            ],
            [
             0.20202020202020202,
             0.30303030303030304
            ],
            [
             0.40404040404040403,
             0.5050505050505051
            ]
           ]
          }
         ],
         "name": "frame2",
         "traces": [
          0
         ]
        },
        {
         "data": [
          {
           "type": "scatter3d",
           "x": [
            [
             0,
             0.10101010101010101
            ],
            [
             0.20202020202020202,
             0.30303030303030304
            ],
            [
             0.40404040404040403,
             0.5050505050505051
            ],
            [
             0.6060606060606061,
             0.7070707070707071
            ]
           ],
           "y": [
            [
             0,
             0.10101010101010101
            ],
            [
             0.20202020202020202,
             0.30303030303030304
            ],
            [
             0.40404040404040403,
             0.5050505050505051
            ],
            [
             0.6060606060606061,
             0.7070707070707071
            ]
           ],
           "z": [
            [
             0,
             0.10101010101010101
            ],
            [
             0.20202020202020202,
             0.30303030303030304
            ],
            [
             0.40404040404040403,
             0.5050505050505051
            ],
            [
             0.6060606060606061,
             0.7070707070707071
            ]
           ]
          }
         ],
         "name": "frame3",
         "traces": [
          0
         ]
        },
        {
         "data": [
          {
           "type": "scatter3d",
           "x": [
            [
             0,
             0.10101010101010101
            ],
            [
             0.20202020202020202,
             0.30303030303030304
            ],
            [
             0.40404040404040403,
             0.5050505050505051
            ],
            [
             0.6060606060606061,
             0.7070707070707071
            ],
            [
             0.8080808080808081,
             0.9090909090909091
            ]
           ],
           "y": [
            [
             0,
             0.10101010101010101
            ],
            [
             0.20202020202020202,
             0.30303030303030304
            ],
            [
             0.40404040404040403,
             0.5050505050505051
            ],
            [
             0.6060606060606061,
             0.7070707070707071
            ],
            [
             0.8080808080808081,
             0.9090909090909091
            ]
           ],
           "z": [
            [
             0,
             0.10101010101010101
            ],
            [
             0.20202020202020202,
             0.30303030303030304
            ],
            [
             0.40404040404040403,
             0.5050505050505051
            ],
            [
             0.6060606060606061,
             0.7070707070707071
            ],
            [
             0.8080808080808081,
             0.9090909090909091
            ]
           ]
          }
         ],
         "name": "frame4",
         "traces": [
          0
         ]
        },
        {
         "data": [
          {
           "type": "scatter3d",
           "x": [
            [
             0,
             0.10101010101010101
            ],
            [
             0.20202020202020202,
             0.30303030303030304
            ],
            [
             0.40404040404040403,
             0.5050505050505051
            ],
            [
             0.6060606060606061,
             0.7070707070707071
            ],
            [
             0.8080808080808081,
             0.9090909090909091
            ],
            [
             1.0101010101010102,
             1.1111111111111112
            ]
           ],
           "y": [
            [
             0,
             0.10101010101010101
            ],
            [
             0.20202020202020202,
             0.30303030303030304
            ],
            [
             0.40404040404040403,
             0.5050505050505051
            ],
            [
             0.6060606060606061,
             0.7070707070707071
            ],
            [
             0.8080808080808081,
             0.9090909090909091
            ],
            [
             1.0101010101010102,
             1.1111111111111112
            ]
           ],
           "z": [
            [
             0,
             0.10101010101010101
            ],
            [
             0.20202020202020202,
             0.30303030303030304
            ],
            [
             0.40404040404040403,
             0.5050505050505051
            ],
            [
             0.6060606060606061,
             0.7070707070707071
            ],
            [
             0.8080808080808081,
             0.9090909090909091
            ],
            [
             1.0101010101010102,
             1.1111111111111112
            ]
           ]
          }
         ],
         "name": "frame5",
         "traces": [
          0
         ]
        },
        {
         "data": [
          {
           "type": "scatter3d",
           "x": [
            [
             0,
             0.10101010101010101
            ],
            [
             0.20202020202020202,
             0.30303030303030304
            ],
            [
             0.40404040404040403,
             0.5050505050505051
            ],
            [
             0.6060606060606061,
             0.7070707070707071
            ],
            [
             0.8080808080808081,
             0.9090909090909091
            ],
            [
             1.0101010101010102,
             1.1111111111111112
            ],
            [
             1.2121212121212122,
             1.3131313131313131
            ]
           ],
           "y": [
            [
             0,
             0.10101010101010101
            ],
            [
             0.20202020202020202,
             0.30303030303030304
            ],
            [
             0.40404040404040403,
             0.5050505050505051
            ],
            [
             0.6060606060606061,
             0.7070707070707071
            ],
            [
             0.8080808080808081,
             0.9090909090909091
            ],
            [
             1.0101010101010102,
             1.1111111111111112
            ],
            [
             1.2121212121212122,
             1.3131313131313131
            ]
           ],
           "z": [
            [
             0,
             0.10101010101010101
            ],
            [
             0.20202020202020202,
             0.30303030303030304
            ],
            [
             0.40404040404040403,
             0.5050505050505051
            ],
            [
             0.6060606060606061,
             0.7070707070707071
            ],
            [
             0.8080808080808081,
             0.9090909090909091
            ],
            [
             1.0101010101010102,
             1.1111111111111112
            ],
            [
             1.2121212121212122,
             1.3131313131313131
            ]
           ]
          }
         ],
         "name": "frame6",
         "traces": [
          0
         ]
        },
        {
         "data": [
          {
           "type": "scatter3d",
           "x": [
            [
             0,
             0.10101010101010101
            ],
            [
             0.20202020202020202,
             0.30303030303030304
            ],
            [
             0.40404040404040403,
             0.5050505050505051
            ],
            [
             0.6060606060606061,
             0.7070707070707071
            ],
            [
             0.8080808080808081,
             0.9090909090909091
            ],
            [
             1.0101010101010102,
             1.1111111111111112
            ],
            [
             1.2121212121212122,
             1.3131313131313131
            ],
            [
             1.4141414141414141,
             1.5151515151515151
            ]
           ],
           "y": [
            [
             0,
             0.10101010101010101
            ],
            [
             0.20202020202020202,
             0.30303030303030304
            ],
            [
             0.40404040404040403,
             0.5050505050505051
            ],
            [
             0.6060606060606061,
             0.7070707070707071
            ],
            [
             0.8080808080808081,
             0.9090909090909091
            ],
            [
             1.0101010101010102,
             1.1111111111111112
            ],
            [
             1.2121212121212122,
             1.3131313131313131
            ],
            [
             1.4141414141414141,
             1.5151515151515151
            ]
           ],
           "z": [
            [
             0,
             0.10101010101010101
            ],
            [
             0.20202020202020202,
             0.30303030303030304
            ],
            [
             0.40404040404040403,
             0.5050505050505051
            ],
            [
             0.6060606060606061,
             0.7070707070707071
            ],
            [
             0.8080808080808081,
             0.9090909090909091
            ],
            [
             1.0101010101010102,
             1.1111111111111112
            ],
            [
             1.2121212121212122,
             1.3131313131313131
            ],
            [
             1.4141414141414141,
             1.5151515151515151
            ]
           ]
          }
         ],
         "name": "frame7",
         "traces": [
          0
         ]
        },
        {
         "data": [
          {
           "type": "scatter3d",
           "x": [
            [
             0,
             0.10101010101010101
            ],
            [
             0.20202020202020202,
             0.30303030303030304
            ],
            [
             0.40404040404040403,
             0.5050505050505051
            ],
            [
             0.6060606060606061,
             0.7070707070707071
            ],
            [
             0.8080808080808081,
             0.9090909090909091
            ],
            [
             1.0101010101010102,
             1.1111111111111112
            ],
            [
             1.2121212121212122,
             1.3131313131313131
            ],
            [
             1.4141414141414141,
             1.5151515151515151
            ],
            [
             1.6161616161616161,
             1.7171717171717171
            ]
           ],
           "y": [
            [
             0,
             0.10101010101010101
            ],
            [
             0.20202020202020202,
             0.30303030303030304
            ],
            [
             0.40404040404040403,
             0.5050505050505051
            ],
            [
             0.6060606060606061,
             0.7070707070707071
            ],
            [
             0.8080808080808081,
             0.9090909090909091
            ],
            [
             1.0101010101010102,
             1.1111111111111112
            ],
            [
             1.2121212121212122,
             1.3131313131313131
            ],
            [
             1.4141414141414141,
             1.5151515151515151
            ],
            [
             1.6161616161616161,
             1.7171717171717171
            ]
           ],
           "z": [
            [
             0,
             0.10101010101010101
            ],
            [
             0.20202020202020202,
             0.30303030303030304
            ],
            [
             0.40404040404040403,
             0.5050505050505051
            ],
            [
             0.6060606060606061,
             0.7070707070707071
            ],
            [
             0.8080808080808081,
             0.9090909090909091
            ],
            [
             1.0101010101010102,
             1.1111111111111112
            ],
            [
             1.2121212121212122,
             1.3131313131313131
            ],
            [
             1.4141414141414141,
             1.5151515151515151
            ],
            [
             1.6161616161616161,
             1.7171717171717171
            ]
           ]
          }
         ],
         "name": "frame8",
         "traces": [
          0
         ]
        },
        {
         "data": [
          {
           "type": "scatter3d",
           "x": [
            [
             0,
             0.10101010101010101
            ],
            [
             0.20202020202020202,
             0.30303030303030304
            ],
            [
             0.40404040404040403,
             0.5050505050505051
            ],
            [
             0.6060606060606061,
             0.7070707070707071
            ],
            [
             0.8080808080808081,
             0.9090909090909091
            ],
            [
             1.0101010101010102,
             1.1111111111111112
            ],
            [
             1.2121212121212122,
             1.3131313131313131
            ],
            [
             1.4141414141414141,
             1.5151515151515151
            ],
            [
             1.6161616161616161,
             1.7171717171717171
            ],
            [
             1.8181818181818181,
             1.9191919191919191
            ]
           ],
           "y": [
            [
             0,
             0.10101010101010101
            ],
            [
             0.20202020202020202,
             0.30303030303030304
            ],
            [
             0.40404040404040403,
             0.5050505050505051
            ],
            [
             0.6060606060606061,
             0.7070707070707071
            ],
            [
             0.8080808080808081,
             0.9090909090909091
            ],
            [
             1.0101010101010102,
             1.1111111111111112
            ],
            [
             1.2121212121212122,
             1.3131313131313131
            ],
            [
             1.4141414141414141,
             1.5151515151515151
            ],
            [
             1.6161616161616161,
             1.7171717171717171
            ],
            [
             1.8181818181818181,
             1.9191919191919191
            ]
           ],
           "z": [
            [
             0,
             0.10101010101010101
            ],
            [
             0.20202020202020202,
             0.30303030303030304
            ],
            [
             0.40404040404040403,
             0.5050505050505051
            ],
            [
             0.6060606060606061,
             0.7070707070707071
            ],
            [
             0.8080808080808081,
             0.9090909090909091
            ],
            [
             1.0101010101010102,
             1.1111111111111112
            ],
            [
             1.2121212121212122,
             1.3131313131313131
            ],
            [
             1.4141414141414141,
             1.5151515151515151
            ],
            [
             1.6161616161616161,
             1.7171717171717171
            ],
            [
             1.8181818181818181,
             1.9191919191919191
            ]
           ]
          }
         ],
         "name": "frame9",
         "traces": [
          0
         ]
        },
        {
         "data": [
          {
           "type": "scatter3d",
           "x": [
            [
             0,
             0.10101010101010101
            ],
            [
             0.20202020202020202,
             0.30303030303030304
            ],
            [
             0.40404040404040403,
             0.5050505050505051
            ],
            [
             0.6060606060606061,
             0.7070707070707071
            ],
            [
             0.8080808080808081,
             0.9090909090909091
            ],
            [
             1.0101010101010102,
             1.1111111111111112
            ],
            [
             1.2121212121212122,
             1.3131313131313131
            ],
            [
             1.4141414141414141,
             1.5151515151515151
            ],
            [
             1.6161616161616161,
             1.7171717171717171
            ],
            [
             1.8181818181818181,
             1.9191919191919191
            ],
            [
             2.0202020202020203,
             2.121212121212121
            ]
           ],
           "y": [
            [
             0,
             0.10101010101010101
            ],
            [
             0.20202020202020202,
             0.30303030303030304
            ],
            [
             0.40404040404040403,
             0.5050505050505051
            ],
            [
             0.6060606060606061,
             0.7070707070707071
            ],
            [
             0.8080808080808081,
             0.9090909090909091
            ],
            [
             1.0101010101010102,
             1.1111111111111112
            ],
            [
             1.2121212121212122,
             1.3131313131313131
            ],
            [
             1.4141414141414141,
             1.5151515151515151
            ],
            [
             1.6161616161616161,
             1.7171717171717171
            ],
            [
             1.8181818181818181,
             1.9191919191919191
            ],
            [
             2.0202020202020203,
             2.121212121212121
            ]
           ],
           "z": [
            [
             0,
             0.10101010101010101
            ],
            [
             0.20202020202020202,
             0.30303030303030304
            ],
            [
             0.40404040404040403,
             0.5050505050505051
            ],
            [
             0.6060606060606061,
             0.7070707070707071
            ],
            [
             0.8080808080808081,
             0.9090909090909091
            ],
            [
             1.0101010101010102,
             1.1111111111111112
            ],
            [
             1.2121212121212122,
             1.3131313131313131
            ],
            [
             1.4141414141414141,
             1.5151515151515151
            ],
            [
             1.6161616161616161,
             1.7171717171717171
            ],
            [
             1.8181818181818181,
             1.9191919191919191
            ],
            [
             2.0202020202020203,
             2.121212121212121
            ]
           ]
          }
         ],
         "name": "frame10",
         "traces": [
          0
         ]
        },
        {
         "data": [
          {
           "type": "scatter3d",
           "x": [
            [
             0,
             0.10101010101010101
            ],
            [
             0.20202020202020202,
             0.30303030303030304
            ],
            [
             0.40404040404040403,
             0.5050505050505051
            ],
            [
             0.6060606060606061,
             0.7070707070707071
            ],
            [
             0.8080808080808081,
             0.9090909090909091
            ],
            [
             1.0101010101010102,
             1.1111111111111112
            ],
            [
             1.2121212121212122,
             1.3131313131313131
            ],
            [
             1.4141414141414141,
             1.5151515151515151
            ],
            [
             1.6161616161616161,
             1.7171717171717171
            ],
            [
             1.8181818181818181,
             1.9191919191919191
            ],
            [
             2.0202020202020203,
             2.121212121212121
            ],
            [
             2.2222222222222223,
             2.323232323232323
            ]
           ],
           "y": [
            [
             0,
             0.10101010101010101
            ],
            [
             0.20202020202020202,
             0.30303030303030304
            ],
            [
             0.40404040404040403,
             0.5050505050505051
            ],
            [
             0.6060606060606061,
             0.7070707070707071
            ],
            [
             0.8080808080808081,
             0.9090909090909091
            ],
            [
             1.0101010101010102,
             1.1111111111111112
            ],
            [
             1.2121212121212122,
             1.3131313131313131
            ],
            [
             1.4141414141414141,
             1.5151515151515151
            ],
            [
             1.6161616161616161,
             1.7171717171717171
            ],
            [
             1.8181818181818181,
             1.9191919191919191
            ],
            [
             2.0202020202020203,
             2.121212121212121
            ],
            [
             2.2222222222222223,
             2.323232323232323
            ]
           ],
           "z": [
            [
             0,
             0.10101010101010101
            ],
            [
             0.20202020202020202,
             0.30303030303030304
            ],
            [
             0.40404040404040403,
             0.5050505050505051
            ],
            [
             0.6060606060606061,
             0.7070707070707071
            ],
            [
             0.8080808080808081,
             0.9090909090909091
            ],
            [
             1.0101010101010102,
             1.1111111111111112
            ],
            [
             1.2121212121212122,
             1.3131313131313131
            ],
            [
             1.4141414141414141,
             1.5151515151515151
            ],
            [
             1.6161616161616161,
             1.7171717171717171
            ],
            [
             1.8181818181818181,
             1.9191919191919191
            ],
            [
             2.0202020202020203,
             2.121212121212121
            ],
            [
             2.2222222222222223,
             2.323232323232323
            ]
           ]
          }
         ],
         "name": "frame11",
         "traces": [
          0
         ]
        },
        {
         "data": [
          {
           "type": "scatter3d",
           "x": [
            [
             0,
             0.10101010101010101
            ],
            [
             0.20202020202020202,
             0.30303030303030304
            ],
            [
             0.40404040404040403,
             0.5050505050505051
            ],
            [
             0.6060606060606061,
             0.7070707070707071
            ],
            [
             0.8080808080808081,
             0.9090909090909091
            ],
            [
             1.0101010101010102,
             1.1111111111111112
            ],
            [
             1.2121212121212122,
             1.3131313131313131
            ],
            [
             1.4141414141414141,
             1.5151515151515151
            ],
            [
             1.6161616161616161,
             1.7171717171717171
            ],
            [
             1.8181818181818181,
             1.9191919191919191
            ],
            [
             2.0202020202020203,
             2.121212121212121
            ],
            [
             2.2222222222222223,
             2.323232323232323
            ],
            [
             2.4242424242424243,
             2.525252525252525
            ]
           ],
           "y": [
            [
             0,
             0.10101010101010101
            ],
            [
             0.20202020202020202,
             0.30303030303030304
            ],
            [
             0.40404040404040403,
             0.5050505050505051
            ],
            [
             0.6060606060606061,
             0.7070707070707071
            ],
            [
             0.8080808080808081,
             0.9090909090909091
            ],
            [
             1.0101010101010102,
             1.1111111111111112
            ],
            [
             1.2121212121212122,
             1.3131313131313131
            ],
            [
             1.4141414141414141,
             1.5151515151515151
            ],
            [
             1.6161616161616161,
             1.7171717171717171
            ],
            [
             1.8181818181818181,
             1.9191919191919191
            ],
            [
             2.0202020202020203,
             2.121212121212121
            ],
            [
             2.2222222222222223,
             2.323232323232323
            ],
            [
             2.4242424242424243,
             2.525252525252525
            ]
           ],
           "z": [
            [
             0,
             0.10101010101010101
            ],
            [
             0.20202020202020202,
             0.30303030303030304
            ],
            [
             0.40404040404040403,
             0.5050505050505051
            ],
            [
             0.6060606060606061,
             0.7070707070707071
            ],
            [
             0.8080808080808081,
             0.9090909090909091
            ],
            [
             1.0101010101010102,
             1.1111111111111112
            ],
            [
             1.2121212121212122,
             1.3131313131313131
            ],
            [
             1.4141414141414141,
             1.5151515151515151
            ],
            [
             1.6161616161616161,
             1.7171717171717171
            ],
            [
             1.8181818181818181,
             1.9191919191919191
            ],
            [
             2.0202020202020203,
             2.121212121212121
            ],
            [
             2.2222222222222223,
             2.323232323232323
            ],
            [
             2.4242424242424243,
             2.525252525252525
            ]
           ]
          }
         ],
         "name": "frame12",
         "traces": [
          0
         ]
        },
        {
         "data": [
          {
           "type": "scatter3d",
           "x": [
            [
             0,
             0.10101010101010101
            ],
            [
             0.20202020202020202,
             0.30303030303030304
            ],
            [
             0.40404040404040403,
             0.5050505050505051
            ],
            [
             0.6060606060606061,
             0.7070707070707071
            ],
            [
             0.8080808080808081,
             0.9090909090909091
            ],
            [
             1.0101010101010102,
             1.1111111111111112
            ],
            [
             1.2121212121212122,
             1.3131313131313131
            ],
            [
             1.4141414141414141,
             1.5151515151515151
            ],
            [
             1.6161616161616161,
             1.7171717171717171
            ],
            [
             1.8181818181818181,
             1.9191919191919191
            ],
            [
             2.0202020202020203,
             2.121212121212121
            ],
            [
             2.2222222222222223,
             2.323232323232323
            ],
            [
             2.4242424242424243,
             2.525252525252525
            ],
            [
             2.6262626262626263,
             2.727272727272727
            ]
           ],
           "y": [
            [
             0,
             0.10101010101010101
            ],
            [
             0.20202020202020202,
             0.30303030303030304
            ],
            [
             0.40404040404040403,
             0.5050505050505051
            ],
            [
             0.6060606060606061,
             0.7070707070707071
            ],
            [
             0.8080808080808081,
             0.9090909090909091
            ],
            [
             1.0101010101010102,
             1.1111111111111112
            ],
            [
             1.2121212121212122,
             1.3131313131313131
            ],
            [
             1.4141414141414141,
             1.5151515151515151
            ],
            [
             1.6161616161616161,
             1.7171717171717171
            ],
            [
             1.8181818181818181,
             1.9191919191919191
            ],
            [
             2.0202020202020203,
             2.121212121212121
            ],
            [
             2.2222222222222223,
             2.323232323232323
            ],
            [
             2.4242424242424243,
             2.525252525252525
            ],
            [
             2.6262626262626263,
             2.727272727272727
            ]
           ],
           "z": [
            [
             0,
             0.10101010101010101
            ],
            [
             0.20202020202020202,
             0.30303030303030304
            ],
            [
             0.40404040404040403,
             0.5050505050505051
            ],
            [
             0.6060606060606061,
             0.7070707070707071
            ],
            [
             0.8080808080808081,
             0.9090909090909091
            ],
            [
             1.0101010101010102,
             1.1111111111111112
            ],
            [
             1.2121212121212122,
             1.3131313131313131
            ],
            [
             1.4141414141414141,
             1.5151515151515151
            ],
            [
             1.6161616161616161,
             1.7171717171717171
            ],
            [
             1.8181818181818181,
             1.9191919191919191
            ],
            [
             2.0202020202020203,
             2.121212121212121
            ],
            [
             2.2222222222222223,
             2.323232323232323
            ],
            [
             2.4242424242424243,
             2.525252525252525
            ],
            [
             2.6262626262626263,
             2.727272727272727
            ]
           ]
          }
         ],
         "name": "frame13",
         "traces": [
          0
         ]
        },
        {
         "data": [
          {
           "type": "scatter3d",
           "x": [
            [
             0,
             0.10101010101010101
            ],
            [
             0.20202020202020202,
             0.30303030303030304
            ],
            [
             0.40404040404040403,
             0.5050505050505051
            ],
            [
             0.6060606060606061,
             0.7070707070707071
            ],
            [
             0.8080808080808081,
             0.9090909090909091
            ],
            [
             1.0101010101010102,
             1.1111111111111112
            ],
            [
             1.2121212121212122,
             1.3131313131313131
            ],
            [
             1.4141414141414141,
             1.5151515151515151
            ],
            [
             1.6161616161616161,
             1.7171717171717171
            ],
            [
             1.8181818181818181,
             1.9191919191919191
            ],
            [
             2.0202020202020203,
             2.121212121212121
            ],
            [
             2.2222222222222223,
             2.323232323232323
            ],
            [
             2.4242424242424243,
             2.525252525252525
            ],
            [
             2.6262626262626263,
             2.727272727272727
            ],
            [
             2.8282828282828283,
             2.929292929292929
            ]
           ],
           "y": [
            [
             0,
             0.10101010101010101
            ],
            [
             0.20202020202020202,
             0.30303030303030304
            ],
            [
             0.40404040404040403,
             0.5050505050505051
            ],
            [
             0.6060606060606061,
             0.7070707070707071
            ],
            [
             0.8080808080808081,
             0.9090909090909091
            ],
            [
             1.0101010101010102,
             1.1111111111111112
            ],
            [
             1.2121212121212122,
             1.3131313131313131
            ],
            [
             1.4141414141414141,
             1.5151515151515151
            ],
            [
             1.6161616161616161,
             1.7171717171717171
            ],
            [
             1.8181818181818181,
             1.9191919191919191
            ],
            [
             2.0202020202020203,
             2.121212121212121
            ],
            [
             2.2222222222222223,
             2.323232323232323
            ],
            [
             2.4242424242424243,
             2.525252525252525
            ],
            [
             2.6262626262626263,
             2.727272727272727
            ],
            [
             2.8282828282828283,
             2.929292929292929
            ]
           ],
           "z": [
            [
             0,
             0.10101010101010101
            ],
            [
             0.20202020202020202,
             0.30303030303030304
            ],
            [
             0.40404040404040403,
             0.5050505050505051
            ],
            [
             0.6060606060606061,
             0.7070707070707071
            ],
            [
             0.8080808080808081,
             0.9090909090909091
            ],
            [
             1.0101010101010102,
             1.1111111111111112
            ],
            [
             1.2121212121212122,
             1.3131313131313131
            ],
            [
             1.4141414141414141,
             1.5151515151515151
            ],
            [
             1.6161616161616161,
             1.7171717171717171
            ],
            [
             1.8181818181818181,
             1.9191919191919191
            ],
            [
             2.0202020202020203,
             2.121212121212121
            ],
            [
             2.2222222222222223,
             2.323232323232323
            ],
            [
             2.4242424242424243,
             2.525252525252525
            ],
            [
             2.6262626262626263,
             2.727272727272727
            ],
            [
             2.8282828282828283,
             2.929292929292929
            ]
           ]
          }
         ],
         "name": "frame14",
         "traces": [
          0
         ]
        },
        {
         "data": [
          {
           "type": "scatter3d",
           "x": [
            [
             0,
             0.10101010101010101
            ],
            [
             0.20202020202020202,
             0.30303030303030304
            ],
            [
             0.40404040404040403,
             0.5050505050505051
            ],
            [
             0.6060606060606061,
             0.7070707070707071
            ],
            [
             0.8080808080808081,
             0.9090909090909091
            ],
            [
             1.0101010101010102,
             1.1111111111111112
            ],
            [
             1.2121212121212122,
             1.3131313131313131
            ],
            [
             1.4141414141414141,
             1.5151515151515151
            ],
            [
             1.6161616161616161,
             1.7171717171717171
            ],
            [
             1.8181818181818181,
             1.9191919191919191
            ],
            [
             2.0202020202020203,
             2.121212121212121
            ],
            [
             2.2222222222222223,
             2.323232323232323
            ],
            [
             2.4242424242424243,
             2.525252525252525
            ],
            [
             2.6262626262626263,
             2.727272727272727
            ],
            [
             2.8282828282828283,
             2.929292929292929
            ],
            [
             3.0303030303030303,
             3.131313131313131
            ]
           ],
           "y": [
            [
             0,
             0.10101010101010101
            ],
            [
             0.20202020202020202,
             0.30303030303030304
            ],
            [
             0.40404040404040403,
             0.5050505050505051
            ],
            [
             0.6060606060606061,
             0.7070707070707071
            ],
            [
             0.8080808080808081,
             0.9090909090909091
            ],
            [
             1.0101010101010102,
             1.1111111111111112
            ],
            [
             1.2121212121212122,
             1.3131313131313131
            ],
            [
             1.4141414141414141,
             1.5151515151515151
            ],
            [
             1.6161616161616161,
             1.7171717171717171
            ],
            [
             1.8181818181818181,
             1.9191919191919191
            ],
            [
             2.0202020202020203,
             2.121212121212121
            ],
            [
             2.2222222222222223,
             2.323232323232323
            ],
            [
             2.4242424242424243,
             2.525252525252525
            ],
            [
             2.6262626262626263,
             2.727272727272727
            ],
            [
             2.8282828282828283,
             2.929292929292929
            ],
            [
             3.0303030303030303,
             3.131313131313131
            ]
           ],
           "z": [
            [
             0,
             0.10101010101010101
            ],
            [
             0.20202020202020202,
             0.30303030303030304
            ],
            [
             0.40404040404040403,
             0.5050505050505051
            ],
            [
             0.6060606060606061,
             0.7070707070707071
            ],
            [
             0.8080808080808081,
             0.9090909090909091
            ],
            [
             1.0101010101010102,
             1.1111111111111112
            ],
            [
             1.2121212121212122,
             1.3131313131313131
            ],
            [
             1.4141414141414141,
             1.5151515151515151
            ],
            [
             1.6161616161616161,
             1.7171717171717171
            ],
            [
             1.8181818181818181,
             1.9191919191919191
            ],
            [
             2.0202020202020203,
             2.121212121212121
            ],
            [
             2.2222222222222223,
             2.323232323232323
            ],
            [
             2.4242424242424243,
             2.525252525252525
            ],
            [
             2.6262626262626263,
             2.727272727272727
            ],
            [
             2.8282828282828283,
             2.929292929292929
            ],
            [
             3.0303030303030303,
             3.131313131313131
            ]
           ]
          }
         ],
         "name": "frame15",
         "traces": [
          0
         ]
        },
        {
         "data": [
          {
           "type": "scatter3d",
           "x": [
            [
             0,
             0.10101010101010101
            ],
            [
             0.20202020202020202,
             0.30303030303030304
            ],
            [
             0.40404040404040403,
             0.5050505050505051
            ],
            [
             0.6060606060606061,
             0.7070707070707071
            ],
            [
             0.8080808080808081,
             0.9090909090909091
            ],
            [
             1.0101010101010102,
             1.1111111111111112
            ],
            [
             1.2121212121212122,
             1.3131313131313131
            ],
            [
             1.4141414141414141,
             1.5151515151515151
            ],
            [
             1.6161616161616161,
             1.7171717171717171
            ],
            [
             1.8181818181818181,
             1.9191919191919191
            ],
            [
             2.0202020202020203,
             2.121212121212121
            ],
            [
             2.2222222222222223,
             2.323232323232323
            ],
            [
             2.4242424242424243,
             2.525252525252525
            ],
            [
             2.6262626262626263,
             2.727272727272727
            ],
            [
             2.8282828282828283,
             2.929292929292929
            ],
            [
             3.0303030303030303,
             3.131313131313131
            ],
            [
             3.2323232323232323,
             3.3333333333333335
            ]
           ],
           "y": [
            [
             0,
             0.10101010101010101
            ],
            [
             0.20202020202020202,
             0.30303030303030304
            ],
            [
             0.40404040404040403,
             0.5050505050505051
            ],
            [
             0.6060606060606061,
             0.7070707070707071
            ],
            [
             0.8080808080808081,
             0.9090909090909091
            ],
            [
             1.0101010101010102,
             1.1111111111111112
            ],
            [
             1.2121212121212122,
             1.3131313131313131
            ],
            [
             1.4141414141414141,
             1.5151515151515151
            ],
            [
             1.6161616161616161,
             1.7171717171717171
            ],
            [
             1.8181818181818181,
             1.9191919191919191
            ],
            [
             2.0202020202020203,
             2.121212121212121
            ],
            [
             2.2222222222222223,
             2.323232323232323
            ],
            [
             2.4242424242424243,
             2.525252525252525
            ],
            [
             2.6262626262626263,
             2.727272727272727
            ],
            [
             2.8282828282828283,
             2.929292929292929
            ],
            [
             3.0303030303030303,
             3.131313131313131
            ],
            [
             3.2323232323232323,
             3.3333333333333335
            ]
           ],
           "z": [
            [
             0,
             0.10101010101010101
            ],
            [
             0.20202020202020202,
             0.30303030303030304
            ],
            [
             0.40404040404040403,
             0.5050505050505051
            ],
            [
             0.6060606060606061,
             0.7070707070707071
            ],
            [
             0.8080808080808081,
             0.9090909090909091
            ],
            [
             1.0101010101010102,
             1.1111111111111112
            ],
            [
             1.2121212121212122,
             1.3131313131313131
            ],
            [
             1.4141414141414141,
             1.5151515151515151
            ],
            [
             1.6161616161616161,
             1.7171717171717171
            ],
            [
             1.8181818181818181,
             1.9191919191919191
            ],
            [
             2.0202020202020203,
             2.121212121212121
            ],
            [
             2.2222222222222223,
             2.323232323232323
            ],
            [
             2.4242424242424243,
             2.525252525252525
            ],
            [
             2.6262626262626263,
             2.727272727272727
            ],
            [
             2.8282828282828283,
             2.929292929292929
            ],
            [
             3.0303030303030303,
             3.131313131313131
            ],
            [
             3.2323232323232323,
             3.3333333333333335
            ]
           ]
          }
         ],
         "name": "frame16",
         "traces": [
          0
         ]
        },
        {
         "data": [
          {
           "type": "scatter3d",
           "x": [
            [
             0,
             0.10101010101010101
            ],
            [
             0.20202020202020202,
             0.30303030303030304
            ],
            [
             0.40404040404040403,
             0.5050505050505051
            ],
            [
             0.6060606060606061,
             0.7070707070707071
            ],
            [
             0.8080808080808081,
             0.9090909090909091
            ],
            [
             1.0101010101010102,
             1.1111111111111112
            ],
            [
             1.2121212121212122,
             1.3131313131313131
            ],
            [
             1.4141414141414141,
             1.5151515151515151
            ],
            [
             1.6161616161616161,
             1.7171717171717171
            ],
            [
             1.8181818181818181,
             1.9191919191919191
            ],
            [
             2.0202020202020203,
             2.121212121212121
            ],
            [
             2.2222222222222223,
             2.323232323232323
            ],
            [
             2.4242424242424243,
             2.525252525252525
            ],
            [
             2.6262626262626263,
             2.727272727272727
            ],
            [
             2.8282828282828283,
             2.929292929292929
            ],
            [
             3.0303030303030303,
             3.131313131313131
            ],
            [
             3.2323232323232323,
             3.3333333333333335
            ],
            [
             3.4343434343434343,
             3.5353535353535355
            ]
           ],
           "y": [
            [
             0,
             0.10101010101010101
            ],
            [
             0.20202020202020202,
             0.30303030303030304
            ],
            [
             0.40404040404040403,
             0.5050505050505051
            ],
            [
             0.6060606060606061,
             0.7070707070707071
            ],
            [
             0.8080808080808081,
             0.9090909090909091
            ],
            [
             1.0101010101010102,
             1.1111111111111112
            ],
            [
             1.2121212121212122,
             1.3131313131313131
            ],
            [
             1.4141414141414141,
             1.5151515151515151
            ],
            [
             1.6161616161616161,
             1.7171717171717171
            ],
            [
             1.8181818181818181,
             1.9191919191919191
            ],
            [
             2.0202020202020203,
             2.121212121212121
            ],
            [
             2.2222222222222223,
             2.323232323232323
            ],
            [
             2.4242424242424243,
             2.525252525252525
            ],
            [
             2.6262626262626263,
             2.727272727272727
            ],
            [
             2.8282828282828283,
             2.929292929292929
            ],
            [
             3.0303030303030303,
             3.131313131313131
            ],
            [
             3.2323232323232323,
             3.3333333333333335
            ],
            [
             3.4343434343434343,
             3.5353535353535355
            ]
           ],
           "z": [
            [
             0,
             0.10101010101010101
            ],
            [
             0.20202020202020202,
             0.30303030303030304
            ],
            [
             0.40404040404040403,
             0.5050505050505051
            ],
            [
             0.6060606060606061,
             0.7070707070707071
            ],
            [
             0.8080808080808081,
             0.9090909090909091
            ],
            [
             1.0101010101010102,
             1.1111111111111112
            ],
            [
             1.2121212121212122,
             1.3131313131313131
            ],
            [
             1.4141414141414141,
             1.5151515151515151
            ],
            [
             1.6161616161616161,
             1.7171717171717171
            ],
            [
             1.8181818181818181,
             1.9191919191919191
            ],
            [
             2.0202020202020203,
             2.121212121212121
            ],
            [
             2.2222222222222223,
             2.323232323232323
            ],
            [
             2.4242424242424243,
             2.525252525252525
            ],
            [
             2.6262626262626263,
             2.727272727272727
            ],
            [
             2.8282828282828283,
             2.929292929292929
            ],
            [
             3.0303030303030303,
             3.131313131313131
            ],
            [
             3.2323232323232323,
             3.3333333333333335
            ],
            [
             3.4343434343434343,
             3.5353535353535355
            ]
           ]
          }
         ],
         "name": "frame17",
         "traces": [
          0
         ]
        },
        {
         "data": [
          {
           "type": "scatter3d",
           "x": [
            [
             0,
             0.10101010101010101
            ],
            [
             0.20202020202020202,
             0.30303030303030304
            ],
            [
             0.40404040404040403,
             0.5050505050505051
            ],
            [
             0.6060606060606061,
             0.7070707070707071
            ],
            [
             0.8080808080808081,
             0.9090909090909091
            ],
            [
             1.0101010101010102,
             1.1111111111111112
            ],
            [
             1.2121212121212122,
             1.3131313131313131
            ],
            [
             1.4141414141414141,
             1.5151515151515151
            ],
            [
             1.6161616161616161,
             1.7171717171717171
            ],
            [
             1.8181818181818181,
             1.9191919191919191
            ],
            [
             2.0202020202020203,
             2.121212121212121
            ],
            [
             2.2222222222222223,
             2.323232323232323
            ],
            [
             2.4242424242424243,
             2.525252525252525
            ],
            [
             2.6262626262626263,
             2.727272727272727
            ],
            [
             2.8282828282828283,
             2.929292929292929
            ],
            [
             3.0303030303030303,
             3.131313131313131
            ],
            [
             3.2323232323232323,
             3.3333333333333335
            ],
            [
             3.4343434343434343,
             3.5353535353535355
            ],
            [
             3.6363636363636362,
             3.7373737373737375
            ]
           ],
           "y": [
            [
             0,
             0.10101010101010101
            ],
            [
             0.20202020202020202,
             0.30303030303030304
            ],
            [
             0.40404040404040403,
             0.5050505050505051
            ],
            [
             0.6060606060606061,
             0.7070707070707071
            ],
            [
             0.8080808080808081,
             0.9090909090909091
            ],
            [
             1.0101010101010102,
             1.1111111111111112
            ],
            [
             1.2121212121212122,
             1.3131313131313131
            ],
            [
             1.4141414141414141,
             1.5151515151515151
            ],
            [
             1.6161616161616161,
             1.7171717171717171
            ],
            [
             1.8181818181818181,
             1.9191919191919191
            ],
            [
             2.0202020202020203,
             2.121212121212121
            ],
            [
             2.2222222222222223,
             2.323232323232323
            ],
            [
             2.4242424242424243,
             2.525252525252525
            ],
            [
             2.6262626262626263,
             2.727272727272727
            ],
            [
             2.8282828282828283,
             2.929292929292929
            ],
            [
             3.0303030303030303,
             3.131313131313131
            ],
            [
             3.2323232323232323,
             3.3333333333333335
            ],
            [
             3.4343434343434343,
             3.5353535353535355
            ],
            [
             3.6363636363636362,
             3.7373737373737375
            ]
           ],
           "z": [
            [
             0,
             0.10101010101010101
            ],
            [
             0.20202020202020202,
             0.30303030303030304
            ],
            [
             0.40404040404040403,
             0.5050505050505051
            ],
            [
             0.6060606060606061,
             0.7070707070707071
            ],
            [
             0.8080808080808081,
             0.9090909090909091
            ],
            [
             1.0101010101010102,
             1.1111111111111112
            ],
            [
             1.2121212121212122,
             1.3131313131313131
            ],
            [
             1.4141414141414141,
             1.5151515151515151
            ],
            [
             1.6161616161616161,
             1.7171717171717171
            ],
            [
             1.8181818181818181,
             1.9191919191919191
            ],
            [
             2.0202020202020203,
             2.121212121212121
            ],
            [
             2.2222222222222223,
             2.323232323232323
            ],
            [
             2.4242424242424243,
             2.525252525252525
            ],
            [
             2.6262626262626263,
             2.727272727272727
            ],
            [
             2.8282828282828283,
             2.929292929292929
            ],
            [
             3.0303030303030303,
             3.131313131313131
            ],
            [
             3.2323232323232323,
             3.3333333333333335
            ],
            [
             3.4343434343434343,
             3.5353535353535355
            ],
            [
             3.6363636363636362,
             3.7373737373737375
            ]
           ]
          }
         ],
         "name": "frame18",
         "traces": [
          0
         ]
        },
        {
         "data": [
          {
           "type": "scatter3d",
           "x": [
            [
             0,
             0.10101010101010101
            ],
            [
             0.20202020202020202,
             0.30303030303030304
            ],
            [
             0.40404040404040403,
             0.5050505050505051
            ],
            [
             0.6060606060606061,
             0.7070707070707071
            ],
            [
             0.8080808080808081,
             0.9090909090909091
            ],
            [
             1.0101010101010102,
             1.1111111111111112
            ],
            [
             1.2121212121212122,
             1.3131313131313131
            ],
            [
             1.4141414141414141,
             1.5151515151515151
            ],
            [
             1.6161616161616161,
             1.7171717171717171
            ],
            [
             1.8181818181818181,
             1.9191919191919191
            ],
            [
             2.0202020202020203,
             2.121212121212121
            ],
            [
             2.2222222222222223,
             2.323232323232323
            ],
            [
             2.4242424242424243,
             2.525252525252525
            ],
            [
             2.6262626262626263,
             2.727272727272727
            ],
            [
             2.8282828282828283,
             2.929292929292929
            ],
            [
             3.0303030303030303,
             3.131313131313131
            ],
            [
             3.2323232323232323,
             3.3333333333333335
            ],
            [
             3.4343434343434343,
             3.5353535353535355
            ],
            [
             3.6363636363636362,
             3.7373737373737375
            ],
            [
             3.8383838383838382,
             3.9393939393939394
            ]
           ],
           "y": [
            [
             0,
             0.10101010101010101
            ],
            [
             0.20202020202020202,
             0.30303030303030304
            ],
            [
             0.40404040404040403,
             0.5050505050505051
            ],
            [
             0.6060606060606061,
             0.7070707070707071
            ],
            [
             0.8080808080808081,
             0.9090909090909091
            ],
            [
             1.0101010101010102,
             1.1111111111111112
            ],
            [
             1.2121212121212122,
             1.3131313131313131
            ],
            [
             1.4141414141414141,
             1.5151515151515151
            ],
            [
             1.6161616161616161,
             1.7171717171717171
            ],
            [
             1.8181818181818181,
             1.9191919191919191
            ],
            [
             2.0202020202020203,
             2.121212121212121
            ],
            [
             2.2222222222222223,
             2.323232323232323
            ],
            [
             2.4242424242424243,
             2.525252525252525
            ],
            [
             2.6262626262626263,
             2.727272727272727
            ],
            [
             2.8282828282828283,
             2.929292929292929
            ],
            [
             3.0303030303030303,
             3.131313131313131
            ],
            [
             3.2323232323232323,
             3.3333333333333335
            ],
            [
             3.4343434343434343,
             3.5353535353535355
            ],
            [
             3.6363636363636362,
             3.7373737373737375
            ],
            [
             3.8383838383838382,
             3.9393939393939394
            ]
           ],
           "z": [
            [
             0,
             0.10101010101010101
            ],
            [
             0.20202020202020202,
             0.30303030303030304
            ],
            [
             0.40404040404040403,
             0.5050505050505051
            ],
            [
             0.6060606060606061,
             0.7070707070707071
            ],
            [
             0.8080808080808081,
             0.9090909090909091
            ],
            [
             1.0101010101010102,
             1.1111111111111112
            ],
            [
             1.2121212121212122,
             1.3131313131313131
            ],
            [
             1.4141414141414141,
             1.5151515151515151
            ],
            [
             1.6161616161616161,
             1.7171717171717171
            ],
            [
             1.8181818181818181,
             1.9191919191919191
            ],
            [
             2.0202020202020203,
             2.121212121212121
            ],
            [
             2.2222222222222223,
             2.323232323232323
            ],
            [
             2.4242424242424243,
             2.525252525252525
            ],
            [
             2.6262626262626263,
             2.727272727272727
            ],
            [
             2.8282828282828283,
             2.929292929292929
            ],
            [
             3.0303030303030303,
             3.131313131313131
            ],
            [
             3.2323232323232323,
             3.3333333333333335
            ],
            [
             3.4343434343434343,
             3.5353535353535355
            ],
            [
             3.6363636363636362,
             3.7373737373737375
            ],
            [
             3.8383838383838382,
             3.9393939393939394
            ]
           ]
          }
         ],
         "name": "frame19",
         "traces": [
          0
         ]
        },
        {
         "data": [
          {
           "type": "scatter3d",
           "x": [
            [
             0,
             0.10101010101010101
            ],
            [
             0.20202020202020202,
             0.30303030303030304
            ],
            [
             0.40404040404040403,
             0.5050505050505051
            ],
            [
             0.6060606060606061,
             0.7070707070707071
            ],
            [
             0.8080808080808081,
             0.9090909090909091
            ],
            [
             1.0101010101010102,
             1.1111111111111112
            ],
            [
             1.2121212121212122,
             1.3131313131313131
            ],
            [
             1.4141414141414141,
             1.5151515151515151
            ],
            [
             1.6161616161616161,
             1.7171717171717171
            ],
            [
             1.8181818181818181,
             1.9191919191919191
            ],
            [
             2.0202020202020203,
             2.121212121212121
            ],
            [
             2.2222222222222223,
             2.323232323232323
            ],
            [
             2.4242424242424243,
             2.525252525252525
            ],
            [
             2.6262626262626263,
             2.727272727272727
            ],
            [
             2.8282828282828283,
             2.929292929292929
            ],
            [
             3.0303030303030303,
             3.131313131313131
            ],
            [
             3.2323232323232323,
             3.3333333333333335
            ],
            [
             3.4343434343434343,
             3.5353535353535355
            ],
            [
             3.6363636363636362,
             3.7373737373737375
            ],
            [
             3.8383838383838382,
             3.9393939393939394
            ],
            [
             4.040404040404041,
             4.141414141414141
            ]
           ],
           "y": [
            [
             0,
             0.10101010101010101
            ],
            [
             0.20202020202020202,
             0.30303030303030304
            ],
            [
             0.40404040404040403,
             0.5050505050505051
            ],
            [
             0.6060606060606061,
             0.7070707070707071
            ],
            [
             0.8080808080808081,
             0.9090909090909091
            ],
            [
             1.0101010101010102,
             1.1111111111111112
            ],
            [
             1.2121212121212122,
             1.3131313131313131
            ],
            [
             1.4141414141414141,
             1.5151515151515151
            ],
            [
             1.6161616161616161,
             1.7171717171717171
            ],
            [
             1.8181818181818181,
             1.9191919191919191
            ],
            [
             2.0202020202020203,
             2.121212121212121
            ],
            [
             2.2222222222222223,
             2.323232323232323
            ],
            [
             2.4242424242424243,
             2.525252525252525
            ],
            [
             2.6262626262626263,
             2.727272727272727
            ],
            [
             2.8282828282828283,
             2.929292929292929
            ],
            [
             3.0303030303030303,
             3.131313131313131
            ],
            [
             3.2323232323232323,
             3.3333333333333335
            ],
            [
             3.4343434343434343,
             3.5353535353535355
            ],
            [
             3.6363636363636362,
             3.7373737373737375
            ],
            [
             3.8383838383838382,
             3.9393939393939394
            ],
            [
             4.040404040404041,
             4.141414141414141
            ]
           ],
           "z": [
            [
             0,
             0.10101010101010101
            ],
            [
             0.20202020202020202,
             0.30303030303030304
            ],
            [
             0.40404040404040403,
             0.5050505050505051
            ],
            [
             0.6060606060606061,
             0.7070707070707071
            ],
            [
             0.8080808080808081,
             0.9090909090909091
            ],
            [
             1.0101010101010102,
             1.1111111111111112
            ],
            [
             1.2121212121212122,
             1.3131313131313131
            ],
            [
             1.4141414141414141,
             1.5151515151515151
            ],
            [
             1.6161616161616161,
             1.7171717171717171
            ],
            [
             1.8181818181818181,
             1.9191919191919191
            ],
            [
             2.0202020202020203,
             2.121212121212121
            ],
            [
             2.2222222222222223,
             2.323232323232323
            ],
            [
             2.4242424242424243,
             2.525252525252525
            ],
            [
             2.6262626262626263,
             2.727272727272727
            ],
            [
             2.8282828282828283,
             2.929292929292929
            ],
            [
             3.0303030303030303,
             3.131313131313131
            ],
            [
             3.2323232323232323,
             3.3333333333333335
            ],
            [
             3.4343434343434343,
             3.5353535353535355
            ],
            [
             3.6363636363636362,
             3.7373737373737375
            ],
            [
             3.8383838383838382,
             3.9393939393939394
            ],
            [
             4.040404040404041,
             4.141414141414141
            ]
           ]
          }
         ],
         "name": "frame20",
         "traces": [
          0
         ]
        },
        {
         "data": [
          {
           "type": "scatter3d",
           "x": [
            [
             0,
             0.10101010101010101
            ],
            [
             0.20202020202020202,
             0.30303030303030304
            ],
            [
             0.40404040404040403,
             0.5050505050505051
            ],
            [
             0.6060606060606061,
             0.7070707070707071
            ],
            [
             0.8080808080808081,
             0.9090909090909091
            ],
            [
             1.0101010101010102,
             1.1111111111111112
            ],
            [
             1.2121212121212122,
             1.3131313131313131
            ],
            [
             1.4141414141414141,
             1.5151515151515151
            ],
            [
             1.6161616161616161,
             1.7171717171717171
            ],
            [
             1.8181818181818181,
             1.9191919191919191
            ],
            [
             2.0202020202020203,
             2.121212121212121
            ],
            [
             2.2222222222222223,
             2.323232323232323
            ],
            [
             2.4242424242424243,
             2.525252525252525
            ],
            [
             2.6262626262626263,
             2.727272727272727
            ],
            [
             2.8282828282828283,
             2.929292929292929
            ],
            [
             3.0303030303030303,
             3.131313131313131
            ],
            [
             3.2323232323232323,
             3.3333333333333335
            ],
            [
             3.4343434343434343,
             3.5353535353535355
            ],
            [
             3.6363636363636362,
             3.7373737373737375
            ],
            [
             3.8383838383838382,
             3.9393939393939394
            ],
            [
             4.040404040404041,
             4.141414141414141
            ],
            [
             4.242424242424242,
             4.343434343434343
            ]
           ],
           "y": [
            [
             0,
             0.10101010101010101
            ],
            [
             0.20202020202020202,
             0.30303030303030304
            ],
            [
             0.40404040404040403,
             0.5050505050505051
            ],
            [
             0.6060606060606061,
             0.7070707070707071
            ],
            [
             0.8080808080808081,
             0.9090909090909091
            ],
            [
             1.0101010101010102,
             1.1111111111111112
            ],
            [
             1.2121212121212122,
             1.3131313131313131
            ],
            [
             1.4141414141414141,
             1.5151515151515151
            ],
            [
             1.6161616161616161,
             1.7171717171717171
            ],
            [
             1.8181818181818181,
             1.9191919191919191
            ],
            [
             2.0202020202020203,
             2.121212121212121
            ],
            [
             2.2222222222222223,
             2.323232323232323
            ],
            [
             2.4242424242424243,
             2.525252525252525
            ],
            [
             2.6262626262626263,
             2.727272727272727
            ],
            [
             2.8282828282828283,
             2.929292929292929
            ],
            [
             3.0303030303030303,
             3.131313131313131
            ],
            [
             3.2323232323232323,
             3.3333333333333335
            ],
            [
             3.4343434343434343,
             3.5353535353535355
            ],
            [
             3.6363636363636362,
             3.7373737373737375
            ],
            [
             3.8383838383838382,
             3.9393939393939394
            ],
            [
             4.040404040404041,
             4.141414141414141
            ],
            [
             4.242424242424242,
             4.343434343434343
            ]
           ],
           "z": [
            [
             0,
             0.10101010101010101
            ],
            [
             0.20202020202020202,
             0.30303030303030304
            ],
            [
             0.40404040404040403,
             0.5050505050505051
            ],
            [
             0.6060606060606061,
             0.7070707070707071
            ],
            [
             0.8080808080808081,
             0.9090909090909091
            ],
            [
             1.0101010101010102,
             1.1111111111111112
            ],
            [
             1.2121212121212122,
             1.3131313131313131
            ],
            [
             1.4141414141414141,
             1.5151515151515151
            ],
            [
             1.6161616161616161,
             1.7171717171717171
            ],
            [
             1.8181818181818181,
             1.9191919191919191
            ],
            [
             2.0202020202020203,
             2.121212121212121
            ],
            [
             2.2222222222222223,
             2.323232323232323
            ],
            [
             2.4242424242424243,
             2.525252525252525
            ],
            [
             2.6262626262626263,
             2.727272727272727
            ],
            [
             2.8282828282828283,
             2.929292929292929
            ],
            [
             3.0303030303030303,
             3.131313131313131
            ],
            [
             3.2323232323232323,
             3.3333333333333335
            ],
            [
             3.4343434343434343,
             3.5353535353535355
            ],
            [
             3.6363636363636362,
             3.7373737373737375
            ],
            [
             3.8383838383838382,
             3.9393939393939394
            ],
            [
             4.040404040404041,
             4.141414141414141
            ],
            [
             4.242424242424242,
             4.343434343434343
            ]
           ]
          }
         ],
         "name": "frame21",
         "traces": [
          0
         ]
        },
        {
         "data": [
          {
           "type": "scatter3d",
           "x": [
            [
             0,
             0.10101010101010101
            ],
            [
             0.20202020202020202,
             0.30303030303030304
            ],
            [
             0.40404040404040403,
             0.5050505050505051
            ],
            [
             0.6060606060606061,
             0.7070707070707071
            ],
            [
             0.8080808080808081,
             0.9090909090909091
            ],
            [
             1.0101010101010102,
             1.1111111111111112
            ],
            [
             1.2121212121212122,
             1.3131313131313131
            ],
            [
             1.4141414141414141,
             1.5151515151515151
            ],
            [
             1.6161616161616161,
             1.7171717171717171
            ],
            [
             1.8181818181818181,
             1.9191919191919191
            ],
            [
             2.0202020202020203,
             2.121212121212121
            ],
            [
             2.2222222222222223,
             2.323232323232323
            ],
            [
             2.4242424242424243,
             2.525252525252525
            ],
            [
             2.6262626262626263,
             2.727272727272727
            ],
            [
             2.8282828282828283,
             2.929292929292929
            ],
            [
             3.0303030303030303,
             3.131313131313131
            ],
            [
             3.2323232323232323,
             3.3333333333333335
            ],
            [
             3.4343434343434343,
             3.5353535353535355
            ],
            [
             3.6363636363636362,
             3.7373737373737375
            ],
            [
             3.8383838383838382,
             3.9393939393939394
            ],
            [
             4.040404040404041,
             4.141414141414141
            ],
            [
             4.242424242424242,
             4.343434343434343
            ],
            [
             4.444444444444445,
             4.545454545454545
            ]
           ],
           "y": [
            [
             0,
             0.10101010101010101
            ],
            [
             0.20202020202020202,
             0.30303030303030304
            ],
            [
             0.40404040404040403,
             0.5050505050505051
            ],
            [
             0.6060606060606061,
             0.7070707070707071
            ],
            [
             0.8080808080808081,
             0.9090909090909091
            ],
            [
             1.0101010101010102,
             1.1111111111111112
            ],
            [
             1.2121212121212122,
             1.3131313131313131
            ],
            [
             1.4141414141414141,
             1.5151515151515151
            ],
            [
             1.6161616161616161,
             1.7171717171717171
            ],
            [
             1.8181818181818181,
             1.9191919191919191
            ],
            [
             2.0202020202020203,
             2.121212121212121
            ],
            [
             2.2222222222222223,
             2.323232323232323
            ],
            [
             2.4242424242424243,
             2.525252525252525
            ],
            [
             2.6262626262626263,
             2.727272727272727
            ],
            [
             2.8282828282828283,
             2.929292929292929
            ],
            [
             3.0303030303030303,
             3.131313131313131
            ],
            [
             3.2323232323232323,
             3.3333333333333335
            ],
            [
             3.4343434343434343,
             3.5353535353535355
            ],
            [
             3.6363636363636362,
             3.7373737373737375
            ],
            [
             3.8383838383838382,
             3.9393939393939394
            ],
            [
             4.040404040404041,
             4.141414141414141
            ],
            [
             4.242424242424242,
             4.343434343434343
            ],
            [
             4.444444444444445,
             4.545454545454545
            ]
           ],
           "z": [
            [
             0,
             0.10101010101010101
            ],
            [
             0.20202020202020202,
             0.30303030303030304
            ],
            [
             0.40404040404040403,
             0.5050505050505051
            ],
            [
             0.6060606060606061,
             0.7070707070707071
            ],
            [
             0.8080808080808081,
             0.9090909090909091
            ],
            [
             1.0101010101010102,
             1.1111111111111112
            ],
            [
             1.2121212121212122,
             1.3131313131313131
            ],
            [
             1.4141414141414141,
             1.5151515151515151
            ],
            [
             1.6161616161616161,
             1.7171717171717171
            ],
            [
             1.8181818181818181,
             1.9191919191919191
            ],
            [
             2.0202020202020203,
             2.121212121212121
            ],
            [
             2.2222222222222223,
             2.323232323232323
            ],
            [
             2.4242424242424243,
             2.525252525252525
            ],
            [
             2.6262626262626263,
             2.727272727272727
            ],
            [
             2.8282828282828283,
             2.929292929292929
            ],
            [
             3.0303030303030303,
             3.131313131313131
            ],
            [
             3.2323232323232323,
             3.3333333333333335
            ],
            [
             3.4343434343434343,
             3.5353535353535355
            ],
            [
             3.6363636363636362,
             3.7373737373737375
            ],
            [
             3.8383838383838382,
             3.9393939393939394
            ],
            [
             4.040404040404041,
             4.141414141414141
            ],
            [
             4.242424242424242,
             4.343434343434343
            ],
            [
             4.444444444444445,
             4.545454545454545
            ]
           ]
          }
         ],
         "name": "frame22",
         "traces": [
          0
         ]
        },
        {
         "data": [
          {
           "type": "scatter3d",
           "x": [
            [
             0,
             0.10101010101010101
            ],
            [
             0.20202020202020202,
             0.30303030303030304
            ],
            [
             0.40404040404040403,
             0.5050505050505051
            ],
            [
             0.6060606060606061,
             0.7070707070707071
            ],
            [
             0.8080808080808081,
             0.9090909090909091
            ],
            [
             1.0101010101010102,
             1.1111111111111112
            ],
            [
             1.2121212121212122,
             1.3131313131313131
            ],
            [
             1.4141414141414141,
             1.5151515151515151
            ],
            [
             1.6161616161616161,
             1.7171717171717171
            ],
            [
             1.8181818181818181,
             1.9191919191919191
            ],
            [
             2.0202020202020203,
             2.121212121212121
            ],
            [
             2.2222222222222223,
             2.323232323232323
            ],
            [
             2.4242424242424243,
             2.525252525252525
            ],
            [
             2.6262626262626263,
             2.727272727272727
            ],
            [
             2.8282828282828283,
             2.929292929292929
            ],
            [
             3.0303030303030303,
             3.131313131313131
            ],
            [
             3.2323232323232323,
             3.3333333333333335
            ],
            [
             3.4343434343434343,
             3.5353535353535355
            ],
            [
             3.6363636363636362,
             3.7373737373737375
            ],
            [
             3.8383838383838382,
             3.9393939393939394
            ],
            [
             4.040404040404041,
             4.141414141414141
            ],
            [
             4.242424242424242,
             4.343434343434343
            ],
            [
             4.444444444444445,
             4.545454545454545
            ],
            [
             4.646464646464646,
             4.747474747474747
            ]
           ],
           "y": [
            [
             0,
             0.10101010101010101
            ],
            [
             0.20202020202020202,
             0.30303030303030304
            ],
            [
             0.40404040404040403,
             0.5050505050505051
            ],
            [
             0.6060606060606061,
             0.7070707070707071
            ],
            [
             0.8080808080808081,
             0.9090909090909091
            ],
            [
             1.0101010101010102,
             1.1111111111111112
            ],
            [
             1.2121212121212122,
             1.3131313131313131
            ],
            [
             1.4141414141414141,
             1.5151515151515151
            ],
            [
             1.6161616161616161,
             1.7171717171717171
            ],
            [
             1.8181818181818181,
             1.9191919191919191
            ],
            [
             2.0202020202020203,
             2.121212121212121
            ],
            [
             2.2222222222222223,
             2.323232323232323
            ],
            [
             2.4242424242424243,
             2.525252525252525
            ],
            [
             2.6262626262626263,
             2.727272727272727
            ],
            [
             2.8282828282828283,
             2.929292929292929
            ],
            [
             3.0303030303030303,
             3.131313131313131
            ],
            [
             3.2323232323232323,
             3.3333333333333335
            ],
            [
             3.4343434343434343,
             3.5353535353535355
            ],
            [
             3.6363636363636362,
             3.7373737373737375
            ],
            [
             3.8383838383838382,
             3.9393939393939394
            ],
            [
             4.040404040404041,
             4.141414141414141
            ],
            [
             4.242424242424242,
             4.343434343434343
            ],
            [
             4.444444444444445,
             4.545454545454545
            ],
            [
             4.646464646464646,
             4.747474747474747
            ]
           ],
           "z": [
            [
             0,
             0.10101010101010101
            ],
            [
             0.20202020202020202,
             0.30303030303030304
            ],
            [
             0.40404040404040403,
             0.5050505050505051
            ],
            [
             0.6060606060606061,
             0.7070707070707071
            ],
            [
             0.8080808080808081,
             0.9090909090909091
            ],
            [
             1.0101010101010102,
             1.1111111111111112
            ],
            [
             1.2121212121212122,
             1.3131313131313131
            ],
            [
             1.4141414141414141,
             1.5151515151515151
            ],
            [
             1.6161616161616161,
             1.7171717171717171
            ],
            [
             1.8181818181818181,
             1.9191919191919191
            ],
            [
             2.0202020202020203,
             2.121212121212121
            ],
            [
             2.2222222222222223,
             2.323232323232323
            ],
            [
             2.4242424242424243,
             2.525252525252525
            ],
            [
             2.6262626262626263,
             2.727272727272727
            ],
            [
             2.8282828282828283,
             2.929292929292929
            ],
            [
             3.0303030303030303,
             3.131313131313131
            ],
            [
             3.2323232323232323,
             3.3333333333333335
            ],
            [
             3.4343434343434343,
             3.5353535353535355
            ],
            [
             3.6363636363636362,
             3.7373737373737375
            ],
            [
             3.8383838383838382,
             3.9393939393939394
            ],
            [
             4.040404040404041,
             4.141414141414141
            ],
            [
             4.242424242424242,
             4.343434343434343
            ],
            [
             4.444444444444445,
             4.545454545454545
            ],
            [
             4.646464646464646,
             4.747474747474747
            ]
           ]
          }
         ],
         "name": "frame23",
         "traces": [
          0
         ]
        },
        {
         "data": [
          {
           "type": "scatter3d",
           "x": [
            [
             0,
             0.10101010101010101
            ],
            [
             0.20202020202020202,
             0.30303030303030304
            ],
            [
             0.40404040404040403,
             0.5050505050505051
            ],
            [
             0.6060606060606061,
             0.7070707070707071
            ],
            [
             0.8080808080808081,
             0.9090909090909091
            ],
            [
             1.0101010101010102,
             1.1111111111111112
            ],
            [
             1.2121212121212122,
             1.3131313131313131
            ],
            [
             1.4141414141414141,
             1.5151515151515151
            ],
            [
             1.6161616161616161,
             1.7171717171717171
            ],
            [
             1.8181818181818181,
             1.9191919191919191
            ],
            [
             2.0202020202020203,
             2.121212121212121
            ],
            [
             2.2222222222222223,
             2.323232323232323
            ],
            [
             2.4242424242424243,
             2.525252525252525
            ],
            [
             2.6262626262626263,
             2.727272727272727
            ],
            [
             2.8282828282828283,
             2.929292929292929
            ],
            [
             3.0303030303030303,
             3.131313131313131
            ],
            [
             3.2323232323232323,
             3.3333333333333335
            ],
            [
             3.4343434343434343,
             3.5353535353535355
            ],
            [
             3.6363636363636362,
             3.7373737373737375
            ],
            [
             3.8383838383838382,
             3.9393939393939394
            ],
            [
             4.040404040404041,
             4.141414141414141
            ],
            [
             4.242424242424242,
             4.343434343434343
            ],
            [
             4.444444444444445,
             4.545454545454545
            ],
            [
             4.646464646464646,
             4.747474747474747
            ],
            [
             4.848484848484849,
             4.94949494949495
            ]
           ],
           "y": [
            [
             0,
             0.10101010101010101
            ],
            [
             0.20202020202020202,
             0.30303030303030304
            ],
            [
             0.40404040404040403,
             0.5050505050505051
            ],
            [
             0.6060606060606061,
             0.7070707070707071
            ],
            [
             0.8080808080808081,
             0.9090909090909091
            ],
            [
             1.0101010101010102,
             1.1111111111111112
            ],
            [
             1.2121212121212122,
             1.3131313131313131
            ],
            [
             1.4141414141414141,
             1.5151515151515151
            ],
            [
             1.6161616161616161,
             1.7171717171717171
            ],
            [
             1.8181818181818181,
             1.9191919191919191
            ],
            [
             2.0202020202020203,
             2.121212121212121
            ],
            [
             2.2222222222222223,
             2.323232323232323
            ],
            [
             2.4242424242424243,
             2.525252525252525
            ],
            [
             2.6262626262626263,
             2.727272727272727
            ],
            [
             2.8282828282828283,
             2.929292929292929
            ],
            [
             3.0303030303030303,
             3.131313131313131
            ],
            [
             3.2323232323232323,
             3.3333333333333335
            ],
            [
             3.4343434343434343,
             3.5353535353535355
            ],
            [
             3.6363636363636362,
             3.7373737373737375
            ],
            [
             3.8383838383838382,
             3.9393939393939394
            ],
            [
             4.040404040404041,
             4.141414141414141
            ],
            [
             4.242424242424242,
             4.343434343434343
            ],
            [
             4.444444444444445,
             4.545454545454545
            ],
            [
             4.646464646464646,
             4.747474747474747
            ],
            [
             4.848484848484849,
             4.94949494949495
            ]
           ],
           "z": [
            [
             0,
             0.10101010101010101
            ],
            [
             0.20202020202020202,
             0.30303030303030304
            ],
            [
             0.40404040404040403,
             0.5050505050505051
            ],
            [
             0.6060606060606061,
             0.7070707070707071
            ],
            [
             0.8080808080808081,
             0.9090909090909091
            ],
            [
             1.0101010101010102,
             1.1111111111111112
            ],
            [
             1.2121212121212122,
             1.3131313131313131
            ],
            [
             1.4141414141414141,
             1.5151515151515151
            ],
            [
             1.6161616161616161,
             1.7171717171717171
            ],
            [
             1.8181818181818181,
             1.9191919191919191
            ],
            [
             2.0202020202020203,
             2.121212121212121
            ],
            [
             2.2222222222222223,
             2.323232323232323
            ],
            [
             2.4242424242424243,
             2.525252525252525
            ],
            [
             2.6262626262626263,
             2.727272727272727
            ],
            [
             2.8282828282828283,
             2.929292929292929
            ],
            [
             3.0303030303030303,
             3.131313131313131
            ],
            [
             3.2323232323232323,
             3.3333333333333335
            ],
            [
             3.4343434343434343,
             3.5353535353535355
            ],
            [
             3.6363636363636362,
             3.7373737373737375
            ],
            [
             3.8383838383838382,
             3.9393939393939394
            ],
            [
             4.040404040404041,
             4.141414141414141
            ],
            [
             4.242424242424242,
             4.343434343434343
            ],
            [
             4.444444444444445,
             4.545454545454545
            ],
            [
             4.646464646464646,
             4.747474747474747
            ],
            [
             4.848484848484849,
             4.94949494949495
            ]
           ]
          }
         ],
         "name": "frame24",
         "traces": [
          0
         ]
        },
        {
         "data": [
          {
           "type": "scatter3d",
           "x": [
            [
             0,
             0.10101010101010101
            ],
            [
             0.20202020202020202,
             0.30303030303030304
            ],
            [
             0.40404040404040403,
             0.5050505050505051
            ],
            [
             0.6060606060606061,
             0.7070707070707071
            ],
            [
             0.8080808080808081,
             0.9090909090909091
            ],
            [
             1.0101010101010102,
             1.1111111111111112
            ],
            [
             1.2121212121212122,
             1.3131313131313131
            ],
            [
             1.4141414141414141,
             1.5151515151515151
            ],
            [
             1.6161616161616161,
             1.7171717171717171
            ],
            [
             1.8181818181818181,
             1.9191919191919191
            ],
            [
             2.0202020202020203,
             2.121212121212121
            ],
            [
             2.2222222222222223,
             2.323232323232323
            ],
            [
             2.4242424242424243,
             2.525252525252525
            ],
            [
             2.6262626262626263,
             2.727272727272727
            ],
            [
             2.8282828282828283,
             2.929292929292929
            ],
            [
             3.0303030303030303,
             3.131313131313131
            ],
            [
             3.2323232323232323,
             3.3333333333333335
            ],
            [
             3.4343434343434343,
             3.5353535353535355
            ],
            [
             3.6363636363636362,
             3.7373737373737375
            ],
            [
             3.8383838383838382,
             3.9393939393939394
            ],
            [
             4.040404040404041,
             4.141414141414141
            ],
            [
             4.242424242424242,
             4.343434343434343
            ],
            [
             4.444444444444445,
             4.545454545454545
            ],
            [
             4.646464646464646,
             4.747474747474747
            ],
            [
             4.848484848484849,
             4.94949494949495
            ],
            [
             5.05050505050505,
             5.151515151515151
            ]
           ],
           "y": [
            [
             0,
             0.10101010101010101
            ],
            [
             0.20202020202020202,
             0.30303030303030304
            ],
            [
             0.40404040404040403,
             0.5050505050505051
            ],
            [
             0.6060606060606061,
             0.7070707070707071
            ],
            [
             0.8080808080808081,
             0.9090909090909091
            ],
            [
             1.0101010101010102,
             1.1111111111111112
            ],
            [
             1.2121212121212122,
             1.3131313131313131
            ],
            [
             1.4141414141414141,
             1.5151515151515151
            ],
            [
             1.6161616161616161,
             1.7171717171717171
            ],
            [
             1.8181818181818181,
             1.9191919191919191
            ],
            [
             2.0202020202020203,
             2.121212121212121
            ],
            [
             2.2222222222222223,
             2.323232323232323
            ],
            [
             2.4242424242424243,
             2.525252525252525
            ],
            [
             2.6262626262626263,
             2.727272727272727
            ],
            [
             2.8282828282828283,
             2.929292929292929
            ],
            [
             3.0303030303030303,
             3.131313131313131
            ],
            [
             3.2323232323232323,
             3.3333333333333335
            ],
            [
             3.4343434343434343,
             3.5353535353535355
            ],
            [
             3.6363636363636362,
             3.7373737373737375
            ],
            [
             3.8383838383838382,
             3.9393939393939394
            ],
            [
             4.040404040404041,
             4.141414141414141
            ],
            [
             4.242424242424242,
             4.343434343434343
            ],
            [
             4.444444444444445,
             4.545454545454545
            ],
            [
             4.646464646464646,
             4.747474747474747
            ],
            [
             4.848484848484849,
             4.94949494949495
            ],
            [
             5.05050505050505,
             5.151515151515151
            ]
           ],
           "z": [
            [
             0,
             0.10101010101010101
            ],
            [
             0.20202020202020202,
             0.30303030303030304
            ],
            [
             0.40404040404040403,
             0.5050505050505051
            ],
            [
             0.6060606060606061,
             0.7070707070707071
            ],
            [
             0.8080808080808081,
             0.9090909090909091
            ],
            [
             1.0101010101010102,
             1.1111111111111112
            ],
            [
             1.2121212121212122,
             1.3131313131313131
            ],
            [
             1.4141414141414141,
             1.5151515151515151
            ],
            [
             1.6161616161616161,
             1.7171717171717171
            ],
            [
             1.8181818181818181,
             1.9191919191919191
            ],
            [
             2.0202020202020203,
             2.121212121212121
            ],
            [
             2.2222222222222223,
             2.323232323232323
            ],
            [
             2.4242424242424243,
             2.525252525252525
            ],
            [
             2.6262626262626263,
             2.727272727272727
            ],
            [
             2.8282828282828283,
             2.929292929292929
            ],
            [
             3.0303030303030303,
             3.131313131313131
            ],
            [
             3.2323232323232323,
             3.3333333333333335
            ],
            [
             3.4343434343434343,
             3.5353535353535355
            ],
            [
             3.6363636363636362,
             3.7373737373737375
            ],
            [
             3.8383838383838382,
             3.9393939393939394
            ],
            [
             4.040404040404041,
             4.141414141414141
            ],
            [
             4.242424242424242,
             4.343434343434343
            ],
            [
             4.444444444444445,
             4.545454545454545
            ],
            [
             4.646464646464646,
             4.747474747474747
            ],
            [
             4.848484848484849,
             4.94949494949495
            ],
            [
             5.05050505050505,
             5.151515151515151
            ]
           ]
          }
         ],
         "name": "frame25",
         "traces": [
          0
         ]
        },
        {
         "data": [
          {
           "type": "scatter3d",
           "x": [
            [
             0,
             0.10101010101010101
            ],
            [
             0.20202020202020202,
             0.30303030303030304
            ],
            [
             0.40404040404040403,
             0.5050505050505051
            ],
            [
             0.6060606060606061,
             0.7070707070707071
            ],
            [
             0.8080808080808081,
             0.9090909090909091
            ],
            [
             1.0101010101010102,
             1.1111111111111112
            ],
            [
             1.2121212121212122,
             1.3131313131313131
            ],
            [
             1.4141414141414141,
             1.5151515151515151
            ],
            [
             1.6161616161616161,
             1.7171717171717171
            ],
            [
             1.8181818181818181,
             1.9191919191919191
            ],
            [
             2.0202020202020203,
             2.121212121212121
            ],
            [
             2.2222222222222223,
             2.323232323232323
            ],
            [
             2.4242424242424243,
             2.525252525252525
            ],
            [
             2.6262626262626263,
             2.727272727272727
            ],
            [
             2.8282828282828283,
             2.929292929292929
            ],
            [
             3.0303030303030303,
             3.131313131313131
            ],
            [
             3.2323232323232323,
             3.3333333333333335
            ],
            [
             3.4343434343434343,
             3.5353535353535355
            ],
            [
             3.6363636363636362,
             3.7373737373737375
            ],
            [
             3.8383838383838382,
             3.9393939393939394
            ],
            [
             4.040404040404041,
             4.141414141414141
            ],
            [
             4.242424242424242,
             4.343434343434343
            ],
            [
             4.444444444444445,
             4.545454545454545
            ],
            [
             4.646464646464646,
             4.747474747474747
            ],
            [
             4.848484848484849,
             4.94949494949495
            ],
            [
             5.05050505050505,
             5.151515151515151
            ],
            [
             5.252525252525253,
             5.353535353535354
            ]
           ],
           "y": [
            [
             0,
             0.10101010101010101
            ],
            [
             0.20202020202020202,
             0.30303030303030304
            ],
            [
             0.40404040404040403,
             0.5050505050505051
            ],
            [
             0.6060606060606061,
             0.7070707070707071
            ],
            [
             0.8080808080808081,
             0.9090909090909091
            ],
            [
             1.0101010101010102,
             1.1111111111111112
            ],
            [
             1.2121212121212122,
             1.3131313131313131
            ],
            [
             1.4141414141414141,
             1.5151515151515151
            ],
            [
             1.6161616161616161,
             1.7171717171717171
            ],
            [
             1.8181818181818181,
             1.9191919191919191
            ],
            [
             2.0202020202020203,
             2.121212121212121
            ],
            [
             2.2222222222222223,
             2.323232323232323
            ],
            [
             2.4242424242424243,
             2.525252525252525
            ],
            [
             2.6262626262626263,
             2.727272727272727
            ],
            [
             2.8282828282828283,
             2.929292929292929
            ],
            [
             3.0303030303030303,
             3.131313131313131
            ],
            [
             3.2323232323232323,
             3.3333333333333335
            ],
            [
             3.4343434343434343,
             3.5353535353535355
            ],
            [
             3.6363636363636362,
             3.7373737373737375
            ],
            [
             3.8383838383838382,
             3.9393939393939394
            ],
            [
             4.040404040404041,
             4.141414141414141
            ],
            [
             4.242424242424242,
             4.343434343434343
            ],
            [
             4.444444444444445,
             4.545454545454545
            ],
            [
             4.646464646464646,
             4.747474747474747
            ],
            [
             4.848484848484849,
             4.94949494949495
            ],
            [
             5.05050505050505,
             5.151515151515151
            ],
            [
             5.252525252525253,
             5.353535353535354
            ]
           ],
           "z": [
            [
             0,
             0.10101010101010101
            ],
            [
             0.20202020202020202,
             0.30303030303030304
            ],
            [
             0.40404040404040403,
             0.5050505050505051
            ],
            [
             0.6060606060606061,
             0.7070707070707071
            ],
            [
             0.8080808080808081,
             0.9090909090909091
            ],
            [
             1.0101010101010102,
             1.1111111111111112
            ],
            [
             1.2121212121212122,
             1.3131313131313131
            ],
            [
             1.4141414141414141,
             1.5151515151515151
            ],
            [
             1.6161616161616161,
             1.7171717171717171
            ],
            [
             1.8181818181818181,
             1.9191919191919191
            ],
            [
             2.0202020202020203,
             2.121212121212121
            ],
            [
             2.2222222222222223,
             2.323232323232323
            ],
            [
             2.4242424242424243,
             2.525252525252525
            ],
            [
             2.6262626262626263,
             2.727272727272727
            ],
            [
             2.8282828282828283,
             2.929292929292929
            ],
            [
             3.0303030303030303,
             3.131313131313131
            ],
            [
             3.2323232323232323,
             3.3333333333333335
            ],
            [
             3.4343434343434343,
             3.5353535353535355
            ],
            [
             3.6363636363636362,
             3.7373737373737375
            ],
            [
             3.8383838383838382,
             3.9393939393939394
            ],
            [
             4.040404040404041,
             4.141414141414141
            ],
            [
             4.242424242424242,
             4.343434343434343
            ],
            [
             4.444444444444445,
             4.545454545454545
            ],
            [
             4.646464646464646,
             4.747474747474747
            ],
            [
             4.848484848484849,
             4.94949494949495
            ],
            [
             5.05050505050505,
             5.151515151515151
            ],
            [
             5.252525252525253,
             5.353535353535354
            ]
           ]
          }
         ],
         "name": "frame26",
         "traces": [
          0
         ]
        },
        {
         "data": [
          {
           "type": "scatter3d",
           "x": [
            [
             0,
             0.10101010101010101
            ],
            [
             0.20202020202020202,
             0.30303030303030304
            ],
            [
             0.40404040404040403,
             0.5050505050505051
            ],
            [
             0.6060606060606061,
             0.7070707070707071
            ],
            [
             0.8080808080808081,
             0.9090909090909091
            ],
            [
             1.0101010101010102,
             1.1111111111111112
            ],
            [
             1.2121212121212122,
             1.3131313131313131
            ],
            [
             1.4141414141414141,
             1.5151515151515151
            ],
            [
             1.6161616161616161,
             1.7171717171717171
            ],
            [
             1.8181818181818181,
             1.9191919191919191
            ],
            [
             2.0202020202020203,
             2.121212121212121
            ],
            [
             2.2222222222222223,
             2.323232323232323
            ],
            [
             2.4242424242424243,
             2.525252525252525
            ],
            [
             2.6262626262626263,
             2.727272727272727
            ],
            [
             2.8282828282828283,
             2.929292929292929
            ],
            [
             3.0303030303030303,
             3.131313131313131
            ],
            [
             3.2323232323232323,
             3.3333333333333335
            ],
            [
             3.4343434343434343,
             3.5353535353535355
            ],
            [
             3.6363636363636362,
             3.7373737373737375
            ],
            [
             3.8383838383838382,
             3.9393939393939394
            ],
            [
             4.040404040404041,
             4.141414141414141
            ],
            [
             4.242424242424242,
             4.343434343434343
            ],
            [
             4.444444444444445,
             4.545454545454545
            ],
            [
             4.646464646464646,
             4.747474747474747
            ],
            [
             4.848484848484849,
             4.94949494949495
            ],
            [
             5.05050505050505,
             5.151515151515151
            ],
            [
             5.252525252525253,
             5.353535353535354
            ],
            [
             5.454545454545454,
             5.555555555555555
            ]
           ],
           "y": [
            [
             0,
             0.10101010101010101
            ],
            [
             0.20202020202020202,
             0.30303030303030304
            ],
            [
             0.40404040404040403,
             0.5050505050505051
            ],
            [
             0.6060606060606061,
             0.7070707070707071
            ],
            [
             0.8080808080808081,
             0.9090909090909091
            ],
            [
             1.0101010101010102,
             1.1111111111111112
            ],
            [
             1.2121212121212122,
             1.3131313131313131
            ],
            [
             1.4141414141414141,
             1.5151515151515151
            ],
            [
             1.6161616161616161,
             1.7171717171717171
            ],
            [
             1.8181818181818181,
             1.9191919191919191
            ],
            [
             2.0202020202020203,
             2.121212121212121
            ],
            [
             2.2222222222222223,
             2.323232323232323
            ],
            [
             2.4242424242424243,
             2.525252525252525
            ],
            [
             2.6262626262626263,
             2.727272727272727
            ],
            [
             2.8282828282828283,
             2.929292929292929
            ],
            [
             3.0303030303030303,
             3.131313131313131
            ],
            [
             3.2323232323232323,
             3.3333333333333335
            ],
            [
             3.4343434343434343,
             3.5353535353535355
            ],
            [
             3.6363636363636362,
             3.7373737373737375
            ],
            [
             3.8383838383838382,
             3.9393939393939394
            ],
            [
             4.040404040404041,
             4.141414141414141
            ],
            [
             4.242424242424242,
             4.343434343434343
            ],
            [
             4.444444444444445,
             4.545454545454545
            ],
            [
             4.646464646464646,
             4.747474747474747
            ],
            [
             4.848484848484849,
             4.94949494949495
            ],
            [
             5.05050505050505,
             5.151515151515151
            ],
            [
             5.252525252525253,
             5.353535353535354
            ],
            [
             5.454545454545454,
             5.555555555555555
            ]
           ],
           "z": [
            [
             0,
             0.10101010101010101
            ],
            [
             0.20202020202020202,
             0.30303030303030304
            ],
            [
             0.40404040404040403,
             0.5050505050505051
            ],
            [
             0.6060606060606061,
             0.7070707070707071
            ],
            [
             0.8080808080808081,
             0.9090909090909091
            ],
            [
             1.0101010101010102,
             1.1111111111111112
            ],
            [
             1.2121212121212122,
             1.3131313131313131
            ],
            [
             1.4141414141414141,
             1.5151515151515151
            ],
            [
             1.6161616161616161,
             1.7171717171717171
            ],
            [
             1.8181818181818181,
             1.9191919191919191
            ],
            [
             2.0202020202020203,
             2.121212121212121
            ],
            [
             2.2222222222222223,
             2.323232323232323
            ],
            [
             2.4242424242424243,
             2.525252525252525
            ],
            [
             2.6262626262626263,
             2.727272727272727
            ],
            [
             2.8282828282828283,
             2.929292929292929
            ],
            [
             3.0303030303030303,
             3.131313131313131
            ],
            [
             3.2323232323232323,
             3.3333333333333335
            ],
            [
             3.4343434343434343,
             3.5353535353535355
            ],
            [
             3.6363636363636362,
             3.7373737373737375
            ],
            [
             3.8383838383838382,
             3.9393939393939394
            ],
            [
             4.040404040404041,
             4.141414141414141
            ],
            [
             4.242424242424242,
             4.343434343434343
            ],
            [
             4.444444444444445,
             4.545454545454545
            ],
            [
             4.646464646464646,
             4.747474747474747
            ],
            [
             4.848484848484849,
             4.94949494949495
            ],
            [
             5.05050505050505,
             5.151515151515151
            ],
            [
             5.252525252525253,
             5.353535353535354
            ],
            [
             5.454545454545454,
             5.555555555555555
            ]
           ]
          }
         ],
         "name": "frame27",
         "traces": [
          0
         ]
        },
        {
         "data": [
          {
           "type": "scatter3d",
           "x": [
            [
             0,
             0.10101010101010101
            ],
            [
             0.20202020202020202,
             0.30303030303030304
            ],
            [
             0.40404040404040403,
             0.5050505050505051
            ],
            [
             0.6060606060606061,
             0.7070707070707071
            ],
            [
             0.8080808080808081,
             0.9090909090909091
            ],
            [
             1.0101010101010102,
             1.1111111111111112
            ],
            [
             1.2121212121212122,
             1.3131313131313131
            ],
            [
             1.4141414141414141,
             1.5151515151515151
            ],
            [
             1.6161616161616161,
             1.7171717171717171
            ],
            [
             1.8181818181818181,
             1.9191919191919191
            ],
            [
             2.0202020202020203,
             2.121212121212121
            ],
            [
             2.2222222222222223,
             2.323232323232323
            ],
            [
             2.4242424242424243,
             2.525252525252525
            ],
            [
             2.6262626262626263,
             2.727272727272727
            ],
            [
             2.8282828282828283,
             2.929292929292929
            ],
            [
             3.0303030303030303,
             3.131313131313131
            ],
            [
             3.2323232323232323,
             3.3333333333333335
            ],
            [
             3.4343434343434343,
             3.5353535353535355
            ],
            [
             3.6363636363636362,
             3.7373737373737375
            ],
            [
             3.8383838383838382,
             3.9393939393939394
            ],
            [
             4.040404040404041,
             4.141414141414141
            ],
            [
             4.242424242424242,
             4.343434343434343
            ],
            [
             4.444444444444445,
             4.545454545454545
            ],
            [
             4.646464646464646,
             4.747474747474747
            ],
            [
             4.848484848484849,
             4.94949494949495
            ],
            [
             5.05050505050505,
             5.151515151515151
            ],
            [
             5.252525252525253,
             5.353535353535354
            ],
            [
             5.454545454545454,
             5.555555555555555
            ],
            [
             5.656565656565657,
             5.757575757575758
            ]
           ],
           "y": [
            [
             0,
             0.10101010101010101
            ],
            [
             0.20202020202020202,
             0.30303030303030304
            ],
            [
             0.40404040404040403,
             0.5050505050505051
            ],
            [
             0.6060606060606061,
             0.7070707070707071
            ],
            [
             0.8080808080808081,
             0.9090909090909091
            ],
            [
             1.0101010101010102,
             1.1111111111111112
            ],
            [
             1.2121212121212122,
             1.3131313131313131
            ],
            [
             1.4141414141414141,
             1.5151515151515151
            ],
            [
             1.6161616161616161,
             1.7171717171717171
            ],
            [
             1.8181818181818181,
             1.9191919191919191
            ],
            [
             2.0202020202020203,
             2.121212121212121
            ],
            [
             2.2222222222222223,
             2.323232323232323
            ],
            [
             2.4242424242424243,
             2.525252525252525
            ],
            [
             2.6262626262626263,
             2.727272727272727
            ],
            [
             2.8282828282828283,
             2.929292929292929
            ],
            [
             3.0303030303030303,
             3.131313131313131
            ],
            [
             3.2323232323232323,
             3.3333333333333335
            ],
            [
             3.4343434343434343,
             3.5353535353535355
            ],
            [
             3.6363636363636362,
             3.7373737373737375
            ],
            [
             3.8383838383838382,
             3.9393939393939394
            ],
            [
             4.040404040404041,
             4.141414141414141
            ],
            [
             4.242424242424242,
             4.343434343434343
            ],
            [
             4.444444444444445,
             4.545454545454545
            ],
            [
             4.646464646464646,
             4.747474747474747
            ],
            [
             4.848484848484849,
             4.94949494949495
            ],
            [
             5.05050505050505,
             5.151515151515151
            ],
            [
             5.252525252525253,
             5.353535353535354
            ],
            [
             5.454545454545454,
             5.555555555555555
            ],
            [
             5.656565656565657,
             5.757575757575758
            ]
           ],
           "z": [
            [
             0,
             0.10101010101010101
            ],
            [
             0.20202020202020202,
             0.30303030303030304
            ],
            [
             0.40404040404040403,
             0.5050505050505051
            ],
            [
             0.6060606060606061,
             0.7070707070707071
            ],
            [
             0.8080808080808081,
             0.9090909090909091
            ],
            [
             1.0101010101010102,
             1.1111111111111112
            ],
            [
             1.2121212121212122,
             1.3131313131313131
            ],
            [
             1.4141414141414141,
             1.5151515151515151
            ],
            [
             1.6161616161616161,
             1.7171717171717171
            ],
            [
             1.8181818181818181,
             1.9191919191919191
            ],
            [
             2.0202020202020203,
             2.121212121212121
            ],
            [
             2.2222222222222223,
             2.323232323232323
            ],
            [
             2.4242424242424243,
             2.525252525252525
            ],
            [
             2.6262626262626263,
             2.727272727272727
            ],
            [
             2.8282828282828283,
             2.929292929292929
            ],
            [
             3.0303030303030303,
             3.131313131313131
            ],
            [
             3.2323232323232323,
             3.3333333333333335
            ],
            [
             3.4343434343434343,
             3.5353535353535355
            ],
            [
             3.6363636363636362,
             3.7373737373737375
            ],
            [
             3.8383838383838382,
             3.9393939393939394
            ],
            [
             4.040404040404041,
             4.141414141414141
            ],
            [
             4.242424242424242,
             4.343434343434343
            ],
            [
             4.444444444444445,
             4.545454545454545
            ],
            [
             4.646464646464646,
             4.747474747474747
            ],
            [
             4.848484848484849,
             4.94949494949495
            ],
            [
             5.05050505050505,
             5.151515151515151
            ],
            [
             5.252525252525253,
             5.353535353535354
            ],
            [
             5.454545454545454,
             5.555555555555555
            ],
            [
             5.656565656565657,
             5.757575757575758
            ]
           ]
          }
         ],
         "name": "frame28",
         "traces": [
          0
         ]
        },
        {
         "data": [
          {
           "type": "scatter3d",
           "x": [
            [
             0,
             0.10101010101010101
            ],
            [
             0.20202020202020202,
             0.30303030303030304
            ],
            [
             0.40404040404040403,
             0.5050505050505051
            ],
            [
             0.6060606060606061,
             0.7070707070707071
            ],
            [
             0.8080808080808081,
             0.9090909090909091
            ],
            [
             1.0101010101010102,
             1.1111111111111112
            ],
            [
             1.2121212121212122,
             1.3131313131313131
            ],
            [
             1.4141414141414141,
             1.5151515151515151
            ],
            [
             1.6161616161616161,
             1.7171717171717171
            ],
            [
             1.8181818181818181,
             1.9191919191919191
            ],
            [
             2.0202020202020203,
             2.121212121212121
            ],
            [
             2.2222222222222223,
             2.323232323232323
            ],
            [
             2.4242424242424243,
             2.525252525252525
            ],
            [
             2.6262626262626263,
             2.727272727272727
            ],
            [
             2.8282828282828283,
             2.929292929292929
            ],
            [
             3.0303030303030303,
             3.131313131313131
            ],
            [
             3.2323232323232323,
             3.3333333333333335
            ],
            [
             3.4343434343434343,
             3.5353535353535355
            ],
            [
             3.6363636363636362,
             3.7373737373737375
            ],
            [
             3.8383838383838382,
             3.9393939393939394
            ],
            [
             4.040404040404041,
             4.141414141414141
            ],
            [
             4.242424242424242,
             4.343434343434343
            ],
            [
             4.444444444444445,
             4.545454545454545
            ],
            [
             4.646464646464646,
             4.747474747474747
            ],
            [
             4.848484848484849,
             4.94949494949495
            ],
            [
             5.05050505050505,
             5.151515151515151
            ],
            [
             5.252525252525253,
             5.353535353535354
            ],
            [
             5.454545454545454,
             5.555555555555555
            ],
            [
             5.656565656565657,
             5.757575757575758
            ],
            [
             5.858585858585858,
             5.959595959595959
            ]
           ],
           "y": [
            [
             0,
             0.10101010101010101
            ],
            [
             0.20202020202020202,
             0.30303030303030304
            ],
            [
             0.40404040404040403,
             0.5050505050505051
            ],
            [
             0.6060606060606061,
             0.7070707070707071
            ],
            [
             0.8080808080808081,
             0.9090909090909091
            ],
            [
             1.0101010101010102,
             1.1111111111111112
            ],
            [
             1.2121212121212122,
             1.3131313131313131
            ],
            [
             1.4141414141414141,
             1.5151515151515151
            ],
            [
             1.6161616161616161,
             1.7171717171717171
            ],
            [
             1.8181818181818181,
             1.9191919191919191
            ],
            [
             2.0202020202020203,
             2.121212121212121
            ],
            [
             2.2222222222222223,
             2.323232323232323
            ],
            [
             2.4242424242424243,
             2.525252525252525
            ],
            [
             2.6262626262626263,
             2.727272727272727
            ],
            [
             2.8282828282828283,
             2.929292929292929
            ],
            [
             3.0303030303030303,
             3.131313131313131
            ],
            [
             3.2323232323232323,
             3.3333333333333335
            ],
            [
             3.4343434343434343,
             3.5353535353535355
            ],
            [
             3.6363636363636362,
             3.7373737373737375
            ],
            [
             3.8383838383838382,
             3.9393939393939394
            ],
            [
             4.040404040404041,
             4.141414141414141
            ],
            [
             4.242424242424242,
             4.343434343434343
            ],
            [
             4.444444444444445,
             4.545454545454545
            ],
            [
             4.646464646464646,
             4.747474747474747
            ],
            [
             4.848484848484849,
             4.94949494949495
            ],
            [
             5.05050505050505,
             5.151515151515151
            ],
            [
             5.252525252525253,
             5.353535353535354
            ],
            [
             5.454545454545454,
             5.555555555555555
            ],
            [
             5.656565656565657,
             5.757575757575758
            ],
            [
             5.858585858585858,
             5.959595959595959
            ]
           ],
           "z": [
            [
             0,
             0.10101010101010101
            ],
            [
             0.20202020202020202,
             0.30303030303030304
            ],
            [
             0.40404040404040403,
             0.5050505050505051
            ],
            [
             0.6060606060606061,
             0.7070707070707071
            ],
            [
             0.8080808080808081,
             0.9090909090909091
            ],
            [
             1.0101010101010102,
             1.1111111111111112
            ],
            [
             1.2121212121212122,
             1.3131313131313131
            ],
            [
             1.4141414141414141,
             1.5151515151515151
            ],
            [
             1.6161616161616161,
             1.7171717171717171
            ],
            [
             1.8181818181818181,
             1.9191919191919191
            ],
            [
             2.0202020202020203,
             2.121212121212121
            ],
            [
             2.2222222222222223,
             2.323232323232323
            ],
            [
             2.4242424242424243,
             2.525252525252525
            ],
            [
             2.6262626262626263,
             2.727272727272727
            ],
            [
             2.8282828282828283,
             2.929292929292929
            ],
            [
             3.0303030303030303,
             3.131313131313131
            ],
            [
             3.2323232323232323,
             3.3333333333333335
            ],
            [
             3.4343434343434343,
             3.5353535353535355
            ],
            [
             3.6363636363636362,
             3.7373737373737375
            ],
            [
             3.8383838383838382,
             3.9393939393939394
            ],
            [
             4.040404040404041,
             4.141414141414141
            ],
            [
             4.242424242424242,
             4.343434343434343
            ],
            [
             4.444444444444445,
             4.545454545454545
            ],
            [
             4.646464646464646,
             4.747474747474747
            ],
            [
             4.848484848484849,
             4.94949494949495
            ],
            [
             5.05050505050505,
             5.151515151515151
            ],
            [
             5.252525252525253,
             5.353535353535354
            ],
            [
             5.454545454545454,
             5.555555555555555
            ],
            [
             5.656565656565657,
             5.757575757575758
            ],
            [
             5.858585858585858,
             5.959595959595959
            ]
           ]
          }
         ],
         "name": "frame29",
         "traces": [
          0
         ]
        },
        {
         "data": [
          {
           "type": "scatter3d",
           "x": [
            [
             0,
             0.10101010101010101
            ],
            [
             0.20202020202020202,
             0.30303030303030304
            ],
            [
             0.40404040404040403,
             0.5050505050505051
            ],
            [
             0.6060606060606061,
             0.7070707070707071
            ],
            [
             0.8080808080808081,
             0.9090909090909091
            ],
            [
             1.0101010101010102,
             1.1111111111111112
            ],
            [
             1.2121212121212122,
             1.3131313131313131
            ],
            [
             1.4141414141414141,
             1.5151515151515151
            ],
            [
             1.6161616161616161,
             1.7171717171717171
            ],
            [
             1.8181818181818181,
             1.9191919191919191
            ],
            [
             2.0202020202020203,
             2.121212121212121
            ],
            [
             2.2222222222222223,
             2.323232323232323
            ],
            [
             2.4242424242424243,
             2.525252525252525
            ],
            [
             2.6262626262626263,
             2.727272727272727
            ],
            [
             2.8282828282828283,
             2.929292929292929
            ],
            [
             3.0303030303030303,
             3.131313131313131
            ],
            [
             3.2323232323232323,
             3.3333333333333335
            ],
            [
             3.4343434343434343,
             3.5353535353535355
            ],
            [
             3.6363636363636362,
             3.7373737373737375
            ],
            [
             3.8383838383838382,
             3.9393939393939394
            ],
            [
             4.040404040404041,
             4.141414141414141
            ],
            [
             4.242424242424242,
             4.343434343434343
            ],
            [
             4.444444444444445,
             4.545454545454545
            ],
            [
             4.646464646464646,
             4.747474747474747
            ],
            [
             4.848484848484849,
             4.94949494949495
            ],
            [
             5.05050505050505,
             5.151515151515151
            ],
            [
             5.252525252525253,
             5.353535353535354
            ],
            [
             5.454545454545454,
             5.555555555555555
            ],
            [
             5.656565656565657,
             5.757575757575758
            ],
            [
             5.858585858585858,
             5.959595959595959
            ],
            [
             6.0606060606060606,
             6.161616161616162
            ]
           ],
           "y": [
            [
             0,
             0.10101010101010101
            ],
            [
             0.20202020202020202,
             0.30303030303030304
            ],
            [
             0.40404040404040403,
             0.5050505050505051
            ],
            [
             0.6060606060606061,
             0.7070707070707071
            ],
            [
             0.8080808080808081,
             0.9090909090909091
            ],
            [
             1.0101010101010102,
             1.1111111111111112
            ],
            [
             1.2121212121212122,
             1.3131313131313131
            ],
            [
             1.4141414141414141,
             1.5151515151515151
            ],
            [
             1.6161616161616161,
             1.7171717171717171
            ],
            [
             1.8181818181818181,
             1.9191919191919191
            ],
            [
             2.0202020202020203,
             2.121212121212121
            ],
            [
             2.2222222222222223,
             2.323232323232323
            ],
            [
             2.4242424242424243,
             2.525252525252525
            ],
            [
             2.6262626262626263,
             2.727272727272727
            ],
            [
             2.8282828282828283,
             2.929292929292929
            ],
            [
             3.0303030303030303,
             3.131313131313131
            ],
            [
             3.2323232323232323,
             3.3333333333333335
            ],
            [
             3.4343434343434343,
             3.5353535353535355
            ],
            [
             3.6363636363636362,
             3.7373737373737375
            ],
            [
             3.8383838383838382,
             3.9393939393939394
            ],
            [
             4.040404040404041,
             4.141414141414141
            ],
            [
             4.242424242424242,
             4.343434343434343
            ],
            [
             4.444444444444445,
             4.545454545454545
            ],
            [
             4.646464646464646,
             4.747474747474747
            ],
            [
             4.848484848484849,
             4.94949494949495
            ],
            [
             5.05050505050505,
             5.151515151515151
            ],
            [
             5.252525252525253,
             5.353535353535354
            ],
            [
             5.454545454545454,
             5.555555555555555
            ],
            [
             5.656565656565657,
             5.757575757575758
            ],
            [
             5.858585858585858,
             5.959595959595959
            ],
            [
             6.0606060606060606,
             6.161616161616162
            ]
           ],
           "z": [
            [
             0,
             0.10101010101010101
            ],
            [
             0.20202020202020202,
             0.30303030303030304
            ],
            [
             0.40404040404040403,
             0.5050505050505051
            ],
            [
             0.6060606060606061,
             0.7070707070707071
            ],
            [
             0.8080808080808081,
             0.9090909090909091
            ],
            [
             1.0101010101010102,
             1.1111111111111112
            ],
            [
             1.2121212121212122,
             1.3131313131313131
            ],
            [
             1.4141414141414141,
             1.5151515151515151
            ],
            [
             1.6161616161616161,
             1.7171717171717171
            ],
            [
             1.8181818181818181,
             1.9191919191919191
            ],
            [
             2.0202020202020203,
             2.121212121212121
            ],
            [
             2.2222222222222223,
             2.323232323232323
            ],
            [
             2.4242424242424243,
             2.525252525252525
            ],
            [
             2.6262626262626263,
             2.727272727272727
            ],
            [
             2.8282828282828283,
             2.929292929292929
            ],
            [
             3.0303030303030303,
             3.131313131313131
            ],
            [
             3.2323232323232323,
             3.3333333333333335
            ],
            [
             3.4343434343434343,
             3.5353535353535355
            ],
            [
             3.6363636363636362,
             3.7373737373737375
            ],
            [
             3.8383838383838382,
             3.9393939393939394
            ],
            [
             4.040404040404041,
             4.141414141414141
            ],
            [
             4.242424242424242,
             4.343434343434343
            ],
            [
             4.444444444444445,
             4.545454545454545
            ],
            [
             4.646464646464646,
             4.747474747474747
            ],
            [
             4.848484848484849,
             4.94949494949495
            ],
            [
             5.05050505050505,
             5.151515151515151
            ],
            [
             5.252525252525253,
             5.353535353535354
            ],
            [
             5.454545454545454,
             5.555555555555555
            ],
            [
             5.656565656565657,
             5.757575757575758
            ],
            [
             5.858585858585858,
             5.959595959595959
            ],
            [
             6.0606060606060606,
             6.161616161616162
            ]
           ]
          }
         ],
         "name": "frame30",
         "traces": [
          0
         ]
        },
        {
         "data": [
          {
           "type": "scatter3d",
           "x": [
            [
             0,
             0.10101010101010101
            ],
            [
             0.20202020202020202,
             0.30303030303030304
            ],
            [
             0.40404040404040403,
             0.5050505050505051
            ],
            [
             0.6060606060606061,
             0.7070707070707071
            ],
            [
             0.8080808080808081,
             0.9090909090909091
            ],
            [
             1.0101010101010102,
             1.1111111111111112
            ],
            [
             1.2121212121212122,
             1.3131313131313131
            ],
            [
             1.4141414141414141,
             1.5151515151515151
            ],
            [
             1.6161616161616161,
             1.7171717171717171
            ],
            [
             1.8181818181818181,
             1.9191919191919191
            ],
            [
             2.0202020202020203,
             2.121212121212121
            ],
            [
             2.2222222222222223,
             2.323232323232323
            ],
            [
             2.4242424242424243,
             2.525252525252525
            ],
            [
             2.6262626262626263,
             2.727272727272727
            ],
            [
             2.8282828282828283,
             2.929292929292929
            ],
            [
             3.0303030303030303,
             3.131313131313131
            ],
            [
             3.2323232323232323,
             3.3333333333333335
            ],
            [
             3.4343434343434343,
             3.5353535353535355
            ],
            [
             3.6363636363636362,
             3.7373737373737375
            ],
            [
             3.8383838383838382,
             3.9393939393939394
            ],
            [
             4.040404040404041,
             4.141414141414141
            ],
            [
             4.242424242424242,
             4.343434343434343
            ],
            [
             4.444444444444445,
             4.545454545454545
            ],
            [
             4.646464646464646,
             4.747474747474747
            ],
            [
             4.848484848484849,
             4.94949494949495
            ],
            [
             5.05050505050505,
             5.151515151515151
            ],
            [
             5.252525252525253,
             5.353535353535354
            ],
            [
             5.454545454545454,
             5.555555555555555
            ],
            [
             5.656565656565657,
             5.757575757575758
            ],
            [
             5.858585858585858,
             5.959595959595959
            ],
            [
             6.0606060606060606,
             6.161616161616162
            ],
            [
             6.262626262626262,
             6.363636363636363
            ]
           ],
           "y": [
            [
             0,
             0.10101010101010101
            ],
            [
             0.20202020202020202,
             0.30303030303030304
            ],
            [
             0.40404040404040403,
             0.5050505050505051
            ],
            [
             0.6060606060606061,
             0.7070707070707071
            ],
            [
             0.8080808080808081,
             0.9090909090909091
            ],
            [
             1.0101010101010102,
             1.1111111111111112
            ],
            [
             1.2121212121212122,
             1.3131313131313131
            ],
            [
             1.4141414141414141,
             1.5151515151515151
            ],
            [
             1.6161616161616161,
             1.7171717171717171
            ],
            [
             1.8181818181818181,
             1.9191919191919191
            ],
            [
             2.0202020202020203,
             2.121212121212121
            ],
            [
             2.2222222222222223,
             2.323232323232323
            ],
            [
             2.4242424242424243,
             2.525252525252525
            ],
            [
             2.6262626262626263,
             2.727272727272727
            ],
            [
             2.8282828282828283,
             2.929292929292929
            ],
            [
             3.0303030303030303,
             3.131313131313131
            ],
            [
             3.2323232323232323,
             3.3333333333333335
            ],
            [
             3.4343434343434343,
             3.5353535353535355
            ],
            [
             3.6363636363636362,
             3.7373737373737375
            ],
            [
             3.8383838383838382,
             3.9393939393939394
            ],
            [
             4.040404040404041,
             4.141414141414141
            ],
            [
             4.242424242424242,
             4.343434343434343
            ],
            [
             4.444444444444445,
             4.545454545454545
            ],
            [
             4.646464646464646,
             4.747474747474747
            ],
            [
             4.848484848484849,
             4.94949494949495
            ],
            [
             5.05050505050505,
             5.151515151515151
            ],
            [
             5.252525252525253,
             5.353535353535354
            ],
            [
             5.454545454545454,
             5.555555555555555
            ],
            [
             5.656565656565657,
             5.757575757575758
            ],
            [
             5.858585858585858,
             5.959595959595959
            ],
            [
             6.0606060606060606,
             6.161616161616162
            ],
            [
             6.262626262626262,
             6.363636363636363
            ]
           ],
           "z": [
            [
             0,
             0.10101010101010101
            ],
            [
             0.20202020202020202,
             0.30303030303030304
            ],
            [
             0.40404040404040403,
             0.5050505050505051
            ],
            [
             0.6060606060606061,
             0.7070707070707071
            ],
            [
             0.8080808080808081,
             0.9090909090909091
            ],
            [
             1.0101010101010102,
             1.1111111111111112
            ],
            [
             1.2121212121212122,
             1.3131313131313131
            ],
            [
             1.4141414141414141,
             1.5151515151515151
            ],
            [
             1.6161616161616161,
             1.7171717171717171
            ],
            [
             1.8181818181818181,
             1.9191919191919191
            ],
            [
             2.0202020202020203,
             2.121212121212121
            ],
            [
             2.2222222222222223,
             2.323232323232323
            ],
            [
             2.4242424242424243,
             2.525252525252525
            ],
            [
             2.6262626262626263,
             2.727272727272727
            ],
            [
             2.8282828282828283,
             2.929292929292929
            ],
            [
             3.0303030303030303,
             3.131313131313131
            ],
            [
             3.2323232323232323,
             3.3333333333333335
            ],
            [
             3.4343434343434343,
             3.5353535353535355
            ],
            [
             3.6363636363636362,
             3.7373737373737375
            ],
            [
             3.8383838383838382,
             3.9393939393939394
            ],
            [
             4.040404040404041,
             4.141414141414141
            ],
            [
             4.242424242424242,
             4.343434343434343
            ],
            [
             4.444444444444445,
             4.545454545454545
            ],
            [
             4.646464646464646,
             4.747474747474747
            ],
            [
             4.848484848484849,
             4.94949494949495
            ],
            [
             5.05050505050505,
             5.151515151515151
            ],
            [
             5.252525252525253,
             5.353535353535354
            ],
            [
             5.454545454545454,
             5.555555555555555
            ],
            [
             5.656565656565657,
             5.757575757575758
            ],
            [
             5.858585858585858,
             5.959595959595959
            ],
            [
             6.0606060606060606,
             6.161616161616162
            ],
            [
             6.262626262626262,
             6.363636363636363
            ]
           ]
          }
         ],
         "name": "frame31",
         "traces": [
          0
         ]
        },
        {
         "data": [
          {
           "type": "scatter3d",
           "x": [
            [
             0,
             0.10101010101010101
            ],
            [
             0.20202020202020202,
             0.30303030303030304
            ],
            [
             0.40404040404040403,
             0.5050505050505051
            ],
            [
             0.6060606060606061,
             0.7070707070707071
            ],
            [
             0.8080808080808081,
             0.9090909090909091
            ],
            [
             1.0101010101010102,
             1.1111111111111112
            ],
            [
             1.2121212121212122,
             1.3131313131313131
            ],
            [
             1.4141414141414141,
             1.5151515151515151
            ],
            [
             1.6161616161616161,
             1.7171717171717171
            ],
            [
             1.8181818181818181,
             1.9191919191919191
            ],
            [
             2.0202020202020203,
             2.121212121212121
            ],
            [
             2.2222222222222223,
             2.323232323232323
            ],
            [
             2.4242424242424243,
             2.525252525252525
            ],
            [
             2.6262626262626263,
             2.727272727272727
            ],
            [
             2.8282828282828283,
             2.929292929292929
            ],
            [
             3.0303030303030303,
             3.131313131313131
            ],
            [
             3.2323232323232323,
             3.3333333333333335
            ],
            [
             3.4343434343434343,
             3.5353535353535355
            ],
            [
             3.6363636363636362,
             3.7373737373737375
            ],
            [
             3.8383838383838382,
             3.9393939393939394
            ],
            [
             4.040404040404041,
             4.141414141414141
            ],
            [
             4.242424242424242,
             4.343434343434343
            ],
            [
             4.444444444444445,
             4.545454545454545
            ],
            [
             4.646464646464646,
             4.747474747474747
            ],
            [
             4.848484848484849,
             4.94949494949495
            ],
            [
             5.05050505050505,
             5.151515151515151
            ],
            [
             5.252525252525253,
             5.353535353535354
            ],
            [
             5.454545454545454,
             5.555555555555555
            ],
            [
             5.656565656565657,
             5.757575757575758
            ],
            [
             5.858585858585858,
             5.959595959595959
            ],
            [
             6.0606060606060606,
             6.161616161616162
            ],
            [
             6.262626262626262,
             6.363636363636363
            ],
            [
             6.4646464646464645,
             6.565656565656566
            ]
           ],
           "y": [
            [
             0,
             0.10101010101010101
            ],
            [
             0.20202020202020202,
             0.30303030303030304
            ],
            [
             0.40404040404040403,
             0.5050505050505051
            ],
            [
             0.6060606060606061,
             0.7070707070707071
            ],
            [
             0.8080808080808081,
             0.9090909090909091
            ],
            [
             1.0101010101010102,
             1.1111111111111112
            ],
            [
             1.2121212121212122,
             1.3131313131313131
            ],
            [
             1.4141414141414141,
             1.5151515151515151
            ],
            [
             1.6161616161616161,
             1.7171717171717171
            ],
            [
             1.8181818181818181,
             1.9191919191919191
            ],
            [
             2.0202020202020203,
             2.121212121212121
            ],
            [
             2.2222222222222223,
             2.323232323232323
            ],
            [
             2.4242424242424243,
             2.525252525252525
            ],
            [
             2.6262626262626263,
             2.727272727272727
            ],
            [
             2.8282828282828283,
             2.929292929292929
            ],
            [
             3.0303030303030303,
             3.131313131313131
            ],
            [
             3.2323232323232323,
             3.3333333333333335
            ],
            [
             3.4343434343434343,
             3.5353535353535355
            ],
            [
             3.6363636363636362,
             3.7373737373737375
            ],
            [
             3.8383838383838382,
             3.9393939393939394
            ],
            [
             4.040404040404041,
             4.141414141414141
            ],
            [
             4.242424242424242,
             4.343434343434343
            ],
            [
             4.444444444444445,
             4.545454545454545
            ],
            [
             4.646464646464646,
             4.747474747474747
            ],
            [
             4.848484848484849,
             4.94949494949495
            ],
            [
             5.05050505050505,
             5.151515151515151
            ],
            [
             5.252525252525253,
             5.353535353535354
            ],
            [
             5.454545454545454,
             5.555555555555555
            ],
            [
             5.656565656565657,
             5.757575757575758
            ],
            [
             5.858585858585858,
             5.959595959595959
            ],
            [
             6.0606060606060606,
             6.161616161616162
            ],
            [
             6.262626262626262,
             6.363636363636363
            ],
            [
             6.4646464646464645,
             6.565656565656566
            ]
           ],
           "z": [
            [
             0,
             0.10101010101010101
            ],
            [
             0.20202020202020202,
             0.30303030303030304
            ],
            [
             0.40404040404040403,
             0.5050505050505051
            ],
            [
             0.6060606060606061,
             0.7070707070707071
            ],
            [
             0.8080808080808081,
             0.9090909090909091
            ],
            [
             1.0101010101010102,
             1.1111111111111112
            ],
            [
             1.2121212121212122,
             1.3131313131313131
            ],
            [
             1.4141414141414141,
             1.5151515151515151
            ],
            [
             1.6161616161616161,
             1.7171717171717171
            ],
            [
             1.8181818181818181,
             1.9191919191919191
            ],
            [
             2.0202020202020203,
             2.121212121212121
            ],
            [
             2.2222222222222223,
             2.323232323232323
            ],
            [
             2.4242424242424243,
             2.525252525252525
            ],
            [
             2.6262626262626263,
             2.727272727272727
            ],
            [
             2.8282828282828283,
             2.929292929292929
            ],
            [
             3.0303030303030303,
             3.131313131313131
            ],
            [
             3.2323232323232323,
             3.3333333333333335
            ],
            [
             3.4343434343434343,
             3.5353535353535355
            ],
            [
             3.6363636363636362,
             3.7373737373737375
            ],
            [
             3.8383838383838382,
             3.9393939393939394
            ],
            [
             4.040404040404041,
             4.141414141414141
            ],
            [
             4.242424242424242,
             4.343434343434343
            ],
            [
             4.444444444444445,
             4.545454545454545
            ],
            [
             4.646464646464646,
             4.747474747474747
            ],
            [
             4.848484848484849,
             4.94949494949495
            ],
            [
             5.05050505050505,
             5.151515151515151
            ],
            [
             5.252525252525253,
             5.353535353535354
            ],
            [
             5.454545454545454,
             5.555555555555555
            ],
            [
             5.656565656565657,
             5.757575757575758
            ],
            [
             5.858585858585858,
             5.959595959595959
            ],
            [
             6.0606060606060606,
             6.161616161616162
            ],
            [
             6.262626262626262,
             6.363636363636363
            ],
            [
             6.4646464646464645,
             6.565656565656566
            ]
           ]
          }
         ],
         "name": "frame32",
         "traces": [
          0
         ]
        },
        {
         "data": [
          {
           "type": "scatter3d",
           "x": [
            [
             0,
             0.10101010101010101
            ],
            [
             0.20202020202020202,
             0.30303030303030304
            ],
            [
             0.40404040404040403,
             0.5050505050505051
            ],
            [
             0.6060606060606061,
             0.7070707070707071
            ],
            [
             0.8080808080808081,
             0.9090909090909091
            ],
            [
             1.0101010101010102,
             1.1111111111111112
            ],
            [
             1.2121212121212122,
             1.3131313131313131
            ],
            [
             1.4141414141414141,
             1.5151515151515151
            ],
            [
             1.6161616161616161,
             1.7171717171717171
            ],
            [
             1.8181818181818181,
             1.9191919191919191
            ],
            [
             2.0202020202020203,
             2.121212121212121
            ],
            [
             2.2222222222222223,
             2.323232323232323
            ],
            [
             2.4242424242424243,
             2.525252525252525
            ],
            [
             2.6262626262626263,
             2.727272727272727
            ],
            [
             2.8282828282828283,
             2.929292929292929
            ],
            [
             3.0303030303030303,
             3.131313131313131
            ],
            [
             3.2323232323232323,
             3.3333333333333335
            ],
            [
             3.4343434343434343,
             3.5353535353535355
            ],
            [
             3.6363636363636362,
             3.7373737373737375
            ],
            [
             3.8383838383838382,
             3.9393939393939394
            ],
            [
             4.040404040404041,
             4.141414141414141
            ],
            [
             4.242424242424242,
             4.343434343434343
            ],
            [
             4.444444444444445,
             4.545454545454545
            ],
            [
             4.646464646464646,
             4.747474747474747
            ],
            [
             4.848484848484849,
             4.94949494949495
            ],
            [
             5.05050505050505,
             5.151515151515151
            ],
            [
             5.252525252525253,
             5.353535353535354
            ],
            [
             5.454545454545454,
             5.555555555555555
            ],
            [
             5.656565656565657,
             5.757575757575758
            ],
            [
             5.858585858585858,
             5.959595959595959
            ],
            [
             6.0606060606060606,
             6.161616161616162
            ],
            [
             6.262626262626262,
             6.363636363636363
            ],
            [
             6.4646464646464645,
             6.565656565656566
            ],
            [
             6.666666666666667,
             6.767676767676767
            ]
           ],
           "y": [
            [
             0,
             0.10101010101010101
            ],
            [
             0.20202020202020202,
             0.30303030303030304
            ],
            [
             0.40404040404040403,
             0.5050505050505051
            ],
            [
             0.6060606060606061,
             0.7070707070707071
            ],
            [
             0.8080808080808081,
             0.9090909090909091
            ],
            [
             1.0101010101010102,
             1.1111111111111112
            ],
            [
             1.2121212121212122,
             1.3131313131313131
            ],
            [
             1.4141414141414141,
             1.5151515151515151
            ],
            [
             1.6161616161616161,
             1.7171717171717171
            ],
            [
             1.8181818181818181,
             1.9191919191919191
            ],
            [
             2.0202020202020203,
             2.121212121212121
            ],
            [
             2.2222222222222223,
             2.323232323232323
            ],
            [
             2.4242424242424243,
             2.525252525252525
            ],
            [
             2.6262626262626263,
             2.727272727272727
            ],
            [
             2.8282828282828283,
             2.929292929292929
            ],
            [
             3.0303030303030303,
             3.131313131313131
            ],
            [
             3.2323232323232323,
             3.3333333333333335
            ],
            [
             3.4343434343434343,
             3.5353535353535355
            ],
            [
             3.6363636363636362,
             3.7373737373737375
            ],
            [
             3.8383838383838382,
             3.9393939393939394
            ],
            [
             4.040404040404041,
             4.141414141414141
            ],
            [
             4.242424242424242,
             4.343434343434343
            ],
            [
             4.444444444444445,
             4.545454545454545
            ],
            [
             4.646464646464646,
             4.747474747474747
            ],
            [
             4.848484848484849,
             4.94949494949495
            ],
            [
             5.05050505050505,
             5.151515151515151
            ],
            [
             5.252525252525253,
             5.353535353535354
            ],
            [
             5.454545454545454,
             5.555555555555555
            ],
            [
             5.656565656565657,
             5.757575757575758
            ],
            [
             5.858585858585858,
             5.959595959595959
            ],
            [
             6.0606060606060606,
             6.161616161616162
            ],
            [
             6.262626262626262,
             6.363636363636363
            ],
            [
             6.4646464646464645,
             6.565656565656566
            ],
            [
             6.666666666666667,
             6.767676767676767
            ]
           ],
           "z": [
            [
             0,
             0.10101010101010101
            ],
            [
             0.20202020202020202,
             0.30303030303030304
            ],
            [
             0.40404040404040403,
             0.5050505050505051
            ],
            [
             0.6060606060606061,
             0.7070707070707071
            ],
            [
             0.8080808080808081,
             0.9090909090909091
            ],
            [
             1.0101010101010102,
             1.1111111111111112
            ],
            [
             1.2121212121212122,
             1.3131313131313131
            ],
            [
             1.4141414141414141,
             1.5151515151515151
            ],
            [
             1.6161616161616161,
             1.7171717171717171
            ],
            [
             1.8181818181818181,
             1.9191919191919191
            ],
            [
             2.0202020202020203,
             2.121212121212121
            ],
            [
             2.2222222222222223,
             2.323232323232323
            ],
            [
             2.4242424242424243,
             2.525252525252525
            ],
            [
             2.6262626262626263,
             2.727272727272727
            ],
            [
             2.8282828282828283,
             2.929292929292929
            ],
            [
             3.0303030303030303,
             3.131313131313131
            ],
            [
             3.2323232323232323,
             3.3333333333333335
            ],
            [
             3.4343434343434343,
             3.5353535353535355
            ],
            [
             3.6363636363636362,
             3.7373737373737375
            ],
            [
             3.8383838383838382,
             3.9393939393939394
            ],
            [
             4.040404040404041,
             4.141414141414141
            ],
            [
             4.242424242424242,
             4.343434343434343
            ],
            [
             4.444444444444445,
             4.545454545454545
            ],
            [
             4.646464646464646,
             4.747474747474747
            ],
            [
             4.848484848484849,
             4.94949494949495
            ],
            [
             5.05050505050505,
             5.151515151515151
            ],
            [
             5.252525252525253,
             5.353535353535354
            ],
            [
             5.454545454545454,
             5.555555555555555
            ],
            [
             5.656565656565657,
             5.757575757575758
            ],
            [
             5.858585858585858,
             5.959595959595959
            ],
            [
             6.0606060606060606,
             6.161616161616162
            ],
            [
             6.262626262626262,
             6.363636363636363
            ],
            [
             6.4646464646464645,
             6.565656565656566
            ],
            [
             6.666666666666667,
             6.767676767676767
            ]
           ]
          }
         ],
         "name": "frame33",
         "traces": [
          0
         ]
        },
        {
         "data": [
          {
           "type": "scatter3d",
           "x": [
            [
             0,
             0.10101010101010101
            ],
            [
             0.20202020202020202,
             0.30303030303030304
            ],
            [
             0.40404040404040403,
             0.5050505050505051
            ],
            [
             0.6060606060606061,
             0.7070707070707071
            ],
            [
             0.8080808080808081,
             0.9090909090909091
            ],
            [
             1.0101010101010102,
             1.1111111111111112
            ],
            [
             1.2121212121212122,
             1.3131313131313131
            ],
            [
             1.4141414141414141,
             1.5151515151515151
            ],
            [
             1.6161616161616161,
             1.7171717171717171
            ],
            [
             1.8181818181818181,
             1.9191919191919191
            ],
            [
             2.0202020202020203,
             2.121212121212121
            ],
            [
             2.2222222222222223,
             2.323232323232323
            ],
            [
             2.4242424242424243,
             2.525252525252525
            ],
            [
             2.6262626262626263,
             2.727272727272727
            ],
            [
             2.8282828282828283,
             2.929292929292929
            ],
            [
             3.0303030303030303,
             3.131313131313131
            ],
            [
             3.2323232323232323,
             3.3333333333333335
            ],
            [
             3.4343434343434343,
             3.5353535353535355
            ],
            [
             3.6363636363636362,
             3.7373737373737375
            ],
            [
             3.8383838383838382,
             3.9393939393939394
            ],
            [
             4.040404040404041,
             4.141414141414141
            ],
            [
             4.242424242424242,
             4.343434343434343
            ],
            [
             4.444444444444445,
             4.545454545454545
            ],
            [
             4.646464646464646,
             4.747474747474747
            ],
            [
             4.848484848484849,
             4.94949494949495
            ],
            [
             5.05050505050505,
             5.151515151515151
            ],
            [
             5.252525252525253,
             5.353535353535354
            ],
            [
             5.454545454545454,
             5.555555555555555
            ],
            [
             5.656565656565657,
             5.757575757575758
            ],
            [
             5.858585858585858,
             5.959595959595959
            ],
            [
             6.0606060606060606,
             6.161616161616162
            ],
            [
             6.262626262626262,
             6.363636363636363
            ],
            [
             6.4646464646464645,
             6.565656565656566
            ],
            [
             6.666666666666667,
             6.767676767676767
            ],
            [
             6.8686868686868685,
             6.96969696969697
            ]
           ],
           "y": [
            [
             0,
             0.10101010101010101
            ],
            [
             0.20202020202020202,
             0.30303030303030304
            ],
            [
             0.40404040404040403,
             0.5050505050505051
            ],
            [
             0.6060606060606061,
             0.7070707070707071
            ],
            [
             0.8080808080808081,
             0.9090909090909091
            ],
            [
             1.0101010101010102,
             1.1111111111111112
            ],
            [
             1.2121212121212122,
             1.3131313131313131
            ],
            [
             1.4141414141414141,
             1.5151515151515151
            ],
            [
             1.6161616161616161,
             1.7171717171717171
            ],
            [
             1.8181818181818181,
             1.9191919191919191
            ],
            [
             2.0202020202020203,
             2.121212121212121
            ],
            [
             2.2222222222222223,
             2.323232323232323
            ],
            [
             2.4242424242424243,
             2.525252525252525
            ],
            [
             2.6262626262626263,
             2.727272727272727
            ],
            [
             2.8282828282828283,
             2.929292929292929
            ],
            [
             3.0303030303030303,
             3.131313131313131
            ],
            [
             3.2323232323232323,
             3.3333333333333335
            ],
            [
             3.4343434343434343,
             3.5353535353535355
            ],
            [
             3.6363636363636362,
             3.7373737373737375
            ],
            [
             3.8383838383838382,
             3.9393939393939394
            ],
            [
             4.040404040404041,
             4.141414141414141
            ],
            [
             4.242424242424242,
             4.343434343434343
            ],
            [
             4.444444444444445,
             4.545454545454545
            ],
            [
             4.646464646464646,
             4.747474747474747
            ],
            [
             4.848484848484849,
             4.94949494949495
            ],
            [
             5.05050505050505,
             5.151515151515151
            ],
            [
             5.252525252525253,
             5.353535353535354
            ],
            [
             5.454545454545454,
             5.555555555555555
            ],
            [
             5.656565656565657,
             5.757575757575758
            ],
            [
             5.858585858585858,
             5.959595959595959
            ],
            [
             6.0606060606060606,
             6.161616161616162
            ],
            [
             6.262626262626262,
             6.363636363636363
            ],
            [
             6.4646464646464645,
             6.565656565656566
            ],
            [
             6.666666666666667,
             6.767676767676767
            ],
            [
             6.8686868686868685,
             6.96969696969697
            ]
           ],
           "z": [
            [
             0,
             0.10101010101010101
            ],
            [
             0.20202020202020202,
             0.30303030303030304
            ],
            [
             0.40404040404040403,
             0.5050505050505051
            ],
            [
             0.6060606060606061,
             0.7070707070707071
            ],
            [
             0.8080808080808081,
             0.9090909090909091
            ],
            [
             1.0101010101010102,
             1.1111111111111112
            ],
            [
             1.2121212121212122,
             1.3131313131313131
            ],
            [
             1.4141414141414141,
             1.5151515151515151
            ],
            [
             1.6161616161616161,
             1.7171717171717171
            ],
            [
             1.8181818181818181,
             1.9191919191919191
            ],
            [
             2.0202020202020203,
             2.121212121212121
            ],
            [
             2.2222222222222223,
             2.323232323232323
            ],
            [
             2.4242424242424243,
             2.525252525252525
            ],
            [
             2.6262626262626263,
             2.727272727272727
            ],
            [
             2.8282828282828283,
             2.929292929292929
            ],
            [
             3.0303030303030303,
             3.131313131313131
            ],
            [
             3.2323232323232323,
             3.3333333333333335
            ],
            [
             3.4343434343434343,
             3.5353535353535355
            ],
            [
             3.6363636363636362,
             3.7373737373737375
            ],
            [
             3.8383838383838382,
             3.9393939393939394
            ],
            [
             4.040404040404041,
             4.141414141414141
            ],
            [
             4.242424242424242,
             4.343434343434343
            ],
            [
             4.444444444444445,
             4.545454545454545
            ],
            [
             4.646464646464646,
             4.747474747474747
            ],
            [
             4.848484848484849,
             4.94949494949495
            ],
            [
             5.05050505050505,
             5.151515151515151
            ],
            [
             5.252525252525253,
             5.353535353535354
            ],
            [
             5.454545454545454,
             5.555555555555555
            ],
            [
             5.656565656565657,
             5.757575757575758
            ],
            [
             5.858585858585858,
             5.959595959595959
            ],
            [
             6.0606060606060606,
             6.161616161616162
            ],
            [
             6.262626262626262,
             6.363636363636363
            ],
            [
             6.4646464646464645,
             6.565656565656566
            ],
            [
             6.666666666666667,
             6.767676767676767
            ],
            [
             6.8686868686868685,
             6.96969696969697
            ]
           ]
          }
         ],
         "name": "frame34",
         "traces": [
          0
         ]
        },
        {
         "data": [
          {
           "type": "scatter3d",
           "x": [
            [
             0,
             0.10101010101010101
            ],
            [
             0.20202020202020202,
             0.30303030303030304
            ],
            [
             0.40404040404040403,
             0.5050505050505051
            ],
            [
             0.6060606060606061,
             0.7070707070707071
            ],
            [
             0.8080808080808081,
             0.9090909090909091
            ],
            [
             1.0101010101010102,
             1.1111111111111112
            ],
            [
             1.2121212121212122,
             1.3131313131313131
            ],
            [
             1.4141414141414141,
             1.5151515151515151
            ],
            [
             1.6161616161616161,
             1.7171717171717171
            ],
            [
             1.8181818181818181,
             1.9191919191919191
            ],
            [
             2.0202020202020203,
             2.121212121212121
            ],
            [
             2.2222222222222223,
             2.323232323232323
            ],
            [
             2.4242424242424243,
             2.525252525252525
            ],
            [
             2.6262626262626263,
             2.727272727272727
            ],
            [
             2.8282828282828283,
             2.929292929292929
            ],
            [
             3.0303030303030303,
             3.131313131313131
            ],
            [
             3.2323232323232323,
             3.3333333333333335
            ],
            [
             3.4343434343434343,
             3.5353535353535355
            ],
            [
             3.6363636363636362,
             3.7373737373737375
            ],
            [
             3.8383838383838382,
             3.9393939393939394
            ],
            [
             4.040404040404041,
             4.141414141414141
            ],
            [
             4.242424242424242,
             4.343434343434343
            ],
            [
             4.444444444444445,
             4.545454545454545
            ],
            [
             4.646464646464646,
             4.747474747474747
            ],
            [
             4.848484848484849,
             4.94949494949495
            ],
            [
             5.05050505050505,
             5.151515151515151
            ],
            [
             5.252525252525253,
             5.353535353535354
            ],
            [
             5.454545454545454,
             5.555555555555555
            ],
            [
             5.656565656565657,
             5.757575757575758
            ],
            [
             5.858585858585858,
             5.959595959595959
            ],
            [
             6.0606060606060606,
             6.161616161616162
            ],
            [
             6.262626262626262,
             6.363636363636363
            ],
            [
             6.4646464646464645,
             6.565656565656566
            ],
            [
             6.666666666666667,
             6.767676767676767
            ],
            [
             6.8686868686868685,
             6.96969696969697
            ],
            [
             7.070707070707071,
             7.171717171717171
            ]
           ],
           "y": [
            [
             0,
             0.10101010101010101
            ],
            [
             0.20202020202020202,
             0.30303030303030304
            ],
            [
             0.40404040404040403,
             0.5050505050505051
            ],
            [
             0.6060606060606061,
             0.7070707070707071
            ],
            [
             0.8080808080808081,
             0.9090909090909091
            ],
            [
             1.0101010101010102,
             1.1111111111111112
            ],
            [
             1.2121212121212122,
             1.3131313131313131
            ],
            [
             1.4141414141414141,
             1.5151515151515151
            ],
            [
             1.6161616161616161,
             1.7171717171717171
            ],
            [
             1.8181818181818181,
             1.9191919191919191
            ],
            [
             2.0202020202020203,
             2.121212121212121
            ],
            [
             2.2222222222222223,
             2.323232323232323
            ],
            [
             2.4242424242424243,
             2.525252525252525
            ],
            [
             2.6262626262626263,
             2.727272727272727
            ],
            [
             2.8282828282828283,
             2.929292929292929
            ],
            [
             3.0303030303030303,
             3.131313131313131
            ],
            [
             3.2323232323232323,
             3.3333333333333335
            ],
            [
             3.4343434343434343,
             3.5353535353535355
            ],
            [
             3.6363636363636362,
             3.7373737373737375
            ],
            [
             3.8383838383838382,
             3.9393939393939394
            ],
            [
             4.040404040404041,
             4.141414141414141
            ],
            [
             4.242424242424242,
             4.343434343434343
            ],
            [
             4.444444444444445,
             4.545454545454545
            ],
            [
             4.646464646464646,
             4.747474747474747
            ],
            [
             4.848484848484849,
             4.94949494949495
            ],
            [
             5.05050505050505,
             5.151515151515151
            ],
            [
             5.252525252525253,
             5.353535353535354
            ],
            [
             5.454545454545454,
             5.555555555555555
            ],
            [
             5.656565656565657,
             5.757575757575758
            ],
            [
             5.858585858585858,
             5.959595959595959
            ],
            [
             6.0606060606060606,
             6.161616161616162
            ],
            [
             6.262626262626262,
             6.363636363636363
            ],
            [
             6.4646464646464645,
             6.565656565656566
            ],
            [
             6.666666666666667,
             6.767676767676767
            ],
            [
             6.8686868686868685,
             6.96969696969697
            ],
            [
             7.070707070707071,
             7.171717171717171
            ]
           ],
           "z": [
            [
             0,
             0.10101010101010101
            ],
            [
             0.20202020202020202,
             0.30303030303030304
            ],
            [
             0.40404040404040403,
             0.5050505050505051
            ],
            [
             0.6060606060606061,
             0.7070707070707071
            ],
            [
             0.8080808080808081,
             0.9090909090909091
            ],
            [
             1.0101010101010102,
             1.1111111111111112
            ],
            [
             1.2121212121212122,
             1.3131313131313131
            ],
            [
             1.4141414141414141,
             1.5151515151515151
            ],
            [
             1.6161616161616161,
             1.7171717171717171
            ],
            [
             1.8181818181818181,
             1.9191919191919191
            ],
            [
             2.0202020202020203,
             2.121212121212121
            ],
            [
             2.2222222222222223,
             2.323232323232323
            ],
            [
             2.4242424242424243,
             2.525252525252525
            ],
            [
             2.6262626262626263,
             2.727272727272727
            ],
            [
             2.8282828282828283,
             2.929292929292929
            ],
            [
             3.0303030303030303,
             3.131313131313131
            ],
            [
             3.2323232323232323,
             3.3333333333333335
            ],
            [
             3.4343434343434343,
             3.5353535353535355
            ],
            [
             3.6363636363636362,
             3.7373737373737375
            ],
            [
             3.8383838383838382,
             3.9393939393939394
            ],
            [
             4.040404040404041,
             4.141414141414141
            ],
            [
             4.242424242424242,
             4.343434343434343
            ],
            [
             4.444444444444445,
             4.545454545454545
            ],
            [
             4.646464646464646,
             4.747474747474747
            ],
            [
             4.848484848484849,
             4.94949494949495
            ],
            [
             5.05050505050505,
             5.151515151515151
            ],
            [
             5.252525252525253,
             5.353535353535354
            ],
            [
             5.454545454545454,
             5.555555555555555
            ],
            [
             5.656565656565657,
             5.757575757575758
            ],
            [
             5.858585858585858,
             5.959595959595959
            ],
            [
             6.0606060606060606,
             6.161616161616162
            ],
            [
             6.262626262626262,
             6.363636363636363
            ],
            [
             6.4646464646464645,
             6.565656565656566
            ],
            [
             6.666666666666667,
             6.767676767676767
            ],
            [
             6.8686868686868685,
             6.96969696969697
            ],
            [
             7.070707070707071,
             7.171717171717171
            ]
           ]
          }
         ],
         "name": "frame35",
         "traces": [
          0
         ]
        },
        {
         "data": [
          {
           "type": "scatter3d",
           "x": [
            [
             0,
             0.10101010101010101
            ],
            [
             0.20202020202020202,
             0.30303030303030304
            ],
            [
             0.40404040404040403,
             0.5050505050505051
            ],
            [
             0.6060606060606061,
             0.7070707070707071
            ],
            [
             0.8080808080808081,
             0.9090909090909091
            ],
            [
             1.0101010101010102,
             1.1111111111111112
            ],
            [
             1.2121212121212122,
             1.3131313131313131
            ],
            [
             1.4141414141414141,
             1.5151515151515151
            ],
            [
             1.6161616161616161,
             1.7171717171717171
            ],
            [
             1.8181818181818181,
             1.9191919191919191
            ],
            [
             2.0202020202020203,
             2.121212121212121
            ],
            [
             2.2222222222222223,
             2.323232323232323
            ],
            [
             2.4242424242424243,
             2.525252525252525
            ],
            [
             2.6262626262626263,
             2.727272727272727
            ],
            [
             2.8282828282828283,
             2.929292929292929
            ],
            [
             3.0303030303030303,
             3.131313131313131
            ],
            [
             3.2323232323232323,
             3.3333333333333335
            ],
            [
             3.4343434343434343,
             3.5353535353535355
            ],
            [
             3.6363636363636362,
             3.7373737373737375
            ],
            [
             3.8383838383838382,
             3.9393939393939394
            ],
            [
             4.040404040404041,
             4.141414141414141
            ],
            [
             4.242424242424242,
             4.343434343434343
            ],
            [
             4.444444444444445,
             4.545454545454545
            ],
            [
             4.646464646464646,
             4.747474747474747
            ],
            [
             4.848484848484849,
             4.94949494949495
            ],
            [
             5.05050505050505,
             5.151515151515151
            ],
            [
             5.252525252525253,
             5.353535353535354
            ],
            [
             5.454545454545454,
             5.555555555555555
            ],
            [
             5.656565656565657,
             5.757575757575758
            ],
            [
             5.858585858585858,
             5.959595959595959
            ],
            [
             6.0606060606060606,
             6.161616161616162
            ],
            [
             6.262626262626262,
             6.363636363636363
            ],
            [
             6.4646464646464645,
             6.565656565656566
            ],
            [
             6.666666666666667,
             6.767676767676767
            ],
            [
             6.8686868686868685,
             6.96969696969697
            ],
            [
             7.070707070707071,
             7.171717171717171
            ],
            [
             7.2727272727272725,
             7.373737373737374
            ]
           ],
           "y": [
            [
             0,
             0.10101010101010101
            ],
            [
             0.20202020202020202,
             0.30303030303030304
            ],
            [
             0.40404040404040403,
             0.5050505050505051
            ],
            [
             0.6060606060606061,
             0.7070707070707071
            ],
            [
             0.8080808080808081,
             0.9090909090909091
            ],
            [
             1.0101010101010102,
             1.1111111111111112
            ],
            [
             1.2121212121212122,
             1.3131313131313131
            ],
            [
             1.4141414141414141,
             1.5151515151515151
            ],
            [
             1.6161616161616161,
             1.7171717171717171
            ],
            [
             1.8181818181818181,
             1.9191919191919191
            ],
            [
             2.0202020202020203,
             2.121212121212121
            ],
            [
             2.2222222222222223,
             2.323232323232323
            ],
            [
             2.4242424242424243,
             2.525252525252525
            ],
            [
             2.6262626262626263,
             2.727272727272727
            ],
            [
             2.8282828282828283,
             2.929292929292929
            ],
            [
             3.0303030303030303,
             3.131313131313131
            ],
            [
             3.2323232323232323,
             3.3333333333333335
            ],
            [
             3.4343434343434343,
             3.5353535353535355
            ],
            [
             3.6363636363636362,
             3.7373737373737375
            ],
            [
             3.8383838383838382,
             3.9393939393939394
            ],
            [
             4.040404040404041,
             4.141414141414141
            ],
            [
             4.242424242424242,
             4.343434343434343
            ],
            [
             4.444444444444445,
             4.545454545454545
            ],
            [
             4.646464646464646,
             4.747474747474747
            ],
            [
             4.848484848484849,
             4.94949494949495
            ],
            [
             5.05050505050505,
             5.151515151515151
            ],
            [
             5.252525252525253,
             5.353535353535354
            ],
            [
             5.454545454545454,
             5.555555555555555
            ],
            [
             5.656565656565657,
             5.757575757575758
            ],
            [
             5.858585858585858,
             5.959595959595959
            ],
            [
             6.0606060606060606,
             6.161616161616162
            ],
            [
             6.262626262626262,
             6.363636363636363
            ],
            [
             6.4646464646464645,
             6.565656565656566
            ],
            [
             6.666666666666667,
             6.767676767676767
            ],
            [
             6.8686868686868685,
             6.96969696969697
            ],
            [
             7.070707070707071,
             7.171717171717171
            ],
            [
             7.2727272727272725,
             7.373737373737374
            ]
           ],
           "z": [
            [
             0,
             0.10101010101010101
            ],
            [
             0.20202020202020202,
             0.30303030303030304
            ],
            [
             0.40404040404040403,
             0.5050505050505051
            ],
            [
             0.6060606060606061,
             0.7070707070707071
            ],
            [
             0.8080808080808081,
             0.9090909090909091
            ],
            [
             1.0101010101010102,
             1.1111111111111112
            ],
            [
             1.2121212121212122,
             1.3131313131313131
            ],
            [
             1.4141414141414141,
             1.5151515151515151
            ],
            [
             1.6161616161616161,
             1.7171717171717171
            ],
            [
             1.8181818181818181,
             1.9191919191919191
            ],
            [
             2.0202020202020203,
             2.121212121212121
            ],
            [
             2.2222222222222223,
             2.323232323232323
            ],
            [
             2.4242424242424243,
             2.525252525252525
            ],
            [
             2.6262626262626263,
             2.727272727272727
            ],
            [
             2.8282828282828283,
             2.929292929292929
            ],
            [
             3.0303030303030303,
             3.131313131313131
            ],
            [
             3.2323232323232323,
             3.3333333333333335
            ],
            [
             3.4343434343434343,
             3.5353535353535355
            ],
            [
             3.6363636363636362,
             3.7373737373737375
            ],
            [
             3.8383838383838382,
             3.9393939393939394
            ],
            [
             4.040404040404041,
             4.141414141414141
            ],
            [
             4.242424242424242,
             4.343434343434343
            ],
            [
             4.444444444444445,
             4.545454545454545
            ],
            [
             4.646464646464646,
             4.747474747474747
            ],
            [
             4.848484848484849,
             4.94949494949495
            ],
            [
             5.05050505050505,
             5.151515151515151
            ],
            [
             5.252525252525253,
             5.353535353535354
            ],
            [
             5.454545454545454,
             5.555555555555555
            ],
            [
             5.656565656565657,
             5.757575757575758
            ],
            [
             5.858585858585858,
             5.959595959595959
            ],
            [
             6.0606060606060606,
             6.161616161616162
            ],
            [
             6.262626262626262,
             6.363636363636363
            ],
            [
             6.4646464646464645,
             6.565656565656566
            ],
            [
             6.666666666666667,
             6.767676767676767
            ],
            [
             6.8686868686868685,
             6.96969696969697
            ],
            [
             7.070707070707071,
             7.171717171717171
            ],
            [
             7.2727272727272725,
             7.373737373737374
            ]
           ]
          }
         ],
         "name": "frame36",
         "traces": [
          0
         ]
        },
        {
         "data": [
          {
           "type": "scatter3d",
           "x": [
            [
             0,
             0.10101010101010101
            ],
            [
             0.20202020202020202,
             0.30303030303030304
            ],
            [
             0.40404040404040403,
             0.5050505050505051
            ],
            [
             0.6060606060606061,
             0.7070707070707071
            ],
            [
             0.8080808080808081,
             0.9090909090909091
            ],
            [
             1.0101010101010102,
             1.1111111111111112
            ],
            [
             1.2121212121212122,
             1.3131313131313131
            ],
            [
             1.4141414141414141,
             1.5151515151515151
            ],
            [
             1.6161616161616161,
             1.7171717171717171
            ],
            [
             1.8181818181818181,
             1.9191919191919191
            ],
            [
             2.0202020202020203,
             2.121212121212121
            ],
            [
             2.2222222222222223,
             2.323232323232323
            ],
            [
             2.4242424242424243,
             2.525252525252525
            ],
            [
             2.6262626262626263,
             2.727272727272727
            ],
            [
             2.8282828282828283,
             2.929292929292929
            ],
            [
             3.0303030303030303,
             3.131313131313131
            ],
            [
             3.2323232323232323,
             3.3333333333333335
            ],
            [
             3.4343434343434343,
             3.5353535353535355
            ],
            [
             3.6363636363636362,
             3.7373737373737375
            ],
            [
             3.8383838383838382,
             3.9393939393939394
            ],
            [
             4.040404040404041,
             4.141414141414141
            ],
            [
             4.242424242424242,
             4.343434343434343
            ],
            [
             4.444444444444445,
             4.545454545454545
            ],
            [
             4.646464646464646,
             4.747474747474747
            ],
            [
             4.848484848484849,
             4.94949494949495
            ],
            [
             5.05050505050505,
             5.151515151515151
            ],
            [
             5.252525252525253,
             5.353535353535354
            ],
            [
             5.454545454545454,
             5.555555555555555
            ],
            [
             5.656565656565657,
             5.757575757575758
            ],
            [
             5.858585858585858,
             5.959595959595959
            ],
            [
             6.0606060606060606,
             6.161616161616162
            ],
            [
             6.262626262626262,
             6.363636363636363
            ],
            [
             6.4646464646464645,
             6.565656565656566
            ],
            [
             6.666666666666667,
             6.767676767676767
            ],
            [
             6.8686868686868685,
             6.96969696969697
            ],
            [
             7.070707070707071,
             7.171717171717171
            ],
            [
             7.2727272727272725,
             7.373737373737374
            ],
            [
             7.474747474747475,
             7.575757575757575
            ]
           ],
           "y": [
            [
             0,
             0.10101010101010101
            ],
            [
             0.20202020202020202,
             0.30303030303030304
            ],
            [
             0.40404040404040403,
             0.5050505050505051
            ],
            [
             0.6060606060606061,
             0.7070707070707071
            ],
            [
             0.8080808080808081,
             0.9090909090909091
            ],
            [
             1.0101010101010102,
             1.1111111111111112
            ],
            [
             1.2121212121212122,
             1.3131313131313131
            ],
            [
             1.4141414141414141,
             1.5151515151515151
            ],
            [
             1.6161616161616161,
             1.7171717171717171
            ],
            [
             1.8181818181818181,
             1.9191919191919191
            ],
            [
             2.0202020202020203,
             2.121212121212121
            ],
            [
             2.2222222222222223,
             2.323232323232323
            ],
            [
             2.4242424242424243,
             2.525252525252525
            ],
            [
             2.6262626262626263,
             2.727272727272727
            ],
            [
             2.8282828282828283,
             2.929292929292929
            ],
            [
             3.0303030303030303,
             3.131313131313131
            ],
            [
             3.2323232323232323,
             3.3333333333333335
            ],
            [
             3.4343434343434343,
             3.5353535353535355
            ],
            [
             3.6363636363636362,
             3.7373737373737375
            ],
            [
             3.8383838383838382,
             3.9393939393939394
            ],
            [
             4.040404040404041,
             4.141414141414141
            ],
            [
             4.242424242424242,
             4.343434343434343
            ],
            [
             4.444444444444445,
             4.545454545454545
            ],
            [
             4.646464646464646,
             4.747474747474747
            ],
            [
             4.848484848484849,
             4.94949494949495
            ],
            [
             5.05050505050505,
             5.151515151515151
            ],
            [
             5.252525252525253,
             5.353535353535354
            ],
            [
             5.454545454545454,
             5.555555555555555
            ],
            [
             5.656565656565657,
             5.757575757575758
            ],
            [
             5.858585858585858,
             5.959595959595959
            ],
            [
             6.0606060606060606,
             6.161616161616162
            ],
            [
             6.262626262626262,
             6.363636363636363
            ],
            [
             6.4646464646464645,
             6.565656565656566
            ],
            [
             6.666666666666667,
             6.767676767676767
            ],
            [
             6.8686868686868685,
             6.96969696969697
            ],
            [
             7.070707070707071,
             7.171717171717171
            ],
            [
             7.2727272727272725,
             7.373737373737374
            ],
            [
             7.474747474747475,
             7.575757575757575
            ]
           ],
           "z": [
            [
             0,
             0.10101010101010101
            ],
            [
             0.20202020202020202,
             0.30303030303030304
            ],
            [
             0.40404040404040403,
             0.5050505050505051
            ],
            [
             0.6060606060606061,
             0.7070707070707071
            ],
            [
             0.8080808080808081,
             0.9090909090909091
            ],
            [
             1.0101010101010102,
             1.1111111111111112
            ],
            [
             1.2121212121212122,
             1.3131313131313131
            ],
            [
             1.4141414141414141,
             1.5151515151515151
            ],
            [
             1.6161616161616161,
             1.7171717171717171
            ],
            [
             1.8181818181818181,
             1.9191919191919191
            ],
            [
             2.0202020202020203,
             2.121212121212121
            ],
            [
             2.2222222222222223,
             2.323232323232323
            ],
            [
             2.4242424242424243,
             2.525252525252525
            ],
            [
             2.6262626262626263,
             2.727272727272727
            ],
            [
             2.8282828282828283,
             2.929292929292929
            ],
            [
             3.0303030303030303,
             3.131313131313131
            ],
            [
             3.2323232323232323,
             3.3333333333333335
            ],
            [
             3.4343434343434343,
             3.5353535353535355
            ],
            [
             3.6363636363636362,
             3.7373737373737375
            ],
            [
             3.8383838383838382,
             3.9393939393939394
            ],
            [
             4.040404040404041,
             4.141414141414141
            ],
            [
             4.242424242424242,
             4.343434343434343
            ],
            [
             4.444444444444445,
             4.545454545454545
            ],
            [
             4.646464646464646,
             4.747474747474747
            ],
            [
             4.848484848484849,
             4.94949494949495
            ],
            [
             5.05050505050505,
             5.151515151515151
            ],
            [
             5.252525252525253,
             5.353535353535354
            ],
            [
             5.454545454545454,
             5.555555555555555
            ],
            [
             5.656565656565657,
             5.757575757575758
            ],
            [
             5.858585858585858,
             5.959595959595959
            ],
            [
             6.0606060606060606,
             6.161616161616162
            ],
            [
             6.262626262626262,
             6.363636363636363
            ],
            [
             6.4646464646464645,
             6.565656565656566
            ],
            [
             6.666666666666667,
             6.767676767676767
            ],
            [
             6.8686868686868685,
             6.96969696969697
            ],
            [
             7.070707070707071,
             7.171717171717171
            ],
            [
             7.2727272727272725,
             7.373737373737374
            ],
            [
             7.474747474747475,
             7.575757575757575
            ]
           ]
          }
         ],
         "name": "frame37",
         "traces": [
          0
         ]
        },
        {
         "data": [
          {
           "type": "scatter3d",
           "x": [
            [
             0,
             0.10101010101010101
            ],
            [
             0.20202020202020202,
             0.30303030303030304
            ],
            [
             0.40404040404040403,
             0.5050505050505051
            ],
            [
             0.6060606060606061,
             0.7070707070707071
            ],
            [
             0.8080808080808081,
             0.9090909090909091
            ],
            [
             1.0101010101010102,
             1.1111111111111112
            ],
            [
             1.2121212121212122,
             1.3131313131313131
            ],
            [
             1.4141414141414141,
             1.5151515151515151
            ],
            [
             1.6161616161616161,
             1.7171717171717171
            ],
            [
             1.8181818181818181,
             1.9191919191919191
            ],
            [
             2.0202020202020203,
             2.121212121212121
            ],
            [
             2.2222222222222223,
             2.323232323232323
            ],
            [
             2.4242424242424243,
             2.525252525252525
            ],
            [
             2.6262626262626263,
             2.727272727272727
            ],
            [
             2.8282828282828283,
             2.929292929292929
            ],
            [
             3.0303030303030303,
             3.131313131313131
            ],
            [
             3.2323232323232323,
             3.3333333333333335
            ],
            [
             3.4343434343434343,
             3.5353535353535355
            ],
            [
             3.6363636363636362,
             3.7373737373737375
            ],
            [
             3.8383838383838382,
             3.9393939393939394
            ],
            [
             4.040404040404041,
             4.141414141414141
            ],
            [
             4.242424242424242,
             4.343434343434343
            ],
            [
             4.444444444444445,
             4.545454545454545
            ],
            [
             4.646464646464646,
             4.747474747474747
            ],
            [
             4.848484848484849,
             4.94949494949495
            ],
            [
             5.05050505050505,
             5.151515151515151
            ],
            [
             5.252525252525253,
             5.353535353535354
            ],
            [
             5.454545454545454,
             5.555555555555555
            ],
            [
             5.656565656565657,
             5.757575757575758
            ],
            [
             5.858585858585858,
             5.959595959595959
            ],
            [
             6.0606060606060606,
             6.161616161616162
            ],
            [
             6.262626262626262,
             6.363636363636363
            ],
            [
             6.4646464646464645,
             6.565656565656566
            ],
            [
             6.666666666666667,
             6.767676767676767
            ],
            [
             6.8686868686868685,
             6.96969696969697
            ],
            [
             7.070707070707071,
             7.171717171717171
            ],
            [
             7.2727272727272725,
             7.373737373737374
            ],
            [
             7.474747474747475,
             7.575757575757575
            ],
            [
             7.6767676767676765,
             7.777777777777778
            ]
           ],
           "y": [
            [
             0,
             0.10101010101010101
            ],
            [
             0.20202020202020202,
             0.30303030303030304
            ],
            [
             0.40404040404040403,
             0.5050505050505051
            ],
            [
             0.6060606060606061,
             0.7070707070707071
            ],
            [
             0.8080808080808081,
             0.9090909090909091
            ],
            [
             1.0101010101010102,
             1.1111111111111112
            ],
            [
             1.2121212121212122,
             1.3131313131313131
            ],
            [
             1.4141414141414141,
             1.5151515151515151
            ],
            [
             1.6161616161616161,
             1.7171717171717171
            ],
            [
             1.8181818181818181,
             1.9191919191919191
            ],
            [
             2.0202020202020203,
             2.121212121212121
            ],
            [
             2.2222222222222223,
             2.323232323232323
            ],
            [
             2.4242424242424243,
             2.525252525252525
            ],
            [
             2.6262626262626263,
             2.727272727272727
            ],
            [
             2.8282828282828283,
             2.929292929292929
            ],
            [
             3.0303030303030303,
             3.131313131313131
            ],
            [
             3.2323232323232323,
             3.3333333333333335
            ],
            [
             3.4343434343434343,
             3.5353535353535355
            ],
            [
             3.6363636363636362,
             3.7373737373737375
            ],
            [
             3.8383838383838382,
             3.9393939393939394
            ],
            [
             4.040404040404041,
             4.141414141414141
            ],
            [
             4.242424242424242,
             4.343434343434343
            ],
            [
             4.444444444444445,
             4.545454545454545
            ],
            [
             4.646464646464646,
             4.747474747474747
            ],
            [
             4.848484848484849,
             4.94949494949495
            ],
            [
             5.05050505050505,
             5.151515151515151
            ],
            [
             5.252525252525253,
             5.353535353535354
            ],
            [
             5.454545454545454,
             5.555555555555555
            ],
            [
             5.656565656565657,
             5.757575757575758
            ],
            [
             5.858585858585858,
             5.959595959595959
            ],
            [
             6.0606060606060606,
             6.161616161616162
            ],
            [
             6.262626262626262,
             6.363636363636363
            ],
            [
             6.4646464646464645,
             6.565656565656566
            ],
            [
             6.666666666666667,
             6.767676767676767
            ],
            [
             6.8686868686868685,
             6.96969696969697
            ],
            [
             7.070707070707071,
             7.171717171717171
            ],
            [
             7.2727272727272725,
             7.373737373737374
            ],
            [
             7.474747474747475,
             7.575757575757575
            ],
            [
             7.6767676767676765,
             7.777777777777778
            ]
           ],
           "z": [
            [
             0,
             0.10101010101010101
            ],
            [
             0.20202020202020202,
             0.30303030303030304
            ],
            [
             0.40404040404040403,
             0.5050505050505051
            ],
            [
             0.6060606060606061,
             0.7070707070707071
            ],
            [
             0.8080808080808081,
             0.9090909090909091
            ],
            [
             1.0101010101010102,
             1.1111111111111112
            ],
            [
             1.2121212121212122,
             1.3131313131313131
            ],
            [
             1.4141414141414141,
             1.5151515151515151
            ],
            [
             1.6161616161616161,
             1.7171717171717171
            ],
            [
             1.8181818181818181,
             1.9191919191919191
            ],
            [
             2.0202020202020203,
             2.121212121212121
            ],
            [
             2.2222222222222223,
             2.323232323232323
            ],
            [
             2.4242424242424243,
             2.525252525252525
            ],
            [
             2.6262626262626263,
             2.727272727272727
            ],
            [
             2.8282828282828283,
             2.929292929292929
            ],
            [
             3.0303030303030303,
             3.131313131313131
            ],
            [
             3.2323232323232323,
             3.3333333333333335
            ],
            [
             3.4343434343434343,
             3.5353535353535355
            ],
            [
             3.6363636363636362,
             3.7373737373737375
            ],
            [
             3.8383838383838382,
             3.9393939393939394
            ],
            [
             4.040404040404041,
             4.141414141414141
            ],
            [
             4.242424242424242,
             4.343434343434343
            ],
            [
             4.444444444444445,
             4.545454545454545
            ],
            [
             4.646464646464646,
             4.747474747474747
            ],
            [
             4.848484848484849,
             4.94949494949495
            ],
            [
             5.05050505050505,
             5.151515151515151
            ],
            [
             5.252525252525253,
             5.353535353535354
            ],
            [
             5.454545454545454,
             5.555555555555555
            ],
            [
             5.656565656565657,
             5.757575757575758
            ],
            [
             5.858585858585858,
             5.959595959595959
            ],
            [
             6.0606060606060606,
             6.161616161616162
            ],
            [
             6.262626262626262,
             6.363636363636363
            ],
            [
             6.4646464646464645,
             6.565656565656566
            ],
            [
             6.666666666666667,
             6.767676767676767
            ],
            [
             6.8686868686868685,
             6.96969696969697
            ],
            [
             7.070707070707071,
             7.171717171717171
            ],
            [
             7.2727272727272725,
             7.373737373737374
            ],
            [
             7.474747474747475,
             7.575757575757575
            ],
            [
             7.6767676767676765,
             7.777777777777778
            ]
           ]
          }
         ],
         "name": "frame38",
         "traces": [
          0
         ]
        },
        {
         "data": [
          {
           "type": "scatter3d",
           "x": [
            [
             0,
             0.10101010101010101
            ],
            [
             0.20202020202020202,
             0.30303030303030304
            ],
            [
             0.40404040404040403,
             0.5050505050505051
            ],
            [
             0.6060606060606061,
             0.7070707070707071
            ],
            [
             0.8080808080808081,
             0.9090909090909091
            ],
            [
             1.0101010101010102,
             1.1111111111111112
            ],
            [
             1.2121212121212122,
             1.3131313131313131
            ],
            [
             1.4141414141414141,
             1.5151515151515151
            ],
            [
             1.6161616161616161,
             1.7171717171717171
            ],
            [
             1.8181818181818181,
             1.9191919191919191
            ],
            [
             2.0202020202020203,
             2.121212121212121
            ],
            [
             2.2222222222222223,
             2.323232323232323
            ],
            [
             2.4242424242424243,
             2.525252525252525
            ],
            [
             2.6262626262626263,
             2.727272727272727
            ],
            [
             2.8282828282828283,
             2.929292929292929
            ],
            [
             3.0303030303030303,
             3.131313131313131
            ],
            [
             3.2323232323232323,
             3.3333333333333335
            ],
            [
             3.4343434343434343,
             3.5353535353535355
            ],
            [
             3.6363636363636362,
             3.7373737373737375
            ],
            [
             3.8383838383838382,
             3.9393939393939394
            ],
            [
             4.040404040404041,
             4.141414141414141
            ],
            [
             4.242424242424242,
             4.343434343434343
            ],
            [
             4.444444444444445,
             4.545454545454545
            ],
            [
             4.646464646464646,
             4.747474747474747
            ],
            [
             4.848484848484849,
             4.94949494949495
            ],
            [
             5.05050505050505,
             5.151515151515151
            ],
            [
             5.252525252525253,
             5.353535353535354
            ],
            [
             5.454545454545454,
             5.555555555555555
            ],
            [
             5.656565656565657,
             5.757575757575758
            ],
            [
             5.858585858585858,
             5.959595959595959
            ],
            [
             6.0606060606060606,
             6.161616161616162
            ],
            [
             6.262626262626262,
             6.363636363636363
            ],
            [
             6.4646464646464645,
             6.565656565656566
            ],
            [
             6.666666666666667,
             6.767676767676767
            ],
            [
             6.8686868686868685,
             6.96969696969697
            ],
            [
             7.070707070707071,
             7.171717171717171
            ],
            [
             7.2727272727272725,
             7.373737373737374
            ],
            [
             7.474747474747475,
             7.575757575757575
            ],
            [
             7.6767676767676765,
             7.777777777777778
            ],
            [
             7.878787878787879,
             7.979797979797979
            ]
           ],
           "y": [
            [
             0,
             0.10101010101010101
            ],
            [
             0.20202020202020202,
             0.30303030303030304
            ],
            [
             0.40404040404040403,
             0.5050505050505051
            ],
            [
             0.6060606060606061,
             0.7070707070707071
            ],
            [
             0.8080808080808081,
             0.9090909090909091
            ],
            [
             1.0101010101010102,
             1.1111111111111112
            ],
            [
             1.2121212121212122,
             1.3131313131313131
            ],
            [
             1.4141414141414141,
             1.5151515151515151
            ],
            [
             1.6161616161616161,
             1.7171717171717171
            ],
            [
             1.8181818181818181,
             1.9191919191919191
            ],
            [
             2.0202020202020203,
             2.121212121212121
            ],
            [
             2.2222222222222223,
             2.323232323232323
            ],
            [
             2.4242424242424243,
             2.525252525252525
            ],
            [
             2.6262626262626263,
             2.727272727272727
            ],
            [
             2.8282828282828283,
             2.929292929292929
            ],
            [
             3.0303030303030303,
             3.131313131313131
            ],
            [
             3.2323232323232323,
             3.3333333333333335
            ],
            [
             3.4343434343434343,
             3.5353535353535355
            ],
            [
             3.6363636363636362,
             3.7373737373737375
            ],
            [
             3.8383838383838382,
             3.9393939393939394
            ],
            [
             4.040404040404041,
             4.141414141414141
            ],
            [
             4.242424242424242,
             4.343434343434343
            ],
            [
             4.444444444444445,
             4.545454545454545
            ],
            [
             4.646464646464646,
             4.747474747474747
            ],
            [
             4.848484848484849,
             4.94949494949495
            ],
            [
             5.05050505050505,
             5.151515151515151
            ],
            [
             5.252525252525253,
             5.353535353535354
            ],
            [
             5.454545454545454,
             5.555555555555555
            ],
            [
             5.656565656565657,
             5.757575757575758
            ],
            [
             5.858585858585858,
             5.959595959595959
            ],
            [
             6.0606060606060606,
             6.161616161616162
            ],
            [
             6.262626262626262,
             6.363636363636363
            ],
            [
             6.4646464646464645,
             6.565656565656566
            ],
            [
             6.666666666666667,
             6.767676767676767
            ],
            [
             6.8686868686868685,
             6.96969696969697
            ],
            [
             7.070707070707071,
             7.171717171717171
            ],
            [
             7.2727272727272725,
             7.373737373737374
            ],
            [
             7.474747474747475,
             7.575757575757575
            ],
            [
             7.6767676767676765,
             7.777777777777778
            ],
            [
             7.878787878787879,
             7.979797979797979
            ]
           ],
           "z": [
            [
             0,
             0.10101010101010101
            ],
            [
             0.20202020202020202,
             0.30303030303030304
            ],
            [
             0.40404040404040403,
             0.5050505050505051
            ],
            [
             0.6060606060606061,
             0.7070707070707071
            ],
            [
             0.8080808080808081,
             0.9090909090909091
            ],
            [
             1.0101010101010102,
             1.1111111111111112
            ],
            [
             1.2121212121212122,
             1.3131313131313131
            ],
            [
             1.4141414141414141,
             1.5151515151515151
            ],
            [
             1.6161616161616161,
             1.7171717171717171
            ],
            [
             1.8181818181818181,
             1.9191919191919191
            ],
            [
             2.0202020202020203,
             2.121212121212121
            ],
            [
             2.2222222222222223,
             2.323232323232323
            ],
            [
             2.4242424242424243,
             2.525252525252525
            ],
            [
             2.6262626262626263,
             2.727272727272727
            ],
            [
             2.8282828282828283,
             2.929292929292929
            ],
            [
             3.0303030303030303,
             3.131313131313131
            ],
            [
             3.2323232323232323,
             3.3333333333333335
            ],
            [
             3.4343434343434343,
             3.5353535353535355
            ],
            [
             3.6363636363636362,
             3.7373737373737375
            ],
            [
             3.8383838383838382,
             3.9393939393939394
            ],
            [
             4.040404040404041,
             4.141414141414141
            ],
            [
             4.242424242424242,
             4.343434343434343
            ],
            [
             4.444444444444445,
             4.545454545454545
            ],
            [
             4.646464646464646,
             4.747474747474747
            ],
            [
             4.848484848484849,
             4.94949494949495
            ],
            [
             5.05050505050505,
             5.151515151515151
            ],
            [
             5.252525252525253,
             5.353535353535354
            ],
            [
             5.454545454545454,
             5.555555555555555
            ],
            [
             5.656565656565657,
             5.757575757575758
            ],
            [
             5.858585858585858,
             5.959595959595959
            ],
            [
             6.0606060606060606,
             6.161616161616162
            ],
            [
             6.262626262626262,
             6.363636363636363
            ],
            [
             6.4646464646464645,
             6.565656565656566
            ],
            [
             6.666666666666667,
             6.767676767676767
            ],
            [
             6.8686868686868685,
             6.96969696969697
            ],
            [
             7.070707070707071,
             7.171717171717171
            ],
            [
             7.2727272727272725,
             7.373737373737374
            ],
            [
             7.474747474747475,
             7.575757575757575
            ],
            [
             7.6767676767676765,
             7.777777777777778
            ],
            [
             7.878787878787879,
             7.979797979797979
            ]
           ]
          }
         ],
         "name": "frame39",
         "traces": [
          0
         ]
        },
        {
         "data": [
          {
           "type": "scatter3d",
           "x": [
            [
             0,
             0.10101010101010101
            ],
            [
             0.20202020202020202,
             0.30303030303030304
            ],
            [
             0.40404040404040403,
             0.5050505050505051
            ],
            [
             0.6060606060606061,
             0.7070707070707071
            ],
            [
             0.8080808080808081,
             0.9090909090909091
            ],
            [
             1.0101010101010102,
             1.1111111111111112
            ],
            [
             1.2121212121212122,
             1.3131313131313131
            ],
            [
             1.4141414141414141,
             1.5151515151515151
            ],
            [
             1.6161616161616161,
             1.7171717171717171
            ],
            [
             1.8181818181818181,
             1.9191919191919191
            ],
            [
             2.0202020202020203,
             2.121212121212121
            ],
            [
             2.2222222222222223,
             2.323232323232323
            ],
            [
             2.4242424242424243,
             2.525252525252525
            ],
            [
             2.6262626262626263,
             2.727272727272727
            ],
            [
             2.8282828282828283,
             2.929292929292929
            ],
            [
             3.0303030303030303,
             3.131313131313131
            ],
            [
             3.2323232323232323,
             3.3333333333333335
            ],
            [
             3.4343434343434343,
             3.5353535353535355
            ],
            [
             3.6363636363636362,
             3.7373737373737375
            ],
            [
             3.8383838383838382,
             3.9393939393939394
            ],
            [
             4.040404040404041,
             4.141414141414141
            ],
            [
             4.242424242424242,
             4.343434343434343
            ],
            [
             4.444444444444445,
             4.545454545454545
            ],
            [
             4.646464646464646,
             4.747474747474747
            ],
            [
             4.848484848484849,
             4.94949494949495
            ],
            [
             5.05050505050505,
             5.151515151515151
            ],
            [
             5.252525252525253,
             5.353535353535354
            ],
            [
             5.454545454545454,
             5.555555555555555
            ],
            [
             5.656565656565657,
             5.757575757575758
            ],
            [
             5.858585858585858,
             5.959595959595959
            ],
            [
             6.0606060606060606,
             6.161616161616162
            ],
            [
             6.262626262626262,
             6.363636363636363
            ],
            [
             6.4646464646464645,
             6.565656565656566
            ],
            [
             6.666666666666667,
             6.767676767676767
            ],
            [
             6.8686868686868685,
             6.96969696969697
            ],
            [
             7.070707070707071,
             7.171717171717171
            ],
            [
             7.2727272727272725,
             7.373737373737374
            ],
            [
             7.474747474747475,
             7.575757575757575
            ],
            [
             7.6767676767676765,
             7.777777777777778
            ],
            [
             7.878787878787879,
             7.979797979797979
            ],
            [
             8.080808080808081,
             8.181818181818182
            ]
           ],
           "y": [
            [
             0,
             0.10101010101010101
            ],
            [
             0.20202020202020202,
             0.30303030303030304
            ],
            [
             0.40404040404040403,
             0.5050505050505051
            ],
            [
             0.6060606060606061,
             0.7070707070707071
            ],
            [
             0.8080808080808081,
             0.9090909090909091
            ],
            [
             1.0101010101010102,
             1.1111111111111112
            ],
            [
             1.2121212121212122,
             1.3131313131313131
            ],
            [
             1.4141414141414141,
             1.5151515151515151
            ],
            [
             1.6161616161616161,
             1.7171717171717171
            ],
            [
             1.8181818181818181,
             1.9191919191919191
            ],
            [
             2.0202020202020203,
             2.121212121212121
            ],
            [
             2.2222222222222223,
             2.323232323232323
            ],
            [
             2.4242424242424243,
             2.525252525252525
            ],
            [
             2.6262626262626263,
             2.727272727272727
            ],
            [
             2.8282828282828283,
             2.929292929292929
            ],
            [
             3.0303030303030303,
             3.131313131313131
            ],
            [
             3.2323232323232323,
             3.3333333333333335
            ],
            [
             3.4343434343434343,
             3.5353535353535355
            ],
            [
             3.6363636363636362,
             3.7373737373737375
            ],
            [
             3.8383838383838382,
             3.9393939393939394
            ],
            [
             4.040404040404041,
             4.141414141414141
            ],
            [
             4.242424242424242,
             4.343434343434343
            ],
            [
             4.444444444444445,
             4.545454545454545
            ],
            [
             4.646464646464646,
             4.747474747474747
            ],
            [
             4.848484848484849,
             4.94949494949495
            ],
            [
             5.05050505050505,
             5.151515151515151
            ],
            [
             5.252525252525253,
             5.353535353535354
            ],
            [
             5.454545454545454,
             5.555555555555555
            ],
            [
             5.656565656565657,
             5.757575757575758
            ],
            [
             5.858585858585858,
             5.959595959595959
            ],
            [
             6.0606060606060606,
             6.161616161616162
            ],
            [
             6.262626262626262,
             6.363636363636363
            ],
            [
             6.4646464646464645,
             6.565656565656566
            ],
            [
             6.666666666666667,
             6.767676767676767
            ],
            [
             6.8686868686868685,
             6.96969696969697
            ],
            [
             7.070707070707071,
             7.171717171717171
            ],
            [
             7.2727272727272725,
             7.373737373737374
            ],
            [
             7.474747474747475,
             7.575757575757575
            ],
            [
             7.6767676767676765,
             7.777777777777778
            ],
            [
             7.878787878787879,
             7.979797979797979
            ],
            [
             8.080808080808081,
             8.181818181818182
            ]
           ],
           "z": [
            [
             0,
             0.10101010101010101
            ],
            [
             0.20202020202020202,
             0.30303030303030304
            ],
            [
             0.40404040404040403,
             0.5050505050505051
            ],
            [
             0.6060606060606061,
             0.7070707070707071
            ],
            [
             0.8080808080808081,
             0.9090909090909091
            ],
            [
             1.0101010101010102,
             1.1111111111111112
            ],
            [
             1.2121212121212122,
             1.3131313131313131
            ],
            [
             1.4141414141414141,
             1.5151515151515151
            ],
            [
             1.6161616161616161,
             1.7171717171717171
            ],
            [
             1.8181818181818181,
             1.9191919191919191
            ],
            [
             2.0202020202020203,
             2.121212121212121
            ],
            [
             2.2222222222222223,
             2.323232323232323
            ],
            [
             2.4242424242424243,
             2.525252525252525
            ],
            [
             2.6262626262626263,
             2.727272727272727
            ],
            [
             2.8282828282828283,
             2.929292929292929
            ],
            [
             3.0303030303030303,
             3.131313131313131
            ],
            [
             3.2323232323232323,
             3.3333333333333335
            ],
            [
             3.4343434343434343,
             3.5353535353535355
            ],
            [
             3.6363636363636362,
             3.7373737373737375
            ],
            [
             3.8383838383838382,
             3.9393939393939394
            ],
            [
             4.040404040404041,
             4.141414141414141
            ],
            [
             4.242424242424242,
             4.343434343434343
            ],
            [
             4.444444444444445,
             4.545454545454545
            ],
            [
             4.646464646464646,
             4.747474747474747
            ],
            [
             4.848484848484849,
             4.94949494949495
            ],
            [
             5.05050505050505,
             5.151515151515151
            ],
            [
             5.252525252525253,
             5.353535353535354
            ],
            [
             5.454545454545454,
             5.555555555555555
            ],
            [
             5.656565656565657,
             5.757575757575758
            ],
            [
             5.858585858585858,
             5.959595959595959
            ],
            [
             6.0606060606060606,
             6.161616161616162
            ],
            [
             6.262626262626262,
             6.363636363636363
            ],
            [
             6.4646464646464645,
             6.565656565656566
            ],
            [
             6.666666666666667,
             6.767676767676767
            ],
            [
             6.8686868686868685,
             6.96969696969697
            ],
            [
             7.070707070707071,
             7.171717171717171
            ],
            [
             7.2727272727272725,
             7.373737373737374
            ],
            [
             7.474747474747475,
             7.575757575757575
            ],
            [
             7.6767676767676765,
             7.777777777777778
            ],
            [
             7.878787878787879,
             7.979797979797979
            ],
            [
             8.080808080808081,
             8.181818181818182
            ]
           ]
          }
         ],
         "name": "frame40",
         "traces": [
          0
         ]
        },
        {
         "data": [
          {
           "type": "scatter3d",
           "x": [
            [
             0,
             0.10101010101010101
            ],
            [
             0.20202020202020202,
             0.30303030303030304
            ],
            [
             0.40404040404040403,
             0.5050505050505051
            ],
            [
             0.6060606060606061,
             0.7070707070707071
            ],
            [
             0.8080808080808081,
             0.9090909090909091
            ],
            [
             1.0101010101010102,
             1.1111111111111112
            ],
            [
             1.2121212121212122,
             1.3131313131313131
            ],
            [
             1.4141414141414141,
             1.5151515151515151
            ],
            [
             1.6161616161616161,
             1.7171717171717171
            ],
            [
             1.8181818181818181,
             1.9191919191919191
            ],
            [
             2.0202020202020203,
             2.121212121212121
            ],
            [
             2.2222222222222223,
             2.323232323232323
            ],
            [
             2.4242424242424243,
             2.525252525252525
            ],
            [
             2.6262626262626263,
             2.727272727272727
            ],
            [
             2.8282828282828283,
             2.929292929292929
            ],
            [
             3.0303030303030303,
             3.131313131313131
            ],
            [
             3.2323232323232323,
             3.3333333333333335
            ],
            [
             3.4343434343434343,
             3.5353535353535355
            ],
            [
             3.6363636363636362,
             3.7373737373737375
            ],
            [
             3.8383838383838382,
             3.9393939393939394
            ],
            [
             4.040404040404041,
             4.141414141414141
            ],
            [
             4.242424242424242,
             4.343434343434343
            ],
            [
             4.444444444444445,
             4.545454545454545
            ],
            [
             4.646464646464646,
             4.747474747474747
            ],
            [
             4.848484848484849,
             4.94949494949495
            ],
            [
             5.05050505050505,
             5.151515151515151
            ],
            [
             5.252525252525253,
             5.353535353535354
            ],
            [
             5.454545454545454,
             5.555555555555555
            ],
            [
             5.656565656565657,
             5.757575757575758
            ],
            [
             5.858585858585858,
             5.959595959595959
            ],
            [
             6.0606060606060606,
             6.161616161616162
            ],
            [
             6.262626262626262,
             6.363636363636363
            ],
            [
             6.4646464646464645,
             6.565656565656566
            ],
            [
             6.666666666666667,
             6.767676767676767
            ],
            [
             6.8686868686868685,
             6.96969696969697
            ],
            [
             7.070707070707071,
             7.171717171717171
            ],
            [
             7.2727272727272725,
             7.373737373737374
            ],
            [
             7.474747474747475,
             7.575757575757575
            ],
            [
             7.6767676767676765,
             7.777777777777778
            ],
            [
             7.878787878787879,
             7.979797979797979
            ],
            [
             8.080808080808081,
             8.181818181818182
            ],
            [
             8.282828282828282,
             8.383838383838384
            ]
           ],
           "y": [
            [
             0,
             0.10101010101010101
            ],
            [
             0.20202020202020202,
             0.30303030303030304
            ],
            [
             0.40404040404040403,
             0.5050505050505051
            ],
            [
             0.6060606060606061,
             0.7070707070707071
            ],
            [
             0.8080808080808081,
             0.9090909090909091
            ],
            [
             1.0101010101010102,
             1.1111111111111112
            ],
            [
             1.2121212121212122,
             1.3131313131313131
            ],
            [
             1.4141414141414141,
             1.5151515151515151
            ],
            [
             1.6161616161616161,
             1.7171717171717171
            ],
            [
             1.8181818181818181,
             1.9191919191919191
            ],
            [
             2.0202020202020203,
             2.121212121212121
            ],
            [
             2.2222222222222223,
             2.323232323232323
            ],
            [
             2.4242424242424243,
             2.525252525252525
            ],
            [
             2.6262626262626263,
             2.727272727272727
            ],
            [
             2.8282828282828283,
             2.929292929292929
            ],
            [
             3.0303030303030303,
             3.131313131313131
            ],
            [
             3.2323232323232323,
             3.3333333333333335
            ],
            [
             3.4343434343434343,
             3.5353535353535355
            ],
            [
             3.6363636363636362,
             3.7373737373737375
            ],
            [
             3.8383838383838382,
             3.9393939393939394
            ],
            [
             4.040404040404041,
             4.141414141414141
            ],
            [
             4.242424242424242,
             4.343434343434343
            ],
            [
             4.444444444444445,
             4.545454545454545
            ],
            [
             4.646464646464646,
             4.747474747474747
            ],
            [
             4.848484848484849,
             4.94949494949495
            ],
            [
             5.05050505050505,
             5.151515151515151
            ],
            [
             5.252525252525253,
             5.353535353535354
            ],
            [
             5.454545454545454,
             5.555555555555555
            ],
            [
             5.656565656565657,
             5.757575757575758
            ],
            [
             5.858585858585858,
             5.959595959595959
            ],
            [
             6.0606060606060606,
             6.161616161616162
            ],
            [
             6.262626262626262,
             6.363636363636363
            ],
            [
             6.4646464646464645,
             6.565656565656566
            ],
            [
             6.666666666666667,
             6.767676767676767
            ],
            [
             6.8686868686868685,
             6.96969696969697
            ],
            [
             7.070707070707071,
             7.171717171717171
            ],
            [
             7.2727272727272725,
             7.373737373737374
            ],
            [
             7.474747474747475,
             7.575757575757575
            ],
            [
             7.6767676767676765,
             7.777777777777778
            ],
            [
             7.878787878787879,
             7.979797979797979
            ],
            [
             8.080808080808081,
             8.181818181818182
            ],
            [
             8.282828282828282,
             8.383838383838384
            ]
           ],
           "z": [
            [
             0,
             0.10101010101010101
            ],
            [
             0.20202020202020202,
             0.30303030303030304
            ],
            [
             0.40404040404040403,
             0.5050505050505051
            ],
            [
             0.6060606060606061,
             0.7070707070707071
            ],
            [
             0.8080808080808081,
             0.9090909090909091
            ],
            [
             1.0101010101010102,
             1.1111111111111112
            ],
            [
             1.2121212121212122,
             1.3131313131313131
            ],
            [
             1.4141414141414141,
             1.5151515151515151
            ],
            [
             1.6161616161616161,
             1.7171717171717171
            ],
            [
             1.8181818181818181,
             1.9191919191919191
            ],
            [
             2.0202020202020203,
             2.121212121212121
            ],
            [
             2.2222222222222223,
             2.323232323232323
            ],
            [
             2.4242424242424243,
             2.525252525252525
            ],
            [
             2.6262626262626263,
             2.727272727272727
            ],
            [
             2.8282828282828283,
             2.929292929292929
            ],
            [
             3.0303030303030303,
             3.131313131313131
            ],
            [
             3.2323232323232323,
             3.3333333333333335
            ],
            [
             3.4343434343434343,
             3.5353535353535355
            ],
            [
             3.6363636363636362,
             3.7373737373737375
            ],
            [
             3.8383838383838382,
             3.9393939393939394
            ],
            [
             4.040404040404041,
             4.141414141414141
            ],
            [
             4.242424242424242,
             4.343434343434343
            ],
            [
             4.444444444444445,
             4.545454545454545
            ],
            [
             4.646464646464646,
             4.747474747474747
            ],
            [
             4.848484848484849,
             4.94949494949495
            ],
            [
             5.05050505050505,
             5.151515151515151
            ],
            [
             5.252525252525253,
             5.353535353535354
            ],
            [
             5.454545454545454,
             5.555555555555555
            ],
            [
             5.656565656565657,
             5.757575757575758
            ],
            [
             5.858585858585858,
             5.959595959595959
            ],
            [
             6.0606060606060606,
             6.161616161616162
            ],
            [
             6.262626262626262,
             6.363636363636363
            ],
            [
             6.4646464646464645,
             6.565656565656566
            ],
            [
             6.666666666666667,
             6.767676767676767
            ],
            [
             6.8686868686868685,
             6.96969696969697
            ],
            [
             7.070707070707071,
             7.171717171717171
            ],
            [
             7.2727272727272725,
             7.373737373737374
            ],
            [
             7.474747474747475,
             7.575757575757575
            ],
            [
             7.6767676767676765,
             7.777777777777778
            ],
            [
             7.878787878787879,
             7.979797979797979
            ],
            [
             8.080808080808081,
             8.181818181818182
            ],
            [
             8.282828282828282,
             8.383838383838384
            ]
           ]
          }
         ],
         "name": "frame41",
         "traces": [
          0
         ]
        },
        {
         "data": [
          {
           "type": "scatter3d",
           "x": [
            [
             0,
             0.10101010101010101
            ],
            [
             0.20202020202020202,
             0.30303030303030304
            ],
            [
             0.40404040404040403,
             0.5050505050505051
            ],
            [
             0.6060606060606061,
             0.7070707070707071
            ],
            [
             0.8080808080808081,
             0.9090909090909091
            ],
            [
             1.0101010101010102,
             1.1111111111111112
            ],
            [
             1.2121212121212122,
             1.3131313131313131
            ],
            [
             1.4141414141414141,
             1.5151515151515151
            ],
            [
             1.6161616161616161,
             1.7171717171717171
            ],
            [
             1.8181818181818181,
             1.9191919191919191
            ],
            [
             2.0202020202020203,
             2.121212121212121
            ],
            [
             2.2222222222222223,
             2.323232323232323
            ],
            [
             2.4242424242424243,
             2.525252525252525
            ],
            [
             2.6262626262626263,
             2.727272727272727
            ],
            [
             2.8282828282828283,
             2.929292929292929
            ],
            [
             3.0303030303030303,
             3.131313131313131
            ],
            [
             3.2323232323232323,
             3.3333333333333335
            ],
            [
             3.4343434343434343,
             3.5353535353535355
            ],
            [
             3.6363636363636362,
             3.7373737373737375
            ],
            [
             3.8383838383838382,
             3.9393939393939394
            ],
            [
             4.040404040404041,
             4.141414141414141
            ],
            [
             4.242424242424242,
             4.343434343434343
            ],
            [
             4.444444444444445,
             4.545454545454545
            ],
            [
             4.646464646464646,
             4.747474747474747
            ],
            [
             4.848484848484849,
             4.94949494949495
            ],
            [
             5.05050505050505,
             5.151515151515151
            ],
            [
             5.252525252525253,
             5.353535353535354
            ],
            [
             5.454545454545454,
             5.555555555555555
            ],
            [
             5.656565656565657,
             5.757575757575758
            ],
            [
             5.858585858585858,
             5.959595959595959
            ],
            [
             6.0606060606060606,
             6.161616161616162
            ],
            [
             6.262626262626262,
             6.363636363636363
            ],
            [
             6.4646464646464645,
             6.565656565656566
            ],
            [
             6.666666666666667,
             6.767676767676767
            ],
            [
             6.8686868686868685,
             6.96969696969697
            ],
            [
             7.070707070707071,
             7.171717171717171
            ],
            [
             7.2727272727272725,
             7.373737373737374
            ],
            [
             7.474747474747475,
             7.575757575757575
            ],
            [
             7.6767676767676765,
             7.777777777777778
            ],
            [
             7.878787878787879,
             7.979797979797979
            ],
            [
             8.080808080808081,
             8.181818181818182
            ],
            [
             8.282828282828282,
             8.383838383838384
            ],
            [
             8.484848484848484,
             8.585858585858587
            ]
           ],
           "y": [
            [
             0,
             0.10101010101010101
            ],
            [
             0.20202020202020202,
             0.30303030303030304
            ],
            [
             0.40404040404040403,
             0.5050505050505051
            ],
            [
             0.6060606060606061,
             0.7070707070707071
            ],
            [
             0.8080808080808081,
             0.9090909090909091
            ],
            [
             1.0101010101010102,
             1.1111111111111112
            ],
            [
             1.2121212121212122,
             1.3131313131313131
            ],
            [
             1.4141414141414141,
             1.5151515151515151
            ],
            [
             1.6161616161616161,
             1.7171717171717171
            ],
            [
             1.8181818181818181,
             1.9191919191919191
            ],
            [
             2.0202020202020203,
             2.121212121212121
            ],
            [
             2.2222222222222223,
             2.323232323232323
            ],
            [
             2.4242424242424243,
             2.525252525252525
            ],
            [
             2.6262626262626263,
             2.727272727272727
            ],
            [
             2.8282828282828283,
             2.929292929292929
            ],
            [
             3.0303030303030303,
             3.131313131313131
            ],
            [
             3.2323232323232323,
             3.3333333333333335
            ],
            [
             3.4343434343434343,
             3.5353535353535355
            ],
            [
             3.6363636363636362,
             3.7373737373737375
            ],
            [
             3.8383838383838382,
             3.9393939393939394
            ],
            [
             4.040404040404041,
             4.141414141414141
            ],
            [
             4.242424242424242,
             4.343434343434343
            ],
            [
             4.444444444444445,
             4.545454545454545
            ],
            [
             4.646464646464646,
             4.747474747474747
            ],
            [
             4.848484848484849,
             4.94949494949495
            ],
            [
             5.05050505050505,
             5.151515151515151
            ],
            [
             5.252525252525253,
             5.353535353535354
            ],
            [
             5.454545454545454,
             5.555555555555555
            ],
            [
             5.656565656565657,
             5.757575757575758
            ],
            [
             5.858585858585858,
             5.959595959595959
            ],
            [
             6.0606060606060606,
             6.161616161616162
            ],
            [
             6.262626262626262,
             6.363636363636363
            ],
            [
             6.4646464646464645,
             6.565656565656566
            ],
            [
             6.666666666666667,
             6.767676767676767
            ],
            [
             6.8686868686868685,
             6.96969696969697
            ],
            [
             7.070707070707071,
             7.171717171717171
            ],
            [
             7.2727272727272725,
             7.373737373737374
            ],
            [
             7.474747474747475,
             7.575757575757575
            ],
            [
             7.6767676767676765,
             7.777777777777778
            ],
            [
             7.878787878787879,
             7.979797979797979
            ],
            [
             8.080808080808081,
             8.181818181818182
            ],
            [
             8.282828282828282,
             8.383838383838384
            ],
            [
             8.484848484848484,
             8.585858585858587
            ]
           ],
           "z": [
            [
             0,
             0.10101010101010101
            ],
            [
             0.20202020202020202,
             0.30303030303030304
            ],
            [
             0.40404040404040403,
             0.5050505050505051
            ],
            [
             0.6060606060606061,
             0.7070707070707071
            ],
            [
             0.8080808080808081,
             0.9090909090909091
            ],
            [
             1.0101010101010102,
             1.1111111111111112
            ],
            [
             1.2121212121212122,
             1.3131313131313131
            ],
            [
             1.4141414141414141,
             1.5151515151515151
            ],
            [
             1.6161616161616161,
             1.7171717171717171
            ],
            [
             1.8181818181818181,
             1.9191919191919191
            ],
            [
             2.0202020202020203,
             2.121212121212121
            ],
            [
             2.2222222222222223,
             2.323232323232323
            ],
            [
             2.4242424242424243,
             2.525252525252525
            ],
            [
             2.6262626262626263,
             2.727272727272727
            ],
            [
             2.8282828282828283,
             2.929292929292929
            ],
            [
             3.0303030303030303,
             3.131313131313131
            ],
            [
             3.2323232323232323,
             3.3333333333333335
            ],
            [
             3.4343434343434343,
             3.5353535353535355
            ],
            [
             3.6363636363636362,
             3.7373737373737375
            ],
            [
             3.8383838383838382,
             3.9393939393939394
            ],
            [
             4.040404040404041,
             4.141414141414141
            ],
            [
             4.242424242424242,
             4.343434343434343
            ],
            [
             4.444444444444445,
             4.545454545454545
            ],
            [
             4.646464646464646,
             4.747474747474747
            ],
            [
             4.848484848484849,
             4.94949494949495
            ],
            [
             5.05050505050505,
             5.151515151515151
            ],
            [
             5.252525252525253,
             5.353535353535354
            ],
            [
             5.454545454545454,
             5.555555555555555
            ],
            [
             5.656565656565657,
             5.757575757575758
            ],
            [
             5.858585858585858,
             5.959595959595959
            ],
            [
             6.0606060606060606,
             6.161616161616162
            ],
            [
             6.262626262626262,
             6.363636363636363
            ],
            [
             6.4646464646464645,
             6.565656565656566
            ],
            [
             6.666666666666667,
             6.767676767676767
            ],
            [
             6.8686868686868685,
             6.96969696969697
            ],
            [
             7.070707070707071,
             7.171717171717171
            ],
            [
             7.2727272727272725,
             7.373737373737374
            ],
            [
             7.474747474747475,
             7.575757575757575
            ],
            [
             7.6767676767676765,
             7.777777777777778
            ],
            [
             7.878787878787879,
             7.979797979797979
            ],
            [
             8.080808080808081,
             8.181818181818182
            ],
            [
             8.282828282828282,
             8.383838383838384
            ],
            [
             8.484848484848484,
             8.585858585858587
            ]
           ]
          }
         ],
         "name": "frame42",
         "traces": [
          0
         ]
        },
        {
         "data": [
          {
           "type": "scatter3d",
           "x": [
            [
             0,
             0.10101010101010101
            ],
            [
             0.20202020202020202,
             0.30303030303030304
            ],
            [
             0.40404040404040403,
             0.5050505050505051
            ],
            [
             0.6060606060606061,
             0.7070707070707071
            ],
            [
             0.8080808080808081,
             0.9090909090909091
            ],
            [
             1.0101010101010102,
             1.1111111111111112
            ],
            [
             1.2121212121212122,
             1.3131313131313131
            ],
            [
             1.4141414141414141,
             1.5151515151515151
            ],
            [
             1.6161616161616161,
             1.7171717171717171
            ],
            [
             1.8181818181818181,
             1.9191919191919191
            ],
            [
             2.0202020202020203,
             2.121212121212121
            ],
            [
             2.2222222222222223,
             2.323232323232323
            ],
            [
             2.4242424242424243,
             2.525252525252525
            ],
            [
             2.6262626262626263,
             2.727272727272727
            ],
            [
             2.8282828282828283,
             2.929292929292929
            ],
            [
             3.0303030303030303,
             3.131313131313131
            ],
            [
             3.2323232323232323,
             3.3333333333333335
            ],
            [
             3.4343434343434343,
             3.5353535353535355
            ],
            [
             3.6363636363636362,
             3.7373737373737375
            ],
            [
             3.8383838383838382,
             3.9393939393939394
            ],
            [
             4.040404040404041,
             4.141414141414141
            ],
            [
             4.242424242424242,
             4.343434343434343
            ],
            [
             4.444444444444445,
             4.545454545454545
            ],
            [
             4.646464646464646,
             4.747474747474747
            ],
            [
             4.848484848484849,
             4.94949494949495
            ],
            [
             5.05050505050505,
             5.151515151515151
            ],
            [
             5.252525252525253,
             5.353535353535354
            ],
            [
             5.454545454545454,
             5.555555555555555
            ],
            [
             5.656565656565657,
             5.757575757575758
            ],
            [
             5.858585858585858,
             5.959595959595959
            ],
            [
             6.0606060606060606,
             6.161616161616162
            ],
            [
             6.262626262626262,
             6.363636363636363
            ],
            [
             6.4646464646464645,
             6.565656565656566
            ],
            [
             6.666666666666667,
             6.767676767676767
            ],
            [
             6.8686868686868685,
             6.96969696969697
            ],
            [
             7.070707070707071,
             7.171717171717171
            ],
            [
             7.2727272727272725,
             7.373737373737374
            ],
            [
             7.474747474747475,
             7.575757575757575
            ],
            [
             7.6767676767676765,
             7.777777777777778
            ],
            [
             7.878787878787879,
             7.979797979797979
            ],
            [
             8.080808080808081,
             8.181818181818182
            ],
            [
             8.282828282828282,
             8.383838383838384
            ],
            [
             8.484848484848484,
             8.585858585858587
            ],
            [
             8.686868686868687,
             8.787878787878787
            ]
           ],
           "y": [
            [
             0,
             0.10101010101010101
            ],
            [
             0.20202020202020202,
             0.30303030303030304
            ],
            [
             0.40404040404040403,
             0.5050505050505051
            ],
            [
             0.6060606060606061,
             0.7070707070707071
            ],
            [
             0.8080808080808081,
             0.9090909090909091
            ],
            [
             1.0101010101010102,
             1.1111111111111112
            ],
            [
             1.2121212121212122,
             1.3131313131313131
            ],
            [
             1.4141414141414141,
             1.5151515151515151
            ],
            [
             1.6161616161616161,
             1.7171717171717171
            ],
            [
             1.8181818181818181,
             1.9191919191919191
            ],
            [
             2.0202020202020203,
             2.121212121212121
            ],
            [
             2.2222222222222223,
             2.323232323232323
            ],
            [
             2.4242424242424243,
             2.525252525252525
            ],
            [
             2.6262626262626263,
             2.727272727272727
            ],
            [
             2.8282828282828283,
             2.929292929292929
            ],
            [
             3.0303030303030303,
             3.131313131313131
            ],
            [
             3.2323232323232323,
             3.3333333333333335
            ],
            [
             3.4343434343434343,
             3.5353535353535355
            ],
            [
             3.6363636363636362,
             3.7373737373737375
            ],
            [
             3.8383838383838382,
             3.9393939393939394
            ],
            [
             4.040404040404041,
             4.141414141414141
            ],
            [
             4.242424242424242,
             4.343434343434343
            ],
            [
             4.444444444444445,
             4.545454545454545
            ],
            [
             4.646464646464646,
             4.747474747474747
            ],
            [
             4.848484848484849,
             4.94949494949495
            ],
            [
             5.05050505050505,
             5.151515151515151
            ],
            [
             5.252525252525253,
             5.353535353535354
            ],
            [
             5.454545454545454,
             5.555555555555555
            ],
            [
             5.656565656565657,
             5.757575757575758
            ],
            [
             5.858585858585858,
             5.959595959595959
            ],
            [
             6.0606060606060606,
             6.161616161616162
            ],
            [
             6.262626262626262,
             6.363636363636363
            ],
            [
             6.4646464646464645,
             6.565656565656566
            ],
            [
             6.666666666666667,
             6.767676767676767
            ],
            [
             6.8686868686868685,
             6.96969696969697
            ],
            [
             7.070707070707071,
             7.171717171717171
            ],
            [
             7.2727272727272725,
             7.373737373737374
            ],
            [
             7.474747474747475,
             7.575757575757575
            ],
            [
             7.6767676767676765,
             7.777777777777778
            ],
            [
             7.878787878787879,
             7.979797979797979
            ],
            [
             8.080808080808081,
             8.181818181818182
            ],
            [
             8.282828282828282,
             8.383838383838384
            ],
            [
             8.484848484848484,
             8.585858585858587
            ],
            [
             8.686868686868687,
             8.787878787878787
            ]
           ],
           "z": [
            [
             0,
             0.10101010101010101
            ],
            [
             0.20202020202020202,
             0.30303030303030304
            ],
            [
             0.40404040404040403,
             0.5050505050505051
            ],
            [
             0.6060606060606061,
             0.7070707070707071
            ],
            [
             0.8080808080808081,
             0.9090909090909091
            ],
            [
             1.0101010101010102,
             1.1111111111111112
            ],
            [
             1.2121212121212122,
             1.3131313131313131
            ],
            [
             1.4141414141414141,
             1.5151515151515151
            ],
            [
             1.6161616161616161,
             1.7171717171717171
            ],
            [
             1.8181818181818181,
             1.9191919191919191
            ],
            [
             2.0202020202020203,
             2.121212121212121
            ],
            [
             2.2222222222222223,
             2.323232323232323
            ],
            [
             2.4242424242424243,
             2.525252525252525
            ],
            [
             2.6262626262626263,
             2.727272727272727
            ],
            [
             2.8282828282828283,
             2.929292929292929
            ],
            [
             3.0303030303030303,
             3.131313131313131
            ],
            [
             3.2323232323232323,
             3.3333333333333335
            ],
            [
             3.4343434343434343,
             3.5353535353535355
            ],
            [
             3.6363636363636362,
             3.7373737373737375
            ],
            [
             3.8383838383838382,
             3.9393939393939394
            ],
            [
             4.040404040404041,
             4.141414141414141
            ],
            [
             4.242424242424242,
             4.343434343434343
            ],
            [
             4.444444444444445,
             4.545454545454545
            ],
            [
             4.646464646464646,
             4.747474747474747
            ],
            [
             4.848484848484849,
             4.94949494949495
            ],
            [
             5.05050505050505,
             5.151515151515151
            ],
            [
             5.252525252525253,
             5.353535353535354
            ],
            [
             5.454545454545454,
             5.555555555555555
            ],
            [
             5.656565656565657,
             5.757575757575758
            ],
            [
             5.858585858585858,
             5.959595959595959
            ],
            [
             6.0606060606060606,
             6.161616161616162
            ],
            [
             6.262626262626262,
             6.363636363636363
            ],
            [
             6.4646464646464645,
             6.565656565656566
            ],
            [
             6.666666666666667,
             6.767676767676767
            ],
            [
             6.8686868686868685,
             6.96969696969697
            ],
            [
             7.070707070707071,
             7.171717171717171
            ],
            [
             7.2727272727272725,
             7.373737373737374
            ],
            [
             7.474747474747475,
             7.575757575757575
            ],
            [
             7.6767676767676765,
             7.777777777777778
            ],
            [
             7.878787878787879,
             7.979797979797979
            ],
            [
             8.080808080808081,
             8.181818181818182
            ],
            [
             8.282828282828282,
             8.383838383838384
            ],
            [
             8.484848484848484,
             8.585858585858587
            ],
            [
             8.686868686868687,
             8.787878787878787
            ]
           ]
          }
         ],
         "name": "frame43",
         "traces": [
          0
         ]
        },
        {
         "data": [
          {
           "type": "scatter3d",
           "x": [
            [
             0,
             0.10101010101010101
            ],
            [
             0.20202020202020202,
             0.30303030303030304
            ],
            [
             0.40404040404040403,
             0.5050505050505051
            ],
            [
             0.6060606060606061,
             0.7070707070707071
            ],
            [
             0.8080808080808081,
             0.9090909090909091
            ],
            [
             1.0101010101010102,
             1.1111111111111112
            ],
            [
             1.2121212121212122,
             1.3131313131313131
            ],
            [
             1.4141414141414141,
             1.5151515151515151
            ],
            [
             1.6161616161616161,
             1.7171717171717171
            ],
            [
             1.8181818181818181,
             1.9191919191919191
            ],
            [
             2.0202020202020203,
             2.121212121212121
            ],
            [
             2.2222222222222223,
             2.323232323232323
            ],
            [
             2.4242424242424243,
             2.525252525252525
            ],
            [
             2.6262626262626263,
             2.727272727272727
            ],
            [
             2.8282828282828283,
             2.929292929292929
            ],
            [
             3.0303030303030303,
             3.131313131313131
            ],
            [
             3.2323232323232323,
             3.3333333333333335
            ],
            [
             3.4343434343434343,
             3.5353535353535355
            ],
            [
             3.6363636363636362,
             3.7373737373737375
            ],
            [
             3.8383838383838382,
             3.9393939393939394
            ],
            [
             4.040404040404041,
             4.141414141414141
            ],
            [
             4.242424242424242,
             4.343434343434343
            ],
            [
             4.444444444444445,
             4.545454545454545
            ],
            [
             4.646464646464646,
             4.747474747474747
            ],
            [
             4.848484848484849,
             4.94949494949495
            ],
            [
             5.05050505050505,
             5.151515151515151
            ],
            [
             5.252525252525253,
             5.353535353535354
            ],
            [
             5.454545454545454,
             5.555555555555555
            ],
            [
             5.656565656565657,
             5.757575757575758
            ],
            [
             5.858585858585858,
             5.959595959595959
            ],
            [
             6.0606060606060606,
             6.161616161616162
            ],
            [
             6.262626262626262,
             6.363636363636363
            ],
            [
             6.4646464646464645,
             6.565656565656566
            ],
            [
             6.666666666666667,
             6.767676767676767
            ],
            [
             6.8686868686868685,
             6.96969696969697
            ],
            [
             7.070707070707071,
             7.171717171717171
            ],
            [
             7.2727272727272725,
             7.373737373737374
            ],
            [
             7.474747474747475,
             7.575757575757575
            ],
            [
             7.6767676767676765,
             7.777777777777778
            ],
            [
             7.878787878787879,
             7.979797979797979
            ],
            [
             8.080808080808081,
             8.181818181818182
            ],
            [
             8.282828282828282,
             8.383838383838384
            ],
            [
             8.484848484848484,
             8.585858585858587
            ],
            [
             8.686868686868687,
             8.787878787878787
            ],
            [
             8.88888888888889,
             8.98989898989899
            ]
           ],
           "y": [
            [
             0,
             0.10101010101010101
            ],
            [
             0.20202020202020202,
             0.30303030303030304
            ],
            [
             0.40404040404040403,
             0.5050505050505051
            ],
            [
             0.6060606060606061,
             0.7070707070707071
            ],
            [
             0.8080808080808081,
             0.9090909090909091
            ],
            [
             1.0101010101010102,
             1.1111111111111112
            ],
            [
             1.2121212121212122,
             1.3131313131313131
            ],
            [
             1.4141414141414141,
             1.5151515151515151
            ],
            [
             1.6161616161616161,
             1.7171717171717171
            ],
            [
             1.8181818181818181,
             1.9191919191919191
            ],
            [
             2.0202020202020203,
             2.121212121212121
            ],
            [
             2.2222222222222223,
             2.323232323232323
            ],
            [
             2.4242424242424243,
             2.525252525252525
            ],
            [
             2.6262626262626263,
             2.727272727272727
            ],
            [
             2.8282828282828283,
             2.929292929292929
            ],
            [
             3.0303030303030303,
             3.131313131313131
            ],
            [
             3.2323232323232323,
             3.3333333333333335
            ],
            [
             3.4343434343434343,
             3.5353535353535355
            ],
            [
             3.6363636363636362,
             3.7373737373737375
            ],
            [
             3.8383838383838382,
             3.9393939393939394
            ],
            [
             4.040404040404041,
             4.141414141414141
            ],
            [
             4.242424242424242,
             4.343434343434343
            ],
            [
             4.444444444444445,
             4.545454545454545
            ],
            [
             4.646464646464646,
             4.747474747474747
            ],
            [
             4.848484848484849,
             4.94949494949495
            ],
            [
             5.05050505050505,
             5.151515151515151
            ],
            [
             5.252525252525253,
             5.353535353535354
            ],
            [
             5.454545454545454,
             5.555555555555555
            ],
            [
             5.656565656565657,
             5.757575757575758
            ],
            [
             5.858585858585858,
             5.959595959595959
            ],
            [
             6.0606060606060606,
             6.161616161616162
            ],
            [
             6.262626262626262,
             6.363636363636363
            ],
            [
             6.4646464646464645,
             6.565656565656566
            ],
            [
             6.666666666666667,
             6.767676767676767
            ],
            [
             6.8686868686868685,
             6.96969696969697
            ],
            [
             7.070707070707071,
             7.171717171717171
            ],
            [
             7.2727272727272725,
             7.373737373737374
            ],
            [
             7.474747474747475,
             7.575757575757575
            ],
            [
             7.6767676767676765,
             7.777777777777778
            ],
            [
             7.878787878787879,
             7.979797979797979
            ],
            [
             8.080808080808081,
             8.181818181818182
            ],
            [
             8.282828282828282,
             8.383838383838384
            ],
            [
             8.484848484848484,
             8.585858585858587
            ],
            [
             8.686868686868687,
             8.787878787878787
            ],
            [
             8.88888888888889,
             8.98989898989899
            ]
           ],
           "z": [
            [
             0,
             0.10101010101010101
            ],
            [
             0.20202020202020202,
             0.30303030303030304
            ],
            [
             0.40404040404040403,
             0.5050505050505051
            ],
            [
             0.6060606060606061,
             0.7070707070707071
            ],
            [
             0.8080808080808081,
             0.9090909090909091
            ],
            [
             1.0101010101010102,
             1.1111111111111112
            ],
            [
             1.2121212121212122,
             1.3131313131313131
            ],
            [
             1.4141414141414141,
             1.5151515151515151
            ],
            [
             1.6161616161616161,
             1.7171717171717171
            ],
            [
             1.8181818181818181,
             1.9191919191919191
            ],
            [
             2.0202020202020203,
             2.121212121212121
            ],
            [
             2.2222222222222223,
             2.323232323232323
            ],
            [
             2.4242424242424243,
             2.525252525252525
            ],
            [
             2.6262626262626263,
             2.727272727272727
            ],
            [
             2.8282828282828283,
             2.929292929292929
            ],
            [
             3.0303030303030303,
             3.131313131313131
            ],
            [
             3.2323232323232323,
             3.3333333333333335
            ],
            [
             3.4343434343434343,
             3.5353535353535355
            ],
            [
             3.6363636363636362,
             3.7373737373737375
            ],
            [
             3.8383838383838382,
             3.9393939393939394
            ],
            [
             4.040404040404041,
             4.141414141414141
            ],
            [
             4.242424242424242,
             4.343434343434343
            ],
            [
             4.444444444444445,
             4.545454545454545
            ],
            [
             4.646464646464646,
             4.747474747474747
            ],
            [
             4.848484848484849,
             4.94949494949495
            ],
            [
             5.05050505050505,
             5.151515151515151
            ],
            [
             5.252525252525253,
             5.353535353535354
            ],
            [
             5.454545454545454,
             5.555555555555555
            ],
            [
             5.656565656565657,
             5.757575757575758
            ],
            [
             5.858585858585858,
             5.959595959595959
            ],
            [
             6.0606060606060606,
             6.161616161616162
            ],
            [
             6.262626262626262,
             6.363636363636363
            ],
            [
             6.4646464646464645,
             6.565656565656566
            ],
            [
             6.666666666666667,
             6.767676767676767
            ],
            [
             6.8686868686868685,
             6.96969696969697
            ],
            [
             7.070707070707071,
             7.171717171717171
            ],
            [
             7.2727272727272725,
             7.373737373737374
            ],
            [
             7.474747474747475,
             7.575757575757575
            ],
            [
             7.6767676767676765,
             7.777777777777778
            ],
            [
             7.878787878787879,
             7.979797979797979
            ],
            [
             8.080808080808081,
             8.181818181818182
            ],
            [
             8.282828282828282,
             8.383838383838384
            ],
            [
             8.484848484848484,
             8.585858585858587
            ],
            [
             8.686868686868687,
             8.787878787878787
            ],
            [
             8.88888888888889,
             8.98989898989899
            ]
           ]
          }
         ],
         "name": "frame44",
         "traces": [
          0
         ]
        },
        {
         "data": [
          {
           "type": "scatter3d",
           "x": [
            [
             0,
             0.10101010101010101
            ],
            [
             0.20202020202020202,
             0.30303030303030304
            ],
            [
             0.40404040404040403,
             0.5050505050505051
            ],
            [
             0.6060606060606061,
             0.7070707070707071
            ],
            [
             0.8080808080808081,
             0.9090909090909091
            ],
            [
             1.0101010101010102,
             1.1111111111111112
            ],
            [
             1.2121212121212122,
             1.3131313131313131
            ],
            [
             1.4141414141414141,
             1.5151515151515151
            ],
            [
             1.6161616161616161,
             1.7171717171717171
            ],
            [
             1.8181818181818181,
             1.9191919191919191
            ],
            [
             2.0202020202020203,
             2.121212121212121
            ],
            [
             2.2222222222222223,
             2.323232323232323
            ],
            [
             2.4242424242424243,
             2.525252525252525
            ],
            [
             2.6262626262626263,
             2.727272727272727
            ],
            [
             2.8282828282828283,
             2.929292929292929
            ],
            [
             3.0303030303030303,
             3.131313131313131
            ],
            [
             3.2323232323232323,
             3.3333333333333335
            ],
            [
             3.4343434343434343,
             3.5353535353535355
            ],
            [
             3.6363636363636362,
             3.7373737373737375
            ],
            [
             3.8383838383838382,
             3.9393939393939394
            ],
            [
             4.040404040404041,
             4.141414141414141
            ],
            [
             4.242424242424242,
             4.343434343434343
            ],
            [
             4.444444444444445,
             4.545454545454545
            ],
            [
             4.646464646464646,
             4.747474747474747
            ],
            [
             4.848484848484849,
             4.94949494949495
            ],
            [
             5.05050505050505,
             5.151515151515151
            ],
            [
             5.252525252525253,
             5.353535353535354
            ],
            [
             5.454545454545454,
             5.555555555555555
            ],
            [
             5.656565656565657,
             5.757575757575758
            ],
            [
             5.858585858585858,
             5.959595959595959
            ],
            [
             6.0606060606060606,
             6.161616161616162
            ],
            [
             6.262626262626262,
             6.363636363636363
            ],
            [
             6.4646464646464645,
             6.565656565656566
            ],
            [
             6.666666666666667,
             6.767676767676767
            ],
            [
             6.8686868686868685,
             6.96969696969697
            ],
            [
             7.070707070707071,
             7.171717171717171
            ],
            [
             7.2727272727272725,
             7.373737373737374
            ],
            [
             7.474747474747475,
             7.575757575757575
            ],
            [
             7.6767676767676765,
             7.777777777777778
            ],
            [
             7.878787878787879,
             7.979797979797979
            ],
            [
             8.080808080808081,
             8.181818181818182
            ],
            [
             8.282828282828282,
             8.383838383838384
            ],
            [
             8.484848484848484,
             8.585858585858587
            ],
            [
             8.686868686868687,
             8.787878787878787
            ],
            [
             8.88888888888889,
             8.98989898989899
            ],
            [
             9.09090909090909,
             9.191919191919192
            ]
           ],
           "y": [
            [
             0,
             0.10101010101010101
            ],
            [
             0.20202020202020202,
             0.30303030303030304
            ],
            [
             0.40404040404040403,
             0.5050505050505051
            ],
            [
             0.6060606060606061,
             0.7070707070707071
            ],
            [
             0.8080808080808081,
             0.9090909090909091
            ],
            [
             1.0101010101010102,
             1.1111111111111112
            ],
            [
             1.2121212121212122,
             1.3131313131313131
            ],
            [
             1.4141414141414141,
             1.5151515151515151
            ],
            [
             1.6161616161616161,
             1.7171717171717171
            ],
            [
             1.8181818181818181,
             1.9191919191919191
            ],
            [
             2.0202020202020203,
             2.121212121212121
            ],
            [
             2.2222222222222223,
             2.323232323232323
            ],
            [
             2.4242424242424243,
             2.525252525252525
            ],
            [
             2.6262626262626263,
             2.727272727272727
            ],
            [
             2.8282828282828283,
             2.929292929292929
            ],
            [
             3.0303030303030303,
             3.131313131313131
            ],
            [
             3.2323232323232323,
             3.3333333333333335
            ],
            [
             3.4343434343434343,
             3.5353535353535355
            ],
            [
             3.6363636363636362,
             3.7373737373737375
            ],
            [
             3.8383838383838382,
             3.9393939393939394
            ],
            [
             4.040404040404041,
             4.141414141414141
            ],
            [
             4.242424242424242,
             4.343434343434343
            ],
            [
             4.444444444444445,
             4.545454545454545
            ],
            [
             4.646464646464646,
             4.747474747474747
            ],
            [
             4.848484848484849,
             4.94949494949495
            ],
            [
             5.05050505050505,
             5.151515151515151
            ],
            [
             5.252525252525253,
             5.353535353535354
            ],
            [
             5.454545454545454,
             5.555555555555555
            ],
            [
             5.656565656565657,
             5.757575757575758
            ],
            [
             5.858585858585858,
             5.959595959595959
            ],
            [
             6.0606060606060606,
             6.161616161616162
            ],
            [
             6.262626262626262,
             6.363636363636363
            ],
            [
             6.4646464646464645,
             6.565656565656566
            ],
            [
             6.666666666666667,
             6.767676767676767
            ],
            [
             6.8686868686868685,
             6.96969696969697
            ],
            [
             7.070707070707071,
             7.171717171717171
            ],
            [
             7.2727272727272725,
             7.373737373737374
            ],
            [
             7.474747474747475,
             7.575757575757575
            ],
            [
             7.6767676767676765,
             7.777777777777778
            ],
            [
             7.878787878787879,
             7.979797979797979
            ],
            [
             8.080808080808081,
             8.181818181818182
            ],
            [
             8.282828282828282,
             8.383838383838384
            ],
            [
             8.484848484848484,
             8.585858585858587
            ],
            [
             8.686868686868687,
             8.787878787878787
            ],
            [
             8.88888888888889,
             8.98989898989899
            ],
            [
             9.09090909090909,
             9.191919191919192
            ]
           ],
           "z": [
            [
             0,
             0.10101010101010101
            ],
            [
             0.20202020202020202,
             0.30303030303030304
            ],
            [
             0.40404040404040403,
             0.5050505050505051
            ],
            [
             0.6060606060606061,
             0.7070707070707071
            ],
            [
             0.8080808080808081,
             0.9090909090909091
            ],
            [
             1.0101010101010102,
             1.1111111111111112
            ],
            [
             1.2121212121212122,
             1.3131313131313131
            ],
            [
             1.4141414141414141,
             1.5151515151515151
            ],
            [
             1.6161616161616161,
             1.7171717171717171
            ],
            [
             1.8181818181818181,
             1.9191919191919191
            ],
            [
             2.0202020202020203,
             2.121212121212121
            ],
            [
             2.2222222222222223,
             2.323232323232323
            ],
            [
             2.4242424242424243,
             2.525252525252525
            ],
            [
             2.6262626262626263,
             2.727272727272727
            ],
            [
             2.8282828282828283,
             2.929292929292929
            ],
            [
             3.0303030303030303,
             3.131313131313131
            ],
            [
             3.2323232323232323,
             3.3333333333333335
            ],
            [
             3.4343434343434343,
             3.5353535353535355
            ],
            [
             3.6363636363636362,
             3.7373737373737375
            ],
            [
             3.8383838383838382,
             3.9393939393939394
            ],
            [
             4.040404040404041,
             4.141414141414141
            ],
            [
             4.242424242424242,
             4.343434343434343
            ],
            [
             4.444444444444445,
             4.545454545454545
            ],
            [
             4.646464646464646,
             4.747474747474747
            ],
            [
             4.848484848484849,
             4.94949494949495
            ],
            [
             5.05050505050505,
             5.151515151515151
            ],
            [
             5.252525252525253,
             5.353535353535354
            ],
            [
             5.454545454545454,
             5.555555555555555
            ],
            [
             5.656565656565657,
             5.757575757575758
            ],
            [
             5.858585858585858,
             5.959595959595959
            ],
            [
             6.0606060606060606,
             6.161616161616162
            ],
            [
             6.262626262626262,
             6.363636363636363
            ],
            [
             6.4646464646464645,
             6.565656565656566
            ],
            [
             6.666666666666667,
             6.767676767676767
            ],
            [
             6.8686868686868685,
             6.96969696969697
            ],
            [
             7.070707070707071,
             7.171717171717171
            ],
            [
             7.2727272727272725,
             7.373737373737374
            ],
            [
             7.474747474747475,
             7.575757575757575
            ],
            [
             7.6767676767676765,
             7.777777777777778
            ],
            [
             7.878787878787879,
             7.979797979797979
            ],
            [
             8.080808080808081,
             8.181818181818182
            ],
            [
             8.282828282828282,
             8.383838383838384
            ],
            [
             8.484848484848484,
             8.585858585858587
            ],
            [
             8.686868686868687,
             8.787878787878787
            ],
            [
             8.88888888888889,
             8.98989898989899
            ],
            [
             9.09090909090909,
             9.191919191919192
            ]
           ]
          }
         ],
         "name": "frame45",
         "traces": [
          0
         ]
        },
        {
         "data": [
          {
           "type": "scatter3d",
           "x": [
            [
             0,
             0.10101010101010101
            ],
            [
             0.20202020202020202,
             0.30303030303030304
            ],
            [
             0.40404040404040403,
             0.5050505050505051
            ],
            [
             0.6060606060606061,
             0.7070707070707071
            ],
            [
             0.8080808080808081,
             0.9090909090909091
            ],
            [
             1.0101010101010102,
             1.1111111111111112
            ],
            [
             1.2121212121212122,
             1.3131313131313131
            ],
            [
             1.4141414141414141,
             1.5151515151515151
            ],
            [
             1.6161616161616161,
             1.7171717171717171
            ],
            [
             1.8181818181818181,
             1.9191919191919191
            ],
            [
             2.0202020202020203,
             2.121212121212121
            ],
            [
             2.2222222222222223,
             2.323232323232323
            ],
            [
             2.4242424242424243,
             2.525252525252525
            ],
            [
             2.6262626262626263,
             2.727272727272727
            ],
            [
             2.8282828282828283,
             2.929292929292929
            ],
            [
             3.0303030303030303,
             3.131313131313131
            ],
            [
             3.2323232323232323,
             3.3333333333333335
            ],
            [
             3.4343434343434343,
             3.5353535353535355
            ],
            [
             3.6363636363636362,
             3.7373737373737375
            ],
            [
             3.8383838383838382,
             3.9393939393939394
            ],
            [
             4.040404040404041,
             4.141414141414141
            ],
            [
             4.242424242424242,
             4.343434343434343
            ],
            [
             4.444444444444445,
             4.545454545454545
            ],
            [
             4.646464646464646,
             4.747474747474747
            ],
            [
             4.848484848484849,
             4.94949494949495
            ],
            [
             5.05050505050505,
             5.151515151515151
            ],
            [
             5.252525252525253,
             5.353535353535354
            ],
            [
             5.454545454545454,
             5.555555555555555
            ],
            [
             5.656565656565657,
             5.757575757575758
            ],
            [
             5.858585858585858,
             5.959595959595959
            ],
            [
             6.0606060606060606,
             6.161616161616162
            ],
            [
             6.262626262626262,
             6.363636363636363
            ],
            [
             6.4646464646464645,
             6.565656565656566
            ],
            [
             6.666666666666667,
             6.767676767676767
            ],
            [
             6.8686868686868685,
             6.96969696969697
            ],
            [
             7.070707070707071,
             7.171717171717171
            ],
            [
             7.2727272727272725,
             7.373737373737374
            ],
            [
             7.474747474747475,
             7.575757575757575
            ],
            [
             7.6767676767676765,
             7.777777777777778
            ],
            [
             7.878787878787879,
             7.979797979797979
            ],
            [
             8.080808080808081,
             8.181818181818182
            ],
            [
             8.282828282828282,
             8.383838383838384
            ],
            [
             8.484848484848484,
             8.585858585858587
            ],
            [
             8.686868686868687,
             8.787878787878787
            ],
            [
             8.88888888888889,
             8.98989898989899
            ],
            [
             9.09090909090909,
             9.191919191919192
            ],
            [
             9.292929292929292,
             9.393939393939394
            ]
           ],
           "y": [
            [
             0,
             0.10101010101010101
            ],
            [
             0.20202020202020202,
             0.30303030303030304
            ],
            [
             0.40404040404040403,
             0.5050505050505051
            ],
            [
             0.6060606060606061,
             0.7070707070707071
            ],
            [
             0.8080808080808081,
             0.9090909090909091
            ],
            [
             1.0101010101010102,
             1.1111111111111112
            ],
            [
             1.2121212121212122,
             1.3131313131313131
            ],
            [
             1.4141414141414141,
             1.5151515151515151
            ],
            [
             1.6161616161616161,
             1.7171717171717171
            ],
            [
             1.8181818181818181,
             1.9191919191919191
            ],
            [
             2.0202020202020203,
             2.121212121212121
            ],
            [
             2.2222222222222223,
             2.323232323232323
            ],
            [
             2.4242424242424243,
             2.525252525252525
            ],
            [
             2.6262626262626263,
             2.727272727272727
            ],
            [
             2.8282828282828283,
             2.929292929292929
            ],
            [
             3.0303030303030303,
             3.131313131313131
            ],
            [
             3.2323232323232323,
             3.3333333333333335
            ],
            [
             3.4343434343434343,
             3.5353535353535355
            ],
            [
             3.6363636363636362,
             3.7373737373737375
            ],
            [
             3.8383838383838382,
             3.9393939393939394
            ],
            [
             4.040404040404041,
             4.141414141414141
            ],
            [
             4.242424242424242,
             4.343434343434343
            ],
            [
             4.444444444444445,
             4.545454545454545
            ],
            [
             4.646464646464646,
             4.747474747474747
            ],
            [
             4.848484848484849,
             4.94949494949495
            ],
            [
             5.05050505050505,
             5.151515151515151
            ],
            [
             5.252525252525253,
             5.353535353535354
            ],
            [
             5.454545454545454,
             5.555555555555555
            ],
            [
             5.656565656565657,
             5.757575757575758
            ],
            [
             5.858585858585858,
             5.959595959595959
            ],
            [
             6.0606060606060606,
             6.161616161616162
            ],
            [
             6.262626262626262,
             6.363636363636363
            ],
            [
             6.4646464646464645,
             6.565656565656566
            ],
            [
             6.666666666666667,
             6.767676767676767
            ],
            [
             6.8686868686868685,
             6.96969696969697
            ],
            [
             7.070707070707071,
             7.171717171717171
            ],
            [
             7.2727272727272725,
             7.373737373737374
            ],
            [
             7.474747474747475,
             7.575757575757575
            ],
            [
             7.6767676767676765,
             7.777777777777778
            ],
            [
             7.878787878787879,
             7.979797979797979
            ],
            [
             8.080808080808081,
             8.181818181818182
            ],
            [
             8.282828282828282,
             8.383838383838384
            ],
            [
             8.484848484848484,
             8.585858585858587
            ],
            [
             8.686868686868687,
             8.787878787878787
            ],
            [
             8.88888888888889,
             8.98989898989899
            ],
            [
             9.09090909090909,
             9.191919191919192
            ],
            [
             9.292929292929292,
             9.393939393939394
            ]
           ],
           "z": [
            [
             0,
             0.10101010101010101
            ],
            [
             0.20202020202020202,
             0.30303030303030304
            ],
            [
             0.40404040404040403,
             0.5050505050505051
            ],
            [
             0.6060606060606061,
             0.7070707070707071
            ],
            [
             0.8080808080808081,
             0.9090909090909091
            ],
            [
             1.0101010101010102,
             1.1111111111111112
            ],
            [
             1.2121212121212122,
             1.3131313131313131
            ],
            [
             1.4141414141414141,
             1.5151515151515151
            ],
            [
             1.6161616161616161,
             1.7171717171717171
            ],
            [
             1.8181818181818181,
             1.9191919191919191
            ],
            [
             2.0202020202020203,
             2.121212121212121
            ],
            [
             2.2222222222222223,
             2.323232323232323
            ],
            [
             2.4242424242424243,
             2.525252525252525
            ],
            [
             2.6262626262626263,
             2.727272727272727
            ],
            [
             2.8282828282828283,
             2.929292929292929
            ],
            [
             3.0303030303030303,
             3.131313131313131
            ],
            [
             3.2323232323232323,
             3.3333333333333335
            ],
            [
             3.4343434343434343,
             3.5353535353535355
            ],
            [
             3.6363636363636362,
             3.7373737373737375
            ],
            [
             3.8383838383838382,
             3.9393939393939394
            ],
            [
             4.040404040404041,
             4.141414141414141
            ],
            [
             4.242424242424242,
             4.343434343434343
            ],
            [
             4.444444444444445,
             4.545454545454545
            ],
            [
             4.646464646464646,
             4.747474747474747
            ],
            [
             4.848484848484849,
             4.94949494949495
            ],
            [
             5.05050505050505,
             5.151515151515151
            ],
            [
             5.252525252525253,
             5.353535353535354
            ],
            [
             5.454545454545454,
             5.555555555555555
            ],
            [
             5.656565656565657,
             5.757575757575758
            ],
            [
             5.858585858585858,
             5.959595959595959
            ],
            [
             6.0606060606060606,
             6.161616161616162
            ],
            [
             6.262626262626262,
             6.363636363636363
            ],
            [
             6.4646464646464645,
             6.565656565656566
            ],
            [
             6.666666666666667,
             6.767676767676767
            ],
            [
             6.8686868686868685,
             6.96969696969697
            ],
            [
             7.070707070707071,
             7.171717171717171
            ],
            [
             7.2727272727272725,
             7.373737373737374
            ],
            [
             7.474747474747475,
             7.575757575757575
            ],
            [
             7.6767676767676765,
             7.777777777777778
            ],
            [
             7.878787878787879,
             7.979797979797979
            ],
            [
             8.080808080808081,
             8.181818181818182
            ],
            [
             8.282828282828282,
             8.383838383838384
            ],
            [
             8.484848484848484,
             8.585858585858587
            ],
            [
             8.686868686868687,
             8.787878787878787
            ],
            [
             8.88888888888889,
             8.98989898989899
            ],
            [
             9.09090909090909,
             9.191919191919192
            ],
            [
             9.292929292929292,
             9.393939393939394
            ]
           ]
          }
         ],
         "name": "frame46",
         "traces": [
          0
         ]
        },
        {
         "data": [
          {
           "type": "scatter3d",
           "x": [
            [
             0,
             0.10101010101010101
            ],
            [
             0.20202020202020202,
             0.30303030303030304
            ],
            [
             0.40404040404040403,
             0.5050505050505051
            ],
            [
             0.6060606060606061,
             0.7070707070707071
            ],
            [
             0.8080808080808081,
             0.9090909090909091
            ],
            [
             1.0101010101010102,
             1.1111111111111112
            ],
            [
             1.2121212121212122,
             1.3131313131313131
            ],
            [
             1.4141414141414141,
             1.5151515151515151
            ],
            [
             1.6161616161616161,
             1.7171717171717171
            ],
            [
             1.8181818181818181,
             1.9191919191919191
            ],
            [
             2.0202020202020203,
             2.121212121212121
            ],
            [
             2.2222222222222223,
             2.323232323232323
            ],
            [
             2.4242424242424243,
             2.525252525252525
            ],
            [
             2.6262626262626263,
             2.727272727272727
            ],
            [
             2.8282828282828283,
             2.929292929292929
            ],
            [
             3.0303030303030303,
             3.131313131313131
            ],
            [
             3.2323232323232323,
             3.3333333333333335
            ],
            [
             3.4343434343434343,
             3.5353535353535355
            ],
            [
             3.6363636363636362,
             3.7373737373737375
            ],
            [
             3.8383838383838382,
             3.9393939393939394
            ],
            [
             4.040404040404041,
             4.141414141414141
            ],
            [
             4.242424242424242,
             4.343434343434343
            ],
            [
             4.444444444444445,
             4.545454545454545
            ],
            [
             4.646464646464646,
             4.747474747474747
            ],
            [
             4.848484848484849,
             4.94949494949495
            ],
            [
             5.05050505050505,
             5.151515151515151
            ],
            [
             5.252525252525253,
             5.353535353535354
            ],
            [
             5.454545454545454,
             5.555555555555555
            ],
            [
             5.656565656565657,
             5.757575757575758
            ],
            [
             5.858585858585858,
             5.959595959595959
            ],
            [
             6.0606060606060606,
             6.161616161616162
            ],
            [
             6.262626262626262,
             6.363636363636363
            ],
            [
             6.4646464646464645,
             6.565656565656566
            ],
            [
             6.666666666666667,
             6.767676767676767
            ],
            [
             6.8686868686868685,
             6.96969696969697
            ],
            [
             7.070707070707071,
             7.171717171717171
            ],
            [
             7.2727272727272725,
             7.373737373737374
            ],
            [
             7.474747474747475,
             7.575757575757575
            ],
            [
             7.6767676767676765,
             7.777777777777778
            ],
            [
             7.878787878787879,
             7.979797979797979
            ],
            [
             8.080808080808081,
             8.181818181818182
            ],
            [
             8.282828282828282,
             8.383838383838384
            ],
            [
             8.484848484848484,
             8.585858585858587
            ],
            [
             8.686868686868687,
             8.787878787878787
            ],
            [
             8.88888888888889,
             8.98989898989899
            ],
            [
             9.09090909090909,
             9.191919191919192
            ],
            [
             9.292929292929292,
             9.393939393939394
            ],
            [
             9.494949494949495,
             9.595959595959595
            ]
           ],
           "y": [
            [
             0,
             0.10101010101010101
            ],
            [
             0.20202020202020202,
             0.30303030303030304
            ],
            [
             0.40404040404040403,
             0.5050505050505051
            ],
            [
             0.6060606060606061,
             0.7070707070707071
            ],
            [
             0.8080808080808081,
             0.9090909090909091
            ],
            [
             1.0101010101010102,
             1.1111111111111112
            ],
            [
             1.2121212121212122,
             1.3131313131313131
            ],
            [
             1.4141414141414141,
             1.5151515151515151
            ],
            [
             1.6161616161616161,
             1.7171717171717171
            ],
            [
             1.8181818181818181,
             1.9191919191919191
            ],
            [
             2.0202020202020203,
             2.121212121212121
            ],
            [
             2.2222222222222223,
             2.323232323232323
            ],
            [
             2.4242424242424243,
             2.525252525252525
            ],
            [
             2.6262626262626263,
             2.727272727272727
            ],
            [
             2.8282828282828283,
             2.929292929292929
            ],
            [
             3.0303030303030303,
             3.131313131313131
            ],
            [
             3.2323232323232323,
             3.3333333333333335
            ],
            [
             3.4343434343434343,
             3.5353535353535355
            ],
            [
             3.6363636363636362,
             3.7373737373737375
            ],
            [
             3.8383838383838382,
             3.9393939393939394
            ],
            [
             4.040404040404041,
             4.141414141414141
            ],
            [
             4.242424242424242,
             4.343434343434343
            ],
            [
             4.444444444444445,
             4.545454545454545
            ],
            [
             4.646464646464646,
             4.747474747474747
            ],
            [
             4.848484848484849,
             4.94949494949495
            ],
            [
             5.05050505050505,
             5.151515151515151
            ],
            [
             5.252525252525253,
             5.353535353535354
            ],
            [
             5.454545454545454,
             5.555555555555555
            ],
            [
             5.656565656565657,
             5.757575757575758
            ],
            [
             5.858585858585858,
             5.959595959595959
            ],
            [
             6.0606060606060606,
             6.161616161616162
            ],
            [
             6.262626262626262,
             6.363636363636363
            ],
            [
             6.4646464646464645,
             6.565656565656566
            ],
            [
             6.666666666666667,
             6.767676767676767
            ],
            [
             6.8686868686868685,
             6.96969696969697
            ],
            [
             7.070707070707071,
             7.171717171717171
            ],
            [
             7.2727272727272725,
             7.373737373737374
            ],
            [
             7.474747474747475,
             7.575757575757575
            ],
            [
             7.6767676767676765,
             7.777777777777778
            ],
            [
             7.878787878787879,
             7.979797979797979
            ],
            [
             8.080808080808081,
             8.181818181818182
            ],
            [
             8.282828282828282,
             8.383838383838384
            ],
            [
             8.484848484848484,
             8.585858585858587
            ],
            [
             8.686868686868687,
             8.787878787878787
            ],
            [
             8.88888888888889,
             8.98989898989899
            ],
            [
             9.09090909090909,
             9.191919191919192
            ],
            [
             9.292929292929292,
             9.393939393939394
            ],
            [
             9.494949494949495,
             9.595959595959595
            ]
           ],
           "z": [
            [
             0,
             0.10101010101010101
            ],
            [
             0.20202020202020202,
             0.30303030303030304
            ],
            [
             0.40404040404040403,
             0.5050505050505051
            ],
            [
             0.6060606060606061,
             0.7070707070707071
            ],
            [
             0.8080808080808081,
             0.9090909090909091
            ],
            [
             1.0101010101010102,
             1.1111111111111112
            ],
            [
             1.2121212121212122,
             1.3131313131313131
            ],
            [
             1.4141414141414141,
             1.5151515151515151
            ],
            [
             1.6161616161616161,
             1.7171717171717171
            ],
            [
             1.8181818181818181,
             1.9191919191919191
            ],
            [
             2.0202020202020203,
             2.121212121212121
            ],
            [
             2.2222222222222223,
             2.323232323232323
            ],
            [
             2.4242424242424243,
             2.525252525252525
            ],
            [
             2.6262626262626263,
             2.727272727272727
            ],
            [
             2.8282828282828283,
             2.929292929292929
            ],
            [
             3.0303030303030303,
             3.131313131313131
            ],
            [
             3.2323232323232323,
             3.3333333333333335
            ],
            [
             3.4343434343434343,
             3.5353535353535355
            ],
            [
             3.6363636363636362,
             3.7373737373737375
            ],
            [
             3.8383838383838382,
             3.9393939393939394
            ],
            [
             4.040404040404041,
             4.141414141414141
            ],
            [
             4.242424242424242,
             4.343434343434343
            ],
            [
             4.444444444444445,
             4.545454545454545
            ],
            [
             4.646464646464646,
             4.747474747474747
            ],
            [
             4.848484848484849,
             4.94949494949495
            ],
            [
             5.05050505050505,
             5.151515151515151
            ],
            [
             5.252525252525253,
             5.353535353535354
            ],
            [
             5.454545454545454,
             5.555555555555555
            ],
            [
             5.656565656565657,
             5.757575757575758
            ],
            [
             5.858585858585858,
             5.959595959595959
            ],
            [
             6.0606060606060606,
             6.161616161616162
            ],
            [
             6.262626262626262,
             6.363636363636363
            ],
            [
             6.4646464646464645,
             6.565656565656566
            ],
            [
             6.666666666666667,
             6.767676767676767
            ],
            [
             6.8686868686868685,
             6.96969696969697
            ],
            [
             7.070707070707071,
             7.171717171717171
            ],
            [
             7.2727272727272725,
             7.373737373737374
            ],
            [
             7.474747474747475,
             7.575757575757575
            ],
            [
             7.6767676767676765,
             7.777777777777778
            ],
            [
             7.878787878787879,
             7.979797979797979
            ],
            [
             8.080808080808081,
             8.181818181818182
            ],
            [
             8.282828282828282,
             8.383838383838384
            ],
            [
             8.484848484848484,
             8.585858585858587
            ],
            [
             8.686868686868687,
             8.787878787878787
            ],
            [
             8.88888888888889,
             8.98989898989899
            ],
            [
             9.09090909090909,
             9.191919191919192
            ],
            [
             9.292929292929292,
             9.393939393939394
            ],
            [
             9.494949494949495,
             9.595959595959595
            ]
           ]
          }
         ],
         "name": "frame47",
         "traces": [
          0
         ]
        },
        {
         "data": [
          {
           "type": "scatter3d",
           "x": [
            [
             0,
             0.10101010101010101
            ],
            [
             0.20202020202020202,
             0.30303030303030304
            ],
            [
             0.40404040404040403,
             0.5050505050505051
            ],
            [
             0.6060606060606061,
             0.7070707070707071
            ],
            [
             0.8080808080808081,
             0.9090909090909091
            ],
            [
             1.0101010101010102,
             1.1111111111111112
            ],
            [
             1.2121212121212122,
             1.3131313131313131
            ],
            [
             1.4141414141414141,
             1.5151515151515151
            ],
            [
             1.6161616161616161,
             1.7171717171717171
            ],
            [
             1.8181818181818181,
             1.9191919191919191
            ],
            [
             2.0202020202020203,
             2.121212121212121
            ],
            [
             2.2222222222222223,
             2.323232323232323
            ],
            [
             2.4242424242424243,
             2.525252525252525
            ],
            [
             2.6262626262626263,
             2.727272727272727
            ],
            [
             2.8282828282828283,
             2.929292929292929
            ],
            [
             3.0303030303030303,
             3.131313131313131
            ],
            [
             3.2323232323232323,
             3.3333333333333335
            ],
            [
             3.4343434343434343,
             3.5353535353535355
            ],
            [
             3.6363636363636362,
             3.7373737373737375
            ],
            [
             3.8383838383838382,
             3.9393939393939394
            ],
            [
             4.040404040404041,
             4.141414141414141
            ],
            [
             4.242424242424242,
             4.343434343434343
            ],
            [
             4.444444444444445,
             4.545454545454545
            ],
            [
             4.646464646464646,
             4.747474747474747
            ],
            [
             4.848484848484849,
             4.94949494949495
            ],
            [
             5.05050505050505,
             5.151515151515151
            ],
            [
             5.252525252525253,
             5.353535353535354
            ],
            [
             5.454545454545454,
             5.555555555555555
            ],
            [
             5.656565656565657,
             5.757575757575758
            ],
            [
             5.858585858585858,
             5.959595959595959
            ],
            [
             6.0606060606060606,
             6.161616161616162
            ],
            [
             6.262626262626262,
             6.363636363636363
            ],
            [
             6.4646464646464645,
             6.565656565656566
            ],
            [
             6.666666666666667,
             6.767676767676767
            ],
            [
             6.8686868686868685,
             6.96969696969697
            ],
            [
             7.070707070707071,
             7.171717171717171
            ],
            [
             7.2727272727272725,
             7.373737373737374
            ],
            [
             7.474747474747475,
             7.575757575757575
            ],
            [
             7.6767676767676765,
             7.777777777777778
            ],
            [
             7.878787878787879,
             7.979797979797979
            ],
            [
             8.080808080808081,
             8.181818181818182
            ],
            [
             8.282828282828282,
             8.383838383838384
            ],
            [
             8.484848484848484,
             8.585858585858587
            ],
            [
             8.686868686868687,
             8.787878787878787
            ],
            [
             8.88888888888889,
             8.98989898989899
            ],
            [
             9.09090909090909,
             9.191919191919192
            ],
            [
             9.292929292929292,
             9.393939393939394
            ],
            [
             9.494949494949495,
             9.595959595959595
            ],
            [
             9.696969696969697,
             9.797979797979798
            ]
           ],
           "y": [
            [
             0,
             0.10101010101010101
            ],
            [
             0.20202020202020202,
             0.30303030303030304
            ],
            [
             0.40404040404040403,
             0.5050505050505051
            ],
            [
             0.6060606060606061,
             0.7070707070707071
            ],
            [
             0.8080808080808081,
             0.9090909090909091
            ],
            [
             1.0101010101010102,
             1.1111111111111112
            ],
            [
             1.2121212121212122,
             1.3131313131313131
            ],
            [
             1.4141414141414141,
             1.5151515151515151
            ],
            [
             1.6161616161616161,
             1.7171717171717171
            ],
            [
             1.8181818181818181,
             1.9191919191919191
            ],
            [
             2.0202020202020203,
             2.121212121212121
            ],
            [
             2.2222222222222223,
             2.323232323232323
            ],
            [
             2.4242424242424243,
             2.525252525252525
            ],
            [
             2.6262626262626263,
             2.727272727272727
            ],
            [
             2.8282828282828283,
             2.929292929292929
            ],
            [
             3.0303030303030303,
             3.131313131313131
            ],
            [
             3.2323232323232323,
             3.3333333333333335
            ],
            [
             3.4343434343434343,
             3.5353535353535355
            ],
            [
             3.6363636363636362,
             3.7373737373737375
            ],
            [
             3.8383838383838382,
             3.9393939393939394
            ],
            [
             4.040404040404041,
             4.141414141414141
            ],
            [
             4.242424242424242,
             4.343434343434343
            ],
            [
             4.444444444444445,
             4.545454545454545
            ],
            [
             4.646464646464646,
             4.747474747474747
            ],
            [
             4.848484848484849,
             4.94949494949495
            ],
            [
             5.05050505050505,
             5.151515151515151
            ],
            [
             5.252525252525253,
             5.353535353535354
            ],
            [
             5.454545454545454,
             5.555555555555555
            ],
            [
             5.656565656565657,
             5.757575757575758
            ],
            [
             5.858585858585858,
             5.959595959595959
            ],
            [
             6.0606060606060606,
             6.161616161616162
            ],
            [
             6.262626262626262,
             6.363636363636363
            ],
            [
             6.4646464646464645,
             6.565656565656566
            ],
            [
             6.666666666666667,
             6.767676767676767
            ],
            [
             6.8686868686868685,
             6.96969696969697
            ],
            [
             7.070707070707071,
             7.171717171717171
            ],
            [
             7.2727272727272725,
             7.373737373737374
            ],
            [
             7.474747474747475,
             7.575757575757575
            ],
            [
             7.6767676767676765,
             7.777777777777778
            ],
            [
             7.878787878787879,
             7.979797979797979
            ],
            [
             8.080808080808081,
             8.181818181818182
            ],
            [
             8.282828282828282,
             8.383838383838384
            ],
            [
             8.484848484848484,
             8.585858585858587
            ],
            [
             8.686868686868687,
             8.787878787878787
            ],
            [
             8.88888888888889,
             8.98989898989899
            ],
            [
             9.09090909090909,
             9.191919191919192
            ],
            [
             9.292929292929292,
             9.393939393939394
            ],
            [
             9.494949494949495,
             9.595959595959595
            ],
            [
             9.696969696969697,
             9.797979797979798
            ]
           ],
           "z": [
            [
             0,
             0.10101010101010101
            ],
            [
             0.20202020202020202,
             0.30303030303030304
            ],
            [
             0.40404040404040403,
             0.5050505050505051
            ],
            [
             0.6060606060606061,
             0.7070707070707071
            ],
            [
             0.8080808080808081,
             0.9090909090909091
            ],
            [
             1.0101010101010102,
             1.1111111111111112
            ],
            [
             1.2121212121212122,
             1.3131313131313131
            ],
            [
             1.4141414141414141,
             1.5151515151515151
            ],
            [
             1.6161616161616161,
             1.7171717171717171
            ],
            [
             1.8181818181818181,
             1.9191919191919191
            ],
            [
             2.0202020202020203,
             2.121212121212121
            ],
            [
             2.2222222222222223,
             2.323232323232323
            ],
            [
             2.4242424242424243,
             2.525252525252525
            ],
            [
             2.6262626262626263,
             2.727272727272727
            ],
            [
             2.8282828282828283,
             2.929292929292929
            ],
            [
             3.0303030303030303,
             3.131313131313131
            ],
            [
             3.2323232323232323,
             3.3333333333333335
            ],
            [
             3.4343434343434343,
             3.5353535353535355
            ],
            [
             3.6363636363636362,
             3.7373737373737375
            ],
            [
             3.8383838383838382,
             3.9393939393939394
            ],
            [
             4.040404040404041,
             4.141414141414141
            ],
            [
             4.242424242424242,
             4.343434343434343
            ],
            [
             4.444444444444445,
             4.545454545454545
            ],
            [
             4.646464646464646,
             4.747474747474747
            ],
            [
             4.848484848484849,
             4.94949494949495
            ],
            [
             5.05050505050505,
             5.151515151515151
            ],
            [
             5.252525252525253,
             5.353535353535354
            ],
            [
             5.454545454545454,
             5.555555555555555
            ],
            [
             5.656565656565657,
             5.757575757575758
            ],
            [
             5.858585858585858,
             5.959595959595959
            ],
            [
             6.0606060606060606,
             6.161616161616162
            ],
            [
             6.262626262626262,
             6.363636363636363
            ],
            [
             6.4646464646464645,
             6.565656565656566
            ],
            [
             6.666666666666667,
             6.767676767676767
            ],
            [
             6.8686868686868685,
             6.96969696969697
            ],
            [
             7.070707070707071,
             7.171717171717171
            ],
            [
             7.2727272727272725,
             7.373737373737374
            ],
            [
             7.474747474747475,
             7.575757575757575
            ],
            [
             7.6767676767676765,
             7.777777777777778
            ],
            [
             7.878787878787879,
             7.979797979797979
            ],
            [
             8.080808080808081,
             8.181818181818182
            ],
            [
             8.282828282828282,
             8.383838383838384
            ],
            [
             8.484848484848484,
             8.585858585858587
            ],
            [
             8.686868686868687,
             8.787878787878787
            ],
            [
             8.88888888888889,
             8.98989898989899
            ],
            [
             9.09090909090909,
             9.191919191919192
            ],
            [
             9.292929292929292,
             9.393939393939394
            ],
            [
             9.494949494949495,
             9.595959595959595
            ],
            [
             9.696969696969697,
             9.797979797979798
            ]
           ]
          }
         ],
         "name": "frame48",
         "traces": [
          0
         ]
        }
       ],
       "layout": {
        "scene": {
         "xaxis": {
          "autorange": false,
          "range": [
           0,
           10
          ]
         },
         "yaxis": {
          "autorange": false,
          "range": [
           0,
           10
          ]
         },
         "zaxis": {
          "autorange": false,
          "range": [
           0,
           10
          ]
         }
        },
        "sliders": [
         {
          "len": 0.9,
          "pad": {
           "b": 10,
           "t": 60
          },
          "steps": [
           {
            "args": [
             [
              "frame0"
             ],
             {
              "frame": {
               "duration": 0
              },
              "fromcurrent": true,
              "mode": "immediate",
              "transition": {
               "duration": 0,
               "easing": "linear"
              }
             }
            ],
            "label": "0",
            "method": "animate"
           },
           {
            "args": [
             [
              "frame1"
             ],
             {
              "frame": {
               "duration": 0
              },
              "fromcurrent": true,
              "mode": "immediate",
              "transition": {
               "duration": 0,
               "easing": "linear"
              }
             }
            ],
            "label": "1",
            "method": "animate"
           },
           {
            "args": [
             [
              "frame2"
             ],
             {
              "frame": {
               "duration": 0
              },
              "fromcurrent": true,
              "mode": "immediate",
              "transition": {
               "duration": 0,
               "easing": "linear"
              }
             }
            ],
            "label": "2",
            "method": "animate"
           },
           {
            "args": [
             [
              "frame3"
             ],
             {
              "frame": {
               "duration": 0
              },
              "fromcurrent": true,
              "mode": "immediate",
              "transition": {
               "duration": 0,
               "easing": "linear"
              }
             }
            ],
            "label": "3",
            "method": "animate"
           },
           {
            "args": [
             [
              "frame4"
             ],
             {
              "frame": {
               "duration": 0
              },
              "fromcurrent": true,
              "mode": "immediate",
              "transition": {
               "duration": 0,
               "easing": "linear"
              }
             }
            ],
            "label": "4",
            "method": "animate"
           },
           {
            "args": [
             [
              "frame5"
             ],
             {
              "frame": {
               "duration": 0
              },
              "fromcurrent": true,
              "mode": "immediate",
              "transition": {
               "duration": 0,
               "easing": "linear"
              }
             }
            ],
            "label": "5",
            "method": "animate"
           },
           {
            "args": [
             [
              "frame6"
             ],
             {
              "frame": {
               "duration": 0
              },
              "fromcurrent": true,
              "mode": "immediate",
              "transition": {
               "duration": 0,
               "easing": "linear"
              }
             }
            ],
            "label": "6",
            "method": "animate"
           },
           {
            "args": [
             [
              "frame7"
             ],
             {
              "frame": {
               "duration": 0
              },
              "fromcurrent": true,
              "mode": "immediate",
              "transition": {
               "duration": 0,
               "easing": "linear"
              }
             }
            ],
            "label": "7",
            "method": "animate"
           },
           {
            "args": [
             [
              "frame8"
             ],
             {
              "frame": {
               "duration": 0
              },
              "fromcurrent": true,
              "mode": "immediate",
              "transition": {
               "duration": 0,
               "easing": "linear"
              }
             }
            ],
            "label": "8",
            "method": "animate"
           },
           {
            "args": [
             [
              "frame9"
             ],
             {
              "frame": {
               "duration": 0
              },
              "fromcurrent": true,
              "mode": "immediate",
              "transition": {
               "duration": 0,
               "easing": "linear"
              }
             }
            ],
            "label": "9",
            "method": "animate"
           },
           {
            "args": [
             [
              "frame10"
             ],
             {
              "frame": {
               "duration": 0
              },
              "fromcurrent": true,
              "mode": "immediate",
              "transition": {
               "duration": 0,
               "easing": "linear"
              }
             }
            ],
            "label": "10",
            "method": "animate"
           },
           {
            "args": [
             [
              "frame11"
             ],
             {
              "frame": {
               "duration": 0
              },
              "fromcurrent": true,
              "mode": "immediate",
              "transition": {
               "duration": 0,
               "easing": "linear"
              }
             }
            ],
            "label": "11",
            "method": "animate"
           },
           {
            "args": [
             [
              "frame12"
             ],
             {
              "frame": {
               "duration": 0
              },
              "fromcurrent": true,
              "mode": "immediate",
              "transition": {
               "duration": 0,
               "easing": "linear"
              }
             }
            ],
            "label": "12",
            "method": "animate"
           },
           {
            "args": [
             [
              "frame13"
             ],
             {
              "frame": {
               "duration": 0
              },
              "fromcurrent": true,
              "mode": "immediate",
              "transition": {
               "duration": 0,
               "easing": "linear"
              }
             }
            ],
            "label": "13",
            "method": "animate"
           },
           {
            "args": [
             [
              "frame14"
             ],
             {
              "frame": {
               "duration": 0
              },
              "fromcurrent": true,
              "mode": "immediate",
              "transition": {
               "duration": 0,
               "easing": "linear"
              }
             }
            ],
            "label": "14",
            "method": "animate"
           },
           {
            "args": [
             [
              "frame15"
             ],
             {
              "frame": {
               "duration": 0
              },
              "fromcurrent": true,
              "mode": "immediate",
              "transition": {
               "duration": 0,
               "easing": "linear"
              }
             }
            ],
            "label": "15",
            "method": "animate"
           },
           {
            "args": [
             [
              "frame16"
             ],
             {
              "frame": {
               "duration": 0
              },
              "fromcurrent": true,
              "mode": "immediate",
              "transition": {
               "duration": 0,
               "easing": "linear"
              }
             }
            ],
            "label": "16",
            "method": "animate"
           },
           {
            "args": [
             [
              "frame17"
             ],
             {
              "frame": {
               "duration": 0
              },
              "fromcurrent": true,
              "mode": "immediate",
              "transition": {
               "duration": 0,
               "easing": "linear"
              }
             }
            ],
            "label": "17",
            "method": "animate"
           },
           {
            "args": [
             [
              "frame18"
             ],
             {
              "frame": {
               "duration": 0
              },
              "fromcurrent": true,
              "mode": "immediate",
              "transition": {
               "duration": 0,
               "easing": "linear"
              }
             }
            ],
            "label": "18",
            "method": "animate"
           },
           {
            "args": [
             [
              "frame19"
             ],
             {
              "frame": {
               "duration": 0
              },
              "fromcurrent": true,
              "mode": "immediate",
              "transition": {
               "duration": 0,
               "easing": "linear"
              }
             }
            ],
            "label": "19",
            "method": "animate"
           },
           {
            "args": [
             [
              "frame20"
             ],
             {
              "frame": {
               "duration": 0
              },
              "fromcurrent": true,
              "mode": "immediate",
              "transition": {
               "duration": 0,
               "easing": "linear"
              }
             }
            ],
            "label": "20",
            "method": "animate"
           },
           {
            "args": [
             [
              "frame21"
             ],
             {
              "frame": {
               "duration": 0
              },
              "fromcurrent": true,
              "mode": "immediate",
              "transition": {
               "duration": 0,
               "easing": "linear"
              }
             }
            ],
            "label": "21",
            "method": "animate"
           },
           {
            "args": [
             [
              "frame22"
             ],
             {
              "frame": {
               "duration": 0
              },
              "fromcurrent": true,
              "mode": "immediate",
              "transition": {
               "duration": 0,
               "easing": "linear"
              }
             }
            ],
            "label": "22",
            "method": "animate"
           },
           {
            "args": [
             [
              "frame23"
             ],
             {
              "frame": {
               "duration": 0
              },
              "fromcurrent": true,
              "mode": "immediate",
              "transition": {
               "duration": 0,
               "easing": "linear"
              }
             }
            ],
            "label": "23",
            "method": "animate"
           },
           {
            "args": [
             [
              "frame24"
             ],
             {
              "frame": {
               "duration": 0
              },
              "fromcurrent": true,
              "mode": "immediate",
              "transition": {
               "duration": 0,
               "easing": "linear"
              }
             }
            ],
            "label": "24",
            "method": "animate"
           },
           {
            "args": [
             [
              "frame25"
             ],
             {
              "frame": {
               "duration": 0
              },
              "fromcurrent": true,
              "mode": "immediate",
              "transition": {
               "duration": 0,
               "easing": "linear"
              }
             }
            ],
            "label": "25",
            "method": "animate"
           },
           {
            "args": [
             [
              "frame26"
             ],
             {
              "frame": {
               "duration": 0
              },
              "fromcurrent": true,
              "mode": "immediate",
              "transition": {
               "duration": 0,
               "easing": "linear"
              }
             }
            ],
            "label": "26",
            "method": "animate"
           },
           {
            "args": [
             [
              "frame27"
             ],
             {
              "frame": {
               "duration": 0
              },
              "fromcurrent": true,
              "mode": "immediate",
              "transition": {
               "duration": 0,
               "easing": "linear"
              }
             }
            ],
            "label": "27",
            "method": "animate"
           },
           {
            "args": [
             [
              "frame28"
             ],
             {
              "frame": {
               "duration": 0
              },
              "fromcurrent": true,
              "mode": "immediate",
              "transition": {
               "duration": 0,
               "easing": "linear"
              }
             }
            ],
            "label": "28",
            "method": "animate"
           },
           {
            "args": [
             [
              "frame29"
             ],
             {
              "frame": {
               "duration": 0
              },
              "fromcurrent": true,
              "mode": "immediate",
              "transition": {
               "duration": 0,
               "easing": "linear"
              }
             }
            ],
            "label": "29",
            "method": "animate"
           },
           {
            "args": [
             [
              "frame30"
             ],
             {
              "frame": {
               "duration": 0
              },
              "fromcurrent": true,
              "mode": "immediate",
              "transition": {
               "duration": 0,
               "easing": "linear"
              }
             }
            ],
            "label": "30",
            "method": "animate"
           },
           {
            "args": [
             [
              "frame31"
             ],
             {
              "frame": {
               "duration": 0
              },
              "fromcurrent": true,
              "mode": "immediate",
              "transition": {
               "duration": 0,
               "easing": "linear"
              }
             }
            ],
            "label": "31",
            "method": "animate"
           },
           {
            "args": [
             [
              "frame32"
             ],
             {
              "frame": {
               "duration": 0
              },
              "fromcurrent": true,
              "mode": "immediate",
              "transition": {
               "duration": 0,
               "easing": "linear"
              }
             }
            ],
            "label": "32",
            "method": "animate"
           },
           {
            "args": [
             [
              "frame33"
             ],
             {
              "frame": {
               "duration": 0
              },
              "fromcurrent": true,
              "mode": "immediate",
              "transition": {
               "duration": 0,
               "easing": "linear"
              }
             }
            ],
            "label": "33",
            "method": "animate"
           },
           {
            "args": [
             [
              "frame34"
             ],
             {
              "frame": {
               "duration": 0
              },
              "fromcurrent": true,
              "mode": "immediate",
              "transition": {
               "duration": 0,
               "easing": "linear"
              }
             }
            ],
            "label": "34",
            "method": "animate"
           },
           {
            "args": [
             [
              "frame35"
             ],
             {
              "frame": {
               "duration": 0
              },
              "fromcurrent": true,
              "mode": "immediate",
              "transition": {
               "duration": 0,
               "easing": "linear"
              }
             }
            ],
            "label": "35",
            "method": "animate"
           },
           {
            "args": [
             [
              "frame36"
             ],
             {
              "frame": {
               "duration": 0
              },
              "fromcurrent": true,
              "mode": "immediate",
              "transition": {
               "duration": 0,
               "easing": "linear"
              }
             }
            ],
            "label": "36",
            "method": "animate"
           },
           {
            "args": [
             [
              "frame37"
             ],
             {
              "frame": {
               "duration": 0
              },
              "fromcurrent": true,
              "mode": "immediate",
              "transition": {
               "duration": 0,
               "easing": "linear"
              }
             }
            ],
            "label": "37",
            "method": "animate"
           },
           {
            "args": [
             [
              "frame38"
             ],
             {
              "frame": {
               "duration": 0
              },
              "fromcurrent": true,
              "mode": "immediate",
              "transition": {
               "duration": 0,
               "easing": "linear"
              }
             }
            ],
            "label": "38",
            "method": "animate"
           },
           {
            "args": [
             [
              "frame39"
             ],
             {
              "frame": {
               "duration": 0
              },
              "fromcurrent": true,
              "mode": "immediate",
              "transition": {
               "duration": 0,
               "easing": "linear"
              }
             }
            ],
            "label": "39",
            "method": "animate"
           },
           {
            "args": [
             [
              "frame40"
             ],
             {
              "frame": {
               "duration": 0
              },
              "fromcurrent": true,
              "mode": "immediate",
              "transition": {
               "duration": 0,
               "easing": "linear"
              }
             }
            ],
            "label": "40",
            "method": "animate"
           },
           {
            "args": [
             [
              "frame41"
             ],
             {
              "frame": {
               "duration": 0
              },
              "fromcurrent": true,
              "mode": "immediate",
              "transition": {
               "duration": 0,
               "easing": "linear"
              }
             }
            ],
            "label": "41",
            "method": "animate"
           },
           {
            "args": [
             [
              "frame42"
             ],
             {
              "frame": {
               "duration": 0
              },
              "fromcurrent": true,
              "mode": "immediate",
              "transition": {
               "duration": 0,
               "easing": "linear"
              }
             }
            ],
            "label": "42",
            "method": "animate"
           },
           {
            "args": [
             [
              "frame43"
             ],
             {
              "frame": {
               "duration": 0
              },
              "fromcurrent": true,
              "mode": "immediate",
              "transition": {
               "duration": 0,
               "easing": "linear"
              }
             }
            ],
            "label": "43",
            "method": "animate"
           },
           {
            "args": [
             [
              "frame44"
             ],
             {
              "frame": {
               "duration": 0
              },
              "fromcurrent": true,
              "mode": "immediate",
              "transition": {
               "duration": 0,
               "easing": "linear"
              }
             }
            ],
            "label": "44",
            "method": "animate"
           },
           {
            "args": [
             [
              "frame45"
             ],
             {
              "frame": {
               "duration": 0
              },
              "fromcurrent": true,
              "mode": "immediate",
              "transition": {
               "duration": 0,
               "easing": "linear"
              }
             }
            ],
            "label": "45",
            "method": "animate"
           },
           {
            "args": [
             [
              "frame46"
             ],
             {
              "frame": {
               "duration": 0
              },
              "fromcurrent": true,
              "mode": "immediate",
              "transition": {
               "duration": 0,
               "easing": "linear"
              }
             }
            ],
            "label": "46",
            "method": "animate"
           },
           {
            "args": [
             [
              "frame47"
             ],
             {
              "frame": {
               "duration": 0
              },
              "fromcurrent": true,
              "mode": "immediate",
              "transition": {
               "duration": 0,
               "easing": "linear"
              }
             }
            ],
            "label": "47",
            "method": "animate"
           },
           {
            "args": [
             [
              "frame48"
             ],
             {
              "frame": {
               "duration": 0
              },
              "fromcurrent": true,
              "mode": "immediate",
              "transition": {
               "duration": 0,
               "easing": "linear"
              }
             }
            ],
            "label": "48",
            "method": "animate"
           }
          ],
          "x": 0.1,
          "y": 0
         }
        ],
        "template": {
         "data": {
          "bar": [
           {
            "error_x": {
             "color": "#2a3f5f"
            },
            "error_y": {
             "color": "#2a3f5f"
            },
            "marker": {
             "line": {
              "color": "#E5ECF6",
              "width": 0.5
             },
             "pattern": {
              "fillmode": "overlay",
              "size": 10,
              "solidity": 0.2
             }
            },
            "type": "bar"
           }
          ],
          "barpolar": [
           {
            "marker": {
             "line": {
              "color": "#E5ECF6",
              "width": 0.5
             },
             "pattern": {
              "fillmode": "overlay",
              "size": 10,
              "solidity": 0.2
             }
            },
            "type": "barpolar"
           }
          ],
          "carpet": [
           {
            "aaxis": {
             "endlinecolor": "#2a3f5f",
             "gridcolor": "white",
             "linecolor": "white",
             "minorgridcolor": "white",
             "startlinecolor": "#2a3f5f"
            },
            "baxis": {
             "endlinecolor": "#2a3f5f",
             "gridcolor": "white",
             "linecolor": "white",
             "minorgridcolor": "white",
             "startlinecolor": "#2a3f5f"
            },
            "type": "carpet"
           }
          ],
          "choropleth": [
           {
            "colorbar": {
             "outlinewidth": 0,
             "ticks": ""
            },
            "type": "choropleth"
           }
          ],
          "contour": [
           {
            "colorbar": {
             "outlinewidth": 0,
             "ticks": ""
            },
            "colorscale": [
             [
              0,
              "#0d0887"
             ],
             [
              0.1111111111111111,
              "#46039f"
             ],
             [
              0.2222222222222222,
              "#7201a8"
             ],
             [
              0.3333333333333333,
              "#9c179e"
             ],
             [
              0.4444444444444444,
              "#bd3786"
             ],
             [
              0.5555555555555556,
              "#d8576b"
             ],
             [
              0.6666666666666666,
              "#ed7953"
             ],
             [
              0.7777777777777778,
              "#fb9f3a"
             ],
             [
              0.8888888888888888,
              "#fdca26"
             ],
             [
              1,
              "#f0f921"
             ]
            ],
            "type": "contour"
           }
          ],
          "contourcarpet": [
           {
            "colorbar": {
             "outlinewidth": 0,
             "ticks": ""
            },
            "type": "contourcarpet"
           }
          ],
          "heatmap": [
           {
            "colorbar": {
             "outlinewidth": 0,
             "ticks": ""
            },
            "colorscale": [
             [
              0,
              "#0d0887"
             ],
             [
              0.1111111111111111,
              "#46039f"
             ],
             [
              0.2222222222222222,
              "#7201a8"
             ],
             [
              0.3333333333333333,
              "#9c179e"
             ],
             [
              0.4444444444444444,
              "#bd3786"
             ],
             [
              0.5555555555555556,
              "#d8576b"
             ],
             [
              0.6666666666666666,
              "#ed7953"
             ],
             [
              0.7777777777777778,
              "#fb9f3a"
             ],
             [
              0.8888888888888888,
              "#fdca26"
             ],
             [
              1,
              "#f0f921"
             ]
            ],
            "type": "heatmap"
           }
          ],
          "heatmapgl": [
           {
            "colorbar": {
             "outlinewidth": 0,
             "ticks": ""
            },
            "colorscale": [
             [
              0,
              "#0d0887"
             ],
             [
              0.1111111111111111,
              "#46039f"
             ],
             [
              0.2222222222222222,
              "#7201a8"
             ],
             [
              0.3333333333333333,
              "#9c179e"
             ],
             [
              0.4444444444444444,
              "#bd3786"
             ],
             [
              0.5555555555555556,
              "#d8576b"
             ],
             [
              0.6666666666666666,
              "#ed7953"
             ],
             [
              0.7777777777777778,
              "#fb9f3a"
             ],
             [
              0.8888888888888888,
              "#fdca26"
             ],
             [
              1,
              "#f0f921"
             ]
            ],
            "type": "heatmapgl"
           }
          ],
          "histogram": [
           {
            "marker": {
             "pattern": {
              "fillmode": "overlay",
              "size": 10,
              "solidity": 0.2
             }
            },
            "type": "histogram"
           }
          ],
          "histogram2d": [
           {
            "colorbar": {
             "outlinewidth": 0,
             "ticks": ""
            },
            "colorscale": [
             [
              0,
              "#0d0887"
             ],
             [
              0.1111111111111111,
              "#46039f"
             ],
             [
              0.2222222222222222,
              "#7201a8"
             ],
             [
              0.3333333333333333,
              "#9c179e"
             ],
             [
              0.4444444444444444,
              "#bd3786"
             ],
             [
              0.5555555555555556,
              "#d8576b"
             ],
             [
              0.6666666666666666,
              "#ed7953"
             ],
             [
              0.7777777777777778,
              "#fb9f3a"
             ],
             [
              0.8888888888888888,
              "#fdca26"
             ],
             [
              1,
              "#f0f921"
             ]
            ],
            "type": "histogram2d"
           }
          ],
          "histogram2dcontour": [
           {
            "colorbar": {
             "outlinewidth": 0,
             "ticks": ""
            },
            "colorscale": [
             [
              0,
              "#0d0887"
             ],
             [
              0.1111111111111111,
              "#46039f"
             ],
             [
              0.2222222222222222,
              "#7201a8"
             ],
             [
              0.3333333333333333,
              "#9c179e"
             ],
             [
              0.4444444444444444,
              "#bd3786"
             ],
             [
              0.5555555555555556,
              "#d8576b"
             ],
             [
              0.6666666666666666,
              "#ed7953"
             ],
             [
              0.7777777777777778,
              "#fb9f3a"
             ],
             [
              0.8888888888888888,
              "#fdca26"
             ],
             [
              1,
              "#f0f921"
             ]
            ],
            "type": "histogram2dcontour"
           }
          ],
          "mesh3d": [
           {
            "colorbar": {
             "outlinewidth": 0,
             "ticks": ""
            },
            "type": "mesh3d"
           }
          ],
          "parcoords": [
           {
            "line": {
             "colorbar": {
              "outlinewidth": 0,
              "ticks": ""
             }
            },
            "type": "parcoords"
           }
          ],
          "pie": [
           {
            "automargin": true,
            "type": "pie"
           }
          ],
          "scatter": [
           {
            "fillpattern": {
             "fillmode": "overlay",
             "size": 10,
             "solidity": 0.2
            },
            "type": "scatter"
           }
          ],
          "scatter3d": [
           {
            "line": {
             "colorbar": {
              "outlinewidth": 0,
              "ticks": ""
             }
            },
            "marker": {
             "colorbar": {
              "outlinewidth": 0,
              "ticks": ""
             }
            },
            "type": "scatter3d"
           }
          ],
          "scattercarpet": [
           {
            "marker": {
             "colorbar": {
              "outlinewidth": 0,
              "ticks": ""
             }
            },
            "type": "scattercarpet"
           }
          ],
          "scattergeo": [
           {
            "marker": {
             "colorbar": {
              "outlinewidth": 0,
              "ticks": ""
             }
            },
            "type": "scattergeo"
           }
          ],
          "scattergl": [
           {
            "marker": {
             "colorbar": {
              "outlinewidth": 0,
              "ticks": ""
             }
            },
            "type": "scattergl"
           }
          ],
          "scattermapbox": [
           {
            "marker": {
             "colorbar": {
              "outlinewidth": 0,
              "ticks": ""
             }
            },
            "type": "scattermapbox"
           }
          ],
          "scatterpolar": [
           {
            "marker": {
             "colorbar": {
              "outlinewidth": 0,
              "ticks": ""
             }
            },
            "type": "scatterpolar"
           }
          ],
          "scatterpolargl": [
           {
            "marker": {
             "colorbar": {
              "outlinewidth": 0,
              "ticks": ""
             }
            },
            "type": "scatterpolargl"
           }
          ],
          "scatterternary": [
           {
            "marker": {
             "colorbar": {
              "outlinewidth": 0,
              "ticks": ""
             }
            },
            "type": "scatterternary"
           }
          ],
          "surface": [
           {
            "colorbar": {
             "outlinewidth": 0,
             "ticks": ""
            },
            "colorscale": [
             [
              0,
              "#0d0887"
             ],
             [
              0.1111111111111111,
              "#46039f"
             ],
             [
              0.2222222222222222,
              "#7201a8"
             ],
             [
              0.3333333333333333,
              "#9c179e"
             ],
             [
              0.4444444444444444,
              "#bd3786"
             ],
             [
              0.5555555555555556,
              "#d8576b"
             ],
             [
              0.6666666666666666,
              "#ed7953"
             ],
             [
              0.7777777777777778,
              "#fb9f3a"
             ],
             [
              0.8888888888888888,
              "#fdca26"
             ],
             [
              1,
              "#f0f921"
             ]
            ],
            "type": "surface"
           }
          ],
          "table": [
           {
            "cells": {
             "fill": {
              "color": "#EBF0F8"
             },
             "line": {
              "color": "white"
             }
            },
            "header": {
             "fill": {
              "color": "#C8D4E3"
             },
             "line": {
              "color": "white"
             }
            },
            "type": "table"
           }
          ]
         },
         "layout": {
          "annotationdefaults": {
           "arrowcolor": "#2a3f5f",
           "arrowhead": 0,
           "arrowwidth": 1
          },
          "autotypenumbers": "strict",
          "coloraxis": {
           "colorbar": {
            "outlinewidth": 0,
            "ticks": ""
           }
          },
          "colorscale": {
           "diverging": [
            [
             0,
             "#8e0152"
            ],
            [
             0.1,
             "#c51b7d"
            ],
            [
             0.2,
             "#de77ae"
            ],
            [
             0.3,
             "#f1b6da"
            ],
            [
             0.4,
             "#fde0ef"
            ],
            [
             0.5,
             "#f7f7f7"
            ],
            [
             0.6,
             "#e6f5d0"
            ],
            [
             0.7,
             "#b8e186"
            ],
            [
             0.8,
             "#7fbc41"
            ],
            [
             0.9,
             "#4d9221"
            ],
            [
             1,
             "#276419"
            ]
           ],
           "sequential": [
            [
             0,
             "#0d0887"
            ],
            [
             0.1111111111111111,
             "#46039f"
            ],
            [
             0.2222222222222222,
             "#7201a8"
            ],
            [
             0.3333333333333333,
             "#9c179e"
            ],
            [
             0.4444444444444444,
             "#bd3786"
            ],
            [
             0.5555555555555556,
             "#d8576b"
            ],
            [
             0.6666666666666666,
             "#ed7953"
            ],
            [
             0.7777777777777778,
             "#fb9f3a"
            ],
            [
             0.8888888888888888,
             "#fdca26"
            ],
            [
             1,
             "#f0f921"
            ]
           ],
           "sequentialminus": [
            [
             0,
             "#0d0887"
            ],
            [
             0.1111111111111111,
             "#46039f"
            ],
            [
             0.2222222222222222,
             "#7201a8"
            ],
            [
             0.3333333333333333,
             "#9c179e"
            ],
            [
             0.4444444444444444,
             "#bd3786"
            ],
            [
             0.5555555555555556,
             "#d8576b"
            ],
            [
             0.6666666666666666,
             "#ed7953"
            ],
            [
             0.7777777777777778,
             "#fb9f3a"
            ],
            [
             0.8888888888888888,
             "#fdca26"
            ],
            [
             1,
             "#f0f921"
            ]
           ]
          },
          "colorway": [
           "#636efa",
           "#EF553B",
           "#00cc96",
           "#ab63fa",
           "#FFA15A",
           "#19d3f3",
           "#FF6692",
           "#B6E880",
           "#FF97FF",
           "#FECB52"
          ],
          "font": {
           "color": "#2a3f5f"
          },
          "geo": {
           "bgcolor": "white",
           "lakecolor": "white",
           "landcolor": "#E5ECF6",
           "showlakes": true,
           "showland": true,
           "subunitcolor": "white"
          },
          "hoverlabel": {
           "align": "left"
          },
          "hovermode": "closest",
          "mapbox": {
           "style": "light"
          },
          "paper_bgcolor": "white",
          "plot_bgcolor": "#E5ECF6",
          "polar": {
           "angularaxis": {
            "gridcolor": "white",
            "linecolor": "white",
            "ticks": ""
           },
           "bgcolor": "#E5ECF6",
           "radialaxis": {
            "gridcolor": "white",
            "linecolor": "white",
            "ticks": ""
           }
          },
          "scene": {
           "xaxis": {
            "backgroundcolor": "#E5ECF6",
            "gridcolor": "white",
            "gridwidth": 2,
            "linecolor": "white",
            "showbackground": true,
            "ticks": "",
            "zerolinecolor": "white"
           },
           "yaxis": {
            "backgroundcolor": "#E5ECF6",
            "gridcolor": "white",
            "gridwidth": 2,
            "linecolor": "white",
            "showbackground": true,
            "ticks": "",
            "zerolinecolor": "white"
           },
           "zaxis": {
            "backgroundcolor": "#E5ECF6",
            "gridcolor": "white",
            "gridwidth": 2,
            "linecolor": "white",
            "showbackground": true,
            "ticks": "",
            "zerolinecolor": "white"
           }
          },
          "shapedefaults": {
           "line": {
            "color": "#2a3f5f"
           }
          },
          "ternary": {
           "aaxis": {
            "gridcolor": "white",
            "linecolor": "white",
            "ticks": ""
           },
           "baxis": {
            "gridcolor": "white",
            "linecolor": "white",
            "ticks": ""
           },
           "bgcolor": "#E5ECF6",
           "caxis": {
            "gridcolor": "white",
            "linecolor": "white",
            "ticks": ""
           }
          },
          "title": {
           "x": 0.05
          },
          "xaxis": {
           "automargin": true,
           "gridcolor": "white",
           "linecolor": "white",
           "ticks": "",
           "title": {
            "standoff": 15
           },
           "zerolinecolor": "white",
           "zerolinewidth": 2
          },
          "yaxis": {
           "automargin": true,
           "gridcolor": "white",
           "linecolor": "white",
           "ticks": "",
           "title": {
            "standoff": 15
           },
           "zerolinecolor": "white",
           "zerolinewidth": 2
          }
         }
        },
        "updatemenus": [
         {
          "buttons": [
           {
            "args": [
             null,
             {
              "frame": {
               "duration": 50
              },
              "fromcurrent": true,
              "mode": "immediate",
              "transition": {
               "duration": 50,
               "easing": "linear"
              }
             }
            ],
            "label": "Play",
            "method": "animate"
           },
           {
            "args": [
             [
              null
             ],
             {
              "frame": {
               "duration": 0
              },
              "fromcurrent": true,
              "mode": "immediate",
              "transition": {
               "duration": 0,
               "easing": "linear"
              }
             }
            ],
            "label": "Pause",
            "method": "animate"
           }
          ],
          "direction": "left",
          "pad": {
           "r": 10,
           "t": 70
          },
          "type": "buttons",
          "x": 0.1,
          "y": 0
         }
        ]
       }
      }
     },
     "metadata": {},
     "output_type": "display_data"
    }
   ],
   "source": [
    "# bottom up test\n",
    "\n",
    "import numpy as np\n",
    "import plotly.graph_objects as go\n",
    "\n",
    "#x,y,z = np.genfromtxt(r'dat.txt', unpack=True)\n",
    "x = np.linspace(0, 10, 100).reshape(-1, 2)\n",
    "y = np.linspace(0, 10, 100).reshape(-1, 2)\n",
    "z = np.linspace(0, 10, 100).reshape(-1, 2)\n",
    "\n",
    "# Create figure\n",
    "fig = go.Figure(\n",
    "    data = go.Scatter3d(\n",
    "        x=[], y=[], z=[],\n",
    "        mode=\"markers\",\n",
    "        marker=dict(color=\"red\", size=10)\n",
    "    )\n",
    ")\n",
    "\n",
    "# Frames\n",
    "frames = [\n",
    "    go.Frame(\n",
    "        data = [\n",
    "            go.Scatter3d(\n",
    "                x=x[:k+1],\n",
    "                y=y[:k+1],\n",
    "                z=z[:k+1],\n",
    "                #mode=\"lines+markers\"\n",
    "            )\n",
    "        ],\n",
    "        traces= [0],\n",
    "        name=f'frame{k}'      \n",
    "    )for k  in  range(len(x)-1)\n",
    "]\n",
    "fig.update(frames=frames)\n",
    "\n",
    "\n",
    "def frame_args(duration):\n",
    "    return {\n",
    "        \"frame\": {\"duration\": duration},\n",
    "        \"mode\": \"immediate\",\n",
    "        \"fromcurrent\": True,\n",
    "        \"transition\": {\"duration\": duration, \"easing\": \"linear\"},\n",
    "    }\n",
    "\n",
    "\n",
    "sliders = [\n",
    "    {\n",
    "        \"pad\": {\"b\": 10, \"t\": 60},\n",
    "        \"len\": 0.9,\n",
    "        \"x\": 0.1,\n",
    "        \"y\": 0,\n",
    "        \"steps\": [\n",
    "            {\n",
    "                \"args\": [[f.name], frame_args(0)],\n",
    "                \"label\": str(k),\n",
    "                \"method\": \"animate\",\n",
    "            } for k, f in enumerate(fig.frames)\n",
    "        ]\n",
    "    }\n",
    "]\n",
    "\n",
    "fig.update_layout(\n",
    "    updatemenus = [\n",
    "        {\n",
    "            \"buttons\":[\n",
    "                {\n",
    "                    \"args\": [None, frame_args(50)],\n",
    "                    \"label\": \"Play\", \n",
    "                    \"method\": \"animate\",\n",
    "                },\n",
    "                {\n",
    "                    \"args\": [[None], frame_args(0)],\n",
    "                    \"label\": \"Pause\", \n",
    "                    \"method\": \"animate\",\n",
    "                }\n",
    "            ],    \n",
    "            \"direction\": \"left\",\n",
    "            \"pad\": {\"r\": 10, \"t\": 70},\n",
    "            \"type\": \"buttons\",\n",
    "            \"x\": 0.1,\n",
    "            \"y\": 0,\n",
    "        }\n",
    "    ],\n",
    "    sliders=sliders\n",
    ")\n",
    "\n",
    "fig.update_layout(\n",
    "    scene = dict(\n",
    "        xaxis=dict(range=[x.min(), x.max()],autorange=False),\n",
    "        yaxis=dict(range=[y.min(), y.max()], autorange=False),\n",
    "        zaxis=dict(range=[z.min(), z.max()], autorange=False)\n",
    "    )\n",
    ")\n",
    "\n",
    "fig.update_layout(sliders=sliders)\n",
    "fig.show()"
   ]
  },
  {
   "cell_type": "code",
   "execution_count": 92,
   "metadata": {},
   "outputs": [
    {
     "data": {
      "text/plain": [
       "0.0"
      ]
     },
     "execution_count": 92,
     "metadata": {},
     "output_type": "execute_result"
    }
   ],
   "source": [
    "x.min()"
   ]
  }
 ],
 "metadata": {
  "kernelspec": {
   "display_name": "first",
   "language": "python",
   "name": "python3"
  },
  "language_info": {
   "codemirror_mode": {
    "name": "ipython",
    "version": 3
   },
   "file_extension": ".py",
   "mimetype": "text/x-python",
   "name": "python",
   "nbconvert_exporter": "python",
   "pygments_lexer": "ipython3",
   "version": "3.10.9"
  },
  "orig_nbformat": 4
 },
 "nbformat": 4,
 "nbformat_minor": 2
}
