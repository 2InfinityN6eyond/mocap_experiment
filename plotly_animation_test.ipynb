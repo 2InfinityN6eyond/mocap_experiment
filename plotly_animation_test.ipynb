{
 "cells": [
  {
   "cell_type": "code",
   "execution_count": 2,
   "metadata": {},
   "outputs": [
    {
     "data": {
      "application/vnd.plotly.v1+json": {
       "config": {
        "plotlyServerURL": "https://plot.ly"
       },
       "data": [
        {
         "marker": {
          "color": "red",
          "size": 10
         },
         "mode": "markers",
         "type": "scatter3d",
         "x": [],
         "y": [],
         "z": []
        }
       ],
       "frames": [
        {
         "data": [
          {
           "type": "scatter3d",
           "x": [
            0
           ],
           "y": [
            0.510048447995771
           ],
           "z": [
            0.23964394977105508
           ]
          }
         ],
         "name": "frame0",
         "traces": [
          0
         ]
        },
        {
         "data": [
          {
           "type": "scatter3d",
           "x": [
            1
           ],
           "y": [
            0.17982399390194537
           ],
           "z": [
            0.0815251274543769
           ]
          }
         ],
         "name": "frame1",
         "traces": [
          0
         ]
        },
        {
         "data": [
          {
           "type": "scatter3d",
           "x": [
            2
           ],
           "y": [
            0.4483108467453527
           ],
           "z": [
            0.7905567513607968
           ]
          }
         ],
         "name": "frame2",
         "traces": [
          0
         ]
        },
        {
         "data": [
          {
           "type": "scatter3d",
           "x": [
            3
           ],
           "y": [
            0.7336509560185827
           ],
           "z": [
            0.9239828486673278
           ]
          }
         ],
         "name": "frame3",
         "traces": [
          0
         ]
        },
        {
         "data": [
          {
           "type": "scatter3d",
           "x": [
            4
           ],
           "y": [
            0.9608599262748445
           ],
           "z": [
            0.37981400420375766
           ]
          }
         ],
         "name": "frame4",
         "traces": [
          0
         ]
        },
        {
         "data": [
          {
           "type": "scatter3d",
           "x": [
            5
           ],
           "y": [
            0.13696493400529486
           ],
           "z": [
            0.16233836093162313
           ]
          }
         ],
         "name": "frame5",
         "traces": [
          0
         ]
        },
        {
         "data": [
          {
           "type": "scatter3d",
           "x": [
            6
           ],
           "y": [
            0.5822788571394577
           ],
           "z": [
            0.03231082968368004
           ]
          }
         ],
         "name": "frame6",
         "traces": [
          0
         ]
        },
        {
         "data": [
          {
           "type": "scatter3d",
           "x": [
            7
           ],
           "y": [
            0.3110592591674328
           ],
           "z": [
            0.788955922720837
           ]
          }
         ],
         "name": "frame7",
         "traces": [
          0
         ]
        },
        {
         "data": [
          {
           "type": "scatter3d",
           "x": [
            8
           ],
           "y": [
            0.5374658536894935
           ],
           "z": [
            0.850981776791727
           ]
          }
         ],
         "name": "frame8",
         "traces": [
          0
         ]
        },
        {
         "data": [
          {
           "type": "scatter3d",
           "x": [
            9
           ],
           "y": [
            0.3367994544456693
           ],
           "z": [
            0.09482189792908102
           ]
          }
         ],
         "name": "frame9",
         "traces": [
          0
         ]
        },
        {
         "data": [
          {
           "type": "scatter3d",
           "x": [
            10
           ],
           "y": [
            0.7217143249005606
           ],
           "z": [
            0.18493872247089127
           ]
          }
         ],
         "name": "frame10",
         "traces": [
          0
         ]
        },
        {
         "data": [
          {
           "type": "scatter3d",
           "x": [
            11
           ],
           "y": [
            0.8411638991809974
           ],
           "z": [
            0.8295708723911916
           ]
          }
         ],
         "name": "frame11",
         "traces": [
          0
         ]
        },
        {
         "data": [
          {
           "type": "scatter3d",
           "x": [
            12
           ],
           "y": [
            0.37180951847993116
           ],
           "z": [
            0.6782293535456508
           ]
          }
         ],
         "name": "frame12",
         "traces": [
          0
         ]
        },
        {
         "data": [
          {
           "type": "scatter3d",
           "x": [
            13
           ],
           "y": [
            0.6838314090600706
           ],
           "z": [
            0.39050895403391384
           ]
          }
         ],
         "name": "frame13",
         "traces": [
          0
         ]
        },
        {
         "data": [
          {
           "type": "scatter3d",
           "x": [
            14
           ],
           "y": [
            0.9142587756228469
           ],
           "z": [
            0.6338272094354902
           ]
          }
         ],
         "name": "frame14",
         "traces": [
          0
         ]
        },
        {
         "data": [
          {
           "type": "scatter3d",
           "x": [
            15
           ],
           "y": [
            0.8646267289525752
           ],
           "z": [
            0.8903390373383732
           ]
          }
         ],
         "name": "frame15",
         "traces": [
          0
         ]
        },
        {
         "data": [
          {
           "type": "scatter3d",
           "x": [
            16
           ],
           "y": [
            0.6578557380304734
           ],
           "z": [
            0.009200191913154798
           ]
          }
         ],
         "name": "frame16",
         "traces": [
          0
         ]
        },
        {
         "data": [
          {
           "type": "scatter3d",
           "x": [
            17
           ],
           "y": [
            0.7939799693580645
           ],
           "z": [
            0.26748178593456695
           ]
          }
         ],
         "name": "frame17",
         "traces": [
          0
         ]
        },
        {
         "data": [
          {
           "type": "scatter3d",
           "x": [
            18
           ],
           "y": [
            0.33904911970473006
           ],
           "z": [
            0.21363813927267983
           ]
          }
         ],
         "name": "frame18",
         "traces": [
          0
         ]
        },
        {
         "data": [
          {
           "type": "scatter3d",
           "x": [
            19
           ],
           "y": [
            0.6781022191873062
           ],
           "z": [
            0.8925152651660743
           ]
          }
         ],
         "name": "frame19",
         "traces": [
          0
         ]
        },
        {
         "data": [
          {
           "type": "scatter3d",
           "x": [
            20
           ],
           "y": [
            0.07245626393167359
           ],
           "z": [
            0.2783891473168616
           ]
          }
         ],
         "name": "frame20",
         "traces": [
          0
         ]
        },
        {
         "data": [
          {
           "type": "scatter3d",
           "x": [
            21
           ],
           "y": [
            0.2669541977140768
           ],
           "z": [
            0.16267704898195734
           ]
          }
         ],
         "name": "frame21",
         "traces": [
          0
         ]
        },
        {
         "data": [
          {
           "type": "scatter3d",
           "x": [
            22
           ],
           "y": [
            0.9102554229736003
           ],
           "z": [
            0.5279054943924377
           ]
          }
         ],
         "name": "frame22",
         "traces": [
          0
         ]
        },
        {
         "data": [
          {
           "type": "scatter3d",
           "x": [
            23
           ],
           "y": [
            0.13023444048972077
           ],
           "z": [
            0.23513707507925463
           ]
          }
         ],
         "name": "frame23",
         "traces": [
          0
         ]
        },
        {
         "data": [
          {
           "type": "scatter3d",
           "x": [
            24
           ],
           "y": [
            0.048475305843126426
           ],
           "z": [
            0.046851561304677714
           ]
          }
         ],
         "name": "frame24",
         "traces": [
          0
         ]
        },
        {
         "data": [
          {
           "type": "scatter3d",
           "x": [
            25
           ],
           "y": [
            0.04521809465827997
           ],
           "z": [
            0.6657913967724042
           ]
          }
         ],
         "name": "frame25",
         "traces": [
          0
         ]
        },
        {
         "data": [
          {
           "type": "scatter3d",
           "x": [
            26
           ],
           "y": [
            0.775677089727486
           ],
           "z": [
            0.8194563028533667
           ]
          }
         ],
         "name": "frame26",
         "traces": [
          0
         ]
        },
        {
         "data": [
          {
           "type": "scatter3d",
           "x": [
            27
           ],
           "y": [
            0.7259060684012036
           ],
           "z": [
            0.5672833106369751
           ]
          }
         ],
         "name": "frame27",
         "traces": [
          0
         ]
        },
        {
         "data": [
          {
           "type": "scatter3d",
           "x": [
            28
           ],
           "y": [
            0.4310459562533884
           ],
           "z": [
            0.8506858759480612
           ]
          }
         ],
         "name": "frame28",
         "traces": [
          0
         ]
        },
        {
         "data": [
          {
           "type": "scatter3d",
           "x": [
            29
           ],
           "y": [
            0.3316488583102293
           ],
           "z": [
            0.04759164968477336
           ]
          }
         ],
         "name": "frame29",
         "traces": [
          0
         ]
        },
        {
         "data": [
          {
           "type": "scatter3d",
           "x": [
            30
           ],
           "y": [
            0.8572959896204635
           ],
           "z": [
            0.6502617089902445
           ]
          }
         ],
         "name": "frame30",
         "traces": [
          0
         ]
        },
        {
         "data": [
          {
           "type": "scatter3d",
           "x": [
            31
           ],
           "y": [
            0.963595022651395
           ],
           "z": [
            0.43863073018242404
           ]
          }
         ],
         "name": "frame31",
         "traces": [
          0
         ]
        },
        {
         "data": [
          {
           "type": "scatter3d",
           "x": [
            32
           ],
           "y": [
            0.8200477142740261
           ],
           "z": [
            0.10094231388939645
           ]
          }
         ],
         "name": "frame32",
         "traces": [
          0
         ]
        },
        {
         "data": [
          {
           "type": "scatter3d",
           "x": [
            33
           ],
           "y": [
            0.536731879632389
           ],
           "z": [
            0.6037274086443754
           ]
          }
         ],
         "name": "frame33",
         "traces": [
          0
         ]
        },
        {
         "data": [
          {
           "type": "scatter3d",
           "x": [
            34
           ],
           "y": [
            0.2788042280057228
           ],
           "z": [
            0.04265648210903883
           ]
          }
         ],
         "name": "frame34",
         "traces": [
          0
         ]
        },
        {
         "data": [
          {
           "type": "scatter3d",
           "x": [
            35
           ],
           "y": [
            0.6493523337205156
           ],
           "z": [
            0.5516683532101091
           ]
          }
         ],
         "name": "frame35",
         "traces": [
          0
         ]
        },
        {
         "data": [
          {
           "type": "scatter3d",
           "x": [
            36
           ],
           "y": [
            0.15049907840213783
           ],
           "z": [
            0.4171674975382167
           ]
          }
         ],
         "name": "frame36",
         "traces": [
          0
         ]
        },
        {
         "data": [
          {
           "type": "scatter3d",
           "x": [
            37
           ],
           "y": [
            0.9330891678683495
           ],
           "z": [
            0.9866036040482781
           ]
          }
         ],
         "name": "frame37",
         "traces": [
          0
         ]
        },
        {
         "data": [
          {
           "type": "scatter3d",
           "x": [
            38
           ],
           "y": [
            0.9976352406404119
           ],
           "z": [
            0.5336127852325356
           ]
          }
         ],
         "name": "frame38",
         "traces": [
          0
         ]
        },
        {
         "data": [
          {
           "type": "scatter3d",
           "x": [
            39
           ],
           "y": [
            0.30373227691350246
           ],
           "z": [
            0.6787843900655666
           ]
          }
         ],
         "name": "frame39",
         "traces": [
          0
         ]
        },
        {
         "data": [
          {
           "type": "scatter3d",
           "x": [
            40
           ],
           "y": [
            0.07857053096778932
           ],
           "z": [
            0.36078280426935005
           ]
          }
         ],
         "name": "frame40",
         "traces": [
          0
         ]
        },
        {
         "data": [
          {
           "type": "scatter3d",
           "x": [
            41
           ],
           "y": [
            0.03667249043969156
           ],
           "z": [
            0.08174034812758613
           ]
          }
         ],
         "name": "frame41",
         "traces": [
          0
         ]
        },
        {
         "data": [
          {
           "type": "scatter3d",
           "x": [
            42
           ],
           "y": [
            0.8992034602298972
           ],
           "z": [
            0.09247008909315724
           ]
          }
         ],
         "name": "frame42",
         "traces": [
          0
         ]
        },
        {
         "data": [
          {
           "type": "scatter3d",
           "x": [
            43
           ],
           "y": [
            0.9101934472103499
           ],
           "z": [
            0.8621948298637472
           ]
          }
         ],
         "name": "frame43",
         "traces": [
          0
         ]
        },
        {
         "data": [
          {
           "type": "scatter3d",
           "x": [
            44
           ],
           "y": [
            0.5407927804516868
           ],
           "z": [
            0.015536904567207133
           ]
          }
         ],
         "name": "frame44",
         "traces": [
          0
         ]
        },
        {
         "data": [
          {
           "type": "scatter3d",
           "x": [
            45
           ],
           "y": [
            0.5789194031119522
           ],
           "z": [
            0.255300961330993
           ]
          }
         ],
         "name": "frame45",
         "traces": [
          0
         ]
        },
        {
         "data": [
          {
           "type": "scatter3d",
           "x": [
            46
           ],
           "y": [
            0.6869729808116686
           ],
           "z": [
            0.831923085668793
           ]
          }
         ],
         "name": "frame46",
         "traces": [
          0
         ]
        },
        {
         "data": [
          {
           "type": "scatter3d",
           "x": [
            47
           ],
           "y": [
            0.3340368066715176
           ],
           "z": [
            0.17589954613786563
           ]
          }
         ],
         "name": "frame47",
         "traces": [
          0
         ]
        },
        {
         "data": [
          {
           "type": "scatter3d",
           "x": [
            48
           ],
           "y": [
            0.34131376692214743
           ],
           "z": [
            0.32172892049143653
           ]
          }
         ],
         "name": "frame48",
         "traces": [
          0
         ]
        },
        {
         "data": [
          {
           "type": "scatter3d",
           "x": [
            49
           ],
           "y": [
            0.29315692603723287
           ],
           "z": [
            0.035803073405031305
           ]
          }
         ],
         "name": "frame49",
         "traces": [
          0
         ]
        },
        {
         "data": [
          {
           "type": "scatter3d",
           "x": [
            50
           ],
           "y": [
            0.21441163577037248
           ],
           "z": [
            0.27927095060649254
           ]
          }
         ],
         "name": "frame50",
         "traces": [
          0
         ]
        },
        {
         "data": [
          {
           "type": "scatter3d",
           "x": [
            51
           ],
           "y": [
            0.2906113478279546
           ],
           "z": [
            0.9167565916018768
           ]
          }
         ],
         "name": "frame51",
         "traces": [
          0
         ]
        },
        {
         "data": [
          {
           "type": "scatter3d",
           "x": [
            52
           ],
           "y": [
            0.6508716772283545
           ],
           "z": [
            0.1639242927074016
           ]
          }
         ],
         "name": "frame52",
         "traces": [
          0
         ]
        },
        {
         "data": [
          {
           "type": "scatter3d",
           "x": [
            53
           ],
           "y": [
            0.15270930835443175
           ],
           "z": [
            0.3779615742992535
           ]
          }
         ],
         "name": "frame53",
         "traces": [
          0
         ]
        },
        {
         "data": [
          {
           "type": "scatter3d",
           "x": [
            54
           ],
           "y": [
            0.6727504174956861
           ],
           "z": [
            0.04943458726147498
           ]
          }
         ],
         "name": "frame54",
         "traces": [
          0
         ]
        },
        {
         "data": [
          {
           "type": "scatter3d",
           "x": [
            55
           ],
           "y": [
            0.12639800865633377
           ],
           "z": [
            0.9591545720399616
           ]
          }
         ],
         "name": "frame55",
         "traces": [
          0
         ]
        },
        {
         "data": [
          {
           "type": "scatter3d",
           "x": [
            56
           ],
           "y": [
            0.009459326758059161
           ],
           "z": [
            0.16759686721253586
           ]
          }
         ],
         "name": "frame56",
         "traces": [
          0
         ]
        },
        {
         "data": [
          {
           "type": "scatter3d",
           "x": [
            57
           ],
           "y": [
            0.38817780710292804
           ],
           "z": [
            0.04151165056579109
           ]
          }
         ],
         "name": "frame57",
         "traces": [
          0
         ]
        },
        {
         "data": [
          {
           "type": "scatter3d",
           "x": [
            58
           ],
           "y": [
            0.5542978531960163
           ],
           "z": [
            0.13277555509389194
           ]
          }
         ],
         "name": "frame58",
         "traces": [
          0
         ]
        },
        {
         "data": [
          {
           "type": "scatter3d",
           "x": [
            59
           ],
           "y": [
            0.1969822583302897
           ],
           "z": [
            0.5000874830780232
           ]
          }
         ],
         "name": "frame59",
         "traces": [
          0
         ]
        },
        {
         "data": [
          {
           "type": "scatter3d",
           "x": [
            60
           ],
           "y": [
            0.6636697905660723
           ],
           "z": [
            0.578331975355909
           ]
          }
         ],
         "name": "frame60",
         "traces": [
          0
         ]
        },
        {
         "data": [
          {
           "type": "scatter3d",
           "x": [
            61
           ],
           "y": [
            0.08069028800916889
           ],
           "z": [
            0.5753878506971389
           ]
          }
         ],
         "name": "frame61",
         "traces": [
          0
         ]
        },
        {
         "data": [
          {
           "type": "scatter3d",
           "x": [
            62
           ],
           "y": [
            0.19158372263569812
           ],
           "z": [
            0.5070078004637812
           ]
          }
         ],
         "name": "frame62",
         "traces": [
          0
         ]
        },
        {
         "data": [
          {
           "type": "scatter3d",
           "x": [
            63
           ],
           "y": [
            0.798774195269825
           ],
           "z": [
            0.5741307585132528
           ]
          }
         ],
         "name": "frame63",
         "traces": [
          0
         ]
        },
        {
         "data": [
          {
           "type": "scatter3d",
           "x": [
            64
           ],
           "y": [
            0.11876782871557223
           ],
           "z": [
            0.35598478498044706
           ]
          }
         ],
         "name": "frame64",
         "traces": [
          0
         ]
        },
        {
         "data": [
          {
           "type": "scatter3d",
           "x": [
            65
           ],
           "y": [
            0.342996655775732
           ],
           "z": [
            0.4715294580214623
           ]
          }
         ],
         "name": "frame65",
         "traces": [
          0
         ]
        },
        {
         "data": [
          {
           "type": "scatter3d",
           "x": [
            66
           ],
           "y": [
            0.3850002349004945
           ],
           "z": [
            0.8207018893493211
           ]
          }
         ],
         "name": "frame66",
         "traces": [
          0
         ]
        },
        {
         "data": [
          {
           "type": "scatter3d",
           "x": [
            67
           ],
           "y": [
            0.7947003211220098
           ],
           "z": [
            0.9651893848439089
           ]
          }
         ],
         "name": "frame67",
         "traces": [
          0
         ]
        },
        {
         "data": [
          {
           "type": "scatter3d",
           "x": [
            68
           ],
           "y": [
            0.5787120501736088
           ],
           "z": [
            0.5105395816937316
           ]
          }
         ],
         "name": "frame68",
         "traces": [
          0
         ]
        },
        {
         "data": [
          {
           "type": "scatter3d",
           "x": [
            69
           ],
           "y": [
            0.02307315245004593
           ],
           "z": [
            0.7222391644092836
           ]
          }
         ],
         "name": "frame69",
         "traces": [
          0
         ]
        },
        {
         "data": [
          {
           "type": "scatter3d",
           "x": [
            70
           ],
           "y": [
            0.22134223532316222
           ],
           "z": [
            0.2808303995145498
           ]
          }
         ],
         "name": "frame70",
         "traces": [
          0
         ]
        },
        {
         "data": [
          {
           "type": "scatter3d",
           "x": [
            71
           ],
           "y": [
            0.39959488953964273
           ],
           "z": [
            0.9100492090521771
           ]
          }
         ],
         "name": "frame71",
         "traces": [
          0
         ]
        },
        {
         "data": [
          {
           "type": "scatter3d",
           "x": [
            72
           ],
           "y": [
            0.6037737687821737
           ],
           "z": [
            0.972105340353509
           ]
          }
         ],
         "name": "frame72",
         "traces": [
          0
         ]
        },
        {
         "data": [
          {
           "type": "scatter3d",
           "x": [
            73
           ],
           "y": [
            0.09816668730883926
           ],
           "z": [
            0.17950234667632115
           ]
          }
         ],
         "name": "frame73",
         "traces": [
          0
         ]
        },
        {
         "data": [
          {
           "type": "scatter3d",
           "x": [
            74
           ],
           "y": [
            0.03419530932272641
           ],
           "z": [
            0.9542497030098163
           ]
          }
         ],
         "name": "frame74",
         "traces": [
          0
         ]
        },
        {
         "data": [
          {
           "type": "scatter3d",
           "x": [
            75
           ],
           "y": [
            0.9616475998722759
           ],
           "z": [
            0.41726412467256435
           ]
          }
         ],
         "name": "frame75",
         "traces": [
          0
         ]
        },
        {
         "data": [
          {
           "type": "scatter3d",
           "x": [
            76
           ],
           "y": [
            0.2951717279783974
           ],
           "z": [
            0.28576812651707084
           ]
          }
         ],
         "name": "frame76",
         "traces": [
          0
         ]
        },
        {
         "data": [
          {
           "type": "scatter3d",
           "x": [
            77
           ],
           "y": [
            0.9168975263588384
           ],
           "z": [
            0.05665224822911907
           ]
          }
         ],
         "name": "frame77",
         "traces": [
          0
         ]
        },
        {
         "data": [
          {
           "type": "scatter3d",
           "x": [
            78
           ],
           "y": [
            0.510552640928887
           ],
           "z": [
            0.6167129097033182
           ]
          }
         ],
         "name": "frame78",
         "traces": [
          0
         ]
        },
        {
         "data": [
          {
           "type": "scatter3d",
           "x": [
            79
           ],
           "y": [
            0.14385773845192273
           ],
           "z": [
            0.0441877206010266
           ]
          }
         ],
         "name": "frame79",
         "traces": [
          0
         ]
        },
        {
         "data": [
          {
           "type": "scatter3d",
           "x": [
            80
           ],
           "y": [
            0.1414451937361384
           ],
           "z": [
            0.9913899366665723
           ]
          }
         ],
         "name": "frame80",
         "traces": [
          0
         ]
        },
        {
         "data": [
          {
           "type": "scatter3d",
           "x": [
            81
           ],
           "y": [
            0.9146690990666108
           ],
           "z": [
            0.5060612890178906
           ]
          }
         ],
         "name": "frame81",
         "traces": [
          0
         ]
        },
        {
         "data": [
          {
           "type": "scatter3d",
           "x": [
            82
           ],
           "y": [
            0.031103433970636418
           ],
           "z": [
            0.2863654308781314
           ]
          }
         ],
         "name": "frame82",
         "traces": [
          0
         ]
        },
        {
         "data": [
          {
           "type": "scatter3d",
           "x": [
            83
           ],
           "y": [
            0.16889120717012396
           ],
           "z": [
            0.17325218245670837
           ]
          }
         ],
         "name": "frame83",
         "traces": [
          0
         ]
        },
        {
         "data": [
          {
           "type": "scatter3d",
           "x": [
            84
           ],
           "y": [
            0.8766678568989706
           ],
           "z": [
            0.9557459294416891
           ]
          }
         ],
         "name": "frame84",
         "traces": [
          0
         ]
        },
        {
         "data": [
          {
           "type": "scatter3d",
           "x": [
            85
           ],
           "y": [
            0.4576463099155804
           ],
           "z": [
            0.5487789370817516
           ]
          }
         ],
         "name": "frame85",
         "traces": [
          0
         ]
        },
        {
         "data": [
          {
           "type": "scatter3d",
           "x": [
            86
           ],
           "y": [
            0.9341836293892056
           ],
           "z": [
            0.2305624577762473
           ]
          }
         ],
         "name": "frame86",
         "traces": [
          0
         ]
        },
        {
         "data": [
          {
           "type": "scatter3d",
           "x": [
            87
           ],
           "y": [
            0.15364640751814973
           ],
           "z": [
            0.569345511112672
           ]
          }
         ],
         "name": "frame87",
         "traces": [
          0
         ]
        },
        {
         "data": [
          {
           "type": "scatter3d",
           "x": [
            88
           ],
           "y": [
            0.7056472752895369
           ],
           "z": [
            0.7199741229847926
           ]
          }
         ],
         "name": "frame88",
         "traces": [
          0
         ]
        },
        {
         "data": [
          {
           "type": "scatter3d",
           "x": [
            89
           ],
           "y": [
            0.13075870069739137
           ],
           "z": [
            0.9757022200031147
           ]
          }
         ],
         "name": "frame89",
         "traces": [
          0
         ]
        },
        {
         "data": [
          {
           "type": "scatter3d",
           "x": [
            90
           ],
           "y": [
            0.7457537350523057
           ],
           "z": [
            0.810816526221277
           ]
          }
         ],
         "name": "frame90",
         "traces": [
          0
         ]
        },
        {
         "data": [
          {
           "type": "scatter3d",
           "x": [
            91
           ],
           "y": [
            0.45078882329705083
           ],
           "z": [
            0.10779281811165964
           ]
          }
         ],
         "name": "frame91",
         "traces": [
          0
         ]
        },
        {
         "data": [
          {
           "type": "scatter3d",
           "x": [
            92
           ],
           "y": [
            0.8749301733334893
           ],
           "z": [
            0.22927504716611224
           ]
          }
         ],
         "name": "frame92",
         "traces": [
          0
         ]
        },
        {
         "data": [
          {
           "type": "scatter3d",
           "x": [
            93
           ],
           "y": [
            0.7916712775450311
           ],
           "z": [
            0.35406766612756924
           ]
          }
         ],
         "name": "frame93",
         "traces": [
          0
         ]
        },
        {
         "data": [
          {
           "type": "scatter3d",
           "x": [
            94
           ],
           "y": [
            0.665155924397634
           ],
           "z": [
            0.41276027200662346
           ]
          }
         ],
         "name": "frame94",
         "traces": [
          0
         ]
        },
        {
         "data": [
          {
           "type": "scatter3d",
           "x": [
            95
           ],
           "y": [
            0.7017037679266581
           ],
           "z": [
            0.4100421817345127
           ]
          }
         ],
         "name": "frame95",
         "traces": [
          0
         ]
        },
        {
         "data": [
          {
           "type": "scatter3d",
           "x": [
            96
           ],
           "y": [
            0.008786526185471377
           ],
           "z": [
            0.49278445690980655
           ]
          }
         ],
         "name": "frame96",
         "traces": [
          0
         ]
        },
        {
         "data": [
          {
           "type": "scatter3d",
           "x": [
            97
           ],
           "y": [
            0.191911363449342
           ],
           "z": [
            0.8153482349203821
           ]
          }
         ],
         "name": "frame97",
         "traces": [
          0
         ]
        },
        {
         "data": [
          {
           "type": "scatter3d",
           "x": [
            98
           ],
           "y": [
            0.0922166499391911
           ],
           "z": [
            0.8051097080348172
           ]
          }
         ],
         "name": "frame98",
         "traces": [
          0
         ]
        },
        {
         "data": [
          {
           "type": "scatter3d",
           "x": [
            99
           ],
           "y": [
            0.20014169244227697
           ],
           "z": [
            0.38098029664757005
           ]
          }
         ],
         "name": "frame99",
         "traces": [
          0
         ]
        }
       ],
       "layout": {
        "scene": {
         "xaxis": {
          "autorange": false,
          "range": [
           0,
           99
          ]
         },
         "yaxis": {
          "autorange": false,
          "range": [
           0.008786526185471377,
           0.9976352406404119
          ]
         },
         "zaxis": {
          "autorange": false,
          "range": [
           0.009200191913154798,
           0.9913899366665723
          ]
         }
        },
        "template": {
         "data": {
          "bar": [
           {
            "error_x": {
             "color": "#2a3f5f"
            },
            "error_y": {
             "color": "#2a3f5f"
            },
            "marker": {
             "line": {
              "color": "#E5ECF6",
              "width": 0.5
             },
             "pattern": {
              "fillmode": "overlay",
              "size": 10,
              "solidity": 0.2
             }
            },
            "type": "bar"
           }
          ],
          "barpolar": [
           {
            "marker": {
             "line": {
              "color": "#E5ECF6",
              "width": 0.5
             },
             "pattern": {
              "fillmode": "overlay",
              "size": 10,
              "solidity": 0.2
             }
            },
            "type": "barpolar"
           }
          ],
          "carpet": [
           {
            "aaxis": {
             "endlinecolor": "#2a3f5f",
             "gridcolor": "white",
             "linecolor": "white",
             "minorgridcolor": "white",
             "startlinecolor": "#2a3f5f"
            },
            "baxis": {
             "endlinecolor": "#2a3f5f",
             "gridcolor": "white",
             "linecolor": "white",
             "minorgridcolor": "white",
             "startlinecolor": "#2a3f5f"
            },
            "type": "carpet"
           }
          ],
          "choropleth": [
           {
            "colorbar": {
             "outlinewidth": 0,
             "ticks": ""
            },
            "type": "choropleth"
           }
          ],
          "contour": [
           {
            "colorbar": {
             "outlinewidth": 0,
             "ticks": ""
            },
            "colorscale": [
             [
              0,
              "#0d0887"
             ],
             [
              0.1111111111111111,
              "#46039f"
             ],
             [
              0.2222222222222222,
              "#7201a8"
             ],
             [
              0.3333333333333333,
              "#9c179e"
             ],
             [
              0.4444444444444444,
              "#bd3786"
             ],
             [
              0.5555555555555556,
              "#d8576b"
             ],
             [
              0.6666666666666666,
              "#ed7953"
             ],
             [
              0.7777777777777778,
              "#fb9f3a"
             ],
             [
              0.8888888888888888,
              "#fdca26"
             ],
             [
              1,
              "#f0f921"
             ]
            ],
            "type": "contour"
           }
          ],
          "contourcarpet": [
           {
            "colorbar": {
             "outlinewidth": 0,
             "ticks": ""
            },
            "type": "contourcarpet"
           }
          ],
          "heatmap": [
           {
            "colorbar": {
             "outlinewidth": 0,
             "ticks": ""
            },
            "colorscale": [
             [
              0,
              "#0d0887"
             ],
             [
              0.1111111111111111,
              "#46039f"
             ],
             [
              0.2222222222222222,
              "#7201a8"
             ],
             [
              0.3333333333333333,
              "#9c179e"
             ],
             [
              0.4444444444444444,
              "#bd3786"
             ],
             [
              0.5555555555555556,
              "#d8576b"
             ],
             [
              0.6666666666666666,
              "#ed7953"
             ],
             [
              0.7777777777777778,
              "#fb9f3a"
             ],
             [
              0.8888888888888888,
              "#fdca26"
             ],
             [
              1,
              "#f0f921"
             ]
            ],
            "type": "heatmap"
           }
          ],
          "heatmapgl": [
           {
            "colorbar": {
             "outlinewidth": 0,
             "ticks": ""
            },
            "colorscale": [
             [
              0,
              "#0d0887"
             ],
             [
              0.1111111111111111,
              "#46039f"
             ],
             [
              0.2222222222222222,
              "#7201a8"
             ],
             [
              0.3333333333333333,
              "#9c179e"
             ],
             [
              0.4444444444444444,
              "#bd3786"
             ],
             [
              0.5555555555555556,
              "#d8576b"
             ],
             [
              0.6666666666666666,
              "#ed7953"
             ],
             [
              0.7777777777777778,
              "#fb9f3a"
             ],
             [
              0.8888888888888888,
              "#fdca26"
             ],
             [
              1,
              "#f0f921"
             ]
            ],
            "type": "heatmapgl"
           }
          ],
          "histogram": [
           {
            "marker": {
             "pattern": {
              "fillmode": "overlay",
              "size": 10,
              "solidity": 0.2
             }
            },
            "type": "histogram"
           }
          ],
          "histogram2d": [
           {
            "colorbar": {
             "outlinewidth": 0,
             "ticks": ""
            },
            "colorscale": [
             [
              0,
              "#0d0887"
             ],
             [
              0.1111111111111111,
              "#46039f"
             ],
             [
              0.2222222222222222,
              "#7201a8"
             ],
             [
              0.3333333333333333,
              "#9c179e"
             ],
             [
              0.4444444444444444,
              "#bd3786"
             ],
             [
              0.5555555555555556,
              "#d8576b"
             ],
             [
              0.6666666666666666,
              "#ed7953"
             ],
             [
              0.7777777777777778,
              "#fb9f3a"
             ],
             [
              0.8888888888888888,
              "#fdca26"
             ],
             [
              1,
              "#f0f921"
             ]
            ],
            "type": "histogram2d"
           }
          ],
          "histogram2dcontour": [
           {
            "colorbar": {
             "outlinewidth": 0,
             "ticks": ""
            },
            "colorscale": [
             [
              0,
              "#0d0887"
             ],
             [
              0.1111111111111111,
              "#46039f"
             ],
             [
              0.2222222222222222,
              "#7201a8"
             ],
             [
              0.3333333333333333,
              "#9c179e"
             ],
             [
              0.4444444444444444,
              "#bd3786"
             ],
             [
              0.5555555555555556,
              "#d8576b"
             ],
             [
              0.6666666666666666,
              "#ed7953"
             ],
             [
              0.7777777777777778,
              "#fb9f3a"
             ],
             [
              0.8888888888888888,
              "#fdca26"
             ],
             [
              1,
              "#f0f921"
             ]
            ],
            "type": "histogram2dcontour"
           }
          ],
          "mesh3d": [
           {
            "colorbar": {
             "outlinewidth": 0,
             "ticks": ""
            },
            "type": "mesh3d"
           }
          ],
          "parcoords": [
           {
            "line": {
             "colorbar": {
              "outlinewidth": 0,
              "ticks": ""
             }
            },
            "type": "parcoords"
           }
          ],
          "pie": [
           {
            "automargin": true,
            "type": "pie"
           }
          ],
          "scatter": [
           {
            "fillpattern": {
             "fillmode": "overlay",
             "size": 10,
             "solidity": 0.2
            },
            "type": "scatter"
           }
          ],
          "scatter3d": [
           {
            "line": {
             "colorbar": {
              "outlinewidth": 0,
              "ticks": ""
             }
            },
            "marker": {
             "colorbar": {
              "outlinewidth": 0,
              "ticks": ""
             }
            },
            "type": "scatter3d"
           }
          ],
          "scattercarpet": [
           {
            "marker": {
             "colorbar": {
              "outlinewidth": 0,
              "ticks": ""
             }
            },
            "type": "scattercarpet"
           }
          ],
          "scattergeo": [
           {
            "marker": {
             "colorbar": {
              "outlinewidth": 0,
              "ticks": ""
             }
            },
            "type": "scattergeo"
           }
          ],
          "scattergl": [
           {
            "marker": {
             "colorbar": {
              "outlinewidth": 0,
              "ticks": ""
             }
            },
            "type": "scattergl"
           }
          ],
          "scattermapbox": [
           {
            "marker": {
             "colorbar": {
              "outlinewidth": 0,
              "ticks": ""
             }
            },
            "type": "scattermapbox"
           }
          ],
          "scatterpolar": [
           {
            "marker": {
             "colorbar": {
              "outlinewidth": 0,
              "ticks": ""
             }
            },
            "type": "scatterpolar"
           }
          ],
          "scatterpolargl": [
           {
            "marker": {
             "colorbar": {
              "outlinewidth": 0,
              "ticks": ""
             }
            },
            "type": "scatterpolargl"
           }
          ],
          "scatterternary": [
           {
            "marker": {
             "colorbar": {
              "outlinewidth": 0,
              "ticks": ""
             }
            },
            "type": "scatterternary"
           }
          ],
          "surface": [
           {
            "colorbar": {
             "outlinewidth": 0,
             "ticks": ""
            },
            "colorscale": [
             [
              0,
              "#0d0887"
             ],
             [
              0.1111111111111111,
              "#46039f"
             ],
             [
              0.2222222222222222,
              "#7201a8"
             ],
             [
              0.3333333333333333,
              "#9c179e"
             ],
             [
              0.4444444444444444,
              "#bd3786"
             ],
             [
              0.5555555555555556,
              "#d8576b"
             ],
             [
              0.6666666666666666,
              "#ed7953"
             ],
             [
              0.7777777777777778,
              "#fb9f3a"
             ],
             [
              0.8888888888888888,
              "#fdca26"
             ],
             [
              1,
              "#f0f921"
             ]
            ],
            "type": "surface"
           }
          ],
          "table": [
           {
            "cells": {
             "fill": {
              "color": "#EBF0F8"
             },
             "line": {
              "color": "white"
             }
            },
            "header": {
             "fill": {
              "color": "#C8D4E3"
             },
             "line": {
              "color": "white"
             }
            },
            "type": "table"
           }
          ]
         },
         "layout": {
          "annotationdefaults": {
           "arrowcolor": "#2a3f5f",
           "arrowhead": 0,
           "arrowwidth": 1
          },
          "autotypenumbers": "strict",
          "coloraxis": {
           "colorbar": {
            "outlinewidth": 0,
            "ticks": ""
           }
          },
          "colorscale": {
           "diverging": [
            [
             0,
             "#8e0152"
            ],
            [
             0.1,
             "#c51b7d"
            ],
            [
             0.2,
             "#de77ae"
            ],
            [
             0.3,
             "#f1b6da"
            ],
            [
             0.4,
             "#fde0ef"
            ],
            [
             0.5,
             "#f7f7f7"
            ],
            [
             0.6,
             "#e6f5d0"
            ],
            [
             0.7,
             "#b8e186"
            ],
            [
             0.8,
             "#7fbc41"
            ],
            [
             0.9,
             "#4d9221"
            ],
            [
             1,
             "#276419"
            ]
           ],
           "sequential": [
            [
             0,
             "#0d0887"
            ],
            [
             0.1111111111111111,
             "#46039f"
            ],
            [
             0.2222222222222222,
             "#7201a8"
            ],
            [
             0.3333333333333333,
             "#9c179e"
            ],
            [
             0.4444444444444444,
             "#bd3786"
            ],
            [
             0.5555555555555556,
             "#d8576b"
            ],
            [
             0.6666666666666666,
             "#ed7953"
            ],
            [
             0.7777777777777778,
             "#fb9f3a"
            ],
            [
             0.8888888888888888,
             "#fdca26"
            ],
            [
             1,
             "#f0f921"
            ]
           ],
           "sequentialminus": [
            [
             0,
             "#0d0887"
            ],
            [
             0.1111111111111111,
             "#46039f"
            ],
            [
             0.2222222222222222,
             "#7201a8"
            ],
            [
             0.3333333333333333,
             "#9c179e"
            ],
            [
             0.4444444444444444,
             "#bd3786"
            ],
            [
             0.5555555555555556,
             "#d8576b"
            ],
            [
             0.6666666666666666,
             "#ed7953"
            ],
            [
             0.7777777777777778,
             "#fb9f3a"
            ],
            [
             0.8888888888888888,
             "#fdca26"
            ],
            [
             1,
             "#f0f921"
            ]
           ]
          },
          "colorway": [
           "#636efa",
           "#EF553B",
           "#00cc96",
           "#ab63fa",
           "#FFA15A",
           "#19d3f3",
           "#FF6692",
           "#B6E880",
           "#FF97FF",
           "#FECB52"
          ],
          "font": {
           "color": "#2a3f5f"
          },
          "geo": {
           "bgcolor": "white",
           "lakecolor": "white",
           "landcolor": "#E5ECF6",
           "showlakes": true,
           "showland": true,
           "subunitcolor": "white"
          },
          "hoverlabel": {
           "align": "left"
          },
          "hovermode": "closest",
          "mapbox": {
           "style": "light"
          },
          "paper_bgcolor": "white",
          "plot_bgcolor": "#E5ECF6",
          "polar": {
           "angularaxis": {
            "gridcolor": "white",
            "linecolor": "white",
            "ticks": ""
           },
           "bgcolor": "#E5ECF6",
           "radialaxis": {
            "gridcolor": "white",
            "linecolor": "white",
            "ticks": ""
           }
          },
          "scene": {
           "xaxis": {
            "backgroundcolor": "#E5ECF6",
            "gridcolor": "white",
            "gridwidth": 2,
            "linecolor": "white",
            "showbackground": true,
            "ticks": "",
            "zerolinecolor": "white"
           },
           "yaxis": {
            "backgroundcolor": "#E5ECF6",
            "gridcolor": "white",
            "gridwidth": 2,
            "linecolor": "white",
            "showbackground": true,
            "ticks": "",
            "zerolinecolor": "white"
           },
           "zaxis": {
            "backgroundcolor": "#E5ECF6",
            "gridcolor": "white",
            "gridwidth": 2,
            "linecolor": "white",
            "showbackground": true,
            "ticks": "",
            "zerolinecolor": "white"
           }
          },
          "shapedefaults": {
           "line": {
            "color": "#2a3f5f"
           }
          },
          "ternary": {
           "aaxis": {
            "gridcolor": "white",
            "linecolor": "white",
            "ticks": ""
           },
           "baxis": {
            "gridcolor": "white",
            "linecolor": "white",
            "ticks": ""
           },
           "bgcolor": "#E5ECF6",
           "caxis": {
            "gridcolor": "white",
            "linecolor": "white",
            "ticks": ""
           }
          },
          "title": {
           "x": 0.05
          },
          "xaxis": {
           "automargin": true,
           "gridcolor": "white",
           "linecolor": "white",
           "ticks": "",
           "title": {
            "standoff": 15
           },
           "zerolinecolor": "white",
           "zerolinewidth": 2
          },
          "yaxis": {
           "automargin": true,
           "gridcolor": "white",
           "linecolor": "white",
           "ticks": "",
           "title": {
            "standoff": 15
           },
           "zerolinecolor": "white",
           "zerolinewidth": 2
          }
         }
        },
        "updatemenus": [
         {
          "buttons": [
           {
            "args": [
             null,
             {
              "frame": {
               "fromcurrent": true,
               "mode": "immediate",
               "redraw": true
              }
             }
            ],
            "label": "Play",
            "method": "animate"
           }
          ],
          "type": "buttons"
         }
        ]
       }
      }
     },
     "metadata": {},
     "output_type": "display_data"
    }
   ],
   "source": [
    "import numpy as np\n",
    "import plotly.graph_objects as go\n",
    "\n",
    "#x,y,z = np.genfromtxt(r'dat.txt', unpack=True)\n",
    "x = np.arange(100)\n",
    "y = np.random.random(100)\n",
    "z = np.random.random(100)\n",
    "\n",
    "# Create figure\n",
    "fig = go.Figure(\n",
    "    data=[go.Scatter3d(x=[], y=[], z=[],\n",
    "                     mode=\"markers\",marker=dict(color=\"red\", size=10))])\n",
    "    \n",
    "fig.update_layout(    \n",
    "    scene = dict(\n",
    "        \n",
    "        xaxis=dict(range=[min(x), max(x)], autorange=False),\n",
    "        yaxis=dict(range=[min(y), max(y)], autorange=False),\n",
    "        zaxis=dict(range=[min(z), max(z)], autorange=False),\n",
    "        )),\n",
    "\n",
    "\n",
    "frames = [go.Frame(data= [go.Scatter3d(\n",
    "                                       x=x[[k]], \n",
    "                                       y=y[[k]],\n",
    "                                       z=z[[k]])],\n",
    "                   \n",
    "                   traces= [0],\n",
    "                   name=f'frame{k}'      \n",
    "                  )for k  in  range(len(x))]\n",
    "fig.update(frames=frames),\n",
    "\n",
    "\n",
    "\n",
    "\n",
    "fig.update_layout(updatemenus=[dict(type=\"buttons\",\n",
    "                          buttons=[dict(label=\"Play\",\n",
    "                                        method=\"animate\",\n",
    "                                        args=[None, dict(frame=dict(redraw=True,fromcurrent=True, mode='immediate'))      ])])])\n",
    "\n",
    "\n",
    "fig.show()\n"
   ]
  },
  {
   "cell_type": "code",
   "execution_count": 12,
   "metadata": {},
   "outputs": [],
   "source": [
    "import pandas as pd\n",
    "import io\n",
    "import os\n",
    "import glob\n",
    "from dataclasses import dataclass\n",
    "import matplotlib.pyplot as plt\n",
    "import numpy as np\n",
    "\n",
    "\n",
    "@dataclass\n",
    "class MocapLowerLandmark :\n",
    "    LANK: np.ndarray = None # 0\n",
    "    LASI: np.ndarray = None # 1\n",
    "    LHEE: np.ndarray = None # 2\n",
    "    LKNE: np.ndarray = None # 3\n",
    "    LPSI: np.ndarray = None # 4\n",
    "    LTHI: np.ndarray = None # 5\n",
    "    LTIB: np.ndarray = None # 6\n",
    "    LTOE: np.ndarray = None # 7\n",
    "    RANK: np.ndarray = None # 8\n",
    "    RASI: np.ndarray = None # 9\n",
    "    RHEE: np.ndarray = None # 10\n",
    "    RKNE: np.ndarray = None # 11\n",
    "    RPSI: np.ndarray = None # 12\n",
    "    RTHI: np.ndarray = None # 13\n",
    "    RTIB: np.ndarray = None # 14\n",
    "    RTOE: np.ndarray = None # 15\n",
    "    \n",
    "    CONN_PATH_LIST = [\n",
    "         7,  2,  0,  3,  1,  4, \n",
    "        12,  9, 11,  8, 10, 15\n",
    "    ]\n",
    "\n",
    "    @staticmethod\n",
    "    def calcKneeDegrees(mocap_df, idx = 0) :\n",
    "        raw_val = mocap_df.loc[:, ~mocap_df.columns.isin([\"Frame\", \"Time (Seconds)\"]) ].to_numpy()\n",
    "        raw_val = raw_val[idx].reshape(16, 3)\n",
    "\n",
    "        rthai = raw_val[9] - raw_val[11]\n",
    "        rcalf = raw_val[8] - raw_val[11]\n",
    "\n",
    "        lthai = raw_val[1] - raw_val[3]\n",
    "        lcalf = raw_val[0] - raw_val[3]\n",
    "\n",
    "        rthai_unit = rthai / np.linalg.norm(rthai)\n",
    "        rcalf_unit = rcalf / np.linalg.norm(rcalf)\n",
    "\n",
    "        lthai_unit = lthai / np.linalg.norm(lthai)\n",
    "        lcalf_unit = lcalf / np.linalg.norm(lcalf)\n",
    "\n",
    "        rangle = np.arccos(np.dot(rthai_unit, rcalf_unit))\n",
    "        langle = np.arccos(np.dot(lthai_unit, lcalf_unit))\n",
    "\n",
    "        return langle, rangle\n",
    "\n",
    "    @staticmethod\n",
    "    def df2landmark(mocap_df, idx = 0) :\n",
    "        raw_val = mocap_df.loc[:, ~mocap_df.columns.isin([\"Frame\", \"Time (Seconds)\"]) ].to_numpy()\n",
    "        return raw_val[idx].reshape(16, 3)\n",
    "\n",
    "\n",
    "def read_whole_data(trial_idx, experiment_idx) :\n",
    "    FORCE_PLATE_1_PATH = f\"/Volumes/HJP/CODES/mocap/data/d1/230626_Group7_trial{trial_idx}_{experiment_idx:03}_forceplate_1.csv\"\n",
    "    FORCE_PLATE_2_PATH = f\"/Volumes/HJP/CODES/mocap/data/d1/230626_Group7_trial{trial_idx}_{experiment_idx:03}_forceplate_2.csv\"\n",
    "    MOCAP_PATH = f\"/Volumes/HJP/CODES/mocap/data/d1/230626_Group7_trial{trial_idx}_{experiment_idx:03}.csv\"\n",
    "    EMG_PATH = f\"/Volumes/HJP/CODES/mocap/data/d1/230626_Group7_trial{trial_idx}_{experiment_idx:03}_Trigno_2883.csv\"\n",
    "\n",
    "    \n",
    "    with open(FORCE_PLATE_1_PATH, \"r\") as fp :\n",
    "        lines = fp.readlines()\n",
    "    raw_text = \"\".join(lines)\n",
    "    table = raw_text.split(\"\\n\\n\")[-1]\n",
    "    fp1_df = pd.read_csv(io.StringIO(table))\n",
    "\n",
    "    with open(FORCE_PLATE_2_PATH, \"r\") as fp :\n",
    "        lines = fp.readlines()\n",
    "    raw_text = \"\".join(lines)\n",
    "    table = raw_text.split(\"\\n\\n\")[-1]\n",
    "    fp2_df = pd.read_csv(io.StringIO(table))\n",
    "\n",
    "    with open(EMG_PATH, \"r\") as fp :\n",
    "        lines = fp.readlines()\n",
    "    raw_text = \"\".join(lines)\n",
    "    table = raw_text.split(\"\\n\\n\")[-1]\n",
    "    emg_df = pd.read_csv(io.StringIO(table))\n",
    "\n",
    "    with open(MOCAP_PATH, \"r\") as fp :\n",
    "        lines = fp.readlines()\n",
    "    mocap_df = pd.read_csv(io.StringIO( ''.join(lines[6:]) ))\n",
    "    \n",
    "    return mocap_df, emg_df, fp1_df, fp2_df\n",
    "\n",
    "mocap_df, emg_df, fp1_df, fp2_df = read_whole_data(2, 1)"
   ]
  },
  {
   "cell_type": "code",
   "execution_count": 39,
   "metadata": {},
   "outputs": [
    {
     "data": {
      "application/vnd.plotly.v1+json": {
       "config": {
        "plotlyServerURL": "https://plot.ly"
       },
       "data": [
        {
         "marker": {
          "color": "red",
          "size": 10
         },
         "mode": "markers",
         "type": "scatter3d",
         "x": [],
         "y": [],
         "z": []
        }
       ],
       "frames": [
        {
         "data": [
          {
           "type": "scatter3d",
           "x": [
            0
           ],
           "y": [
            0.3836763890340631
           ],
           "z": [
            0.3577319268437794
           ]
          }
         ],
         "name": "frame0",
         "traces": [
          0
         ]
        },
        {
         "data": [
          {
           "type": "scatter3d",
           "x": [
            1
           ],
           "y": [
            0.027926234830138452
           ],
           "z": [
            0.6203712554988656
           ]
          }
         ],
         "name": "frame1",
         "traces": [
          0
         ]
        },
        {
         "data": [
          {
           "type": "scatter3d",
           "x": [
            2
           ],
           "y": [
            0.5132425124332004
           ],
           "z": [
            0.4151195708583333
           ]
          }
         ],
         "name": "frame2",
         "traces": [
          0
         ]
        },
        {
         "data": [
          {
           "type": "scatter3d",
           "x": [
            3
           ],
           "y": [
            0.4731434203358401
           ],
           "z": [
            0.8633824678031369
           ]
          }
         ],
         "name": "frame3",
         "traces": [
          0
         ]
        },
        {
         "data": [
          {
           "type": "scatter3d",
           "x": [
            4
           ],
           "y": [
            0.04572835062583347
           ],
           "z": [
            0.9883225939821486
           ]
          }
         ],
         "name": "frame4",
         "traces": [
          0
         ]
        },
        {
         "data": [
          {
           "type": "scatter3d",
           "x": [
            5
           ],
           "y": [
            0.023989344426563863
           ],
           "z": [
            0.8465628737688641
           ]
          }
         ],
         "name": "frame5",
         "traces": [
          0
         ]
        },
        {
         "data": [
          {
           "type": "scatter3d",
           "x": [
            6
           ],
           "y": [
            0.9648396870221054
           ],
           "z": [
            0.6653932425684596
           ]
          }
         ],
         "name": "frame6",
         "traces": [
          0
         ]
        },
        {
         "data": [
          {
           "type": "scatter3d",
           "x": [
            7
           ],
           "y": [
            0.026048314497971292
           ],
           "z": [
            0.6542828879305546
           ]
          }
         ],
         "name": "frame7",
         "traces": [
          0
         ]
        },
        {
         "data": [
          {
           "type": "scatter3d",
           "x": [
            8
           ],
           "y": [
            0.7452377900692827
           ],
           "z": [
            0.6516769922133664
           ]
          }
         ],
         "name": "frame8",
         "traces": [
          0
         ]
        },
        {
         "data": [
          {
           "type": "scatter3d",
           "x": [
            9
           ],
           "y": [
            0.5883388085941377
           ],
           "z": [
            0.4737872732536531
           ]
          }
         ],
         "name": "frame9",
         "traces": [
          0
         ]
        },
        {
         "data": [
          {
           "type": "scatter3d",
           "x": [
            10
           ],
           "y": [
            0.7804223691095445
           ],
           "z": [
            0.8774220160918176
           ]
          }
         ],
         "name": "frame10",
         "traces": [
          0
         ]
        },
        {
         "data": [
          {
           "type": "scatter3d",
           "x": [
            11
           ],
           "y": [
            0.614309677058269
           ],
           "z": [
            0.4546781777785637
           ]
          }
         ],
         "name": "frame11",
         "traces": [
          0
         ]
        },
        {
         "data": [
          {
           "type": "scatter3d",
           "x": [
            12
           ],
           "y": [
            0.22425265005553552
           ],
           "z": [
            0.320995858649896
           ]
          }
         ],
         "name": "frame12",
         "traces": [
          0
         ]
        },
        {
         "data": [
          {
           "type": "scatter3d",
           "x": [
            13
           ],
           "y": [
            0.009891980689821445
           ],
           "z": [
            0.38994097741271094
           ]
          }
         ],
         "name": "frame13",
         "traces": [
          0
         ]
        },
        {
         "data": [
          {
           "type": "scatter3d",
           "x": [
            14
           ],
           "y": [
            0.7865451383846721
           ],
           "z": [
            0.2439677219979215
           ]
          }
         ],
         "name": "frame14",
         "traces": [
          0
         ]
        },
        {
         "data": [
          {
           "type": "scatter3d",
           "x": [
            15
           ],
           "y": [
            0.8765276546868244
           ],
           "z": [
            0.17887320802530948
           ]
          }
         ],
         "name": "frame15",
         "traces": [
          0
         ]
        },
        {
         "data": [
          {
           "type": "scatter3d",
           "x": [
            16
           ],
           "y": [
            0.157824647360303
           ],
           "z": [
            0.2482893363141142
           ]
          }
         ],
         "name": "frame16",
         "traces": [
          0
         ]
        },
        {
         "data": [
          {
           "type": "scatter3d",
           "x": [
            17
           ],
           "y": [
            0.3235125061140659
           ],
           "z": [
            0.0989240589657654
           ]
          }
         ],
         "name": "frame17",
         "traces": [
          0
         ]
        },
        {
         "data": [
          {
           "type": "scatter3d",
           "x": [
            18
           ],
           "y": [
            0.12490292127124214
           ],
           "z": [
            0.33845536172107626
           ]
          }
         ],
         "name": "frame18",
         "traces": [
          0
         ]
        },
        {
         "data": [
          {
           "type": "scatter3d",
           "x": [
            19
           ],
           "y": [
            0.5560761847858932
           ],
           "z": [
            0.7146802721588541
           ]
          }
         ],
         "name": "frame19",
         "traces": [
          0
         ]
        },
        {
         "data": [
          {
           "type": "scatter3d",
           "x": [
            20
           ],
           "y": [
            0.42467514937286377
           ],
           "z": [
            0.5995741119981189
           ]
          }
         ],
         "name": "frame20",
         "traces": [
          0
         ]
        },
        {
         "data": [
          {
           "type": "scatter3d",
           "x": [
            21
           ],
           "y": [
            0.10347715932490853
           ],
           "z": [
            0.014570604431748846
           ]
          }
         ],
         "name": "frame21",
         "traces": [
          0
         ]
        },
        {
         "data": [
          {
           "type": "scatter3d",
           "x": [
            22
           ],
           "y": [
            0.29496377613743363
           ],
           "z": [
            0.08196573946470065
           ]
          }
         ],
         "name": "frame22",
         "traces": [
          0
         ]
        },
        {
         "data": [
          {
           "type": "scatter3d",
           "x": [
            23
           ],
           "y": [
            0.9360477452363735
           ],
           "z": [
            0.311471546780797
           ]
          }
         ],
         "name": "frame23",
         "traces": [
          0
         ]
        },
        {
         "data": [
          {
           "type": "scatter3d",
           "x": [
            24
           ],
           "y": [
            0.576676499997987
           ],
           "z": [
            0.7342856468871407
           ]
          }
         ],
         "name": "frame24",
         "traces": [
          0
         ]
        },
        {
         "data": [
          {
           "type": "scatter3d",
           "x": [
            25
           ],
           "y": [
            0.3563224430412576
           ],
           "z": [
            0.5260147639127838
           ]
          }
         ],
         "name": "frame25",
         "traces": [
          0
         ]
        },
        {
         "data": [
          {
           "type": "scatter3d",
           "x": [
            26
           ],
           "y": [
            0.3940673618091115
           ],
           "z": [
            0.107000984957488
           ]
          }
         ],
         "name": "frame26",
         "traces": [
          0
         ]
        },
        {
         "data": [
          {
           "type": "scatter3d",
           "x": [
            27
           ],
           "y": [
            0.6596234543006356
           ],
           "z": [
            0.021047770248564968
           ]
          }
         ],
         "name": "frame27",
         "traces": [
          0
         ]
        },
        {
         "data": [
          {
           "type": "scatter3d",
           "x": [
            28
           ],
           "y": [
            0.390207610807196
           ],
           "z": [
            0.4486779116321231
           ]
          }
         ],
         "name": "frame28",
         "traces": [
          0
         ]
        },
        {
         "data": [
          {
           "type": "scatter3d",
           "x": [
            29
           ],
           "y": [
            0.0031390849928557563
           ],
           "z": [
            0.5888896245574796
           ]
          }
         ],
         "name": "frame29",
         "traces": [
          0
         ]
        },
        {
         "data": [
          {
           "type": "scatter3d",
           "x": [
            30
           ],
           "y": [
            0.9323068596189514
           ],
           "z": [
            0.7965253201776057
           ]
          }
         ],
         "name": "frame30",
         "traces": [
          0
         ]
        },
        {
         "data": [
          {
           "type": "scatter3d",
           "x": [
            31
           ],
           "y": [
            0.06978213215495921
           ],
           "z": [
            0.0013015315891092838
           ]
          }
         ],
         "name": "frame31",
         "traces": [
          0
         ]
        },
        {
         "data": [
          {
           "type": "scatter3d",
           "x": [
            32
           ],
           "y": [
            0.7304774604102957
           ],
           "z": [
            0.6605206249550394
           ]
          }
         ],
         "name": "frame32",
         "traces": [
          0
         ]
        },
        {
         "data": [
          {
           "type": "scatter3d",
           "x": [
            33
           ],
           "y": [
            0.9297807843062869
           ],
           "z": [
            0.03131452331878193
           ]
          }
         ],
         "name": "frame33",
         "traces": [
          0
         ]
        },
        {
         "data": [
          {
           "type": "scatter3d",
           "x": [
            34
           ],
           "y": [
            0.43114921729110556
           ],
           "z": [
            0.1634862367306319
           ]
          }
         ],
         "name": "frame34",
         "traces": [
          0
         ]
        },
        {
         "data": [
          {
           "type": "scatter3d",
           "x": [
            35
           ],
           "y": [
            0.5196540717793969
           ],
           "z": [
            0.7830726172390579
           ]
          }
         ],
         "name": "frame35",
         "traces": [
          0
         ]
        },
        {
         "data": [
          {
           "type": "scatter3d",
           "x": [
            36
           ],
           "y": [
            0.7388501539768576
           ],
           "z": [
            0.8763868848093727
           ]
          }
         ],
         "name": "frame36",
         "traces": [
          0
         ]
        },
        {
         "data": [
          {
           "type": "scatter3d",
           "x": [
            37
           ],
           "y": [
            0.9538151273211439
           ],
           "z": [
            0.2346118970281834
           ]
          }
         ],
         "name": "frame37",
         "traces": [
          0
         ]
        },
        {
         "data": [
          {
           "type": "scatter3d",
           "x": [
            38
           ],
           "y": [
            0.2994556697130554
           ],
           "z": [
            0.13752967677180372
           ]
          }
         ],
         "name": "frame38",
         "traces": [
          0
         ]
        },
        {
         "data": [
          {
           "type": "scatter3d",
           "x": [
            39
           ],
           "y": [
            0.24649331416292686
           ],
           "z": [
            0.14909891768877337
           ]
          }
         ],
         "name": "frame39",
         "traces": [
          0
         ]
        },
        {
         "data": [
          {
           "type": "scatter3d",
           "x": [
            40
           ],
           "y": [
            0.9063562770594908
           ],
           "z": [
            0.7254385269481639
           ]
          }
         ],
         "name": "frame40",
         "traces": [
          0
         ]
        },
        {
         "data": [
          {
           "type": "scatter3d",
           "x": [
            41
           ],
           "y": [
            0.3080946623864046
           ],
           "z": [
            0.7219053084577718
           ]
          }
         ],
         "name": "frame41",
         "traces": [
          0
         ]
        },
        {
         "data": [
          {
           "type": "scatter3d",
           "x": [
            42
           ],
           "y": [
            0.7905839660963684
           ],
           "z": [
            0.18198082819671868
           ]
          }
         ],
         "name": "frame42",
         "traces": [
          0
         ]
        },
        {
         "data": [
          {
           "type": "scatter3d",
           "x": [
            43
           ],
           "y": [
            0.336447414544803
           ],
           "z": [
            0.024902544778561464
           ]
          }
         ],
         "name": "frame43",
         "traces": [
          0
         ]
        },
        {
         "data": [
          {
           "type": "scatter3d",
           "x": [
            44
           ],
           "y": [
            0.7933958820559216
           ],
           "z": [
            0.7100623253562485
           ]
          }
         ],
         "name": "frame44",
         "traces": [
          0
         ]
        },
        {
         "data": [
          {
           "type": "scatter3d",
           "x": [
            45
           ],
           "y": [
            0.01216394999929249
           ],
           "z": [
            0.18113816385807624
           ]
          }
         ],
         "name": "frame45",
         "traces": [
          0
         ]
        },
        {
         "data": [
          {
           "type": "scatter3d",
           "x": [
            46
           ],
           "y": [
            0.391805593996954
           ],
           "z": [
            0.9926258718287889
           ]
          }
         ],
         "name": "frame46",
         "traces": [
          0
         ]
        },
        {
         "data": [
          {
           "type": "scatter3d",
           "x": [
            47
           ],
           "y": [
            0.18595166655346085
           ],
           "z": [
            0.7600778401305794
           ]
          }
         ],
         "name": "frame47",
         "traces": [
          0
         ]
        },
        {
         "data": [
          {
           "type": "scatter3d",
           "x": [
            48
           ],
           "y": [
            0.7981288300609634
           ],
           "z": [
            0.8644539641273321
           ]
          }
         ],
         "name": "frame48",
         "traces": [
          0
         ]
        },
        {
         "data": [
          {
           "type": "scatter3d",
           "x": [
            49
           ],
           "y": [
            0.33902976976664523
           ],
           "z": [
            0.4409675961627654
           ]
          }
         ],
         "name": "frame49",
         "traces": [
          0
         ]
        },
        {
         "data": [
          {
           "type": "scatter3d",
           "x": [
            50
           ],
           "y": [
            0.01299439146535275
           ],
           "z": [
            0.5241666712725997
           ]
          }
         ],
         "name": "frame50",
         "traces": [
          0
         ]
        },
        {
         "data": [
          {
           "type": "scatter3d",
           "x": [
            51
           ],
           "y": [
            0.16623253112259584
           ],
           "z": [
            0.948506207874044
           ]
          }
         ],
         "name": "frame51",
         "traces": [
          0
         ]
        },
        {
         "data": [
          {
           "type": "scatter3d",
           "x": [
            52
           ],
           "y": [
            0.09763374439408112
           ],
           "z": [
            0.1482136338626413
           ]
          }
         ],
         "name": "frame52",
         "traces": [
          0
         ]
        },
        {
         "data": [
          {
           "type": "scatter3d",
           "x": [
            53
           ],
           "y": [
            0.43291603777160137
           ],
           "z": [
            0.12034232198503736
           ]
          }
         ],
         "name": "frame53",
         "traces": [
          0
         ]
        },
        {
         "data": [
          {
           "type": "scatter3d",
           "x": [
            54
           ],
           "y": [
            0.9694528452285276
           ],
           "z": [
            0.2685660659036403
           ]
          }
         ],
         "name": "frame54",
         "traces": [
          0
         ]
        },
        {
         "data": [
          {
           "type": "scatter3d",
           "x": [
            55
           ],
           "y": [
            0.28977888297638676
           ],
           "z": [
            0.2852357528805628
           ]
          }
         ],
         "name": "frame55",
         "traces": [
          0
         ]
        },
        {
         "data": [
          {
           "type": "scatter3d",
           "x": [
            56
           ],
           "y": [
            0.7656833065560931
           ],
           "z": [
            0.30148391868963853
           ]
          }
         ],
         "name": "frame56",
         "traces": [
          0
         ]
        },
        {
         "data": [
          {
           "type": "scatter3d",
           "x": [
            57
           ],
           "y": [
            0.5347041637524994
           ],
           "z": [
            0.05247117177005334
           ]
          }
         ],
         "name": "frame57",
         "traces": [
          0
         ]
        },
        {
         "data": [
          {
           "type": "scatter3d",
           "x": [
            58
           ],
           "y": [
            0.07024474415541615
           ],
           "z": [
            0.949904494481499
           ]
          }
         ],
         "name": "frame58",
         "traces": [
          0
         ]
        },
        {
         "data": [
          {
           "type": "scatter3d",
           "x": [
            59
           ],
           "y": [
            0.3558771043960498
           ],
           "z": [
            0.0797668998558142
           ]
          }
         ],
         "name": "frame59",
         "traces": [
          0
         ]
        },
        {
         "data": [
          {
           "type": "scatter3d",
           "x": [
            60
           ],
           "y": [
            0.69425723088678
           ],
           "z": [
            0.11114502995768016
           ]
          }
         ],
         "name": "frame60",
         "traces": [
          0
         ]
        },
        {
         "data": [
          {
           "type": "scatter3d",
           "x": [
            61
           ],
           "y": [
            0.08235394116388872
           ],
           "z": [
            0.6855655441396691
           ]
          }
         ],
         "name": "frame61",
         "traces": [
          0
         ]
        },
        {
         "data": [
          {
           "type": "scatter3d",
           "x": [
            62
           ],
           "y": [
            0.9103541015903788
           ],
           "z": [
            0.697601942645685
           ]
          }
         ],
         "name": "frame62",
         "traces": [
          0
         ]
        },
        {
         "data": [
          {
           "type": "scatter3d",
           "x": [
            63
           ],
           "y": [
            0.8910101865542182
           ],
           "z": [
            0.5537583685315254
           ]
          }
         ],
         "name": "frame63",
         "traces": [
          0
         ]
        },
        {
         "data": [
          {
           "type": "scatter3d",
           "x": [
            64
           ],
           "y": [
            0.6404380273838335
           ],
           "z": [
            0.9737643366307909
           ]
          }
         ],
         "name": "frame64",
         "traces": [
          0
         ]
        },
        {
         "data": [
          {
           "type": "scatter3d",
           "x": [
            65
           ],
           "y": [
            0.46520596641160716
           ],
           "z": [
            0.11844940275483529
           ]
          }
         ],
         "name": "frame65",
         "traces": [
          0
         ]
        },
        {
         "data": [
          {
           "type": "scatter3d",
           "x": [
            66
           ],
           "y": [
            0.2660188439629936
           ],
           "z": [
            0.33361594145971485
           ]
          }
         ],
         "name": "frame66",
         "traces": [
          0
         ]
        },
        {
         "data": [
          {
           "type": "scatter3d",
           "x": [
            67
           ],
           "y": [
            0.9994589085062991
           ],
           "z": [
            0.37400807846054307
           ]
          }
         ],
         "name": "frame67",
         "traces": [
          0
         ]
        },
        {
         "data": [
          {
           "type": "scatter3d",
           "x": [
            68
           ],
           "y": [
            0.12414249645393338
           ],
           "z": [
            0.5461674285638453
           ]
          }
         ],
         "name": "frame68",
         "traces": [
          0
         ]
        },
        {
         "data": [
          {
           "type": "scatter3d",
           "x": [
            69
           ],
           "y": [
            0.1144459188131921
           ],
           "z": [
            0.39235230297748247
           ]
          }
         ],
         "name": "frame69",
         "traces": [
          0
         ]
        },
        {
         "data": [
          {
           "type": "scatter3d",
           "x": [
            70
           ],
           "y": [
            0.4436965199159957
           ],
           "z": [
            0.3667238298475298
           ]
          }
         ],
         "name": "frame70",
         "traces": [
          0
         ]
        },
        {
         "data": [
          {
           "type": "scatter3d",
           "x": [
            71
           ],
           "y": [
            0.214923884055358
           ],
           "z": [
            0.3785069155822466
           ]
          }
         ],
         "name": "frame71",
         "traces": [
          0
         ]
        },
        {
         "data": [
          {
           "type": "scatter3d",
           "x": [
            72
           ],
           "y": [
            0.7734315714479392
           ],
           "z": [
            0.46371878007800127
           ]
          }
         ],
         "name": "frame72",
         "traces": [
          0
         ]
        },
        {
         "data": [
          {
           "type": "scatter3d",
           "x": [
            73
           ],
           "y": [
            0.33630991649059616
           ],
           "z": [
            0.04615058049962195
           ]
          }
         ],
         "name": "frame73",
         "traces": [
          0
         ]
        },
        {
         "data": [
          {
           "type": "scatter3d",
           "x": [
            74
           ],
           "y": [
            0.0893797581998792
           ],
           "z": [
            0.8939059483338131
           ]
          }
         ],
         "name": "frame74",
         "traces": [
          0
         ]
        },
        {
         "data": [
          {
           "type": "scatter3d",
           "x": [
            75
           ],
           "y": [
            0.07206958705789379
           ],
           "z": [
            0.008290138437916372
           ]
          }
         ],
         "name": "frame75",
         "traces": [
          0
         ]
        },
        {
         "data": [
          {
           "type": "scatter3d",
           "x": [
            76
           ],
           "y": [
            0.14758929236959406
           ],
           "z": [
            0.9716187766396219
           ]
          }
         ],
         "name": "frame76",
         "traces": [
          0
         ]
        },
        {
         "data": [
          {
           "type": "scatter3d",
           "x": [
            77
           ],
           "y": [
            0.00980177462502918
           ],
           "z": [
            0.36686317338642693
           ]
          }
         ],
         "name": "frame77",
         "traces": [
          0
         ]
        },
        {
         "data": [
          {
           "type": "scatter3d",
           "x": [
            78
           ],
           "y": [
            0.33680172290084387
           ],
           "z": [
            0.4649144222899291
           ]
          }
         ],
         "name": "frame78",
         "traces": [
          0
         ]
        },
        {
         "data": [
          {
           "type": "scatter3d",
           "x": [
            79
           ],
           "y": [
            0.8195621111677907
           ],
           "z": [
            0.17788955301381315
           ]
          }
         ],
         "name": "frame79",
         "traces": [
          0
         ]
        },
        {
         "data": [
          {
           "type": "scatter3d",
           "x": [
            80
           ],
           "y": [
            0.6262379593738361
           ],
           "z": [
            0.3741780423709393
           ]
          }
         ],
         "name": "frame80",
         "traces": [
          0
         ]
        },
        {
         "data": [
          {
           "type": "scatter3d",
           "x": [
            81
           ],
           "y": [
            0.354292227374583
           ],
           "z": [
            0.7786979903864667
           ]
          }
         ],
         "name": "frame81",
         "traces": [
          0
         ]
        },
        {
         "data": [
          {
           "type": "scatter3d",
           "x": [
            82
           ],
           "y": [
            0.9322190853129285
           ],
           "z": [
            0.4610200962647477
           ]
          }
         ],
         "name": "frame82",
         "traces": [
          0
         ]
        },
        {
         "data": [
          {
           "type": "scatter3d",
           "x": [
            83
           ],
           "y": [
            0.8393692345918408
           ],
           "z": [
            0.9720302023483145
           ]
          }
         ],
         "name": "frame83",
         "traces": [
          0
         ]
        },
        {
         "data": [
          {
           "type": "scatter3d",
           "x": [
            84
           ],
           "y": [
            0.5480430893568625
           ],
           "z": [
            0.6746012642675874
           ]
          }
         ],
         "name": "frame84",
         "traces": [
          0
         ]
        },
        {
         "data": [
          {
           "type": "scatter3d",
           "x": [
            85
           ],
           "y": [
            0.5823187179089012
           ],
           "z": [
            0.19295789216488246
           ]
          }
         ],
         "name": "frame85",
         "traces": [
          0
         ]
        },
        {
         "data": [
          {
           "type": "scatter3d",
           "x": [
            86
           ],
           "y": [
            0.6597943312890592
           ],
           "z": [
            0.23330313481016363
           ]
          }
         ],
         "name": "frame86",
         "traces": [
          0
         ]
        },
        {
         "data": [
          {
           "type": "scatter3d",
           "x": [
            87
           ],
           "y": [
            0.4185763633554974
           ],
           "z": [
            0.4561894394971432
           ]
          }
         ],
         "name": "frame87",
         "traces": [
          0
         ]
        },
        {
         "data": [
          {
           "type": "scatter3d",
           "x": [
            88
           ],
           "y": [
            0.30178554915525
           ],
           "z": [
            0.02607383555305154
           ]
          }
         ],
         "name": "frame88",
         "traces": [
          0
         ]
        },
        {
         "data": [
          {
           "type": "scatter3d",
           "x": [
            89
           ],
           "y": [
            0.6964246139437801
           ],
           "z": [
            0.843805051651296
           ]
          }
         ],
         "name": "frame89",
         "traces": [
          0
         ]
        },
        {
         "data": [
          {
           "type": "scatter3d",
           "x": [
            90
           ],
           "y": [
            0.313784742713747
           ],
           "z": [
            0.6071456883606754
           ]
          }
         ],
         "name": "frame90",
         "traces": [
          0
         ]
        },
        {
         "data": [
          {
           "type": "scatter3d",
           "x": [
            91
           ],
           "y": [
            0.24528556243449406
           ],
           "z": [
            0.5880317342566299
           ]
          }
         ],
         "name": "frame91",
         "traces": [
          0
         ]
        },
        {
         "data": [
          {
           "type": "scatter3d",
           "x": [
            92
           ],
           "y": [
            0.39876614764428897
           ],
           "z": [
            0.12918327761376325
           ]
          }
         ],
         "name": "frame92",
         "traces": [
          0
         ]
        },
        {
         "data": [
          {
           "type": "scatter3d",
           "x": [
            93
           ],
           "y": [
            0.6396961378499652
           ],
           "z": [
            0.6190352478731863
           ]
          }
         ],
         "name": "frame93",
         "traces": [
          0
         ]
        },
        {
         "data": [
          {
           "type": "scatter3d",
           "x": [
            94
           ],
           "y": [
            0.5738685146072754
           ],
           "z": [
            0.6777059464879864
           ]
          }
         ],
         "name": "frame94",
         "traces": [
          0
         ]
        },
        {
         "data": [
          {
           "type": "scatter3d",
           "x": [
            95
           ],
           "y": [
            0.8706078014236507
           ],
           "z": [
            0.8703448417631403
           ]
          }
         ],
         "name": "frame95",
         "traces": [
          0
         ]
        },
        {
         "data": [
          {
           "type": "scatter3d",
           "x": [
            96
           ],
           "y": [
            0.5959849408916925
           ],
           "z": [
            0.4685916747650326
           ]
          }
         ],
         "name": "frame96",
         "traces": [
          0
         ]
        },
        {
         "data": [
          {
           "type": "scatter3d",
           "x": [
            97
           ],
           "y": [
            0.6165033190086311
           ],
           "z": [
            0.08646552586523026
           ]
          }
         ],
         "name": "frame97",
         "traces": [
          0
         ]
        },
        {
         "data": [
          {
           "type": "scatter3d",
           "x": [
            98
           ],
           "y": [
            0.1672188840505875
           ],
           "z": [
            0.17365745308935354
           ]
          }
         ],
         "name": "frame98",
         "traces": [
          0
         ]
        }
       ],
       "layout": {
        "scene": {
         "xaxis": {
          "autorange": false,
          "range": [
           0,
           99
          ]
         },
         "yaxis": {
          "autorange": false,
          "range": [
           0.0031390849928557563,
           0.9994589085062991
          ]
         },
         "zaxis": {
          "autorange": false,
          "range": [
           0.0013015315891092838,
           0.9926258718287889
          ]
         }
        },
        "sliders": [
         {
          "len": 0.9,
          "pad": {
           "b": 10,
           "t": 60
          },
          "steps": [
           {
            "args": [
             [
              "frame0"
             ],
             {
              "frame": {
               "duration": 0
              },
              "fromcurrent": true,
              "mode": "immediate",
              "transition": {
               "duration": 0,
               "easing": "linear"
              }
             }
            ],
            "label": "0",
            "method": "animate"
           },
           {
            "args": [
             [
              "frame1"
             ],
             {
              "frame": {
               "duration": 0
              },
              "fromcurrent": true,
              "mode": "immediate",
              "transition": {
               "duration": 0,
               "easing": "linear"
              }
             }
            ],
            "label": "1",
            "method": "animate"
           },
           {
            "args": [
             [
              "frame2"
             ],
             {
              "frame": {
               "duration": 0
              },
              "fromcurrent": true,
              "mode": "immediate",
              "transition": {
               "duration": 0,
               "easing": "linear"
              }
             }
            ],
            "label": "2",
            "method": "animate"
           },
           {
            "args": [
             [
              "frame3"
             ],
             {
              "frame": {
               "duration": 0
              },
              "fromcurrent": true,
              "mode": "immediate",
              "transition": {
               "duration": 0,
               "easing": "linear"
              }
             }
            ],
            "label": "3",
            "method": "animate"
           },
           {
            "args": [
             [
              "frame4"
             ],
             {
              "frame": {
               "duration": 0
              },
              "fromcurrent": true,
              "mode": "immediate",
              "transition": {
               "duration": 0,
               "easing": "linear"
              }
             }
            ],
            "label": "4",
            "method": "animate"
           },
           {
            "args": [
             [
              "frame5"
             ],
             {
              "frame": {
               "duration": 0
              },
              "fromcurrent": true,
              "mode": "immediate",
              "transition": {
               "duration": 0,
               "easing": "linear"
              }
             }
            ],
            "label": "5",
            "method": "animate"
           },
           {
            "args": [
             [
              "frame6"
             ],
             {
              "frame": {
               "duration": 0
              },
              "fromcurrent": true,
              "mode": "immediate",
              "transition": {
               "duration": 0,
               "easing": "linear"
              }
             }
            ],
            "label": "6",
            "method": "animate"
           },
           {
            "args": [
             [
              "frame7"
             ],
             {
              "frame": {
               "duration": 0
              },
              "fromcurrent": true,
              "mode": "immediate",
              "transition": {
               "duration": 0,
               "easing": "linear"
              }
             }
            ],
            "label": "7",
            "method": "animate"
           },
           {
            "args": [
             [
              "frame8"
             ],
             {
              "frame": {
               "duration": 0
              },
              "fromcurrent": true,
              "mode": "immediate",
              "transition": {
               "duration": 0,
               "easing": "linear"
              }
             }
            ],
            "label": "8",
            "method": "animate"
           },
           {
            "args": [
             [
              "frame9"
             ],
             {
              "frame": {
               "duration": 0
              },
              "fromcurrent": true,
              "mode": "immediate",
              "transition": {
               "duration": 0,
               "easing": "linear"
              }
             }
            ],
            "label": "9",
            "method": "animate"
           },
           {
            "args": [
             [
              "frame10"
             ],
             {
              "frame": {
               "duration": 0
              },
              "fromcurrent": true,
              "mode": "immediate",
              "transition": {
               "duration": 0,
               "easing": "linear"
              }
             }
            ],
            "label": "10",
            "method": "animate"
           },
           {
            "args": [
             [
              "frame11"
             ],
             {
              "frame": {
               "duration": 0
              },
              "fromcurrent": true,
              "mode": "immediate",
              "transition": {
               "duration": 0,
               "easing": "linear"
              }
             }
            ],
            "label": "11",
            "method": "animate"
           },
           {
            "args": [
             [
              "frame12"
             ],
             {
              "frame": {
               "duration": 0
              },
              "fromcurrent": true,
              "mode": "immediate",
              "transition": {
               "duration": 0,
               "easing": "linear"
              }
             }
            ],
            "label": "12",
            "method": "animate"
           },
           {
            "args": [
             [
              "frame13"
             ],
             {
              "frame": {
               "duration": 0
              },
              "fromcurrent": true,
              "mode": "immediate",
              "transition": {
               "duration": 0,
               "easing": "linear"
              }
             }
            ],
            "label": "13",
            "method": "animate"
           },
           {
            "args": [
             [
              "frame14"
             ],
             {
              "frame": {
               "duration": 0
              },
              "fromcurrent": true,
              "mode": "immediate",
              "transition": {
               "duration": 0,
               "easing": "linear"
              }
             }
            ],
            "label": "14",
            "method": "animate"
           },
           {
            "args": [
             [
              "frame15"
             ],
             {
              "frame": {
               "duration": 0
              },
              "fromcurrent": true,
              "mode": "immediate",
              "transition": {
               "duration": 0,
               "easing": "linear"
              }
             }
            ],
            "label": "15",
            "method": "animate"
           },
           {
            "args": [
             [
              "frame16"
             ],
             {
              "frame": {
               "duration": 0
              },
              "fromcurrent": true,
              "mode": "immediate",
              "transition": {
               "duration": 0,
               "easing": "linear"
              }
             }
            ],
            "label": "16",
            "method": "animate"
           },
           {
            "args": [
             [
              "frame17"
             ],
             {
              "frame": {
               "duration": 0
              },
              "fromcurrent": true,
              "mode": "immediate",
              "transition": {
               "duration": 0,
               "easing": "linear"
              }
             }
            ],
            "label": "17",
            "method": "animate"
           },
           {
            "args": [
             [
              "frame18"
             ],
             {
              "frame": {
               "duration": 0
              },
              "fromcurrent": true,
              "mode": "immediate",
              "transition": {
               "duration": 0,
               "easing": "linear"
              }
             }
            ],
            "label": "18",
            "method": "animate"
           },
           {
            "args": [
             [
              "frame19"
             ],
             {
              "frame": {
               "duration": 0
              },
              "fromcurrent": true,
              "mode": "immediate",
              "transition": {
               "duration": 0,
               "easing": "linear"
              }
             }
            ],
            "label": "19",
            "method": "animate"
           },
           {
            "args": [
             [
              "frame20"
             ],
             {
              "frame": {
               "duration": 0
              },
              "fromcurrent": true,
              "mode": "immediate",
              "transition": {
               "duration": 0,
               "easing": "linear"
              }
             }
            ],
            "label": "20",
            "method": "animate"
           },
           {
            "args": [
             [
              "frame21"
             ],
             {
              "frame": {
               "duration": 0
              },
              "fromcurrent": true,
              "mode": "immediate",
              "transition": {
               "duration": 0,
               "easing": "linear"
              }
             }
            ],
            "label": "21",
            "method": "animate"
           },
           {
            "args": [
             [
              "frame22"
             ],
             {
              "frame": {
               "duration": 0
              },
              "fromcurrent": true,
              "mode": "immediate",
              "transition": {
               "duration": 0,
               "easing": "linear"
              }
             }
            ],
            "label": "22",
            "method": "animate"
           },
           {
            "args": [
             [
              "frame23"
             ],
             {
              "frame": {
               "duration": 0
              },
              "fromcurrent": true,
              "mode": "immediate",
              "transition": {
               "duration": 0,
               "easing": "linear"
              }
             }
            ],
            "label": "23",
            "method": "animate"
           },
           {
            "args": [
             [
              "frame24"
             ],
             {
              "frame": {
               "duration": 0
              },
              "fromcurrent": true,
              "mode": "immediate",
              "transition": {
               "duration": 0,
               "easing": "linear"
              }
             }
            ],
            "label": "24",
            "method": "animate"
           },
           {
            "args": [
             [
              "frame25"
             ],
             {
              "frame": {
               "duration": 0
              },
              "fromcurrent": true,
              "mode": "immediate",
              "transition": {
               "duration": 0,
               "easing": "linear"
              }
             }
            ],
            "label": "25",
            "method": "animate"
           },
           {
            "args": [
             [
              "frame26"
             ],
             {
              "frame": {
               "duration": 0
              },
              "fromcurrent": true,
              "mode": "immediate",
              "transition": {
               "duration": 0,
               "easing": "linear"
              }
             }
            ],
            "label": "26",
            "method": "animate"
           },
           {
            "args": [
             [
              "frame27"
             ],
             {
              "frame": {
               "duration": 0
              },
              "fromcurrent": true,
              "mode": "immediate",
              "transition": {
               "duration": 0,
               "easing": "linear"
              }
             }
            ],
            "label": "27",
            "method": "animate"
           },
           {
            "args": [
             [
              "frame28"
             ],
             {
              "frame": {
               "duration": 0
              },
              "fromcurrent": true,
              "mode": "immediate",
              "transition": {
               "duration": 0,
               "easing": "linear"
              }
             }
            ],
            "label": "28",
            "method": "animate"
           },
           {
            "args": [
             [
              "frame29"
             ],
             {
              "frame": {
               "duration": 0
              },
              "fromcurrent": true,
              "mode": "immediate",
              "transition": {
               "duration": 0,
               "easing": "linear"
              }
             }
            ],
            "label": "29",
            "method": "animate"
           },
           {
            "args": [
             [
              "frame30"
             ],
             {
              "frame": {
               "duration": 0
              },
              "fromcurrent": true,
              "mode": "immediate",
              "transition": {
               "duration": 0,
               "easing": "linear"
              }
             }
            ],
            "label": "30",
            "method": "animate"
           },
           {
            "args": [
             [
              "frame31"
             ],
             {
              "frame": {
               "duration": 0
              },
              "fromcurrent": true,
              "mode": "immediate",
              "transition": {
               "duration": 0,
               "easing": "linear"
              }
             }
            ],
            "label": "31",
            "method": "animate"
           },
           {
            "args": [
             [
              "frame32"
             ],
             {
              "frame": {
               "duration": 0
              },
              "fromcurrent": true,
              "mode": "immediate",
              "transition": {
               "duration": 0,
               "easing": "linear"
              }
             }
            ],
            "label": "32",
            "method": "animate"
           },
           {
            "args": [
             [
              "frame33"
             ],
             {
              "frame": {
               "duration": 0
              },
              "fromcurrent": true,
              "mode": "immediate",
              "transition": {
               "duration": 0,
               "easing": "linear"
              }
             }
            ],
            "label": "33",
            "method": "animate"
           },
           {
            "args": [
             [
              "frame34"
             ],
             {
              "frame": {
               "duration": 0
              },
              "fromcurrent": true,
              "mode": "immediate",
              "transition": {
               "duration": 0,
               "easing": "linear"
              }
             }
            ],
            "label": "34",
            "method": "animate"
           },
           {
            "args": [
             [
              "frame35"
             ],
             {
              "frame": {
               "duration": 0
              },
              "fromcurrent": true,
              "mode": "immediate",
              "transition": {
               "duration": 0,
               "easing": "linear"
              }
             }
            ],
            "label": "35",
            "method": "animate"
           },
           {
            "args": [
             [
              "frame36"
             ],
             {
              "frame": {
               "duration": 0
              },
              "fromcurrent": true,
              "mode": "immediate",
              "transition": {
               "duration": 0,
               "easing": "linear"
              }
             }
            ],
            "label": "36",
            "method": "animate"
           },
           {
            "args": [
             [
              "frame37"
             ],
             {
              "frame": {
               "duration": 0
              },
              "fromcurrent": true,
              "mode": "immediate",
              "transition": {
               "duration": 0,
               "easing": "linear"
              }
             }
            ],
            "label": "37",
            "method": "animate"
           },
           {
            "args": [
             [
              "frame38"
             ],
             {
              "frame": {
               "duration": 0
              },
              "fromcurrent": true,
              "mode": "immediate",
              "transition": {
               "duration": 0,
               "easing": "linear"
              }
             }
            ],
            "label": "38",
            "method": "animate"
           },
           {
            "args": [
             [
              "frame39"
             ],
             {
              "frame": {
               "duration": 0
              },
              "fromcurrent": true,
              "mode": "immediate",
              "transition": {
               "duration": 0,
               "easing": "linear"
              }
             }
            ],
            "label": "39",
            "method": "animate"
           },
           {
            "args": [
             [
              "frame40"
             ],
             {
              "frame": {
               "duration": 0
              },
              "fromcurrent": true,
              "mode": "immediate",
              "transition": {
               "duration": 0,
               "easing": "linear"
              }
             }
            ],
            "label": "40",
            "method": "animate"
           },
           {
            "args": [
             [
              "frame41"
             ],
             {
              "frame": {
               "duration": 0
              },
              "fromcurrent": true,
              "mode": "immediate",
              "transition": {
               "duration": 0,
               "easing": "linear"
              }
             }
            ],
            "label": "41",
            "method": "animate"
           },
           {
            "args": [
             [
              "frame42"
             ],
             {
              "frame": {
               "duration": 0
              },
              "fromcurrent": true,
              "mode": "immediate",
              "transition": {
               "duration": 0,
               "easing": "linear"
              }
             }
            ],
            "label": "42",
            "method": "animate"
           },
           {
            "args": [
             [
              "frame43"
             ],
             {
              "frame": {
               "duration": 0
              },
              "fromcurrent": true,
              "mode": "immediate",
              "transition": {
               "duration": 0,
               "easing": "linear"
              }
             }
            ],
            "label": "43",
            "method": "animate"
           },
           {
            "args": [
             [
              "frame44"
             ],
             {
              "frame": {
               "duration": 0
              },
              "fromcurrent": true,
              "mode": "immediate",
              "transition": {
               "duration": 0,
               "easing": "linear"
              }
             }
            ],
            "label": "44",
            "method": "animate"
           },
           {
            "args": [
             [
              "frame45"
             ],
             {
              "frame": {
               "duration": 0
              },
              "fromcurrent": true,
              "mode": "immediate",
              "transition": {
               "duration": 0,
               "easing": "linear"
              }
             }
            ],
            "label": "45",
            "method": "animate"
           },
           {
            "args": [
             [
              "frame46"
             ],
             {
              "frame": {
               "duration": 0
              },
              "fromcurrent": true,
              "mode": "immediate",
              "transition": {
               "duration": 0,
               "easing": "linear"
              }
             }
            ],
            "label": "46",
            "method": "animate"
           },
           {
            "args": [
             [
              "frame47"
             ],
             {
              "frame": {
               "duration": 0
              },
              "fromcurrent": true,
              "mode": "immediate",
              "transition": {
               "duration": 0,
               "easing": "linear"
              }
             }
            ],
            "label": "47",
            "method": "animate"
           },
           {
            "args": [
             [
              "frame48"
             ],
             {
              "frame": {
               "duration": 0
              },
              "fromcurrent": true,
              "mode": "immediate",
              "transition": {
               "duration": 0,
               "easing": "linear"
              }
             }
            ],
            "label": "48",
            "method": "animate"
           },
           {
            "args": [
             [
              "frame49"
             ],
             {
              "frame": {
               "duration": 0
              },
              "fromcurrent": true,
              "mode": "immediate",
              "transition": {
               "duration": 0,
               "easing": "linear"
              }
             }
            ],
            "label": "49",
            "method": "animate"
           },
           {
            "args": [
             [
              "frame50"
             ],
             {
              "frame": {
               "duration": 0
              },
              "fromcurrent": true,
              "mode": "immediate",
              "transition": {
               "duration": 0,
               "easing": "linear"
              }
             }
            ],
            "label": "50",
            "method": "animate"
           },
           {
            "args": [
             [
              "frame51"
             ],
             {
              "frame": {
               "duration": 0
              },
              "fromcurrent": true,
              "mode": "immediate",
              "transition": {
               "duration": 0,
               "easing": "linear"
              }
             }
            ],
            "label": "51",
            "method": "animate"
           },
           {
            "args": [
             [
              "frame52"
             ],
             {
              "frame": {
               "duration": 0
              },
              "fromcurrent": true,
              "mode": "immediate",
              "transition": {
               "duration": 0,
               "easing": "linear"
              }
             }
            ],
            "label": "52",
            "method": "animate"
           },
           {
            "args": [
             [
              "frame53"
             ],
             {
              "frame": {
               "duration": 0
              },
              "fromcurrent": true,
              "mode": "immediate",
              "transition": {
               "duration": 0,
               "easing": "linear"
              }
             }
            ],
            "label": "53",
            "method": "animate"
           },
           {
            "args": [
             [
              "frame54"
             ],
             {
              "frame": {
               "duration": 0
              },
              "fromcurrent": true,
              "mode": "immediate",
              "transition": {
               "duration": 0,
               "easing": "linear"
              }
             }
            ],
            "label": "54",
            "method": "animate"
           },
           {
            "args": [
             [
              "frame55"
             ],
             {
              "frame": {
               "duration": 0
              },
              "fromcurrent": true,
              "mode": "immediate",
              "transition": {
               "duration": 0,
               "easing": "linear"
              }
             }
            ],
            "label": "55",
            "method": "animate"
           },
           {
            "args": [
             [
              "frame56"
             ],
             {
              "frame": {
               "duration": 0
              },
              "fromcurrent": true,
              "mode": "immediate",
              "transition": {
               "duration": 0,
               "easing": "linear"
              }
             }
            ],
            "label": "56",
            "method": "animate"
           },
           {
            "args": [
             [
              "frame57"
             ],
             {
              "frame": {
               "duration": 0
              },
              "fromcurrent": true,
              "mode": "immediate",
              "transition": {
               "duration": 0,
               "easing": "linear"
              }
             }
            ],
            "label": "57",
            "method": "animate"
           },
           {
            "args": [
             [
              "frame58"
             ],
             {
              "frame": {
               "duration": 0
              },
              "fromcurrent": true,
              "mode": "immediate",
              "transition": {
               "duration": 0,
               "easing": "linear"
              }
             }
            ],
            "label": "58",
            "method": "animate"
           },
           {
            "args": [
             [
              "frame59"
             ],
             {
              "frame": {
               "duration": 0
              },
              "fromcurrent": true,
              "mode": "immediate",
              "transition": {
               "duration": 0,
               "easing": "linear"
              }
             }
            ],
            "label": "59",
            "method": "animate"
           },
           {
            "args": [
             [
              "frame60"
             ],
             {
              "frame": {
               "duration": 0
              },
              "fromcurrent": true,
              "mode": "immediate",
              "transition": {
               "duration": 0,
               "easing": "linear"
              }
             }
            ],
            "label": "60",
            "method": "animate"
           },
           {
            "args": [
             [
              "frame61"
             ],
             {
              "frame": {
               "duration": 0
              },
              "fromcurrent": true,
              "mode": "immediate",
              "transition": {
               "duration": 0,
               "easing": "linear"
              }
             }
            ],
            "label": "61",
            "method": "animate"
           },
           {
            "args": [
             [
              "frame62"
             ],
             {
              "frame": {
               "duration": 0
              },
              "fromcurrent": true,
              "mode": "immediate",
              "transition": {
               "duration": 0,
               "easing": "linear"
              }
             }
            ],
            "label": "62",
            "method": "animate"
           },
           {
            "args": [
             [
              "frame63"
             ],
             {
              "frame": {
               "duration": 0
              },
              "fromcurrent": true,
              "mode": "immediate",
              "transition": {
               "duration": 0,
               "easing": "linear"
              }
             }
            ],
            "label": "63",
            "method": "animate"
           },
           {
            "args": [
             [
              "frame64"
             ],
             {
              "frame": {
               "duration": 0
              },
              "fromcurrent": true,
              "mode": "immediate",
              "transition": {
               "duration": 0,
               "easing": "linear"
              }
             }
            ],
            "label": "64",
            "method": "animate"
           },
           {
            "args": [
             [
              "frame65"
             ],
             {
              "frame": {
               "duration": 0
              },
              "fromcurrent": true,
              "mode": "immediate",
              "transition": {
               "duration": 0,
               "easing": "linear"
              }
             }
            ],
            "label": "65",
            "method": "animate"
           },
           {
            "args": [
             [
              "frame66"
             ],
             {
              "frame": {
               "duration": 0
              },
              "fromcurrent": true,
              "mode": "immediate",
              "transition": {
               "duration": 0,
               "easing": "linear"
              }
             }
            ],
            "label": "66",
            "method": "animate"
           },
           {
            "args": [
             [
              "frame67"
             ],
             {
              "frame": {
               "duration": 0
              },
              "fromcurrent": true,
              "mode": "immediate",
              "transition": {
               "duration": 0,
               "easing": "linear"
              }
             }
            ],
            "label": "67",
            "method": "animate"
           },
           {
            "args": [
             [
              "frame68"
             ],
             {
              "frame": {
               "duration": 0
              },
              "fromcurrent": true,
              "mode": "immediate",
              "transition": {
               "duration": 0,
               "easing": "linear"
              }
             }
            ],
            "label": "68",
            "method": "animate"
           },
           {
            "args": [
             [
              "frame69"
             ],
             {
              "frame": {
               "duration": 0
              },
              "fromcurrent": true,
              "mode": "immediate",
              "transition": {
               "duration": 0,
               "easing": "linear"
              }
             }
            ],
            "label": "69",
            "method": "animate"
           },
           {
            "args": [
             [
              "frame70"
             ],
             {
              "frame": {
               "duration": 0
              },
              "fromcurrent": true,
              "mode": "immediate",
              "transition": {
               "duration": 0,
               "easing": "linear"
              }
             }
            ],
            "label": "70",
            "method": "animate"
           },
           {
            "args": [
             [
              "frame71"
             ],
             {
              "frame": {
               "duration": 0
              },
              "fromcurrent": true,
              "mode": "immediate",
              "transition": {
               "duration": 0,
               "easing": "linear"
              }
             }
            ],
            "label": "71",
            "method": "animate"
           },
           {
            "args": [
             [
              "frame72"
             ],
             {
              "frame": {
               "duration": 0
              },
              "fromcurrent": true,
              "mode": "immediate",
              "transition": {
               "duration": 0,
               "easing": "linear"
              }
             }
            ],
            "label": "72",
            "method": "animate"
           },
           {
            "args": [
             [
              "frame73"
             ],
             {
              "frame": {
               "duration": 0
              },
              "fromcurrent": true,
              "mode": "immediate",
              "transition": {
               "duration": 0,
               "easing": "linear"
              }
             }
            ],
            "label": "73",
            "method": "animate"
           },
           {
            "args": [
             [
              "frame74"
             ],
             {
              "frame": {
               "duration": 0
              },
              "fromcurrent": true,
              "mode": "immediate",
              "transition": {
               "duration": 0,
               "easing": "linear"
              }
             }
            ],
            "label": "74",
            "method": "animate"
           },
           {
            "args": [
             [
              "frame75"
             ],
             {
              "frame": {
               "duration": 0
              },
              "fromcurrent": true,
              "mode": "immediate",
              "transition": {
               "duration": 0,
               "easing": "linear"
              }
             }
            ],
            "label": "75",
            "method": "animate"
           },
           {
            "args": [
             [
              "frame76"
             ],
             {
              "frame": {
               "duration": 0
              },
              "fromcurrent": true,
              "mode": "immediate",
              "transition": {
               "duration": 0,
               "easing": "linear"
              }
             }
            ],
            "label": "76",
            "method": "animate"
           },
           {
            "args": [
             [
              "frame77"
             ],
             {
              "frame": {
               "duration": 0
              },
              "fromcurrent": true,
              "mode": "immediate",
              "transition": {
               "duration": 0,
               "easing": "linear"
              }
             }
            ],
            "label": "77",
            "method": "animate"
           },
           {
            "args": [
             [
              "frame78"
             ],
             {
              "frame": {
               "duration": 0
              },
              "fromcurrent": true,
              "mode": "immediate",
              "transition": {
               "duration": 0,
               "easing": "linear"
              }
             }
            ],
            "label": "78",
            "method": "animate"
           },
           {
            "args": [
             [
              "frame79"
             ],
             {
              "frame": {
               "duration": 0
              },
              "fromcurrent": true,
              "mode": "immediate",
              "transition": {
               "duration": 0,
               "easing": "linear"
              }
             }
            ],
            "label": "79",
            "method": "animate"
           },
           {
            "args": [
             [
              "frame80"
             ],
             {
              "frame": {
               "duration": 0
              },
              "fromcurrent": true,
              "mode": "immediate",
              "transition": {
               "duration": 0,
               "easing": "linear"
              }
             }
            ],
            "label": "80",
            "method": "animate"
           },
           {
            "args": [
             [
              "frame81"
             ],
             {
              "frame": {
               "duration": 0
              },
              "fromcurrent": true,
              "mode": "immediate",
              "transition": {
               "duration": 0,
               "easing": "linear"
              }
             }
            ],
            "label": "81",
            "method": "animate"
           },
           {
            "args": [
             [
              "frame82"
             ],
             {
              "frame": {
               "duration": 0
              },
              "fromcurrent": true,
              "mode": "immediate",
              "transition": {
               "duration": 0,
               "easing": "linear"
              }
             }
            ],
            "label": "82",
            "method": "animate"
           },
           {
            "args": [
             [
              "frame83"
             ],
             {
              "frame": {
               "duration": 0
              },
              "fromcurrent": true,
              "mode": "immediate",
              "transition": {
               "duration": 0,
               "easing": "linear"
              }
             }
            ],
            "label": "83",
            "method": "animate"
           },
           {
            "args": [
             [
              "frame84"
             ],
             {
              "frame": {
               "duration": 0
              },
              "fromcurrent": true,
              "mode": "immediate",
              "transition": {
               "duration": 0,
               "easing": "linear"
              }
             }
            ],
            "label": "84",
            "method": "animate"
           },
           {
            "args": [
             [
              "frame85"
             ],
             {
              "frame": {
               "duration": 0
              },
              "fromcurrent": true,
              "mode": "immediate",
              "transition": {
               "duration": 0,
               "easing": "linear"
              }
             }
            ],
            "label": "85",
            "method": "animate"
           },
           {
            "args": [
             [
              "frame86"
             ],
             {
              "frame": {
               "duration": 0
              },
              "fromcurrent": true,
              "mode": "immediate",
              "transition": {
               "duration": 0,
               "easing": "linear"
              }
             }
            ],
            "label": "86",
            "method": "animate"
           },
           {
            "args": [
             [
              "frame87"
             ],
             {
              "frame": {
               "duration": 0
              },
              "fromcurrent": true,
              "mode": "immediate",
              "transition": {
               "duration": 0,
               "easing": "linear"
              }
             }
            ],
            "label": "87",
            "method": "animate"
           },
           {
            "args": [
             [
              "frame88"
             ],
             {
              "frame": {
               "duration": 0
              },
              "fromcurrent": true,
              "mode": "immediate",
              "transition": {
               "duration": 0,
               "easing": "linear"
              }
             }
            ],
            "label": "88",
            "method": "animate"
           },
           {
            "args": [
             [
              "frame89"
             ],
             {
              "frame": {
               "duration": 0
              },
              "fromcurrent": true,
              "mode": "immediate",
              "transition": {
               "duration": 0,
               "easing": "linear"
              }
             }
            ],
            "label": "89",
            "method": "animate"
           },
           {
            "args": [
             [
              "frame90"
             ],
             {
              "frame": {
               "duration": 0
              },
              "fromcurrent": true,
              "mode": "immediate",
              "transition": {
               "duration": 0,
               "easing": "linear"
              }
             }
            ],
            "label": "90",
            "method": "animate"
           },
           {
            "args": [
             [
              "frame91"
             ],
             {
              "frame": {
               "duration": 0
              },
              "fromcurrent": true,
              "mode": "immediate",
              "transition": {
               "duration": 0,
               "easing": "linear"
              }
             }
            ],
            "label": "91",
            "method": "animate"
           },
           {
            "args": [
             [
              "frame92"
             ],
             {
              "frame": {
               "duration": 0
              },
              "fromcurrent": true,
              "mode": "immediate",
              "transition": {
               "duration": 0,
               "easing": "linear"
              }
             }
            ],
            "label": "92",
            "method": "animate"
           },
           {
            "args": [
             [
              "frame93"
             ],
             {
              "frame": {
               "duration": 0
              },
              "fromcurrent": true,
              "mode": "immediate",
              "transition": {
               "duration": 0,
               "easing": "linear"
              }
             }
            ],
            "label": "93",
            "method": "animate"
           },
           {
            "args": [
             [
              "frame94"
             ],
             {
              "frame": {
               "duration": 0
              },
              "fromcurrent": true,
              "mode": "immediate",
              "transition": {
               "duration": 0,
               "easing": "linear"
              }
             }
            ],
            "label": "94",
            "method": "animate"
           },
           {
            "args": [
             [
              "frame95"
             ],
             {
              "frame": {
               "duration": 0
              },
              "fromcurrent": true,
              "mode": "immediate",
              "transition": {
               "duration": 0,
               "easing": "linear"
              }
             }
            ],
            "label": "95",
            "method": "animate"
           },
           {
            "args": [
             [
              "frame96"
             ],
             {
              "frame": {
               "duration": 0
              },
              "fromcurrent": true,
              "mode": "immediate",
              "transition": {
               "duration": 0,
               "easing": "linear"
              }
             }
            ],
            "label": "96",
            "method": "animate"
           },
           {
            "args": [
             [
              "frame97"
             ],
             {
              "frame": {
               "duration": 0
              },
              "fromcurrent": true,
              "mode": "immediate",
              "transition": {
               "duration": 0,
               "easing": "linear"
              }
             }
            ],
            "label": "97",
            "method": "animate"
           },
           {
            "args": [
             [
              "frame98"
             ],
             {
              "frame": {
               "duration": 0
              },
              "fromcurrent": true,
              "mode": "immediate",
              "transition": {
               "duration": 0,
               "easing": "linear"
              }
             }
            ],
            "label": "98",
            "method": "animate"
           }
          ],
          "x": 0.1,
          "y": 0
         }
        ],
        "template": {
         "data": {
          "bar": [
           {
            "error_x": {
             "color": "#2a3f5f"
            },
            "error_y": {
             "color": "#2a3f5f"
            },
            "marker": {
             "line": {
              "color": "#E5ECF6",
              "width": 0.5
             },
             "pattern": {
              "fillmode": "overlay",
              "size": 10,
              "solidity": 0.2
             }
            },
            "type": "bar"
           }
          ],
          "barpolar": [
           {
            "marker": {
             "line": {
              "color": "#E5ECF6",
              "width": 0.5
             },
             "pattern": {
              "fillmode": "overlay",
              "size": 10,
              "solidity": 0.2
             }
            },
            "type": "barpolar"
           }
          ],
          "carpet": [
           {
            "aaxis": {
             "endlinecolor": "#2a3f5f",
             "gridcolor": "white",
             "linecolor": "white",
             "minorgridcolor": "white",
             "startlinecolor": "#2a3f5f"
            },
            "baxis": {
             "endlinecolor": "#2a3f5f",
             "gridcolor": "white",
             "linecolor": "white",
             "minorgridcolor": "white",
             "startlinecolor": "#2a3f5f"
            },
            "type": "carpet"
           }
          ],
          "choropleth": [
           {
            "colorbar": {
             "outlinewidth": 0,
             "ticks": ""
            },
            "type": "choropleth"
           }
          ],
          "contour": [
           {
            "colorbar": {
             "outlinewidth": 0,
             "ticks": ""
            },
            "colorscale": [
             [
              0,
              "#0d0887"
             ],
             [
              0.1111111111111111,
              "#46039f"
             ],
             [
              0.2222222222222222,
              "#7201a8"
             ],
             [
              0.3333333333333333,
              "#9c179e"
             ],
             [
              0.4444444444444444,
              "#bd3786"
             ],
             [
              0.5555555555555556,
              "#d8576b"
             ],
             [
              0.6666666666666666,
              "#ed7953"
             ],
             [
              0.7777777777777778,
              "#fb9f3a"
             ],
             [
              0.8888888888888888,
              "#fdca26"
             ],
             [
              1,
              "#f0f921"
             ]
            ],
            "type": "contour"
           }
          ],
          "contourcarpet": [
           {
            "colorbar": {
             "outlinewidth": 0,
             "ticks": ""
            },
            "type": "contourcarpet"
           }
          ],
          "heatmap": [
           {
            "colorbar": {
             "outlinewidth": 0,
             "ticks": ""
            },
            "colorscale": [
             [
              0,
              "#0d0887"
             ],
             [
              0.1111111111111111,
              "#46039f"
             ],
             [
              0.2222222222222222,
              "#7201a8"
             ],
             [
              0.3333333333333333,
              "#9c179e"
             ],
             [
              0.4444444444444444,
              "#bd3786"
             ],
             [
              0.5555555555555556,
              "#d8576b"
             ],
             [
              0.6666666666666666,
              "#ed7953"
             ],
             [
              0.7777777777777778,
              "#fb9f3a"
             ],
             [
              0.8888888888888888,
              "#fdca26"
             ],
             [
              1,
              "#f0f921"
             ]
            ],
            "type": "heatmap"
           }
          ],
          "heatmapgl": [
           {
            "colorbar": {
             "outlinewidth": 0,
             "ticks": ""
            },
            "colorscale": [
             [
              0,
              "#0d0887"
             ],
             [
              0.1111111111111111,
              "#46039f"
             ],
             [
              0.2222222222222222,
              "#7201a8"
             ],
             [
              0.3333333333333333,
              "#9c179e"
             ],
             [
              0.4444444444444444,
              "#bd3786"
             ],
             [
              0.5555555555555556,
              "#d8576b"
             ],
             [
              0.6666666666666666,
              "#ed7953"
             ],
             [
              0.7777777777777778,
              "#fb9f3a"
             ],
             [
              0.8888888888888888,
              "#fdca26"
             ],
             [
              1,
              "#f0f921"
             ]
            ],
            "type": "heatmapgl"
           }
          ],
          "histogram": [
           {
            "marker": {
             "pattern": {
              "fillmode": "overlay",
              "size": 10,
              "solidity": 0.2
             }
            },
            "type": "histogram"
           }
          ],
          "histogram2d": [
           {
            "colorbar": {
             "outlinewidth": 0,
             "ticks": ""
            },
            "colorscale": [
             [
              0,
              "#0d0887"
             ],
             [
              0.1111111111111111,
              "#46039f"
             ],
             [
              0.2222222222222222,
              "#7201a8"
             ],
             [
              0.3333333333333333,
              "#9c179e"
             ],
             [
              0.4444444444444444,
              "#bd3786"
             ],
             [
              0.5555555555555556,
              "#d8576b"
             ],
             [
              0.6666666666666666,
              "#ed7953"
             ],
             [
              0.7777777777777778,
              "#fb9f3a"
             ],
             [
              0.8888888888888888,
              "#fdca26"
             ],
             [
              1,
              "#f0f921"
             ]
            ],
            "type": "histogram2d"
           }
          ],
          "histogram2dcontour": [
           {
            "colorbar": {
             "outlinewidth": 0,
             "ticks": ""
            },
            "colorscale": [
             [
              0,
              "#0d0887"
             ],
             [
              0.1111111111111111,
              "#46039f"
             ],
             [
              0.2222222222222222,
              "#7201a8"
             ],
             [
              0.3333333333333333,
              "#9c179e"
             ],
             [
              0.4444444444444444,
              "#bd3786"
             ],
             [
              0.5555555555555556,
              "#d8576b"
             ],
             [
              0.6666666666666666,
              "#ed7953"
             ],
             [
              0.7777777777777778,
              "#fb9f3a"
             ],
             [
              0.8888888888888888,
              "#fdca26"
             ],
             [
              1,
              "#f0f921"
             ]
            ],
            "type": "histogram2dcontour"
           }
          ],
          "mesh3d": [
           {
            "colorbar": {
             "outlinewidth": 0,
             "ticks": ""
            },
            "type": "mesh3d"
           }
          ],
          "parcoords": [
           {
            "line": {
             "colorbar": {
              "outlinewidth": 0,
              "ticks": ""
             }
            },
            "type": "parcoords"
           }
          ],
          "pie": [
           {
            "automargin": true,
            "type": "pie"
           }
          ],
          "scatter": [
           {
            "fillpattern": {
             "fillmode": "overlay",
             "size": 10,
             "solidity": 0.2
            },
            "type": "scatter"
           }
          ],
          "scatter3d": [
           {
            "line": {
             "colorbar": {
              "outlinewidth": 0,
              "ticks": ""
             }
            },
            "marker": {
             "colorbar": {
              "outlinewidth": 0,
              "ticks": ""
             }
            },
            "type": "scatter3d"
           }
          ],
          "scattercarpet": [
           {
            "marker": {
             "colorbar": {
              "outlinewidth": 0,
              "ticks": ""
             }
            },
            "type": "scattercarpet"
           }
          ],
          "scattergeo": [
           {
            "marker": {
             "colorbar": {
              "outlinewidth": 0,
              "ticks": ""
             }
            },
            "type": "scattergeo"
           }
          ],
          "scattergl": [
           {
            "marker": {
             "colorbar": {
              "outlinewidth": 0,
              "ticks": ""
             }
            },
            "type": "scattergl"
           }
          ],
          "scattermapbox": [
           {
            "marker": {
             "colorbar": {
              "outlinewidth": 0,
              "ticks": ""
             }
            },
            "type": "scattermapbox"
           }
          ],
          "scatterpolar": [
           {
            "marker": {
             "colorbar": {
              "outlinewidth": 0,
              "ticks": ""
             }
            },
            "type": "scatterpolar"
           }
          ],
          "scatterpolargl": [
           {
            "marker": {
             "colorbar": {
              "outlinewidth": 0,
              "ticks": ""
             }
            },
            "type": "scatterpolargl"
           }
          ],
          "scatterternary": [
           {
            "marker": {
             "colorbar": {
              "outlinewidth": 0,
              "ticks": ""
             }
            },
            "type": "scatterternary"
           }
          ],
          "surface": [
           {
            "colorbar": {
             "outlinewidth": 0,
             "ticks": ""
            },
            "colorscale": [
             [
              0,
              "#0d0887"
             ],
             [
              0.1111111111111111,
              "#46039f"
             ],
             [
              0.2222222222222222,
              "#7201a8"
             ],
             [
              0.3333333333333333,
              "#9c179e"
             ],
             [
              0.4444444444444444,
              "#bd3786"
             ],
             [
              0.5555555555555556,
              "#d8576b"
             ],
             [
              0.6666666666666666,
              "#ed7953"
             ],
             [
              0.7777777777777778,
              "#fb9f3a"
             ],
             [
              0.8888888888888888,
              "#fdca26"
             ],
             [
              1,
              "#f0f921"
             ]
            ],
            "type": "surface"
           }
          ],
          "table": [
           {
            "cells": {
             "fill": {
              "color": "#EBF0F8"
             },
             "line": {
              "color": "white"
             }
            },
            "header": {
             "fill": {
              "color": "#C8D4E3"
             },
             "line": {
              "color": "white"
             }
            },
            "type": "table"
           }
          ]
         },
         "layout": {
          "annotationdefaults": {
           "arrowcolor": "#2a3f5f",
           "arrowhead": 0,
           "arrowwidth": 1
          },
          "autotypenumbers": "strict",
          "coloraxis": {
           "colorbar": {
            "outlinewidth": 0,
            "ticks": ""
           }
          },
          "colorscale": {
           "diverging": [
            [
             0,
             "#8e0152"
            ],
            [
             0.1,
             "#c51b7d"
            ],
            [
             0.2,
             "#de77ae"
            ],
            [
             0.3,
             "#f1b6da"
            ],
            [
             0.4,
             "#fde0ef"
            ],
            [
             0.5,
             "#f7f7f7"
            ],
            [
             0.6,
             "#e6f5d0"
            ],
            [
             0.7,
             "#b8e186"
            ],
            [
             0.8,
             "#7fbc41"
            ],
            [
             0.9,
             "#4d9221"
            ],
            [
             1,
             "#276419"
            ]
           ],
           "sequential": [
            [
             0,
             "#0d0887"
            ],
            [
             0.1111111111111111,
             "#46039f"
            ],
            [
             0.2222222222222222,
             "#7201a8"
            ],
            [
             0.3333333333333333,
             "#9c179e"
            ],
            [
             0.4444444444444444,
             "#bd3786"
            ],
            [
             0.5555555555555556,
             "#d8576b"
            ],
            [
             0.6666666666666666,
             "#ed7953"
            ],
            [
             0.7777777777777778,
             "#fb9f3a"
            ],
            [
             0.8888888888888888,
             "#fdca26"
            ],
            [
             1,
             "#f0f921"
            ]
           ],
           "sequentialminus": [
            [
             0,
             "#0d0887"
            ],
            [
             0.1111111111111111,
             "#46039f"
            ],
            [
             0.2222222222222222,
             "#7201a8"
            ],
            [
             0.3333333333333333,
             "#9c179e"
            ],
            [
             0.4444444444444444,
             "#bd3786"
            ],
            [
             0.5555555555555556,
             "#d8576b"
            ],
            [
             0.6666666666666666,
             "#ed7953"
            ],
            [
             0.7777777777777778,
             "#fb9f3a"
            ],
            [
             0.8888888888888888,
             "#fdca26"
            ],
            [
             1,
             "#f0f921"
            ]
           ]
          },
          "colorway": [
           "#636efa",
           "#EF553B",
           "#00cc96",
           "#ab63fa",
           "#FFA15A",
           "#19d3f3",
           "#FF6692",
           "#B6E880",
           "#FF97FF",
           "#FECB52"
          ],
          "font": {
           "color": "#2a3f5f"
          },
          "geo": {
           "bgcolor": "white",
           "lakecolor": "white",
           "landcolor": "#E5ECF6",
           "showlakes": true,
           "showland": true,
           "subunitcolor": "white"
          },
          "hoverlabel": {
           "align": "left"
          },
          "hovermode": "closest",
          "mapbox": {
           "style": "light"
          },
          "paper_bgcolor": "white",
          "plot_bgcolor": "#E5ECF6",
          "polar": {
           "angularaxis": {
            "gridcolor": "white",
            "linecolor": "white",
            "ticks": ""
           },
           "bgcolor": "#E5ECF6",
           "radialaxis": {
            "gridcolor": "white",
            "linecolor": "white",
            "ticks": ""
           }
          },
          "scene": {
           "xaxis": {
            "backgroundcolor": "#E5ECF6",
            "gridcolor": "white",
            "gridwidth": 2,
            "linecolor": "white",
            "showbackground": true,
            "ticks": "",
            "zerolinecolor": "white"
           },
           "yaxis": {
            "backgroundcolor": "#E5ECF6",
            "gridcolor": "white",
            "gridwidth": 2,
            "linecolor": "white",
            "showbackground": true,
            "ticks": "",
            "zerolinecolor": "white"
           },
           "zaxis": {
            "backgroundcolor": "#E5ECF6",
            "gridcolor": "white",
            "gridwidth": 2,
            "linecolor": "white",
            "showbackground": true,
            "ticks": "",
            "zerolinecolor": "white"
           }
          },
          "shapedefaults": {
           "line": {
            "color": "#2a3f5f"
           }
          },
          "ternary": {
           "aaxis": {
            "gridcolor": "white",
            "linecolor": "white",
            "ticks": ""
           },
           "baxis": {
            "gridcolor": "white",
            "linecolor": "white",
            "ticks": ""
           },
           "bgcolor": "#E5ECF6",
           "caxis": {
            "gridcolor": "white",
            "linecolor": "white",
            "ticks": ""
           }
          },
          "title": {
           "x": 0.05
          },
          "xaxis": {
           "automargin": true,
           "gridcolor": "white",
           "linecolor": "white",
           "ticks": "",
           "title": {
            "standoff": 15
           },
           "zerolinecolor": "white",
           "zerolinewidth": 2
          },
          "yaxis": {
           "automargin": true,
           "gridcolor": "white",
           "linecolor": "white",
           "ticks": "",
           "title": {
            "standoff": 15
           },
           "zerolinecolor": "white",
           "zerolinewidth": 2
          }
         }
        },
        "updatemenus": [
         {
          "buttons": [
           {
            "args": [
             null,
             {
              "frame": {
               "duration": 50
              },
              "fromcurrent": true,
              "mode": "immediate",
              "transition": {
               "duration": 50,
               "easing": "linear"
              }
             }
            ],
            "label": "Play",
            "method": "animate"
           },
           {
            "args": [
             [
              null
             ],
             {
              "frame": {
               "duration": 0
              },
              "fromcurrent": true,
              "mode": "immediate",
              "transition": {
               "duration": 0,
               "easing": "linear"
              }
             }
            ],
            "label": "Pause",
            "method": "animate"
           }
          ],
          "direction": "left",
          "pad": {
           "r": 10,
           "t": 70
          },
          "type": "buttons",
          "x": 0.1,
          "y": 0
         }
        ]
       }
      }
     },
     "metadata": {},
     "output_type": "display_data"
    }
   ],
   "source": [
    "import numpy as np\n",
    "import plotly.graph_objects as go\n",
    "\n",
    "#x,y,z = np.genfromtxt(r'dat.txt', unpack=True)\n",
    "x = np.arange(100)\n",
    "y = np.random.random(100)\n",
    "z = np.random.random(100)\n",
    "\n",
    "# Create figure\n",
    "fig = go.Figure(\n",
    "    data = go.Scatter3d(\n",
    "        x=[], y=[], z=[],\n",
    "        mode=\"markers\",\n",
    "        marker=dict(color=\"red\", size=10)\n",
    "    )\n",
    ")\n",
    "\n",
    "# Frames\n",
    "frames = [\n",
    "    go.Frame(\n",
    "        data = [\n",
    "            go.Scatter3d(\n",
    "                x=x[[k]],\n",
    "                y=y[[k]],\n",
    "                z=z[[k]]\n",
    "            )\n",
    "        ],\n",
    "        traces= [0],\n",
    "        name=f'frame{k}'      \n",
    "    )for k  in  range(len(x)-1)\n",
    "]\n",
    "fig.update(frames=frames)\n",
    "\n",
    "\n",
    "def frame_args(duration):\n",
    "    return {\n",
    "        \"frame\": {\"duration\": duration},\n",
    "        \"mode\": \"immediate\",\n",
    "        \"fromcurrent\": True,\n",
    "        \"transition\": {\"duration\": duration, \"easing\": \"linear\"},\n",
    "    }\n",
    "\n",
    "\n",
    "sliders = [\n",
    "    {\n",
    "        \"pad\": {\"b\": 10, \"t\": 60},\n",
    "        \"len\": 0.9,\n",
    "        \"x\": 0.1,\n",
    "        \"y\": 0,\n",
    "        \"steps\": [\n",
    "            {\n",
    "                \"args\": [[f.name], frame_args(0)],\n",
    "                \"label\": str(k),\n",
    "                \"method\": \"animate\",\n",
    "            } for k, f in enumerate(fig.frames)\n",
    "        ]\n",
    "    }\n",
    "]\n",
    "\n",
    "fig.update_layout(\n",
    "    updatemenus = [\n",
    "        {\n",
    "            \"buttons\":[\n",
    "                {\n",
    "                    \"args\": [None, frame_args(50)],\n",
    "                    \"label\": \"Play\", \n",
    "                    \"method\": \"animate\",\n",
    "                },\n",
    "                {\n",
    "                    \"args\": [[None], frame_args(0)],\n",
    "                    \"label\": \"Pause\", \n",
    "                    \"method\": \"animate\",\n",
    "                }\n",
    "            ],    \n",
    "            \"direction\": \"left\",\n",
    "            \"pad\": {\"r\": 10, \"t\": 70},\n",
    "            \"type\": \"buttons\",\n",
    "            \"x\": 0.1,\n",
    "            \"y\": 0,\n",
    "        }\n",
    "    ],\n",
    "    sliders=sliders\n",
    ")\n",
    "\n",
    "fig.update_layout(\n",
    "    scene = dict(\n",
    "        xaxis=dict(range=[min(x), max(x)],autorange=False),\n",
    "        yaxis=dict(range=[min(y), max(y)], autorange=False),\n",
    "        zaxis=dict(range=[min(z), max(z)], autorange=False)\n",
    "    )\n",
    ")\n",
    "\n",
    "fig.update_layout(sliders=sliders)\n",
    "fig.show()"
   ]
  },
  {
   "cell_type": "code",
   "execution_count": null,
   "metadata": {},
   "outputs": [],
   "source": []
  },
  {
   "cell_type": "code",
   "execution_count": 70,
   "metadata": {},
   "outputs": [
    {
     "data": {
      "application/vnd.plotly.v1+json": {
       "config": {
        "plotlyServerURL": "https://plot.ly"
       },
       "data": [
        {
         "marker": {
          "color": "red",
          "size": 2
         },
         "mode": "lines+markers+text",
         "type": "scatter3d",
         "x": [],
         "y": [],
         "z": []
        }
       ],
       "frames": [
        {
         "data": [
          {
           "type": "scatter3d",
           "x": [
            0.291835
           ],
           "y": [
            0.59291
           ],
           "z": [
            0.71101
           ]
          }
         ],
         "name": "frame0",
         "traces": [
          0
         ]
        },
        {
         "data": [
          {
           "type": "scatter3d",
           "x": [
            0.291782
           ],
           "y": [
            0.592881
           ],
           "z": [
            0.711023
           ]
          }
         ],
         "name": "frame1",
         "traces": [
          0
         ]
        },
        {
         "data": [
          {
           "type": "scatter3d",
           "x": [
            0.291747
           ],
           "y": [
            0.592851
           ],
           "z": [
            0.710979
           ]
          }
         ],
         "name": "frame2",
         "traces": [
          0
         ]
        },
        {
         "data": [
          {
           "type": "scatter3d",
           "x": [
            0.291769
           ],
           "y": [
            0.592873
           ],
           "z": [
            0.71095
           ]
          }
         ],
         "name": "frame3",
         "traces": [
          0
         ]
        },
        {
         "data": [
          {
           "type": "scatter3d",
           "x": [
            0.291789
           ],
           "y": [
            0.592861
           ],
           "z": [
            0.71089
           ]
          }
         ],
         "name": "frame4",
         "traces": [
          0
         ]
        },
        {
         "data": [
          {
           "type": "scatter3d",
           "x": [
            0.291778
           ],
           "y": [
            0.592806
           ],
           "z": [
            0.710833
           ]
          }
         ],
         "name": "frame5",
         "traces": [
          0
         ]
        },
        {
         "data": [
          {
           "type": "scatter3d",
           "x": [
            0.291791
           ],
           "y": [
            0.592822
           ],
           "z": [
            0.710767
           ]
          }
         ],
         "name": "frame6",
         "traces": [
          0
         ]
        },
        {
         "data": [
          {
           "type": "scatter3d",
           "x": [
            0.291785
           ],
           "y": [
            0.59286
           ],
           "z": [
            0.710719
           ]
          }
         ],
         "name": "frame7",
         "traces": [
          0
         ]
        },
        {
         "data": [
          {
           "type": "scatter3d",
           "x": [
            0.291772
           ],
           "y": [
            0.592851
           ],
           "z": [
            0.710669
           ]
          }
         ],
         "name": "frame8",
         "traces": [
          0
         ]
        },
        {
         "data": [
          {
           "type": "scatter3d",
           "x": [
            0.291743
           ],
           "y": [
            0.592817
           ],
           "z": [
            0.710593
           ]
          }
         ],
         "name": "frame9",
         "traces": [
          0
         ]
        },
        {
         "data": [
          {
           "type": "scatter3d",
           "x": [
            0.291762
           ],
           "y": [
            0.592809
           ],
           "z": [
            0.710477
           ]
          }
         ],
         "name": "frame10",
         "traces": [
          0
         ]
        },
        {
         "data": [
          {
           "type": "scatter3d",
           "x": [
            0.291784
           ],
           "y": [
            0.592769
           ],
           "z": [
            0.710342
           ]
          }
         ],
         "name": "frame11",
         "traces": [
          0
         ]
        },
        {
         "data": [
          {
           "type": "scatter3d",
           "x": [
            0.291831
           ],
           "y": [
            0.592785
           ],
           "z": [
            0.710247
           ]
          }
         ],
         "name": "frame12",
         "traces": [
          0
         ]
        },
        {
         "data": [
          {
           "type": "scatter3d",
           "x": [
            0.291831
           ],
           "y": [
            0.592743
           ],
           "z": [
            0.71015
           ]
          }
         ],
         "name": "frame13",
         "traces": [
          0
         ]
        },
        {
         "data": [
          {
           "type": "scatter3d",
           "x": [
            0.291835
           ],
           "y": [
            0.592711
           ],
           "z": [
            0.710031
           ]
          }
         ],
         "name": "frame14",
         "traces": [
          0
         ]
        },
        {
         "data": [
          {
           "type": "scatter3d",
           "x": [
            0.291847
           ],
           "y": [
            0.592709
           ],
           "z": [
            0.709961
           ]
          }
         ],
         "name": "frame15",
         "traces": [
          0
         ]
        },
        {
         "data": [
          {
           "type": "scatter3d",
           "x": [
            0.291867
           ],
           "y": [
            0.592691
           ],
           "z": [
            0.709854
           ]
          }
         ],
         "name": "frame16",
         "traces": [
          0
         ]
        },
        {
         "data": [
          {
           "type": "scatter3d",
           "x": [
            0.291927
           ],
           "y": [
            0.592708
           ],
           "z": [
            0.709737
           ]
          }
         ],
         "name": "frame17",
         "traces": [
          0
         ]
        },
        {
         "data": [
          {
           "type": "scatter3d",
           "x": [
            0.292021
           ],
           "y": [
            0.592741
           ],
           "z": [
            0.709617
           ]
          }
         ],
         "name": "frame18",
         "traces": [
          0
         ]
        },
        {
         "data": [
          {
           "type": "scatter3d",
           "x": [
            0.292167
           ],
           "y": [
            0.592752
           ],
           "z": [
            0.709483
           ]
          }
         ],
         "name": "frame19",
         "traces": [
          0
         ]
        },
        {
         "data": [
          {
           "type": "scatter3d",
           "x": [
            0.292271
           ],
           "y": [
            0.592736
           ],
           "z": [
            0.709361
           ]
          }
         ],
         "name": "frame20",
         "traces": [
          0
         ]
        },
        {
         "data": [
          {
           "type": "scatter3d",
           "x": [
            0.292371
           ],
           "y": [
            0.592752
           ],
           "z": [
            0.709298
           ]
          }
         ],
         "name": "frame21",
         "traces": [
          0
         ]
        },
        {
         "data": [
          {
           "type": "scatter3d",
           "x": [
            0.292398
           ],
           "y": [
            0.592709
           ],
           "z": [
            0.709201
           ]
          }
         ],
         "name": "frame22",
         "traces": [
          0
         ]
        },
        {
         "data": [
          {
           "type": "scatter3d",
           "x": [
            0.29243
           ],
           "y": [
            0.592704
           ],
           "z": [
            0.709163
           ]
          }
         ],
         "name": "frame23",
         "traces": [
          0
         ]
        },
        {
         "data": [
          {
           "type": "scatter3d",
           "x": [
            0.292443
           ],
           "y": [
            0.59267
           ],
           "z": [
            0.70914
           ]
          }
         ],
         "name": "frame24",
         "traces": [
          0
         ]
        },
        {
         "data": [
          {
           "type": "scatter3d",
           "x": [
            0.292458
           ],
           "y": [
            0.592646
           ],
           "z": [
            0.709106
           ]
          }
         ],
         "name": "frame25",
         "traces": [
          0
         ]
        },
        {
         "data": [
          {
           "type": "scatter3d",
           "x": [
            0.292488
           ],
           "y": [
            0.592644
           ],
           "z": [
            0.709054
           ]
          }
         ],
         "name": "frame26",
         "traces": [
          0
         ]
        },
        {
         "data": [
          {
           "type": "scatter3d",
           "x": [
            0.292542
           ],
           "y": [
            0.592646
           ],
           "z": [
            0.709007
           ]
          }
         ],
         "name": "frame27",
         "traces": [
          0
         ]
        },
        {
         "data": [
          {
           "type": "scatter3d",
           "x": [
            0.292634
           ],
           "y": [
            0.592624
           ],
           "z": [
            0.708952
           ]
          }
         ],
         "name": "frame28",
         "traces": [
          0
         ]
        },
        {
         "data": [
          {
           "type": "scatter3d",
           "x": [
            0.292726
           ],
           "y": [
            0.592602
           ],
           "z": [
            0.708881
           ]
          }
         ],
         "name": "frame29",
         "traces": [
          0
         ]
        },
        {
         "data": [
          {
           "type": "scatter3d",
           "x": [
            0.292817
           ],
           "y": [
            0.592611
           ],
           "z": [
            0.708844
           ]
          }
         ],
         "name": "frame30",
         "traces": [
          0
         ]
        },
        {
         "data": [
          {
           "type": "scatter3d",
           "x": [
            0.292879
           ],
           "y": [
            0.592608
           ],
           "z": [
            0.708828
           ]
          }
         ],
         "name": "frame31",
         "traces": [
          0
         ]
        },
        {
         "data": [
          {
           "type": "scatter3d",
           "x": [
            0.292928
           ],
           "y": [
            0.592583
           ],
           "z": [
            0.708831
           ]
          }
         ],
         "name": "frame32",
         "traces": [
          0
         ]
        },
        {
         "data": [
          {
           "type": "scatter3d",
           "x": [
            0.29294
           ],
           "y": [
            0.592565
           ],
           "z": [
            0.70886
           ]
          }
         ],
         "name": "frame33",
         "traces": [
          0
         ]
        },
        {
         "data": [
          {
           "type": "scatter3d",
           "x": [
            0.292953
           ],
           "y": [
            0.592551
           ],
           "z": [
            0.708892
           ]
          }
         ],
         "name": "frame34",
         "traces": [
          0
         ]
        },
        {
         "data": [
          {
           "type": "scatter3d",
           "x": [
            0.292943
           ],
           "y": [
            0.592506
           ],
           "z": [
            0.708873
           ]
          }
         ],
         "name": "frame35",
         "traces": [
          0
         ]
        },
        {
         "data": [
          {
           "type": "scatter3d",
           "x": [
            0.292965
           ],
           "y": [
            0.592491
           ],
           "z": [
            0.708884
           ]
          }
         ],
         "name": "frame36",
         "traces": [
          0
         ]
        },
        {
         "data": [
          {
           "type": "scatter3d",
           "x": [
            0.293023
           ],
           "y": [
            0.59249
           ],
           "z": [
            0.708863
           ]
          }
         ],
         "name": "frame37",
         "traces": [
          0
         ]
        },
        {
         "data": [
          {
           "type": "scatter3d",
           "x": [
            0.293099
           ],
           "y": [
            0.592472
           ],
           "z": [
            0.708823
           ]
          }
         ],
         "name": "frame38",
         "traces": [
          0
         ]
        },
        {
         "data": [
          {
           "type": "scatter3d",
           "x": [
            0.293256
           ],
           "y": [
            0.59251
           ],
           "z": [
            0.708793
           ]
          }
         ],
         "name": "frame39",
         "traces": [
          0
         ]
        },
        {
         "data": [
          {
           "type": "scatter3d",
           "x": [
            0.293415
           ],
           "y": [
            0.59249
           ],
           "z": [
            0.708731
           ]
          }
         ],
         "name": "frame40",
         "traces": [
          0
         ]
        },
        {
         "data": [
          {
           "type": "scatter3d",
           "x": [
            0.29356
           ],
           "y": [
            0.592496
           ],
           "z": [
            0.708681
           ]
          }
         ],
         "name": "frame41",
         "traces": [
          0
         ]
        },
        {
         "data": [
          {
           "type": "scatter3d",
           "x": [
            0.293643
           ],
           "y": [
            0.592476
           ],
           "z": [
            0.708659
           ]
          }
         ],
         "name": "frame42",
         "traces": [
          0
         ]
        },
        {
         "data": [
          {
           "type": "scatter3d",
           "x": [
            0.293695
           ],
           "y": [
            0.592433
           ],
           "z": [
            0.708655
           ]
          }
         ],
         "name": "frame43",
         "traces": [
          0
         ]
        },
        {
         "data": [
          {
           "type": "scatter3d",
           "x": [
            0.293676
           ],
           "y": [
            0.592416
           ],
           "z": [
            0.708668
           ]
          }
         ],
         "name": "frame44",
         "traces": [
          0
         ]
        },
        {
         "data": [
          {
           "type": "scatter3d",
           "x": [
            0.293658
           ],
           "y": [
            0.592382
           ],
           "z": [
            0.708638
           ]
          }
         ],
         "name": "frame45",
         "traces": [
          0
         ]
        },
        {
         "data": [
          {
           "type": "scatter3d",
           "x": [
            0.293628
           ],
           "y": [
            0.592362
           ],
           "z": [
            0.708619
           ]
          }
         ],
         "name": "frame46",
         "traces": [
          0
         ]
        },
        {
         "data": [
          {
           "type": "scatter3d",
           "x": [
            0.293595
           ],
           "y": [
            0.592323
           ],
           "z": [
            0.708559
           ]
          }
         ],
         "name": "frame47",
         "traces": [
          0
         ]
        },
        {
         "data": [
          {
           "type": "scatter3d",
           "x": [
            0.293581
           ],
           "y": [
            0.592288
           ],
           "z": [
            0.708474
           ]
          }
         ],
         "name": "frame48",
         "traces": [
          0
         ]
        },
        {
         "data": [
          {
           "type": "scatter3d",
           "x": [
            0.293632
           ],
           "y": [
            0.592285
           ],
           "z": [
            0.708362
           ]
          }
         ],
         "name": "frame49",
         "traces": [
          0
         ]
        },
        {
         "data": [
          {
           "type": "scatter3d",
           "x": [
            0.293722
           ],
           "y": [
            0.592245
           ],
           "z": [
            0.708199
           ]
          }
         ],
         "name": "frame50",
         "traces": [
          0
         ]
        },
        {
         "data": [
          {
           "type": "scatter3d",
           "x": [
            0.293779
           ],
           "y": [
            0.592227
           ],
           "z": [
            0.708062
           ]
          }
         ],
         "name": "frame51",
         "traces": [
          0
         ]
        },
        {
         "data": [
          {
           "type": "scatter3d",
           "x": [
            0.29386
           ],
           "y": [
            0.592241
           ],
           "z": [
            0.707956
           ]
          }
         ],
         "name": "frame52",
         "traces": [
          0
         ]
        },
        {
         "data": [
          {
           "type": "scatter3d",
           "x": [
            0.293908
           ],
           "y": [
            0.592236
           ],
           "z": [
            0.707859
           ]
          }
         ],
         "name": "frame53",
         "traces": [
          0
         ]
        },
        {
         "data": [
          {
           "type": "scatter3d",
           "x": [
            0.293962
           ],
           "y": [
            0.592236
           ],
           "z": [
            0.707757
           ]
          }
         ],
         "name": "frame54",
         "traces": [
          0
         ]
        },
        {
         "data": [
          {
           "type": "scatter3d",
           "x": [
            0.293985
           ],
           "y": [
            0.592207
           ],
           "z": [
            0.707642
           ]
          }
         ],
         "name": "frame55",
         "traces": [
          0
         ]
        },
        {
         "data": [
          {
           "type": "scatter3d",
           "x": [
            0.294003
           ],
           "y": [
            0.592178
           ],
           "z": [
            0.707528
           ]
          }
         ],
         "name": "frame56",
         "traces": [
          0
         ]
        },
        {
         "data": [
          {
           "type": "scatter3d",
           "x": [
            0.294055
           ],
           "y": [
            0.592177
           ],
           "z": [
            0.707407
           ]
          }
         ],
         "name": "frame57",
         "traces": [
          0
         ]
        },
        {
         "data": [
          {
           "type": "scatter3d",
           "x": [
            0.294106
           ],
           "y": [
            0.592176
           ],
           "z": [
            0.707252
           ]
          }
         ],
         "name": "frame58",
         "traces": [
          0
         ]
        },
        {
         "data": [
          {
           "type": "scatter3d",
           "x": [
            0.294127
           ],
           "y": [
            0.592172
           ],
           "z": [
            0.707146
           ]
          }
         ],
         "name": "frame59",
         "traces": [
          0
         ]
        },
        {
         "data": [
          {
           "type": "scatter3d",
           "x": [
            0.294084
           ],
           "y": [
            0.592163
           ],
           "z": [
            0.707062
           ]
          }
         ],
         "name": "frame60",
         "traces": [
          0
         ]
        },
        {
         "data": [
          {
           "type": "scatter3d",
           "x": [
            0.294039
           ],
           "y": [
            0.592131
           ],
           "z": [
            0.706993
           ]
          }
         ],
         "name": "frame61",
         "traces": [
          0
         ]
        },
        {
         "data": [
          {
           "type": "scatter3d",
           "x": [
            0.293953
           ],
           "y": [
            0.592124
           ],
           "z": [
            0.707009
           ]
          }
         ],
         "name": "frame62",
         "traces": [
          0
         ]
        },
        {
         "data": [
          {
           "type": "scatter3d",
           "x": [
            0.293903
           ],
           "y": [
            0.592054
           ],
           "z": [
            0.706996
           ]
          }
         ],
         "name": "frame63",
         "traces": [
          0
         ]
        },
        {
         "data": [
          {
           "type": "scatter3d",
           "x": [
            0.293872
           ],
           "y": [
            0.592017
           ],
           "z": [
            0.707004
           ]
          }
         ],
         "name": "frame64",
         "traces": [
          0
         ]
        },
        {
         "data": [
          {
           "type": "scatter3d",
           "x": [
            0.29388
           ],
           "y": [
            0.592012
           ],
           "z": [
            0.707009
           ]
          }
         ],
         "name": "frame65",
         "traces": [
          0
         ]
        },
        {
         "data": [
          {
           "type": "scatter3d",
           "x": [
            0.293958
           ],
           "y": [
            0.592003
           ],
           "z": [
            0.707006
           ]
          }
         ],
         "name": "frame66",
         "traces": [
          0
         ]
        },
        {
         "data": [
          {
           "type": "scatter3d",
           "x": [
            0.294096
           ],
           "y": [
            0.591998
           ],
           "z": [
            0.706964
           ]
          }
         ],
         "name": "frame67",
         "traces": [
          0
         ]
        },
        {
         "data": [
          {
           "type": "scatter3d",
           "x": [
            0.294266
           ],
           "y": [
            0.592015
           ],
           "z": [
            0.70689
           ]
          }
         ],
         "name": "frame68",
         "traces": [
          0
         ]
        },
        {
         "data": [
          {
           "type": "scatter3d",
           "x": [
            0.294433
           ],
           "y": [
            0.592025
           ],
           "z": [
            0.706804
           ]
          }
         ],
         "name": "frame69",
         "traces": [
          0
         ]
        },
        {
         "data": [
          {
           "type": "scatter3d",
           "x": [
            0.294554
           ],
           "y": [
            0.59206
           ],
           "z": [
            0.706742
           ]
          }
         ],
         "name": "frame70",
         "traces": [
          0
         ]
        },
        {
         "data": [
          {
           "type": "scatter3d",
           "x": [
            0.294652
           ],
           "y": [
            0.592073
           ],
           "z": [
            0.706718
           ]
          }
         ],
         "name": "frame71",
         "traces": [
          0
         ]
        },
        {
         "data": [
          {
           "type": "scatter3d",
           "x": [
            0.2947
           ],
           "y": [
            0.592112
           ],
           "z": [
            0.70676
           ]
          }
         ],
         "name": "frame72",
         "traces": [
          0
         ]
        },
        {
         "data": [
          {
           "type": "scatter3d",
           "x": [
            0.294699
           ],
           "y": [
            0.592103
           ],
           "z": [
            0.706822
           ]
          }
         ],
         "name": "frame73",
         "traces": [
          0
         ]
        },
        {
         "data": [
          {
           "type": "scatter3d",
           "x": [
            0.294649
           ],
           "y": [
            0.592038
           ],
           "z": [
            0.706885
           ]
          }
         ],
         "name": "frame74",
         "traces": [
          0
         ]
        },
        {
         "data": [
          {
           "type": "scatter3d",
           "x": [
            0.294577
           ],
           "y": [
            0.59203
           ],
           "z": [
            0.707017
           ]
          }
         ],
         "name": "frame75",
         "traces": [
          0
         ]
        },
        {
         "data": [
          {
           "type": "scatter3d",
           "x": [
            0.294498
           ],
           "y": [
            0.592004
           ],
           "z": [
            0.707107
           ]
          }
         ],
         "name": "frame76",
         "traces": [
          0
         ]
        },
        {
         "data": [
          {
           "type": "scatter3d",
           "x": [
            0.294414
           ],
           "y": [
            0.591972
           ],
           "z": [
            0.707162
           ]
          }
         ],
         "name": "frame77",
         "traces": [
          0
         ]
        },
        {
         "data": [
          {
           "type": "scatter3d",
           "x": [
            0.294387
           ],
           "y": [
            0.591951
           ],
           "z": [
            0.707201
           ]
          }
         ],
         "name": "frame78",
         "traces": [
          0
         ]
        },
        {
         "data": [
          {
           "type": "scatter3d",
           "x": [
            0.294354
           ],
           "y": [
            0.591942
           ],
           "z": [
            0.707223
           ]
          }
         ],
         "name": "frame79",
         "traces": [
          0
         ]
        },
        {
         "data": [
          {
           "type": "scatter3d",
           "x": [
            0.294373
           ],
           "y": [
            0.591935
           ],
           "z": [
            0.707217
           ]
          }
         ],
         "name": "frame80",
         "traces": [
          0
         ]
        },
        {
         "data": [
          {
           "type": "scatter3d",
           "x": [
            0.294362
           ],
           "y": [
            0.591932
           ],
           "z": [
            0.707247
           ]
          }
         ],
         "name": "frame81",
         "traces": [
          0
         ]
        },
        {
         "data": [
          {
           "type": "scatter3d",
           "x": [
            0.294288
           ],
           "y": [
            0.591948
           ],
           "z": [
            0.707334
           ]
          }
         ],
         "name": "frame82",
         "traces": [
          0
         ]
        },
        {
         "data": [
          {
           "type": "scatter3d",
           "x": [
            0.29406
           ],
           "y": [
            0.591884
           ],
           "z": [
            0.707462
           ]
          }
         ],
         "name": "frame83",
         "traces": [
          0
         ]
        },
        {
         "data": [
          {
           "type": "scatter3d",
           "x": [
            0.293728
           ],
           "y": [
            0.591814
           ],
           "z": [
            0.707665
           ]
          }
         ],
         "name": "frame84",
         "traces": [
          0
         ]
        },
        {
         "data": [
          {
           "type": "scatter3d",
           "x": [
            0.293312
           ],
           "y": [
            0.591723
           ],
           "z": [
            0.707959
           ]
          }
         ],
         "name": "frame85",
         "traces": [
          0
         ]
        },
        {
         "data": [
          {
           "type": "scatter3d",
           "x": [
            0.292761
           ],
           "y": [
            0.591575
           ],
           "z": [
            0.708342
           ]
          }
         ],
         "name": "frame86",
         "traces": [
          0
         ]
        },
        {
         "data": [
          {
           "type": "scatter3d",
           "x": [
            0.292101
           ],
           "y": [
            0.591433
           ],
           "z": [
            0.70878
           ]
          }
         ],
         "name": "frame87",
         "traces": [
          0
         ]
        },
        {
         "data": [
          {
           "type": "scatter3d",
           "x": [
            0.291326
           ],
           "y": [
            0.591222
           ],
           "z": [
            0.709327
           ]
          }
         ],
         "name": "frame88",
         "traces": [
          0
         ]
        },
        {
         "data": [
          {
           "type": "scatter3d",
           "x": [
            0.290763
           ],
           "y": [
            0.591014
           ],
           "z": [
            0.709834
           ]
          }
         ],
         "name": "frame89",
         "traces": [
          0
         ]
        },
        {
         "data": [
          {
           "type": "scatter3d",
           "x": [
            0.290222
           ],
           "y": [
            0.590734
           ],
           "z": [
            0.710471
           ]
          }
         ],
         "name": "frame90",
         "traces": [
          0
         ]
        },
        {
         "data": [
          {
           "type": "scatter3d",
           "x": [
            0.289733
           ],
           "y": [
            0.59052
           ],
           "z": [
            0.711087
           ]
          }
         ],
         "name": "frame91",
         "traces": [
          0
         ]
        },
        {
         "data": [
          {
           "type": "scatter3d",
           "x": [
            0.289369
           ],
           "y": [
            0.590361
           ],
           "z": [
            0.711684
           ]
          }
         ],
         "name": "frame92",
         "traces": [
          0
         ]
        },
        {
         "data": [
          {
           "type": "scatter3d",
           "x": [
            0.289143
           ],
           "y": [
            0.590186
           ],
           "z": [
            0.712328
           ]
          }
         ],
         "name": "frame93",
         "traces": [
          0
         ]
        },
        {
         "data": [
          {
           "type": "scatter3d",
           "x": [
            0.288933
           ],
           "y": [
            0.589917
           ],
           "z": [
            0.712995
           ]
          }
         ],
         "name": "frame94",
         "traces": [
          0
         ]
        },
        {
         "data": [
          {
           "type": "scatter3d",
           "x": [
            0.28849
           ],
           "y": [
            0.589604
           ],
           "z": [
            0.713891
           ]
          }
         ],
         "name": "frame95",
         "traces": [
          0
         ]
        },
        {
         "data": [
          {
           "type": "scatter3d",
           "x": [
            0.287963
           ],
           "y": [
            0.589124
           ],
           "z": [
            0.71484
           ]
          }
         ],
         "name": "frame96",
         "traces": [
          0
         ]
        },
        {
         "data": [
          {
           "type": "scatter3d",
           "x": [
            0.287156
           ],
           "y": [
            0.588564
           ],
           "z": [
            0.716002
           ]
          }
         ],
         "name": "frame97",
         "traces": [
          0
         ]
        },
        {
         "data": [
          {
           "type": "scatter3d",
           "x": [
            0.286088
           ],
           "y": [
            0.587866
           ],
           "z": [
            0.717254
           ]
          }
         ],
         "name": "frame98",
         "traces": [
          0
         ]
        }
       ],
       "layout": {
        "scene": {
         "aspectmode": "cube",
         "camera": {
          "eye": {
           "x": -1,
           "y": -1,
           "z": 1
          }
         },
         "xaxis": {
          "range": [
           -0.1,
           1.0938970000000001
          ]
         },
         "yaxis": {
          "range": [
           -0.1,
           1.0938970000000001
          ]
         },
         "zaxis": {
          "range": [
           -0.1,
           1.0938970000000001
          ]
         }
        },
        "sliders": [
         {
          "len": 0.9,
          "pad": {
           "b": 10,
           "t": 60
          },
          "steps": [
           {
            "args": [
             [
              "frame0"
             ],
             {
              "frame": {
               "duration": 0
              },
              "fromcurrent": true,
              "mode": "immediate",
              "transition": {
               "duration": 0,
               "easing": "linear"
              }
             }
            ],
            "label": "0",
            "method": "animate"
           },
           {
            "args": [
             [
              "frame1"
             ],
             {
              "frame": {
               "duration": 0
              },
              "fromcurrent": true,
              "mode": "immediate",
              "transition": {
               "duration": 0,
               "easing": "linear"
              }
             }
            ],
            "label": "1",
            "method": "animate"
           },
           {
            "args": [
             [
              "frame2"
             ],
             {
              "frame": {
               "duration": 0
              },
              "fromcurrent": true,
              "mode": "immediate",
              "transition": {
               "duration": 0,
               "easing": "linear"
              }
             }
            ],
            "label": "2",
            "method": "animate"
           },
           {
            "args": [
             [
              "frame3"
             ],
             {
              "frame": {
               "duration": 0
              },
              "fromcurrent": true,
              "mode": "immediate",
              "transition": {
               "duration": 0,
               "easing": "linear"
              }
             }
            ],
            "label": "3",
            "method": "animate"
           },
           {
            "args": [
             [
              "frame4"
             ],
             {
              "frame": {
               "duration": 0
              },
              "fromcurrent": true,
              "mode": "immediate",
              "transition": {
               "duration": 0,
               "easing": "linear"
              }
             }
            ],
            "label": "4",
            "method": "animate"
           },
           {
            "args": [
             [
              "frame5"
             ],
             {
              "frame": {
               "duration": 0
              },
              "fromcurrent": true,
              "mode": "immediate",
              "transition": {
               "duration": 0,
               "easing": "linear"
              }
             }
            ],
            "label": "5",
            "method": "animate"
           },
           {
            "args": [
             [
              "frame6"
             ],
             {
              "frame": {
               "duration": 0
              },
              "fromcurrent": true,
              "mode": "immediate",
              "transition": {
               "duration": 0,
               "easing": "linear"
              }
             }
            ],
            "label": "6",
            "method": "animate"
           },
           {
            "args": [
             [
              "frame7"
             ],
             {
              "frame": {
               "duration": 0
              },
              "fromcurrent": true,
              "mode": "immediate",
              "transition": {
               "duration": 0,
               "easing": "linear"
              }
             }
            ],
            "label": "7",
            "method": "animate"
           },
           {
            "args": [
             [
              "frame8"
             ],
             {
              "frame": {
               "duration": 0
              },
              "fromcurrent": true,
              "mode": "immediate",
              "transition": {
               "duration": 0,
               "easing": "linear"
              }
             }
            ],
            "label": "8",
            "method": "animate"
           },
           {
            "args": [
             [
              "frame9"
             ],
             {
              "frame": {
               "duration": 0
              },
              "fromcurrent": true,
              "mode": "immediate",
              "transition": {
               "duration": 0,
               "easing": "linear"
              }
             }
            ],
            "label": "9",
            "method": "animate"
           },
           {
            "args": [
             [
              "frame10"
             ],
             {
              "frame": {
               "duration": 0
              },
              "fromcurrent": true,
              "mode": "immediate",
              "transition": {
               "duration": 0,
               "easing": "linear"
              }
             }
            ],
            "label": "10",
            "method": "animate"
           },
           {
            "args": [
             [
              "frame11"
             ],
             {
              "frame": {
               "duration": 0
              },
              "fromcurrent": true,
              "mode": "immediate",
              "transition": {
               "duration": 0,
               "easing": "linear"
              }
             }
            ],
            "label": "11",
            "method": "animate"
           },
           {
            "args": [
             [
              "frame12"
             ],
             {
              "frame": {
               "duration": 0
              },
              "fromcurrent": true,
              "mode": "immediate",
              "transition": {
               "duration": 0,
               "easing": "linear"
              }
             }
            ],
            "label": "12",
            "method": "animate"
           },
           {
            "args": [
             [
              "frame13"
             ],
             {
              "frame": {
               "duration": 0
              },
              "fromcurrent": true,
              "mode": "immediate",
              "transition": {
               "duration": 0,
               "easing": "linear"
              }
             }
            ],
            "label": "13",
            "method": "animate"
           },
           {
            "args": [
             [
              "frame14"
             ],
             {
              "frame": {
               "duration": 0
              },
              "fromcurrent": true,
              "mode": "immediate",
              "transition": {
               "duration": 0,
               "easing": "linear"
              }
             }
            ],
            "label": "14",
            "method": "animate"
           },
           {
            "args": [
             [
              "frame15"
             ],
             {
              "frame": {
               "duration": 0
              },
              "fromcurrent": true,
              "mode": "immediate",
              "transition": {
               "duration": 0,
               "easing": "linear"
              }
             }
            ],
            "label": "15",
            "method": "animate"
           },
           {
            "args": [
             [
              "frame16"
             ],
             {
              "frame": {
               "duration": 0
              },
              "fromcurrent": true,
              "mode": "immediate",
              "transition": {
               "duration": 0,
               "easing": "linear"
              }
             }
            ],
            "label": "16",
            "method": "animate"
           },
           {
            "args": [
             [
              "frame17"
             ],
             {
              "frame": {
               "duration": 0
              },
              "fromcurrent": true,
              "mode": "immediate",
              "transition": {
               "duration": 0,
               "easing": "linear"
              }
             }
            ],
            "label": "17",
            "method": "animate"
           },
           {
            "args": [
             [
              "frame18"
             ],
             {
              "frame": {
               "duration": 0
              },
              "fromcurrent": true,
              "mode": "immediate",
              "transition": {
               "duration": 0,
               "easing": "linear"
              }
             }
            ],
            "label": "18",
            "method": "animate"
           },
           {
            "args": [
             [
              "frame19"
             ],
             {
              "frame": {
               "duration": 0
              },
              "fromcurrent": true,
              "mode": "immediate",
              "transition": {
               "duration": 0,
               "easing": "linear"
              }
             }
            ],
            "label": "19",
            "method": "animate"
           },
           {
            "args": [
             [
              "frame20"
             ],
             {
              "frame": {
               "duration": 0
              },
              "fromcurrent": true,
              "mode": "immediate",
              "transition": {
               "duration": 0,
               "easing": "linear"
              }
             }
            ],
            "label": "20",
            "method": "animate"
           },
           {
            "args": [
             [
              "frame21"
             ],
             {
              "frame": {
               "duration": 0
              },
              "fromcurrent": true,
              "mode": "immediate",
              "transition": {
               "duration": 0,
               "easing": "linear"
              }
             }
            ],
            "label": "21",
            "method": "animate"
           },
           {
            "args": [
             [
              "frame22"
             ],
             {
              "frame": {
               "duration": 0
              },
              "fromcurrent": true,
              "mode": "immediate",
              "transition": {
               "duration": 0,
               "easing": "linear"
              }
             }
            ],
            "label": "22",
            "method": "animate"
           },
           {
            "args": [
             [
              "frame23"
             ],
             {
              "frame": {
               "duration": 0
              },
              "fromcurrent": true,
              "mode": "immediate",
              "transition": {
               "duration": 0,
               "easing": "linear"
              }
             }
            ],
            "label": "23",
            "method": "animate"
           },
           {
            "args": [
             [
              "frame24"
             ],
             {
              "frame": {
               "duration": 0
              },
              "fromcurrent": true,
              "mode": "immediate",
              "transition": {
               "duration": 0,
               "easing": "linear"
              }
             }
            ],
            "label": "24",
            "method": "animate"
           },
           {
            "args": [
             [
              "frame25"
             ],
             {
              "frame": {
               "duration": 0
              },
              "fromcurrent": true,
              "mode": "immediate",
              "transition": {
               "duration": 0,
               "easing": "linear"
              }
             }
            ],
            "label": "25",
            "method": "animate"
           },
           {
            "args": [
             [
              "frame26"
             ],
             {
              "frame": {
               "duration": 0
              },
              "fromcurrent": true,
              "mode": "immediate",
              "transition": {
               "duration": 0,
               "easing": "linear"
              }
             }
            ],
            "label": "26",
            "method": "animate"
           },
           {
            "args": [
             [
              "frame27"
             ],
             {
              "frame": {
               "duration": 0
              },
              "fromcurrent": true,
              "mode": "immediate",
              "transition": {
               "duration": 0,
               "easing": "linear"
              }
             }
            ],
            "label": "27",
            "method": "animate"
           },
           {
            "args": [
             [
              "frame28"
             ],
             {
              "frame": {
               "duration": 0
              },
              "fromcurrent": true,
              "mode": "immediate",
              "transition": {
               "duration": 0,
               "easing": "linear"
              }
             }
            ],
            "label": "28",
            "method": "animate"
           },
           {
            "args": [
             [
              "frame29"
             ],
             {
              "frame": {
               "duration": 0
              },
              "fromcurrent": true,
              "mode": "immediate",
              "transition": {
               "duration": 0,
               "easing": "linear"
              }
             }
            ],
            "label": "29",
            "method": "animate"
           },
           {
            "args": [
             [
              "frame30"
             ],
             {
              "frame": {
               "duration": 0
              },
              "fromcurrent": true,
              "mode": "immediate",
              "transition": {
               "duration": 0,
               "easing": "linear"
              }
             }
            ],
            "label": "30",
            "method": "animate"
           },
           {
            "args": [
             [
              "frame31"
             ],
             {
              "frame": {
               "duration": 0
              },
              "fromcurrent": true,
              "mode": "immediate",
              "transition": {
               "duration": 0,
               "easing": "linear"
              }
             }
            ],
            "label": "31",
            "method": "animate"
           },
           {
            "args": [
             [
              "frame32"
             ],
             {
              "frame": {
               "duration": 0
              },
              "fromcurrent": true,
              "mode": "immediate",
              "transition": {
               "duration": 0,
               "easing": "linear"
              }
             }
            ],
            "label": "32",
            "method": "animate"
           },
           {
            "args": [
             [
              "frame33"
             ],
             {
              "frame": {
               "duration": 0
              },
              "fromcurrent": true,
              "mode": "immediate",
              "transition": {
               "duration": 0,
               "easing": "linear"
              }
             }
            ],
            "label": "33",
            "method": "animate"
           },
           {
            "args": [
             [
              "frame34"
             ],
             {
              "frame": {
               "duration": 0
              },
              "fromcurrent": true,
              "mode": "immediate",
              "transition": {
               "duration": 0,
               "easing": "linear"
              }
             }
            ],
            "label": "34",
            "method": "animate"
           },
           {
            "args": [
             [
              "frame35"
             ],
             {
              "frame": {
               "duration": 0
              },
              "fromcurrent": true,
              "mode": "immediate",
              "transition": {
               "duration": 0,
               "easing": "linear"
              }
             }
            ],
            "label": "35",
            "method": "animate"
           },
           {
            "args": [
             [
              "frame36"
             ],
             {
              "frame": {
               "duration": 0
              },
              "fromcurrent": true,
              "mode": "immediate",
              "transition": {
               "duration": 0,
               "easing": "linear"
              }
             }
            ],
            "label": "36",
            "method": "animate"
           },
           {
            "args": [
             [
              "frame37"
             ],
             {
              "frame": {
               "duration": 0
              },
              "fromcurrent": true,
              "mode": "immediate",
              "transition": {
               "duration": 0,
               "easing": "linear"
              }
             }
            ],
            "label": "37",
            "method": "animate"
           },
           {
            "args": [
             [
              "frame38"
             ],
             {
              "frame": {
               "duration": 0
              },
              "fromcurrent": true,
              "mode": "immediate",
              "transition": {
               "duration": 0,
               "easing": "linear"
              }
             }
            ],
            "label": "38",
            "method": "animate"
           },
           {
            "args": [
             [
              "frame39"
             ],
             {
              "frame": {
               "duration": 0
              },
              "fromcurrent": true,
              "mode": "immediate",
              "transition": {
               "duration": 0,
               "easing": "linear"
              }
             }
            ],
            "label": "39",
            "method": "animate"
           },
           {
            "args": [
             [
              "frame40"
             ],
             {
              "frame": {
               "duration": 0
              },
              "fromcurrent": true,
              "mode": "immediate",
              "transition": {
               "duration": 0,
               "easing": "linear"
              }
             }
            ],
            "label": "40",
            "method": "animate"
           },
           {
            "args": [
             [
              "frame41"
             ],
             {
              "frame": {
               "duration": 0
              },
              "fromcurrent": true,
              "mode": "immediate",
              "transition": {
               "duration": 0,
               "easing": "linear"
              }
             }
            ],
            "label": "41",
            "method": "animate"
           },
           {
            "args": [
             [
              "frame42"
             ],
             {
              "frame": {
               "duration": 0
              },
              "fromcurrent": true,
              "mode": "immediate",
              "transition": {
               "duration": 0,
               "easing": "linear"
              }
             }
            ],
            "label": "42",
            "method": "animate"
           },
           {
            "args": [
             [
              "frame43"
             ],
             {
              "frame": {
               "duration": 0
              },
              "fromcurrent": true,
              "mode": "immediate",
              "transition": {
               "duration": 0,
               "easing": "linear"
              }
             }
            ],
            "label": "43",
            "method": "animate"
           },
           {
            "args": [
             [
              "frame44"
             ],
             {
              "frame": {
               "duration": 0
              },
              "fromcurrent": true,
              "mode": "immediate",
              "transition": {
               "duration": 0,
               "easing": "linear"
              }
             }
            ],
            "label": "44",
            "method": "animate"
           },
           {
            "args": [
             [
              "frame45"
             ],
             {
              "frame": {
               "duration": 0
              },
              "fromcurrent": true,
              "mode": "immediate",
              "transition": {
               "duration": 0,
               "easing": "linear"
              }
             }
            ],
            "label": "45",
            "method": "animate"
           },
           {
            "args": [
             [
              "frame46"
             ],
             {
              "frame": {
               "duration": 0
              },
              "fromcurrent": true,
              "mode": "immediate",
              "transition": {
               "duration": 0,
               "easing": "linear"
              }
             }
            ],
            "label": "46",
            "method": "animate"
           },
           {
            "args": [
             [
              "frame47"
             ],
             {
              "frame": {
               "duration": 0
              },
              "fromcurrent": true,
              "mode": "immediate",
              "transition": {
               "duration": 0,
               "easing": "linear"
              }
             }
            ],
            "label": "47",
            "method": "animate"
           },
           {
            "args": [
             [
              "frame48"
             ],
             {
              "frame": {
               "duration": 0
              },
              "fromcurrent": true,
              "mode": "immediate",
              "transition": {
               "duration": 0,
               "easing": "linear"
              }
             }
            ],
            "label": "48",
            "method": "animate"
           },
           {
            "args": [
             [
              "frame49"
             ],
             {
              "frame": {
               "duration": 0
              },
              "fromcurrent": true,
              "mode": "immediate",
              "transition": {
               "duration": 0,
               "easing": "linear"
              }
             }
            ],
            "label": "49",
            "method": "animate"
           },
           {
            "args": [
             [
              "frame50"
             ],
             {
              "frame": {
               "duration": 0
              },
              "fromcurrent": true,
              "mode": "immediate",
              "transition": {
               "duration": 0,
               "easing": "linear"
              }
             }
            ],
            "label": "50",
            "method": "animate"
           },
           {
            "args": [
             [
              "frame51"
             ],
             {
              "frame": {
               "duration": 0
              },
              "fromcurrent": true,
              "mode": "immediate",
              "transition": {
               "duration": 0,
               "easing": "linear"
              }
             }
            ],
            "label": "51",
            "method": "animate"
           },
           {
            "args": [
             [
              "frame52"
             ],
             {
              "frame": {
               "duration": 0
              },
              "fromcurrent": true,
              "mode": "immediate",
              "transition": {
               "duration": 0,
               "easing": "linear"
              }
             }
            ],
            "label": "52",
            "method": "animate"
           },
           {
            "args": [
             [
              "frame53"
             ],
             {
              "frame": {
               "duration": 0
              },
              "fromcurrent": true,
              "mode": "immediate",
              "transition": {
               "duration": 0,
               "easing": "linear"
              }
             }
            ],
            "label": "53",
            "method": "animate"
           },
           {
            "args": [
             [
              "frame54"
             ],
             {
              "frame": {
               "duration": 0
              },
              "fromcurrent": true,
              "mode": "immediate",
              "transition": {
               "duration": 0,
               "easing": "linear"
              }
             }
            ],
            "label": "54",
            "method": "animate"
           },
           {
            "args": [
             [
              "frame55"
             ],
             {
              "frame": {
               "duration": 0
              },
              "fromcurrent": true,
              "mode": "immediate",
              "transition": {
               "duration": 0,
               "easing": "linear"
              }
             }
            ],
            "label": "55",
            "method": "animate"
           },
           {
            "args": [
             [
              "frame56"
             ],
             {
              "frame": {
               "duration": 0
              },
              "fromcurrent": true,
              "mode": "immediate",
              "transition": {
               "duration": 0,
               "easing": "linear"
              }
             }
            ],
            "label": "56",
            "method": "animate"
           },
           {
            "args": [
             [
              "frame57"
             ],
             {
              "frame": {
               "duration": 0
              },
              "fromcurrent": true,
              "mode": "immediate",
              "transition": {
               "duration": 0,
               "easing": "linear"
              }
             }
            ],
            "label": "57",
            "method": "animate"
           },
           {
            "args": [
             [
              "frame58"
             ],
             {
              "frame": {
               "duration": 0
              },
              "fromcurrent": true,
              "mode": "immediate",
              "transition": {
               "duration": 0,
               "easing": "linear"
              }
             }
            ],
            "label": "58",
            "method": "animate"
           },
           {
            "args": [
             [
              "frame59"
             ],
             {
              "frame": {
               "duration": 0
              },
              "fromcurrent": true,
              "mode": "immediate",
              "transition": {
               "duration": 0,
               "easing": "linear"
              }
             }
            ],
            "label": "59",
            "method": "animate"
           },
           {
            "args": [
             [
              "frame60"
             ],
             {
              "frame": {
               "duration": 0
              },
              "fromcurrent": true,
              "mode": "immediate",
              "transition": {
               "duration": 0,
               "easing": "linear"
              }
             }
            ],
            "label": "60",
            "method": "animate"
           },
           {
            "args": [
             [
              "frame61"
             ],
             {
              "frame": {
               "duration": 0
              },
              "fromcurrent": true,
              "mode": "immediate",
              "transition": {
               "duration": 0,
               "easing": "linear"
              }
             }
            ],
            "label": "61",
            "method": "animate"
           },
           {
            "args": [
             [
              "frame62"
             ],
             {
              "frame": {
               "duration": 0
              },
              "fromcurrent": true,
              "mode": "immediate",
              "transition": {
               "duration": 0,
               "easing": "linear"
              }
             }
            ],
            "label": "62",
            "method": "animate"
           },
           {
            "args": [
             [
              "frame63"
             ],
             {
              "frame": {
               "duration": 0
              },
              "fromcurrent": true,
              "mode": "immediate",
              "transition": {
               "duration": 0,
               "easing": "linear"
              }
             }
            ],
            "label": "63",
            "method": "animate"
           },
           {
            "args": [
             [
              "frame64"
             ],
             {
              "frame": {
               "duration": 0
              },
              "fromcurrent": true,
              "mode": "immediate",
              "transition": {
               "duration": 0,
               "easing": "linear"
              }
             }
            ],
            "label": "64",
            "method": "animate"
           },
           {
            "args": [
             [
              "frame65"
             ],
             {
              "frame": {
               "duration": 0
              },
              "fromcurrent": true,
              "mode": "immediate",
              "transition": {
               "duration": 0,
               "easing": "linear"
              }
             }
            ],
            "label": "65",
            "method": "animate"
           },
           {
            "args": [
             [
              "frame66"
             ],
             {
              "frame": {
               "duration": 0
              },
              "fromcurrent": true,
              "mode": "immediate",
              "transition": {
               "duration": 0,
               "easing": "linear"
              }
             }
            ],
            "label": "66",
            "method": "animate"
           },
           {
            "args": [
             [
              "frame67"
             ],
             {
              "frame": {
               "duration": 0
              },
              "fromcurrent": true,
              "mode": "immediate",
              "transition": {
               "duration": 0,
               "easing": "linear"
              }
             }
            ],
            "label": "67",
            "method": "animate"
           },
           {
            "args": [
             [
              "frame68"
             ],
             {
              "frame": {
               "duration": 0
              },
              "fromcurrent": true,
              "mode": "immediate",
              "transition": {
               "duration": 0,
               "easing": "linear"
              }
             }
            ],
            "label": "68",
            "method": "animate"
           },
           {
            "args": [
             [
              "frame69"
             ],
             {
              "frame": {
               "duration": 0
              },
              "fromcurrent": true,
              "mode": "immediate",
              "transition": {
               "duration": 0,
               "easing": "linear"
              }
             }
            ],
            "label": "69",
            "method": "animate"
           },
           {
            "args": [
             [
              "frame70"
             ],
             {
              "frame": {
               "duration": 0
              },
              "fromcurrent": true,
              "mode": "immediate",
              "transition": {
               "duration": 0,
               "easing": "linear"
              }
             }
            ],
            "label": "70",
            "method": "animate"
           },
           {
            "args": [
             [
              "frame71"
             ],
             {
              "frame": {
               "duration": 0
              },
              "fromcurrent": true,
              "mode": "immediate",
              "transition": {
               "duration": 0,
               "easing": "linear"
              }
             }
            ],
            "label": "71",
            "method": "animate"
           },
           {
            "args": [
             [
              "frame72"
             ],
             {
              "frame": {
               "duration": 0
              },
              "fromcurrent": true,
              "mode": "immediate",
              "transition": {
               "duration": 0,
               "easing": "linear"
              }
             }
            ],
            "label": "72",
            "method": "animate"
           },
           {
            "args": [
             [
              "frame73"
             ],
             {
              "frame": {
               "duration": 0
              },
              "fromcurrent": true,
              "mode": "immediate",
              "transition": {
               "duration": 0,
               "easing": "linear"
              }
             }
            ],
            "label": "73",
            "method": "animate"
           },
           {
            "args": [
             [
              "frame74"
             ],
             {
              "frame": {
               "duration": 0
              },
              "fromcurrent": true,
              "mode": "immediate",
              "transition": {
               "duration": 0,
               "easing": "linear"
              }
             }
            ],
            "label": "74",
            "method": "animate"
           },
           {
            "args": [
             [
              "frame75"
             ],
             {
              "frame": {
               "duration": 0
              },
              "fromcurrent": true,
              "mode": "immediate",
              "transition": {
               "duration": 0,
               "easing": "linear"
              }
             }
            ],
            "label": "75",
            "method": "animate"
           },
           {
            "args": [
             [
              "frame76"
             ],
             {
              "frame": {
               "duration": 0
              },
              "fromcurrent": true,
              "mode": "immediate",
              "transition": {
               "duration": 0,
               "easing": "linear"
              }
             }
            ],
            "label": "76",
            "method": "animate"
           },
           {
            "args": [
             [
              "frame77"
             ],
             {
              "frame": {
               "duration": 0
              },
              "fromcurrent": true,
              "mode": "immediate",
              "transition": {
               "duration": 0,
               "easing": "linear"
              }
             }
            ],
            "label": "77",
            "method": "animate"
           },
           {
            "args": [
             [
              "frame78"
             ],
             {
              "frame": {
               "duration": 0
              },
              "fromcurrent": true,
              "mode": "immediate",
              "transition": {
               "duration": 0,
               "easing": "linear"
              }
             }
            ],
            "label": "78",
            "method": "animate"
           },
           {
            "args": [
             [
              "frame79"
             ],
             {
              "frame": {
               "duration": 0
              },
              "fromcurrent": true,
              "mode": "immediate",
              "transition": {
               "duration": 0,
               "easing": "linear"
              }
             }
            ],
            "label": "79",
            "method": "animate"
           },
           {
            "args": [
             [
              "frame80"
             ],
             {
              "frame": {
               "duration": 0
              },
              "fromcurrent": true,
              "mode": "immediate",
              "transition": {
               "duration": 0,
               "easing": "linear"
              }
             }
            ],
            "label": "80",
            "method": "animate"
           },
           {
            "args": [
             [
              "frame81"
             ],
             {
              "frame": {
               "duration": 0
              },
              "fromcurrent": true,
              "mode": "immediate",
              "transition": {
               "duration": 0,
               "easing": "linear"
              }
             }
            ],
            "label": "81",
            "method": "animate"
           },
           {
            "args": [
             [
              "frame82"
             ],
             {
              "frame": {
               "duration": 0
              },
              "fromcurrent": true,
              "mode": "immediate",
              "transition": {
               "duration": 0,
               "easing": "linear"
              }
             }
            ],
            "label": "82",
            "method": "animate"
           },
           {
            "args": [
             [
              "frame83"
             ],
             {
              "frame": {
               "duration": 0
              },
              "fromcurrent": true,
              "mode": "immediate",
              "transition": {
               "duration": 0,
               "easing": "linear"
              }
             }
            ],
            "label": "83",
            "method": "animate"
           },
           {
            "args": [
             [
              "frame84"
             ],
             {
              "frame": {
               "duration": 0
              },
              "fromcurrent": true,
              "mode": "immediate",
              "transition": {
               "duration": 0,
               "easing": "linear"
              }
             }
            ],
            "label": "84",
            "method": "animate"
           },
           {
            "args": [
             [
              "frame85"
             ],
             {
              "frame": {
               "duration": 0
              },
              "fromcurrent": true,
              "mode": "immediate",
              "transition": {
               "duration": 0,
               "easing": "linear"
              }
             }
            ],
            "label": "85",
            "method": "animate"
           },
           {
            "args": [
             [
              "frame86"
             ],
             {
              "frame": {
               "duration": 0
              },
              "fromcurrent": true,
              "mode": "immediate",
              "transition": {
               "duration": 0,
               "easing": "linear"
              }
             }
            ],
            "label": "86",
            "method": "animate"
           },
           {
            "args": [
             [
              "frame87"
             ],
             {
              "frame": {
               "duration": 0
              },
              "fromcurrent": true,
              "mode": "immediate",
              "transition": {
               "duration": 0,
               "easing": "linear"
              }
             }
            ],
            "label": "87",
            "method": "animate"
           },
           {
            "args": [
             [
              "frame88"
             ],
             {
              "frame": {
               "duration": 0
              },
              "fromcurrent": true,
              "mode": "immediate",
              "transition": {
               "duration": 0,
               "easing": "linear"
              }
             }
            ],
            "label": "88",
            "method": "animate"
           },
           {
            "args": [
             [
              "frame89"
             ],
             {
              "frame": {
               "duration": 0
              },
              "fromcurrent": true,
              "mode": "immediate",
              "transition": {
               "duration": 0,
               "easing": "linear"
              }
             }
            ],
            "label": "89",
            "method": "animate"
           },
           {
            "args": [
             [
              "frame90"
             ],
             {
              "frame": {
               "duration": 0
              },
              "fromcurrent": true,
              "mode": "immediate",
              "transition": {
               "duration": 0,
               "easing": "linear"
              }
             }
            ],
            "label": "90",
            "method": "animate"
           },
           {
            "args": [
             [
              "frame91"
             ],
             {
              "frame": {
               "duration": 0
              },
              "fromcurrent": true,
              "mode": "immediate",
              "transition": {
               "duration": 0,
               "easing": "linear"
              }
             }
            ],
            "label": "91",
            "method": "animate"
           },
           {
            "args": [
             [
              "frame92"
             ],
             {
              "frame": {
               "duration": 0
              },
              "fromcurrent": true,
              "mode": "immediate",
              "transition": {
               "duration": 0,
               "easing": "linear"
              }
             }
            ],
            "label": "92",
            "method": "animate"
           },
           {
            "args": [
             [
              "frame93"
             ],
             {
              "frame": {
               "duration": 0
              },
              "fromcurrent": true,
              "mode": "immediate",
              "transition": {
               "duration": 0,
               "easing": "linear"
              }
             }
            ],
            "label": "93",
            "method": "animate"
           },
           {
            "args": [
             [
              "frame94"
             ],
             {
              "frame": {
               "duration": 0
              },
              "fromcurrent": true,
              "mode": "immediate",
              "transition": {
               "duration": 0,
               "easing": "linear"
              }
             }
            ],
            "label": "94",
            "method": "animate"
           },
           {
            "args": [
             [
              "frame95"
             ],
             {
              "frame": {
               "duration": 0
              },
              "fromcurrent": true,
              "mode": "immediate",
              "transition": {
               "duration": 0,
               "easing": "linear"
              }
             }
            ],
            "label": "95",
            "method": "animate"
           },
           {
            "args": [
             [
              "frame96"
             ],
             {
              "frame": {
               "duration": 0
              },
              "fromcurrent": true,
              "mode": "immediate",
              "transition": {
               "duration": 0,
               "easing": "linear"
              }
             }
            ],
            "label": "96",
            "method": "animate"
           },
           {
            "args": [
             [
              "frame97"
             ],
             {
              "frame": {
               "duration": 0
              },
              "fromcurrent": true,
              "mode": "immediate",
              "transition": {
               "duration": 0,
               "easing": "linear"
              }
             }
            ],
            "label": "97",
            "method": "animate"
           },
           {
            "args": [
             [
              "frame98"
             ],
             {
              "frame": {
               "duration": 0
              },
              "fromcurrent": true,
              "mode": "immediate",
              "transition": {
               "duration": 0,
               "easing": "linear"
              }
             }
            ],
            "label": "98",
            "method": "animate"
           }
          ],
          "x": 0.1,
          "y": 0
         }
        ],
        "template": {
         "data": {
          "bar": [
           {
            "error_x": {
             "color": "#2a3f5f"
            },
            "error_y": {
             "color": "#2a3f5f"
            },
            "marker": {
             "line": {
              "color": "#E5ECF6",
              "width": 0.5
             },
             "pattern": {
              "fillmode": "overlay",
              "size": 10,
              "solidity": 0.2
             }
            },
            "type": "bar"
           }
          ],
          "barpolar": [
           {
            "marker": {
             "line": {
              "color": "#E5ECF6",
              "width": 0.5
             },
             "pattern": {
              "fillmode": "overlay",
              "size": 10,
              "solidity": 0.2
             }
            },
            "type": "barpolar"
           }
          ],
          "carpet": [
           {
            "aaxis": {
             "endlinecolor": "#2a3f5f",
             "gridcolor": "white",
             "linecolor": "white",
             "minorgridcolor": "white",
             "startlinecolor": "#2a3f5f"
            },
            "baxis": {
             "endlinecolor": "#2a3f5f",
             "gridcolor": "white",
             "linecolor": "white",
             "minorgridcolor": "white",
             "startlinecolor": "#2a3f5f"
            },
            "type": "carpet"
           }
          ],
          "choropleth": [
           {
            "colorbar": {
             "outlinewidth": 0,
             "ticks": ""
            },
            "type": "choropleth"
           }
          ],
          "contour": [
           {
            "colorbar": {
             "outlinewidth": 0,
             "ticks": ""
            },
            "colorscale": [
             [
              0,
              "#0d0887"
             ],
             [
              0.1111111111111111,
              "#46039f"
             ],
             [
              0.2222222222222222,
              "#7201a8"
             ],
             [
              0.3333333333333333,
              "#9c179e"
             ],
             [
              0.4444444444444444,
              "#bd3786"
             ],
             [
              0.5555555555555556,
              "#d8576b"
             ],
             [
              0.6666666666666666,
              "#ed7953"
             ],
             [
              0.7777777777777778,
              "#fb9f3a"
             ],
             [
              0.8888888888888888,
              "#fdca26"
             ],
             [
              1,
              "#f0f921"
             ]
            ],
            "type": "contour"
           }
          ],
          "contourcarpet": [
           {
            "colorbar": {
             "outlinewidth": 0,
             "ticks": ""
            },
            "type": "contourcarpet"
           }
          ],
          "heatmap": [
           {
            "colorbar": {
             "outlinewidth": 0,
             "ticks": ""
            },
            "colorscale": [
             [
              0,
              "#0d0887"
             ],
             [
              0.1111111111111111,
              "#46039f"
             ],
             [
              0.2222222222222222,
              "#7201a8"
             ],
             [
              0.3333333333333333,
              "#9c179e"
             ],
             [
              0.4444444444444444,
              "#bd3786"
             ],
             [
              0.5555555555555556,
              "#d8576b"
             ],
             [
              0.6666666666666666,
              "#ed7953"
             ],
             [
              0.7777777777777778,
              "#fb9f3a"
             ],
             [
              0.8888888888888888,
              "#fdca26"
             ],
             [
              1,
              "#f0f921"
             ]
            ],
            "type": "heatmap"
           }
          ],
          "heatmapgl": [
           {
            "colorbar": {
             "outlinewidth": 0,
             "ticks": ""
            },
            "colorscale": [
             [
              0,
              "#0d0887"
             ],
             [
              0.1111111111111111,
              "#46039f"
             ],
             [
              0.2222222222222222,
              "#7201a8"
             ],
             [
              0.3333333333333333,
              "#9c179e"
             ],
             [
              0.4444444444444444,
              "#bd3786"
             ],
             [
              0.5555555555555556,
              "#d8576b"
             ],
             [
              0.6666666666666666,
              "#ed7953"
             ],
             [
              0.7777777777777778,
              "#fb9f3a"
             ],
             [
              0.8888888888888888,
              "#fdca26"
             ],
             [
              1,
              "#f0f921"
             ]
            ],
            "type": "heatmapgl"
           }
          ],
          "histogram": [
           {
            "marker": {
             "pattern": {
              "fillmode": "overlay",
              "size": 10,
              "solidity": 0.2
             }
            },
            "type": "histogram"
           }
          ],
          "histogram2d": [
           {
            "colorbar": {
             "outlinewidth": 0,
             "ticks": ""
            },
            "colorscale": [
             [
              0,
              "#0d0887"
             ],
             [
              0.1111111111111111,
              "#46039f"
             ],
             [
              0.2222222222222222,
              "#7201a8"
             ],
             [
              0.3333333333333333,
              "#9c179e"
             ],
             [
              0.4444444444444444,
              "#bd3786"
             ],
             [
              0.5555555555555556,
              "#d8576b"
             ],
             [
              0.6666666666666666,
              "#ed7953"
             ],
             [
              0.7777777777777778,
              "#fb9f3a"
             ],
             [
              0.8888888888888888,
              "#fdca26"
             ],
             [
              1,
              "#f0f921"
             ]
            ],
            "type": "histogram2d"
           }
          ],
          "histogram2dcontour": [
           {
            "colorbar": {
             "outlinewidth": 0,
             "ticks": ""
            },
            "colorscale": [
             [
              0,
              "#0d0887"
             ],
             [
              0.1111111111111111,
              "#46039f"
             ],
             [
              0.2222222222222222,
              "#7201a8"
             ],
             [
              0.3333333333333333,
              "#9c179e"
             ],
             [
              0.4444444444444444,
              "#bd3786"
             ],
             [
              0.5555555555555556,
              "#d8576b"
             ],
             [
              0.6666666666666666,
              "#ed7953"
             ],
             [
              0.7777777777777778,
              "#fb9f3a"
             ],
             [
              0.8888888888888888,
              "#fdca26"
             ],
             [
              1,
              "#f0f921"
             ]
            ],
            "type": "histogram2dcontour"
           }
          ],
          "mesh3d": [
           {
            "colorbar": {
             "outlinewidth": 0,
             "ticks": ""
            },
            "type": "mesh3d"
           }
          ],
          "parcoords": [
           {
            "line": {
             "colorbar": {
              "outlinewidth": 0,
              "ticks": ""
             }
            },
            "type": "parcoords"
           }
          ],
          "pie": [
           {
            "automargin": true,
            "type": "pie"
           }
          ],
          "scatter": [
           {
            "fillpattern": {
             "fillmode": "overlay",
             "size": 10,
             "solidity": 0.2
            },
            "type": "scatter"
           }
          ],
          "scatter3d": [
           {
            "line": {
             "colorbar": {
              "outlinewidth": 0,
              "ticks": ""
             }
            },
            "marker": {
             "colorbar": {
              "outlinewidth": 0,
              "ticks": ""
             }
            },
            "type": "scatter3d"
           }
          ],
          "scattercarpet": [
           {
            "marker": {
             "colorbar": {
              "outlinewidth": 0,
              "ticks": ""
             }
            },
            "type": "scattercarpet"
           }
          ],
          "scattergeo": [
           {
            "marker": {
             "colorbar": {
              "outlinewidth": 0,
              "ticks": ""
             }
            },
            "type": "scattergeo"
           }
          ],
          "scattergl": [
           {
            "marker": {
             "colorbar": {
              "outlinewidth": 0,
              "ticks": ""
             }
            },
            "type": "scattergl"
           }
          ],
          "scattermapbox": [
           {
            "marker": {
             "colorbar": {
              "outlinewidth": 0,
              "ticks": ""
             }
            },
            "type": "scattermapbox"
           }
          ],
          "scatterpolar": [
           {
            "marker": {
             "colorbar": {
              "outlinewidth": 0,
              "ticks": ""
             }
            },
            "type": "scatterpolar"
           }
          ],
          "scatterpolargl": [
           {
            "marker": {
             "colorbar": {
              "outlinewidth": 0,
              "ticks": ""
             }
            },
            "type": "scatterpolargl"
           }
          ],
          "scatterternary": [
           {
            "marker": {
             "colorbar": {
              "outlinewidth": 0,
              "ticks": ""
             }
            },
            "type": "scatterternary"
           }
          ],
          "surface": [
           {
            "colorbar": {
             "outlinewidth": 0,
             "ticks": ""
            },
            "colorscale": [
             [
              0,
              "#0d0887"
             ],
             [
              0.1111111111111111,
              "#46039f"
             ],
             [
              0.2222222222222222,
              "#7201a8"
             ],
             [
              0.3333333333333333,
              "#9c179e"
             ],
             [
              0.4444444444444444,
              "#bd3786"
             ],
             [
              0.5555555555555556,
              "#d8576b"
             ],
             [
              0.6666666666666666,
              "#ed7953"
             ],
             [
              0.7777777777777778,
              "#fb9f3a"
             ],
             [
              0.8888888888888888,
              "#fdca26"
             ],
             [
              1,
              "#f0f921"
             ]
            ],
            "type": "surface"
           }
          ],
          "table": [
           {
            "cells": {
             "fill": {
              "color": "#EBF0F8"
             },
             "line": {
              "color": "white"
             }
            },
            "header": {
             "fill": {
              "color": "#C8D4E3"
             },
             "line": {
              "color": "white"
             }
            },
            "type": "table"
           }
          ]
         },
         "layout": {
          "annotationdefaults": {
           "arrowcolor": "#2a3f5f",
           "arrowhead": 0,
           "arrowwidth": 1
          },
          "autotypenumbers": "strict",
          "coloraxis": {
           "colorbar": {
            "outlinewidth": 0,
            "ticks": ""
           }
          },
          "colorscale": {
           "diverging": [
            [
             0,
             "#8e0152"
            ],
            [
             0.1,
             "#c51b7d"
            ],
            [
             0.2,
             "#de77ae"
            ],
            [
             0.3,
             "#f1b6da"
            ],
            [
             0.4,
             "#fde0ef"
            ],
            [
             0.5,
             "#f7f7f7"
            ],
            [
             0.6,
             "#e6f5d0"
            ],
            [
             0.7,
             "#b8e186"
            ],
            [
             0.8,
             "#7fbc41"
            ],
            [
             0.9,
             "#4d9221"
            ],
            [
             1,
             "#276419"
            ]
           ],
           "sequential": [
            [
             0,
             "#0d0887"
            ],
            [
             0.1111111111111111,
             "#46039f"
            ],
            [
             0.2222222222222222,
             "#7201a8"
            ],
            [
             0.3333333333333333,
             "#9c179e"
            ],
            [
             0.4444444444444444,
             "#bd3786"
            ],
            [
             0.5555555555555556,
             "#d8576b"
            ],
            [
             0.6666666666666666,
             "#ed7953"
            ],
            [
             0.7777777777777778,
             "#fb9f3a"
            ],
            [
             0.8888888888888888,
             "#fdca26"
            ],
            [
             1,
             "#f0f921"
            ]
           ],
           "sequentialminus": [
            [
             0,
             "#0d0887"
            ],
            [
             0.1111111111111111,
             "#46039f"
            ],
            [
             0.2222222222222222,
             "#7201a8"
            ],
            [
             0.3333333333333333,
             "#9c179e"
            ],
            [
             0.4444444444444444,
             "#bd3786"
            ],
            [
             0.5555555555555556,
             "#d8576b"
            ],
            [
             0.6666666666666666,
             "#ed7953"
            ],
            [
             0.7777777777777778,
             "#fb9f3a"
            ],
            [
             0.8888888888888888,
             "#fdca26"
            ],
            [
             1,
             "#f0f921"
            ]
           ]
          },
          "colorway": [
           "#636efa",
           "#EF553B",
           "#00cc96",
           "#ab63fa",
           "#FFA15A",
           "#19d3f3",
           "#FF6692",
           "#B6E880",
           "#FF97FF",
           "#FECB52"
          ],
          "font": {
           "color": "#2a3f5f"
          },
          "geo": {
           "bgcolor": "white",
           "lakecolor": "white",
           "landcolor": "#E5ECF6",
           "showlakes": true,
           "showland": true,
           "subunitcolor": "white"
          },
          "hoverlabel": {
           "align": "left"
          },
          "hovermode": "closest",
          "mapbox": {
           "style": "light"
          },
          "paper_bgcolor": "white",
          "plot_bgcolor": "#E5ECF6",
          "polar": {
           "angularaxis": {
            "gridcolor": "white",
            "linecolor": "white",
            "ticks": ""
           },
           "bgcolor": "#E5ECF6",
           "radialaxis": {
            "gridcolor": "white",
            "linecolor": "white",
            "ticks": ""
           }
          },
          "scene": {
           "xaxis": {
            "backgroundcolor": "#E5ECF6",
            "gridcolor": "white",
            "gridwidth": 2,
            "linecolor": "white",
            "showbackground": true,
            "ticks": "",
            "zerolinecolor": "white"
           },
           "yaxis": {
            "backgroundcolor": "#E5ECF6",
            "gridcolor": "white",
            "gridwidth": 2,
            "linecolor": "white",
            "showbackground": true,
            "ticks": "",
            "zerolinecolor": "white"
           },
           "zaxis": {
            "backgroundcolor": "#E5ECF6",
            "gridcolor": "white",
            "gridwidth": 2,
            "linecolor": "white",
            "showbackground": true,
            "ticks": "",
            "zerolinecolor": "white"
           }
          },
          "shapedefaults": {
           "line": {
            "color": "#2a3f5f"
           }
          },
          "ternary": {
           "aaxis": {
            "gridcolor": "white",
            "linecolor": "white",
            "ticks": ""
           },
           "baxis": {
            "gridcolor": "white",
            "linecolor": "white",
            "ticks": ""
           },
           "bgcolor": "#E5ECF6",
           "caxis": {
            "gridcolor": "white",
            "linecolor": "white",
            "ticks": ""
           }
          },
          "title": {
           "x": 0.05
          },
          "xaxis": {
           "automargin": true,
           "gridcolor": "white",
           "linecolor": "white",
           "ticks": "",
           "title": {
            "standoff": 15
           },
           "zerolinecolor": "white",
           "zerolinewidth": 2
          },
          "yaxis": {
           "automargin": true,
           "gridcolor": "white",
           "linecolor": "white",
           "ticks": "",
           "title": {
            "standoff": 15
           },
           "zerolinecolor": "white",
           "zerolinewidth": 2
          }
         }
        }
       }
      }
     },
     "metadata": {},
     "output_type": "display_data"
    }
   ],
   "source": [
    "MocapLowerLandmark.df2landmark(mocap_df, 100)\n",
    "\n",
    "def plot3d_with_slider(mocap_df) :\n",
    "    n_frames = len(mocap_df)\n",
    "    points_list = np.array(list(map(\n",
    "        lambda idx : MocapLowerLandmark.df2landmark(\n",
    "            mocap_df, idx\n",
    "        ),\n",
    "        range(n_frames)\n",
    "    )))\n",
    "    \n",
    "    points_list_ = np.nan_to_num(points_list.copy(), 0.1)\n",
    "\n",
    "    xmin = points_list_[:, :, 0].min()\n",
    "    xmax = points_list_[:, :, 0].max()\n",
    "    ymin = points_list_[:, :, 1].min()\n",
    "    ymax = points_list_[:, :, 1].max()\n",
    "    zmin = points_list_[:, :, 2].min()\n",
    "    zmax = points_list_[:, :, 2].max()\n",
    "\n",
    "    \n",
    "    connection_idx_list = MocapLowerLandmark.CONN_PATH_LIST\n",
    "    line_color_list = ['red'] * (len(connection_idx_list))\n",
    "    \n",
    "    \n",
    "    fig = go.Figure(\n",
    "        data = go.Scatter3d(\n",
    "            x=[], y=[], z=[],\n",
    "            mode = 'lines+markers+text',\n",
    "            marker=dict(color=\"red\", size=2)\n",
    "        )\n",
    "    )\n",
    "    frame_list = [\n",
    "        go.Frame(\n",
    "            data = list(map(\n",
    "                lambda i, j, c : go.Scatter3d(\n",
    "                    x = points[[i, j], 0],\n",
    "                    y = points[[i, j], 1],\n",
    "                    z = points[[i, j], 2],\n",
    "                    mode = 'lines+markers+text',\n",
    "                    line = dict(\n",
    "                        color = c\n",
    "                    ),\n",
    "                    marker = dict(\n",
    "                        color = c,\n",
    "                        size = 2\n",
    "                    )\n",
    "                ),\n",
    "                connection_idx_list[:-1],\n",
    "                connection_idx_list[1:],\n",
    "                line_color_list\n",
    "            )),\n",
    "            traces=[0],\n",
    "            name=f\"frame{fidx}\"\n",
    "        )\n",
    "        for fidx, points in enumerate(points_list)\n",
    "    ]\n",
    "    fig.update(frames = frames)\n",
    "\n",
    "    def frame_args(duration):\n",
    "        return {\n",
    "            \"frame\": {\"duration\": duration},\n",
    "            \"mode\": \"immediate\",\n",
    "            \"fromcurrent\": True,\n",
    "            \"transition\": {\"duration\": duration, \"easing\": \"linear\"},\n",
    "        }\n",
    "\n",
    "    sliders = [\n",
    "        {\n",
    "            \"pad\": {\"b\": 10, \"t\": 60},\n",
    "            \"len\": 0.9,\n",
    "            \"x\": 0.1,\n",
    "            \"y\": 0,\n",
    "            \"steps\": [\n",
    "                {\n",
    "                    \"args\": [[f.name], frame_args(0)],\n",
    "                    \"label\": str(k),\n",
    "                    \"method\": \"animate\",\n",
    "                } for k, f in enumerate(fig.frames)\n",
    "            ]\n",
    "        }\n",
    "    ]\n",
    "\n",
    "    fig.update_layout(\n",
    "        updatemenus = [\n",
    "            {\n",
    "                \"buttons\":[\n",
    "                    {\n",
    "                        \"args\": [None, frame_args(50)],\n",
    "                        \"label\": \"Play\", \n",
    "                        \"method\": \"animate\",\n",
    "                    },\n",
    "                    {\n",
    "                        \"args\": [[None], frame_args(0)],\n",
    "                        \"label\": \"Pause\", \n",
    "                        \"method\": \"animate\",\n",
    "                    }\n",
    "                ],    \n",
    "                \"direction\": \"left\",\n",
    "                \"pad\": {\"r\": 10, \"t\": 70},\n",
    "                \"type\": \"buttons\",\n",
    "                \"x\": 0.1,\n",
    "                \"y\": 0,\n",
    "            }\n",
    "        ],\n",
    "        sliders=sliders\n",
    "    )\n",
    "\n",
    "    layout = go.Layout(\n",
    "        scene = dict(\n",
    "            camera = dict(\n",
    "                eye = dict(x=-1, y = -1, z = 1)\n",
    "            ),\n",
    "            aspectmode=\"data\"\n",
    "        )\n",
    "    )\n",
    "    fig.layout = layout\n",
    "\n",
    "    max_range = max(xmax-xmin, ymax-ymin, zmax, zmin)\n",
    "    #max_range = np.max(np.ptp(points_list[0], axis=0))\n",
    "    #xmin, ymin, zmin = points_list[0].min(axis=0)\n",
    "\n",
    "    fig.update_layout(scene=dict(aspectmode='cube'))\n",
    "    fig.update_layout(\n",
    "        scene=dict(\n",
    "            xaxis = dict(range=[xmin-0.1, xmin + max_range+ 0.1]),\n",
    "            yaxis = dict(range=[ymin-0.1, ymin + max_range+ 0.1]),\n",
    "            zaxis = dict(range=[zmin-0.1, zmin + max_range+ 0.1])\n",
    "        )\n",
    "    )\n",
    "\n",
    "\n",
    "\n",
    "    fig.update_layout(sliders=sliders)\n",
    "    fig.show()\n",
    "\n",
    "plot3d_with_slider(mocap_df)"
   ]
  },
  {
   "cell_type": "code",
   "execution_count": 56,
   "metadata": {},
   "outputs": [
    {
     "data": {
      "text/plain": [
       "(0.0, 0.575867, 0.0, 0.993897, 0.0, 0.836932)"
      ]
     },
     "execution_count": 56,
     "metadata": {},
     "output_type": "execute_result"
    }
   ],
   "source": [
    "n_frames = len(mocap_df)\n",
    "points_list = np.array(list(map(\n",
    "    lambda idx : MocapLowerLandmark.df2landmark(\n",
    "        mocap_df, idx\n",
    "    ),\n",
    "    range(n_frames)\n",
    ")))\n",
    "\n",
    "points_list_ = np.nan_to_num(points_list.copy(), 0.1)\n",
    "\n",
    "xmin = points_list_[:, :, 0].min()\n",
    "xmax = points_list_[:, :, 0].max()\n",
    "ymin = points_list_[:, :, 1].min()\n",
    "ymax = points_list_[:, :, 1].max()\n",
    "zmin = points_list_[:, :, 2].min()\n",
    "zmax = points_list_[:, :, 2].max()\n",
    "\n",
    "xmin, xmax, ymin, ymax, zmin, zmax"
   ]
  },
  {
   "cell_type": "code",
   "execution_count": 58,
   "metadata": {},
   "outputs": [
    {
     "data": {
      "text/plain": [
       "3"
      ]
     },
     "execution_count": 58,
     "metadata": {},
     "output_type": "execute_result"
    }
   ],
   "source": [
    "max(1, 2, 3)"
   ]
  },
  {
   "cell_type": "code",
   "execution_count": 69,
   "metadata": {},
   "outputs": [
    {
     "name": "stdout",
     "output_type": "stream",
     "text": [
      "[0.291835 0.291782 0.291747 0.291769 0.291789 0.291778 0.291791 0.291785\n",
      " 0.291772 0.291743 0.291762 0.291784 0.291831 0.291831 0.291835 0.291847\n",
      " 0.291867 0.291927 0.292021 0.292167 0.292271 0.292371 0.292398 0.29243\n",
      " 0.292443 0.292458 0.292488 0.292542 0.292634 0.292726 0.292817 0.292879\n",
      " 0.292928 0.29294  0.292953 0.292943 0.292965 0.293023 0.293099 0.293256\n",
      " 0.293415 0.29356  0.293643 0.293695 0.293676 0.293658 0.293628 0.293595\n",
      " 0.293581 0.293632 0.293722 0.293779 0.29386  0.293908 0.293962 0.293985\n",
      " 0.294003 0.294055 0.294106 0.294127 0.294084 0.294039 0.293953 0.293903\n",
      " 0.293872 0.29388  0.293958 0.294096 0.294266 0.294433 0.294554 0.294652\n",
      " 0.2947   0.294699 0.294649 0.294577 0.294498 0.294414 0.294387 0.294354\n",
      " 0.294373 0.294362 0.294288 0.29406  0.293728 0.293312 0.292761 0.292101\n",
      " 0.291326 0.290763 0.290222 0.289733 0.289369 0.289143 0.288933 0.28849\n",
      " 0.287963 0.287156 0.286088 0.284724]\n",
      "[0.59291  0.592881 0.592851 0.592873 0.592861 0.592806 0.592822 0.59286\n",
      " 0.592851 0.592817 0.592809 0.592769 0.592785 0.592743 0.592711 0.592709\n",
      " 0.592691 0.592708 0.592741 0.592752 0.592736 0.592752 0.592709 0.592704\n",
      " 0.59267  0.592646 0.592644 0.592646 0.592624 0.592602 0.592611 0.592608\n",
      " 0.592583 0.592565 0.592551 0.592506 0.592491 0.59249  0.592472 0.59251\n",
      " 0.59249  0.592496 0.592476 0.592433 0.592416 0.592382 0.592362 0.592323\n",
      " 0.592288 0.592285 0.592245 0.592227 0.592241 0.592236 0.592236 0.592207\n",
      " 0.592178 0.592177 0.592176 0.592172 0.592163 0.592131 0.592124 0.592054\n",
      " 0.592017 0.592012 0.592003 0.591998 0.592015 0.592025 0.59206  0.592073\n",
      " 0.592112 0.592103 0.592038 0.59203  0.592004 0.591972 0.591951 0.591942\n",
      " 0.591935 0.591932 0.591948 0.591884 0.591814 0.591723 0.591575 0.591433\n",
      " 0.591222 0.591014 0.590734 0.59052  0.590361 0.590186 0.589917 0.589604\n",
      " 0.589124 0.588564 0.587866 0.587054]\n",
      "[0.71101  0.711023 0.710979 0.71095  0.71089  0.710833 0.710767 0.710719\n",
      " 0.710669 0.710593 0.710477 0.710342 0.710247 0.71015  0.710031 0.709961\n",
      " 0.709854 0.709737 0.709617 0.709483 0.709361 0.709298 0.709201 0.709163\n",
      " 0.70914  0.709106 0.709054 0.709007 0.708952 0.708881 0.708844 0.708828\n",
      " 0.708831 0.70886  0.708892 0.708873 0.708884 0.708863 0.708823 0.708793\n",
      " 0.708731 0.708681 0.708659 0.708655 0.708668 0.708638 0.708619 0.708559\n",
      " 0.708474 0.708362 0.708199 0.708062 0.707956 0.707859 0.707757 0.707642\n",
      " 0.707528 0.707407 0.707252 0.707146 0.707062 0.706993 0.707009 0.706996\n",
      " 0.707004 0.707009 0.707006 0.706964 0.70689  0.706804 0.706742 0.706718\n",
      " 0.70676  0.706822 0.706885 0.707017 0.707107 0.707162 0.707201 0.707223\n",
      " 0.707217 0.707247 0.707334 0.707462 0.707665 0.707959 0.708342 0.70878\n",
      " 0.709327 0.709834 0.710471 0.711087 0.711684 0.712328 0.712995 0.713891\n",
      " 0.71484  0.716002 0.717254 0.718887]\n"
     ]
    },
    {
     "data": {
      "application/vnd.plotly.v1+json": {
       "config": {
        "plotlyServerURL": "https://plot.ly"
       },
       "data": [
        {
         "marker": {
          "color": "red",
          "size": 10
         },
         "mode": "markers",
         "type": "scatter3d",
         "x": [],
         "y": [],
         "z": []
        }
       ],
       "frames": [
        {
         "data": [
          {
           "type": "scatter3d",
           "x": [
            0.291835
           ],
           "y": [
            0.59291
           ],
           "z": [
            0.71101
           ]
          }
         ],
         "name": "frame0",
         "traces": [
          0
         ]
        },
        {
         "data": [
          {
           "type": "scatter3d",
           "x": [
            0.291782
           ],
           "y": [
            0.592881
           ],
           "z": [
            0.711023
           ]
          }
         ],
         "name": "frame1",
         "traces": [
          0
         ]
        },
        {
         "data": [
          {
           "type": "scatter3d",
           "x": [
            0.291747
           ],
           "y": [
            0.592851
           ],
           "z": [
            0.710979
           ]
          }
         ],
         "name": "frame2",
         "traces": [
          0
         ]
        },
        {
         "data": [
          {
           "type": "scatter3d",
           "x": [
            0.291769
           ],
           "y": [
            0.592873
           ],
           "z": [
            0.71095
           ]
          }
         ],
         "name": "frame3",
         "traces": [
          0
         ]
        },
        {
         "data": [
          {
           "type": "scatter3d",
           "x": [
            0.291789
           ],
           "y": [
            0.592861
           ],
           "z": [
            0.71089
           ]
          }
         ],
         "name": "frame4",
         "traces": [
          0
         ]
        },
        {
         "data": [
          {
           "type": "scatter3d",
           "x": [
            0.291778
           ],
           "y": [
            0.592806
           ],
           "z": [
            0.710833
           ]
          }
         ],
         "name": "frame5",
         "traces": [
          0
         ]
        },
        {
         "data": [
          {
           "type": "scatter3d",
           "x": [
            0.291791
           ],
           "y": [
            0.592822
           ],
           "z": [
            0.710767
           ]
          }
         ],
         "name": "frame6",
         "traces": [
          0
         ]
        },
        {
         "data": [
          {
           "type": "scatter3d",
           "x": [
            0.291785
           ],
           "y": [
            0.59286
           ],
           "z": [
            0.710719
           ]
          }
         ],
         "name": "frame7",
         "traces": [
          0
         ]
        },
        {
         "data": [
          {
           "type": "scatter3d",
           "x": [
            0.291772
           ],
           "y": [
            0.592851
           ],
           "z": [
            0.710669
           ]
          }
         ],
         "name": "frame8",
         "traces": [
          0
         ]
        },
        {
         "data": [
          {
           "type": "scatter3d",
           "x": [
            0.291743
           ],
           "y": [
            0.592817
           ],
           "z": [
            0.710593
           ]
          }
         ],
         "name": "frame9",
         "traces": [
          0
         ]
        },
        {
         "data": [
          {
           "type": "scatter3d",
           "x": [
            0.291762
           ],
           "y": [
            0.592809
           ],
           "z": [
            0.710477
           ]
          }
         ],
         "name": "frame10",
         "traces": [
          0
         ]
        },
        {
         "data": [
          {
           "type": "scatter3d",
           "x": [
            0.291784
           ],
           "y": [
            0.592769
           ],
           "z": [
            0.710342
           ]
          }
         ],
         "name": "frame11",
         "traces": [
          0
         ]
        },
        {
         "data": [
          {
           "type": "scatter3d",
           "x": [
            0.291831
           ],
           "y": [
            0.592785
           ],
           "z": [
            0.710247
           ]
          }
         ],
         "name": "frame12",
         "traces": [
          0
         ]
        },
        {
         "data": [
          {
           "type": "scatter3d",
           "x": [
            0.291831
           ],
           "y": [
            0.592743
           ],
           "z": [
            0.71015
           ]
          }
         ],
         "name": "frame13",
         "traces": [
          0
         ]
        },
        {
         "data": [
          {
           "type": "scatter3d",
           "x": [
            0.291835
           ],
           "y": [
            0.592711
           ],
           "z": [
            0.710031
           ]
          }
         ],
         "name": "frame14",
         "traces": [
          0
         ]
        },
        {
         "data": [
          {
           "type": "scatter3d",
           "x": [
            0.291847
           ],
           "y": [
            0.592709
           ],
           "z": [
            0.709961
           ]
          }
         ],
         "name": "frame15",
         "traces": [
          0
         ]
        },
        {
         "data": [
          {
           "type": "scatter3d",
           "x": [
            0.291867
           ],
           "y": [
            0.592691
           ],
           "z": [
            0.709854
           ]
          }
         ],
         "name": "frame16",
         "traces": [
          0
         ]
        },
        {
         "data": [
          {
           "type": "scatter3d",
           "x": [
            0.291927
           ],
           "y": [
            0.592708
           ],
           "z": [
            0.709737
           ]
          }
         ],
         "name": "frame17",
         "traces": [
          0
         ]
        },
        {
         "data": [
          {
           "type": "scatter3d",
           "x": [
            0.292021
           ],
           "y": [
            0.592741
           ],
           "z": [
            0.709617
           ]
          }
         ],
         "name": "frame18",
         "traces": [
          0
         ]
        },
        {
         "data": [
          {
           "type": "scatter3d",
           "x": [
            0.292167
           ],
           "y": [
            0.592752
           ],
           "z": [
            0.709483
           ]
          }
         ],
         "name": "frame19",
         "traces": [
          0
         ]
        },
        {
         "data": [
          {
           "type": "scatter3d",
           "x": [
            0.292271
           ],
           "y": [
            0.592736
           ],
           "z": [
            0.709361
           ]
          }
         ],
         "name": "frame20",
         "traces": [
          0
         ]
        },
        {
         "data": [
          {
           "type": "scatter3d",
           "x": [
            0.292371
           ],
           "y": [
            0.592752
           ],
           "z": [
            0.709298
           ]
          }
         ],
         "name": "frame21",
         "traces": [
          0
         ]
        },
        {
         "data": [
          {
           "type": "scatter3d",
           "x": [
            0.292398
           ],
           "y": [
            0.592709
           ],
           "z": [
            0.709201
           ]
          }
         ],
         "name": "frame22",
         "traces": [
          0
         ]
        },
        {
         "data": [
          {
           "type": "scatter3d",
           "x": [
            0.29243
           ],
           "y": [
            0.592704
           ],
           "z": [
            0.709163
           ]
          }
         ],
         "name": "frame23",
         "traces": [
          0
         ]
        },
        {
         "data": [
          {
           "type": "scatter3d",
           "x": [
            0.292443
           ],
           "y": [
            0.59267
           ],
           "z": [
            0.70914
           ]
          }
         ],
         "name": "frame24",
         "traces": [
          0
         ]
        },
        {
         "data": [
          {
           "type": "scatter3d",
           "x": [
            0.292458
           ],
           "y": [
            0.592646
           ],
           "z": [
            0.709106
           ]
          }
         ],
         "name": "frame25",
         "traces": [
          0
         ]
        },
        {
         "data": [
          {
           "type": "scatter3d",
           "x": [
            0.292488
           ],
           "y": [
            0.592644
           ],
           "z": [
            0.709054
           ]
          }
         ],
         "name": "frame26",
         "traces": [
          0
         ]
        },
        {
         "data": [
          {
           "type": "scatter3d",
           "x": [
            0.292542
           ],
           "y": [
            0.592646
           ],
           "z": [
            0.709007
           ]
          }
         ],
         "name": "frame27",
         "traces": [
          0
         ]
        },
        {
         "data": [
          {
           "type": "scatter3d",
           "x": [
            0.292634
           ],
           "y": [
            0.592624
           ],
           "z": [
            0.708952
           ]
          }
         ],
         "name": "frame28",
         "traces": [
          0
         ]
        },
        {
         "data": [
          {
           "type": "scatter3d",
           "x": [
            0.292726
           ],
           "y": [
            0.592602
           ],
           "z": [
            0.708881
           ]
          }
         ],
         "name": "frame29",
         "traces": [
          0
         ]
        },
        {
         "data": [
          {
           "type": "scatter3d",
           "x": [
            0.292817
           ],
           "y": [
            0.592611
           ],
           "z": [
            0.708844
           ]
          }
         ],
         "name": "frame30",
         "traces": [
          0
         ]
        },
        {
         "data": [
          {
           "type": "scatter3d",
           "x": [
            0.292879
           ],
           "y": [
            0.592608
           ],
           "z": [
            0.708828
           ]
          }
         ],
         "name": "frame31",
         "traces": [
          0
         ]
        },
        {
         "data": [
          {
           "type": "scatter3d",
           "x": [
            0.292928
           ],
           "y": [
            0.592583
           ],
           "z": [
            0.708831
           ]
          }
         ],
         "name": "frame32",
         "traces": [
          0
         ]
        },
        {
         "data": [
          {
           "type": "scatter3d",
           "x": [
            0.29294
           ],
           "y": [
            0.592565
           ],
           "z": [
            0.70886
           ]
          }
         ],
         "name": "frame33",
         "traces": [
          0
         ]
        },
        {
         "data": [
          {
           "type": "scatter3d",
           "x": [
            0.292953
           ],
           "y": [
            0.592551
           ],
           "z": [
            0.708892
           ]
          }
         ],
         "name": "frame34",
         "traces": [
          0
         ]
        },
        {
         "data": [
          {
           "type": "scatter3d",
           "x": [
            0.292943
           ],
           "y": [
            0.592506
           ],
           "z": [
            0.708873
           ]
          }
         ],
         "name": "frame35",
         "traces": [
          0
         ]
        },
        {
         "data": [
          {
           "type": "scatter3d",
           "x": [
            0.292965
           ],
           "y": [
            0.592491
           ],
           "z": [
            0.708884
           ]
          }
         ],
         "name": "frame36",
         "traces": [
          0
         ]
        },
        {
         "data": [
          {
           "type": "scatter3d",
           "x": [
            0.293023
           ],
           "y": [
            0.59249
           ],
           "z": [
            0.708863
           ]
          }
         ],
         "name": "frame37",
         "traces": [
          0
         ]
        },
        {
         "data": [
          {
           "type": "scatter3d",
           "x": [
            0.293099
           ],
           "y": [
            0.592472
           ],
           "z": [
            0.708823
           ]
          }
         ],
         "name": "frame38",
         "traces": [
          0
         ]
        },
        {
         "data": [
          {
           "type": "scatter3d",
           "x": [
            0.293256
           ],
           "y": [
            0.59251
           ],
           "z": [
            0.708793
           ]
          }
         ],
         "name": "frame39",
         "traces": [
          0
         ]
        },
        {
         "data": [
          {
           "type": "scatter3d",
           "x": [
            0.293415
           ],
           "y": [
            0.59249
           ],
           "z": [
            0.708731
           ]
          }
         ],
         "name": "frame40",
         "traces": [
          0
         ]
        },
        {
         "data": [
          {
           "type": "scatter3d",
           "x": [
            0.29356
           ],
           "y": [
            0.592496
           ],
           "z": [
            0.708681
           ]
          }
         ],
         "name": "frame41",
         "traces": [
          0
         ]
        },
        {
         "data": [
          {
           "type": "scatter3d",
           "x": [
            0.293643
           ],
           "y": [
            0.592476
           ],
           "z": [
            0.708659
           ]
          }
         ],
         "name": "frame42",
         "traces": [
          0
         ]
        },
        {
         "data": [
          {
           "type": "scatter3d",
           "x": [
            0.293695
           ],
           "y": [
            0.592433
           ],
           "z": [
            0.708655
           ]
          }
         ],
         "name": "frame43",
         "traces": [
          0
         ]
        },
        {
         "data": [
          {
           "type": "scatter3d",
           "x": [
            0.293676
           ],
           "y": [
            0.592416
           ],
           "z": [
            0.708668
           ]
          }
         ],
         "name": "frame44",
         "traces": [
          0
         ]
        },
        {
         "data": [
          {
           "type": "scatter3d",
           "x": [
            0.293658
           ],
           "y": [
            0.592382
           ],
           "z": [
            0.708638
           ]
          }
         ],
         "name": "frame45",
         "traces": [
          0
         ]
        },
        {
         "data": [
          {
           "type": "scatter3d",
           "x": [
            0.293628
           ],
           "y": [
            0.592362
           ],
           "z": [
            0.708619
           ]
          }
         ],
         "name": "frame46",
         "traces": [
          0
         ]
        },
        {
         "data": [
          {
           "type": "scatter3d",
           "x": [
            0.293595
           ],
           "y": [
            0.592323
           ],
           "z": [
            0.708559
           ]
          }
         ],
         "name": "frame47",
         "traces": [
          0
         ]
        },
        {
         "data": [
          {
           "type": "scatter3d",
           "x": [
            0.293581
           ],
           "y": [
            0.592288
           ],
           "z": [
            0.708474
           ]
          }
         ],
         "name": "frame48",
         "traces": [
          0
         ]
        },
        {
         "data": [
          {
           "type": "scatter3d",
           "x": [
            0.293632
           ],
           "y": [
            0.592285
           ],
           "z": [
            0.708362
           ]
          }
         ],
         "name": "frame49",
         "traces": [
          0
         ]
        },
        {
         "data": [
          {
           "type": "scatter3d",
           "x": [
            0.293722
           ],
           "y": [
            0.592245
           ],
           "z": [
            0.708199
           ]
          }
         ],
         "name": "frame50",
         "traces": [
          0
         ]
        },
        {
         "data": [
          {
           "type": "scatter3d",
           "x": [
            0.293779
           ],
           "y": [
            0.592227
           ],
           "z": [
            0.708062
           ]
          }
         ],
         "name": "frame51",
         "traces": [
          0
         ]
        },
        {
         "data": [
          {
           "type": "scatter3d",
           "x": [
            0.29386
           ],
           "y": [
            0.592241
           ],
           "z": [
            0.707956
           ]
          }
         ],
         "name": "frame52",
         "traces": [
          0
         ]
        },
        {
         "data": [
          {
           "type": "scatter3d",
           "x": [
            0.293908
           ],
           "y": [
            0.592236
           ],
           "z": [
            0.707859
           ]
          }
         ],
         "name": "frame53",
         "traces": [
          0
         ]
        },
        {
         "data": [
          {
           "type": "scatter3d",
           "x": [
            0.293962
           ],
           "y": [
            0.592236
           ],
           "z": [
            0.707757
           ]
          }
         ],
         "name": "frame54",
         "traces": [
          0
         ]
        },
        {
         "data": [
          {
           "type": "scatter3d",
           "x": [
            0.293985
           ],
           "y": [
            0.592207
           ],
           "z": [
            0.707642
           ]
          }
         ],
         "name": "frame55",
         "traces": [
          0
         ]
        },
        {
         "data": [
          {
           "type": "scatter3d",
           "x": [
            0.294003
           ],
           "y": [
            0.592178
           ],
           "z": [
            0.707528
           ]
          }
         ],
         "name": "frame56",
         "traces": [
          0
         ]
        },
        {
         "data": [
          {
           "type": "scatter3d",
           "x": [
            0.294055
           ],
           "y": [
            0.592177
           ],
           "z": [
            0.707407
           ]
          }
         ],
         "name": "frame57",
         "traces": [
          0
         ]
        },
        {
         "data": [
          {
           "type": "scatter3d",
           "x": [
            0.294106
           ],
           "y": [
            0.592176
           ],
           "z": [
            0.707252
           ]
          }
         ],
         "name": "frame58",
         "traces": [
          0
         ]
        },
        {
         "data": [
          {
           "type": "scatter3d",
           "x": [
            0.294127
           ],
           "y": [
            0.592172
           ],
           "z": [
            0.707146
           ]
          }
         ],
         "name": "frame59",
         "traces": [
          0
         ]
        },
        {
         "data": [
          {
           "type": "scatter3d",
           "x": [
            0.294084
           ],
           "y": [
            0.592163
           ],
           "z": [
            0.707062
           ]
          }
         ],
         "name": "frame60",
         "traces": [
          0
         ]
        },
        {
         "data": [
          {
           "type": "scatter3d",
           "x": [
            0.294039
           ],
           "y": [
            0.592131
           ],
           "z": [
            0.706993
           ]
          }
         ],
         "name": "frame61",
         "traces": [
          0
         ]
        },
        {
         "data": [
          {
           "type": "scatter3d",
           "x": [
            0.293953
           ],
           "y": [
            0.592124
           ],
           "z": [
            0.707009
           ]
          }
         ],
         "name": "frame62",
         "traces": [
          0
         ]
        },
        {
         "data": [
          {
           "type": "scatter3d",
           "x": [
            0.293903
           ],
           "y": [
            0.592054
           ],
           "z": [
            0.706996
           ]
          }
         ],
         "name": "frame63",
         "traces": [
          0
         ]
        },
        {
         "data": [
          {
           "type": "scatter3d",
           "x": [
            0.293872
           ],
           "y": [
            0.592017
           ],
           "z": [
            0.707004
           ]
          }
         ],
         "name": "frame64",
         "traces": [
          0
         ]
        },
        {
         "data": [
          {
           "type": "scatter3d",
           "x": [
            0.29388
           ],
           "y": [
            0.592012
           ],
           "z": [
            0.707009
           ]
          }
         ],
         "name": "frame65",
         "traces": [
          0
         ]
        },
        {
         "data": [
          {
           "type": "scatter3d",
           "x": [
            0.293958
           ],
           "y": [
            0.592003
           ],
           "z": [
            0.707006
           ]
          }
         ],
         "name": "frame66",
         "traces": [
          0
         ]
        },
        {
         "data": [
          {
           "type": "scatter3d",
           "x": [
            0.294096
           ],
           "y": [
            0.591998
           ],
           "z": [
            0.706964
           ]
          }
         ],
         "name": "frame67",
         "traces": [
          0
         ]
        },
        {
         "data": [
          {
           "type": "scatter3d",
           "x": [
            0.294266
           ],
           "y": [
            0.592015
           ],
           "z": [
            0.70689
           ]
          }
         ],
         "name": "frame68",
         "traces": [
          0
         ]
        },
        {
         "data": [
          {
           "type": "scatter3d",
           "x": [
            0.294433
           ],
           "y": [
            0.592025
           ],
           "z": [
            0.706804
           ]
          }
         ],
         "name": "frame69",
         "traces": [
          0
         ]
        },
        {
         "data": [
          {
           "type": "scatter3d",
           "x": [
            0.294554
           ],
           "y": [
            0.59206
           ],
           "z": [
            0.706742
           ]
          }
         ],
         "name": "frame70",
         "traces": [
          0
         ]
        },
        {
         "data": [
          {
           "type": "scatter3d",
           "x": [
            0.294652
           ],
           "y": [
            0.592073
           ],
           "z": [
            0.706718
           ]
          }
         ],
         "name": "frame71",
         "traces": [
          0
         ]
        },
        {
         "data": [
          {
           "type": "scatter3d",
           "x": [
            0.2947
           ],
           "y": [
            0.592112
           ],
           "z": [
            0.70676
           ]
          }
         ],
         "name": "frame72",
         "traces": [
          0
         ]
        },
        {
         "data": [
          {
           "type": "scatter3d",
           "x": [
            0.294699
           ],
           "y": [
            0.592103
           ],
           "z": [
            0.706822
           ]
          }
         ],
         "name": "frame73",
         "traces": [
          0
         ]
        },
        {
         "data": [
          {
           "type": "scatter3d",
           "x": [
            0.294649
           ],
           "y": [
            0.592038
           ],
           "z": [
            0.706885
           ]
          }
         ],
         "name": "frame74",
         "traces": [
          0
         ]
        },
        {
         "data": [
          {
           "type": "scatter3d",
           "x": [
            0.294577
           ],
           "y": [
            0.59203
           ],
           "z": [
            0.707017
           ]
          }
         ],
         "name": "frame75",
         "traces": [
          0
         ]
        },
        {
         "data": [
          {
           "type": "scatter3d",
           "x": [
            0.294498
           ],
           "y": [
            0.592004
           ],
           "z": [
            0.707107
           ]
          }
         ],
         "name": "frame76",
         "traces": [
          0
         ]
        },
        {
         "data": [
          {
           "type": "scatter3d",
           "x": [
            0.294414
           ],
           "y": [
            0.591972
           ],
           "z": [
            0.707162
           ]
          }
         ],
         "name": "frame77",
         "traces": [
          0
         ]
        },
        {
         "data": [
          {
           "type": "scatter3d",
           "x": [
            0.294387
           ],
           "y": [
            0.591951
           ],
           "z": [
            0.707201
           ]
          }
         ],
         "name": "frame78",
         "traces": [
          0
         ]
        },
        {
         "data": [
          {
           "type": "scatter3d",
           "x": [
            0.294354
           ],
           "y": [
            0.591942
           ],
           "z": [
            0.707223
           ]
          }
         ],
         "name": "frame79",
         "traces": [
          0
         ]
        },
        {
         "data": [
          {
           "type": "scatter3d",
           "x": [
            0.294373
           ],
           "y": [
            0.591935
           ],
           "z": [
            0.707217
           ]
          }
         ],
         "name": "frame80",
         "traces": [
          0
         ]
        },
        {
         "data": [
          {
           "type": "scatter3d",
           "x": [
            0.294362
           ],
           "y": [
            0.591932
           ],
           "z": [
            0.707247
           ]
          }
         ],
         "name": "frame81",
         "traces": [
          0
         ]
        },
        {
         "data": [
          {
           "type": "scatter3d",
           "x": [
            0.294288
           ],
           "y": [
            0.591948
           ],
           "z": [
            0.707334
           ]
          }
         ],
         "name": "frame82",
         "traces": [
          0
         ]
        },
        {
         "data": [
          {
           "type": "scatter3d",
           "x": [
            0.29406
           ],
           "y": [
            0.591884
           ],
           "z": [
            0.707462
           ]
          }
         ],
         "name": "frame83",
         "traces": [
          0
         ]
        },
        {
         "data": [
          {
           "type": "scatter3d",
           "x": [
            0.293728
           ],
           "y": [
            0.591814
           ],
           "z": [
            0.707665
           ]
          }
         ],
         "name": "frame84",
         "traces": [
          0
         ]
        },
        {
         "data": [
          {
           "type": "scatter3d",
           "x": [
            0.293312
           ],
           "y": [
            0.591723
           ],
           "z": [
            0.707959
           ]
          }
         ],
         "name": "frame85",
         "traces": [
          0
         ]
        },
        {
         "data": [
          {
           "type": "scatter3d",
           "x": [
            0.292761
           ],
           "y": [
            0.591575
           ],
           "z": [
            0.708342
           ]
          }
         ],
         "name": "frame86",
         "traces": [
          0
         ]
        },
        {
         "data": [
          {
           "type": "scatter3d",
           "x": [
            0.292101
           ],
           "y": [
            0.591433
           ],
           "z": [
            0.70878
           ]
          }
         ],
         "name": "frame87",
         "traces": [
          0
         ]
        },
        {
         "data": [
          {
           "type": "scatter3d",
           "x": [
            0.291326
           ],
           "y": [
            0.591222
           ],
           "z": [
            0.709327
           ]
          }
         ],
         "name": "frame88",
         "traces": [
          0
         ]
        },
        {
         "data": [
          {
           "type": "scatter3d",
           "x": [
            0.290763
           ],
           "y": [
            0.591014
           ],
           "z": [
            0.709834
           ]
          }
         ],
         "name": "frame89",
         "traces": [
          0
         ]
        },
        {
         "data": [
          {
           "type": "scatter3d",
           "x": [
            0.290222
           ],
           "y": [
            0.590734
           ],
           "z": [
            0.710471
           ]
          }
         ],
         "name": "frame90",
         "traces": [
          0
         ]
        },
        {
         "data": [
          {
           "type": "scatter3d",
           "x": [
            0.289733
           ],
           "y": [
            0.59052
           ],
           "z": [
            0.711087
           ]
          }
         ],
         "name": "frame91",
         "traces": [
          0
         ]
        },
        {
         "data": [
          {
           "type": "scatter3d",
           "x": [
            0.289369
           ],
           "y": [
            0.590361
           ],
           "z": [
            0.711684
           ]
          }
         ],
         "name": "frame92",
         "traces": [
          0
         ]
        },
        {
         "data": [
          {
           "type": "scatter3d",
           "x": [
            0.289143
           ],
           "y": [
            0.590186
           ],
           "z": [
            0.712328
           ]
          }
         ],
         "name": "frame93",
         "traces": [
          0
         ]
        },
        {
         "data": [
          {
           "type": "scatter3d",
           "x": [
            0.288933
           ],
           "y": [
            0.589917
           ],
           "z": [
            0.712995
           ]
          }
         ],
         "name": "frame94",
         "traces": [
          0
         ]
        },
        {
         "data": [
          {
           "type": "scatter3d",
           "x": [
            0.28849
           ],
           "y": [
            0.589604
           ],
           "z": [
            0.713891
           ]
          }
         ],
         "name": "frame95",
         "traces": [
          0
         ]
        },
        {
         "data": [
          {
           "type": "scatter3d",
           "x": [
            0.287963
           ],
           "y": [
            0.589124
           ],
           "z": [
            0.71484
           ]
          }
         ],
         "name": "frame96",
         "traces": [
          0
         ]
        },
        {
         "data": [
          {
           "type": "scatter3d",
           "x": [
            0.287156
           ],
           "y": [
            0.588564
           ],
           "z": [
            0.716002
           ]
          }
         ],
         "name": "frame97",
         "traces": [
          0
         ]
        },
        {
         "data": [
          {
           "type": "scatter3d",
           "x": [
            0.286088
           ],
           "y": [
            0.587866
           ],
           "z": [
            0.717254
           ]
          }
         ],
         "name": "frame98",
         "traces": [
          0
         ]
        }
       ],
       "layout": {
        "scene": {
         "xaxis": {
          "autorange": false,
          "range": [
           0.284724,
           0.2947
          ]
         },
         "yaxis": {
          "autorange": false,
          "range": [
           0.587054,
           0.59291
          ]
         },
         "zaxis": {
          "autorange": false,
          "range": [
           0.706718,
           0.718887
          ]
         }
        },
        "sliders": [
         {
          "len": 0.9,
          "pad": {
           "b": 10,
           "t": 60
          },
          "steps": [
           {
            "args": [
             [
              "frame0"
             ],
             {
              "frame": {
               "duration": 0
              },
              "fromcurrent": true,
              "mode": "immediate",
              "transition": {
               "duration": 0,
               "easing": "linear"
              }
             }
            ],
            "label": "0",
            "method": "animate"
           },
           {
            "args": [
             [
              "frame1"
             ],
             {
              "frame": {
               "duration": 0
              },
              "fromcurrent": true,
              "mode": "immediate",
              "transition": {
               "duration": 0,
               "easing": "linear"
              }
             }
            ],
            "label": "1",
            "method": "animate"
           },
           {
            "args": [
             [
              "frame2"
             ],
             {
              "frame": {
               "duration": 0
              },
              "fromcurrent": true,
              "mode": "immediate",
              "transition": {
               "duration": 0,
               "easing": "linear"
              }
             }
            ],
            "label": "2",
            "method": "animate"
           },
           {
            "args": [
             [
              "frame3"
             ],
             {
              "frame": {
               "duration": 0
              },
              "fromcurrent": true,
              "mode": "immediate",
              "transition": {
               "duration": 0,
               "easing": "linear"
              }
             }
            ],
            "label": "3",
            "method": "animate"
           },
           {
            "args": [
             [
              "frame4"
             ],
             {
              "frame": {
               "duration": 0
              },
              "fromcurrent": true,
              "mode": "immediate",
              "transition": {
               "duration": 0,
               "easing": "linear"
              }
             }
            ],
            "label": "4",
            "method": "animate"
           },
           {
            "args": [
             [
              "frame5"
             ],
             {
              "frame": {
               "duration": 0
              },
              "fromcurrent": true,
              "mode": "immediate",
              "transition": {
               "duration": 0,
               "easing": "linear"
              }
             }
            ],
            "label": "5",
            "method": "animate"
           },
           {
            "args": [
             [
              "frame6"
             ],
             {
              "frame": {
               "duration": 0
              },
              "fromcurrent": true,
              "mode": "immediate",
              "transition": {
               "duration": 0,
               "easing": "linear"
              }
             }
            ],
            "label": "6",
            "method": "animate"
           },
           {
            "args": [
             [
              "frame7"
             ],
             {
              "frame": {
               "duration": 0
              },
              "fromcurrent": true,
              "mode": "immediate",
              "transition": {
               "duration": 0,
               "easing": "linear"
              }
             }
            ],
            "label": "7",
            "method": "animate"
           },
           {
            "args": [
             [
              "frame8"
             ],
             {
              "frame": {
               "duration": 0
              },
              "fromcurrent": true,
              "mode": "immediate",
              "transition": {
               "duration": 0,
               "easing": "linear"
              }
             }
            ],
            "label": "8",
            "method": "animate"
           },
           {
            "args": [
             [
              "frame9"
             ],
             {
              "frame": {
               "duration": 0
              },
              "fromcurrent": true,
              "mode": "immediate",
              "transition": {
               "duration": 0,
               "easing": "linear"
              }
             }
            ],
            "label": "9",
            "method": "animate"
           },
           {
            "args": [
             [
              "frame10"
             ],
             {
              "frame": {
               "duration": 0
              },
              "fromcurrent": true,
              "mode": "immediate",
              "transition": {
               "duration": 0,
               "easing": "linear"
              }
             }
            ],
            "label": "10",
            "method": "animate"
           },
           {
            "args": [
             [
              "frame11"
             ],
             {
              "frame": {
               "duration": 0
              },
              "fromcurrent": true,
              "mode": "immediate",
              "transition": {
               "duration": 0,
               "easing": "linear"
              }
             }
            ],
            "label": "11",
            "method": "animate"
           },
           {
            "args": [
             [
              "frame12"
             ],
             {
              "frame": {
               "duration": 0
              },
              "fromcurrent": true,
              "mode": "immediate",
              "transition": {
               "duration": 0,
               "easing": "linear"
              }
             }
            ],
            "label": "12",
            "method": "animate"
           },
           {
            "args": [
             [
              "frame13"
             ],
             {
              "frame": {
               "duration": 0
              },
              "fromcurrent": true,
              "mode": "immediate",
              "transition": {
               "duration": 0,
               "easing": "linear"
              }
             }
            ],
            "label": "13",
            "method": "animate"
           },
           {
            "args": [
             [
              "frame14"
             ],
             {
              "frame": {
               "duration": 0
              },
              "fromcurrent": true,
              "mode": "immediate",
              "transition": {
               "duration": 0,
               "easing": "linear"
              }
             }
            ],
            "label": "14",
            "method": "animate"
           },
           {
            "args": [
             [
              "frame15"
             ],
             {
              "frame": {
               "duration": 0
              },
              "fromcurrent": true,
              "mode": "immediate",
              "transition": {
               "duration": 0,
               "easing": "linear"
              }
             }
            ],
            "label": "15",
            "method": "animate"
           },
           {
            "args": [
             [
              "frame16"
             ],
             {
              "frame": {
               "duration": 0
              },
              "fromcurrent": true,
              "mode": "immediate",
              "transition": {
               "duration": 0,
               "easing": "linear"
              }
             }
            ],
            "label": "16",
            "method": "animate"
           },
           {
            "args": [
             [
              "frame17"
             ],
             {
              "frame": {
               "duration": 0
              },
              "fromcurrent": true,
              "mode": "immediate",
              "transition": {
               "duration": 0,
               "easing": "linear"
              }
             }
            ],
            "label": "17",
            "method": "animate"
           },
           {
            "args": [
             [
              "frame18"
             ],
             {
              "frame": {
               "duration": 0
              },
              "fromcurrent": true,
              "mode": "immediate",
              "transition": {
               "duration": 0,
               "easing": "linear"
              }
             }
            ],
            "label": "18",
            "method": "animate"
           },
           {
            "args": [
             [
              "frame19"
             ],
             {
              "frame": {
               "duration": 0
              },
              "fromcurrent": true,
              "mode": "immediate",
              "transition": {
               "duration": 0,
               "easing": "linear"
              }
             }
            ],
            "label": "19",
            "method": "animate"
           },
           {
            "args": [
             [
              "frame20"
             ],
             {
              "frame": {
               "duration": 0
              },
              "fromcurrent": true,
              "mode": "immediate",
              "transition": {
               "duration": 0,
               "easing": "linear"
              }
             }
            ],
            "label": "20",
            "method": "animate"
           },
           {
            "args": [
             [
              "frame21"
             ],
             {
              "frame": {
               "duration": 0
              },
              "fromcurrent": true,
              "mode": "immediate",
              "transition": {
               "duration": 0,
               "easing": "linear"
              }
             }
            ],
            "label": "21",
            "method": "animate"
           },
           {
            "args": [
             [
              "frame22"
             ],
             {
              "frame": {
               "duration": 0
              },
              "fromcurrent": true,
              "mode": "immediate",
              "transition": {
               "duration": 0,
               "easing": "linear"
              }
             }
            ],
            "label": "22",
            "method": "animate"
           },
           {
            "args": [
             [
              "frame23"
             ],
             {
              "frame": {
               "duration": 0
              },
              "fromcurrent": true,
              "mode": "immediate",
              "transition": {
               "duration": 0,
               "easing": "linear"
              }
             }
            ],
            "label": "23",
            "method": "animate"
           },
           {
            "args": [
             [
              "frame24"
             ],
             {
              "frame": {
               "duration": 0
              },
              "fromcurrent": true,
              "mode": "immediate",
              "transition": {
               "duration": 0,
               "easing": "linear"
              }
             }
            ],
            "label": "24",
            "method": "animate"
           },
           {
            "args": [
             [
              "frame25"
             ],
             {
              "frame": {
               "duration": 0
              },
              "fromcurrent": true,
              "mode": "immediate",
              "transition": {
               "duration": 0,
               "easing": "linear"
              }
             }
            ],
            "label": "25",
            "method": "animate"
           },
           {
            "args": [
             [
              "frame26"
             ],
             {
              "frame": {
               "duration": 0
              },
              "fromcurrent": true,
              "mode": "immediate",
              "transition": {
               "duration": 0,
               "easing": "linear"
              }
             }
            ],
            "label": "26",
            "method": "animate"
           },
           {
            "args": [
             [
              "frame27"
             ],
             {
              "frame": {
               "duration": 0
              },
              "fromcurrent": true,
              "mode": "immediate",
              "transition": {
               "duration": 0,
               "easing": "linear"
              }
             }
            ],
            "label": "27",
            "method": "animate"
           },
           {
            "args": [
             [
              "frame28"
             ],
             {
              "frame": {
               "duration": 0
              },
              "fromcurrent": true,
              "mode": "immediate",
              "transition": {
               "duration": 0,
               "easing": "linear"
              }
             }
            ],
            "label": "28",
            "method": "animate"
           },
           {
            "args": [
             [
              "frame29"
             ],
             {
              "frame": {
               "duration": 0
              },
              "fromcurrent": true,
              "mode": "immediate",
              "transition": {
               "duration": 0,
               "easing": "linear"
              }
             }
            ],
            "label": "29",
            "method": "animate"
           },
           {
            "args": [
             [
              "frame30"
             ],
             {
              "frame": {
               "duration": 0
              },
              "fromcurrent": true,
              "mode": "immediate",
              "transition": {
               "duration": 0,
               "easing": "linear"
              }
             }
            ],
            "label": "30",
            "method": "animate"
           },
           {
            "args": [
             [
              "frame31"
             ],
             {
              "frame": {
               "duration": 0
              },
              "fromcurrent": true,
              "mode": "immediate",
              "transition": {
               "duration": 0,
               "easing": "linear"
              }
             }
            ],
            "label": "31",
            "method": "animate"
           },
           {
            "args": [
             [
              "frame32"
             ],
             {
              "frame": {
               "duration": 0
              },
              "fromcurrent": true,
              "mode": "immediate",
              "transition": {
               "duration": 0,
               "easing": "linear"
              }
             }
            ],
            "label": "32",
            "method": "animate"
           },
           {
            "args": [
             [
              "frame33"
             ],
             {
              "frame": {
               "duration": 0
              },
              "fromcurrent": true,
              "mode": "immediate",
              "transition": {
               "duration": 0,
               "easing": "linear"
              }
             }
            ],
            "label": "33",
            "method": "animate"
           },
           {
            "args": [
             [
              "frame34"
             ],
             {
              "frame": {
               "duration": 0
              },
              "fromcurrent": true,
              "mode": "immediate",
              "transition": {
               "duration": 0,
               "easing": "linear"
              }
             }
            ],
            "label": "34",
            "method": "animate"
           },
           {
            "args": [
             [
              "frame35"
             ],
             {
              "frame": {
               "duration": 0
              },
              "fromcurrent": true,
              "mode": "immediate",
              "transition": {
               "duration": 0,
               "easing": "linear"
              }
             }
            ],
            "label": "35",
            "method": "animate"
           },
           {
            "args": [
             [
              "frame36"
             ],
             {
              "frame": {
               "duration": 0
              },
              "fromcurrent": true,
              "mode": "immediate",
              "transition": {
               "duration": 0,
               "easing": "linear"
              }
             }
            ],
            "label": "36",
            "method": "animate"
           },
           {
            "args": [
             [
              "frame37"
             ],
             {
              "frame": {
               "duration": 0
              },
              "fromcurrent": true,
              "mode": "immediate",
              "transition": {
               "duration": 0,
               "easing": "linear"
              }
             }
            ],
            "label": "37",
            "method": "animate"
           },
           {
            "args": [
             [
              "frame38"
             ],
             {
              "frame": {
               "duration": 0
              },
              "fromcurrent": true,
              "mode": "immediate",
              "transition": {
               "duration": 0,
               "easing": "linear"
              }
             }
            ],
            "label": "38",
            "method": "animate"
           },
           {
            "args": [
             [
              "frame39"
             ],
             {
              "frame": {
               "duration": 0
              },
              "fromcurrent": true,
              "mode": "immediate",
              "transition": {
               "duration": 0,
               "easing": "linear"
              }
             }
            ],
            "label": "39",
            "method": "animate"
           },
           {
            "args": [
             [
              "frame40"
             ],
             {
              "frame": {
               "duration": 0
              },
              "fromcurrent": true,
              "mode": "immediate",
              "transition": {
               "duration": 0,
               "easing": "linear"
              }
             }
            ],
            "label": "40",
            "method": "animate"
           },
           {
            "args": [
             [
              "frame41"
             ],
             {
              "frame": {
               "duration": 0
              },
              "fromcurrent": true,
              "mode": "immediate",
              "transition": {
               "duration": 0,
               "easing": "linear"
              }
             }
            ],
            "label": "41",
            "method": "animate"
           },
           {
            "args": [
             [
              "frame42"
             ],
             {
              "frame": {
               "duration": 0
              },
              "fromcurrent": true,
              "mode": "immediate",
              "transition": {
               "duration": 0,
               "easing": "linear"
              }
             }
            ],
            "label": "42",
            "method": "animate"
           },
           {
            "args": [
             [
              "frame43"
             ],
             {
              "frame": {
               "duration": 0
              },
              "fromcurrent": true,
              "mode": "immediate",
              "transition": {
               "duration": 0,
               "easing": "linear"
              }
             }
            ],
            "label": "43",
            "method": "animate"
           },
           {
            "args": [
             [
              "frame44"
             ],
             {
              "frame": {
               "duration": 0
              },
              "fromcurrent": true,
              "mode": "immediate",
              "transition": {
               "duration": 0,
               "easing": "linear"
              }
             }
            ],
            "label": "44",
            "method": "animate"
           },
           {
            "args": [
             [
              "frame45"
             ],
             {
              "frame": {
               "duration": 0
              },
              "fromcurrent": true,
              "mode": "immediate",
              "transition": {
               "duration": 0,
               "easing": "linear"
              }
             }
            ],
            "label": "45",
            "method": "animate"
           },
           {
            "args": [
             [
              "frame46"
             ],
             {
              "frame": {
               "duration": 0
              },
              "fromcurrent": true,
              "mode": "immediate",
              "transition": {
               "duration": 0,
               "easing": "linear"
              }
             }
            ],
            "label": "46",
            "method": "animate"
           },
           {
            "args": [
             [
              "frame47"
             ],
             {
              "frame": {
               "duration": 0
              },
              "fromcurrent": true,
              "mode": "immediate",
              "transition": {
               "duration": 0,
               "easing": "linear"
              }
             }
            ],
            "label": "47",
            "method": "animate"
           },
           {
            "args": [
             [
              "frame48"
             ],
             {
              "frame": {
               "duration": 0
              },
              "fromcurrent": true,
              "mode": "immediate",
              "transition": {
               "duration": 0,
               "easing": "linear"
              }
             }
            ],
            "label": "48",
            "method": "animate"
           },
           {
            "args": [
             [
              "frame49"
             ],
             {
              "frame": {
               "duration": 0
              },
              "fromcurrent": true,
              "mode": "immediate",
              "transition": {
               "duration": 0,
               "easing": "linear"
              }
             }
            ],
            "label": "49",
            "method": "animate"
           },
           {
            "args": [
             [
              "frame50"
             ],
             {
              "frame": {
               "duration": 0
              },
              "fromcurrent": true,
              "mode": "immediate",
              "transition": {
               "duration": 0,
               "easing": "linear"
              }
             }
            ],
            "label": "50",
            "method": "animate"
           },
           {
            "args": [
             [
              "frame51"
             ],
             {
              "frame": {
               "duration": 0
              },
              "fromcurrent": true,
              "mode": "immediate",
              "transition": {
               "duration": 0,
               "easing": "linear"
              }
             }
            ],
            "label": "51",
            "method": "animate"
           },
           {
            "args": [
             [
              "frame52"
             ],
             {
              "frame": {
               "duration": 0
              },
              "fromcurrent": true,
              "mode": "immediate",
              "transition": {
               "duration": 0,
               "easing": "linear"
              }
             }
            ],
            "label": "52",
            "method": "animate"
           },
           {
            "args": [
             [
              "frame53"
             ],
             {
              "frame": {
               "duration": 0
              },
              "fromcurrent": true,
              "mode": "immediate",
              "transition": {
               "duration": 0,
               "easing": "linear"
              }
             }
            ],
            "label": "53",
            "method": "animate"
           },
           {
            "args": [
             [
              "frame54"
             ],
             {
              "frame": {
               "duration": 0
              },
              "fromcurrent": true,
              "mode": "immediate",
              "transition": {
               "duration": 0,
               "easing": "linear"
              }
             }
            ],
            "label": "54",
            "method": "animate"
           },
           {
            "args": [
             [
              "frame55"
             ],
             {
              "frame": {
               "duration": 0
              },
              "fromcurrent": true,
              "mode": "immediate",
              "transition": {
               "duration": 0,
               "easing": "linear"
              }
             }
            ],
            "label": "55",
            "method": "animate"
           },
           {
            "args": [
             [
              "frame56"
             ],
             {
              "frame": {
               "duration": 0
              },
              "fromcurrent": true,
              "mode": "immediate",
              "transition": {
               "duration": 0,
               "easing": "linear"
              }
             }
            ],
            "label": "56",
            "method": "animate"
           },
           {
            "args": [
             [
              "frame57"
             ],
             {
              "frame": {
               "duration": 0
              },
              "fromcurrent": true,
              "mode": "immediate",
              "transition": {
               "duration": 0,
               "easing": "linear"
              }
             }
            ],
            "label": "57",
            "method": "animate"
           },
           {
            "args": [
             [
              "frame58"
             ],
             {
              "frame": {
               "duration": 0
              },
              "fromcurrent": true,
              "mode": "immediate",
              "transition": {
               "duration": 0,
               "easing": "linear"
              }
             }
            ],
            "label": "58",
            "method": "animate"
           },
           {
            "args": [
             [
              "frame59"
             ],
             {
              "frame": {
               "duration": 0
              },
              "fromcurrent": true,
              "mode": "immediate",
              "transition": {
               "duration": 0,
               "easing": "linear"
              }
             }
            ],
            "label": "59",
            "method": "animate"
           },
           {
            "args": [
             [
              "frame60"
             ],
             {
              "frame": {
               "duration": 0
              },
              "fromcurrent": true,
              "mode": "immediate",
              "transition": {
               "duration": 0,
               "easing": "linear"
              }
             }
            ],
            "label": "60",
            "method": "animate"
           },
           {
            "args": [
             [
              "frame61"
             ],
             {
              "frame": {
               "duration": 0
              },
              "fromcurrent": true,
              "mode": "immediate",
              "transition": {
               "duration": 0,
               "easing": "linear"
              }
             }
            ],
            "label": "61",
            "method": "animate"
           },
           {
            "args": [
             [
              "frame62"
             ],
             {
              "frame": {
               "duration": 0
              },
              "fromcurrent": true,
              "mode": "immediate",
              "transition": {
               "duration": 0,
               "easing": "linear"
              }
             }
            ],
            "label": "62",
            "method": "animate"
           },
           {
            "args": [
             [
              "frame63"
             ],
             {
              "frame": {
               "duration": 0
              },
              "fromcurrent": true,
              "mode": "immediate",
              "transition": {
               "duration": 0,
               "easing": "linear"
              }
             }
            ],
            "label": "63",
            "method": "animate"
           },
           {
            "args": [
             [
              "frame64"
             ],
             {
              "frame": {
               "duration": 0
              },
              "fromcurrent": true,
              "mode": "immediate",
              "transition": {
               "duration": 0,
               "easing": "linear"
              }
             }
            ],
            "label": "64",
            "method": "animate"
           },
           {
            "args": [
             [
              "frame65"
             ],
             {
              "frame": {
               "duration": 0
              },
              "fromcurrent": true,
              "mode": "immediate",
              "transition": {
               "duration": 0,
               "easing": "linear"
              }
             }
            ],
            "label": "65",
            "method": "animate"
           },
           {
            "args": [
             [
              "frame66"
             ],
             {
              "frame": {
               "duration": 0
              },
              "fromcurrent": true,
              "mode": "immediate",
              "transition": {
               "duration": 0,
               "easing": "linear"
              }
             }
            ],
            "label": "66",
            "method": "animate"
           },
           {
            "args": [
             [
              "frame67"
             ],
             {
              "frame": {
               "duration": 0
              },
              "fromcurrent": true,
              "mode": "immediate",
              "transition": {
               "duration": 0,
               "easing": "linear"
              }
             }
            ],
            "label": "67",
            "method": "animate"
           },
           {
            "args": [
             [
              "frame68"
             ],
             {
              "frame": {
               "duration": 0
              },
              "fromcurrent": true,
              "mode": "immediate",
              "transition": {
               "duration": 0,
               "easing": "linear"
              }
             }
            ],
            "label": "68",
            "method": "animate"
           },
           {
            "args": [
             [
              "frame69"
             ],
             {
              "frame": {
               "duration": 0
              },
              "fromcurrent": true,
              "mode": "immediate",
              "transition": {
               "duration": 0,
               "easing": "linear"
              }
             }
            ],
            "label": "69",
            "method": "animate"
           },
           {
            "args": [
             [
              "frame70"
             ],
             {
              "frame": {
               "duration": 0
              },
              "fromcurrent": true,
              "mode": "immediate",
              "transition": {
               "duration": 0,
               "easing": "linear"
              }
             }
            ],
            "label": "70",
            "method": "animate"
           },
           {
            "args": [
             [
              "frame71"
             ],
             {
              "frame": {
               "duration": 0
              },
              "fromcurrent": true,
              "mode": "immediate",
              "transition": {
               "duration": 0,
               "easing": "linear"
              }
             }
            ],
            "label": "71",
            "method": "animate"
           },
           {
            "args": [
             [
              "frame72"
             ],
             {
              "frame": {
               "duration": 0
              },
              "fromcurrent": true,
              "mode": "immediate",
              "transition": {
               "duration": 0,
               "easing": "linear"
              }
             }
            ],
            "label": "72",
            "method": "animate"
           },
           {
            "args": [
             [
              "frame73"
             ],
             {
              "frame": {
               "duration": 0
              },
              "fromcurrent": true,
              "mode": "immediate",
              "transition": {
               "duration": 0,
               "easing": "linear"
              }
             }
            ],
            "label": "73",
            "method": "animate"
           },
           {
            "args": [
             [
              "frame74"
             ],
             {
              "frame": {
               "duration": 0
              },
              "fromcurrent": true,
              "mode": "immediate",
              "transition": {
               "duration": 0,
               "easing": "linear"
              }
             }
            ],
            "label": "74",
            "method": "animate"
           },
           {
            "args": [
             [
              "frame75"
             ],
             {
              "frame": {
               "duration": 0
              },
              "fromcurrent": true,
              "mode": "immediate",
              "transition": {
               "duration": 0,
               "easing": "linear"
              }
             }
            ],
            "label": "75",
            "method": "animate"
           },
           {
            "args": [
             [
              "frame76"
             ],
             {
              "frame": {
               "duration": 0
              },
              "fromcurrent": true,
              "mode": "immediate",
              "transition": {
               "duration": 0,
               "easing": "linear"
              }
             }
            ],
            "label": "76",
            "method": "animate"
           },
           {
            "args": [
             [
              "frame77"
             ],
             {
              "frame": {
               "duration": 0
              },
              "fromcurrent": true,
              "mode": "immediate",
              "transition": {
               "duration": 0,
               "easing": "linear"
              }
             }
            ],
            "label": "77",
            "method": "animate"
           },
           {
            "args": [
             [
              "frame78"
             ],
             {
              "frame": {
               "duration": 0
              },
              "fromcurrent": true,
              "mode": "immediate",
              "transition": {
               "duration": 0,
               "easing": "linear"
              }
             }
            ],
            "label": "78",
            "method": "animate"
           },
           {
            "args": [
             [
              "frame79"
             ],
             {
              "frame": {
               "duration": 0
              },
              "fromcurrent": true,
              "mode": "immediate",
              "transition": {
               "duration": 0,
               "easing": "linear"
              }
             }
            ],
            "label": "79",
            "method": "animate"
           },
           {
            "args": [
             [
              "frame80"
             ],
             {
              "frame": {
               "duration": 0
              },
              "fromcurrent": true,
              "mode": "immediate",
              "transition": {
               "duration": 0,
               "easing": "linear"
              }
             }
            ],
            "label": "80",
            "method": "animate"
           },
           {
            "args": [
             [
              "frame81"
             ],
             {
              "frame": {
               "duration": 0
              },
              "fromcurrent": true,
              "mode": "immediate",
              "transition": {
               "duration": 0,
               "easing": "linear"
              }
             }
            ],
            "label": "81",
            "method": "animate"
           },
           {
            "args": [
             [
              "frame82"
             ],
             {
              "frame": {
               "duration": 0
              },
              "fromcurrent": true,
              "mode": "immediate",
              "transition": {
               "duration": 0,
               "easing": "linear"
              }
             }
            ],
            "label": "82",
            "method": "animate"
           },
           {
            "args": [
             [
              "frame83"
             ],
             {
              "frame": {
               "duration": 0
              },
              "fromcurrent": true,
              "mode": "immediate",
              "transition": {
               "duration": 0,
               "easing": "linear"
              }
             }
            ],
            "label": "83",
            "method": "animate"
           },
           {
            "args": [
             [
              "frame84"
             ],
             {
              "frame": {
               "duration": 0
              },
              "fromcurrent": true,
              "mode": "immediate",
              "transition": {
               "duration": 0,
               "easing": "linear"
              }
             }
            ],
            "label": "84",
            "method": "animate"
           },
           {
            "args": [
             [
              "frame85"
             ],
             {
              "frame": {
               "duration": 0
              },
              "fromcurrent": true,
              "mode": "immediate",
              "transition": {
               "duration": 0,
               "easing": "linear"
              }
             }
            ],
            "label": "85",
            "method": "animate"
           },
           {
            "args": [
             [
              "frame86"
             ],
             {
              "frame": {
               "duration": 0
              },
              "fromcurrent": true,
              "mode": "immediate",
              "transition": {
               "duration": 0,
               "easing": "linear"
              }
             }
            ],
            "label": "86",
            "method": "animate"
           },
           {
            "args": [
             [
              "frame87"
             ],
             {
              "frame": {
               "duration": 0
              },
              "fromcurrent": true,
              "mode": "immediate",
              "transition": {
               "duration": 0,
               "easing": "linear"
              }
             }
            ],
            "label": "87",
            "method": "animate"
           },
           {
            "args": [
             [
              "frame88"
             ],
             {
              "frame": {
               "duration": 0
              },
              "fromcurrent": true,
              "mode": "immediate",
              "transition": {
               "duration": 0,
               "easing": "linear"
              }
             }
            ],
            "label": "88",
            "method": "animate"
           },
           {
            "args": [
             [
              "frame89"
             ],
             {
              "frame": {
               "duration": 0
              },
              "fromcurrent": true,
              "mode": "immediate",
              "transition": {
               "duration": 0,
               "easing": "linear"
              }
             }
            ],
            "label": "89",
            "method": "animate"
           },
           {
            "args": [
             [
              "frame90"
             ],
             {
              "frame": {
               "duration": 0
              },
              "fromcurrent": true,
              "mode": "immediate",
              "transition": {
               "duration": 0,
               "easing": "linear"
              }
             }
            ],
            "label": "90",
            "method": "animate"
           },
           {
            "args": [
             [
              "frame91"
             ],
             {
              "frame": {
               "duration": 0
              },
              "fromcurrent": true,
              "mode": "immediate",
              "transition": {
               "duration": 0,
               "easing": "linear"
              }
             }
            ],
            "label": "91",
            "method": "animate"
           },
           {
            "args": [
             [
              "frame92"
             ],
             {
              "frame": {
               "duration": 0
              },
              "fromcurrent": true,
              "mode": "immediate",
              "transition": {
               "duration": 0,
               "easing": "linear"
              }
             }
            ],
            "label": "92",
            "method": "animate"
           },
           {
            "args": [
             [
              "frame93"
             ],
             {
              "frame": {
               "duration": 0
              },
              "fromcurrent": true,
              "mode": "immediate",
              "transition": {
               "duration": 0,
               "easing": "linear"
              }
             }
            ],
            "label": "93",
            "method": "animate"
           },
           {
            "args": [
             [
              "frame94"
             ],
             {
              "frame": {
               "duration": 0
              },
              "fromcurrent": true,
              "mode": "immediate",
              "transition": {
               "duration": 0,
               "easing": "linear"
              }
             }
            ],
            "label": "94",
            "method": "animate"
           },
           {
            "args": [
             [
              "frame95"
             ],
             {
              "frame": {
               "duration": 0
              },
              "fromcurrent": true,
              "mode": "immediate",
              "transition": {
               "duration": 0,
               "easing": "linear"
              }
             }
            ],
            "label": "95",
            "method": "animate"
           },
           {
            "args": [
             [
              "frame96"
             ],
             {
              "frame": {
               "duration": 0
              },
              "fromcurrent": true,
              "mode": "immediate",
              "transition": {
               "duration": 0,
               "easing": "linear"
              }
             }
            ],
            "label": "96",
            "method": "animate"
           },
           {
            "args": [
             [
              "frame97"
             ],
             {
              "frame": {
               "duration": 0
              },
              "fromcurrent": true,
              "mode": "immediate",
              "transition": {
               "duration": 0,
               "easing": "linear"
              }
             }
            ],
            "label": "97",
            "method": "animate"
           },
           {
            "args": [
             [
              "frame98"
             ],
             {
              "frame": {
               "duration": 0
              },
              "fromcurrent": true,
              "mode": "immediate",
              "transition": {
               "duration": 0,
               "easing": "linear"
              }
             }
            ],
            "label": "98",
            "method": "animate"
           }
          ],
          "x": 0.1,
          "y": 0
         }
        ],
        "template": {
         "data": {
          "bar": [
           {
            "error_x": {
             "color": "#2a3f5f"
            },
            "error_y": {
             "color": "#2a3f5f"
            },
            "marker": {
             "line": {
              "color": "#E5ECF6",
              "width": 0.5
             },
             "pattern": {
              "fillmode": "overlay",
              "size": 10,
              "solidity": 0.2
             }
            },
            "type": "bar"
           }
          ],
          "barpolar": [
           {
            "marker": {
             "line": {
              "color": "#E5ECF6",
              "width": 0.5
             },
             "pattern": {
              "fillmode": "overlay",
              "size": 10,
              "solidity": 0.2
             }
            },
            "type": "barpolar"
           }
          ],
          "carpet": [
           {
            "aaxis": {
             "endlinecolor": "#2a3f5f",
             "gridcolor": "white",
             "linecolor": "white",
             "minorgridcolor": "white",
             "startlinecolor": "#2a3f5f"
            },
            "baxis": {
             "endlinecolor": "#2a3f5f",
             "gridcolor": "white",
             "linecolor": "white",
             "minorgridcolor": "white",
             "startlinecolor": "#2a3f5f"
            },
            "type": "carpet"
           }
          ],
          "choropleth": [
           {
            "colorbar": {
             "outlinewidth": 0,
             "ticks": ""
            },
            "type": "choropleth"
           }
          ],
          "contour": [
           {
            "colorbar": {
             "outlinewidth": 0,
             "ticks": ""
            },
            "colorscale": [
             [
              0,
              "#0d0887"
             ],
             [
              0.1111111111111111,
              "#46039f"
             ],
             [
              0.2222222222222222,
              "#7201a8"
             ],
             [
              0.3333333333333333,
              "#9c179e"
             ],
             [
              0.4444444444444444,
              "#bd3786"
             ],
             [
              0.5555555555555556,
              "#d8576b"
             ],
             [
              0.6666666666666666,
              "#ed7953"
             ],
             [
              0.7777777777777778,
              "#fb9f3a"
             ],
             [
              0.8888888888888888,
              "#fdca26"
             ],
             [
              1,
              "#f0f921"
             ]
            ],
            "type": "contour"
           }
          ],
          "contourcarpet": [
           {
            "colorbar": {
             "outlinewidth": 0,
             "ticks": ""
            },
            "type": "contourcarpet"
           }
          ],
          "heatmap": [
           {
            "colorbar": {
             "outlinewidth": 0,
             "ticks": ""
            },
            "colorscale": [
             [
              0,
              "#0d0887"
             ],
             [
              0.1111111111111111,
              "#46039f"
             ],
             [
              0.2222222222222222,
              "#7201a8"
             ],
             [
              0.3333333333333333,
              "#9c179e"
             ],
             [
              0.4444444444444444,
              "#bd3786"
             ],
             [
              0.5555555555555556,
              "#d8576b"
             ],
             [
              0.6666666666666666,
              "#ed7953"
             ],
             [
              0.7777777777777778,
              "#fb9f3a"
             ],
             [
              0.8888888888888888,
              "#fdca26"
             ],
             [
              1,
              "#f0f921"
             ]
            ],
            "type": "heatmap"
           }
          ],
          "heatmapgl": [
           {
            "colorbar": {
             "outlinewidth": 0,
             "ticks": ""
            },
            "colorscale": [
             [
              0,
              "#0d0887"
             ],
             [
              0.1111111111111111,
              "#46039f"
             ],
             [
              0.2222222222222222,
              "#7201a8"
             ],
             [
              0.3333333333333333,
              "#9c179e"
             ],
             [
              0.4444444444444444,
              "#bd3786"
             ],
             [
              0.5555555555555556,
              "#d8576b"
             ],
             [
              0.6666666666666666,
              "#ed7953"
             ],
             [
              0.7777777777777778,
              "#fb9f3a"
             ],
             [
              0.8888888888888888,
              "#fdca26"
             ],
             [
              1,
              "#f0f921"
             ]
            ],
            "type": "heatmapgl"
           }
          ],
          "histogram": [
           {
            "marker": {
             "pattern": {
              "fillmode": "overlay",
              "size": 10,
              "solidity": 0.2
             }
            },
            "type": "histogram"
           }
          ],
          "histogram2d": [
           {
            "colorbar": {
             "outlinewidth": 0,
             "ticks": ""
            },
            "colorscale": [
             [
              0,
              "#0d0887"
             ],
             [
              0.1111111111111111,
              "#46039f"
             ],
             [
              0.2222222222222222,
              "#7201a8"
             ],
             [
              0.3333333333333333,
              "#9c179e"
             ],
             [
              0.4444444444444444,
              "#bd3786"
             ],
             [
              0.5555555555555556,
              "#d8576b"
             ],
             [
              0.6666666666666666,
              "#ed7953"
             ],
             [
              0.7777777777777778,
              "#fb9f3a"
             ],
             [
              0.8888888888888888,
              "#fdca26"
             ],
             [
              1,
              "#f0f921"
             ]
            ],
            "type": "histogram2d"
           }
          ],
          "histogram2dcontour": [
           {
            "colorbar": {
             "outlinewidth": 0,
             "ticks": ""
            },
            "colorscale": [
             [
              0,
              "#0d0887"
             ],
             [
              0.1111111111111111,
              "#46039f"
             ],
             [
              0.2222222222222222,
              "#7201a8"
             ],
             [
              0.3333333333333333,
              "#9c179e"
             ],
             [
              0.4444444444444444,
              "#bd3786"
             ],
             [
              0.5555555555555556,
              "#d8576b"
             ],
             [
              0.6666666666666666,
              "#ed7953"
             ],
             [
              0.7777777777777778,
              "#fb9f3a"
             ],
             [
              0.8888888888888888,
              "#fdca26"
             ],
             [
              1,
              "#f0f921"
             ]
            ],
            "type": "histogram2dcontour"
           }
          ],
          "mesh3d": [
           {
            "colorbar": {
             "outlinewidth": 0,
             "ticks": ""
            },
            "type": "mesh3d"
           }
          ],
          "parcoords": [
           {
            "line": {
             "colorbar": {
              "outlinewidth": 0,
              "ticks": ""
             }
            },
            "type": "parcoords"
           }
          ],
          "pie": [
           {
            "automargin": true,
            "type": "pie"
           }
          ],
          "scatter": [
           {
            "fillpattern": {
             "fillmode": "overlay",
             "size": 10,
             "solidity": 0.2
            },
            "type": "scatter"
           }
          ],
          "scatter3d": [
           {
            "line": {
             "colorbar": {
              "outlinewidth": 0,
              "ticks": ""
             }
            },
            "marker": {
             "colorbar": {
              "outlinewidth": 0,
              "ticks": ""
             }
            },
            "type": "scatter3d"
           }
          ],
          "scattercarpet": [
           {
            "marker": {
             "colorbar": {
              "outlinewidth": 0,
              "ticks": ""
             }
            },
            "type": "scattercarpet"
           }
          ],
          "scattergeo": [
           {
            "marker": {
             "colorbar": {
              "outlinewidth": 0,
              "ticks": ""
             }
            },
            "type": "scattergeo"
           }
          ],
          "scattergl": [
           {
            "marker": {
             "colorbar": {
              "outlinewidth": 0,
              "ticks": ""
             }
            },
            "type": "scattergl"
           }
          ],
          "scattermapbox": [
           {
            "marker": {
             "colorbar": {
              "outlinewidth": 0,
              "ticks": ""
             }
            },
            "type": "scattermapbox"
           }
          ],
          "scatterpolar": [
           {
            "marker": {
             "colorbar": {
              "outlinewidth": 0,
              "ticks": ""
             }
            },
            "type": "scatterpolar"
           }
          ],
          "scatterpolargl": [
           {
            "marker": {
             "colorbar": {
              "outlinewidth": 0,
              "ticks": ""
             }
            },
            "type": "scatterpolargl"
           }
          ],
          "scatterternary": [
           {
            "marker": {
             "colorbar": {
              "outlinewidth": 0,
              "ticks": ""
             }
            },
            "type": "scatterternary"
           }
          ],
          "surface": [
           {
            "colorbar": {
             "outlinewidth": 0,
             "ticks": ""
            },
            "colorscale": [
             [
              0,
              "#0d0887"
             ],
             [
              0.1111111111111111,
              "#46039f"
             ],
             [
              0.2222222222222222,
              "#7201a8"
             ],
             [
              0.3333333333333333,
              "#9c179e"
             ],
             [
              0.4444444444444444,
              "#bd3786"
             ],
             [
              0.5555555555555556,
              "#d8576b"
             ],
             [
              0.6666666666666666,
              "#ed7953"
             ],
             [
              0.7777777777777778,
              "#fb9f3a"
             ],
             [
              0.8888888888888888,
              "#fdca26"
             ],
             [
              1,
              "#f0f921"
             ]
            ],
            "type": "surface"
           }
          ],
          "table": [
           {
            "cells": {
             "fill": {
              "color": "#EBF0F8"
             },
             "line": {
              "color": "white"
             }
            },
            "header": {
             "fill": {
              "color": "#C8D4E3"
             },
             "line": {
              "color": "white"
             }
            },
            "type": "table"
           }
          ]
         },
         "layout": {
          "annotationdefaults": {
           "arrowcolor": "#2a3f5f",
           "arrowhead": 0,
           "arrowwidth": 1
          },
          "autotypenumbers": "strict",
          "coloraxis": {
           "colorbar": {
            "outlinewidth": 0,
            "ticks": ""
           }
          },
          "colorscale": {
           "diverging": [
            [
             0,
             "#8e0152"
            ],
            [
             0.1,
             "#c51b7d"
            ],
            [
             0.2,
             "#de77ae"
            ],
            [
             0.3,
             "#f1b6da"
            ],
            [
             0.4,
             "#fde0ef"
            ],
            [
             0.5,
             "#f7f7f7"
            ],
            [
             0.6,
             "#e6f5d0"
            ],
            [
             0.7,
             "#b8e186"
            ],
            [
             0.8,
             "#7fbc41"
            ],
            [
             0.9,
             "#4d9221"
            ],
            [
             1,
             "#276419"
            ]
           ],
           "sequential": [
            [
             0,
             "#0d0887"
            ],
            [
             0.1111111111111111,
             "#46039f"
            ],
            [
             0.2222222222222222,
             "#7201a8"
            ],
            [
             0.3333333333333333,
             "#9c179e"
            ],
            [
             0.4444444444444444,
             "#bd3786"
            ],
            [
             0.5555555555555556,
             "#d8576b"
            ],
            [
             0.6666666666666666,
             "#ed7953"
            ],
            [
             0.7777777777777778,
             "#fb9f3a"
            ],
            [
             0.8888888888888888,
             "#fdca26"
            ],
            [
             1,
             "#f0f921"
            ]
           ],
           "sequentialminus": [
            [
             0,
             "#0d0887"
            ],
            [
             0.1111111111111111,
             "#46039f"
            ],
            [
             0.2222222222222222,
             "#7201a8"
            ],
            [
             0.3333333333333333,
             "#9c179e"
            ],
            [
             0.4444444444444444,
             "#bd3786"
            ],
            [
             0.5555555555555556,
             "#d8576b"
            ],
            [
             0.6666666666666666,
             "#ed7953"
            ],
            [
             0.7777777777777778,
             "#fb9f3a"
            ],
            [
             0.8888888888888888,
             "#fdca26"
            ],
            [
             1,
             "#f0f921"
            ]
           ]
          },
          "colorway": [
           "#636efa",
           "#EF553B",
           "#00cc96",
           "#ab63fa",
           "#FFA15A",
           "#19d3f3",
           "#FF6692",
           "#B6E880",
           "#FF97FF",
           "#FECB52"
          ],
          "font": {
           "color": "#2a3f5f"
          },
          "geo": {
           "bgcolor": "white",
           "lakecolor": "white",
           "landcolor": "#E5ECF6",
           "showlakes": true,
           "showland": true,
           "subunitcolor": "white"
          },
          "hoverlabel": {
           "align": "left"
          },
          "hovermode": "closest",
          "mapbox": {
           "style": "light"
          },
          "paper_bgcolor": "white",
          "plot_bgcolor": "#E5ECF6",
          "polar": {
           "angularaxis": {
            "gridcolor": "white",
            "linecolor": "white",
            "ticks": ""
           },
           "bgcolor": "#E5ECF6",
           "radialaxis": {
            "gridcolor": "white",
            "linecolor": "white",
            "ticks": ""
           }
          },
          "scene": {
           "xaxis": {
            "backgroundcolor": "#E5ECF6",
            "gridcolor": "white",
            "gridwidth": 2,
            "linecolor": "white",
            "showbackground": true,
            "ticks": "",
            "zerolinecolor": "white"
           },
           "yaxis": {
            "backgroundcolor": "#E5ECF6",
            "gridcolor": "white",
            "gridwidth": 2,
            "linecolor": "white",
            "showbackground": true,
            "ticks": "",
            "zerolinecolor": "white"
           },
           "zaxis": {
            "backgroundcolor": "#E5ECF6",
            "gridcolor": "white",
            "gridwidth": 2,
            "linecolor": "white",
            "showbackground": true,
            "ticks": "",
            "zerolinecolor": "white"
           }
          },
          "shapedefaults": {
           "line": {
            "color": "#2a3f5f"
           }
          },
          "ternary": {
           "aaxis": {
            "gridcolor": "white",
            "linecolor": "white",
            "ticks": ""
           },
           "baxis": {
            "gridcolor": "white",
            "linecolor": "white",
            "ticks": ""
           },
           "bgcolor": "#E5ECF6",
           "caxis": {
            "gridcolor": "white",
            "linecolor": "white",
            "ticks": ""
           }
          },
          "title": {
           "x": 0.05
          },
          "xaxis": {
           "automargin": true,
           "gridcolor": "white",
           "linecolor": "white",
           "ticks": "",
           "title": {
            "standoff": 15
           },
           "zerolinecolor": "white",
           "zerolinewidth": 2
          },
          "yaxis": {
           "automargin": true,
           "gridcolor": "white",
           "linecolor": "white",
           "ticks": "",
           "title": {
            "standoff": 15
           },
           "zerolinecolor": "white",
           "zerolinewidth": 2
          }
         }
        },
        "updatemenus": [
         {
          "buttons": [
           {
            "args": [
             null,
             {
              "frame": {
               "duration": 50
              },
              "fromcurrent": true,
              "mode": "immediate",
              "transition": {
               "duration": 50,
               "easing": "linear"
              }
             }
            ],
            "label": "Play",
            "method": "animate"
           },
           {
            "args": [
             [
              null
             ],
             {
              "frame": {
               "duration": 0
              },
              "fromcurrent": true,
              "mode": "immediate",
              "transition": {
               "duration": 0,
               "easing": "linear"
              }
             }
            ],
            "label": "Pause",
            "method": "animate"
           }
          ],
          "direction": "left",
          "pad": {
           "r": 10,
           "t": 70
          },
          "type": "buttons",
          "x": 0.1,
          "y": 0
         }
        ]
       }
      }
     },
     "metadata": {},
     "output_type": "display_data"
    }
   ],
   "source": [
    "##\n",
    "\n",
    "import numpy as np\n",
    "import plotly.graph_objects as go\n",
    "\n",
    "n_frames = len(mocap_df)\n",
    "points_list = np.array(list(map(\n",
    "    lambda idx : MocapLowerLandmark.df2landmark(\n",
    "        mocap_df, idx\n",
    "    ),\n",
    "    range(n_frames)\n",
    ")))\n",
    "points_list_ = np.nan_to_num(points_list.copy(), 0.1)\n",
    "\n",
    "xmin = points_list_[:, :, 0].min()\n",
    "xmax = points_list_[:, :, 0].max()\n",
    "ymin = points_list_[:, :, 1].min()\n",
    "ymax = points_list_[:, :, 1].max()\n",
    "zmin = points_list_[:, :, 2].min()\n",
    "zmax = points_list_[:, :, 2].max()\n",
    "\n",
    "connection_idx_list = MocapLowerLandmark.CONN_PATH_LIST\n",
    "line_color_list = ['red'] * (len(connection_idx_list))\n",
    "\n",
    "lidx = 0\n",
    "ridx = 100\n",
    "jidx = 5\n",
    "x = points_list[lidx:ridx, jidx, 0]\n",
    "y = points_list[lidx:ridx, jidx, 1]\n",
    "z = points_list[lidx:ridx, jidx, 2]\n",
    "\n",
    "print(x)\n",
    "print(y)\n",
    "print(z)\n",
    "\n",
    "# Create figure\n",
    "fig = go.Figure(\n",
    "    data = go.Scatter3d(\n",
    "        x=[], y=[], z=[],\n",
    "        mode=\"markers\",\n",
    "        marker=dict(color=\"red\", size=10)\n",
    "    )\n",
    ")\n",
    "\n",
    "\n",
    "# Frames\n",
    "'''\n",
    "frames = [\n",
    "    go.Frame(\n",
    "        data = [\n",
    "            go.Scatter3d(\n",
    "                x=x[[k]],\n",
    "                y=y[[k]],\n",
    "                z=z[[k]]\n",
    "            )\n",
    "        ],\n",
    "        traces= [0],\n",
    "        name=f'frame{k}'      \n",
    "    )for k  in  range(len(x)-1)\n",
    "]\n",
    "fig.update(frames=frames)\n",
    "'''\n",
    "frames = [\n",
    "    go.Frame(\n",
    "        data = list(map(\n",
    "            lambda i, j, c : go.Scatter3d(\n",
    "                x = points[[i, j], 0],\n",
    "            )\n",
    "        ))\n",
    "        \n",
    "        \n",
    "        \n",
    "        [\n",
    "            go.Scatter3d(\n",
    "                x=x[[k]],\n",
    "                y=y[[k]],\n",
    "                z=z[[k]]\n",
    "            )\n",
    "        ],\n",
    "        traces= [0],\n",
    "        name=f'frame{k}'      \n",
    "    )\n",
    "    for k, points in enumerate(points_list)\n",
    "\n",
    "]\n",
    "fig.update(frames=frames)\n",
    "\n",
    "\n",
    "\n",
    "def frame_args(duration):\n",
    "    return {\n",
    "        \"frame\": {\"duration\": duration},\n",
    "        \"mode\": \"immediate\",\n",
    "        \"fromcurrent\": True,\n",
    "        \"transition\": {\"duration\": duration, \"easing\": \"linear\"},\n",
    "    }\n",
    "\n",
    "\n",
    "sliders = [\n",
    "    {\n",
    "        \"pad\": {\"b\": 10, \"t\": 60},\n",
    "        \"len\": 0.9,\n",
    "        \"x\": 0.1,\n",
    "        \"y\": 0,\n",
    "        \"steps\": [\n",
    "            {\n",
    "                \"args\": [[f.name], frame_args(0)],\n",
    "                \"label\": str(k),\n",
    "                \"method\": \"animate\",\n",
    "            } for k, f in enumerate(fig.frames)\n",
    "        ]\n",
    "    }\n",
    "]\n",
    "\n",
    "fig.update_layout(\n",
    "    updatemenus = [\n",
    "        {\n",
    "            \"buttons\":[\n",
    "                {\n",
    "                    \"args\": [None, frame_args(50)],\n",
    "                    \"label\": \"Play\", \n",
    "                    \"method\": \"animate\",\n",
    "                },\n",
    "                {\n",
    "                    \"args\": [[None], frame_args(0)],\n",
    "                    \"label\": \"Pause\", \n",
    "                    \"method\": \"animate\",\n",
    "                }\n",
    "            ],    \n",
    "            \"direction\": \"left\",\n",
    "            \"pad\": {\"r\": 10, \"t\": 70},\n",
    "            \"type\": \"buttons\",\n",
    "            \"x\": 0.1,\n",
    "            \"y\": 0,\n",
    "        }\n",
    "    ],\n",
    "    sliders=sliders\n",
    ")\n",
    "\n",
    "fig.update_layout(\n",
    "    scene = dict(\n",
    "        xaxis=dict(range=[min(x), max(x)],autorange=False),\n",
    "        yaxis=dict(range=[min(y), max(y)], autorange=False),\n",
    "        zaxis=dict(range=[min(z), max(z)], autorange=False)\n",
    "    )\n",
    ")\n",
    "\n",
    "\n",
    "fig.update_layout(sliders=sliders)\n",
    "fig.show()"
   ]
  },
  {
   "cell_type": "code",
   "execution_count": 64,
   "metadata": {},
   "outputs": [
    {
     "data": {
      "text/plain": [
       "(339, 16, 3)"
      ]
     },
     "execution_count": 64,
     "metadata": {},
     "output_type": "execute_result"
    }
   ],
   "source": [
    "points_list.shape"
   ]
  },
  {
   "cell_type": "code",
   "execution_count": 68,
   "metadata": {},
   "outputs": [
    {
     "data": {
      "text/plain": [
       "(3,)"
      ]
     },
     "execution_count": 68,
     "metadata": {},
     "output_type": "execute_result"
    }
   ],
   "source": [
    "points_list[0:100][0][0].shape"
   ]
  }
 ],
 "metadata": {
  "kernelspec": {
   "display_name": "first",
   "language": "python",
   "name": "python3"
  },
  "language_info": {
   "codemirror_mode": {
    "name": "ipython",
    "version": 3
   },
   "file_extension": ".py",
   "mimetype": "text/x-python",
   "name": "python",
   "nbconvert_exporter": "python",
   "pygments_lexer": "ipython3",
   "version": "3.10.9"
  },
  "orig_nbformat": 4
 },
 "nbformat": 4,
 "nbformat_minor": 2
}
