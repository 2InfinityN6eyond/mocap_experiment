{
 "cells": [
  {
   "cell_type": "code",
   "execution_count": 96,
   "metadata": {},
   "outputs": [
    {
     "data": {
      "application/vnd.plotly.v1+json": {
       "config": {
        "plotlyServerURL": "https://plot.ly"
       },
       "data": [
        {
         "marker": {
          "color": "red",
          "size": 10
         },
         "mode": "markers",
         "type": "scatter3d",
         "x": [],
         "y": [],
         "z": []
        }
       ],
       "frames": [
        {
         "data": [
          {
           "type": "scatter3d",
           "x": [
            0
           ],
           "y": [
            0.8818124087385474
           ],
           "z": [
            0.5279640039006127
           ]
          }
         ],
         "name": "frame0",
         "traces": [
          0
         ]
        },
        {
         "data": [
          {
           "type": "scatter3d",
           "x": [
            1
           ],
           "y": [
            0.7575829930079194
           ],
           "z": [
            0.27335995485435405
           ]
          }
         ],
         "name": "frame1",
         "traces": [
          0
         ]
        },
        {
         "data": [
          {
           "type": "scatter3d",
           "x": [
            2
           ],
           "y": [
            0.40389557991142466
           ],
           "z": [
            0.5253148362995452
           ]
          }
         ],
         "name": "frame2",
         "traces": [
          0
         ]
        },
        {
         "data": [
          {
           "type": "scatter3d",
           "x": [
            3
           ],
           "y": [
            0.9541189223755833
           ],
           "z": [
            0.2365757474250345
           ]
          }
         ],
         "name": "frame3",
         "traces": [
          0
         ]
        },
        {
         "data": [
          {
           "type": "scatter3d",
           "x": [
            4
           ],
           "y": [
            0.1019740868234923
           ],
           "z": [
            0.1963596496077794
           ]
          }
         ],
         "name": "frame4",
         "traces": [
          0
         ]
        },
        {
         "data": [
          {
           "type": "scatter3d",
           "x": [
            5
           ],
           "y": [
            0.45000799773927325
           ],
           "z": [
            0.5933037925403717
           ]
          }
         ],
         "name": "frame5",
         "traces": [
          0
         ]
        },
        {
         "data": [
          {
           "type": "scatter3d",
           "x": [
            6
           ],
           "y": [
            0.3600617046560425
           ],
           "z": [
            0.5494743400616975
           ]
          }
         ],
         "name": "frame6",
         "traces": [
          0
         ]
        },
        {
         "data": [
          {
           "type": "scatter3d",
           "x": [
            7
           ],
           "y": [
            0.8395191207859728
           ],
           "z": [
            0.44997771717308876
           ]
          }
         ],
         "name": "frame7",
         "traces": [
          0
         ]
        },
        {
         "data": [
          {
           "type": "scatter3d",
           "x": [
            8
           ],
           "y": [
            0.4412701223027149
           ],
           "z": [
            0.22738143665804766
           ]
          }
         ],
         "name": "frame8",
         "traces": [
          0
         ]
        },
        {
         "data": [
          {
           "type": "scatter3d",
           "x": [
            9
           ],
           "y": [
            0.16108745891722198
           ],
           "z": [
            0.5338979557590585
           ]
          }
         ],
         "name": "frame9",
         "traces": [
          0
         ]
        },
        {
         "data": [
          {
           "type": "scatter3d",
           "x": [
            10
           ],
           "y": [
            0.9956091323340173
           ],
           "z": [
            0.7659592804489551
           ]
          }
         ],
         "name": "frame10",
         "traces": [
          0
         ]
        },
        {
         "data": [
          {
           "type": "scatter3d",
           "x": [
            11
           ],
           "y": [
            0.6320946433707869
           ],
           "z": [
            0.14707034104849803
           ]
          }
         ],
         "name": "frame11",
         "traces": [
          0
         ]
        },
        {
         "data": [
          {
           "type": "scatter3d",
           "x": [
            12
           ],
           "y": [
            0.8721642288458769
           ],
           "z": [
            0.576936937906724
           ]
          }
         ],
         "name": "frame12",
         "traces": [
          0
         ]
        },
        {
         "data": [
          {
           "type": "scatter3d",
           "x": [
            13
           ],
           "y": [
            0.41381632211202113
           ],
           "z": [
            0.6481066709456855
           ]
          }
         ],
         "name": "frame13",
         "traces": [
          0
         ]
        },
        {
         "data": [
          {
           "type": "scatter3d",
           "x": [
            14
           ],
           "y": [
            0.9377433527659103
           ],
           "z": [
            0.6511507756063872
           ]
          }
         ],
         "name": "frame14",
         "traces": [
          0
         ]
        },
        {
         "data": [
          {
           "type": "scatter3d",
           "x": [
            15
           ],
           "y": [
            0.15689906506830598
           ],
           "z": [
            0.12797730399568652
           ]
          }
         ],
         "name": "frame15",
         "traces": [
          0
         ]
        },
        {
         "data": [
          {
           "type": "scatter3d",
           "x": [
            16
           ],
           "y": [
            0.6895906140627768
           ],
           "z": [
            0.08052924352225832
           ]
          }
         ],
         "name": "frame16",
         "traces": [
          0
         ]
        },
        {
         "data": [
          {
           "type": "scatter3d",
           "x": [
            17
           ],
           "y": [
            0.19335555608416066
           ],
           "z": [
            0.03515187534437669
           ]
          }
         ],
         "name": "frame17",
         "traces": [
          0
         ]
        },
        {
         "data": [
          {
           "type": "scatter3d",
           "x": [
            18
           ],
           "y": [
            0.5658678067131047
           ],
           "z": [
            0.046018366284749646
           ]
          }
         ],
         "name": "frame18",
         "traces": [
          0
         ]
        },
        {
         "data": [
          {
           "type": "scatter3d",
           "x": [
            19
           ],
           "y": [
            0.13413500483972585
           ],
           "z": [
            0.2356769213788622
           ]
          }
         ],
         "name": "frame19",
         "traces": [
          0
         ]
        },
        {
         "data": [
          {
           "type": "scatter3d",
           "x": [
            20
           ],
           "y": [
            0.43473602479537576
           ],
           "z": [
            0.19966829059041635
           ]
          }
         ],
         "name": "frame20",
         "traces": [
          0
         ]
        },
        {
         "data": [
          {
           "type": "scatter3d",
           "x": [
            21
           ],
           "y": [
            0.17140571123382742
           ],
           "z": [
            0.8105278006316692
           ]
          }
         ],
         "name": "frame21",
         "traces": [
          0
         ]
        },
        {
         "data": [
          {
           "type": "scatter3d",
           "x": [
            22
           ],
           "y": [
            0.14151506374742484
           ],
           "z": [
            0.3433914986369738
           ]
          }
         ],
         "name": "frame22",
         "traces": [
          0
         ]
        },
        {
         "data": [
          {
           "type": "scatter3d",
           "x": [
            23
           ],
           "y": [
            0.3279229038519096
           ],
           "z": [
            0.7548656822433637
           ]
          }
         ],
         "name": "frame23",
         "traces": [
          0
         ]
        },
        {
         "data": [
          {
           "type": "scatter3d",
           "x": [
            24
           ],
           "y": [
            0.7288417791139002
           ],
           "z": [
            0.10828614407062231
           ]
          }
         ],
         "name": "frame24",
         "traces": [
          0
         ]
        },
        {
         "data": [
          {
           "type": "scatter3d",
           "x": [
            25
           ],
           "y": [
            0.3696417535342772
           ],
           "z": [
            0.8686542200200531
           ]
          }
         ],
         "name": "frame25",
         "traces": [
          0
         ]
        },
        {
         "data": [
          {
           "type": "scatter3d",
           "x": [
            26
           ],
           "y": [
            0.6579898825595343
           ],
           "z": [
            0.6513714795262643
           ]
          }
         ],
         "name": "frame26",
         "traces": [
          0
         ]
        },
        {
         "data": [
          {
           "type": "scatter3d",
           "x": [
            27
           ],
           "y": [
            0.12671827619620646
           ],
           "z": [
            0.6398773179139874
           ]
          }
         ],
         "name": "frame27",
         "traces": [
          0
         ]
        },
        {
         "data": [
          {
           "type": "scatter3d",
           "x": [
            28
           ],
           "y": [
            0.5881124031067891
           ],
           "z": [
            0.693086954751514
           ]
          }
         ],
         "name": "frame28",
         "traces": [
          0
         ]
        },
        {
         "data": [
          {
           "type": "scatter3d",
           "x": [
            29
           ],
           "y": [
            0.949539246772167
           ],
           "z": [
            0.6921653321281187
           ]
          }
         ],
         "name": "frame29",
         "traces": [
          0
         ]
        },
        {
         "data": [
          {
           "type": "scatter3d",
           "x": [
            30
           ],
           "y": [
            0.7689813518177226
           ],
           "z": [
            0.09210766696661299
           ]
          }
         ],
         "name": "frame30",
         "traces": [
          0
         ]
        },
        {
         "data": [
          {
           "type": "scatter3d",
           "x": [
            31
           ],
           "y": [
            0.21009303673850577
           ],
           "z": [
            0.2602151072685358
           ]
          }
         ],
         "name": "frame31",
         "traces": [
          0
         ]
        },
        {
         "data": [
          {
           "type": "scatter3d",
           "x": [
            32
           ],
           "y": [
            0.8152853243086687
           ],
           "z": [
            0.4573922398397814
           ]
          }
         ],
         "name": "frame32",
         "traces": [
          0
         ]
        },
        {
         "data": [
          {
           "type": "scatter3d",
           "x": [
            33
           ],
           "y": [
            0.17554753432210857
           ],
           "z": [
            0.16509636714630727
           ]
          }
         ],
         "name": "frame33",
         "traces": [
          0
         ]
        },
        {
         "data": [
          {
           "type": "scatter3d",
           "x": [
            34
           ],
           "y": [
            0.38283736706148686
           ],
           "z": [
            0.7645278829590725
           ]
          }
         ],
         "name": "frame34",
         "traces": [
          0
         ]
        },
        {
         "data": [
          {
           "type": "scatter3d",
           "x": [
            35
           ],
           "y": [
            0.25809114095449426
           ],
           "z": [
            0.5066991202416418
           ]
          }
         ],
         "name": "frame35",
         "traces": [
          0
         ]
        },
        {
         "data": [
          {
           "type": "scatter3d",
           "x": [
            36
           ],
           "y": [
            0.5484840417452903
           ],
           "z": [
            0.03711418771864805
           ]
          }
         ],
         "name": "frame36",
         "traces": [
          0
         ]
        },
        {
         "data": [
          {
           "type": "scatter3d",
           "x": [
            37
           ],
           "y": [
            0.8287542790335355
           ],
           "z": [
            0.578078906679715
           ]
          }
         ],
         "name": "frame37",
         "traces": [
          0
         ]
        },
        {
         "data": [
          {
           "type": "scatter3d",
           "x": [
            38
           ],
           "y": [
            0.9735624877894474
           ],
           "z": [
            0.6662266020088365
           ]
          }
         ],
         "name": "frame38",
         "traces": [
          0
         ]
        },
        {
         "data": [
          {
           "type": "scatter3d",
           "x": [
            39
           ],
           "y": [
            0.8861781609755505
           ],
           "z": [
            0.6845850373304387
           ]
          }
         ],
         "name": "frame39",
         "traces": [
          0
         ]
        },
        {
         "data": [
          {
           "type": "scatter3d",
           "x": [
            40
           ],
           "y": [
            0.6370748641548402
           ],
           "z": [
            0.06442169621997629
           ]
          }
         ],
         "name": "frame40",
         "traces": [
          0
         ]
        },
        {
         "data": [
          {
           "type": "scatter3d",
           "x": [
            41
           ],
           "y": [
            0.16696837881222049
           ],
           "z": [
            0.0783049979350412
           ]
          }
         ],
         "name": "frame41",
         "traces": [
          0
         ]
        },
        {
         "data": [
          {
           "type": "scatter3d",
           "x": [
            42
           ],
           "y": [
            0.8892444924500654
           ],
           "z": [
            0.9403418304093195
           ]
          }
         ],
         "name": "frame42",
         "traces": [
          0
         ]
        },
        {
         "data": [
          {
           "type": "scatter3d",
           "x": [
            43
           ],
           "y": [
            0.8856146564845524
           ],
           "z": [
            0.5416351893649115
           ]
          }
         ],
         "name": "frame43",
         "traces": [
          0
         ]
        },
        {
         "data": [
          {
           "type": "scatter3d",
           "x": [
            44
           ],
           "y": [
            0.5175112948960843
           ],
           "z": [
            0.20601719085324288
           ]
          }
         ],
         "name": "frame44",
         "traces": [
          0
         ]
        },
        {
         "data": [
          {
           "type": "scatter3d",
           "x": [
            45
           ],
           "y": [
            0.26583189817371977
           ],
           "z": [
            0.5318164121653886
           ]
          }
         ],
         "name": "frame45",
         "traces": [
          0
         ]
        },
        {
         "data": [
          {
           "type": "scatter3d",
           "x": [
            46
           ],
           "y": [
            0.9152615458705364
           ],
           "z": [
            0.679353257997421
           ]
          }
         ],
         "name": "frame46",
         "traces": [
          0
         ]
        },
        {
         "data": [
          {
           "type": "scatter3d",
           "x": [
            47
           ],
           "y": [
            0.5519253730508182
           ],
           "z": [
            0.07835317521213658
           ]
          }
         ],
         "name": "frame47",
         "traces": [
          0
         ]
        },
        {
         "data": [
          {
           "type": "scatter3d",
           "x": [
            48
           ],
           "y": [
            0.24249430666811955
           ],
           "z": [
            0.9899552621221384
           ]
          }
         ],
         "name": "frame48",
         "traces": [
          0
         ]
        },
        {
         "data": [
          {
           "type": "scatter3d",
           "x": [
            49
           ],
           "y": [
            0.9780688378166269
           ],
           "z": [
            0.4513983675923654
           ]
          }
         ],
         "name": "frame49",
         "traces": [
          0
         ]
        },
        {
         "data": [
          {
           "type": "scatter3d",
           "x": [
            50
           ],
           "y": [
            0.9143396152654371
           ],
           "z": [
            0.06664006046750559
           ]
          }
         ],
         "name": "frame50",
         "traces": [
          0
         ]
        },
        {
         "data": [
          {
           "type": "scatter3d",
           "x": [
            51
           ],
           "y": [
            0.9043986406682414
           ],
           "z": [
            0.4939957272807094
           ]
          }
         ],
         "name": "frame51",
         "traces": [
          0
         ]
        },
        {
         "data": [
          {
           "type": "scatter3d",
           "x": [
            52
           ],
           "y": [
            0.8859595012159421
           ],
           "z": [
            0.6510122258826863
           ]
          }
         ],
         "name": "frame52",
         "traces": [
          0
         ]
        },
        {
         "data": [
          {
           "type": "scatter3d",
           "x": [
            53
           ],
           "y": [
            0.810466650353054
           ],
           "z": [
            0.720804509190727
           ]
          }
         ],
         "name": "frame53",
         "traces": [
          0
         ]
        },
        {
         "data": [
          {
           "type": "scatter3d",
           "x": [
            54
           ],
           "y": [
            0.7232123953273543
           ],
           "z": [
            0.7262005482665705
           ]
          }
         ],
         "name": "frame54",
         "traces": [
          0
         ]
        },
        {
         "data": [
          {
           "type": "scatter3d",
           "x": [
            55
           ],
           "y": [
            0.04835795310514568
           ],
           "z": [
            0.5787065101077884
           ]
          }
         ],
         "name": "frame55",
         "traces": [
          0
         ]
        },
        {
         "data": [
          {
           "type": "scatter3d",
           "x": [
            56
           ],
           "y": [
            0.5575893908420368
           ],
           "z": [
            0.49889019202716856
           ]
          }
         ],
         "name": "frame56",
         "traces": [
          0
         ]
        },
        {
         "data": [
          {
           "type": "scatter3d",
           "x": [
            57
           ],
           "y": [
            0.2650622674066757
           ],
           "z": [
            0.6469676495035264
           ]
          }
         ],
         "name": "frame57",
         "traces": [
          0
         ]
        },
        {
         "data": [
          {
           "type": "scatter3d",
           "x": [
            58
           ],
           "y": [
            0.7510371377441589
           ],
           "z": [
            0.28383991722068613
           ]
          }
         ],
         "name": "frame58",
         "traces": [
          0
         ]
        },
        {
         "data": [
          {
           "type": "scatter3d",
           "x": [
            59
           ],
           "y": [
            0.8012018550129161
           ],
           "z": [
            0.6172220565877597
           ]
          }
         ],
         "name": "frame59",
         "traces": [
          0
         ]
        },
        {
         "data": [
          {
           "type": "scatter3d",
           "x": [
            60
           ],
           "y": [
            0.8927716889082994
           ],
           "z": [
            0.20690932092455894
           ]
          }
         ],
         "name": "frame60",
         "traces": [
          0
         ]
        },
        {
         "data": [
          {
           "type": "scatter3d",
           "x": [
            61
           ],
           "y": [
            0.8465539579151856
           ],
           "z": [
            0.6733569396551269
           ]
          }
         ],
         "name": "frame61",
         "traces": [
          0
         ]
        },
        {
         "data": [
          {
           "type": "scatter3d",
           "x": [
            62
           ],
           "y": [
            0.8558252361704716
           ],
           "z": [
            0.9352223356549072
           ]
          }
         ],
         "name": "frame62",
         "traces": [
          0
         ]
        },
        {
         "data": [
          {
           "type": "scatter3d",
           "x": [
            63
           ],
           "y": [
            0.9290408610546385
           ],
           "z": [
            0.8662927116565567
           ]
          }
         ],
         "name": "frame63",
         "traces": [
          0
         ]
        },
        {
         "data": [
          {
           "type": "scatter3d",
           "x": [
            64
           ],
           "y": [
            0.04525632505174593
           ],
           "z": [
            0.43883813101113933
           ]
          }
         ],
         "name": "frame64",
         "traces": [
          0
         ]
        },
        {
         "data": [
          {
           "type": "scatter3d",
           "x": [
            65
           ],
           "y": [
            0.3124384660842292
           ],
           "z": [
            0.1569704242558243
           ]
          }
         ],
         "name": "frame65",
         "traces": [
          0
         ]
        },
        {
         "data": [
          {
           "type": "scatter3d",
           "x": [
            66
           ],
           "y": [
            0.9363483249325865
           ],
           "z": [
            0.7870418052389596
           ]
          }
         ],
         "name": "frame66",
         "traces": [
          0
         ]
        },
        {
         "data": [
          {
           "type": "scatter3d",
           "x": [
            67
           ],
           "y": [
            0.40006731264952544
           ],
           "z": [
            0.21395307791168816
           ]
          }
         ],
         "name": "frame67",
         "traces": [
          0
         ]
        },
        {
         "data": [
          {
           "type": "scatter3d",
           "x": [
            68
           ],
           "y": [
            0.15817604812603436
           ],
           "z": [
            0.5805408062073532
           ]
          }
         ],
         "name": "frame68",
         "traces": [
          0
         ]
        },
        {
         "data": [
          {
           "type": "scatter3d",
           "x": [
            69
           ],
           "y": [
            0.17059972347071783
           ],
           "z": [
            0.11341889410000605
           ]
          }
         ],
         "name": "frame69",
         "traces": [
          0
         ]
        },
        {
         "data": [
          {
           "type": "scatter3d",
           "x": [
            70
           ],
           "y": [
            0.5213117874674145
           ],
           "z": [
            0.7391601823883671
           ]
          }
         ],
         "name": "frame70",
         "traces": [
          0
         ]
        },
        {
         "data": [
          {
           "type": "scatter3d",
           "x": [
            71
           ],
           "y": [
            0.09677868091899977
           ],
           "z": [
            0.7091229224169571
           ]
          }
         ],
         "name": "frame71",
         "traces": [
          0
         ]
        },
        {
         "data": [
          {
           "type": "scatter3d",
           "x": [
            72
           ],
           "y": [
            0.11790051282494274
           ],
           "z": [
            0.472715174078143
           ]
          }
         ],
         "name": "frame72",
         "traces": [
          0
         ]
        },
        {
         "data": [
          {
           "type": "scatter3d",
           "x": [
            73
           ],
           "y": [
            0.2811226541389973
           ],
           "z": [
            0.9002881945990225
           ]
          }
         ],
         "name": "frame73",
         "traces": [
          0
         ]
        },
        {
         "data": [
          {
           "type": "scatter3d",
           "x": [
            74
           ],
           "y": [
            0.5946457975838655
           ],
           "z": [
            0.46002459683087127
           ]
          }
         ],
         "name": "frame74",
         "traces": [
          0
         ]
        },
        {
         "data": [
          {
           "type": "scatter3d",
           "x": [
            75
           ],
           "y": [
            0.5578336104016246
           ],
           "z": [
            0.4022970866950142
           ]
          }
         ],
         "name": "frame75",
         "traces": [
          0
         ]
        },
        {
         "data": [
          {
           "type": "scatter3d",
           "x": [
            76
           ],
           "y": [
            0.370421152358023
           ],
           "z": [
            0.021758823632205937
           ]
          }
         ],
         "name": "frame76",
         "traces": [
          0
         ]
        },
        {
         "data": [
          {
           "type": "scatter3d",
           "x": [
            77
           ],
           "y": [
            0.9403741984434325
           ],
           "z": [
            0.5685488773067855
           ]
          }
         ],
         "name": "frame77",
         "traces": [
          0
         ]
        },
        {
         "data": [
          {
           "type": "scatter3d",
           "x": [
            78
           ],
           "y": [
            0.7459637404011955
           ],
           "z": [
            0.4530682683520735
           ]
          }
         ],
         "name": "frame78",
         "traces": [
          0
         ]
        },
        {
         "data": [
          {
           "type": "scatter3d",
           "x": [
            79
           ],
           "y": [
            0.22474497036727625
           ],
           "z": [
            0.5760086317799334
           ]
          }
         ],
         "name": "frame79",
         "traces": [
          0
         ]
        },
        {
         "data": [
          {
           "type": "scatter3d",
           "x": [
            80
           ],
           "y": [
            0.18907876947083224
           ],
           "z": [
            0.19675834519717894
           ]
          }
         ],
         "name": "frame80",
         "traces": [
          0
         ]
        },
        {
         "data": [
          {
           "type": "scatter3d",
           "x": [
            81
           ],
           "y": [
            0.4976284429048381
           ],
           "z": [
            0.4775758544456321
           ]
          }
         ],
         "name": "frame81",
         "traces": [
          0
         ]
        },
        {
         "data": [
          {
           "type": "scatter3d",
           "x": [
            82
           ],
           "y": [
            0.01899937030271126
           ],
           "z": [
            0.05910348526949416
           ]
          }
         ],
         "name": "frame82",
         "traces": [
          0
         ]
        },
        {
         "data": [
          {
           "type": "scatter3d",
           "x": [
            83
           ],
           "y": [
            0.43728260841029654
           ],
           "z": [
            0.8284028241095462
           ]
          }
         ],
         "name": "frame83",
         "traces": [
          0
         ]
        },
        {
         "data": [
          {
           "type": "scatter3d",
           "x": [
            84
           ],
           "y": [
            0.24614690605388978
           ],
           "z": [
            0.787880101177626
           ]
          }
         ],
         "name": "frame84",
         "traces": [
          0
         ]
        },
        {
         "data": [
          {
           "type": "scatter3d",
           "x": [
            85
           ],
           "y": [
            0.3497662150888635
           ],
           "z": [
            0.7890211859298113
           ]
          }
         ],
         "name": "frame85",
         "traces": [
          0
         ]
        },
        {
         "data": [
          {
           "type": "scatter3d",
           "x": [
            86
           ],
           "y": [
            0.14732950454290994
           ],
           "z": [
            0.1927621163802764
           ]
          }
         ],
         "name": "frame86",
         "traces": [
          0
         ]
        },
        {
         "data": [
          {
           "type": "scatter3d",
           "x": [
            87
           ],
           "y": [
            0.7958981316677302
           ],
           "z": [
            0.8897827427110478
           ]
          }
         ],
         "name": "frame87",
         "traces": [
          0
         ]
        },
        {
         "data": [
          {
           "type": "scatter3d",
           "x": [
            88
           ],
           "y": [
            0.4373735570089542
           ],
           "z": [
            0.27681562053075903
           ]
          }
         ],
         "name": "frame88",
         "traces": [
          0
         ]
        },
        {
         "data": [
          {
           "type": "scatter3d",
           "x": [
            89
           ],
           "y": [
            0.8693596814618653
           ],
           "z": [
            0.8172601767269104
           ]
          }
         ],
         "name": "frame89",
         "traces": [
          0
         ]
        },
        {
         "data": [
          {
           "type": "scatter3d",
           "x": [
            90
           ],
           "y": [
            0.596101785550224
           ],
           "z": [
            0.7402745814606796
           ]
          }
         ],
         "name": "frame90",
         "traces": [
          0
         ]
        },
        {
         "data": [
          {
           "type": "scatter3d",
           "x": [
            91
           ],
           "y": [
            0.3527421309931206
           ],
           "z": [
            0.7958312842780925
           ]
          }
         ],
         "name": "frame91",
         "traces": [
          0
         ]
        },
        {
         "data": [
          {
           "type": "scatter3d",
           "x": [
            92
           ],
           "y": [
            0.052725175132574575
           ],
           "z": [
            0.5019919690342671
           ]
          }
         ],
         "name": "frame92",
         "traces": [
          0
         ]
        },
        {
         "data": [
          {
           "type": "scatter3d",
           "x": [
            93
           ],
           "y": [
            0.0423662617976176
           ],
           "z": [
            0.5279992241804516
           ]
          }
         ],
         "name": "frame93",
         "traces": [
          0
         ]
        },
        {
         "data": [
          {
           "type": "scatter3d",
           "x": [
            94
           ],
           "y": [
            0.9153473752691367
           ],
           "z": [
            0.17771732007252683
           ]
          }
         ],
         "name": "frame94",
         "traces": [
          0
         ]
        },
        {
         "data": [
          {
           "type": "scatter3d",
           "x": [
            95
           ],
           "y": [
            0.2619055013151004
           ],
           "z": [
            0.09940184282155129
           ]
          }
         ],
         "name": "frame95",
         "traces": [
          0
         ]
        },
        {
         "data": [
          {
           "type": "scatter3d",
           "x": [
            96
           ],
           "y": [
            0.4383391760823744
           ],
           "z": [
            0.04501859523382157
           ]
          }
         ],
         "name": "frame96",
         "traces": [
          0
         ]
        },
        {
         "data": [
          {
           "type": "scatter3d",
           "x": [
            97
           ],
           "y": [
            0.25041855565785764
           ],
           "z": [
            0.3283758194526225
           ]
          }
         ],
         "name": "frame97",
         "traces": [
          0
         ]
        },
        {
         "data": [
          {
           "type": "scatter3d",
           "x": [
            98
           ],
           "y": [
            0.06282043853843589
           ],
           "z": [
            0.7334245544098983
           ]
          }
         ],
         "name": "frame98",
         "traces": [
          0
         ]
        },
        {
         "data": [
          {
           "type": "scatter3d",
           "x": [
            99
           ],
           "y": [
            0.42569055859406024
           ],
           "z": [
            0.2793269889994686
           ]
          }
         ],
         "name": "frame99",
         "traces": [
          0
         ]
        }
       ],
       "layout": {
        "scene": {
         "xaxis": {
          "autorange": false,
          "range": [
           0,
           99
          ]
         },
         "yaxis": {
          "autorange": false,
          "range": [
           0.01899937030271126,
           0.9956091323340173
          ]
         },
         "zaxis": {
          "autorange": false,
          "range": [
           0.021758823632205937,
           0.9899552621221384
          ]
         }
        },
        "template": {
         "data": {
          "bar": [
           {
            "error_x": {
             "color": "#2a3f5f"
            },
            "error_y": {
             "color": "#2a3f5f"
            },
            "marker": {
             "line": {
              "color": "#E5ECF6",
              "width": 0.5
             },
             "pattern": {
              "fillmode": "overlay",
              "size": 10,
              "solidity": 0.2
             }
            },
            "type": "bar"
           }
          ],
          "barpolar": [
           {
            "marker": {
             "line": {
              "color": "#E5ECF6",
              "width": 0.5
             },
             "pattern": {
              "fillmode": "overlay",
              "size": 10,
              "solidity": 0.2
             }
            },
            "type": "barpolar"
           }
          ],
          "carpet": [
           {
            "aaxis": {
             "endlinecolor": "#2a3f5f",
             "gridcolor": "white",
             "linecolor": "white",
             "minorgridcolor": "white",
             "startlinecolor": "#2a3f5f"
            },
            "baxis": {
             "endlinecolor": "#2a3f5f",
             "gridcolor": "white",
             "linecolor": "white",
             "minorgridcolor": "white",
             "startlinecolor": "#2a3f5f"
            },
            "type": "carpet"
           }
          ],
          "choropleth": [
           {
            "colorbar": {
             "outlinewidth": 0,
             "ticks": ""
            },
            "type": "choropleth"
           }
          ],
          "contour": [
           {
            "colorbar": {
             "outlinewidth": 0,
             "ticks": ""
            },
            "colorscale": [
             [
              0,
              "#0d0887"
             ],
             [
              0.1111111111111111,
              "#46039f"
             ],
             [
              0.2222222222222222,
              "#7201a8"
             ],
             [
              0.3333333333333333,
              "#9c179e"
             ],
             [
              0.4444444444444444,
              "#bd3786"
             ],
             [
              0.5555555555555556,
              "#d8576b"
             ],
             [
              0.6666666666666666,
              "#ed7953"
             ],
             [
              0.7777777777777778,
              "#fb9f3a"
             ],
             [
              0.8888888888888888,
              "#fdca26"
             ],
             [
              1,
              "#f0f921"
             ]
            ],
            "type": "contour"
           }
          ],
          "contourcarpet": [
           {
            "colorbar": {
             "outlinewidth": 0,
             "ticks": ""
            },
            "type": "contourcarpet"
           }
          ],
          "heatmap": [
           {
            "colorbar": {
             "outlinewidth": 0,
             "ticks": ""
            },
            "colorscale": [
             [
              0,
              "#0d0887"
             ],
             [
              0.1111111111111111,
              "#46039f"
             ],
             [
              0.2222222222222222,
              "#7201a8"
             ],
             [
              0.3333333333333333,
              "#9c179e"
             ],
             [
              0.4444444444444444,
              "#bd3786"
             ],
             [
              0.5555555555555556,
              "#d8576b"
             ],
             [
              0.6666666666666666,
              "#ed7953"
             ],
             [
              0.7777777777777778,
              "#fb9f3a"
             ],
             [
              0.8888888888888888,
              "#fdca26"
             ],
             [
              1,
              "#f0f921"
             ]
            ],
            "type": "heatmap"
           }
          ],
          "heatmapgl": [
           {
            "colorbar": {
             "outlinewidth": 0,
             "ticks": ""
            },
            "colorscale": [
             [
              0,
              "#0d0887"
             ],
             [
              0.1111111111111111,
              "#46039f"
             ],
             [
              0.2222222222222222,
              "#7201a8"
             ],
             [
              0.3333333333333333,
              "#9c179e"
             ],
             [
              0.4444444444444444,
              "#bd3786"
             ],
             [
              0.5555555555555556,
              "#d8576b"
             ],
             [
              0.6666666666666666,
              "#ed7953"
             ],
             [
              0.7777777777777778,
              "#fb9f3a"
             ],
             [
              0.8888888888888888,
              "#fdca26"
             ],
             [
              1,
              "#f0f921"
             ]
            ],
            "type": "heatmapgl"
           }
          ],
          "histogram": [
           {
            "marker": {
             "pattern": {
              "fillmode": "overlay",
              "size": 10,
              "solidity": 0.2
             }
            },
            "type": "histogram"
           }
          ],
          "histogram2d": [
           {
            "colorbar": {
             "outlinewidth": 0,
             "ticks": ""
            },
            "colorscale": [
             [
              0,
              "#0d0887"
             ],
             [
              0.1111111111111111,
              "#46039f"
             ],
             [
              0.2222222222222222,
              "#7201a8"
             ],
             [
              0.3333333333333333,
              "#9c179e"
             ],
             [
              0.4444444444444444,
              "#bd3786"
             ],
             [
              0.5555555555555556,
              "#d8576b"
             ],
             [
              0.6666666666666666,
              "#ed7953"
             ],
             [
              0.7777777777777778,
              "#fb9f3a"
             ],
             [
              0.8888888888888888,
              "#fdca26"
             ],
             [
              1,
              "#f0f921"
             ]
            ],
            "type": "histogram2d"
           }
          ],
          "histogram2dcontour": [
           {
            "colorbar": {
             "outlinewidth": 0,
             "ticks": ""
            },
            "colorscale": [
             [
              0,
              "#0d0887"
             ],
             [
              0.1111111111111111,
              "#46039f"
             ],
             [
              0.2222222222222222,
              "#7201a8"
             ],
             [
              0.3333333333333333,
              "#9c179e"
             ],
             [
              0.4444444444444444,
              "#bd3786"
             ],
             [
              0.5555555555555556,
              "#d8576b"
             ],
             [
              0.6666666666666666,
              "#ed7953"
             ],
             [
              0.7777777777777778,
              "#fb9f3a"
             ],
             [
              0.8888888888888888,
              "#fdca26"
             ],
             [
              1,
              "#f0f921"
             ]
            ],
            "type": "histogram2dcontour"
           }
          ],
          "mesh3d": [
           {
            "colorbar": {
             "outlinewidth": 0,
             "ticks": ""
            },
            "type": "mesh3d"
           }
          ],
          "parcoords": [
           {
            "line": {
             "colorbar": {
              "outlinewidth": 0,
              "ticks": ""
             }
            },
            "type": "parcoords"
           }
          ],
          "pie": [
           {
            "automargin": true,
            "type": "pie"
           }
          ],
          "scatter": [
           {
            "fillpattern": {
             "fillmode": "overlay",
             "size": 10,
             "solidity": 0.2
            },
            "type": "scatter"
           }
          ],
          "scatter3d": [
           {
            "line": {
             "colorbar": {
              "outlinewidth": 0,
              "ticks": ""
             }
            },
            "marker": {
             "colorbar": {
              "outlinewidth": 0,
              "ticks": ""
             }
            },
            "type": "scatter3d"
           }
          ],
          "scattercarpet": [
           {
            "marker": {
             "colorbar": {
              "outlinewidth": 0,
              "ticks": ""
             }
            },
            "type": "scattercarpet"
           }
          ],
          "scattergeo": [
           {
            "marker": {
             "colorbar": {
              "outlinewidth": 0,
              "ticks": ""
             }
            },
            "type": "scattergeo"
           }
          ],
          "scattergl": [
           {
            "marker": {
             "colorbar": {
              "outlinewidth": 0,
              "ticks": ""
             }
            },
            "type": "scattergl"
           }
          ],
          "scattermapbox": [
           {
            "marker": {
             "colorbar": {
              "outlinewidth": 0,
              "ticks": ""
             }
            },
            "type": "scattermapbox"
           }
          ],
          "scatterpolar": [
           {
            "marker": {
             "colorbar": {
              "outlinewidth": 0,
              "ticks": ""
             }
            },
            "type": "scatterpolar"
           }
          ],
          "scatterpolargl": [
           {
            "marker": {
             "colorbar": {
              "outlinewidth": 0,
              "ticks": ""
             }
            },
            "type": "scatterpolargl"
           }
          ],
          "scatterternary": [
           {
            "marker": {
             "colorbar": {
              "outlinewidth": 0,
              "ticks": ""
             }
            },
            "type": "scatterternary"
           }
          ],
          "surface": [
           {
            "colorbar": {
             "outlinewidth": 0,
             "ticks": ""
            },
            "colorscale": [
             [
              0,
              "#0d0887"
             ],
             [
              0.1111111111111111,
              "#46039f"
             ],
             [
              0.2222222222222222,
              "#7201a8"
             ],
             [
              0.3333333333333333,
              "#9c179e"
             ],
             [
              0.4444444444444444,
              "#bd3786"
             ],
             [
              0.5555555555555556,
              "#d8576b"
             ],
             [
              0.6666666666666666,
              "#ed7953"
             ],
             [
              0.7777777777777778,
              "#fb9f3a"
             ],
             [
              0.8888888888888888,
              "#fdca26"
             ],
             [
              1,
              "#f0f921"
             ]
            ],
            "type": "surface"
           }
          ],
          "table": [
           {
            "cells": {
             "fill": {
              "color": "#EBF0F8"
             },
             "line": {
              "color": "white"
             }
            },
            "header": {
             "fill": {
              "color": "#C8D4E3"
             },
             "line": {
              "color": "white"
             }
            },
            "type": "table"
           }
          ]
         },
         "layout": {
          "annotationdefaults": {
           "arrowcolor": "#2a3f5f",
           "arrowhead": 0,
           "arrowwidth": 1
          },
          "autotypenumbers": "strict",
          "coloraxis": {
           "colorbar": {
            "outlinewidth": 0,
            "ticks": ""
           }
          },
          "colorscale": {
           "diverging": [
            [
             0,
             "#8e0152"
            ],
            [
             0.1,
             "#c51b7d"
            ],
            [
             0.2,
             "#de77ae"
            ],
            [
             0.3,
             "#f1b6da"
            ],
            [
             0.4,
             "#fde0ef"
            ],
            [
             0.5,
             "#f7f7f7"
            ],
            [
             0.6,
             "#e6f5d0"
            ],
            [
             0.7,
             "#b8e186"
            ],
            [
             0.8,
             "#7fbc41"
            ],
            [
             0.9,
             "#4d9221"
            ],
            [
             1,
             "#276419"
            ]
           ],
           "sequential": [
            [
             0,
             "#0d0887"
            ],
            [
             0.1111111111111111,
             "#46039f"
            ],
            [
             0.2222222222222222,
             "#7201a8"
            ],
            [
             0.3333333333333333,
             "#9c179e"
            ],
            [
             0.4444444444444444,
             "#bd3786"
            ],
            [
             0.5555555555555556,
             "#d8576b"
            ],
            [
             0.6666666666666666,
             "#ed7953"
            ],
            [
             0.7777777777777778,
             "#fb9f3a"
            ],
            [
             0.8888888888888888,
             "#fdca26"
            ],
            [
             1,
             "#f0f921"
            ]
           ],
           "sequentialminus": [
            [
             0,
             "#0d0887"
            ],
            [
             0.1111111111111111,
             "#46039f"
            ],
            [
             0.2222222222222222,
             "#7201a8"
            ],
            [
             0.3333333333333333,
             "#9c179e"
            ],
            [
             0.4444444444444444,
             "#bd3786"
            ],
            [
             0.5555555555555556,
             "#d8576b"
            ],
            [
             0.6666666666666666,
             "#ed7953"
            ],
            [
             0.7777777777777778,
             "#fb9f3a"
            ],
            [
             0.8888888888888888,
             "#fdca26"
            ],
            [
             1,
             "#f0f921"
            ]
           ]
          },
          "colorway": [
           "#636efa",
           "#EF553B",
           "#00cc96",
           "#ab63fa",
           "#FFA15A",
           "#19d3f3",
           "#FF6692",
           "#B6E880",
           "#FF97FF",
           "#FECB52"
          ],
          "font": {
           "color": "#2a3f5f"
          },
          "geo": {
           "bgcolor": "white",
           "lakecolor": "white",
           "landcolor": "#E5ECF6",
           "showlakes": true,
           "showland": true,
           "subunitcolor": "white"
          },
          "hoverlabel": {
           "align": "left"
          },
          "hovermode": "closest",
          "mapbox": {
           "style": "light"
          },
          "paper_bgcolor": "white",
          "plot_bgcolor": "#E5ECF6",
          "polar": {
           "angularaxis": {
            "gridcolor": "white",
            "linecolor": "white",
            "ticks": ""
           },
           "bgcolor": "#E5ECF6",
           "radialaxis": {
            "gridcolor": "white",
            "linecolor": "white",
            "ticks": ""
           }
          },
          "scene": {
           "xaxis": {
            "backgroundcolor": "#E5ECF6",
            "gridcolor": "white",
            "gridwidth": 2,
            "linecolor": "white",
            "showbackground": true,
            "ticks": "",
            "zerolinecolor": "white"
           },
           "yaxis": {
            "backgroundcolor": "#E5ECF6",
            "gridcolor": "white",
            "gridwidth": 2,
            "linecolor": "white",
            "showbackground": true,
            "ticks": "",
            "zerolinecolor": "white"
           },
           "zaxis": {
            "backgroundcolor": "#E5ECF6",
            "gridcolor": "white",
            "gridwidth": 2,
            "linecolor": "white",
            "showbackground": true,
            "ticks": "",
            "zerolinecolor": "white"
           }
          },
          "shapedefaults": {
           "line": {
            "color": "#2a3f5f"
           }
          },
          "ternary": {
           "aaxis": {
            "gridcolor": "white",
            "linecolor": "white",
            "ticks": ""
           },
           "baxis": {
            "gridcolor": "white",
            "linecolor": "white",
            "ticks": ""
           },
           "bgcolor": "#E5ECF6",
           "caxis": {
            "gridcolor": "white",
            "linecolor": "white",
            "ticks": ""
           }
          },
          "title": {
           "x": 0.05
          },
          "xaxis": {
           "automargin": true,
           "gridcolor": "white",
           "linecolor": "white",
           "ticks": "",
           "title": {
            "standoff": 15
           },
           "zerolinecolor": "white",
           "zerolinewidth": 2
          },
          "yaxis": {
           "automargin": true,
           "gridcolor": "white",
           "linecolor": "white",
           "ticks": "",
           "title": {
            "standoff": 15
           },
           "zerolinecolor": "white",
           "zerolinewidth": 2
          }
         }
        },
        "updatemenus": [
         {
          "buttons": [
           {
            "args": [
             null,
             {
              "frame": {
               "fromcurrent": true,
               "mode": "immediate",
               "redraw": true
              }
             }
            ],
            "label": "Play",
            "method": "animate"
           }
          ],
          "type": "buttons"
         }
        ]
       }
      }
     },
     "metadata": {},
     "output_type": "display_data"
    }
   ],
   "source": [
    "import numpy as np\n",
    "import plotly.graph_objects as go\n",
    "\n",
    "#x,y,z = np.genfromtxt(r'dat.txt', unpack=True)\n",
    "x = np.arange(100)\n",
    "y = np.random.random(100)\n",
    "z = np.random.random(100)\n",
    "\n",
    "# Create figure\n",
    "fig = go.Figure(\n",
    "    data=[go.Scatter3d(x=[], y=[], z=[],\n",
    "                     mode=\"markers\",marker=dict(color=\"red\", size=10))])\n",
    "    \n",
    "fig.update_layout(    \n",
    "    scene = dict(\n",
    "        \n",
    "        xaxis=dict(range=[min(x), max(x)], autorange=False),\n",
    "        yaxis=dict(range=[min(y), max(y)], autorange=False),\n",
    "        zaxis=dict(range=[min(z), max(z)], autorange=False),\n",
    "        )),\n",
    "\n",
    "\n",
    "frames = [go.Frame(data= [go.Scatter3d(\n",
    "                                       x=x[[k]], \n",
    "                                       y=y[[k]],\n",
    "                                       z=z[[k]])],\n",
    "                   \n",
    "                   traces= [0],\n",
    "                   name=f'frame{k}'      \n",
    "                  )for k  in  range(len(x))]\n",
    "fig.update(frames=frames),\n",
    "\n",
    "\n",
    "\n",
    "\n",
    "fig.update_layout(updatemenus=[dict(type=\"buttons\",\n",
    "                          buttons=[dict(label=\"Play\",\n",
    "                                        method=\"animate\",\n",
    "                                        args=[None, dict(frame=dict(redraw=True,fromcurrent=True, mode='immediate'))      ])])])\n",
    "\n",
    "\n",
    "fig.show()\n"
   ]
  },
  {
   "cell_type": "code",
   "execution_count": 12,
   "metadata": {},
   "outputs": [],
   "source": [
    "import pandas as pd\n",
    "import io\n",
    "import os\n",
    "import glob\n",
    "from dataclasses import dataclass\n",
    "import matplotlib.pyplot as plt\n",
    "import numpy as np\n",
    "\n",
    "\n",
    "@dataclass\n",
    "class MocapLowerLandmark :\n",
    "    LANK: np.ndarray = None # 0\n",
    "    LASI: np.ndarray = None # 1\n",
    "    LHEE: np.ndarray = None # 2\n",
    "    LKNE: np.ndarray = None # 3\n",
    "    LPSI: np.ndarray = None # 4\n",
    "    LTHI: np.ndarray = None # 5\n",
    "    LTIB: np.ndarray = None # 6\n",
    "    LTOE: np.ndarray = None # 7\n",
    "    RANK: np.ndarray = None # 8\n",
    "    RASI: np.ndarray = None # 9\n",
    "    RHEE: np.ndarray = None # 10\n",
    "    RKNE: np.ndarray = None # 11\n",
    "    RPSI: np.ndarray = None # 12\n",
    "    RTHI: np.ndarray = None # 13\n",
    "    RTIB: np.ndarray = None # 14\n",
    "    RTOE: np.ndarray = None # 15\n",
    "    \n",
    "    CONN_PATH_LIST = [\n",
    "         7,  2,  0,  3,  1,  4, \n",
    "        12,  9, 11,  8, 10, 15\n",
    "    ]\n",
    "\n",
    "    @staticmethod\n",
    "    def calcKneeDegrees(mocap_df, idx = 0) :\n",
    "        raw_val = mocap_df.loc[:, ~mocap_df.columns.isin([\"Frame\", \"Time (Seconds)\"]) ].to_numpy()\n",
    "        raw_val = raw_val[idx].reshape(16, 3)\n",
    "\n",
    "        rthai = raw_val[9] - raw_val[11]\n",
    "        rcalf = raw_val[8] - raw_val[11]\n",
    "\n",
    "        lthai = raw_val[1] - raw_val[3]\n",
    "        lcalf = raw_val[0] - raw_val[3]\n",
    "\n",
    "        rthai_unit = rthai / np.linalg.norm(rthai)\n",
    "        rcalf_unit = rcalf / np.linalg.norm(rcalf)\n",
    "\n",
    "        lthai_unit = lthai / np.linalg.norm(lthai)\n",
    "        lcalf_unit = lcalf / np.linalg.norm(lcalf)\n",
    "\n",
    "        rangle = np.arccos(np.dot(rthai_unit, rcalf_unit))\n",
    "        langle = np.arccos(np.dot(lthai_unit, lcalf_unit))\n",
    "\n",
    "        return langle, rangle\n",
    "\n",
    "    @staticmethod\n",
    "    def df2landmark(mocap_df, idx = 0) :\n",
    "        raw_val = mocap_df.loc[:, ~mocap_df.columns.isin([\"Frame\", \"Time (Seconds)\"]) ].to_numpy()\n",
    "        return raw_val[idx].reshape(16, 3)\n",
    "\n",
    "\n",
    "def read_whole_data(trial_idx, experiment_idx) :\n",
    "    FORCE_PLATE_1_PATH = f\"/Volumes/HJP/CODES/mocap/data/d1/230626_Group7_trial{trial_idx}_{experiment_idx:03}_forceplate_1.csv\"\n",
    "    FORCE_PLATE_2_PATH = f\"/Volumes/HJP/CODES/mocap/data/d1/230626_Group7_trial{trial_idx}_{experiment_idx:03}_forceplate_2.csv\"\n",
    "    MOCAP_PATH = f\"/Volumes/HJP/CODES/mocap/data/d1/230626_Group7_trial{trial_idx}_{experiment_idx:03}.csv\"\n",
    "    EMG_PATH = f\"/Volumes/HJP/CODES/mocap/data/d1/230626_Group7_trial{trial_idx}_{experiment_idx:03}_Trigno_2883.csv\"\n",
    "\n",
    "    \n",
    "    with open(FORCE_PLATE_1_PATH, \"r\") as fp :\n",
    "        lines = fp.readlines()\n",
    "    raw_text = \"\".join(lines)\n",
    "    table = raw_text.split(\"\\n\\n\")[-1]\n",
    "    fp1_df = pd.read_csv(io.StringIO(table))\n",
    "\n",
    "    with open(FORCE_PLATE_2_PATH, \"r\") as fp :\n",
    "        lines = fp.readlines()\n",
    "    raw_text = \"\".join(lines)\n",
    "    table = raw_text.split(\"\\n\\n\")[-1]\n",
    "    fp2_df = pd.read_csv(io.StringIO(table))\n",
    "\n",
    "    with open(EMG_PATH, \"r\") as fp :\n",
    "        lines = fp.readlines()\n",
    "    raw_text = \"\".join(lines)\n",
    "    table = raw_text.split(\"\\n\\n\")[-1]\n",
    "    emg_df = pd.read_csv(io.StringIO(table))\n",
    "\n",
    "    with open(MOCAP_PATH, \"r\") as fp :\n",
    "        lines = fp.readlines()\n",
    "    mocap_df = pd.read_csv(io.StringIO( ''.join(lines[6:]) ))\n",
    "    \n",
    "    return mocap_df, emg_df, fp1_df, fp2_df\n",
    "\n",
    "mocap_df, emg_df, fp1_df, fp2_df = read_whole_data(2, 1)"
   ]
  },
  {
   "cell_type": "code",
   "execution_count": 81,
   "metadata": {},
   "outputs": [
    {
     "data": {
      "application/vnd.plotly.v1+json": {
       "config": {
        "plotlyServerURL": "https://plot.ly"
       },
       "data": [
        {
         "marker": {
          "color": "red",
          "size": 10
         },
         "mode": "markers",
         "type": "scatter3d",
         "x": [],
         "y": [],
         "z": []
        }
       ],
       "frames": [
        {
         "data": [
          {
           "type": "scatter3d",
           "x": [
            0
           ],
           "y": [
            0.6340764398697226
           ],
           "z": [
            0.2812225392781358
           ]
          }
         ],
         "name": "frame0",
         "traces": [
          0
         ]
        },
        {
         "data": [
          {
           "type": "scatter3d",
           "x": [
            1
           ],
           "y": [
            0.5428024982506737
           ],
           "z": [
            0.29199238386470805
           ]
          }
         ],
         "name": "frame1",
         "traces": [
          0
         ]
        },
        {
         "data": [
          {
           "type": "scatter3d",
           "x": [
            2
           ],
           "y": [
            0.8401892952264101
           ],
           "z": [
            0.9822293448974211
           ]
          }
         ],
         "name": "frame2",
         "traces": [
          0
         ]
        },
        {
         "data": [
          {
           "type": "scatter3d",
           "x": [
            3
           ],
           "y": [
            0.47039741364336585
           ],
           "z": [
            0.017380185196786635
           ]
          }
         ],
         "name": "frame3",
         "traces": [
          0
         ]
        },
        {
         "data": [
          {
           "type": "scatter3d",
           "x": [
            4
           ],
           "y": [
            0.3145329941786006
           ],
           "z": [
            0.07318268734171318
           ]
          }
         ],
         "name": "frame4",
         "traces": [
          0
         ]
        },
        {
         "data": [
          {
           "type": "scatter3d",
           "x": [
            5
           ],
           "y": [
            0.8350759556790868
           ],
           "z": [
            0.6602309682091068
           ]
          }
         ],
         "name": "frame5",
         "traces": [
          0
         ]
        },
        {
         "data": [
          {
           "type": "scatter3d",
           "x": [
            6
           ],
           "y": [
            0.2776806046088941
           ],
           "z": [
            0.36286739366813003
           ]
          }
         ],
         "name": "frame6",
         "traces": [
          0
         ]
        },
        {
         "data": [
          {
           "type": "scatter3d",
           "x": [
            7
           ],
           "y": [
            0.08909385110995172
           ],
           "z": [
            0.3658954622230136
           ]
          }
         ],
         "name": "frame7",
         "traces": [
          0
         ]
        },
        {
         "data": [
          {
           "type": "scatter3d",
           "x": [
            8
           ],
           "y": [
            0.6199003053268621
           ],
           "z": [
            0.5876684885417551
           ]
          }
         ],
         "name": "frame8",
         "traces": [
          0
         ]
        },
        {
         "data": [
          {
           "type": "scatter3d",
           "x": [
            9
           ],
           "y": [
            0.4543082548151425
           ],
           "z": [
            0.5903656600840356
           ]
          }
         ],
         "name": "frame9",
         "traces": [
          0
         ]
        },
        {
         "data": [
          {
           "type": "scatter3d",
           "x": [
            10
           ],
           "y": [
            0.42851472473461827
           ],
           "z": [
            0.6509472060887738
           ]
          }
         ],
         "name": "frame10",
         "traces": [
          0
         ]
        },
        {
         "data": [
          {
           "type": "scatter3d",
           "x": [
            11
           ],
           "y": [
            0.37015029022189916
           ],
           "z": [
            0.1822297966320945
           ]
          }
         ],
         "name": "frame11",
         "traces": [
          0
         ]
        },
        {
         "data": [
          {
           "type": "scatter3d",
           "x": [
            12
           ],
           "y": [
            0.7931066281723838
           ],
           "z": [
            0.8395047203423817
           ]
          }
         ],
         "name": "frame12",
         "traces": [
          0
         ]
        },
        {
         "data": [
          {
           "type": "scatter3d",
           "x": [
            13
           ],
           "y": [
            0.1524866224481578
           ],
           "z": [
            0.9758418883731323
           ]
          }
         ],
         "name": "frame13",
         "traces": [
          0
         ]
        },
        {
         "data": [
          {
           "type": "scatter3d",
           "x": [
            14
           ],
           "y": [
            0.32763794702274285
           ],
           "z": [
            0.26533115441920285
           ]
          }
         ],
         "name": "frame14",
         "traces": [
          0
         ]
        },
        {
         "data": [
          {
           "type": "scatter3d",
           "x": [
            15
           ],
           "y": [
            0.2019141001627751
           ],
           "z": [
            0.8781695879642268
           ]
          }
         ],
         "name": "frame15",
         "traces": [
          0
         ]
        },
        {
         "data": [
          {
           "type": "scatter3d",
           "x": [
            16
           ],
           "y": [
            0.7929456006679968
           ],
           "z": [
            0.07362131134434646
           ]
          }
         ],
         "name": "frame16",
         "traces": [
          0
         ]
        },
        {
         "data": [
          {
           "type": "scatter3d",
           "x": [
            17
           ],
           "y": [
            0.5951649288307708
           ],
           "z": [
            0.6875214244017285
           ]
          }
         ],
         "name": "frame17",
         "traces": [
          0
         ]
        },
        {
         "data": [
          {
           "type": "scatter3d",
           "x": [
            18
           ],
           "y": [
            0.9937579605639547
           ],
           "z": [
            0.4909545039983858
           ]
          }
         ],
         "name": "frame18",
         "traces": [
          0
         ]
        },
        {
         "data": [
          {
           "type": "scatter3d",
           "x": [
            19
           ],
           "y": [
            0.5770742074262286
           ],
           "z": [
            0.4255398398317175
           ]
          }
         ],
         "name": "frame19",
         "traces": [
          0
         ]
        },
        {
         "data": [
          {
           "type": "scatter3d",
           "x": [
            20
           ],
           "y": [
            0.04559978154366473
           ],
           "z": [
            0.688199240187741
           ]
          }
         ],
         "name": "frame20",
         "traces": [
          0
         ]
        },
        {
         "data": [
          {
           "type": "scatter3d",
           "x": [
            21
           ],
           "y": [
            0.19599250929944145
           ],
           "z": [
            0.26167190956657926
           ]
          }
         ],
         "name": "frame21",
         "traces": [
          0
         ]
        },
        {
         "data": [
          {
           "type": "scatter3d",
           "x": [
            22
           ],
           "y": [
            0.9751531672591589
           ],
           "z": [
            0.11046999873240493
           ]
          }
         ],
         "name": "frame22",
         "traces": [
          0
         ]
        },
        {
         "data": [
          {
           "type": "scatter3d",
           "x": [
            23
           ],
           "y": [
            0.5630791223485251
           ],
           "z": [
            0.5573061450619606
           ]
          }
         ],
         "name": "frame23",
         "traces": [
          0
         ]
        },
        {
         "data": [
          {
           "type": "scatter3d",
           "x": [
            24
           ],
           "y": [
            0.7948742774364055
           ],
           "z": [
            0.9576523328596149
           ]
          }
         ],
         "name": "frame24",
         "traces": [
          0
         ]
        },
        {
         "data": [
          {
           "type": "scatter3d",
           "x": [
            25
           ],
           "y": [
            0.28278006515320875
           ],
           "z": [
            0.3727286788840468
           ]
          }
         ],
         "name": "frame25",
         "traces": [
          0
         ]
        },
        {
         "data": [
          {
           "type": "scatter3d",
           "x": [
            26
           ],
           "y": [
            0.5161880211625045
           ],
           "z": [
            0.024613852396864977
           ]
          }
         ],
         "name": "frame26",
         "traces": [
          0
         ]
        },
        {
         "data": [
          {
           "type": "scatter3d",
           "x": [
            27
           ],
           "y": [
            0.9706806533559773
           ],
           "z": [
            0.37203255525093015
           ]
          }
         ],
         "name": "frame27",
         "traces": [
          0
         ]
        },
        {
         "data": [
          {
           "type": "scatter3d",
           "x": [
            28
           ],
           "y": [
            0.7973569889312233
           ],
           "z": [
            0.4912815725626932
           ]
          }
         ],
         "name": "frame28",
         "traces": [
          0
         ]
        },
        {
         "data": [
          {
           "type": "scatter3d",
           "x": [
            29
           ],
           "y": [
            0.3032708551834439
           ],
           "z": [
            0.2448253018982791
           ]
          }
         ],
         "name": "frame29",
         "traces": [
          0
         ]
        },
        {
         "data": [
          {
           "type": "scatter3d",
           "x": [
            30
           ],
           "y": [
            0.2641700342125284
           ],
           "z": [
            0.02268773812657887
           ]
          }
         ],
         "name": "frame30",
         "traces": [
          0
         ]
        },
        {
         "data": [
          {
           "type": "scatter3d",
           "x": [
            31
           ],
           "y": [
            0.675900728537019
           ],
           "z": [
            0.303240695355838
           ]
          }
         ],
         "name": "frame31",
         "traces": [
          0
         ]
        },
        {
         "data": [
          {
           "type": "scatter3d",
           "x": [
            32
           ],
           "y": [
            0.2899679615185461
           ],
           "z": [
            0.8273881180023192
           ]
          }
         ],
         "name": "frame32",
         "traces": [
          0
         ]
        },
        {
         "data": [
          {
           "type": "scatter3d",
           "x": [
            33
           ],
           "y": [
            0.9471320003887477
           ],
           "z": [
            0.9513855872154378
           ]
          }
         ],
         "name": "frame33",
         "traces": [
          0
         ]
        },
        {
         "data": [
          {
           "type": "scatter3d",
           "x": [
            34
           ],
           "y": [
            0.6362764802577593
           ],
           "z": [
            0.9480150433310361
           ]
          }
         ],
         "name": "frame34",
         "traces": [
          0
         ]
        },
        {
         "data": [
          {
           "type": "scatter3d",
           "x": [
            35
           ],
           "y": [
            0.20894280215999117
           ],
           "z": [
            0.9136743082023469
           ]
          }
         ],
         "name": "frame35",
         "traces": [
          0
         ]
        },
        {
         "data": [
          {
           "type": "scatter3d",
           "x": [
            36
           ],
           "y": [
            0.8225570861368706
           ],
           "z": [
            0.10238523483979511
           ]
          }
         ],
         "name": "frame36",
         "traces": [
          0
         ]
        },
        {
         "data": [
          {
           "type": "scatter3d",
           "x": [
            37
           ],
           "y": [
            0.012249903609159896
           ],
           "z": [
            0.9018023686644423
           ]
          }
         ],
         "name": "frame37",
         "traces": [
          0
         ]
        },
        {
         "data": [
          {
           "type": "scatter3d",
           "x": [
            38
           ],
           "y": [
            0.843230228996628
           ],
           "z": [
            0.9502586678359135
           ]
          }
         ],
         "name": "frame38",
         "traces": [
          0
         ]
        },
        {
         "data": [
          {
           "type": "scatter3d",
           "x": [
            39
           ],
           "y": [
            0.9831534139436926
           ],
           "z": [
            0.7171173160533952
           ]
          }
         ],
         "name": "frame39",
         "traces": [
          0
         ]
        },
        {
         "data": [
          {
           "type": "scatter3d",
           "x": [
            40
           ],
           "y": [
            0.4804655424099985
           ],
           "z": [
            0.6671805072892129
           ]
          }
         ],
         "name": "frame40",
         "traces": [
          0
         ]
        },
        {
         "data": [
          {
           "type": "scatter3d",
           "x": [
            41
           ],
           "y": [
            0.5616778617186383
           ],
           "z": [
            0.5212148762226394
           ]
          }
         ],
         "name": "frame41",
         "traces": [
          0
         ]
        },
        {
         "data": [
          {
           "type": "scatter3d",
           "x": [
            42
           ],
           "y": [
            0.6049555545865724
           ],
           "z": [
            0.11789689079533583
           ]
          }
         ],
         "name": "frame42",
         "traces": [
          0
         ]
        },
        {
         "data": [
          {
           "type": "scatter3d",
           "x": [
            43
           ],
           "y": [
            0.15780503054439077
           ],
           "z": [
            0.6157880877869925
           ]
          }
         ],
         "name": "frame43",
         "traces": [
          0
         ]
        },
        {
         "data": [
          {
           "type": "scatter3d",
           "x": [
            44
           ],
           "y": [
            0.08492466811858823
           ],
           "z": [
            0.2869064735087401
           ]
          }
         ],
         "name": "frame44",
         "traces": [
          0
         ]
        },
        {
         "data": [
          {
           "type": "scatter3d",
           "x": [
            45
           ],
           "y": [
            0.7882887630316452
           ],
           "z": [
            0.32346211342775955
           ]
          }
         ],
         "name": "frame45",
         "traces": [
          0
         ]
        },
        {
         "data": [
          {
           "type": "scatter3d",
           "x": [
            46
           ],
           "y": [
            0.8317298301141327
           ],
           "z": [
            0.8643799118578962
           ]
          }
         ],
         "name": "frame46",
         "traces": [
          0
         ]
        },
        {
         "data": [
          {
           "type": "scatter3d",
           "x": [
            47
           ],
           "y": [
            0.503430487736064
           ],
           "z": [
            0.8286836255807366
           ]
          }
         ],
         "name": "frame47",
         "traces": [
          0
         ]
        },
        {
         "data": [
          {
           "type": "scatter3d",
           "x": [
            48
           ],
           "y": [
            0.09947607675433978
           ],
           "z": [
            0.6308098664599311
           ]
          }
         ],
         "name": "frame48",
         "traces": [
          0
         ]
        },
        {
         "data": [
          {
           "type": "scatter3d",
           "x": [
            49
           ],
           "y": [
            0.9777074012295154
           ],
           "z": [
            0.9546421545029722
           ]
          }
         ],
         "name": "frame49",
         "traces": [
          0
         ]
        },
        {
         "data": [
          {
           "type": "scatter3d",
           "x": [
            50
           ],
           "y": [
            0.03913109183434049
           ],
           "z": [
            0.9809539693414454
           ]
          }
         ],
         "name": "frame50",
         "traces": [
          0
         ]
        },
        {
         "data": [
          {
           "type": "scatter3d",
           "x": [
            51
           ],
           "y": [
            0.3916974172185811
           ],
           "z": [
            0.16405255113300565
           ]
          }
         ],
         "name": "frame51",
         "traces": [
          0
         ]
        },
        {
         "data": [
          {
           "type": "scatter3d",
           "x": [
            52
           ],
           "y": [
            0.7355246963115364
           ],
           "z": [
            0.2350298765879888
           ]
          }
         ],
         "name": "frame52",
         "traces": [
          0
         ]
        },
        {
         "data": [
          {
           "type": "scatter3d",
           "x": [
            53
           ],
           "y": [
            0.13707849884770507
           ],
           "z": [
            0.5934917157794999
           ]
          }
         ],
         "name": "frame53",
         "traces": [
          0
         ]
        },
        {
         "data": [
          {
           "type": "scatter3d",
           "x": [
            54
           ],
           "y": [
            0.16137977593251052
           ],
           "z": [
            0.5695884655898058
           ]
          }
         ],
         "name": "frame54",
         "traces": [
          0
         ]
        },
        {
         "data": [
          {
           "type": "scatter3d",
           "x": [
            55
           ],
           "y": [
            0.5259408899554683
           ],
           "z": [
            0.061445841507231314
           ]
          }
         ],
         "name": "frame55",
         "traces": [
          0
         ]
        },
        {
         "data": [
          {
           "type": "scatter3d",
           "x": [
            56
           ],
           "y": [
            0.029539167221013574
           ],
           "z": [
            0.6136031313521692
           ]
          }
         ],
         "name": "frame56",
         "traces": [
          0
         ]
        },
        {
         "data": [
          {
           "type": "scatter3d",
           "x": [
            57
           ],
           "y": [
            0.20492878936805292
           ],
           "z": [
            0.8268668563204494
           ]
          }
         ],
         "name": "frame57",
         "traces": [
          0
         ]
        },
        {
         "data": [
          {
           "type": "scatter3d",
           "x": [
            58
           ],
           "y": [
            0.9628292393248886
           ],
           "z": [
            0.33071379462552364
           ]
          }
         ],
         "name": "frame58",
         "traces": [
          0
         ]
        },
        {
         "data": [
          {
           "type": "scatter3d",
           "x": [
            59
           ],
           "y": [
            0.9117741223826061
           ],
           "z": [
            0.2988842844565426
           ]
          }
         ],
         "name": "frame59",
         "traces": [
          0
         ]
        },
        {
         "data": [
          {
           "type": "scatter3d",
           "x": [
            60
           ],
           "y": [
            0.059143001740732504
           ],
           "z": [
            0.8025213717247277
           ]
          }
         ],
         "name": "frame60",
         "traces": [
          0
         ]
        },
        {
         "data": [
          {
           "type": "scatter3d",
           "x": [
            61
           ],
           "y": [
            0.5541963358216002
           ],
           "z": [
            0.7206396113565346
           ]
          }
         ],
         "name": "frame61",
         "traces": [
          0
         ]
        },
        {
         "data": [
          {
           "type": "scatter3d",
           "x": [
            62
           ],
           "y": [
            0.13401431392528795
           ],
           "z": [
            0.9773149521893476
           ]
          }
         ],
         "name": "frame62",
         "traces": [
          0
         ]
        },
        {
         "data": [
          {
           "type": "scatter3d",
           "x": [
            63
           ],
           "y": [
            0.8705851366177998
           ],
           "z": [
            0.39506239021560874
           ]
          }
         ],
         "name": "frame63",
         "traces": [
          0
         ]
        },
        {
         "data": [
          {
           "type": "scatter3d",
           "x": [
            64
           ],
           "y": [
            0.8224876648832784
           ],
           "z": [
            0.3975592982048495
           ]
          }
         ],
         "name": "frame64",
         "traces": [
          0
         ]
        },
        {
         "data": [
          {
           "type": "scatter3d",
           "x": [
            65
           ],
           "y": [
            0.8871341362825271
           ],
           "z": [
            0.3311096625315999
           ]
          }
         ],
         "name": "frame65",
         "traces": [
          0
         ]
        },
        {
         "data": [
          {
           "type": "scatter3d",
           "x": [
            66
           ],
           "y": [
            0.8342260236885835
           ],
           "z": [
            0.9152239189607412
           ]
          }
         ],
         "name": "frame66",
         "traces": [
          0
         ]
        },
        {
         "data": [
          {
           "type": "scatter3d",
           "x": [
            67
           ],
           "y": [
            0.4251931609728985
           ],
           "z": [
            0.30931250696351187
           ]
          }
         ],
         "name": "frame67",
         "traces": [
          0
         ]
        },
        {
         "data": [
          {
           "type": "scatter3d",
           "x": [
            68
           ],
           "y": [
            0.6605933024059482
           ],
           "z": [
            0.6683996315713249
           ]
          }
         ],
         "name": "frame68",
         "traces": [
          0
         ]
        },
        {
         "data": [
          {
           "type": "scatter3d",
           "x": [
            69
           ],
           "y": [
            0.7410482245157415
           ],
           "z": [
            0.814526539108226
           ]
          }
         ],
         "name": "frame69",
         "traces": [
          0
         ]
        },
        {
         "data": [
          {
           "type": "scatter3d",
           "x": [
            70
           ],
           "y": [
            0.7098449145435192
           ],
           "z": [
            0.6926960487319411
           ]
          }
         ],
         "name": "frame70",
         "traces": [
          0
         ]
        },
        {
         "data": [
          {
           "type": "scatter3d",
           "x": [
            71
           ],
           "y": [
            0.11160542453337585
           ],
           "z": [
            0.352470661067522
           ]
          }
         ],
         "name": "frame71",
         "traces": [
          0
         ]
        },
        {
         "data": [
          {
           "type": "scatter3d",
           "x": [
            72
           ],
           "y": [
            0.2213773813022173
           ],
           "z": [
            0.4982015583617734
           ]
          }
         ],
         "name": "frame72",
         "traces": [
          0
         ]
        },
        {
         "data": [
          {
           "type": "scatter3d",
           "x": [
            73
           ],
           "y": [
            0.5926773766876364
           ],
           "z": [
            0.4343988142617612
           ]
          }
         ],
         "name": "frame73",
         "traces": [
          0
         ]
        },
        {
         "data": [
          {
           "type": "scatter3d",
           "x": [
            74
           ],
           "y": [
            0.8154072405836398
           ],
           "z": [
            0.5656834067468407
           ]
          }
         ],
         "name": "frame74",
         "traces": [
          0
         ]
        },
        {
         "data": [
          {
           "type": "scatter3d",
           "x": [
            75
           ],
           "y": [
            0.43641631568518024
           ],
           "z": [
            0.5405739637423383
           ]
          }
         ],
         "name": "frame75",
         "traces": [
          0
         ]
        },
        {
         "data": [
          {
           "type": "scatter3d",
           "x": [
            76
           ],
           "y": [
            0.3606319135615108
           ],
           "z": [
            0.14541556425322244
           ]
          }
         ],
         "name": "frame76",
         "traces": [
          0
         ]
        },
        {
         "data": [
          {
           "type": "scatter3d",
           "x": [
            77
           ],
           "y": [
            0.6664647764040954
           ],
           "z": [
            0.7528585523562455
           ]
          }
         ],
         "name": "frame77",
         "traces": [
          0
         ]
        },
        {
         "data": [
          {
           "type": "scatter3d",
           "x": [
            78
           ],
           "y": [
            0.11228802213009359
           ],
           "z": [
            0.7870548376664926
           ]
          }
         ],
         "name": "frame78",
         "traces": [
          0
         ]
        },
        {
         "data": [
          {
           "type": "scatter3d",
           "x": [
            79
           ],
           "y": [
            0.450979618166336
           ],
           "z": [
            0.47217182748597697
           ]
          }
         ],
         "name": "frame79",
         "traces": [
          0
         ]
        },
        {
         "data": [
          {
           "type": "scatter3d",
           "x": [
            80
           ],
           "y": [
            0.1954884960563581
           ],
           "z": [
            0.7556453429657939
           ]
          }
         ],
         "name": "frame80",
         "traces": [
          0
         ]
        },
        {
         "data": [
          {
           "type": "scatter3d",
           "x": [
            81
           ],
           "y": [
            0.5025113805652296
           ],
           "z": [
            0.2614429413988779
           ]
          }
         ],
         "name": "frame81",
         "traces": [
          0
         ]
        },
        {
         "data": [
          {
           "type": "scatter3d",
           "x": [
            82
           ],
           "y": [
            0.6477807466558346
           ],
           "z": [
            0.2558651710855422
           ]
          }
         ],
         "name": "frame82",
         "traces": [
          0
         ]
        },
        {
         "data": [
          {
           "type": "scatter3d",
           "x": [
            83
           ],
           "y": [
            0.6864702981012455
           ],
           "z": [
            0.7078694743987503
           ]
          }
         ],
         "name": "frame83",
         "traces": [
          0
         ]
        },
        {
         "data": [
          {
           "type": "scatter3d",
           "x": [
            84
           ],
           "y": [
            0.9110420754504356
           ],
           "z": [
            0.3315402733642324
           ]
          }
         ],
         "name": "frame84",
         "traces": [
          0
         ]
        },
        {
         "data": [
          {
           "type": "scatter3d",
           "x": [
            85
           ],
           "y": [
            0.9647120260995832
           ],
           "z": [
            0.4873996991404278
           ]
          }
         ],
         "name": "frame85",
         "traces": [
          0
         ]
        },
        {
         "data": [
          {
           "type": "scatter3d",
           "x": [
            86
           ],
           "y": [
            0.14915270542501047
           ],
           "z": [
            0.7652513805442547
           ]
          }
         ],
         "name": "frame86",
         "traces": [
          0
         ]
        },
        {
         "data": [
          {
           "type": "scatter3d",
           "x": [
            87
           ],
           "y": [
            0.0021859760326538025
           ],
           "z": [
            0.7256175953349294
           ]
          }
         ],
         "name": "frame87",
         "traces": [
          0
         ]
        },
        {
         "data": [
          {
           "type": "scatter3d",
           "x": [
            88
           ],
           "y": [
            0.6331843545113598
           ],
           "z": [
            0.9798769769235538
           ]
          }
         ],
         "name": "frame88",
         "traces": [
          0
         ]
        },
        {
         "data": [
          {
           "type": "scatter3d",
           "x": [
            89
           ],
           "y": [
            0.250051309432453
           ],
           "z": [
            0.7150121386167253
           ]
          }
         ],
         "name": "frame89",
         "traces": [
          0
         ]
        },
        {
         "data": [
          {
           "type": "scatter3d",
           "x": [
            90
           ],
           "y": [
            0.7140367208521861
           ],
           "z": [
            0.21818242983197778
           ]
          }
         ],
         "name": "frame90",
         "traces": [
          0
         ]
        },
        {
         "data": [
          {
           "type": "scatter3d",
           "x": [
            91
           ],
           "y": [
            0.35530505376773536
           ],
           "z": [
            0.6610573407386355
           ]
          }
         ],
         "name": "frame91",
         "traces": [
          0
         ]
        },
        {
         "data": [
          {
           "type": "scatter3d",
           "x": [
            92
           ],
           "y": [
            0.12468195750831967
           ],
           "z": [
            0.8358143601167624
           ]
          }
         ],
         "name": "frame92",
         "traces": [
          0
         ]
        },
        {
         "data": [
          {
           "type": "scatter3d",
           "x": [
            93
           ],
           "y": [
            0.7830444398982578
           ],
           "z": [
            0.04179439664009532
           ]
          }
         ],
         "name": "frame93",
         "traces": [
          0
         ]
        },
        {
         "data": [
          {
           "type": "scatter3d",
           "x": [
            94
           ],
           "y": [
            0.1865560491165339
           ],
           "z": [
            0.10422746962880636
           ]
          }
         ],
         "name": "frame94",
         "traces": [
          0
         ]
        },
        {
         "data": [
          {
           "type": "scatter3d",
           "x": [
            95
           ],
           "y": [
            0.7859259613389109
           ],
           "z": [
            0.8895244825328755
           ]
          }
         ],
         "name": "frame95",
         "traces": [
          0
         ]
        },
        {
         "data": [
          {
           "type": "scatter3d",
           "x": [
            96
           ],
           "y": [
            0.8126889019950042
           ],
           "z": [
            0.4144336723146024
           ]
          }
         ],
         "name": "frame96",
         "traces": [
          0
         ]
        },
        {
         "data": [
          {
           "type": "scatter3d",
           "x": [
            97
           ],
           "y": [
            0.17277223281487875
           ],
           "z": [
            0.8541853508456386
           ]
          }
         ],
         "name": "frame97",
         "traces": [
          0
         ]
        },
        {
         "data": [
          {
           "type": "scatter3d",
           "x": [
            98
           ],
           "y": [
            0.4016091091275067
           ],
           "z": [
            0.1713920925696264
           ]
          }
         ],
         "name": "frame98",
         "traces": [
          0
         ]
        }
       ],
       "layout": {
        "scene": {
         "xaxis": {
          "autorange": false,
          "range": [
           0,
           99
          ]
         },
         "yaxis": {
          "autorange": false,
          "range": [
           0.0021859760326538025,
           0.9937579605639547
          ]
         },
         "zaxis": {
          "autorange": false,
          "range": [
           0.017380185196786635,
           0.9822293448974211
          ]
         }
        },
        "sliders": [
         {
          "len": 0.9,
          "pad": {
           "b": 10,
           "t": 60
          },
          "steps": [
           {
            "args": [
             [
              "frame0"
             ],
             {
              "frame": {
               "duration": 0
              },
              "fromcurrent": true,
              "mode": "immediate",
              "transition": {
               "duration": 0,
               "easing": "linear"
              }
             }
            ],
            "label": "0",
            "method": "animate"
           },
           {
            "args": [
             [
              "frame1"
             ],
             {
              "frame": {
               "duration": 0
              },
              "fromcurrent": true,
              "mode": "immediate",
              "transition": {
               "duration": 0,
               "easing": "linear"
              }
             }
            ],
            "label": "1",
            "method": "animate"
           },
           {
            "args": [
             [
              "frame2"
             ],
             {
              "frame": {
               "duration": 0
              },
              "fromcurrent": true,
              "mode": "immediate",
              "transition": {
               "duration": 0,
               "easing": "linear"
              }
             }
            ],
            "label": "2",
            "method": "animate"
           },
           {
            "args": [
             [
              "frame3"
             ],
             {
              "frame": {
               "duration": 0
              },
              "fromcurrent": true,
              "mode": "immediate",
              "transition": {
               "duration": 0,
               "easing": "linear"
              }
             }
            ],
            "label": "3",
            "method": "animate"
           },
           {
            "args": [
             [
              "frame4"
             ],
             {
              "frame": {
               "duration": 0
              },
              "fromcurrent": true,
              "mode": "immediate",
              "transition": {
               "duration": 0,
               "easing": "linear"
              }
             }
            ],
            "label": "4",
            "method": "animate"
           },
           {
            "args": [
             [
              "frame5"
             ],
             {
              "frame": {
               "duration": 0
              },
              "fromcurrent": true,
              "mode": "immediate",
              "transition": {
               "duration": 0,
               "easing": "linear"
              }
             }
            ],
            "label": "5",
            "method": "animate"
           },
           {
            "args": [
             [
              "frame6"
             ],
             {
              "frame": {
               "duration": 0
              },
              "fromcurrent": true,
              "mode": "immediate",
              "transition": {
               "duration": 0,
               "easing": "linear"
              }
             }
            ],
            "label": "6",
            "method": "animate"
           },
           {
            "args": [
             [
              "frame7"
             ],
             {
              "frame": {
               "duration": 0
              },
              "fromcurrent": true,
              "mode": "immediate",
              "transition": {
               "duration": 0,
               "easing": "linear"
              }
             }
            ],
            "label": "7",
            "method": "animate"
           },
           {
            "args": [
             [
              "frame8"
             ],
             {
              "frame": {
               "duration": 0
              },
              "fromcurrent": true,
              "mode": "immediate",
              "transition": {
               "duration": 0,
               "easing": "linear"
              }
             }
            ],
            "label": "8",
            "method": "animate"
           },
           {
            "args": [
             [
              "frame9"
             ],
             {
              "frame": {
               "duration": 0
              },
              "fromcurrent": true,
              "mode": "immediate",
              "transition": {
               "duration": 0,
               "easing": "linear"
              }
             }
            ],
            "label": "9",
            "method": "animate"
           },
           {
            "args": [
             [
              "frame10"
             ],
             {
              "frame": {
               "duration": 0
              },
              "fromcurrent": true,
              "mode": "immediate",
              "transition": {
               "duration": 0,
               "easing": "linear"
              }
             }
            ],
            "label": "10",
            "method": "animate"
           },
           {
            "args": [
             [
              "frame11"
             ],
             {
              "frame": {
               "duration": 0
              },
              "fromcurrent": true,
              "mode": "immediate",
              "transition": {
               "duration": 0,
               "easing": "linear"
              }
             }
            ],
            "label": "11",
            "method": "animate"
           },
           {
            "args": [
             [
              "frame12"
             ],
             {
              "frame": {
               "duration": 0
              },
              "fromcurrent": true,
              "mode": "immediate",
              "transition": {
               "duration": 0,
               "easing": "linear"
              }
             }
            ],
            "label": "12",
            "method": "animate"
           },
           {
            "args": [
             [
              "frame13"
             ],
             {
              "frame": {
               "duration": 0
              },
              "fromcurrent": true,
              "mode": "immediate",
              "transition": {
               "duration": 0,
               "easing": "linear"
              }
             }
            ],
            "label": "13",
            "method": "animate"
           },
           {
            "args": [
             [
              "frame14"
             ],
             {
              "frame": {
               "duration": 0
              },
              "fromcurrent": true,
              "mode": "immediate",
              "transition": {
               "duration": 0,
               "easing": "linear"
              }
             }
            ],
            "label": "14",
            "method": "animate"
           },
           {
            "args": [
             [
              "frame15"
             ],
             {
              "frame": {
               "duration": 0
              },
              "fromcurrent": true,
              "mode": "immediate",
              "transition": {
               "duration": 0,
               "easing": "linear"
              }
             }
            ],
            "label": "15",
            "method": "animate"
           },
           {
            "args": [
             [
              "frame16"
             ],
             {
              "frame": {
               "duration": 0
              },
              "fromcurrent": true,
              "mode": "immediate",
              "transition": {
               "duration": 0,
               "easing": "linear"
              }
             }
            ],
            "label": "16",
            "method": "animate"
           },
           {
            "args": [
             [
              "frame17"
             ],
             {
              "frame": {
               "duration": 0
              },
              "fromcurrent": true,
              "mode": "immediate",
              "transition": {
               "duration": 0,
               "easing": "linear"
              }
             }
            ],
            "label": "17",
            "method": "animate"
           },
           {
            "args": [
             [
              "frame18"
             ],
             {
              "frame": {
               "duration": 0
              },
              "fromcurrent": true,
              "mode": "immediate",
              "transition": {
               "duration": 0,
               "easing": "linear"
              }
             }
            ],
            "label": "18",
            "method": "animate"
           },
           {
            "args": [
             [
              "frame19"
             ],
             {
              "frame": {
               "duration": 0
              },
              "fromcurrent": true,
              "mode": "immediate",
              "transition": {
               "duration": 0,
               "easing": "linear"
              }
             }
            ],
            "label": "19",
            "method": "animate"
           },
           {
            "args": [
             [
              "frame20"
             ],
             {
              "frame": {
               "duration": 0
              },
              "fromcurrent": true,
              "mode": "immediate",
              "transition": {
               "duration": 0,
               "easing": "linear"
              }
             }
            ],
            "label": "20",
            "method": "animate"
           },
           {
            "args": [
             [
              "frame21"
             ],
             {
              "frame": {
               "duration": 0
              },
              "fromcurrent": true,
              "mode": "immediate",
              "transition": {
               "duration": 0,
               "easing": "linear"
              }
             }
            ],
            "label": "21",
            "method": "animate"
           },
           {
            "args": [
             [
              "frame22"
             ],
             {
              "frame": {
               "duration": 0
              },
              "fromcurrent": true,
              "mode": "immediate",
              "transition": {
               "duration": 0,
               "easing": "linear"
              }
             }
            ],
            "label": "22",
            "method": "animate"
           },
           {
            "args": [
             [
              "frame23"
             ],
             {
              "frame": {
               "duration": 0
              },
              "fromcurrent": true,
              "mode": "immediate",
              "transition": {
               "duration": 0,
               "easing": "linear"
              }
             }
            ],
            "label": "23",
            "method": "animate"
           },
           {
            "args": [
             [
              "frame24"
             ],
             {
              "frame": {
               "duration": 0
              },
              "fromcurrent": true,
              "mode": "immediate",
              "transition": {
               "duration": 0,
               "easing": "linear"
              }
             }
            ],
            "label": "24",
            "method": "animate"
           },
           {
            "args": [
             [
              "frame25"
             ],
             {
              "frame": {
               "duration": 0
              },
              "fromcurrent": true,
              "mode": "immediate",
              "transition": {
               "duration": 0,
               "easing": "linear"
              }
             }
            ],
            "label": "25",
            "method": "animate"
           },
           {
            "args": [
             [
              "frame26"
             ],
             {
              "frame": {
               "duration": 0
              },
              "fromcurrent": true,
              "mode": "immediate",
              "transition": {
               "duration": 0,
               "easing": "linear"
              }
             }
            ],
            "label": "26",
            "method": "animate"
           },
           {
            "args": [
             [
              "frame27"
             ],
             {
              "frame": {
               "duration": 0
              },
              "fromcurrent": true,
              "mode": "immediate",
              "transition": {
               "duration": 0,
               "easing": "linear"
              }
             }
            ],
            "label": "27",
            "method": "animate"
           },
           {
            "args": [
             [
              "frame28"
             ],
             {
              "frame": {
               "duration": 0
              },
              "fromcurrent": true,
              "mode": "immediate",
              "transition": {
               "duration": 0,
               "easing": "linear"
              }
             }
            ],
            "label": "28",
            "method": "animate"
           },
           {
            "args": [
             [
              "frame29"
             ],
             {
              "frame": {
               "duration": 0
              },
              "fromcurrent": true,
              "mode": "immediate",
              "transition": {
               "duration": 0,
               "easing": "linear"
              }
             }
            ],
            "label": "29",
            "method": "animate"
           },
           {
            "args": [
             [
              "frame30"
             ],
             {
              "frame": {
               "duration": 0
              },
              "fromcurrent": true,
              "mode": "immediate",
              "transition": {
               "duration": 0,
               "easing": "linear"
              }
             }
            ],
            "label": "30",
            "method": "animate"
           },
           {
            "args": [
             [
              "frame31"
             ],
             {
              "frame": {
               "duration": 0
              },
              "fromcurrent": true,
              "mode": "immediate",
              "transition": {
               "duration": 0,
               "easing": "linear"
              }
             }
            ],
            "label": "31",
            "method": "animate"
           },
           {
            "args": [
             [
              "frame32"
             ],
             {
              "frame": {
               "duration": 0
              },
              "fromcurrent": true,
              "mode": "immediate",
              "transition": {
               "duration": 0,
               "easing": "linear"
              }
             }
            ],
            "label": "32",
            "method": "animate"
           },
           {
            "args": [
             [
              "frame33"
             ],
             {
              "frame": {
               "duration": 0
              },
              "fromcurrent": true,
              "mode": "immediate",
              "transition": {
               "duration": 0,
               "easing": "linear"
              }
             }
            ],
            "label": "33",
            "method": "animate"
           },
           {
            "args": [
             [
              "frame34"
             ],
             {
              "frame": {
               "duration": 0
              },
              "fromcurrent": true,
              "mode": "immediate",
              "transition": {
               "duration": 0,
               "easing": "linear"
              }
             }
            ],
            "label": "34",
            "method": "animate"
           },
           {
            "args": [
             [
              "frame35"
             ],
             {
              "frame": {
               "duration": 0
              },
              "fromcurrent": true,
              "mode": "immediate",
              "transition": {
               "duration": 0,
               "easing": "linear"
              }
             }
            ],
            "label": "35",
            "method": "animate"
           },
           {
            "args": [
             [
              "frame36"
             ],
             {
              "frame": {
               "duration": 0
              },
              "fromcurrent": true,
              "mode": "immediate",
              "transition": {
               "duration": 0,
               "easing": "linear"
              }
             }
            ],
            "label": "36",
            "method": "animate"
           },
           {
            "args": [
             [
              "frame37"
             ],
             {
              "frame": {
               "duration": 0
              },
              "fromcurrent": true,
              "mode": "immediate",
              "transition": {
               "duration": 0,
               "easing": "linear"
              }
             }
            ],
            "label": "37",
            "method": "animate"
           },
           {
            "args": [
             [
              "frame38"
             ],
             {
              "frame": {
               "duration": 0
              },
              "fromcurrent": true,
              "mode": "immediate",
              "transition": {
               "duration": 0,
               "easing": "linear"
              }
             }
            ],
            "label": "38",
            "method": "animate"
           },
           {
            "args": [
             [
              "frame39"
             ],
             {
              "frame": {
               "duration": 0
              },
              "fromcurrent": true,
              "mode": "immediate",
              "transition": {
               "duration": 0,
               "easing": "linear"
              }
             }
            ],
            "label": "39",
            "method": "animate"
           },
           {
            "args": [
             [
              "frame40"
             ],
             {
              "frame": {
               "duration": 0
              },
              "fromcurrent": true,
              "mode": "immediate",
              "transition": {
               "duration": 0,
               "easing": "linear"
              }
             }
            ],
            "label": "40",
            "method": "animate"
           },
           {
            "args": [
             [
              "frame41"
             ],
             {
              "frame": {
               "duration": 0
              },
              "fromcurrent": true,
              "mode": "immediate",
              "transition": {
               "duration": 0,
               "easing": "linear"
              }
             }
            ],
            "label": "41",
            "method": "animate"
           },
           {
            "args": [
             [
              "frame42"
             ],
             {
              "frame": {
               "duration": 0
              },
              "fromcurrent": true,
              "mode": "immediate",
              "transition": {
               "duration": 0,
               "easing": "linear"
              }
             }
            ],
            "label": "42",
            "method": "animate"
           },
           {
            "args": [
             [
              "frame43"
             ],
             {
              "frame": {
               "duration": 0
              },
              "fromcurrent": true,
              "mode": "immediate",
              "transition": {
               "duration": 0,
               "easing": "linear"
              }
             }
            ],
            "label": "43",
            "method": "animate"
           },
           {
            "args": [
             [
              "frame44"
             ],
             {
              "frame": {
               "duration": 0
              },
              "fromcurrent": true,
              "mode": "immediate",
              "transition": {
               "duration": 0,
               "easing": "linear"
              }
             }
            ],
            "label": "44",
            "method": "animate"
           },
           {
            "args": [
             [
              "frame45"
             ],
             {
              "frame": {
               "duration": 0
              },
              "fromcurrent": true,
              "mode": "immediate",
              "transition": {
               "duration": 0,
               "easing": "linear"
              }
             }
            ],
            "label": "45",
            "method": "animate"
           },
           {
            "args": [
             [
              "frame46"
             ],
             {
              "frame": {
               "duration": 0
              },
              "fromcurrent": true,
              "mode": "immediate",
              "transition": {
               "duration": 0,
               "easing": "linear"
              }
             }
            ],
            "label": "46",
            "method": "animate"
           },
           {
            "args": [
             [
              "frame47"
             ],
             {
              "frame": {
               "duration": 0
              },
              "fromcurrent": true,
              "mode": "immediate",
              "transition": {
               "duration": 0,
               "easing": "linear"
              }
             }
            ],
            "label": "47",
            "method": "animate"
           },
           {
            "args": [
             [
              "frame48"
             ],
             {
              "frame": {
               "duration": 0
              },
              "fromcurrent": true,
              "mode": "immediate",
              "transition": {
               "duration": 0,
               "easing": "linear"
              }
             }
            ],
            "label": "48",
            "method": "animate"
           },
           {
            "args": [
             [
              "frame49"
             ],
             {
              "frame": {
               "duration": 0
              },
              "fromcurrent": true,
              "mode": "immediate",
              "transition": {
               "duration": 0,
               "easing": "linear"
              }
             }
            ],
            "label": "49",
            "method": "animate"
           },
           {
            "args": [
             [
              "frame50"
             ],
             {
              "frame": {
               "duration": 0
              },
              "fromcurrent": true,
              "mode": "immediate",
              "transition": {
               "duration": 0,
               "easing": "linear"
              }
             }
            ],
            "label": "50",
            "method": "animate"
           },
           {
            "args": [
             [
              "frame51"
             ],
             {
              "frame": {
               "duration": 0
              },
              "fromcurrent": true,
              "mode": "immediate",
              "transition": {
               "duration": 0,
               "easing": "linear"
              }
             }
            ],
            "label": "51",
            "method": "animate"
           },
           {
            "args": [
             [
              "frame52"
             ],
             {
              "frame": {
               "duration": 0
              },
              "fromcurrent": true,
              "mode": "immediate",
              "transition": {
               "duration": 0,
               "easing": "linear"
              }
             }
            ],
            "label": "52",
            "method": "animate"
           },
           {
            "args": [
             [
              "frame53"
             ],
             {
              "frame": {
               "duration": 0
              },
              "fromcurrent": true,
              "mode": "immediate",
              "transition": {
               "duration": 0,
               "easing": "linear"
              }
             }
            ],
            "label": "53",
            "method": "animate"
           },
           {
            "args": [
             [
              "frame54"
             ],
             {
              "frame": {
               "duration": 0
              },
              "fromcurrent": true,
              "mode": "immediate",
              "transition": {
               "duration": 0,
               "easing": "linear"
              }
             }
            ],
            "label": "54",
            "method": "animate"
           },
           {
            "args": [
             [
              "frame55"
             ],
             {
              "frame": {
               "duration": 0
              },
              "fromcurrent": true,
              "mode": "immediate",
              "transition": {
               "duration": 0,
               "easing": "linear"
              }
             }
            ],
            "label": "55",
            "method": "animate"
           },
           {
            "args": [
             [
              "frame56"
             ],
             {
              "frame": {
               "duration": 0
              },
              "fromcurrent": true,
              "mode": "immediate",
              "transition": {
               "duration": 0,
               "easing": "linear"
              }
             }
            ],
            "label": "56",
            "method": "animate"
           },
           {
            "args": [
             [
              "frame57"
             ],
             {
              "frame": {
               "duration": 0
              },
              "fromcurrent": true,
              "mode": "immediate",
              "transition": {
               "duration": 0,
               "easing": "linear"
              }
             }
            ],
            "label": "57",
            "method": "animate"
           },
           {
            "args": [
             [
              "frame58"
             ],
             {
              "frame": {
               "duration": 0
              },
              "fromcurrent": true,
              "mode": "immediate",
              "transition": {
               "duration": 0,
               "easing": "linear"
              }
             }
            ],
            "label": "58",
            "method": "animate"
           },
           {
            "args": [
             [
              "frame59"
             ],
             {
              "frame": {
               "duration": 0
              },
              "fromcurrent": true,
              "mode": "immediate",
              "transition": {
               "duration": 0,
               "easing": "linear"
              }
             }
            ],
            "label": "59",
            "method": "animate"
           },
           {
            "args": [
             [
              "frame60"
             ],
             {
              "frame": {
               "duration": 0
              },
              "fromcurrent": true,
              "mode": "immediate",
              "transition": {
               "duration": 0,
               "easing": "linear"
              }
             }
            ],
            "label": "60",
            "method": "animate"
           },
           {
            "args": [
             [
              "frame61"
             ],
             {
              "frame": {
               "duration": 0
              },
              "fromcurrent": true,
              "mode": "immediate",
              "transition": {
               "duration": 0,
               "easing": "linear"
              }
             }
            ],
            "label": "61",
            "method": "animate"
           },
           {
            "args": [
             [
              "frame62"
             ],
             {
              "frame": {
               "duration": 0
              },
              "fromcurrent": true,
              "mode": "immediate",
              "transition": {
               "duration": 0,
               "easing": "linear"
              }
             }
            ],
            "label": "62",
            "method": "animate"
           },
           {
            "args": [
             [
              "frame63"
             ],
             {
              "frame": {
               "duration": 0
              },
              "fromcurrent": true,
              "mode": "immediate",
              "transition": {
               "duration": 0,
               "easing": "linear"
              }
             }
            ],
            "label": "63",
            "method": "animate"
           },
           {
            "args": [
             [
              "frame64"
             ],
             {
              "frame": {
               "duration": 0
              },
              "fromcurrent": true,
              "mode": "immediate",
              "transition": {
               "duration": 0,
               "easing": "linear"
              }
             }
            ],
            "label": "64",
            "method": "animate"
           },
           {
            "args": [
             [
              "frame65"
             ],
             {
              "frame": {
               "duration": 0
              },
              "fromcurrent": true,
              "mode": "immediate",
              "transition": {
               "duration": 0,
               "easing": "linear"
              }
             }
            ],
            "label": "65",
            "method": "animate"
           },
           {
            "args": [
             [
              "frame66"
             ],
             {
              "frame": {
               "duration": 0
              },
              "fromcurrent": true,
              "mode": "immediate",
              "transition": {
               "duration": 0,
               "easing": "linear"
              }
             }
            ],
            "label": "66",
            "method": "animate"
           },
           {
            "args": [
             [
              "frame67"
             ],
             {
              "frame": {
               "duration": 0
              },
              "fromcurrent": true,
              "mode": "immediate",
              "transition": {
               "duration": 0,
               "easing": "linear"
              }
             }
            ],
            "label": "67",
            "method": "animate"
           },
           {
            "args": [
             [
              "frame68"
             ],
             {
              "frame": {
               "duration": 0
              },
              "fromcurrent": true,
              "mode": "immediate",
              "transition": {
               "duration": 0,
               "easing": "linear"
              }
             }
            ],
            "label": "68",
            "method": "animate"
           },
           {
            "args": [
             [
              "frame69"
             ],
             {
              "frame": {
               "duration": 0
              },
              "fromcurrent": true,
              "mode": "immediate",
              "transition": {
               "duration": 0,
               "easing": "linear"
              }
             }
            ],
            "label": "69",
            "method": "animate"
           },
           {
            "args": [
             [
              "frame70"
             ],
             {
              "frame": {
               "duration": 0
              },
              "fromcurrent": true,
              "mode": "immediate",
              "transition": {
               "duration": 0,
               "easing": "linear"
              }
             }
            ],
            "label": "70",
            "method": "animate"
           },
           {
            "args": [
             [
              "frame71"
             ],
             {
              "frame": {
               "duration": 0
              },
              "fromcurrent": true,
              "mode": "immediate",
              "transition": {
               "duration": 0,
               "easing": "linear"
              }
             }
            ],
            "label": "71",
            "method": "animate"
           },
           {
            "args": [
             [
              "frame72"
             ],
             {
              "frame": {
               "duration": 0
              },
              "fromcurrent": true,
              "mode": "immediate",
              "transition": {
               "duration": 0,
               "easing": "linear"
              }
             }
            ],
            "label": "72",
            "method": "animate"
           },
           {
            "args": [
             [
              "frame73"
             ],
             {
              "frame": {
               "duration": 0
              },
              "fromcurrent": true,
              "mode": "immediate",
              "transition": {
               "duration": 0,
               "easing": "linear"
              }
             }
            ],
            "label": "73",
            "method": "animate"
           },
           {
            "args": [
             [
              "frame74"
             ],
             {
              "frame": {
               "duration": 0
              },
              "fromcurrent": true,
              "mode": "immediate",
              "transition": {
               "duration": 0,
               "easing": "linear"
              }
             }
            ],
            "label": "74",
            "method": "animate"
           },
           {
            "args": [
             [
              "frame75"
             ],
             {
              "frame": {
               "duration": 0
              },
              "fromcurrent": true,
              "mode": "immediate",
              "transition": {
               "duration": 0,
               "easing": "linear"
              }
             }
            ],
            "label": "75",
            "method": "animate"
           },
           {
            "args": [
             [
              "frame76"
             ],
             {
              "frame": {
               "duration": 0
              },
              "fromcurrent": true,
              "mode": "immediate",
              "transition": {
               "duration": 0,
               "easing": "linear"
              }
             }
            ],
            "label": "76",
            "method": "animate"
           },
           {
            "args": [
             [
              "frame77"
             ],
             {
              "frame": {
               "duration": 0
              },
              "fromcurrent": true,
              "mode": "immediate",
              "transition": {
               "duration": 0,
               "easing": "linear"
              }
             }
            ],
            "label": "77",
            "method": "animate"
           },
           {
            "args": [
             [
              "frame78"
             ],
             {
              "frame": {
               "duration": 0
              },
              "fromcurrent": true,
              "mode": "immediate",
              "transition": {
               "duration": 0,
               "easing": "linear"
              }
             }
            ],
            "label": "78",
            "method": "animate"
           },
           {
            "args": [
             [
              "frame79"
             ],
             {
              "frame": {
               "duration": 0
              },
              "fromcurrent": true,
              "mode": "immediate",
              "transition": {
               "duration": 0,
               "easing": "linear"
              }
             }
            ],
            "label": "79",
            "method": "animate"
           },
           {
            "args": [
             [
              "frame80"
             ],
             {
              "frame": {
               "duration": 0
              },
              "fromcurrent": true,
              "mode": "immediate",
              "transition": {
               "duration": 0,
               "easing": "linear"
              }
             }
            ],
            "label": "80",
            "method": "animate"
           },
           {
            "args": [
             [
              "frame81"
             ],
             {
              "frame": {
               "duration": 0
              },
              "fromcurrent": true,
              "mode": "immediate",
              "transition": {
               "duration": 0,
               "easing": "linear"
              }
             }
            ],
            "label": "81",
            "method": "animate"
           },
           {
            "args": [
             [
              "frame82"
             ],
             {
              "frame": {
               "duration": 0
              },
              "fromcurrent": true,
              "mode": "immediate",
              "transition": {
               "duration": 0,
               "easing": "linear"
              }
             }
            ],
            "label": "82",
            "method": "animate"
           },
           {
            "args": [
             [
              "frame83"
             ],
             {
              "frame": {
               "duration": 0
              },
              "fromcurrent": true,
              "mode": "immediate",
              "transition": {
               "duration": 0,
               "easing": "linear"
              }
             }
            ],
            "label": "83",
            "method": "animate"
           },
           {
            "args": [
             [
              "frame84"
             ],
             {
              "frame": {
               "duration": 0
              },
              "fromcurrent": true,
              "mode": "immediate",
              "transition": {
               "duration": 0,
               "easing": "linear"
              }
             }
            ],
            "label": "84",
            "method": "animate"
           },
           {
            "args": [
             [
              "frame85"
             ],
             {
              "frame": {
               "duration": 0
              },
              "fromcurrent": true,
              "mode": "immediate",
              "transition": {
               "duration": 0,
               "easing": "linear"
              }
             }
            ],
            "label": "85",
            "method": "animate"
           },
           {
            "args": [
             [
              "frame86"
             ],
             {
              "frame": {
               "duration": 0
              },
              "fromcurrent": true,
              "mode": "immediate",
              "transition": {
               "duration": 0,
               "easing": "linear"
              }
             }
            ],
            "label": "86",
            "method": "animate"
           },
           {
            "args": [
             [
              "frame87"
             ],
             {
              "frame": {
               "duration": 0
              },
              "fromcurrent": true,
              "mode": "immediate",
              "transition": {
               "duration": 0,
               "easing": "linear"
              }
             }
            ],
            "label": "87",
            "method": "animate"
           },
           {
            "args": [
             [
              "frame88"
             ],
             {
              "frame": {
               "duration": 0
              },
              "fromcurrent": true,
              "mode": "immediate",
              "transition": {
               "duration": 0,
               "easing": "linear"
              }
             }
            ],
            "label": "88",
            "method": "animate"
           },
           {
            "args": [
             [
              "frame89"
             ],
             {
              "frame": {
               "duration": 0
              },
              "fromcurrent": true,
              "mode": "immediate",
              "transition": {
               "duration": 0,
               "easing": "linear"
              }
             }
            ],
            "label": "89",
            "method": "animate"
           },
           {
            "args": [
             [
              "frame90"
             ],
             {
              "frame": {
               "duration": 0
              },
              "fromcurrent": true,
              "mode": "immediate",
              "transition": {
               "duration": 0,
               "easing": "linear"
              }
             }
            ],
            "label": "90",
            "method": "animate"
           },
           {
            "args": [
             [
              "frame91"
             ],
             {
              "frame": {
               "duration": 0
              },
              "fromcurrent": true,
              "mode": "immediate",
              "transition": {
               "duration": 0,
               "easing": "linear"
              }
             }
            ],
            "label": "91",
            "method": "animate"
           },
           {
            "args": [
             [
              "frame92"
             ],
             {
              "frame": {
               "duration": 0
              },
              "fromcurrent": true,
              "mode": "immediate",
              "transition": {
               "duration": 0,
               "easing": "linear"
              }
             }
            ],
            "label": "92",
            "method": "animate"
           },
           {
            "args": [
             [
              "frame93"
             ],
             {
              "frame": {
               "duration": 0
              },
              "fromcurrent": true,
              "mode": "immediate",
              "transition": {
               "duration": 0,
               "easing": "linear"
              }
             }
            ],
            "label": "93",
            "method": "animate"
           },
           {
            "args": [
             [
              "frame94"
             ],
             {
              "frame": {
               "duration": 0
              },
              "fromcurrent": true,
              "mode": "immediate",
              "transition": {
               "duration": 0,
               "easing": "linear"
              }
             }
            ],
            "label": "94",
            "method": "animate"
           },
           {
            "args": [
             [
              "frame95"
             ],
             {
              "frame": {
               "duration": 0
              },
              "fromcurrent": true,
              "mode": "immediate",
              "transition": {
               "duration": 0,
               "easing": "linear"
              }
             }
            ],
            "label": "95",
            "method": "animate"
           },
           {
            "args": [
             [
              "frame96"
             ],
             {
              "frame": {
               "duration": 0
              },
              "fromcurrent": true,
              "mode": "immediate",
              "transition": {
               "duration": 0,
               "easing": "linear"
              }
             }
            ],
            "label": "96",
            "method": "animate"
           },
           {
            "args": [
             [
              "frame97"
             ],
             {
              "frame": {
               "duration": 0
              },
              "fromcurrent": true,
              "mode": "immediate",
              "transition": {
               "duration": 0,
               "easing": "linear"
              }
             }
            ],
            "label": "97",
            "method": "animate"
           },
           {
            "args": [
             [
              "frame98"
             ],
             {
              "frame": {
               "duration": 0
              },
              "fromcurrent": true,
              "mode": "immediate",
              "transition": {
               "duration": 0,
               "easing": "linear"
              }
             }
            ],
            "label": "98",
            "method": "animate"
           }
          ],
          "x": 0.1,
          "y": 0
         }
        ],
        "template": {
         "data": {
          "bar": [
           {
            "error_x": {
             "color": "#2a3f5f"
            },
            "error_y": {
             "color": "#2a3f5f"
            },
            "marker": {
             "line": {
              "color": "#E5ECF6",
              "width": 0.5
             },
             "pattern": {
              "fillmode": "overlay",
              "size": 10,
              "solidity": 0.2
             }
            },
            "type": "bar"
           }
          ],
          "barpolar": [
           {
            "marker": {
             "line": {
              "color": "#E5ECF6",
              "width": 0.5
             },
             "pattern": {
              "fillmode": "overlay",
              "size": 10,
              "solidity": 0.2
             }
            },
            "type": "barpolar"
           }
          ],
          "carpet": [
           {
            "aaxis": {
             "endlinecolor": "#2a3f5f",
             "gridcolor": "white",
             "linecolor": "white",
             "minorgridcolor": "white",
             "startlinecolor": "#2a3f5f"
            },
            "baxis": {
             "endlinecolor": "#2a3f5f",
             "gridcolor": "white",
             "linecolor": "white",
             "minorgridcolor": "white",
             "startlinecolor": "#2a3f5f"
            },
            "type": "carpet"
           }
          ],
          "choropleth": [
           {
            "colorbar": {
             "outlinewidth": 0,
             "ticks": ""
            },
            "type": "choropleth"
           }
          ],
          "contour": [
           {
            "colorbar": {
             "outlinewidth": 0,
             "ticks": ""
            },
            "colorscale": [
             [
              0,
              "#0d0887"
             ],
             [
              0.1111111111111111,
              "#46039f"
             ],
             [
              0.2222222222222222,
              "#7201a8"
             ],
             [
              0.3333333333333333,
              "#9c179e"
             ],
             [
              0.4444444444444444,
              "#bd3786"
             ],
             [
              0.5555555555555556,
              "#d8576b"
             ],
             [
              0.6666666666666666,
              "#ed7953"
             ],
             [
              0.7777777777777778,
              "#fb9f3a"
             ],
             [
              0.8888888888888888,
              "#fdca26"
             ],
             [
              1,
              "#f0f921"
             ]
            ],
            "type": "contour"
           }
          ],
          "contourcarpet": [
           {
            "colorbar": {
             "outlinewidth": 0,
             "ticks": ""
            },
            "type": "contourcarpet"
           }
          ],
          "heatmap": [
           {
            "colorbar": {
             "outlinewidth": 0,
             "ticks": ""
            },
            "colorscale": [
             [
              0,
              "#0d0887"
             ],
             [
              0.1111111111111111,
              "#46039f"
             ],
             [
              0.2222222222222222,
              "#7201a8"
             ],
             [
              0.3333333333333333,
              "#9c179e"
             ],
             [
              0.4444444444444444,
              "#bd3786"
             ],
             [
              0.5555555555555556,
              "#d8576b"
             ],
             [
              0.6666666666666666,
              "#ed7953"
             ],
             [
              0.7777777777777778,
              "#fb9f3a"
             ],
             [
              0.8888888888888888,
              "#fdca26"
             ],
             [
              1,
              "#f0f921"
             ]
            ],
            "type": "heatmap"
           }
          ],
          "heatmapgl": [
           {
            "colorbar": {
             "outlinewidth": 0,
             "ticks": ""
            },
            "colorscale": [
             [
              0,
              "#0d0887"
             ],
             [
              0.1111111111111111,
              "#46039f"
             ],
             [
              0.2222222222222222,
              "#7201a8"
             ],
             [
              0.3333333333333333,
              "#9c179e"
             ],
             [
              0.4444444444444444,
              "#bd3786"
             ],
             [
              0.5555555555555556,
              "#d8576b"
             ],
             [
              0.6666666666666666,
              "#ed7953"
             ],
             [
              0.7777777777777778,
              "#fb9f3a"
             ],
             [
              0.8888888888888888,
              "#fdca26"
             ],
             [
              1,
              "#f0f921"
             ]
            ],
            "type": "heatmapgl"
           }
          ],
          "histogram": [
           {
            "marker": {
             "pattern": {
              "fillmode": "overlay",
              "size": 10,
              "solidity": 0.2
             }
            },
            "type": "histogram"
           }
          ],
          "histogram2d": [
           {
            "colorbar": {
             "outlinewidth": 0,
             "ticks": ""
            },
            "colorscale": [
             [
              0,
              "#0d0887"
             ],
             [
              0.1111111111111111,
              "#46039f"
             ],
             [
              0.2222222222222222,
              "#7201a8"
             ],
             [
              0.3333333333333333,
              "#9c179e"
             ],
             [
              0.4444444444444444,
              "#bd3786"
             ],
             [
              0.5555555555555556,
              "#d8576b"
             ],
             [
              0.6666666666666666,
              "#ed7953"
             ],
             [
              0.7777777777777778,
              "#fb9f3a"
             ],
             [
              0.8888888888888888,
              "#fdca26"
             ],
             [
              1,
              "#f0f921"
             ]
            ],
            "type": "histogram2d"
           }
          ],
          "histogram2dcontour": [
           {
            "colorbar": {
             "outlinewidth": 0,
             "ticks": ""
            },
            "colorscale": [
             [
              0,
              "#0d0887"
             ],
             [
              0.1111111111111111,
              "#46039f"
             ],
             [
              0.2222222222222222,
              "#7201a8"
             ],
             [
              0.3333333333333333,
              "#9c179e"
             ],
             [
              0.4444444444444444,
              "#bd3786"
             ],
             [
              0.5555555555555556,
              "#d8576b"
             ],
             [
              0.6666666666666666,
              "#ed7953"
             ],
             [
              0.7777777777777778,
              "#fb9f3a"
             ],
             [
              0.8888888888888888,
              "#fdca26"
             ],
             [
              1,
              "#f0f921"
             ]
            ],
            "type": "histogram2dcontour"
           }
          ],
          "mesh3d": [
           {
            "colorbar": {
             "outlinewidth": 0,
             "ticks": ""
            },
            "type": "mesh3d"
           }
          ],
          "parcoords": [
           {
            "line": {
             "colorbar": {
              "outlinewidth": 0,
              "ticks": ""
             }
            },
            "type": "parcoords"
           }
          ],
          "pie": [
           {
            "automargin": true,
            "type": "pie"
           }
          ],
          "scatter": [
           {
            "fillpattern": {
             "fillmode": "overlay",
             "size": 10,
             "solidity": 0.2
            },
            "type": "scatter"
           }
          ],
          "scatter3d": [
           {
            "line": {
             "colorbar": {
              "outlinewidth": 0,
              "ticks": ""
             }
            },
            "marker": {
             "colorbar": {
              "outlinewidth": 0,
              "ticks": ""
             }
            },
            "type": "scatter3d"
           }
          ],
          "scattercarpet": [
           {
            "marker": {
             "colorbar": {
              "outlinewidth": 0,
              "ticks": ""
             }
            },
            "type": "scattercarpet"
           }
          ],
          "scattergeo": [
           {
            "marker": {
             "colorbar": {
              "outlinewidth": 0,
              "ticks": ""
             }
            },
            "type": "scattergeo"
           }
          ],
          "scattergl": [
           {
            "marker": {
             "colorbar": {
              "outlinewidth": 0,
              "ticks": ""
             }
            },
            "type": "scattergl"
           }
          ],
          "scattermapbox": [
           {
            "marker": {
             "colorbar": {
              "outlinewidth": 0,
              "ticks": ""
             }
            },
            "type": "scattermapbox"
           }
          ],
          "scatterpolar": [
           {
            "marker": {
             "colorbar": {
              "outlinewidth": 0,
              "ticks": ""
             }
            },
            "type": "scatterpolar"
           }
          ],
          "scatterpolargl": [
           {
            "marker": {
             "colorbar": {
              "outlinewidth": 0,
              "ticks": ""
             }
            },
            "type": "scatterpolargl"
           }
          ],
          "scatterternary": [
           {
            "marker": {
             "colorbar": {
              "outlinewidth": 0,
              "ticks": ""
             }
            },
            "type": "scatterternary"
           }
          ],
          "surface": [
           {
            "colorbar": {
             "outlinewidth": 0,
             "ticks": ""
            },
            "colorscale": [
             [
              0,
              "#0d0887"
             ],
             [
              0.1111111111111111,
              "#46039f"
             ],
             [
              0.2222222222222222,
              "#7201a8"
             ],
             [
              0.3333333333333333,
              "#9c179e"
             ],
             [
              0.4444444444444444,
              "#bd3786"
             ],
             [
              0.5555555555555556,
              "#d8576b"
             ],
             [
              0.6666666666666666,
              "#ed7953"
             ],
             [
              0.7777777777777778,
              "#fb9f3a"
             ],
             [
              0.8888888888888888,
              "#fdca26"
             ],
             [
              1,
              "#f0f921"
             ]
            ],
            "type": "surface"
           }
          ],
          "table": [
           {
            "cells": {
             "fill": {
              "color": "#EBF0F8"
             },
             "line": {
              "color": "white"
             }
            },
            "header": {
             "fill": {
              "color": "#C8D4E3"
             },
             "line": {
              "color": "white"
             }
            },
            "type": "table"
           }
          ]
         },
         "layout": {
          "annotationdefaults": {
           "arrowcolor": "#2a3f5f",
           "arrowhead": 0,
           "arrowwidth": 1
          },
          "autotypenumbers": "strict",
          "coloraxis": {
           "colorbar": {
            "outlinewidth": 0,
            "ticks": ""
           }
          },
          "colorscale": {
           "diverging": [
            [
             0,
             "#8e0152"
            ],
            [
             0.1,
             "#c51b7d"
            ],
            [
             0.2,
             "#de77ae"
            ],
            [
             0.3,
             "#f1b6da"
            ],
            [
             0.4,
             "#fde0ef"
            ],
            [
             0.5,
             "#f7f7f7"
            ],
            [
             0.6,
             "#e6f5d0"
            ],
            [
             0.7,
             "#b8e186"
            ],
            [
             0.8,
             "#7fbc41"
            ],
            [
             0.9,
             "#4d9221"
            ],
            [
             1,
             "#276419"
            ]
           ],
           "sequential": [
            [
             0,
             "#0d0887"
            ],
            [
             0.1111111111111111,
             "#46039f"
            ],
            [
             0.2222222222222222,
             "#7201a8"
            ],
            [
             0.3333333333333333,
             "#9c179e"
            ],
            [
             0.4444444444444444,
             "#bd3786"
            ],
            [
             0.5555555555555556,
             "#d8576b"
            ],
            [
             0.6666666666666666,
             "#ed7953"
            ],
            [
             0.7777777777777778,
             "#fb9f3a"
            ],
            [
             0.8888888888888888,
             "#fdca26"
            ],
            [
             1,
             "#f0f921"
            ]
           ],
           "sequentialminus": [
            [
             0,
             "#0d0887"
            ],
            [
             0.1111111111111111,
             "#46039f"
            ],
            [
             0.2222222222222222,
             "#7201a8"
            ],
            [
             0.3333333333333333,
             "#9c179e"
            ],
            [
             0.4444444444444444,
             "#bd3786"
            ],
            [
             0.5555555555555556,
             "#d8576b"
            ],
            [
             0.6666666666666666,
             "#ed7953"
            ],
            [
             0.7777777777777778,
             "#fb9f3a"
            ],
            [
             0.8888888888888888,
             "#fdca26"
            ],
            [
             1,
             "#f0f921"
            ]
           ]
          },
          "colorway": [
           "#636efa",
           "#EF553B",
           "#00cc96",
           "#ab63fa",
           "#FFA15A",
           "#19d3f3",
           "#FF6692",
           "#B6E880",
           "#FF97FF",
           "#FECB52"
          ],
          "font": {
           "color": "#2a3f5f"
          },
          "geo": {
           "bgcolor": "white",
           "lakecolor": "white",
           "landcolor": "#E5ECF6",
           "showlakes": true,
           "showland": true,
           "subunitcolor": "white"
          },
          "hoverlabel": {
           "align": "left"
          },
          "hovermode": "closest",
          "mapbox": {
           "style": "light"
          },
          "paper_bgcolor": "white",
          "plot_bgcolor": "#E5ECF6",
          "polar": {
           "angularaxis": {
            "gridcolor": "white",
            "linecolor": "white",
            "ticks": ""
           },
           "bgcolor": "#E5ECF6",
           "radialaxis": {
            "gridcolor": "white",
            "linecolor": "white",
            "ticks": ""
           }
          },
          "scene": {
           "xaxis": {
            "backgroundcolor": "#E5ECF6",
            "gridcolor": "white",
            "gridwidth": 2,
            "linecolor": "white",
            "showbackground": true,
            "ticks": "",
            "zerolinecolor": "white"
           },
           "yaxis": {
            "backgroundcolor": "#E5ECF6",
            "gridcolor": "white",
            "gridwidth": 2,
            "linecolor": "white",
            "showbackground": true,
            "ticks": "",
            "zerolinecolor": "white"
           },
           "zaxis": {
            "backgroundcolor": "#E5ECF6",
            "gridcolor": "white",
            "gridwidth": 2,
            "linecolor": "white",
            "showbackground": true,
            "ticks": "",
            "zerolinecolor": "white"
           }
          },
          "shapedefaults": {
           "line": {
            "color": "#2a3f5f"
           }
          },
          "ternary": {
           "aaxis": {
            "gridcolor": "white",
            "linecolor": "white",
            "ticks": ""
           },
           "baxis": {
            "gridcolor": "white",
            "linecolor": "white",
            "ticks": ""
           },
           "bgcolor": "#E5ECF6",
           "caxis": {
            "gridcolor": "white",
            "linecolor": "white",
            "ticks": ""
           }
          },
          "title": {
           "x": 0.05
          },
          "xaxis": {
           "automargin": true,
           "gridcolor": "white",
           "linecolor": "white",
           "ticks": "",
           "title": {
            "standoff": 15
           },
           "zerolinecolor": "white",
           "zerolinewidth": 2
          },
          "yaxis": {
           "automargin": true,
           "gridcolor": "white",
           "linecolor": "white",
           "ticks": "",
           "title": {
            "standoff": 15
           },
           "zerolinecolor": "white",
           "zerolinewidth": 2
          }
         }
        },
        "updatemenus": [
         {
          "buttons": [
           {
            "args": [
             null,
             {
              "frame": {
               "duration": 50
              },
              "fromcurrent": true,
              "mode": "immediate",
              "transition": {
               "duration": 50,
               "easing": "linear"
              }
             }
            ],
            "label": "Play",
            "method": "animate"
           },
           {
            "args": [
             [
              null
             ],
             {
              "frame": {
               "duration": 0
              },
              "fromcurrent": true,
              "mode": "immediate",
              "transition": {
               "duration": 0,
               "easing": "linear"
              }
             }
            ],
            "label": "Pause",
            "method": "animate"
           }
          ],
          "direction": "left",
          "pad": {
           "r": 10,
           "t": 70
          },
          "type": "buttons",
          "x": 0.1,
          "y": 0
         }
        ]
       }
      }
     },
     "metadata": {},
     "output_type": "display_data"
    }
   ],
   "source": [
    "import numpy as np\n",
    "import plotly.graph_objects as go\n",
    "\n",
    "#x,y,z = np.genfromtxt(r'dat.txt', unpack=True)\n",
    "x = np.arange(100)\n",
    "y = np.random.random(100)\n",
    "z = np.random.random(100)\n",
    "\n",
    "# Create figure\n",
    "fig = go.Figure(\n",
    "    data = go.Scatter3d(\n",
    "        x=[], y=[], z=[],\n",
    "        mode=\"markers\",\n",
    "        marker=dict(color=\"red\", size=10)\n",
    "    )\n",
    ")\n",
    "\n",
    "# Frames\n",
    "frames = [\n",
    "    go.Frame(\n",
    "        data = [\n",
    "            go.Scatter3d(\n",
    "                x=x[[k]],\n",
    "                y=y[[k]],\n",
    "                z=z[[k]]\n",
    "            )\n",
    "        ],\n",
    "        traces= [0],\n",
    "        name=f'frame{k}'      \n",
    "    )for k  in  range(len(x)-1)\n",
    "]\n",
    "fig.update(frames=frames)\n",
    "\n",
    "\n",
    "def frame_args(duration):\n",
    "    return {\n",
    "        \"frame\": {\"duration\": duration},\n",
    "        \"mode\": \"immediate\",\n",
    "        \"fromcurrent\": True,\n",
    "        \"transition\": {\"duration\": duration, \"easing\": \"linear\"},\n",
    "    }\n",
    "\n",
    "\n",
    "sliders = [\n",
    "    {\n",
    "        \"pad\": {\"b\": 10, \"t\": 60},\n",
    "        \"len\": 0.9,\n",
    "        \"x\": 0.1,\n",
    "        \"y\": 0,\n",
    "        \"steps\": [\n",
    "            {\n",
    "                \"args\": [[f.name], frame_args(0)],\n",
    "                \"label\": str(k),\n",
    "                \"method\": \"animate\",\n",
    "            } for k, f in enumerate(fig.frames)\n",
    "        ]\n",
    "    }\n",
    "]\n",
    "\n",
    "fig.update_layout(\n",
    "    updatemenus = [\n",
    "        {\n",
    "            \"buttons\":[\n",
    "                {\n",
    "                    \"args\": [None, frame_args(50)],\n",
    "                    \"label\": \"Play\", \n",
    "                    \"method\": \"animate\",\n",
    "                },\n",
    "                {\n",
    "                    \"args\": [[None], frame_args(0)],\n",
    "                    \"label\": \"Pause\", \n",
    "                    \"method\": \"animate\",\n",
    "                }\n",
    "            ],    \n",
    "            \"direction\": \"left\",\n",
    "            \"pad\": {\"r\": 10, \"t\": 70},\n",
    "            \"type\": \"buttons\",\n",
    "            \"x\": 0.1,\n",
    "            \"y\": 0,\n",
    "        }\n",
    "    ],\n",
    "    sliders=sliders\n",
    ")\n",
    "\n",
    "fig.update_layout(\n",
    "    scene = dict(\n",
    "        xaxis=dict(range=[min(x), max(x)],autorange=False),\n",
    "        yaxis=dict(range=[min(y), max(y)], autorange=False),\n",
    "        zaxis=dict(range=[min(z), max(z)], autorange=False)\n",
    "    )\n",
    ")\n",
    "\n",
    "fig.update_layout(sliders=sliders)\n",
    "fig.show()"
   ]
  },
  {
   "cell_type": "code",
   "execution_count": null,
   "metadata": {},
   "outputs": [],
   "source": []
  },
  {
   "cell_type": "code",
   "execution_count": 70,
   "metadata": {},
   "outputs": [
    {
     "data": {
      "application/vnd.plotly.v1+json": {
       "config": {
        "plotlyServerURL": "https://plot.ly"
       },
       "data": [
        {
         "marker": {
          "color": "red",
          "size": 2
         },
         "mode": "lines+markers+text",
         "type": "scatter3d",
         "x": [],
         "y": [],
         "z": []
        }
       ],
       "frames": [
        {
         "data": [
          {
           "type": "scatter3d",
           "x": [
            0.291835
           ],
           "y": [
            0.59291
           ],
           "z": [
            0.71101
           ]
          }
         ],
         "name": "frame0",
         "traces": [
          0
         ]
        },
        {
         "data": [
          {
           "type": "scatter3d",
           "x": [
            0.291782
           ],
           "y": [
            0.592881
           ],
           "z": [
            0.711023
           ]
          }
         ],
         "name": "frame1",
         "traces": [
          0
         ]
        },
        {
         "data": [
          {
           "type": "scatter3d",
           "x": [
            0.291747
           ],
           "y": [
            0.592851
           ],
           "z": [
            0.710979
           ]
          }
         ],
         "name": "frame2",
         "traces": [
          0
         ]
        },
        {
         "data": [
          {
           "type": "scatter3d",
           "x": [
            0.291769
           ],
           "y": [
            0.592873
           ],
           "z": [
            0.71095
           ]
          }
         ],
         "name": "frame3",
         "traces": [
          0
         ]
        },
        {
         "data": [
          {
           "type": "scatter3d",
           "x": [
            0.291789
           ],
           "y": [
            0.592861
           ],
           "z": [
            0.71089
           ]
          }
         ],
         "name": "frame4",
         "traces": [
          0
         ]
        },
        {
         "data": [
          {
           "type": "scatter3d",
           "x": [
            0.291778
           ],
           "y": [
            0.592806
           ],
           "z": [
            0.710833
           ]
          }
         ],
         "name": "frame5",
         "traces": [
          0
         ]
        },
        {
         "data": [
          {
           "type": "scatter3d",
           "x": [
            0.291791
           ],
           "y": [
            0.592822
           ],
           "z": [
            0.710767
           ]
          }
         ],
         "name": "frame6",
         "traces": [
          0
         ]
        },
        {
         "data": [
          {
           "type": "scatter3d",
           "x": [
            0.291785
           ],
           "y": [
            0.59286
           ],
           "z": [
            0.710719
           ]
          }
         ],
         "name": "frame7",
         "traces": [
          0
         ]
        },
        {
         "data": [
          {
           "type": "scatter3d",
           "x": [
            0.291772
           ],
           "y": [
            0.592851
           ],
           "z": [
            0.710669
           ]
          }
         ],
         "name": "frame8",
         "traces": [
          0
         ]
        },
        {
         "data": [
          {
           "type": "scatter3d",
           "x": [
            0.291743
           ],
           "y": [
            0.592817
           ],
           "z": [
            0.710593
           ]
          }
         ],
         "name": "frame9",
         "traces": [
          0
         ]
        },
        {
         "data": [
          {
           "type": "scatter3d",
           "x": [
            0.291762
           ],
           "y": [
            0.592809
           ],
           "z": [
            0.710477
           ]
          }
         ],
         "name": "frame10",
         "traces": [
          0
         ]
        },
        {
         "data": [
          {
           "type": "scatter3d",
           "x": [
            0.291784
           ],
           "y": [
            0.592769
           ],
           "z": [
            0.710342
           ]
          }
         ],
         "name": "frame11",
         "traces": [
          0
         ]
        },
        {
         "data": [
          {
           "type": "scatter3d",
           "x": [
            0.291831
           ],
           "y": [
            0.592785
           ],
           "z": [
            0.710247
           ]
          }
         ],
         "name": "frame12",
         "traces": [
          0
         ]
        },
        {
         "data": [
          {
           "type": "scatter3d",
           "x": [
            0.291831
           ],
           "y": [
            0.592743
           ],
           "z": [
            0.71015
           ]
          }
         ],
         "name": "frame13",
         "traces": [
          0
         ]
        },
        {
         "data": [
          {
           "type": "scatter3d",
           "x": [
            0.291835
           ],
           "y": [
            0.592711
           ],
           "z": [
            0.710031
           ]
          }
         ],
         "name": "frame14",
         "traces": [
          0
         ]
        },
        {
         "data": [
          {
           "type": "scatter3d",
           "x": [
            0.291847
           ],
           "y": [
            0.592709
           ],
           "z": [
            0.709961
           ]
          }
         ],
         "name": "frame15",
         "traces": [
          0
         ]
        },
        {
         "data": [
          {
           "type": "scatter3d",
           "x": [
            0.291867
           ],
           "y": [
            0.592691
           ],
           "z": [
            0.709854
           ]
          }
         ],
         "name": "frame16",
         "traces": [
          0
         ]
        },
        {
         "data": [
          {
           "type": "scatter3d",
           "x": [
            0.291927
           ],
           "y": [
            0.592708
           ],
           "z": [
            0.709737
           ]
          }
         ],
         "name": "frame17",
         "traces": [
          0
         ]
        },
        {
         "data": [
          {
           "type": "scatter3d",
           "x": [
            0.292021
           ],
           "y": [
            0.592741
           ],
           "z": [
            0.709617
           ]
          }
         ],
         "name": "frame18",
         "traces": [
          0
         ]
        },
        {
         "data": [
          {
           "type": "scatter3d",
           "x": [
            0.292167
           ],
           "y": [
            0.592752
           ],
           "z": [
            0.709483
           ]
          }
         ],
         "name": "frame19",
         "traces": [
          0
         ]
        },
        {
         "data": [
          {
           "type": "scatter3d",
           "x": [
            0.292271
           ],
           "y": [
            0.592736
           ],
           "z": [
            0.709361
           ]
          }
         ],
         "name": "frame20",
         "traces": [
          0
         ]
        },
        {
         "data": [
          {
           "type": "scatter3d",
           "x": [
            0.292371
           ],
           "y": [
            0.592752
           ],
           "z": [
            0.709298
           ]
          }
         ],
         "name": "frame21",
         "traces": [
          0
         ]
        },
        {
         "data": [
          {
           "type": "scatter3d",
           "x": [
            0.292398
           ],
           "y": [
            0.592709
           ],
           "z": [
            0.709201
           ]
          }
         ],
         "name": "frame22",
         "traces": [
          0
         ]
        },
        {
         "data": [
          {
           "type": "scatter3d",
           "x": [
            0.29243
           ],
           "y": [
            0.592704
           ],
           "z": [
            0.709163
           ]
          }
         ],
         "name": "frame23",
         "traces": [
          0
         ]
        },
        {
         "data": [
          {
           "type": "scatter3d",
           "x": [
            0.292443
           ],
           "y": [
            0.59267
           ],
           "z": [
            0.70914
           ]
          }
         ],
         "name": "frame24",
         "traces": [
          0
         ]
        },
        {
         "data": [
          {
           "type": "scatter3d",
           "x": [
            0.292458
           ],
           "y": [
            0.592646
           ],
           "z": [
            0.709106
           ]
          }
         ],
         "name": "frame25",
         "traces": [
          0
         ]
        },
        {
         "data": [
          {
           "type": "scatter3d",
           "x": [
            0.292488
           ],
           "y": [
            0.592644
           ],
           "z": [
            0.709054
           ]
          }
         ],
         "name": "frame26",
         "traces": [
          0
         ]
        },
        {
         "data": [
          {
           "type": "scatter3d",
           "x": [
            0.292542
           ],
           "y": [
            0.592646
           ],
           "z": [
            0.709007
           ]
          }
         ],
         "name": "frame27",
         "traces": [
          0
         ]
        },
        {
         "data": [
          {
           "type": "scatter3d",
           "x": [
            0.292634
           ],
           "y": [
            0.592624
           ],
           "z": [
            0.708952
           ]
          }
         ],
         "name": "frame28",
         "traces": [
          0
         ]
        },
        {
         "data": [
          {
           "type": "scatter3d",
           "x": [
            0.292726
           ],
           "y": [
            0.592602
           ],
           "z": [
            0.708881
           ]
          }
         ],
         "name": "frame29",
         "traces": [
          0
         ]
        },
        {
         "data": [
          {
           "type": "scatter3d",
           "x": [
            0.292817
           ],
           "y": [
            0.592611
           ],
           "z": [
            0.708844
           ]
          }
         ],
         "name": "frame30",
         "traces": [
          0
         ]
        },
        {
         "data": [
          {
           "type": "scatter3d",
           "x": [
            0.292879
           ],
           "y": [
            0.592608
           ],
           "z": [
            0.708828
           ]
          }
         ],
         "name": "frame31",
         "traces": [
          0
         ]
        },
        {
         "data": [
          {
           "type": "scatter3d",
           "x": [
            0.292928
           ],
           "y": [
            0.592583
           ],
           "z": [
            0.708831
           ]
          }
         ],
         "name": "frame32",
         "traces": [
          0
         ]
        },
        {
         "data": [
          {
           "type": "scatter3d",
           "x": [
            0.29294
           ],
           "y": [
            0.592565
           ],
           "z": [
            0.70886
           ]
          }
         ],
         "name": "frame33",
         "traces": [
          0
         ]
        },
        {
         "data": [
          {
           "type": "scatter3d",
           "x": [
            0.292953
           ],
           "y": [
            0.592551
           ],
           "z": [
            0.708892
           ]
          }
         ],
         "name": "frame34",
         "traces": [
          0
         ]
        },
        {
         "data": [
          {
           "type": "scatter3d",
           "x": [
            0.292943
           ],
           "y": [
            0.592506
           ],
           "z": [
            0.708873
           ]
          }
         ],
         "name": "frame35",
         "traces": [
          0
         ]
        },
        {
         "data": [
          {
           "type": "scatter3d",
           "x": [
            0.292965
           ],
           "y": [
            0.592491
           ],
           "z": [
            0.708884
           ]
          }
         ],
         "name": "frame36",
         "traces": [
          0
         ]
        },
        {
         "data": [
          {
           "type": "scatter3d",
           "x": [
            0.293023
           ],
           "y": [
            0.59249
           ],
           "z": [
            0.708863
           ]
          }
         ],
         "name": "frame37",
         "traces": [
          0
         ]
        },
        {
         "data": [
          {
           "type": "scatter3d",
           "x": [
            0.293099
           ],
           "y": [
            0.592472
           ],
           "z": [
            0.708823
           ]
          }
         ],
         "name": "frame38",
         "traces": [
          0
         ]
        },
        {
         "data": [
          {
           "type": "scatter3d",
           "x": [
            0.293256
           ],
           "y": [
            0.59251
           ],
           "z": [
            0.708793
           ]
          }
         ],
         "name": "frame39",
         "traces": [
          0
         ]
        },
        {
         "data": [
          {
           "type": "scatter3d",
           "x": [
            0.293415
           ],
           "y": [
            0.59249
           ],
           "z": [
            0.708731
           ]
          }
         ],
         "name": "frame40",
         "traces": [
          0
         ]
        },
        {
         "data": [
          {
           "type": "scatter3d",
           "x": [
            0.29356
           ],
           "y": [
            0.592496
           ],
           "z": [
            0.708681
           ]
          }
         ],
         "name": "frame41",
         "traces": [
          0
         ]
        },
        {
         "data": [
          {
           "type": "scatter3d",
           "x": [
            0.293643
           ],
           "y": [
            0.592476
           ],
           "z": [
            0.708659
           ]
          }
         ],
         "name": "frame42",
         "traces": [
          0
         ]
        },
        {
         "data": [
          {
           "type": "scatter3d",
           "x": [
            0.293695
           ],
           "y": [
            0.592433
           ],
           "z": [
            0.708655
           ]
          }
         ],
         "name": "frame43",
         "traces": [
          0
         ]
        },
        {
         "data": [
          {
           "type": "scatter3d",
           "x": [
            0.293676
           ],
           "y": [
            0.592416
           ],
           "z": [
            0.708668
           ]
          }
         ],
         "name": "frame44",
         "traces": [
          0
         ]
        },
        {
         "data": [
          {
           "type": "scatter3d",
           "x": [
            0.293658
           ],
           "y": [
            0.592382
           ],
           "z": [
            0.708638
           ]
          }
         ],
         "name": "frame45",
         "traces": [
          0
         ]
        },
        {
         "data": [
          {
           "type": "scatter3d",
           "x": [
            0.293628
           ],
           "y": [
            0.592362
           ],
           "z": [
            0.708619
           ]
          }
         ],
         "name": "frame46",
         "traces": [
          0
         ]
        },
        {
         "data": [
          {
           "type": "scatter3d",
           "x": [
            0.293595
           ],
           "y": [
            0.592323
           ],
           "z": [
            0.708559
           ]
          }
         ],
         "name": "frame47",
         "traces": [
          0
         ]
        },
        {
         "data": [
          {
           "type": "scatter3d",
           "x": [
            0.293581
           ],
           "y": [
            0.592288
           ],
           "z": [
            0.708474
           ]
          }
         ],
         "name": "frame48",
         "traces": [
          0
         ]
        },
        {
         "data": [
          {
           "type": "scatter3d",
           "x": [
            0.293632
           ],
           "y": [
            0.592285
           ],
           "z": [
            0.708362
           ]
          }
         ],
         "name": "frame49",
         "traces": [
          0
         ]
        },
        {
         "data": [
          {
           "type": "scatter3d",
           "x": [
            0.293722
           ],
           "y": [
            0.592245
           ],
           "z": [
            0.708199
           ]
          }
         ],
         "name": "frame50",
         "traces": [
          0
         ]
        },
        {
         "data": [
          {
           "type": "scatter3d",
           "x": [
            0.293779
           ],
           "y": [
            0.592227
           ],
           "z": [
            0.708062
           ]
          }
         ],
         "name": "frame51",
         "traces": [
          0
         ]
        },
        {
         "data": [
          {
           "type": "scatter3d",
           "x": [
            0.29386
           ],
           "y": [
            0.592241
           ],
           "z": [
            0.707956
           ]
          }
         ],
         "name": "frame52",
         "traces": [
          0
         ]
        },
        {
         "data": [
          {
           "type": "scatter3d",
           "x": [
            0.293908
           ],
           "y": [
            0.592236
           ],
           "z": [
            0.707859
           ]
          }
         ],
         "name": "frame53",
         "traces": [
          0
         ]
        },
        {
         "data": [
          {
           "type": "scatter3d",
           "x": [
            0.293962
           ],
           "y": [
            0.592236
           ],
           "z": [
            0.707757
           ]
          }
         ],
         "name": "frame54",
         "traces": [
          0
         ]
        },
        {
         "data": [
          {
           "type": "scatter3d",
           "x": [
            0.293985
           ],
           "y": [
            0.592207
           ],
           "z": [
            0.707642
           ]
          }
         ],
         "name": "frame55",
         "traces": [
          0
         ]
        },
        {
         "data": [
          {
           "type": "scatter3d",
           "x": [
            0.294003
           ],
           "y": [
            0.592178
           ],
           "z": [
            0.707528
           ]
          }
         ],
         "name": "frame56",
         "traces": [
          0
         ]
        },
        {
         "data": [
          {
           "type": "scatter3d",
           "x": [
            0.294055
           ],
           "y": [
            0.592177
           ],
           "z": [
            0.707407
           ]
          }
         ],
         "name": "frame57",
         "traces": [
          0
         ]
        },
        {
         "data": [
          {
           "type": "scatter3d",
           "x": [
            0.294106
           ],
           "y": [
            0.592176
           ],
           "z": [
            0.707252
           ]
          }
         ],
         "name": "frame58",
         "traces": [
          0
         ]
        },
        {
         "data": [
          {
           "type": "scatter3d",
           "x": [
            0.294127
           ],
           "y": [
            0.592172
           ],
           "z": [
            0.707146
           ]
          }
         ],
         "name": "frame59",
         "traces": [
          0
         ]
        },
        {
         "data": [
          {
           "type": "scatter3d",
           "x": [
            0.294084
           ],
           "y": [
            0.592163
           ],
           "z": [
            0.707062
           ]
          }
         ],
         "name": "frame60",
         "traces": [
          0
         ]
        },
        {
         "data": [
          {
           "type": "scatter3d",
           "x": [
            0.294039
           ],
           "y": [
            0.592131
           ],
           "z": [
            0.706993
           ]
          }
         ],
         "name": "frame61",
         "traces": [
          0
         ]
        },
        {
         "data": [
          {
           "type": "scatter3d",
           "x": [
            0.293953
           ],
           "y": [
            0.592124
           ],
           "z": [
            0.707009
           ]
          }
         ],
         "name": "frame62",
         "traces": [
          0
         ]
        },
        {
         "data": [
          {
           "type": "scatter3d",
           "x": [
            0.293903
           ],
           "y": [
            0.592054
           ],
           "z": [
            0.706996
           ]
          }
         ],
         "name": "frame63",
         "traces": [
          0
         ]
        },
        {
         "data": [
          {
           "type": "scatter3d",
           "x": [
            0.293872
           ],
           "y": [
            0.592017
           ],
           "z": [
            0.707004
           ]
          }
         ],
         "name": "frame64",
         "traces": [
          0
         ]
        },
        {
         "data": [
          {
           "type": "scatter3d",
           "x": [
            0.29388
           ],
           "y": [
            0.592012
           ],
           "z": [
            0.707009
           ]
          }
         ],
         "name": "frame65",
         "traces": [
          0
         ]
        },
        {
         "data": [
          {
           "type": "scatter3d",
           "x": [
            0.293958
           ],
           "y": [
            0.592003
           ],
           "z": [
            0.707006
           ]
          }
         ],
         "name": "frame66",
         "traces": [
          0
         ]
        },
        {
         "data": [
          {
           "type": "scatter3d",
           "x": [
            0.294096
           ],
           "y": [
            0.591998
           ],
           "z": [
            0.706964
           ]
          }
         ],
         "name": "frame67",
         "traces": [
          0
         ]
        },
        {
         "data": [
          {
           "type": "scatter3d",
           "x": [
            0.294266
           ],
           "y": [
            0.592015
           ],
           "z": [
            0.70689
           ]
          }
         ],
         "name": "frame68",
         "traces": [
          0
         ]
        },
        {
         "data": [
          {
           "type": "scatter3d",
           "x": [
            0.294433
           ],
           "y": [
            0.592025
           ],
           "z": [
            0.706804
           ]
          }
         ],
         "name": "frame69",
         "traces": [
          0
         ]
        },
        {
         "data": [
          {
           "type": "scatter3d",
           "x": [
            0.294554
           ],
           "y": [
            0.59206
           ],
           "z": [
            0.706742
           ]
          }
         ],
         "name": "frame70",
         "traces": [
          0
         ]
        },
        {
         "data": [
          {
           "type": "scatter3d",
           "x": [
            0.294652
           ],
           "y": [
            0.592073
           ],
           "z": [
            0.706718
           ]
          }
         ],
         "name": "frame71",
         "traces": [
          0
         ]
        },
        {
         "data": [
          {
           "type": "scatter3d",
           "x": [
            0.2947
           ],
           "y": [
            0.592112
           ],
           "z": [
            0.70676
           ]
          }
         ],
         "name": "frame72",
         "traces": [
          0
         ]
        },
        {
         "data": [
          {
           "type": "scatter3d",
           "x": [
            0.294699
           ],
           "y": [
            0.592103
           ],
           "z": [
            0.706822
           ]
          }
         ],
         "name": "frame73",
         "traces": [
          0
         ]
        },
        {
         "data": [
          {
           "type": "scatter3d",
           "x": [
            0.294649
           ],
           "y": [
            0.592038
           ],
           "z": [
            0.706885
           ]
          }
         ],
         "name": "frame74",
         "traces": [
          0
         ]
        },
        {
         "data": [
          {
           "type": "scatter3d",
           "x": [
            0.294577
           ],
           "y": [
            0.59203
           ],
           "z": [
            0.707017
           ]
          }
         ],
         "name": "frame75",
         "traces": [
          0
         ]
        },
        {
         "data": [
          {
           "type": "scatter3d",
           "x": [
            0.294498
           ],
           "y": [
            0.592004
           ],
           "z": [
            0.707107
           ]
          }
         ],
         "name": "frame76",
         "traces": [
          0
         ]
        },
        {
         "data": [
          {
           "type": "scatter3d",
           "x": [
            0.294414
           ],
           "y": [
            0.591972
           ],
           "z": [
            0.707162
           ]
          }
         ],
         "name": "frame77",
         "traces": [
          0
         ]
        },
        {
         "data": [
          {
           "type": "scatter3d",
           "x": [
            0.294387
           ],
           "y": [
            0.591951
           ],
           "z": [
            0.707201
           ]
          }
         ],
         "name": "frame78",
         "traces": [
          0
         ]
        },
        {
         "data": [
          {
           "type": "scatter3d",
           "x": [
            0.294354
           ],
           "y": [
            0.591942
           ],
           "z": [
            0.707223
           ]
          }
         ],
         "name": "frame79",
         "traces": [
          0
         ]
        },
        {
         "data": [
          {
           "type": "scatter3d",
           "x": [
            0.294373
           ],
           "y": [
            0.591935
           ],
           "z": [
            0.707217
           ]
          }
         ],
         "name": "frame80",
         "traces": [
          0
         ]
        },
        {
         "data": [
          {
           "type": "scatter3d",
           "x": [
            0.294362
           ],
           "y": [
            0.591932
           ],
           "z": [
            0.707247
           ]
          }
         ],
         "name": "frame81",
         "traces": [
          0
         ]
        },
        {
         "data": [
          {
           "type": "scatter3d",
           "x": [
            0.294288
           ],
           "y": [
            0.591948
           ],
           "z": [
            0.707334
           ]
          }
         ],
         "name": "frame82",
         "traces": [
          0
         ]
        },
        {
         "data": [
          {
           "type": "scatter3d",
           "x": [
            0.29406
           ],
           "y": [
            0.591884
           ],
           "z": [
            0.707462
           ]
          }
         ],
         "name": "frame83",
         "traces": [
          0
         ]
        },
        {
         "data": [
          {
           "type": "scatter3d",
           "x": [
            0.293728
           ],
           "y": [
            0.591814
           ],
           "z": [
            0.707665
           ]
          }
         ],
         "name": "frame84",
         "traces": [
          0
         ]
        },
        {
         "data": [
          {
           "type": "scatter3d",
           "x": [
            0.293312
           ],
           "y": [
            0.591723
           ],
           "z": [
            0.707959
           ]
          }
         ],
         "name": "frame85",
         "traces": [
          0
         ]
        },
        {
         "data": [
          {
           "type": "scatter3d",
           "x": [
            0.292761
           ],
           "y": [
            0.591575
           ],
           "z": [
            0.708342
           ]
          }
         ],
         "name": "frame86",
         "traces": [
          0
         ]
        },
        {
         "data": [
          {
           "type": "scatter3d",
           "x": [
            0.292101
           ],
           "y": [
            0.591433
           ],
           "z": [
            0.70878
           ]
          }
         ],
         "name": "frame87",
         "traces": [
          0
         ]
        },
        {
         "data": [
          {
           "type": "scatter3d",
           "x": [
            0.291326
           ],
           "y": [
            0.591222
           ],
           "z": [
            0.709327
           ]
          }
         ],
         "name": "frame88",
         "traces": [
          0
         ]
        },
        {
         "data": [
          {
           "type": "scatter3d",
           "x": [
            0.290763
           ],
           "y": [
            0.591014
           ],
           "z": [
            0.709834
           ]
          }
         ],
         "name": "frame89",
         "traces": [
          0
         ]
        },
        {
         "data": [
          {
           "type": "scatter3d",
           "x": [
            0.290222
           ],
           "y": [
            0.590734
           ],
           "z": [
            0.710471
           ]
          }
         ],
         "name": "frame90",
         "traces": [
          0
         ]
        },
        {
         "data": [
          {
           "type": "scatter3d",
           "x": [
            0.289733
           ],
           "y": [
            0.59052
           ],
           "z": [
            0.711087
           ]
          }
         ],
         "name": "frame91",
         "traces": [
          0
         ]
        },
        {
         "data": [
          {
           "type": "scatter3d",
           "x": [
            0.289369
           ],
           "y": [
            0.590361
           ],
           "z": [
            0.711684
           ]
          }
         ],
         "name": "frame92",
         "traces": [
          0
         ]
        },
        {
         "data": [
          {
           "type": "scatter3d",
           "x": [
            0.289143
           ],
           "y": [
            0.590186
           ],
           "z": [
            0.712328
           ]
          }
         ],
         "name": "frame93",
         "traces": [
          0
         ]
        },
        {
         "data": [
          {
           "type": "scatter3d",
           "x": [
            0.288933
           ],
           "y": [
            0.589917
           ],
           "z": [
            0.712995
           ]
          }
         ],
         "name": "frame94",
         "traces": [
          0
         ]
        },
        {
         "data": [
          {
           "type": "scatter3d",
           "x": [
            0.28849
           ],
           "y": [
            0.589604
           ],
           "z": [
            0.713891
           ]
          }
         ],
         "name": "frame95",
         "traces": [
          0
         ]
        },
        {
         "data": [
          {
           "type": "scatter3d",
           "x": [
            0.287963
           ],
           "y": [
            0.589124
           ],
           "z": [
            0.71484
           ]
          }
         ],
         "name": "frame96",
         "traces": [
          0
         ]
        },
        {
         "data": [
          {
           "type": "scatter3d",
           "x": [
            0.287156
           ],
           "y": [
            0.588564
           ],
           "z": [
            0.716002
           ]
          }
         ],
         "name": "frame97",
         "traces": [
          0
         ]
        },
        {
         "data": [
          {
           "type": "scatter3d",
           "x": [
            0.286088
           ],
           "y": [
            0.587866
           ],
           "z": [
            0.717254
           ]
          }
         ],
         "name": "frame98",
         "traces": [
          0
         ]
        }
       ],
       "layout": {
        "scene": {
         "aspectmode": "cube",
         "camera": {
          "eye": {
           "x": -1,
           "y": -1,
           "z": 1
          }
         },
         "xaxis": {
          "range": [
           -0.1,
           1.0938970000000001
          ]
         },
         "yaxis": {
          "range": [
           -0.1,
           1.0938970000000001
          ]
         },
         "zaxis": {
          "range": [
           -0.1,
           1.0938970000000001
          ]
         }
        },
        "sliders": [
         {
          "len": 0.9,
          "pad": {
           "b": 10,
           "t": 60
          },
          "steps": [
           {
            "args": [
             [
              "frame0"
             ],
             {
              "frame": {
               "duration": 0
              },
              "fromcurrent": true,
              "mode": "immediate",
              "transition": {
               "duration": 0,
               "easing": "linear"
              }
             }
            ],
            "label": "0",
            "method": "animate"
           },
           {
            "args": [
             [
              "frame1"
             ],
             {
              "frame": {
               "duration": 0
              },
              "fromcurrent": true,
              "mode": "immediate",
              "transition": {
               "duration": 0,
               "easing": "linear"
              }
             }
            ],
            "label": "1",
            "method": "animate"
           },
           {
            "args": [
             [
              "frame2"
             ],
             {
              "frame": {
               "duration": 0
              },
              "fromcurrent": true,
              "mode": "immediate",
              "transition": {
               "duration": 0,
               "easing": "linear"
              }
             }
            ],
            "label": "2",
            "method": "animate"
           },
           {
            "args": [
             [
              "frame3"
             ],
             {
              "frame": {
               "duration": 0
              },
              "fromcurrent": true,
              "mode": "immediate",
              "transition": {
               "duration": 0,
               "easing": "linear"
              }
             }
            ],
            "label": "3",
            "method": "animate"
           },
           {
            "args": [
             [
              "frame4"
             ],
             {
              "frame": {
               "duration": 0
              },
              "fromcurrent": true,
              "mode": "immediate",
              "transition": {
               "duration": 0,
               "easing": "linear"
              }
             }
            ],
            "label": "4",
            "method": "animate"
           },
           {
            "args": [
             [
              "frame5"
             ],
             {
              "frame": {
               "duration": 0
              },
              "fromcurrent": true,
              "mode": "immediate",
              "transition": {
               "duration": 0,
               "easing": "linear"
              }
             }
            ],
            "label": "5",
            "method": "animate"
           },
           {
            "args": [
             [
              "frame6"
             ],
             {
              "frame": {
               "duration": 0
              },
              "fromcurrent": true,
              "mode": "immediate",
              "transition": {
               "duration": 0,
               "easing": "linear"
              }
             }
            ],
            "label": "6",
            "method": "animate"
           },
           {
            "args": [
             [
              "frame7"
             ],
             {
              "frame": {
               "duration": 0
              },
              "fromcurrent": true,
              "mode": "immediate",
              "transition": {
               "duration": 0,
               "easing": "linear"
              }
             }
            ],
            "label": "7",
            "method": "animate"
           },
           {
            "args": [
             [
              "frame8"
             ],
             {
              "frame": {
               "duration": 0
              },
              "fromcurrent": true,
              "mode": "immediate",
              "transition": {
               "duration": 0,
               "easing": "linear"
              }
             }
            ],
            "label": "8",
            "method": "animate"
           },
           {
            "args": [
             [
              "frame9"
             ],
             {
              "frame": {
               "duration": 0
              },
              "fromcurrent": true,
              "mode": "immediate",
              "transition": {
               "duration": 0,
               "easing": "linear"
              }
             }
            ],
            "label": "9",
            "method": "animate"
           },
           {
            "args": [
             [
              "frame10"
             ],
             {
              "frame": {
               "duration": 0
              },
              "fromcurrent": true,
              "mode": "immediate",
              "transition": {
               "duration": 0,
               "easing": "linear"
              }
             }
            ],
            "label": "10",
            "method": "animate"
           },
           {
            "args": [
             [
              "frame11"
             ],
             {
              "frame": {
               "duration": 0
              },
              "fromcurrent": true,
              "mode": "immediate",
              "transition": {
               "duration": 0,
               "easing": "linear"
              }
             }
            ],
            "label": "11",
            "method": "animate"
           },
           {
            "args": [
             [
              "frame12"
             ],
             {
              "frame": {
               "duration": 0
              },
              "fromcurrent": true,
              "mode": "immediate",
              "transition": {
               "duration": 0,
               "easing": "linear"
              }
             }
            ],
            "label": "12",
            "method": "animate"
           },
           {
            "args": [
             [
              "frame13"
             ],
             {
              "frame": {
               "duration": 0
              },
              "fromcurrent": true,
              "mode": "immediate",
              "transition": {
               "duration": 0,
               "easing": "linear"
              }
             }
            ],
            "label": "13",
            "method": "animate"
           },
           {
            "args": [
             [
              "frame14"
             ],
             {
              "frame": {
               "duration": 0
              },
              "fromcurrent": true,
              "mode": "immediate",
              "transition": {
               "duration": 0,
               "easing": "linear"
              }
             }
            ],
            "label": "14",
            "method": "animate"
           },
           {
            "args": [
             [
              "frame15"
             ],
             {
              "frame": {
               "duration": 0
              },
              "fromcurrent": true,
              "mode": "immediate",
              "transition": {
               "duration": 0,
               "easing": "linear"
              }
             }
            ],
            "label": "15",
            "method": "animate"
           },
           {
            "args": [
             [
              "frame16"
             ],
             {
              "frame": {
               "duration": 0
              },
              "fromcurrent": true,
              "mode": "immediate",
              "transition": {
               "duration": 0,
               "easing": "linear"
              }
             }
            ],
            "label": "16",
            "method": "animate"
           },
           {
            "args": [
             [
              "frame17"
             ],
             {
              "frame": {
               "duration": 0
              },
              "fromcurrent": true,
              "mode": "immediate",
              "transition": {
               "duration": 0,
               "easing": "linear"
              }
             }
            ],
            "label": "17",
            "method": "animate"
           },
           {
            "args": [
             [
              "frame18"
             ],
             {
              "frame": {
               "duration": 0
              },
              "fromcurrent": true,
              "mode": "immediate",
              "transition": {
               "duration": 0,
               "easing": "linear"
              }
             }
            ],
            "label": "18",
            "method": "animate"
           },
           {
            "args": [
             [
              "frame19"
             ],
             {
              "frame": {
               "duration": 0
              },
              "fromcurrent": true,
              "mode": "immediate",
              "transition": {
               "duration": 0,
               "easing": "linear"
              }
             }
            ],
            "label": "19",
            "method": "animate"
           },
           {
            "args": [
             [
              "frame20"
             ],
             {
              "frame": {
               "duration": 0
              },
              "fromcurrent": true,
              "mode": "immediate",
              "transition": {
               "duration": 0,
               "easing": "linear"
              }
             }
            ],
            "label": "20",
            "method": "animate"
           },
           {
            "args": [
             [
              "frame21"
             ],
             {
              "frame": {
               "duration": 0
              },
              "fromcurrent": true,
              "mode": "immediate",
              "transition": {
               "duration": 0,
               "easing": "linear"
              }
             }
            ],
            "label": "21",
            "method": "animate"
           },
           {
            "args": [
             [
              "frame22"
             ],
             {
              "frame": {
               "duration": 0
              },
              "fromcurrent": true,
              "mode": "immediate",
              "transition": {
               "duration": 0,
               "easing": "linear"
              }
             }
            ],
            "label": "22",
            "method": "animate"
           },
           {
            "args": [
             [
              "frame23"
             ],
             {
              "frame": {
               "duration": 0
              },
              "fromcurrent": true,
              "mode": "immediate",
              "transition": {
               "duration": 0,
               "easing": "linear"
              }
             }
            ],
            "label": "23",
            "method": "animate"
           },
           {
            "args": [
             [
              "frame24"
             ],
             {
              "frame": {
               "duration": 0
              },
              "fromcurrent": true,
              "mode": "immediate",
              "transition": {
               "duration": 0,
               "easing": "linear"
              }
             }
            ],
            "label": "24",
            "method": "animate"
           },
           {
            "args": [
             [
              "frame25"
             ],
             {
              "frame": {
               "duration": 0
              },
              "fromcurrent": true,
              "mode": "immediate",
              "transition": {
               "duration": 0,
               "easing": "linear"
              }
             }
            ],
            "label": "25",
            "method": "animate"
           },
           {
            "args": [
             [
              "frame26"
             ],
             {
              "frame": {
               "duration": 0
              },
              "fromcurrent": true,
              "mode": "immediate",
              "transition": {
               "duration": 0,
               "easing": "linear"
              }
             }
            ],
            "label": "26",
            "method": "animate"
           },
           {
            "args": [
             [
              "frame27"
             ],
             {
              "frame": {
               "duration": 0
              },
              "fromcurrent": true,
              "mode": "immediate",
              "transition": {
               "duration": 0,
               "easing": "linear"
              }
             }
            ],
            "label": "27",
            "method": "animate"
           },
           {
            "args": [
             [
              "frame28"
             ],
             {
              "frame": {
               "duration": 0
              },
              "fromcurrent": true,
              "mode": "immediate",
              "transition": {
               "duration": 0,
               "easing": "linear"
              }
             }
            ],
            "label": "28",
            "method": "animate"
           },
           {
            "args": [
             [
              "frame29"
             ],
             {
              "frame": {
               "duration": 0
              },
              "fromcurrent": true,
              "mode": "immediate",
              "transition": {
               "duration": 0,
               "easing": "linear"
              }
             }
            ],
            "label": "29",
            "method": "animate"
           },
           {
            "args": [
             [
              "frame30"
             ],
             {
              "frame": {
               "duration": 0
              },
              "fromcurrent": true,
              "mode": "immediate",
              "transition": {
               "duration": 0,
               "easing": "linear"
              }
             }
            ],
            "label": "30",
            "method": "animate"
           },
           {
            "args": [
             [
              "frame31"
             ],
             {
              "frame": {
               "duration": 0
              },
              "fromcurrent": true,
              "mode": "immediate",
              "transition": {
               "duration": 0,
               "easing": "linear"
              }
             }
            ],
            "label": "31",
            "method": "animate"
           },
           {
            "args": [
             [
              "frame32"
             ],
             {
              "frame": {
               "duration": 0
              },
              "fromcurrent": true,
              "mode": "immediate",
              "transition": {
               "duration": 0,
               "easing": "linear"
              }
             }
            ],
            "label": "32",
            "method": "animate"
           },
           {
            "args": [
             [
              "frame33"
             ],
             {
              "frame": {
               "duration": 0
              },
              "fromcurrent": true,
              "mode": "immediate",
              "transition": {
               "duration": 0,
               "easing": "linear"
              }
             }
            ],
            "label": "33",
            "method": "animate"
           },
           {
            "args": [
             [
              "frame34"
             ],
             {
              "frame": {
               "duration": 0
              },
              "fromcurrent": true,
              "mode": "immediate",
              "transition": {
               "duration": 0,
               "easing": "linear"
              }
             }
            ],
            "label": "34",
            "method": "animate"
           },
           {
            "args": [
             [
              "frame35"
             ],
             {
              "frame": {
               "duration": 0
              },
              "fromcurrent": true,
              "mode": "immediate",
              "transition": {
               "duration": 0,
               "easing": "linear"
              }
             }
            ],
            "label": "35",
            "method": "animate"
           },
           {
            "args": [
             [
              "frame36"
             ],
             {
              "frame": {
               "duration": 0
              },
              "fromcurrent": true,
              "mode": "immediate",
              "transition": {
               "duration": 0,
               "easing": "linear"
              }
             }
            ],
            "label": "36",
            "method": "animate"
           },
           {
            "args": [
             [
              "frame37"
             ],
             {
              "frame": {
               "duration": 0
              },
              "fromcurrent": true,
              "mode": "immediate",
              "transition": {
               "duration": 0,
               "easing": "linear"
              }
             }
            ],
            "label": "37",
            "method": "animate"
           },
           {
            "args": [
             [
              "frame38"
             ],
             {
              "frame": {
               "duration": 0
              },
              "fromcurrent": true,
              "mode": "immediate",
              "transition": {
               "duration": 0,
               "easing": "linear"
              }
             }
            ],
            "label": "38",
            "method": "animate"
           },
           {
            "args": [
             [
              "frame39"
             ],
             {
              "frame": {
               "duration": 0
              },
              "fromcurrent": true,
              "mode": "immediate",
              "transition": {
               "duration": 0,
               "easing": "linear"
              }
             }
            ],
            "label": "39",
            "method": "animate"
           },
           {
            "args": [
             [
              "frame40"
             ],
             {
              "frame": {
               "duration": 0
              },
              "fromcurrent": true,
              "mode": "immediate",
              "transition": {
               "duration": 0,
               "easing": "linear"
              }
             }
            ],
            "label": "40",
            "method": "animate"
           },
           {
            "args": [
             [
              "frame41"
             ],
             {
              "frame": {
               "duration": 0
              },
              "fromcurrent": true,
              "mode": "immediate",
              "transition": {
               "duration": 0,
               "easing": "linear"
              }
             }
            ],
            "label": "41",
            "method": "animate"
           },
           {
            "args": [
             [
              "frame42"
             ],
             {
              "frame": {
               "duration": 0
              },
              "fromcurrent": true,
              "mode": "immediate",
              "transition": {
               "duration": 0,
               "easing": "linear"
              }
             }
            ],
            "label": "42",
            "method": "animate"
           },
           {
            "args": [
             [
              "frame43"
             ],
             {
              "frame": {
               "duration": 0
              },
              "fromcurrent": true,
              "mode": "immediate",
              "transition": {
               "duration": 0,
               "easing": "linear"
              }
             }
            ],
            "label": "43",
            "method": "animate"
           },
           {
            "args": [
             [
              "frame44"
             ],
             {
              "frame": {
               "duration": 0
              },
              "fromcurrent": true,
              "mode": "immediate",
              "transition": {
               "duration": 0,
               "easing": "linear"
              }
             }
            ],
            "label": "44",
            "method": "animate"
           },
           {
            "args": [
             [
              "frame45"
             ],
             {
              "frame": {
               "duration": 0
              },
              "fromcurrent": true,
              "mode": "immediate",
              "transition": {
               "duration": 0,
               "easing": "linear"
              }
             }
            ],
            "label": "45",
            "method": "animate"
           },
           {
            "args": [
             [
              "frame46"
             ],
             {
              "frame": {
               "duration": 0
              },
              "fromcurrent": true,
              "mode": "immediate",
              "transition": {
               "duration": 0,
               "easing": "linear"
              }
             }
            ],
            "label": "46",
            "method": "animate"
           },
           {
            "args": [
             [
              "frame47"
             ],
             {
              "frame": {
               "duration": 0
              },
              "fromcurrent": true,
              "mode": "immediate",
              "transition": {
               "duration": 0,
               "easing": "linear"
              }
             }
            ],
            "label": "47",
            "method": "animate"
           },
           {
            "args": [
             [
              "frame48"
             ],
             {
              "frame": {
               "duration": 0
              },
              "fromcurrent": true,
              "mode": "immediate",
              "transition": {
               "duration": 0,
               "easing": "linear"
              }
             }
            ],
            "label": "48",
            "method": "animate"
           },
           {
            "args": [
             [
              "frame49"
             ],
             {
              "frame": {
               "duration": 0
              },
              "fromcurrent": true,
              "mode": "immediate",
              "transition": {
               "duration": 0,
               "easing": "linear"
              }
             }
            ],
            "label": "49",
            "method": "animate"
           },
           {
            "args": [
             [
              "frame50"
             ],
             {
              "frame": {
               "duration": 0
              },
              "fromcurrent": true,
              "mode": "immediate",
              "transition": {
               "duration": 0,
               "easing": "linear"
              }
             }
            ],
            "label": "50",
            "method": "animate"
           },
           {
            "args": [
             [
              "frame51"
             ],
             {
              "frame": {
               "duration": 0
              },
              "fromcurrent": true,
              "mode": "immediate",
              "transition": {
               "duration": 0,
               "easing": "linear"
              }
             }
            ],
            "label": "51",
            "method": "animate"
           },
           {
            "args": [
             [
              "frame52"
             ],
             {
              "frame": {
               "duration": 0
              },
              "fromcurrent": true,
              "mode": "immediate",
              "transition": {
               "duration": 0,
               "easing": "linear"
              }
             }
            ],
            "label": "52",
            "method": "animate"
           },
           {
            "args": [
             [
              "frame53"
             ],
             {
              "frame": {
               "duration": 0
              },
              "fromcurrent": true,
              "mode": "immediate",
              "transition": {
               "duration": 0,
               "easing": "linear"
              }
             }
            ],
            "label": "53",
            "method": "animate"
           },
           {
            "args": [
             [
              "frame54"
             ],
             {
              "frame": {
               "duration": 0
              },
              "fromcurrent": true,
              "mode": "immediate",
              "transition": {
               "duration": 0,
               "easing": "linear"
              }
             }
            ],
            "label": "54",
            "method": "animate"
           },
           {
            "args": [
             [
              "frame55"
             ],
             {
              "frame": {
               "duration": 0
              },
              "fromcurrent": true,
              "mode": "immediate",
              "transition": {
               "duration": 0,
               "easing": "linear"
              }
             }
            ],
            "label": "55",
            "method": "animate"
           },
           {
            "args": [
             [
              "frame56"
             ],
             {
              "frame": {
               "duration": 0
              },
              "fromcurrent": true,
              "mode": "immediate",
              "transition": {
               "duration": 0,
               "easing": "linear"
              }
             }
            ],
            "label": "56",
            "method": "animate"
           },
           {
            "args": [
             [
              "frame57"
             ],
             {
              "frame": {
               "duration": 0
              },
              "fromcurrent": true,
              "mode": "immediate",
              "transition": {
               "duration": 0,
               "easing": "linear"
              }
             }
            ],
            "label": "57",
            "method": "animate"
           },
           {
            "args": [
             [
              "frame58"
             ],
             {
              "frame": {
               "duration": 0
              },
              "fromcurrent": true,
              "mode": "immediate",
              "transition": {
               "duration": 0,
               "easing": "linear"
              }
             }
            ],
            "label": "58",
            "method": "animate"
           },
           {
            "args": [
             [
              "frame59"
             ],
             {
              "frame": {
               "duration": 0
              },
              "fromcurrent": true,
              "mode": "immediate",
              "transition": {
               "duration": 0,
               "easing": "linear"
              }
             }
            ],
            "label": "59",
            "method": "animate"
           },
           {
            "args": [
             [
              "frame60"
             ],
             {
              "frame": {
               "duration": 0
              },
              "fromcurrent": true,
              "mode": "immediate",
              "transition": {
               "duration": 0,
               "easing": "linear"
              }
             }
            ],
            "label": "60",
            "method": "animate"
           },
           {
            "args": [
             [
              "frame61"
             ],
             {
              "frame": {
               "duration": 0
              },
              "fromcurrent": true,
              "mode": "immediate",
              "transition": {
               "duration": 0,
               "easing": "linear"
              }
             }
            ],
            "label": "61",
            "method": "animate"
           },
           {
            "args": [
             [
              "frame62"
             ],
             {
              "frame": {
               "duration": 0
              },
              "fromcurrent": true,
              "mode": "immediate",
              "transition": {
               "duration": 0,
               "easing": "linear"
              }
             }
            ],
            "label": "62",
            "method": "animate"
           },
           {
            "args": [
             [
              "frame63"
             ],
             {
              "frame": {
               "duration": 0
              },
              "fromcurrent": true,
              "mode": "immediate",
              "transition": {
               "duration": 0,
               "easing": "linear"
              }
             }
            ],
            "label": "63",
            "method": "animate"
           },
           {
            "args": [
             [
              "frame64"
             ],
             {
              "frame": {
               "duration": 0
              },
              "fromcurrent": true,
              "mode": "immediate",
              "transition": {
               "duration": 0,
               "easing": "linear"
              }
             }
            ],
            "label": "64",
            "method": "animate"
           },
           {
            "args": [
             [
              "frame65"
             ],
             {
              "frame": {
               "duration": 0
              },
              "fromcurrent": true,
              "mode": "immediate",
              "transition": {
               "duration": 0,
               "easing": "linear"
              }
             }
            ],
            "label": "65",
            "method": "animate"
           },
           {
            "args": [
             [
              "frame66"
             ],
             {
              "frame": {
               "duration": 0
              },
              "fromcurrent": true,
              "mode": "immediate",
              "transition": {
               "duration": 0,
               "easing": "linear"
              }
             }
            ],
            "label": "66",
            "method": "animate"
           },
           {
            "args": [
             [
              "frame67"
             ],
             {
              "frame": {
               "duration": 0
              },
              "fromcurrent": true,
              "mode": "immediate",
              "transition": {
               "duration": 0,
               "easing": "linear"
              }
             }
            ],
            "label": "67",
            "method": "animate"
           },
           {
            "args": [
             [
              "frame68"
             ],
             {
              "frame": {
               "duration": 0
              },
              "fromcurrent": true,
              "mode": "immediate",
              "transition": {
               "duration": 0,
               "easing": "linear"
              }
             }
            ],
            "label": "68",
            "method": "animate"
           },
           {
            "args": [
             [
              "frame69"
             ],
             {
              "frame": {
               "duration": 0
              },
              "fromcurrent": true,
              "mode": "immediate",
              "transition": {
               "duration": 0,
               "easing": "linear"
              }
             }
            ],
            "label": "69",
            "method": "animate"
           },
           {
            "args": [
             [
              "frame70"
             ],
             {
              "frame": {
               "duration": 0
              },
              "fromcurrent": true,
              "mode": "immediate",
              "transition": {
               "duration": 0,
               "easing": "linear"
              }
             }
            ],
            "label": "70",
            "method": "animate"
           },
           {
            "args": [
             [
              "frame71"
             ],
             {
              "frame": {
               "duration": 0
              },
              "fromcurrent": true,
              "mode": "immediate",
              "transition": {
               "duration": 0,
               "easing": "linear"
              }
             }
            ],
            "label": "71",
            "method": "animate"
           },
           {
            "args": [
             [
              "frame72"
             ],
             {
              "frame": {
               "duration": 0
              },
              "fromcurrent": true,
              "mode": "immediate",
              "transition": {
               "duration": 0,
               "easing": "linear"
              }
             }
            ],
            "label": "72",
            "method": "animate"
           },
           {
            "args": [
             [
              "frame73"
             ],
             {
              "frame": {
               "duration": 0
              },
              "fromcurrent": true,
              "mode": "immediate",
              "transition": {
               "duration": 0,
               "easing": "linear"
              }
             }
            ],
            "label": "73",
            "method": "animate"
           },
           {
            "args": [
             [
              "frame74"
             ],
             {
              "frame": {
               "duration": 0
              },
              "fromcurrent": true,
              "mode": "immediate",
              "transition": {
               "duration": 0,
               "easing": "linear"
              }
             }
            ],
            "label": "74",
            "method": "animate"
           },
           {
            "args": [
             [
              "frame75"
             ],
             {
              "frame": {
               "duration": 0
              },
              "fromcurrent": true,
              "mode": "immediate",
              "transition": {
               "duration": 0,
               "easing": "linear"
              }
             }
            ],
            "label": "75",
            "method": "animate"
           },
           {
            "args": [
             [
              "frame76"
             ],
             {
              "frame": {
               "duration": 0
              },
              "fromcurrent": true,
              "mode": "immediate",
              "transition": {
               "duration": 0,
               "easing": "linear"
              }
             }
            ],
            "label": "76",
            "method": "animate"
           },
           {
            "args": [
             [
              "frame77"
             ],
             {
              "frame": {
               "duration": 0
              },
              "fromcurrent": true,
              "mode": "immediate",
              "transition": {
               "duration": 0,
               "easing": "linear"
              }
             }
            ],
            "label": "77",
            "method": "animate"
           },
           {
            "args": [
             [
              "frame78"
             ],
             {
              "frame": {
               "duration": 0
              },
              "fromcurrent": true,
              "mode": "immediate",
              "transition": {
               "duration": 0,
               "easing": "linear"
              }
             }
            ],
            "label": "78",
            "method": "animate"
           },
           {
            "args": [
             [
              "frame79"
             ],
             {
              "frame": {
               "duration": 0
              },
              "fromcurrent": true,
              "mode": "immediate",
              "transition": {
               "duration": 0,
               "easing": "linear"
              }
             }
            ],
            "label": "79",
            "method": "animate"
           },
           {
            "args": [
             [
              "frame80"
             ],
             {
              "frame": {
               "duration": 0
              },
              "fromcurrent": true,
              "mode": "immediate",
              "transition": {
               "duration": 0,
               "easing": "linear"
              }
             }
            ],
            "label": "80",
            "method": "animate"
           },
           {
            "args": [
             [
              "frame81"
             ],
             {
              "frame": {
               "duration": 0
              },
              "fromcurrent": true,
              "mode": "immediate",
              "transition": {
               "duration": 0,
               "easing": "linear"
              }
             }
            ],
            "label": "81",
            "method": "animate"
           },
           {
            "args": [
             [
              "frame82"
             ],
             {
              "frame": {
               "duration": 0
              },
              "fromcurrent": true,
              "mode": "immediate",
              "transition": {
               "duration": 0,
               "easing": "linear"
              }
             }
            ],
            "label": "82",
            "method": "animate"
           },
           {
            "args": [
             [
              "frame83"
             ],
             {
              "frame": {
               "duration": 0
              },
              "fromcurrent": true,
              "mode": "immediate",
              "transition": {
               "duration": 0,
               "easing": "linear"
              }
             }
            ],
            "label": "83",
            "method": "animate"
           },
           {
            "args": [
             [
              "frame84"
             ],
             {
              "frame": {
               "duration": 0
              },
              "fromcurrent": true,
              "mode": "immediate",
              "transition": {
               "duration": 0,
               "easing": "linear"
              }
             }
            ],
            "label": "84",
            "method": "animate"
           },
           {
            "args": [
             [
              "frame85"
             ],
             {
              "frame": {
               "duration": 0
              },
              "fromcurrent": true,
              "mode": "immediate",
              "transition": {
               "duration": 0,
               "easing": "linear"
              }
             }
            ],
            "label": "85",
            "method": "animate"
           },
           {
            "args": [
             [
              "frame86"
             ],
             {
              "frame": {
               "duration": 0
              },
              "fromcurrent": true,
              "mode": "immediate",
              "transition": {
               "duration": 0,
               "easing": "linear"
              }
             }
            ],
            "label": "86",
            "method": "animate"
           },
           {
            "args": [
             [
              "frame87"
             ],
             {
              "frame": {
               "duration": 0
              },
              "fromcurrent": true,
              "mode": "immediate",
              "transition": {
               "duration": 0,
               "easing": "linear"
              }
             }
            ],
            "label": "87",
            "method": "animate"
           },
           {
            "args": [
             [
              "frame88"
             ],
             {
              "frame": {
               "duration": 0
              },
              "fromcurrent": true,
              "mode": "immediate",
              "transition": {
               "duration": 0,
               "easing": "linear"
              }
             }
            ],
            "label": "88",
            "method": "animate"
           },
           {
            "args": [
             [
              "frame89"
             ],
             {
              "frame": {
               "duration": 0
              },
              "fromcurrent": true,
              "mode": "immediate",
              "transition": {
               "duration": 0,
               "easing": "linear"
              }
             }
            ],
            "label": "89",
            "method": "animate"
           },
           {
            "args": [
             [
              "frame90"
             ],
             {
              "frame": {
               "duration": 0
              },
              "fromcurrent": true,
              "mode": "immediate",
              "transition": {
               "duration": 0,
               "easing": "linear"
              }
             }
            ],
            "label": "90",
            "method": "animate"
           },
           {
            "args": [
             [
              "frame91"
             ],
             {
              "frame": {
               "duration": 0
              },
              "fromcurrent": true,
              "mode": "immediate",
              "transition": {
               "duration": 0,
               "easing": "linear"
              }
             }
            ],
            "label": "91",
            "method": "animate"
           },
           {
            "args": [
             [
              "frame92"
             ],
             {
              "frame": {
               "duration": 0
              },
              "fromcurrent": true,
              "mode": "immediate",
              "transition": {
               "duration": 0,
               "easing": "linear"
              }
             }
            ],
            "label": "92",
            "method": "animate"
           },
           {
            "args": [
             [
              "frame93"
             ],
             {
              "frame": {
               "duration": 0
              },
              "fromcurrent": true,
              "mode": "immediate",
              "transition": {
               "duration": 0,
               "easing": "linear"
              }
             }
            ],
            "label": "93",
            "method": "animate"
           },
           {
            "args": [
             [
              "frame94"
             ],
             {
              "frame": {
               "duration": 0
              },
              "fromcurrent": true,
              "mode": "immediate",
              "transition": {
               "duration": 0,
               "easing": "linear"
              }
             }
            ],
            "label": "94",
            "method": "animate"
           },
           {
            "args": [
             [
              "frame95"
             ],
             {
              "frame": {
               "duration": 0
              },
              "fromcurrent": true,
              "mode": "immediate",
              "transition": {
               "duration": 0,
               "easing": "linear"
              }
             }
            ],
            "label": "95",
            "method": "animate"
           },
           {
            "args": [
             [
              "frame96"
             ],
             {
              "frame": {
               "duration": 0
              },
              "fromcurrent": true,
              "mode": "immediate",
              "transition": {
               "duration": 0,
               "easing": "linear"
              }
             }
            ],
            "label": "96",
            "method": "animate"
           },
           {
            "args": [
             [
              "frame97"
             ],
             {
              "frame": {
               "duration": 0
              },
              "fromcurrent": true,
              "mode": "immediate",
              "transition": {
               "duration": 0,
               "easing": "linear"
              }
             }
            ],
            "label": "97",
            "method": "animate"
           },
           {
            "args": [
             [
              "frame98"
             ],
             {
              "frame": {
               "duration": 0
              },
              "fromcurrent": true,
              "mode": "immediate",
              "transition": {
               "duration": 0,
               "easing": "linear"
              }
             }
            ],
            "label": "98",
            "method": "animate"
           }
          ],
          "x": 0.1,
          "y": 0
         }
        ],
        "template": {
         "data": {
          "bar": [
           {
            "error_x": {
             "color": "#2a3f5f"
            },
            "error_y": {
             "color": "#2a3f5f"
            },
            "marker": {
             "line": {
              "color": "#E5ECF6",
              "width": 0.5
             },
             "pattern": {
              "fillmode": "overlay",
              "size": 10,
              "solidity": 0.2
             }
            },
            "type": "bar"
           }
          ],
          "barpolar": [
           {
            "marker": {
             "line": {
              "color": "#E5ECF6",
              "width": 0.5
             },
             "pattern": {
              "fillmode": "overlay",
              "size": 10,
              "solidity": 0.2
             }
            },
            "type": "barpolar"
           }
          ],
          "carpet": [
           {
            "aaxis": {
             "endlinecolor": "#2a3f5f",
             "gridcolor": "white",
             "linecolor": "white",
             "minorgridcolor": "white",
             "startlinecolor": "#2a3f5f"
            },
            "baxis": {
             "endlinecolor": "#2a3f5f",
             "gridcolor": "white",
             "linecolor": "white",
             "minorgridcolor": "white",
             "startlinecolor": "#2a3f5f"
            },
            "type": "carpet"
           }
          ],
          "choropleth": [
           {
            "colorbar": {
             "outlinewidth": 0,
             "ticks": ""
            },
            "type": "choropleth"
           }
          ],
          "contour": [
           {
            "colorbar": {
             "outlinewidth": 0,
             "ticks": ""
            },
            "colorscale": [
             [
              0,
              "#0d0887"
             ],
             [
              0.1111111111111111,
              "#46039f"
             ],
             [
              0.2222222222222222,
              "#7201a8"
             ],
             [
              0.3333333333333333,
              "#9c179e"
             ],
             [
              0.4444444444444444,
              "#bd3786"
             ],
             [
              0.5555555555555556,
              "#d8576b"
             ],
             [
              0.6666666666666666,
              "#ed7953"
             ],
             [
              0.7777777777777778,
              "#fb9f3a"
             ],
             [
              0.8888888888888888,
              "#fdca26"
             ],
             [
              1,
              "#f0f921"
             ]
            ],
            "type": "contour"
           }
          ],
          "contourcarpet": [
           {
            "colorbar": {
             "outlinewidth": 0,
             "ticks": ""
            },
            "type": "contourcarpet"
           }
          ],
          "heatmap": [
           {
            "colorbar": {
             "outlinewidth": 0,
             "ticks": ""
            },
            "colorscale": [
             [
              0,
              "#0d0887"
             ],
             [
              0.1111111111111111,
              "#46039f"
             ],
             [
              0.2222222222222222,
              "#7201a8"
             ],
             [
              0.3333333333333333,
              "#9c179e"
             ],
             [
              0.4444444444444444,
              "#bd3786"
             ],
             [
              0.5555555555555556,
              "#d8576b"
             ],
             [
              0.6666666666666666,
              "#ed7953"
             ],
             [
              0.7777777777777778,
              "#fb9f3a"
             ],
             [
              0.8888888888888888,
              "#fdca26"
             ],
             [
              1,
              "#f0f921"
             ]
            ],
            "type": "heatmap"
           }
          ],
          "heatmapgl": [
           {
            "colorbar": {
             "outlinewidth": 0,
             "ticks": ""
            },
            "colorscale": [
             [
              0,
              "#0d0887"
             ],
             [
              0.1111111111111111,
              "#46039f"
             ],
             [
              0.2222222222222222,
              "#7201a8"
             ],
             [
              0.3333333333333333,
              "#9c179e"
             ],
             [
              0.4444444444444444,
              "#bd3786"
             ],
             [
              0.5555555555555556,
              "#d8576b"
             ],
             [
              0.6666666666666666,
              "#ed7953"
             ],
             [
              0.7777777777777778,
              "#fb9f3a"
             ],
             [
              0.8888888888888888,
              "#fdca26"
             ],
             [
              1,
              "#f0f921"
             ]
            ],
            "type": "heatmapgl"
           }
          ],
          "histogram": [
           {
            "marker": {
             "pattern": {
              "fillmode": "overlay",
              "size": 10,
              "solidity": 0.2
             }
            },
            "type": "histogram"
           }
          ],
          "histogram2d": [
           {
            "colorbar": {
             "outlinewidth": 0,
             "ticks": ""
            },
            "colorscale": [
             [
              0,
              "#0d0887"
             ],
             [
              0.1111111111111111,
              "#46039f"
             ],
             [
              0.2222222222222222,
              "#7201a8"
             ],
             [
              0.3333333333333333,
              "#9c179e"
             ],
             [
              0.4444444444444444,
              "#bd3786"
             ],
             [
              0.5555555555555556,
              "#d8576b"
             ],
             [
              0.6666666666666666,
              "#ed7953"
             ],
             [
              0.7777777777777778,
              "#fb9f3a"
             ],
             [
              0.8888888888888888,
              "#fdca26"
             ],
             [
              1,
              "#f0f921"
             ]
            ],
            "type": "histogram2d"
           }
          ],
          "histogram2dcontour": [
           {
            "colorbar": {
             "outlinewidth": 0,
             "ticks": ""
            },
            "colorscale": [
             [
              0,
              "#0d0887"
             ],
             [
              0.1111111111111111,
              "#46039f"
             ],
             [
              0.2222222222222222,
              "#7201a8"
             ],
             [
              0.3333333333333333,
              "#9c179e"
             ],
             [
              0.4444444444444444,
              "#bd3786"
             ],
             [
              0.5555555555555556,
              "#d8576b"
             ],
             [
              0.6666666666666666,
              "#ed7953"
             ],
             [
              0.7777777777777778,
              "#fb9f3a"
             ],
             [
              0.8888888888888888,
              "#fdca26"
             ],
             [
              1,
              "#f0f921"
             ]
            ],
            "type": "histogram2dcontour"
           }
          ],
          "mesh3d": [
           {
            "colorbar": {
             "outlinewidth": 0,
             "ticks": ""
            },
            "type": "mesh3d"
           }
          ],
          "parcoords": [
           {
            "line": {
             "colorbar": {
              "outlinewidth": 0,
              "ticks": ""
             }
            },
            "type": "parcoords"
           }
          ],
          "pie": [
           {
            "automargin": true,
            "type": "pie"
           }
          ],
          "scatter": [
           {
            "fillpattern": {
             "fillmode": "overlay",
             "size": 10,
             "solidity": 0.2
            },
            "type": "scatter"
           }
          ],
          "scatter3d": [
           {
            "line": {
             "colorbar": {
              "outlinewidth": 0,
              "ticks": ""
             }
            },
            "marker": {
             "colorbar": {
              "outlinewidth": 0,
              "ticks": ""
             }
            },
            "type": "scatter3d"
           }
          ],
          "scattercarpet": [
           {
            "marker": {
             "colorbar": {
              "outlinewidth": 0,
              "ticks": ""
             }
            },
            "type": "scattercarpet"
           }
          ],
          "scattergeo": [
           {
            "marker": {
             "colorbar": {
              "outlinewidth": 0,
              "ticks": ""
             }
            },
            "type": "scattergeo"
           }
          ],
          "scattergl": [
           {
            "marker": {
             "colorbar": {
              "outlinewidth": 0,
              "ticks": ""
             }
            },
            "type": "scattergl"
           }
          ],
          "scattermapbox": [
           {
            "marker": {
             "colorbar": {
              "outlinewidth": 0,
              "ticks": ""
             }
            },
            "type": "scattermapbox"
           }
          ],
          "scatterpolar": [
           {
            "marker": {
             "colorbar": {
              "outlinewidth": 0,
              "ticks": ""
             }
            },
            "type": "scatterpolar"
           }
          ],
          "scatterpolargl": [
           {
            "marker": {
             "colorbar": {
              "outlinewidth": 0,
              "ticks": ""
             }
            },
            "type": "scatterpolargl"
           }
          ],
          "scatterternary": [
           {
            "marker": {
             "colorbar": {
              "outlinewidth": 0,
              "ticks": ""
             }
            },
            "type": "scatterternary"
           }
          ],
          "surface": [
           {
            "colorbar": {
             "outlinewidth": 0,
             "ticks": ""
            },
            "colorscale": [
             [
              0,
              "#0d0887"
             ],
             [
              0.1111111111111111,
              "#46039f"
             ],
             [
              0.2222222222222222,
              "#7201a8"
             ],
             [
              0.3333333333333333,
              "#9c179e"
             ],
             [
              0.4444444444444444,
              "#bd3786"
             ],
             [
              0.5555555555555556,
              "#d8576b"
             ],
             [
              0.6666666666666666,
              "#ed7953"
             ],
             [
              0.7777777777777778,
              "#fb9f3a"
             ],
             [
              0.8888888888888888,
              "#fdca26"
             ],
             [
              1,
              "#f0f921"
             ]
            ],
            "type": "surface"
           }
          ],
          "table": [
           {
            "cells": {
             "fill": {
              "color": "#EBF0F8"
             },
             "line": {
              "color": "white"
             }
            },
            "header": {
             "fill": {
              "color": "#C8D4E3"
             },
             "line": {
              "color": "white"
             }
            },
            "type": "table"
           }
          ]
         },
         "layout": {
          "annotationdefaults": {
           "arrowcolor": "#2a3f5f",
           "arrowhead": 0,
           "arrowwidth": 1
          },
          "autotypenumbers": "strict",
          "coloraxis": {
           "colorbar": {
            "outlinewidth": 0,
            "ticks": ""
           }
          },
          "colorscale": {
           "diverging": [
            [
             0,
             "#8e0152"
            ],
            [
             0.1,
             "#c51b7d"
            ],
            [
             0.2,
             "#de77ae"
            ],
            [
             0.3,
             "#f1b6da"
            ],
            [
             0.4,
             "#fde0ef"
            ],
            [
             0.5,
             "#f7f7f7"
            ],
            [
             0.6,
             "#e6f5d0"
            ],
            [
             0.7,
             "#b8e186"
            ],
            [
             0.8,
             "#7fbc41"
            ],
            [
             0.9,
             "#4d9221"
            ],
            [
             1,
             "#276419"
            ]
           ],
           "sequential": [
            [
             0,
             "#0d0887"
            ],
            [
             0.1111111111111111,
             "#46039f"
            ],
            [
             0.2222222222222222,
             "#7201a8"
            ],
            [
             0.3333333333333333,
             "#9c179e"
            ],
            [
             0.4444444444444444,
             "#bd3786"
            ],
            [
             0.5555555555555556,
             "#d8576b"
            ],
            [
             0.6666666666666666,
             "#ed7953"
            ],
            [
             0.7777777777777778,
             "#fb9f3a"
            ],
            [
             0.8888888888888888,
             "#fdca26"
            ],
            [
             1,
             "#f0f921"
            ]
           ],
           "sequentialminus": [
            [
             0,
             "#0d0887"
            ],
            [
             0.1111111111111111,
             "#46039f"
            ],
            [
             0.2222222222222222,
             "#7201a8"
            ],
            [
             0.3333333333333333,
             "#9c179e"
            ],
            [
             0.4444444444444444,
             "#bd3786"
            ],
            [
             0.5555555555555556,
             "#d8576b"
            ],
            [
             0.6666666666666666,
             "#ed7953"
            ],
            [
             0.7777777777777778,
             "#fb9f3a"
            ],
            [
             0.8888888888888888,
             "#fdca26"
            ],
            [
             1,
             "#f0f921"
            ]
           ]
          },
          "colorway": [
           "#636efa",
           "#EF553B",
           "#00cc96",
           "#ab63fa",
           "#FFA15A",
           "#19d3f3",
           "#FF6692",
           "#B6E880",
           "#FF97FF",
           "#FECB52"
          ],
          "font": {
           "color": "#2a3f5f"
          },
          "geo": {
           "bgcolor": "white",
           "lakecolor": "white",
           "landcolor": "#E5ECF6",
           "showlakes": true,
           "showland": true,
           "subunitcolor": "white"
          },
          "hoverlabel": {
           "align": "left"
          },
          "hovermode": "closest",
          "mapbox": {
           "style": "light"
          },
          "paper_bgcolor": "white",
          "plot_bgcolor": "#E5ECF6",
          "polar": {
           "angularaxis": {
            "gridcolor": "white",
            "linecolor": "white",
            "ticks": ""
           },
           "bgcolor": "#E5ECF6",
           "radialaxis": {
            "gridcolor": "white",
            "linecolor": "white",
            "ticks": ""
           }
          },
          "scene": {
           "xaxis": {
            "backgroundcolor": "#E5ECF6",
            "gridcolor": "white",
            "gridwidth": 2,
            "linecolor": "white",
            "showbackground": true,
            "ticks": "",
            "zerolinecolor": "white"
           },
           "yaxis": {
            "backgroundcolor": "#E5ECF6",
            "gridcolor": "white",
            "gridwidth": 2,
            "linecolor": "white",
            "showbackground": true,
            "ticks": "",
            "zerolinecolor": "white"
           },
           "zaxis": {
            "backgroundcolor": "#E5ECF6",
            "gridcolor": "white",
            "gridwidth": 2,
            "linecolor": "white",
            "showbackground": true,
            "ticks": "",
            "zerolinecolor": "white"
           }
          },
          "shapedefaults": {
           "line": {
            "color": "#2a3f5f"
           }
          },
          "ternary": {
           "aaxis": {
            "gridcolor": "white",
            "linecolor": "white",
            "ticks": ""
           },
           "baxis": {
            "gridcolor": "white",
            "linecolor": "white",
            "ticks": ""
           },
           "bgcolor": "#E5ECF6",
           "caxis": {
            "gridcolor": "white",
            "linecolor": "white",
            "ticks": ""
           }
          },
          "title": {
           "x": 0.05
          },
          "xaxis": {
           "automargin": true,
           "gridcolor": "white",
           "linecolor": "white",
           "ticks": "",
           "title": {
            "standoff": 15
           },
           "zerolinecolor": "white",
           "zerolinewidth": 2
          },
          "yaxis": {
           "automargin": true,
           "gridcolor": "white",
           "linecolor": "white",
           "ticks": "",
           "title": {
            "standoff": 15
           },
           "zerolinecolor": "white",
           "zerolinewidth": 2
          }
         }
        }
       }
      }
     },
     "metadata": {},
     "output_type": "display_data"
    }
   ],
   "source": [
    "MocapLowerLandmark.df2landmark(mocap_df, 100)\n",
    "\n",
    "def plot3d_with_slider(mocap_df) :\n",
    "    n_frames = len(mocap_df)\n",
    "    points_list = np.array(list(map(\n",
    "        lambda idx : MocapLowerLandmark.df2landmark(\n",
    "            mocap_df, idx\n",
    "        ),\n",
    "        range(n_frames)\n",
    "    )))\n",
    "    \n",
    "    points_list_ = np.nan_to_num(points_list.copy(), 0.1)\n",
    "\n",
    "    xmin = points_list_[:, :, 0].min()\n",
    "    xmax = points_list_[:, :, 0].max()\n",
    "    ymin = points_list_[:, :, 1].min()\n",
    "    ymax = points_list_[:, :, 1].max()\n",
    "    zmin = points_list_[:, :, 2].min()\n",
    "    zmax = points_list_[:, :, 2].max()\n",
    "\n",
    "    \n",
    "    connection_idx_list = MocapLowerLandmark.CONN_PATH_LIST\n",
    "    line_color_list = ['red'] * (len(connection_idx_list))\n",
    "    \n",
    "    \n",
    "    fig = go.Figure(\n",
    "        data = go.Scatter3d(\n",
    "            x=[], y=[], z=[],\n",
    "            mode = 'lines+markers+text',\n",
    "            marker=dict(color=\"red\", size=2)\n",
    "        )\n",
    "    )\n",
    "    frame_list = [\n",
    "        go.Frame(\n",
    "            data = list(map(\n",
    "                lambda i, j, c : go.Scatter3d(\n",
    "                    x = points[[i, j], 0],\n",
    "                    y = points[[i, j], 1],\n",
    "                    z = points[[i, j], 2],\n",
    "                    mode = 'lines+markers+text',\n",
    "                    line = dict(\n",
    "                        color = c\n",
    "                    ),\n",
    "                    marker = dict(\n",
    "                        color = c,\n",
    "                        size = 2\n",
    "                    )\n",
    "                ),\n",
    "                connection_idx_list[:-1],\n",
    "                connection_idx_list[1:],\n",
    "                line_color_list\n",
    "            )),\n",
    "            traces=[0],\n",
    "            name=f\"frame{fidx}\"\n",
    "        )\n",
    "        for fidx, points in enumerate(points_list)\n",
    "    ]\n",
    "    fig.update(frames = frames)\n",
    "\n",
    "    def frame_args(duration):\n",
    "        return {\n",
    "            \"frame\": {\"duration\": duration},\n",
    "            \"mode\": \"immediate\",\n",
    "            \"fromcurrent\": True,\n",
    "            \"transition\": {\"duration\": duration, \"easing\": \"linear\"},\n",
    "        }\n",
    "\n",
    "    sliders = [\n",
    "        {\n",
    "            \"pad\": {\"b\": 10, \"t\": 60},\n",
    "            \"len\": 0.9,\n",
    "            \"x\": 0.1,\n",
    "            \"y\": 0,\n",
    "            \"steps\": [\n",
    "                {\n",
    "                    \"args\": [[f.name], frame_args(0)],\n",
    "                    \"label\": str(k),\n",
    "                    \"method\": \"animate\",\n",
    "                } for k, f in enumerate(fig.frames)\n",
    "            ]\n",
    "        }\n",
    "    ]\n",
    "\n",
    "    fig.update_layout(\n",
    "        updatemenus = [\n",
    "            {\n",
    "                \"buttons\":[\n",
    "                    {\n",
    "                        \"args\": [None, frame_args(50)],\n",
    "                        \"label\": \"Play\", \n",
    "                        \"method\": \"animate\",\n",
    "                    },\n",
    "                    {\n",
    "                        \"args\": [[None], frame_args(0)],\n",
    "                        \"label\": \"Pause\", \n",
    "                        \"method\": \"animate\",\n",
    "                    }\n",
    "                ],    \n",
    "                \"direction\": \"left\",\n",
    "                \"pad\": {\"r\": 10, \"t\": 70},\n",
    "                \"type\": \"buttons\",\n",
    "                \"x\": 0.1,\n",
    "                \"y\": 0,\n",
    "            }\n",
    "        ],\n",
    "        sliders=sliders\n",
    "    )\n",
    "\n",
    "    layout = go.Layout(\n",
    "        scene = dict(\n",
    "            camera = dict(\n",
    "                eye = dict(x=-1, y = -1, z = 1)\n",
    "            ),\n",
    "            aspectmode=\"data\"\n",
    "        )\n",
    "    )\n",
    "    fig.layout = layout\n",
    "\n",
    "    max_range = max(xmax-xmin, ymax-ymin, zmax, zmin)\n",
    "    #max_range = np.max(np.ptp(points_list[0], axis=0))\n",
    "    #xmin, ymin, zmin = points_list[0].min(axis=0)\n",
    "\n",
    "    fig.update_layout(scene=dict(aspectmode='cube'))\n",
    "    fig.update_layout(\n",
    "        scene=dict(\n",
    "            xaxis = dict(range=[xmin-0.1, xmin + max_range+ 0.1]),\n",
    "            yaxis = dict(range=[ymin-0.1, ymin + max_range+ 0.1]),\n",
    "            zaxis = dict(range=[zmin-0.1, zmin + max_range+ 0.1])\n",
    "        )\n",
    "    )\n",
    "\n",
    "\n",
    "\n",
    "    fig.update_layout(sliders=sliders)\n",
    "    fig.show()\n",
    "\n",
    "plot3d_with_slider(mocap_df)"
   ]
  },
  {
   "cell_type": "code",
   "execution_count": 56,
   "metadata": {},
   "outputs": [
    {
     "data": {
      "text/plain": [
       "(0.0, 0.575867, 0.0, 0.993897, 0.0, 0.836932)"
      ]
     },
     "execution_count": 56,
     "metadata": {},
     "output_type": "execute_result"
    }
   ],
   "source": [
    "n_frames = len(mocap_df)\n",
    "points_list = np.array(list(map(\n",
    "    lambda idx : MocapLowerLandmark.df2landmark(\n",
    "        mocap_df, idx\n",
    "    ),\n",
    "    range(n_frames)\n",
    ")))\n",
    "\n",
    "points_list_ = np.nan_to_num(points_list.copy(), 0.1)\n",
    "\n",
    "xmin = points_list_[:, :, 0].min()\n",
    "xmax = points_list_[:, :, 0].max()\n",
    "ymin = points_list_[:, :, 1].min()\n",
    "ymax = points_list_[:, :, 1].max()\n",
    "zmin = points_list_[:, :, 2].min()\n",
    "zmax = points_list_[:, :, 2].max()\n",
    "\n",
    "xmin, xmax, ymin, ymax, zmin, zmax"
   ]
  },
  {
   "cell_type": "code",
   "execution_count": 58,
   "metadata": {},
   "outputs": [
    {
     "data": {
      "text/plain": [
       "3"
      ]
     },
     "execution_count": 58,
     "metadata": {},
     "output_type": "execute_result"
    }
   ],
   "source": [
    "max(1, 2, 3)"
   ]
  },
  {
   "cell_type": "code",
   "execution_count": 80,
   "metadata": {},
   "outputs": [
    {
     "data": {
      "application/vnd.plotly.v1+json": {
       "config": {
        "plotlyServerURL": "https://plot.ly"
       },
       "data": [
        {
         "line": {
          "color": "red"
         },
         "marker": {
          "color": "red",
          "size": 2
         },
         "mode": "lines+markers+text",
         "type": "scatter3d",
         "x": [
          0.198872,
          0.369634
         ],
         "y": [
          0.05138,
          0.081645
         ],
         "z": [
          0.772931,
          0.693437
         ]
        },
        {
         "line": {
          "color": "red"
         },
         "marker": {
          "color": "red",
          "size": 2
         },
         "mode": "lines+markers+text",
         "type": "scatter3d",
         "x": [
          0.369634,
          0.338916
         ],
         "y": [
          0.081645,
          0.084436
         ],
         "z": [
          0.693437,
          0.752809
         ]
        },
        {
         "line": {
          "color": "red"
         },
         "marker": {
          "color": "red",
          "size": 2
         },
         "mode": "lines+markers+text",
         "type": "scatter3d",
         "x": [
          0.338916,
          0.297212
         ],
         "y": [
          0.084436,
          0.513621
         ],
         "z": [
          0.752809,
          0.717409
         ]
        },
        {
         "line": {
          "color": "red"
         },
         "marker": {
          "color": "red",
          "size": 2
         },
         "mode": "lines+markers+text",
         "type": "scatter3d",
         "x": [
          0.297212,
          0.191586
         ],
         "y": [
          0.513621,
          0.983734
         ],
         "z": [
          0.717409,
          0.667026
         ]
        },
        {
         "line": {
          "color": "red"
         },
         "marker": {
          "color": "red",
          "size": 2
         },
         "mode": "lines+markers+text",
         "type": "scatter3d",
         "x": [
          0.191586,
          0.37478
         ],
         "y": [
          0.983734,
          0.988316
         ],
         "z": [
          0.667026,
          0.572416
         ]
        },
        {
         "line": {
          "color": "red"
         },
         "marker": {
          "color": "red",
          "size": 2
         },
         "mode": "lines+markers+text",
         "type": "scatter3d",
         "x": [
          0.37478,
          0.373585
         ],
         "y": [
          0.988316,
          0.984046
         ],
         "z": [
          0.572416,
          0.465982
         ]
        },
        {
         "line": {
          "color": "red"
         },
         "marker": {
          "color": "red",
          "size": 2
         },
         "mode": "lines+markers+text",
         "type": "scatter3d",
         "x": [
          0.373585,
          0.180945
         ],
         "y": [
          0.984046,
          0.968375
         ],
         "z": [
          0.465982,
          0.393901
         ]
        },
        {
         "line": {
          "color": "red"
         },
         "marker": {
          "color": "red",
          "size": 2
         },
         "mode": "lines+markers+text",
         "type": "scatter3d",
         "x": [
          0.180945,
          0.292822
         ],
         "y": [
          0.968375,
          0.515068
         ],
         "z": [
          0.393901,
          0.313044
         ]
        },
        {
         "line": {
          "color": "red"
         },
         "marker": {
          "color": "red",
          "size": 2
         },
         "mode": "lines+markers+text",
         "type": "scatter3d",
         "x": [
          0.292822,
          0.353347
         ],
         "y": [
          0.515068,
          0.077524
         ],
         "z": [
          0.313044,
          0.27215
         ]
        },
        {
         "line": {
          "color": "red"
         },
         "marker": {
          "color": "red",
          "size": 2
         },
         "mode": "lines+markers+text",
         "type": "scatter3d",
         "x": [
          0.353347,
          0.377832
         ],
         "y": [
          0.077524,
          0.077757
         ],
         "z": [
          0.27215,
          0.331774
         ]
        },
        {
         "line": {
          "color": "red"
         },
         "marker": {
          "color": "red",
          "size": 2
         },
         "mode": "lines+markers+text",
         "type": "scatter3d",
         "x": [
          0.377832,
          0.193287
         ],
         "y": [
          0.077757,
          0.041243
         ],
         "z": [
          0.331774,
          0.244515
         ]
        }
       ],
       "layout": {
        "scene": {
         "xaxis": {
          "autorange": false,
          "range": [
           0.284724,
           0.2947
          ]
         },
         "yaxis": {
          "autorange": false,
          "range": [
           0.587054,
           0.59291
          ]
         },
         "zaxis": {
          "autorange": false,
          "range": [
           0.706718,
           0.718887
          ]
         }
        },
        "sliders": [
         {
          "len": 0.9,
          "pad": {
           "b": 10,
           "t": 60
          },
          "x": 0.1,
          "y": 0
         }
        ],
        "template": {
         "data": {
          "bar": [
           {
            "error_x": {
             "color": "#2a3f5f"
            },
            "error_y": {
             "color": "#2a3f5f"
            },
            "marker": {
             "line": {
              "color": "#E5ECF6",
              "width": 0.5
             },
             "pattern": {
              "fillmode": "overlay",
              "size": 10,
              "solidity": 0.2
             }
            },
            "type": "bar"
           }
          ],
          "barpolar": [
           {
            "marker": {
             "line": {
              "color": "#E5ECF6",
              "width": 0.5
             },
             "pattern": {
              "fillmode": "overlay",
              "size": 10,
              "solidity": 0.2
             }
            },
            "type": "barpolar"
           }
          ],
          "carpet": [
           {
            "aaxis": {
             "endlinecolor": "#2a3f5f",
             "gridcolor": "white",
             "linecolor": "white",
             "minorgridcolor": "white",
             "startlinecolor": "#2a3f5f"
            },
            "baxis": {
             "endlinecolor": "#2a3f5f",
             "gridcolor": "white",
             "linecolor": "white",
             "minorgridcolor": "white",
             "startlinecolor": "#2a3f5f"
            },
            "type": "carpet"
           }
          ],
          "choropleth": [
           {
            "colorbar": {
             "outlinewidth": 0,
             "ticks": ""
            },
            "type": "choropleth"
           }
          ],
          "contour": [
           {
            "colorbar": {
             "outlinewidth": 0,
             "ticks": ""
            },
            "colorscale": [
             [
              0,
              "#0d0887"
             ],
             [
              0.1111111111111111,
              "#46039f"
             ],
             [
              0.2222222222222222,
              "#7201a8"
             ],
             [
              0.3333333333333333,
              "#9c179e"
             ],
             [
              0.4444444444444444,
              "#bd3786"
             ],
             [
              0.5555555555555556,
              "#d8576b"
             ],
             [
              0.6666666666666666,
              "#ed7953"
             ],
             [
              0.7777777777777778,
              "#fb9f3a"
             ],
             [
              0.8888888888888888,
              "#fdca26"
             ],
             [
              1,
              "#f0f921"
             ]
            ],
            "type": "contour"
           }
          ],
          "contourcarpet": [
           {
            "colorbar": {
             "outlinewidth": 0,
             "ticks": ""
            },
            "type": "contourcarpet"
           }
          ],
          "heatmap": [
           {
            "colorbar": {
             "outlinewidth": 0,
             "ticks": ""
            },
            "colorscale": [
             [
              0,
              "#0d0887"
             ],
             [
              0.1111111111111111,
              "#46039f"
             ],
             [
              0.2222222222222222,
              "#7201a8"
             ],
             [
              0.3333333333333333,
              "#9c179e"
             ],
             [
              0.4444444444444444,
              "#bd3786"
             ],
             [
              0.5555555555555556,
              "#d8576b"
             ],
             [
              0.6666666666666666,
              "#ed7953"
             ],
             [
              0.7777777777777778,
              "#fb9f3a"
             ],
             [
              0.8888888888888888,
              "#fdca26"
             ],
             [
              1,
              "#f0f921"
             ]
            ],
            "type": "heatmap"
           }
          ],
          "heatmapgl": [
           {
            "colorbar": {
             "outlinewidth": 0,
             "ticks": ""
            },
            "colorscale": [
             [
              0,
              "#0d0887"
             ],
             [
              0.1111111111111111,
              "#46039f"
             ],
             [
              0.2222222222222222,
              "#7201a8"
             ],
             [
              0.3333333333333333,
              "#9c179e"
             ],
             [
              0.4444444444444444,
              "#bd3786"
             ],
             [
              0.5555555555555556,
              "#d8576b"
             ],
             [
              0.6666666666666666,
              "#ed7953"
             ],
             [
              0.7777777777777778,
              "#fb9f3a"
             ],
             [
              0.8888888888888888,
              "#fdca26"
             ],
             [
              1,
              "#f0f921"
             ]
            ],
            "type": "heatmapgl"
           }
          ],
          "histogram": [
           {
            "marker": {
             "pattern": {
              "fillmode": "overlay",
              "size": 10,
              "solidity": 0.2
             }
            },
            "type": "histogram"
           }
          ],
          "histogram2d": [
           {
            "colorbar": {
             "outlinewidth": 0,
             "ticks": ""
            },
            "colorscale": [
             [
              0,
              "#0d0887"
             ],
             [
              0.1111111111111111,
              "#46039f"
             ],
             [
              0.2222222222222222,
              "#7201a8"
             ],
             [
              0.3333333333333333,
              "#9c179e"
             ],
             [
              0.4444444444444444,
              "#bd3786"
             ],
             [
              0.5555555555555556,
              "#d8576b"
             ],
             [
              0.6666666666666666,
              "#ed7953"
             ],
             [
              0.7777777777777778,
              "#fb9f3a"
             ],
             [
              0.8888888888888888,
              "#fdca26"
             ],
             [
              1,
              "#f0f921"
             ]
            ],
            "type": "histogram2d"
           }
          ],
          "histogram2dcontour": [
           {
            "colorbar": {
             "outlinewidth": 0,
             "ticks": ""
            },
            "colorscale": [
             [
              0,
              "#0d0887"
             ],
             [
              0.1111111111111111,
              "#46039f"
             ],
             [
              0.2222222222222222,
              "#7201a8"
             ],
             [
              0.3333333333333333,
              "#9c179e"
             ],
             [
              0.4444444444444444,
              "#bd3786"
             ],
             [
              0.5555555555555556,
              "#d8576b"
             ],
             [
              0.6666666666666666,
              "#ed7953"
             ],
             [
              0.7777777777777778,
              "#fb9f3a"
             ],
             [
              0.8888888888888888,
              "#fdca26"
             ],
             [
              1,
              "#f0f921"
             ]
            ],
            "type": "histogram2dcontour"
           }
          ],
          "mesh3d": [
           {
            "colorbar": {
             "outlinewidth": 0,
             "ticks": ""
            },
            "type": "mesh3d"
           }
          ],
          "parcoords": [
           {
            "line": {
             "colorbar": {
              "outlinewidth": 0,
              "ticks": ""
             }
            },
            "type": "parcoords"
           }
          ],
          "pie": [
           {
            "automargin": true,
            "type": "pie"
           }
          ],
          "scatter": [
           {
            "fillpattern": {
             "fillmode": "overlay",
             "size": 10,
             "solidity": 0.2
            },
            "type": "scatter"
           }
          ],
          "scatter3d": [
           {
            "line": {
             "colorbar": {
              "outlinewidth": 0,
              "ticks": ""
             }
            },
            "marker": {
             "colorbar": {
              "outlinewidth": 0,
              "ticks": ""
             }
            },
            "type": "scatter3d"
           }
          ],
          "scattercarpet": [
           {
            "marker": {
             "colorbar": {
              "outlinewidth": 0,
              "ticks": ""
             }
            },
            "type": "scattercarpet"
           }
          ],
          "scattergeo": [
           {
            "marker": {
             "colorbar": {
              "outlinewidth": 0,
              "ticks": ""
             }
            },
            "type": "scattergeo"
           }
          ],
          "scattergl": [
           {
            "marker": {
             "colorbar": {
              "outlinewidth": 0,
              "ticks": ""
             }
            },
            "type": "scattergl"
           }
          ],
          "scattermapbox": [
           {
            "marker": {
             "colorbar": {
              "outlinewidth": 0,
              "ticks": ""
             }
            },
            "type": "scattermapbox"
           }
          ],
          "scatterpolar": [
           {
            "marker": {
             "colorbar": {
              "outlinewidth": 0,
              "ticks": ""
             }
            },
            "type": "scatterpolar"
           }
          ],
          "scatterpolargl": [
           {
            "marker": {
             "colorbar": {
              "outlinewidth": 0,
              "ticks": ""
             }
            },
            "type": "scatterpolargl"
           }
          ],
          "scatterternary": [
           {
            "marker": {
             "colorbar": {
              "outlinewidth": 0,
              "ticks": ""
             }
            },
            "type": "scatterternary"
           }
          ],
          "surface": [
           {
            "colorbar": {
             "outlinewidth": 0,
             "ticks": ""
            },
            "colorscale": [
             [
              0,
              "#0d0887"
             ],
             [
              0.1111111111111111,
              "#46039f"
             ],
             [
              0.2222222222222222,
              "#7201a8"
             ],
             [
              0.3333333333333333,
              "#9c179e"
             ],
             [
              0.4444444444444444,
              "#bd3786"
             ],
             [
              0.5555555555555556,
              "#d8576b"
             ],
             [
              0.6666666666666666,
              "#ed7953"
             ],
             [
              0.7777777777777778,
              "#fb9f3a"
             ],
             [
              0.8888888888888888,
              "#fdca26"
             ],
             [
              1,
              "#f0f921"
             ]
            ],
            "type": "surface"
           }
          ],
          "table": [
           {
            "cells": {
             "fill": {
              "color": "#EBF0F8"
             },
             "line": {
              "color": "white"
             }
            },
            "header": {
             "fill": {
              "color": "#C8D4E3"
             },
             "line": {
              "color": "white"
             }
            },
            "type": "table"
           }
          ]
         },
         "layout": {
          "annotationdefaults": {
           "arrowcolor": "#2a3f5f",
           "arrowhead": 0,
           "arrowwidth": 1
          },
          "autotypenumbers": "strict",
          "coloraxis": {
           "colorbar": {
            "outlinewidth": 0,
            "ticks": ""
           }
          },
          "colorscale": {
           "diverging": [
            [
             0,
             "#8e0152"
            ],
            [
             0.1,
             "#c51b7d"
            ],
            [
             0.2,
             "#de77ae"
            ],
            [
             0.3,
             "#f1b6da"
            ],
            [
             0.4,
             "#fde0ef"
            ],
            [
             0.5,
             "#f7f7f7"
            ],
            [
             0.6,
             "#e6f5d0"
            ],
            [
             0.7,
             "#b8e186"
            ],
            [
             0.8,
             "#7fbc41"
            ],
            [
             0.9,
             "#4d9221"
            ],
            [
             1,
             "#276419"
            ]
           ],
           "sequential": [
            [
             0,
             "#0d0887"
            ],
            [
             0.1111111111111111,
             "#46039f"
            ],
            [
             0.2222222222222222,
             "#7201a8"
            ],
            [
             0.3333333333333333,
             "#9c179e"
            ],
            [
             0.4444444444444444,
             "#bd3786"
            ],
            [
             0.5555555555555556,
             "#d8576b"
            ],
            [
             0.6666666666666666,
             "#ed7953"
            ],
            [
             0.7777777777777778,
             "#fb9f3a"
            ],
            [
             0.8888888888888888,
             "#fdca26"
            ],
            [
             1,
             "#f0f921"
            ]
           ],
           "sequentialminus": [
            [
             0,
             "#0d0887"
            ],
            [
             0.1111111111111111,
             "#46039f"
            ],
            [
             0.2222222222222222,
             "#7201a8"
            ],
            [
             0.3333333333333333,
             "#9c179e"
            ],
            [
             0.4444444444444444,
             "#bd3786"
            ],
            [
             0.5555555555555556,
             "#d8576b"
            ],
            [
             0.6666666666666666,
             "#ed7953"
            ],
            [
             0.7777777777777778,
             "#fb9f3a"
            ],
            [
             0.8888888888888888,
             "#fdca26"
            ],
            [
             1,
             "#f0f921"
            ]
           ]
          },
          "colorway": [
           "#636efa",
           "#EF553B",
           "#00cc96",
           "#ab63fa",
           "#FFA15A",
           "#19d3f3",
           "#FF6692",
           "#B6E880",
           "#FF97FF",
           "#FECB52"
          ],
          "font": {
           "color": "#2a3f5f"
          },
          "geo": {
           "bgcolor": "white",
           "lakecolor": "white",
           "landcolor": "#E5ECF6",
           "showlakes": true,
           "showland": true,
           "subunitcolor": "white"
          },
          "hoverlabel": {
           "align": "left"
          },
          "hovermode": "closest",
          "mapbox": {
           "style": "light"
          },
          "paper_bgcolor": "white",
          "plot_bgcolor": "#E5ECF6",
          "polar": {
           "angularaxis": {
            "gridcolor": "white",
            "linecolor": "white",
            "ticks": ""
           },
           "bgcolor": "#E5ECF6",
           "radialaxis": {
            "gridcolor": "white",
            "linecolor": "white",
            "ticks": ""
           }
          },
          "scene": {
           "xaxis": {
            "backgroundcolor": "#E5ECF6",
            "gridcolor": "white",
            "gridwidth": 2,
            "linecolor": "white",
            "showbackground": true,
            "ticks": "",
            "zerolinecolor": "white"
           },
           "yaxis": {
            "backgroundcolor": "#E5ECF6",
            "gridcolor": "white",
            "gridwidth": 2,
            "linecolor": "white",
            "showbackground": true,
            "ticks": "",
            "zerolinecolor": "white"
           },
           "zaxis": {
            "backgroundcolor": "#E5ECF6",
            "gridcolor": "white",
            "gridwidth": 2,
            "linecolor": "white",
            "showbackground": true,
            "ticks": "",
            "zerolinecolor": "white"
           }
          },
          "shapedefaults": {
           "line": {
            "color": "#2a3f5f"
           }
          },
          "ternary": {
           "aaxis": {
            "gridcolor": "white",
            "linecolor": "white",
            "ticks": ""
           },
           "baxis": {
            "gridcolor": "white",
            "linecolor": "white",
            "ticks": ""
           },
           "bgcolor": "#E5ECF6",
           "caxis": {
            "gridcolor": "white",
            "linecolor": "white",
            "ticks": ""
           }
          },
          "title": {
           "x": 0.05
          },
          "xaxis": {
           "automargin": true,
           "gridcolor": "white",
           "linecolor": "white",
           "ticks": "",
           "title": {
            "standoff": 15
           },
           "zerolinecolor": "white",
           "zerolinewidth": 2
          },
          "yaxis": {
           "automargin": true,
           "gridcolor": "white",
           "linecolor": "white",
           "ticks": "",
           "title": {
            "standoff": 15
           },
           "zerolinecolor": "white",
           "zerolinewidth": 2
          }
         }
        },
        "updatemenus": [
         {
          "buttons": [
           {
            "args": [
             null,
             {
              "frame": {
               "duration": 50
              },
              "fromcurrent": true,
              "mode": "immediate",
              "transition": {
               "duration": 50,
               "easing": "linear"
              }
             }
            ],
            "label": "Play",
            "method": "animate"
           },
           {
            "args": [
             [
              null
             ],
             {
              "frame": {
               "duration": 0
              },
              "fromcurrent": true,
              "mode": "immediate",
              "transition": {
               "duration": 0,
               "easing": "linear"
              }
             }
            ],
            "label": "Pause",
            "method": "animate"
           }
          ],
          "direction": "left",
          "pad": {
           "r": 10,
           "t": 70
          },
          "type": "buttons",
          "x": 0.1,
          "y": 0
         }
        ]
       }
      }
     },
     "metadata": {},
     "output_type": "display_data"
    }
   ],
   "source": [
    "##\n",
    "\n",
    "import numpy as np\n",
    "import plotly.graph_objects as go\n",
    "\n",
    "n_frames = len(mocap_df)\n",
    "points_list = np.array(list(map(\n",
    "    lambda idx : MocapLowerLandmark.df2landmark(\n",
    "        mocap_df, idx\n",
    "    ),\n",
    "    range(n_frames)\n",
    ")))\n",
    "points_list_ = np.nan_to_num(points_list.copy(), 0.1)\n",
    "\n",
    "xmin = points_list_[:, :, 0].min()\n",
    "xmax = points_list_[:, :, 0].max()\n",
    "ymin = points_list_[:, :, 1].min()\n",
    "ymax = points_list_[:, :, 1].max()\n",
    "zmin = points_list_[:, :, 2].min()\n",
    "zmax = points_list_[:, :, 2].max()\n",
    "\n",
    "connection_idx_list = MocapLowerLandmark.CONN_PATH_LIST\n",
    "line_color_list = ['red'] * (len(connection_idx_list))\n",
    "\n",
    "'''\n",
    "lidx = 0\n",
    "ridx = 100\n",
    "jidx = 5\n",
    "x = points_list[lidx:ridx, jidx, 0]\n",
    "y = points_list[lidx:ridx, jidx, 1]\n",
    "z = points_list[lidx:ridx, jidx, 2]\n",
    "\n",
    "print(x)\n",
    "print(y)\n",
    "print(z)\n",
    "'''\n",
    "\n",
    "# Create figure\n",
    "'''\n",
    "fig = go.Figure(\n",
    "    data = go.Scatter3d(\n",
    "        x=[], y=[], z=[],\n",
    "        mode=\"markers\",\n",
    "        marker=dict(color=\"red\", size=10)\n",
    "    )\n",
    ")\n",
    "'''\n",
    "\n",
    "points = points_list[0]\n",
    "fig = go.Figure(\n",
    "    data = list(map(\n",
    "        lambda i, j, c : go.Scatter3d(\n",
    "            x = points[[i, j], 0],\n",
    "            y = points[[i, j], 1],\n",
    "            z = points[[i, j], 2],\n",
    "            mode = 'lines+markers+text',\n",
    "            line = dict(\n",
    "                color = c\n",
    "            ),\n",
    "            marker = dict(\n",
    "                color = c,\n",
    "                size = 2\n",
    "            )\n",
    "        ),\n",
    "        connection_idx_list[:-1],\n",
    "        connection_idx_list[1:],\n",
    "        line_color_list\n",
    "    ))\n",
    ")\n",
    "\n",
    "# Frames\n",
    "'''\n",
    "frames = [\n",
    "    go.Frame(\n",
    "        data = [\n",
    "            go.Scatter3d(\n",
    "                x=x[[k]],\n",
    "                y=y[[k]],\n",
    "                z=z[[k]]\n",
    "            )\n",
    "        ],\n",
    "        traces= [0],\n",
    "        name=f'frame{k}'      \n",
    "    )for k  in  range(len(x)-1)\n",
    "]\n",
    "fig.update(frames=frames)\n",
    "'''\n",
    "frames = [\n",
    "    go.Frame(\n",
    "        data = list(map(\n",
    "            lambda i, j, c : go.Scatter3d(\n",
    "                x = points[[i, j], 0],\n",
    "                y = points[[i, j], 1],\n",
    "                z = points[[i, j], 2],\n",
    "            ),\n",
    "            connection_idx_list[:-1],\n",
    "            connection_idx_list[1:],\n",
    "            line_color_list\n",
    "        )),\n",
    "        traces= [0],\n",
    "        name=f'frame{k}'      \n",
    "    )\n",
    "    for k, points in enumerate(points_list)\n",
    "\n",
    "]\n",
    "#fig.update(frames=frames)\n",
    "\n",
    "\n",
    "\n",
    "def frame_args(duration):\n",
    "    return {\n",
    "        \"frame\": {\"duration\": duration},\n",
    "        \"mode\": \"immediate\",\n",
    "        \"fromcurrent\": True,\n",
    "        \"transition\": {\"duration\": duration, \"easing\": \"linear\"},\n",
    "    }\n",
    "\n",
    "\n",
    "sliders = [\n",
    "    {\n",
    "        \"pad\": {\"b\": 10, \"t\": 60},\n",
    "        \"len\": 0.9,\n",
    "        \"x\": 0.1,\n",
    "        \"y\": 0,\n",
    "        \"steps\": [\n",
    "            {\n",
    "                \"args\": [[f.name], frame_args(0)],\n",
    "                \"label\": str(k),\n",
    "                \"method\": \"animate\",\n",
    "            } for k, f in enumerate(fig.frames)\n",
    "        ]\n",
    "    }\n",
    "]\n",
    "\n",
    "fig.update_layout(\n",
    "    updatemenus = [\n",
    "        {\n",
    "            \"buttons\":[\n",
    "                {\n",
    "                    \"args\": [None, frame_args(50)],\n",
    "                    \"label\": \"Play\", \n",
    "                    \"method\": \"animate\",\n",
    "                },\n",
    "                {\n",
    "                    \"args\": [[None], frame_args(0)],\n",
    "                    \"label\": \"Pause\", \n",
    "                    \"method\": \"animate\",\n",
    "                }\n",
    "            ],    \n",
    "            \"direction\": \"left\",\n",
    "            \"pad\": {\"r\": 10, \"t\": 70},\n",
    "            \"type\": \"buttons\",\n",
    "            \"x\": 0.1,\n",
    "            \"y\": 0,\n",
    "        }\n",
    "    ],\n",
    "    sliders=sliders\n",
    ")\n",
    "\n",
    "fig.update_layout(\n",
    "    scene = dict(\n",
    "        xaxis=dict(range=[min(x), max(x)],autorange=False),\n",
    "        yaxis=dict(range=[min(y), max(y)], autorange=False),\n",
    "        zaxis=dict(range=[min(z), max(z)], autorange=False)\n",
    "    )\n",
    ")\n",
    "\n",
    "\n",
    "fig.update_layout(sliders=sliders)\n",
    "fig.show()"
   ]
  },
  {
   "cell_type": "code",
   "execution_count": 73,
   "metadata": {},
   "outputs": [
    {
     "name": "stdout",
     "output_type": "stream",
     "text": [
      "0 (16, 3)\n",
      "1 (16, 3)\n",
      "2 (16, 3)\n",
      "3 (16, 3)\n",
      "4 (16, 3)\n",
      "5 (16, 3)\n",
      "6 (16, 3)\n",
      "7 (16, 3)\n",
      "8 (16, 3)\n",
      "9 (16, 3)\n",
      "10 (16, 3)\n",
      "11 (16, 3)\n",
      "12 (16, 3)\n",
      "13 (16, 3)\n",
      "14 (16, 3)\n",
      "15 (16, 3)\n",
      "16 (16, 3)\n",
      "17 (16, 3)\n",
      "18 (16, 3)\n",
      "19 (16, 3)\n",
      "20 (16, 3)\n",
      "21 (16, 3)\n",
      "22 (16, 3)\n",
      "23 (16, 3)\n",
      "24 (16, 3)\n",
      "25 (16, 3)\n",
      "26 (16, 3)\n",
      "27 (16, 3)\n",
      "28 (16, 3)\n",
      "29 (16, 3)\n",
      "30 (16, 3)\n",
      "31 (16, 3)\n",
      "32 (16, 3)\n",
      "33 (16, 3)\n",
      "34 (16, 3)\n",
      "35 (16, 3)\n",
      "36 (16, 3)\n",
      "37 (16, 3)\n",
      "38 (16, 3)\n",
      "39 (16, 3)\n",
      "40 (16, 3)\n",
      "41 (16, 3)\n",
      "42 (16, 3)\n",
      "43 (16, 3)\n",
      "44 (16, 3)\n",
      "45 (16, 3)\n",
      "46 (16, 3)\n",
      "47 (16, 3)\n",
      "48 (16, 3)\n",
      "49 (16, 3)\n",
      "50 (16, 3)\n",
      "51 (16, 3)\n",
      "52 (16, 3)\n",
      "53 (16, 3)\n",
      "54 (16, 3)\n",
      "55 (16, 3)\n",
      "56 (16, 3)\n",
      "57 (16, 3)\n",
      "58 (16, 3)\n",
      "59 (16, 3)\n",
      "60 (16, 3)\n",
      "61 (16, 3)\n",
      "62 (16, 3)\n",
      "63 (16, 3)\n",
      "64 (16, 3)\n",
      "65 (16, 3)\n",
      "66 (16, 3)\n",
      "67 (16, 3)\n",
      "68 (16, 3)\n",
      "69 (16, 3)\n",
      "70 (16, 3)\n",
      "71 (16, 3)\n",
      "72 (16, 3)\n",
      "73 (16, 3)\n",
      "74 (16, 3)\n",
      "75 (16, 3)\n",
      "76 (16, 3)\n",
      "77 (16, 3)\n",
      "78 (16, 3)\n",
      "79 (16, 3)\n",
      "80 (16, 3)\n",
      "81 (16, 3)\n",
      "82 (16, 3)\n",
      "83 (16, 3)\n",
      "84 (16, 3)\n",
      "85 (16, 3)\n",
      "86 (16, 3)\n",
      "87 (16, 3)\n",
      "88 (16, 3)\n",
      "89 (16, 3)\n",
      "90 (16, 3)\n",
      "91 (16, 3)\n",
      "92 (16, 3)\n",
      "93 (16, 3)\n",
      "94 (16, 3)\n",
      "95 (16, 3)\n",
      "96 (16, 3)\n",
      "97 (16, 3)\n",
      "98 (16, 3)\n",
      "99 (16, 3)\n",
      "100 (16, 3)\n",
      "101 (16, 3)\n",
      "102 (16, 3)\n",
      "103 (16, 3)\n",
      "104 (16, 3)\n",
      "105 (16, 3)\n",
      "106 (16, 3)\n",
      "107 (16, 3)\n",
      "108 (16, 3)\n",
      "109 (16, 3)\n",
      "110 (16, 3)\n",
      "111 (16, 3)\n",
      "112 (16, 3)\n",
      "113 (16, 3)\n",
      "114 (16, 3)\n",
      "115 (16, 3)\n",
      "116 (16, 3)\n",
      "117 (16, 3)\n",
      "118 (16, 3)\n",
      "119 (16, 3)\n",
      "120 (16, 3)\n",
      "121 (16, 3)\n",
      "122 (16, 3)\n",
      "123 (16, 3)\n",
      "124 (16, 3)\n",
      "125 (16, 3)\n",
      "126 (16, 3)\n",
      "127 (16, 3)\n",
      "128 (16, 3)\n",
      "129 (16, 3)\n",
      "130 (16, 3)\n",
      "131 (16, 3)\n",
      "132 (16, 3)\n",
      "133 (16, 3)\n",
      "134 (16, 3)\n",
      "135 (16, 3)\n",
      "136 (16, 3)\n",
      "137 (16, 3)\n",
      "138 (16, 3)\n",
      "139 (16, 3)\n",
      "140 (16, 3)\n",
      "141 (16, 3)\n",
      "142 (16, 3)\n",
      "143 (16, 3)\n",
      "144 (16, 3)\n",
      "145 (16, 3)\n",
      "146 (16, 3)\n",
      "147 (16, 3)\n",
      "148 (16, 3)\n",
      "149 (16, 3)\n",
      "150 (16, 3)\n",
      "151 (16, 3)\n",
      "152 (16, 3)\n",
      "153 (16, 3)\n",
      "154 (16, 3)\n",
      "155 (16, 3)\n",
      "156 (16, 3)\n",
      "157 (16, 3)\n",
      "158 (16, 3)\n",
      "159 (16, 3)\n",
      "160 (16, 3)\n",
      "161 (16, 3)\n",
      "162 (16, 3)\n",
      "163 (16, 3)\n",
      "164 (16, 3)\n",
      "165 (16, 3)\n",
      "166 (16, 3)\n",
      "167 (16, 3)\n",
      "168 (16, 3)\n",
      "169 (16, 3)\n",
      "170 (16, 3)\n",
      "171 (16, 3)\n",
      "172 (16, 3)\n",
      "173 (16, 3)\n",
      "174 (16, 3)\n",
      "175 (16, 3)\n",
      "176 (16, 3)\n",
      "177 (16, 3)\n",
      "178 (16, 3)\n",
      "179 (16, 3)\n",
      "180 (16, 3)\n",
      "181 (16, 3)\n",
      "182 (16, 3)\n",
      "183 (16, 3)\n",
      "184 (16, 3)\n",
      "185 (16, 3)\n",
      "186 (16, 3)\n",
      "187 (16, 3)\n",
      "188 (16, 3)\n",
      "189 (16, 3)\n",
      "190 (16, 3)\n",
      "191 (16, 3)\n",
      "192 (16, 3)\n",
      "193 (16, 3)\n",
      "194 (16, 3)\n",
      "195 (16, 3)\n",
      "196 (16, 3)\n",
      "197 (16, 3)\n",
      "198 (16, 3)\n",
      "199 (16, 3)\n",
      "200 (16, 3)\n",
      "201 (16, 3)\n",
      "202 (16, 3)\n",
      "203 (16, 3)\n",
      "204 (16, 3)\n",
      "205 (16, 3)\n",
      "206 (16, 3)\n",
      "207 (16, 3)\n",
      "208 (16, 3)\n",
      "209 (16, 3)\n",
      "210 (16, 3)\n",
      "211 (16, 3)\n",
      "212 (16, 3)\n",
      "213 (16, 3)\n",
      "214 (16, 3)\n",
      "215 (16, 3)\n",
      "216 (16, 3)\n",
      "217 (16, 3)\n",
      "218 (16, 3)\n",
      "219 (16, 3)\n",
      "220 (16, 3)\n",
      "221 (16, 3)\n",
      "222 (16, 3)\n",
      "223 (16, 3)\n",
      "224 (16, 3)\n",
      "225 (16, 3)\n",
      "226 (16, 3)\n",
      "227 (16, 3)\n",
      "228 (16, 3)\n",
      "229 (16, 3)\n",
      "230 (16, 3)\n",
      "231 (16, 3)\n",
      "232 (16, 3)\n",
      "233 (16, 3)\n",
      "234 (16, 3)\n",
      "235 (16, 3)\n",
      "236 (16, 3)\n",
      "237 (16, 3)\n",
      "238 (16, 3)\n",
      "239 (16, 3)\n",
      "240 (16, 3)\n",
      "241 (16, 3)\n",
      "242 (16, 3)\n",
      "243 (16, 3)\n",
      "244 (16, 3)\n",
      "245 (16, 3)\n",
      "246 (16, 3)\n",
      "247 (16, 3)\n",
      "248 (16, 3)\n",
      "249 (16, 3)\n",
      "250 (16, 3)\n",
      "251 (16, 3)\n",
      "252 (16, 3)\n",
      "253 (16, 3)\n",
      "254 (16, 3)\n",
      "255 (16, 3)\n",
      "256 (16, 3)\n",
      "257 (16, 3)\n",
      "258 (16, 3)\n",
      "259 (16, 3)\n",
      "260 (16, 3)\n",
      "261 (16, 3)\n",
      "262 (16, 3)\n",
      "263 (16, 3)\n",
      "264 (16, 3)\n",
      "265 (16, 3)\n",
      "266 (16, 3)\n",
      "267 (16, 3)\n",
      "268 (16, 3)\n",
      "269 (16, 3)\n",
      "270 (16, 3)\n",
      "271 (16, 3)\n",
      "272 (16, 3)\n",
      "273 (16, 3)\n",
      "274 (16, 3)\n",
      "275 (16, 3)\n",
      "276 (16, 3)\n",
      "277 (16, 3)\n",
      "278 (16, 3)\n",
      "279 (16, 3)\n",
      "280 (16, 3)\n",
      "281 (16, 3)\n",
      "282 (16, 3)\n",
      "283 (16, 3)\n",
      "284 (16, 3)\n",
      "285 (16, 3)\n",
      "286 (16, 3)\n",
      "287 (16, 3)\n",
      "288 (16, 3)\n",
      "289 (16, 3)\n",
      "290 (16, 3)\n",
      "291 (16, 3)\n",
      "292 (16, 3)\n",
      "293 (16, 3)\n",
      "294 (16, 3)\n",
      "295 (16, 3)\n",
      "296 (16, 3)\n",
      "297 (16, 3)\n",
      "298 (16, 3)\n",
      "299 (16, 3)\n",
      "300 (16, 3)\n",
      "301 (16, 3)\n",
      "302 (16, 3)\n",
      "303 (16, 3)\n",
      "304 (16, 3)\n",
      "305 (16, 3)\n",
      "306 (16, 3)\n",
      "307 (16, 3)\n",
      "308 (16, 3)\n",
      "309 (16, 3)\n",
      "310 (16, 3)\n",
      "311 (16, 3)\n",
      "312 (16, 3)\n",
      "313 (16, 3)\n",
      "314 (16, 3)\n",
      "315 (16, 3)\n",
      "316 (16, 3)\n",
      "317 (16, 3)\n",
      "318 (16, 3)\n",
      "319 (16, 3)\n",
      "320 (16, 3)\n",
      "321 (16, 3)\n",
      "322 (16, 3)\n",
      "323 (16, 3)\n",
      "324 (16, 3)\n",
      "325 (16, 3)\n",
      "326 (16, 3)\n",
      "327 (16, 3)\n",
      "328 (16, 3)\n",
      "329 (16, 3)\n",
      "330 (16, 3)\n",
      "331 (16, 3)\n",
      "332 (16, 3)\n",
      "333 (16, 3)\n",
      "334 (16, 3)\n",
      "335 (16, 3)\n",
      "336 (16, 3)\n",
      "337 (16, 3)\n",
      "338 (16, 3)\n"
     ]
    }
   ],
   "source": [
    "for k, points in enumerate(points_list) :\n",
    "    print(k, points.shape)"
   ]
  },
  {
   "cell_type": "code",
   "execution_count": 84,
   "metadata": {},
   "outputs": [
    {
     "data": {
      "text/plain": [
       "array([[ 0.        ,  0.1010101 ],\n",
       "       [ 0.2020202 ,  0.3030303 ],\n",
       "       [ 0.4040404 ,  0.50505051],\n",
       "       [ 0.60606061,  0.70707071],\n",
       "       [ 0.80808081,  0.90909091],\n",
       "       [ 1.01010101,  1.11111111],\n",
       "       [ 1.21212121,  1.31313131],\n",
       "       [ 1.41414141,  1.51515152],\n",
       "       [ 1.61616162,  1.71717172],\n",
       "       [ 1.81818182,  1.91919192],\n",
       "       [ 2.02020202,  2.12121212],\n",
       "       [ 2.22222222,  2.32323232],\n",
       "       [ 2.42424242,  2.52525253],\n",
       "       [ 2.62626263,  2.72727273],\n",
       "       [ 2.82828283,  2.92929293],\n",
       "       [ 3.03030303,  3.13131313],\n",
       "       [ 3.23232323,  3.33333333],\n",
       "       [ 3.43434343,  3.53535354],\n",
       "       [ 3.63636364,  3.73737374],\n",
       "       [ 3.83838384,  3.93939394],\n",
       "       [ 4.04040404,  4.14141414],\n",
       "       [ 4.24242424,  4.34343434],\n",
       "       [ 4.44444444,  4.54545455],\n",
       "       [ 4.64646465,  4.74747475],\n",
       "       [ 4.84848485,  4.94949495],\n",
       "       [ 5.05050505,  5.15151515],\n",
       "       [ 5.25252525,  5.35353535],\n",
       "       [ 5.45454545,  5.55555556],\n",
       "       [ 5.65656566,  5.75757576],\n",
       "       [ 5.85858586,  5.95959596],\n",
       "       [ 6.06060606,  6.16161616],\n",
       "       [ 6.26262626,  6.36363636],\n",
       "       [ 6.46464646,  6.56565657],\n",
       "       [ 6.66666667,  6.76767677],\n",
       "       [ 6.86868687,  6.96969697],\n",
       "       [ 7.07070707,  7.17171717],\n",
       "       [ 7.27272727,  7.37373737],\n",
       "       [ 7.47474747,  7.57575758],\n",
       "       [ 7.67676768,  7.77777778],\n",
       "       [ 7.87878788,  7.97979798],\n",
       "       [ 8.08080808,  8.18181818],\n",
       "       [ 8.28282828,  8.38383838],\n",
       "       [ 8.48484848,  8.58585859],\n",
       "       [ 8.68686869,  8.78787879],\n",
       "       [ 8.88888889,  8.98989899],\n",
       "       [ 9.09090909,  9.19191919],\n",
       "       [ 9.29292929,  9.39393939],\n",
       "       [ 9.49494949,  9.5959596 ],\n",
       "       [ 9.6969697 ,  9.7979798 ],\n",
       "       [ 9.8989899 , 10.        ]])"
      ]
     },
     "execution_count": 84,
     "metadata": {},
     "output_type": "execute_result"
    }
   ],
   "source": [
    "np.linspace(0, 10, 100).reshape(-1, 2)"
   ]
  },
  {
   "cell_type": "code",
   "execution_count": 101,
   "metadata": {},
   "outputs": [
    {
     "data": {
      "application/vnd.plotly.v1+json": {
       "config": {
        "plotlyServerURL": "https://plot.ly"
       },
       "data": [
        {
         "marker": {
          "color": "red",
          "size": 10
         },
         "mode": "markers",
         "type": "scatter3d",
         "x": [],
         "y": [],
         "z": []
        }
       ],
       "frames": [
        {
         "data": [
          {
           "mode": "lines+markers",
           "type": "scatter3d",
           "x": [
            0,
            1
           ],
           "y": [
            0.9122834970146465,
            0.16048811355951964
           ],
           "z": [
            0.9452345851206896,
            0.889972847683955
           ]
          },
          {
           "mode": "lines+markers",
           "type": "scatter3d",
           "x": [
            1,
            2
           ],
           "y": [
            0.16048811355951964,
            0.1740425776329182
           ],
           "z": [
            0.889972847683955,
            0.7026764684315612
           ]
          }
         ],
         "name": "frame0",
         "traces": [
          0
         ]
        },
        {
         "data": [
          {
           "mode": "lines+markers",
           "type": "scatter3d",
           "x": [
            1,
            2
           ],
           "y": [
            0.16048811355951964,
            0.1740425776329182
           ],
           "z": [
            0.889972847683955,
            0.7026764684315612
           ]
          },
          {
           "mode": "lines+markers",
           "type": "scatter3d",
           "x": [
            2,
            3
           ],
           "y": [
            0.1740425776329182,
            0.45328307083392616
           ],
           "z": [
            0.7026764684315612,
            0.6533093808868646
           ]
          }
         ],
         "name": "frame1",
         "traces": [
          0
         ]
        },
        {
         "data": [
          {
           "mode": "lines+markers",
           "type": "scatter3d",
           "x": [
            2,
            3
           ],
           "y": [
            0.1740425776329182,
            0.45328307083392616
           ],
           "z": [
            0.7026764684315612,
            0.6533093808868646
           ]
          },
          {
           "mode": "lines+markers",
           "type": "scatter3d",
           "x": [
            3,
            4
           ],
           "y": [
            0.45328307083392616,
            0.36365006252884946
           ],
           "z": [
            0.6533093808868646,
            0.23555275811903242
           ]
          }
         ],
         "name": "frame2",
         "traces": [
          0
         ]
        },
        {
         "data": [
          {
           "mode": "lines+markers",
           "type": "scatter3d",
           "x": [
            3,
            4
           ],
           "y": [
            0.45328307083392616,
            0.36365006252884946
           ],
           "z": [
            0.6533093808868646,
            0.23555275811903242
           ]
          },
          {
           "mode": "lines+markers",
           "type": "scatter3d",
           "x": [
            4,
            5
           ],
           "y": [
            0.36365006252884946,
            0.9456559657120356
           ],
           "z": [
            0.23555275811903242,
            0.034432944844108304
           ]
          }
         ],
         "name": "frame3",
         "traces": [
          0
         ]
        },
        {
         "data": [
          {
           "mode": "lines+markers",
           "type": "scatter3d",
           "x": [
            4,
            5
           ],
           "y": [
            0.36365006252884946,
            0.9456559657120356
           ],
           "z": [
            0.23555275811903242,
            0.034432944844108304
           ]
          },
          {
           "mode": "lines+markers",
           "type": "scatter3d",
           "x": [
            5,
            6
           ],
           "y": [
            0.9456559657120356,
            0.24381669714846899
           ],
           "z": [
            0.034432944844108304,
            0.6965121957239512
           ]
          }
         ],
         "name": "frame4",
         "traces": [
          0
         ]
        },
        {
         "data": [
          {
           "mode": "lines+markers",
           "type": "scatter3d",
           "x": [
            5,
            6
           ],
           "y": [
            0.9456559657120356,
            0.24381669714846899
           ],
           "z": [
            0.034432944844108304,
            0.6965121957239512
           ]
          },
          {
           "mode": "lines+markers",
           "type": "scatter3d",
           "x": [
            6,
            7
           ],
           "y": [
            0.24381669714846899,
            0.22096683466794775
           ],
           "z": [
            0.6965121957239512,
            0.0466357507548224
           ]
          }
         ],
         "name": "frame5",
         "traces": [
          0
         ]
        },
        {
         "data": [
          {
           "mode": "lines+markers",
           "type": "scatter3d",
           "x": [
            6,
            7
           ],
           "y": [
            0.24381669714846899,
            0.22096683466794775
           ],
           "z": [
            0.6965121957239512,
            0.0466357507548224
           ]
          },
          {
           "mode": "lines+markers",
           "type": "scatter3d",
           "x": [
            7,
            8
           ],
           "y": [
            0.22096683466794775,
            0.45361240281822557
           ],
           "z": [
            0.0466357507548224,
            0.9410533613489969
           ]
          }
         ],
         "name": "frame6",
         "traces": [
          0
         ]
        },
        {
         "data": [
          {
           "mode": "lines+markers",
           "type": "scatter3d",
           "x": [
            7,
            8
           ],
           "y": [
            0.22096683466794775,
            0.45361240281822557
           ],
           "z": [
            0.0466357507548224,
            0.9410533613489969
           ]
          },
          {
           "mode": "lines+markers",
           "type": "scatter3d",
           "x": [
            8,
            9
           ],
           "y": [
            0.45361240281822557,
            0.04604807991276727
           ],
           "z": [
            0.9410533613489969,
            0.8387578223958118
           ]
          }
         ],
         "name": "frame7",
         "traces": [
          0
         ]
        },
        {
         "data": [
          {
           "mode": "lines+markers",
           "type": "scatter3d",
           "x": [
            8,
            9
           ],
           "y": [
            0.45361240281822557,
            0.04604807991276727
           ],
           "z": [
            0.9410533613489969,
            0.8387578223958118
           ]
          },
          {
           "mode": "lines+markers",
           "type": "scatter3d",
           "x": [
            9,
            10
           ],
           "y": [
            0.04604807991276727,
            0.9513599970604204
           ],
           "z": [
            0.8387578223958118,
            0.9960757716056323
           ]
          }
         ],
         "name": "frame8",
         "traces": [
          0
         ]
        },
        {
         "data": [
          {
           "mode": "lines+markers",
           "type": "scatter3d",
           "x": [
            9,
            10
           ],
           "y": [
            0.04604807991276727,
            0.9513599970604204
           ],
           "z": [
            0.8387578223958118,
            0.9960757716056323
           ]
          },
          {
           "mode": "lines+markers",
           "type": "scatter3d",
           "x": [
            10,
            11
           ],
           "y": [
            0.9513599970604204,
            0.3760081891567342
           ],
           "z": [
            0.9960757716056323,
            0.6836356099877384
           ]
          }
         ],
         "name": "frame9",
         "traces": [
          0
         ]
        },
        {
         "data": [
          {
           "mode": "lines+markers",
           "type": "scatter3d",
           "x": [
            10,
            11
           ],
           "y": [
            0.9513599970604204,
            0.3760081891567342
           ],
           "z": [
            0.9960757716056323,
            0.6836356099877384
           ]
          },
          {
           "mode": "lines+markers",
           "type": "scatter3d",
           "x": [
            11,
            12
           ],
           "y": [
            0.3760081891567342,
            0.048831040457369745
           ],
           "z": [
            0.6836356099877384,
            0.5229273643082671
           ]
          }
         ],
         "name": "frame10",
         "traces": [
          0
         ]
        },
        {
         "data": [
          {
           "mode": "lines+markers",
           "type": "scatter3d",
           "x": [
            11,
            12
           ],
           "y": [
            0.3760081891567342,
            0.048831040457369745
           ],
           "z": [
            0.6836356099877384,
            0.5229273643082671
           ]
          },
          {
           "mode": "lines+markers",
           "type": "scatter3d",
           "x": [
            12,
            13
           ],
           "y": [
            0.048831040457369745,
            0.803993150258624
           ],
           "z": [
            0.5229273643082671,
            0.18600135797776063
           ]
          }
         ],
         "name": "frame11",
         "traces": [
          0
         ]
        },
        {
         "data": [
          {
           "mode": "lines+markers",
           "type": "scatter3d",
           "x": [
            12,
            13
           ],
           "y": [
            0.048831040457369745,
            0.803993150258624
           ],
           "z": [
            0.5229273643082671,
            0.18600135797776063
           ]
          },
          {
           "mode": "lines+markers",
           "type": "scatter3d",
           "x": [
            13,
            14
           ],
           "y": [
            0.803993150258624,
            0.07658146340455974
           ],
           "z": [
            0.18600135797776063,
            0.7053960436660149
           ]
          }
         ],
         "name": "frame12",
         "traces": [
          0
         ]
        },
        {
         "data": [
          {
           "mode": "lines+markers",
           "type": "scatter3d",
           "x": [
            13,
            14
           ],
           "y": [
            0.803993150258624,
            0.07658146340455974
           ],
           "z": [
            0.18600135797776063,
            0.7053960436660149
           ]
          },
          {
           "mode": "lines+markers",
           "type": "scatter3d",
           "x": [
            14,
            15
           ],
           "y": [
            0.07658146340455974,
            0.5928675111740885
           ],
           "z": [
            0.7053960436660149,
            0.3690904215888029
           ]
          }
         ],
         "name": "frame13",
         "traces": [
          0
         ]
        },
        {
         "data": [
          {
           "mode": "lines+markers",
           "type": "scatter3d",
           "x": [
            14,
            15
           ],
           "y": [
            0.07658146340455974,
            0.5928675111740885
           ],
           "z": [
            0.7053960436660149,
            0.3690904215888029
           ]
          },
          {
           "mode": "lines+markers",
           "type": "scatter3d",
           "x": [
            15,
            16
           ],
           "y": [
            0.5928675111740885,
            0.8567940666573265
           ],
           "z": [
            0.3690904215888029,
            0.10570387511996082
           ]
          }
         ],
         "name": "frame14",
         "traces": [
          0
         ]
        },
        {
         "data": [
          {
           "mode": "lines+markers",
           "type": "scatter3d",
           "x": [
            15,
            16
           ],
           "y": [
            0.5928675111740885,
            0.8567940666573265
           ],
           "z": [
            0.3690904215888029,
            0.10570387511996082
           ]
          },
          {
           "mode": "lines+markers",
           "type": "scatter3d",
           "x": [
            16,
            17
           ],
           "y": [
            0.8567940666573265,
            0.301794523684346
           ],
           "z": [
            0.10570387511996082,
            0.30274884348328823
           ]
          }
         ],
         "name": "frame15",
         "traces": [
          0
         ]
        },
        {
         "data": [
          {
           "mode": "lines+markers",
           "type": "scatter3d",
           "x": [
            16,
            17
           ],
           "y": [
            0.8567940666573265,
            0.301794523684346
           ],
           "z": [
            0.10570387511996082,
            0.30274884348328823
           ]
          },
          {
           "mode": "lines+markers",
           "type": "scatter3d",
           "x": [
            17,
            18
           ],
           "y": [
            0.301794523684346,
            0.8463005143904332
           ],
           "z": [
            0.30274884348328823,
            0.22618393709115858
           ]
          }
         ],
         "name": "frame16",
         "traces": [
          0
         ]
        },
        {
         "data": [
          {
           "mode": "lines+markers",
           "type": "scatter3d",
           "x": [
            17,
            18
           ],
           "y": [
            0.301794523684346,
            0.8463005143904332
           ],
           "z": [
            0.30274884348328823,
            0.22618393709115858
           ]
          },
          {
           "mode": "lines+markers",
           "type": "scatter3d",
           "x": [
            18,
            19
           ],
           "y": [
            0.8463005143904332,
            0.01016827690897315
           ],
           "z": [
            0.22618393709115858,
            0.9754201935014609
           ]
          }
         ],
         "name": "frame17",
         "traces": [
          0
         ]
        },
        {
         "data": [
          {
           "mode": "lines+markers",
           "type": "scatter3d",
           "x": [
            18,
            19
           ],
           "y": [
            0.8463005143904332,
            0.01016827690897315
           ],
           "z": [
            0.22618393709115858,
            0.9754201935014609
           ]
          },
          {
           "mode": "lines+markers",
           "type": "scatter3d",
           "x": [
            19,
            20
           ],
           "y": [
            0.01016827690897315,
            0.11497070250729657
           ],
           "z": [
            0.9754201935014609,
            0.5245026181443884
           ]
          }
         ],
         "name": "frame18",
         "traces": [
          0
         ]
        },
        {
         "data": [
          {
           "mode": "lines+markers",
           "type": "scatter3d",
           "x": [
            19,
            20
           ],
           "y": [
            0.01016827690897315,
            0.11497070250729657
           ],
           "z": [
            0.9754201935014609,
            0.5245026181443884
           ]
          },
          {
           "mode": "lines+markers",
           "type": "scatter3d",
           "x": [
            20,
            21
           ],
           "y": [
            0.11497070250729657,
            0.3356370525616176
           ],
           "z": [
            0.5245026181443884,
            0.8858842008840401
           ]
          }
         ],
         "name": "frame19",
         "traces": [
          0
         ]
        },
        {
         "data": [
          {
           "mode": "lines+markers",
           "type": "scatter3d",
           "x": [
            20,
            21
           ],
           "y": [
            0.11497070250729657,
            0.3356370525616176
           ],
           "z": [
            0.5245026181443884,
            0.8858842008840401
           ]
          },
          {
           "mode": "lines+markers",
           "type": "scatter3d",
           "x": [
            21,
            22
           ],
           "y": [
            0.3356370525616176,
            0.9779361565221761
           ],
           "z": [
            0.8858842008840401,
            0.23731714860712216
           ]
          }
         ],
         "name": "frame20",
         "traces": [
          0
         ]
        },
        {
         "data": [
          {
           "mode": "lines+markers",
           "type": "scatter3d",
           "x": [
            21,
            22
           ],
           "y": [
            0.3356370525616176,
            0.9779361565221761
           ],
           "z": [
            0.8858842008840401,
            0.23731714860712216
           ]
          },
          {
           "mode": "lines+markers",
           "type": "scatter3d",
           "x": [
            22,
            23
           ],
           "y": [
            0.9779361565221761,
            0.1684644944612893
           ],
           "z": [
            0.23731714860712216,
            0.6087161506533734
           ]
          }
         ],
         "name": "frame21",
         "traces": [
          0
         ]
        },
        {
         "data": [
          {
           "mode": "lines+markers",
           "type": "scatter3d",
           "x": [
            22,
            23
           ],
           "y": [
            0.9779361565221761,
            0.1684644944612893
           ],
           "z": [
            0.23731714860712216,
            0.6087161506533734
           ]
          },
          {
           "mode": "lines+markers",
           "type": "scatter3d",
           "x": [
            23,
            24
           ],
           "y": [
            0.1684644944612893,
            0.42720610486741817
           ],
           "z": [
            0.6087161506533734,
            0.6939601060912782
           ]
          }
         ],
         "name": "frame22",
         "traces": [
          0
         ]
        },
        {
         "data": [
          {
           "mode": "lines+markers",
           "type": "scatter3d",
           "x": [
            23,
            24
           ],
           "y": [
            0.1684644944612893,
            0.42720610486741817
           ],
           "z": [
            0.6087161506533734,
            0.6939601060912782
           ]
          },
          {
           "mode": "lines+markers",
           "type": "scatter3d",
           "x": [
            24,
            25
           ],
           "y": [
            0.42720610486741817,
            0.7797267216256515
           ],
           "z": [
            0.6939601060912782,
            0.8481636894839468
           ]
          }
         ],
         "name": "frame23",
         "traces": [
          0
         ]
        },
        {
         "data": [
          {
           "mode": "lines+markers",
           "type": "scatter3d",
           "x": [
            24,
            25
           ],
           "y": [
            0.42720610486741817,
            0.7797267216256515
           ],
           "z": [
            0.6939601060912782,
            0.8481636894839468
           ]
          },
          {
           "mode": "lines+markers",
           "type": "scatter3d",
           "x": [
            25,
            26
           ],
           "y": [
            0.7797267216256515,
            0.9424895361918959
           ],
           "z": [
            0.8481636894839468,
            0.7325517894765435
           ]
          }
         ],
         "name": "frame24",
         "traces": [
          0
         ]
        },
        {
         "data": [
          {
           "mode": "lines+markers",
           "type": "scatter3d",
           "x": [
            25,
            26
           ],
           "y": [
            0.7797267216256515,
            0.9424895361918959
           ],
           "z": [
            0.8481636894839468,
            0.7325517894765435
           ]
          },
          {
           "mode": "lines+markers",
           "type": "scatter3d",
           "x": [
            26,
            27
           ],
           "y": [
            0.9424895361918959,
            0.31422150009880223
           ],
           "z": [
            0.7325517894765435,
            0.7188856337402043
           ]
          }
         ],
         "name": "frame25",
         "traces": [
          0
         ]
        },
        {
         "data": [
          {
           "mode": "lines+markers",
           "type": "scatter3d",
           "x": [
            26,
            27
           ],
           "y": [
            0.9424895361918959,
            0.31422150009880223
           ],
           "z": [
            0.7325517894765435,
            0.7188856337402043
           ]
          },
          {
           "mode": "lines+markers",
           "type": "scatter3d",
           "x": [
            27,
            28
           ],
           "y": [
            0.31422150009880223,
            0.38894745475432513
           ],
           "z": [
            0.7188856337402043,
            0.6451529843295227
           ]
          }
         ],
         "name": "frame26",
         "traces": [
          0
         ]
        },
        {
         "data": [
          {
           "mode": "lines+markers",
           "type": "scatter3d",
           "x": [
            27,
            28
           ],
           "y": [
            0.31422150009880223,
            0.38894745475432513
           ],
           "z": [
            0.7188856337402043,
            0.6451529843295227
           ]
          },
          {
           "mode": "lines+markers",
           "type": "scatter3d",
           "x": [
            28,
            29
           ],
           "y": [
            0.38894745475432513,
            0.14326344348129105
           ],
           "z": [
            0.6451529843295227,
            0.13850448295163664
           ]
          }
         ],
         "name": "frame27",
         "traces": [
          0
         ]
        },
        {
         "data": [
          {
           "mode": "lines+markers",
           "type": "scatter3d",
           "x": [
            28,
            29
           ],
           "y": [
            0.38894745475432513,
            0.14326344348129105
           ],
           "z": [
            0.6451529843295227,
            0.13850448295163664
           ]
          },
          {
           "mode": "lines+markers",
           "type": "scatter3d",
           "x": [
            29,
            30
           ],
           "y": [
            0.14326344348129105,
            0.9915928801986945
           ],
           "z": [
            0.13850448295163664,
            0.7630203301299557
           ]
          }
         ],
         "name": "frame28",
         "traces": [
          0
         ]
        },
        {
         "data": [
          {
           "mode": "lines+markers",
           "type": "scatter3d",
           "x": [
            29,
            30
           ],
           "y": [
            0.14326344348129105,
            0.9915928801986945
           ],
           "z": [
            0.13850448295163664,
            0.7630203301299557
           ]
          },
          {
           "mode": "lines+markers",
           "type": "scatter3d",
           "x": [
            30,
            31
           ],
           "y": [
            0.9915928801986945,
            0.7923430304567306
           ],
           "z": [
            0.7630203301299557,
            0.898907742433727
           ]
          }
         ],
         "name": "frame29",
         "traces": [
          0
         ]
        },
        {
         "data": [
          {
           "mode": "lines+markers",
           "type": "scatter3d",
           "x": [
            30,
            31
           ],
           "y": [
            0.9915928801986945,
            0.7923430304567306
           ],
           "z": [
            0.7630203301299557,
            0.898907742433727
           ]
          },
          {
           "mode": "lines+markers",
           "type": "scatter3d",
           "x": [
            31,
            32
           ],
           "y": [
            0.7923430304567306,
            0.29674437247791907
           ],
           "z": [
            0.898907742433727,
            0.4858360238822006
           ]
          }
         ],
         "name": "frame30",
         "traces": [
          0
         ]
        },
        {
         "data": [
          {
           "mode": "lines+markers",
           "type": "scatter3d",
           "x": [
            31,
            32
           ],
           "y": [
            0.7923430304567306,
            0.29674437247791907
           ],
           "z": [
            0.898907742433727,
            0.4858360238822006
           ]
          },
          {
           "mode": "lines+markers",
           "type": "scatter3d",
           "x": [
            32,
            33
           ],
           "y": [
            0.29674437247791907,
            0.8937724949196373
           ],
           "z": [
            0.4858360238822006,
            0.5461468531151266
           ]
          }
         ],
         "name": "frame31",
         "traces": [
          0
         ]
        },
        {
         "data": [
          {
           "mode": "lines+markers",
           "type": "scatter3d",
           "x": [
            32,
            33
           ],
           "y": [
            0.29674437247791907,
            0.8937724949196373
           ],
           "z": [
            0.4858360238822006,
            0.5461468531151266
           ]
          },
          {
           "mode": "lines+markers",
           "type": "scatter3d",
           "x": [
            33,
            34
           ],
           "y": [
            0.8937724949196373,
            0.7558039519605486
           ],
           "z": [
            0.5461468531151266,
            0.7202447811747581
           ]
          }
         ],
         "name": "frame32",
         "traces": [
          0
         ]
        },
        {
         "data": [
          {
           "mode": "lines+markers",
           "type": "scatter3d",
           "x": [
            33,
            34
           ],
           "y": [
            0.8937724949196373,
            0.7558039519605486
           ],
           "z": [
            0.5461468531151266,
            0.7202447811747581
           ]
          },
          {
           "mode": "lines+markers",
           "type": "scatter3d",
           "x": [
            34,
            35
           ],
           "y": [
            0.7558039519605486,
            0.4818236920364547
           ],
           "z": [
            0.7202447811747581,
            0.6949054519880976
           ]
          }
         ],
         "name": "frame33",
         "traces": [
          0
         ]
        },
        {
         "data": [
          {
           "mode": "lines+markers",
           "type": "scatter3d",
           "x": [
            34,
            35
           ],
           "y": [
            0.7558039519605486,
            0.4818236920364547
           ],
           "z": [
            0.7202447811747581,
            0.6949054519880976
           ]
          },
          {
           "mode": "lines+markers",
           "type": "scatter3d",
           "x": [
            35,
            36
           ],
           "y": [
            0.4818236920364547,
            0.23785228252538237
           ],
           "z": [
            0.6949054519880976,
            0.5381566872875537
           ]
          }
         ],
         "name": "frame34",
         "traces": [
          0
         ]
        },
        {
         "data": [
          {
           "mode": "lines+markers",
           "type": "scatter3d",
           "x": [
            35,
            36
           ],
           "y": [
            0.4818236920364547,
            0.23785228252538237
           ],
           "z": [
            0.6949054519880976,
            0.5381566872875537
           ]
          },
          {
           "mode": "lines+markers",
           "type": "scatter3d",
           "x": [
            36,
            37
           ],
           "y": [
            0.23785228252538237,
            0.2658502374243288
           ],
           "z": [
            0.5381566872875537,
            0.5840764840055476
           ]
          }
         ],
         "name": "frame35",
         "traces": [
          0
         ]
        },
        {
         "data": [
          {
           "mode": "lines+markers",
           "type": "scatter3d",
           "x": [
            36,
            37
           ],
           "y": [
            0.23785228252538237,
            0.2658502374243288
           ],
           "z": [
            0.5381566872875537,
            0.5840764840055476
           ]
          },
          {
           "mode": "lines+markers",
           "type": "scatter3d",
           "x": [
            37,
            38
           ],
           "y": [
            0.2658502374243288,
            0.4748900695242625
           ],
           "z": [
            0.5840764840055476,
            0.3661840231613164
           ]
          }
         ],
         "name": "frame36",
         "traces": [
          0
         ]
        },
        {
         "data": [
          {
           "mode": "lines+markers",
           "type": "scatter3d",
           "x": [
            37,
            38
           ],
           "y": [
            0.2658502374243288,
            0.4748900695242625
           ],
           "z": [
            0.5840764840055476,
            0.3661840231613164
           ]
          },
          {
           "mode": "lines+markers",
           "type": "scatter3d",
           "x": [
            38,
            39
           ],
           "y": [
            0.4748900695242625,
            0.7406903046989357
           ],
           "z": [
            0.3661840231613164,
            0.8866452603603487
           ]
          }
         ],
         "name": "frame37",
         "traces": [
          0
         ]
        },
        {
         "data": [
          {
           "mode": "lines+markers",
           "type": "scatter3d",
           "x": [
            38,
            39
           ],
           "y": [
            0.4748900695242625,
            0.7406903046989357
           ],
           "z": [
            0.3661840231613164,
            0.8866452603603487
           ]
          },
          {
           "mode": "lines+markers",
           "type": "scatter3d",
           "x": [
            39,
            40
           ],
           "y": [
            0.7406903046989357,
            0.4777659296060113
           ],
           "z": [
            0.8866452603603487,
            0.619933063196115
           ]
          }
         ],
         "name": "frame38",
         "traces": [
          0
         ]
        },
        {
         "data": [
          {
           "mode": "lines+markers",
           "type": "scatter3d",
           "x": [
            39,
            40
           ],
           "y": [
            0.7406903046989357,
            0.4777659296060113
           ],
           "z": [
            0.8866452603603487,
            0.619933063196115
           ]
          },
          {
           "mode": "lines+markers",
           "type": "scatter3d",
           "x": [
            40,
            41
           ],
           "y": [
            0.4777659296060113,
            0.45655055400086597
           ],
           "z": [
            0.619933063196115,
            0.684976047412537
           ]
          }
         ],
         "name": "frame39",
         "traces": [
          0
         ]
        },
        {
         "data": [
          {
           "mode": "lines+markers",
           "type": "scatter3d",
           "x": [
            40,
            41
           ],
           "y": [
            0.4777659296060113,
            0.45655055400086597
           ],
           "z": [
            0.619933063196115,
            0.684976047412537
           ]
          },
          {
           "mode": "lines+markers",
           "type": "scatter3d",
           "x": [
            41,
            42
           ],
           "y": [
            0.45655055400086597,
            0.6086520904466977
           ],
           "z": [
            0.684976047412537,
            0.82662715596644
           ]
          }
         ],
         "name": "frame40",
         "traces": [
          0
         ]
        },
        {
         "data": [
          {
           "mode": "lines+markers",
           "type": "scatter3d",
           "x": [
            41,
            42
           ],
           "y": [
            0.45655055400086597,
            0.6086520904466977
           ],
           "z": [
            0.684976047412537,
            0.82662715596644
           ]
          },
          {
           "mode": "lines+markers",
           "type": "scatter3d",
           "x": [
            42,
            43
           ],
           "y": [
            0.6086520904466977,
            0.6509371214243724
           ],
           "z": [
            0.82662715596644,
            0.5088224786584896
           ]
          }
         ],
         "name": "frame41",
         "traces": [
          0
         ]
        },
        {
         "data": [
          {
           "mode": "lines+markers",
           "type": "scatter3d",
           "x": [
            42,
            43
           ],
           "y": [
            0.6086520904466977,
            0.6509371214243724
           ],
           "z": [
            0.82662715596644,
            0.5088224786584896
           ]
          },
          {
           "mode": "lines+markers",
           "type": "scatter3d",
           "x": [
            43,
            44
           ],
           "y": [
            0.6509371214243724,
            0.44314853997251535
           ],
           "z": [
            0.5088224786584896,
            0.1793792487020296
           ]
          }
         ],
         "name": "frame42",
         "traces": [
          0
         ]
        },
        {
         "data": [
          {
           "mode": "lines+markers",
           "type": "scatter3d",
           "x": [
            43,
            44
           ],
           "y": [
            0.6509371214243724,
            0.44314853997251535
           ],
           "z": [
            0.5088224786584896,
            0.1793792487020296
           ]
          },
          {
           "mode": "lines+markers",
           "type": "scatter3d",
           "x": [
            44,
            45
           ],
           "y": [
            0.44314853997251535,
            0.4301649938501759
           ],
           "z": [
            0.1793792487020296,
            0.6193831487727384
           ]
          }
         ],
         "name": "frame43",
         "traces": [
          0
         ]
        },
        {
         "data": [
          {
           "mode": "lines+markers",
           "type": "scatter3d",
           "x": [
            44,
            45
           ],
           "y": [
            0.44314853997251535,
            0.4301649938501759
           ],
           "z": [
            0.1793792487020296,
            0.6193831487727384
           ]
          },
          {
           "mode": "lines+markers",
           "type": "scatter3d",
           "x": [
            45,
            46
           ],
           "y": [
            0.4301649938501759,
            0.36328782769035317
           ],
           "z": [
            0.6193831487727384,
            0.9801474651090228
           ]
          }
         ],
         "name": "frame44",
         "traces": [
          0
         ]
        },
        {
         "data": [
          {
           "mode": "lines+markers",
           "type": "scatter3d",
           "x": [
            45,
            46
           ],
           "y": [
            0.4301649938501759,
            0.36328782769035317
           ],
           "z": [
            0.6193831487727384,
            0.9801474651090228
           ]
          },
          {
           "mode": "lines+markers",
           "type": "scatter3d",
           "x": [
            46,
            47
           ],
           "y": [
            0.36328782769035317,
            0.46593477842949216
           ],
           "z": [
            0.9801474651090228,
            0.15517083449395763
           ]
          }
         ],
         "name": "frame45",
         "traces": [
          0
         ]
        },
        {
         "data": [
          {
           "mode": "lines+markers",
           "type": "scatter3d",
           "x": [
            46,
            47
           ],
           "y": [
            0.36328782769035317,
            0.46593477842949216
           ],
           "z": [
            0.9801474651090228,
            0.15517083449395763
           ]
          },
          {
           "mode": "lines+markers",
           "type": "scatter3d",
           "x": [
            47,
            48
           ],
           "y": [
            0.46593477842949216,
            0.37821213352496275
           ],
           "z": [
            0.15517083449395763,
            0.03897278818365346
           ]
          }
         ],
         "name": "frame46",
         "traces": [
          0
         ]
        },
        {
         "data": [
          {
           "mode": "lines+markers",
           "type": "scatter3d",
           "x": [
            47,
            48
           ],
           "y": [
            0.46593477842949216,
            0.37821213352496275
           ],
           "z": [
            0.15517083449395763,
            0.03897278818365346
           ]
          },
          {
           "mode": "lines+markers",
           "type": "scatter3d",
           "x": [
            48,
            49
           ],
           "y": [
            0.37821213352496275,
            0.25490435256484767
           ],
           "z": [
            0.03897278818365346,
            0.7614120926511718
           ]
          }
         ],
         "name": "frame47",
         "traces": [
          0
         ]
        },
        {
         "data": [
          {
           "mode": "lines+markers",
           "type": "scatter3d",
           "x": [
            48,
            49
           ],
           "y": [
            0.37821213352496275,
            0.25490435256484767
           ],
           "z": [
            0.03897278818365346,
            0.7614120926511718
           ]
          },
          {
           "mode": "lines+markers",
           "type": "scatter3d",
           "x": [
            49,
            50
           ],
           "y": [
            0.25490435256484767,
            0.15538722771660096
           ],
           "z": [
            0.7614120926511718,
            0.2962216231398124
           ]
          }
         ],
         "name": "frame48",
         "traces": [
          0
         ]
        },
        {
         "data": [
          {
           "mode": "lines+markers",
           "type": "scatter3d",
           "x": [
            49,
            50
           ],
           "y": [
            0.25490435256484767,
            0.15538722771660096
           ],
           "z": [
            0.7614120926511718,
            0.2962216231398124
           ]
          },
          {
           "mode": "lines+markers",
           "type": "scatter3d",
           "x": [
            50,
            51
           ],
           "y": [
            0.15538722771660096,
            0.20494128684081314
           ],
           "z": [
            0.2962216231398124,
            0.7863550164877476
           ]
          }
         ],
         "name": "frame49",
         "traces": [
          0
         ]
        },
        {
         "data": [
          {
           "mode": "lines+markers",
           "type": "scatter3d",
           "x": [
            50,
            51
           ],
           "y": [
            0.15538722771660096,
            0.20494128684081314
           ],
           "z": [
            0.2962216231398124,
            0.7863550164877476
           ]
          },
          {
           "mode": "lines+markers",
           "type": "scatter3d",
           "x": [
            51,
            52
           ],
           "y": [
            0.20494128684081314,
            0.8200320256897805
           ],
           "z": [
            0.7863550164877476,
            0.9680175885070286
           ]
          }
         ],
         "name": "frame50",
         "traces": [
          0
         ]
        },
        {
         "data": [
          {
           "mode": "lines+markers",
           "type": "scatter3d",
           "x": [
            51,
            52
           ],
           "y": [
            0.20494128684081314,
            0.8200320256897805
           ],
           "z": [
            0.7863550164877476,
            0.9680175885070286
           ]
          },
          {
           "mode": "lines+markers",
           "type": "scatter3d",
           "x": [
            52,
            53
           ],
           "y": [
            0.8200320256897805,
            0.29481230858365903
           ],
           "z": [
            0.9680175885070286,
            0.3126500704828066
           ]
          }
         ],
         "name": "frame51",
         "traces": [
          0
         ]
        },
        {
         "data": [
          {
           "mode": "lines+markers",
           "type": "scatter3d",
           "x": [
            52,
            53
           ],
           "y": [
            0.8200320256897805,
            0.29481230858365903
           ],
           "z": [
            0.9680175885070286,
            0.3126500704828066
           ]
          },
          {
           "mode": "lines+markers",
           "type": "scatter3d",
           "x": [
            53,
            54
           ],
           "y": [
            0.29481230858365903,
            0.5535040243400235
           ],
           "z": [
            0.3126500704828066,
            0.23060311616185547
           ]
          }
         ],
         "name": "frame52",
         "traces": [
          0
         ]
        },
        {
         "data": [
          {
           "mode": "lines+markers",
           "type": "scatter3d",
           "x": [
            53,
            54
           ],
           "y": [
            0.29481230858365903,
            0.5535040243400235
           ],
           "z": [
            0.3126500704828066,
            0.23060311616185547
           ]
          },
          {
           "mode": "lines+markers",
           "type": "scatter3d",
           "x": [
            54,
            55
           ],
           "y": [
            0.5535040243400235,
            0.0025392730452694634
           ],
           "z": [
            0.23060311616185547,
            0.5438809663148921
           ]
          }
         ],
         "name": "frame53",
         "traces": [
          0
         ]
        },
        {
         "data": [
          {
           "mode": "lines+markers",
           "type": "scatter3d",
           "x": [
            54,
            55
           ],
           "y": [
            0.5535040243400235,
            0.0025392730452694634
           ],
           "z": [
            0.23060311616185547,
            0.5438809663148921
           ]
          },
          {
           "mode": "lines+markers",
           "type": "scatter3d",
           "x": [
            55,
            56
           ],
           "y": [
            0.0025392730452694634,
            0.15792235621348305
           ],
           "z": [
            0.5438809663148921,
            0.30826817755490277
           ]
          }
         ],
         "name": "frame54",
         "traces": [
          0
         ]
        },
        {
         "data": [
          {
           "mode": "lines+markers",
           "type": "scatter3d",
           "x": [
            55,
            56
           ],
           "y": [
            0.0025392730452694634,
            0.15792235621348305
           ],
           "z": [
            0.5438809663148921,
            0.30826817755490277
           ]
          },
          {
           "mode": "lines+markers",
           "type": "scatter3d",
           "x": [
            56,
            57
           ],
           "y": [
            0.15792235621348305,
            0.11247610248019468
           ],
           "z": [
            0.30826817755490277,
            0.3984885647026438
           ]
          }
         ],
         "name": "frame55",
         "traces": [
          0
         ]
        },
        {
         "data": [
          {
           "mode": "lines+markers",
           "type": "scatter3d",
           "x": [
            56,
            57
           ],
           "y": [
            0.15792235621348305,
            0.11247610248019468
           ],
           "z": [
            0.30826817755490277,
            0.3984885647026438
           ]
          },
          {
           "mode": "lines+markers",
           "type": "scatter3d",
           "x": [
            57,
            58
           ],
           "y": [
            0.11247610248019468,
            0.435918855906301
           ],
           "z": [
            0.3984885647026438,
            0.4271428550099201
           ]
          }
         ],
         "name": "frame56",
         "traces": [
          0
         ]
        },
        {
         "data": [
          {
           "mode": "lines+markers",
           "type": "scatter3d",
           "x": [
            57,
            58
           ],
           "y": [
            0.11247610248019468,
            0.435918855906301
           ],
           "z": [
            0.3984885647026438,
            0.4271428550099201
           ]
          },
          {
           "mode": "lines+markers",
           "type": "scatter3d",
           "x": [
            58,
            59
           ],
           "y": [
            0.435918855906301,
            0.177568535735107
           ],
           "z": [
            0.4271428550099201,
            0.7992004600726154
           ]
          }
         ],
         "name": "frame57",
         "traces": [
          0
         ]
        },
        {
         "data": [
          {
           "mode": "lines+markers",
           "type": "scatter3d",
           "x": [
            58,
            59
           ],
           "y": [
            0.435918855906301,
            0.177568535735107
           ],
           "z": [
            0.4271428550099201,
            0.7992004600726154
           ]
          },
          {
           "mode": "lines+markers",
           "type": "scatter3d",
           "x": [
            59,
            60
           ],
           "y": [
            0.177568535735107,
            0.1618438921566322
           ],
           "z": [
            0.7992004600726154,
            0.4017069830490957
           ]
          }
         ],
         "name": "frame58",
         "traces": [
          0
         ]
        },
        {
         "data": [
          {
           "mode": "lines+markers",
           "type": "scatter3d",
           "x": [
            59,
            60
           ],
           "y": [
            0.177568535735107,
            0.1618438921566322
           ],
           "z": [
            0.7992004600726154,
            0.4017069830490957
           ]
          },
          {
           "mode": "lines+markers",
           "type": "scatter3d",
           "x": [
            60,
            61
           ],
           "y": [
            0.1618438921566322,
            0.8372178753634416
           ],
           "z": [
            0.4017069830490957,
            0.7498051496093181
           ]
          }
         ],
         "name": "frame59",
         "traces": [
          0
         ]
        },
        {
         "data": [
          {
           "mode": "lines+markers",
           "type": "scatter3d",
           "x": [
            60,
            61
           ],
           "y": [
            0.1618438921566322,
            0.8372178753634416
           ],
           "z": [
            0.4017069830490957,
            0.7498051496093181
           ]
          },
          {
           "mode": "lines+markers",
           "type": "scatter3d",
           "x": [
            61,
            62
           ],
           "y": [
            0.8372178753634416,
            0.7047152854596493
           ],
           "z": [
            0.7498051496093181,
            0.8191103189206304
           ]
          }
         ],
         "name": "frame60",
         "traces": [
          0
         ]
        },
        {
         "data": [
          {
           "mode": "lines+markers",
           "type": "scatter3d",
           "x": [
            61,
            62
           ],
           "y": [
            0.8372178753634416,
            0.7047152854596493
           ],
           "z": [
            0.7498051496093181,
            0.8191103189206304
           ]
          },
          {
           "mode": "lines+markers",
           "type": "scatter3d",
           "x": [
            62,
            63
           ],
           "y": [
            0.7047152854596493,
            0.33645025412537377
           ],
           "z": [
            0.8191103189206304,
            0.6363178641316073
           ]
          }
         ],
         "name": "frame61",
         "traces": [
          0
         ]
        },
        {
         "data": [
          {
           "mode": "lines+markers",
           "type": "scatter3d",
           "x": [
            62,
            63
           ],
           "y": [
            0.7047152854596493,
            0.33645025412537377
           ],
           "z": [
            0.8191103189206304,
            0.6363178641316073
           ]
          },
          {
           "mode": "lines+markers",
           "type": "scatter3d",
           "x": [
            63,
            64
           ],
           "y": [
            0.33645025412537377,
            0.5162178972872693
           ],
           "z": [
            0.6363178641316073,
            0.3826167165131661
           ]
          }
         ],
         "name": "frame62",
         "traces": [
          0
         ]
        },
        {
         "data": [
          {
           "mode": "lines+markers",
           "type": "scatter3d",
           "x": [
            63,
            64
           ],
           "y": [
            0.33645025412537377,
            0.5162178972872693
           ],
           "z": [
            0.6363178641316073,
            0.3826167165131661
           ]
          },
          {
           "mode": "lines+markers",
           "type": "scatter3d",
           "x": [
            64,
            65
           ],
           "y": [
            0.5162178972872693,
            0.6083479105886248
           ],
           "z": [
            0.3826167165131661,
            0.5073480593957372
           ]
          }
         ],
         "name": "frame63",
         "traces": [
          0
         ]
        },
        {
         "data": [
          {
           "mode": "lines+markers",
           "type": "scatter3d",
           "x": [
            64,
            65
           ],
           "y": [
            0.5162178972872693,
            0.6083479105886248
           ],
           "z": [
            0.3826167165131661,
            0.5073480593957372
           ]
          },
          {
           "mode": "lines+markers",
           "type": "scatter3d",
           "x": [
            65,
            66
           ],
           "y": [
            0.6083479105886248,
            0.6205972485415174
           ],
           "z": [
            0.5073480593957372,
            0.8181754761409997
           ]
          }
         ],
         "name": "frame64",
         "traces": [
          0
         ]
        },
        {
         "data": [
          {
           "mode": "lines+markers",
           "type": "scatter3d",
           "x": [
            65,
            66
           ],
           "y": [
            0.6083479105886248,
            0.6205972485415174
           ],
           "z": [
            0.5073480593957372,
            0.8181754761409997
           ]
          },
          {
           "mode": "lines+markers",
           "type": "scatter3d",
           "x": [
            66,
            67
           ],
           "y": [
            0.6205972485415174,
            0.9092589608939488
           ],
           "z": [
            0.8181754761409997,
            0.9551762657795438
           ]
          }
         ],
         "name": "frame65",
         "traces": [
          0
         ]
        },
        {
         "data": [
          {
           "mode": "lines+markers",
           "type": "scatter3d",
           "x": [
            66,
            67
           ],
           "y": [
            0.6205972485415174,
            0.9092589608939488
           ],
           "z": [
            0.8181754761409997,
            0.9551762657795438
           ]
          },
          {
           "mode": "lines+markers",
           "type": "scatter3d",
           "x": [
            67,
            68
           ],
           "y": [
            0.9092589608939488,
            0.6824085706247128
           ],
           "z": [
            0.9551762657795438,
            0.08540226876268064
           ]
          }
         ],
         "name": "frame66",
         "traces": [
          0
         ]
        },
        {
         "data": [
          {
           "mode": "lines+markers",
           "type": "scatter3d",
           "x": [
            67,
            68
           ],
           "y": [
            0.9092589608939488,
            0.6824085706247128
           ],
           "z": [
            0.9551762657795438,
            0.08540226876268064
           ]
          },
          {
           "mode": "lines+markers",
           "type": "scatter3d",
           "x": [
            68,
            69
           ],
           "y": [
            0.6824085706247128,
            0.5298973675813654
           ],
           "z": [
            0.08540226876268064,
            0.2969623203600964
           ]
          }
         ],
         "name": "frame67",
         "traces": [
          0
         ]
        },
        {
         "data": [
          {
           "mode": "lines+markers",
           "type": "scatter3d",
           "x": [
            68,
            69
           ],
           "y": [
            0.6824085706247128,
            0.5298973675813654
           ],
           "z": [
            0.08540226876268064,
            0.2969623203600964
           ]
          },
          {
           "mode": "lines+markers",
           "type": "scatter3d",
           "x": [
            69,
            70
           ],
           "y": [
            0.5298973675813654,
            0.17172354745832608
           ],
           "z": [
            0.2969623203600964,
            0.22218484764506408
           ]
          }
         ],
         "name": "frame68",
         "traces": [
          0
         ]
        },
        {
         "data": [
          {
           "mode": "lines+markers",
           "type": "scatter3d",
           "x": [
            69,
            70
           ],
           "y": [
            0.5298973675813654,
            0.17172354745832608
           ],
           "z": [
            0.2969623203600964,
            0.22218484764506408
           ]
          },
          {
           "mode": "lines+markers",
           "type": "scatter3d",
           "x": [
            70,
            71
           ],
           "y": [
            0.17172354745832608,
            0.7469364287400309
           ],
           "z": [
            0.22218484764506408,
            0.24893032685598437
           ]
          }
         ],
         "name": "frame69",
         "traces": [
          0
         ]
        },
        {
         "data": [
          {
           "mode": "lines+markers",
           "type": "scatter3d",
           "x": [
            70,
            71
           ],
           "y": [
            0.17172354745832608,
            0.7469364287400309
           ],
           "z": [
            0.22218484764506408,
            0.24893032685598437
           ]
          },
          {
           "mode": "lines+markers",
           "type": "scatter3d",
           "x": [
            71,
            72
           ],
           "y": [
            0.7469364287400309,
            0.6467683111000895
           ],
           "z": [
            0.24893032685598437,
            0.5643137328301956
           ]
          }
         ],
         "name": "frame70",
         "traces": [
          0
         ]
        },
        {
         "data": [
          {
           "mode": "lines+markers",
           "type": "scatter3d",
           "x": [
            71,
            72
           ],
           "y": [
            0.7469364287400309,
            0.6467683111000895
           ],
           "z": [
            0.24893032685598437,
            0.5643137328301956
           ]
          },
          {
           "mode": "lines+markers",
           "type": "scatter3d",
           "x": [
            72,
            73
           ],
           "y": [
            0.6467683111000895,
            0.7284188554797759
           ],
           "z": [
            0.5643137328301956,
            0.1977477503067534
           ]
          }
         ],
         "name": "frame71",
         "traces": [
          0
         ]
        },
        {
         "data": [
          {
           "mode": "lines+markers",
           "type": "scatter3d",
           "x": [
            72,
            73
           ],
           "y": [
            0.6467683111000895,
            0.7284188554797759
           ],
           "z": [
            0.5643137328301956,
            0.1977477503067534
           ]
          },
          {
           "mode": "lines+markers",
           "type": "scatter3d",
           "x": [
            73,
            74
           ],
           "y": [
            0.7284188554797759,
            0.9183943151173104
           ],
           "z": [
            0.1977477503067534,
            0.7022570116703254
           ]
          }
         ],
         "name": "frame72",
         "traces": [
          0
         ]
        },
        {
         "data": [
          {
           "mode": "lines+markers",
           "type": "scatter3d",
           "x": [
            73,
            74
           ],
           "y": [
            0.7284188554797759,
            0.9183943151173104
           ],
           "z": [
            0.1977477503067534,
            0.7022570116703254
           ]
          },
          {
           "mode": "lines+markers",
           "type": "scatter3d",
           "x": [
            74,
            75
           ],
           "y": [
            0.9183943151173104,
            0.5328653809990778
           ],
           "z": [
            0.7022570116703254,
            0.00902951147683162
           ]
          }
         ],
         "name": "frame73",
         "traces": [
          0
         ]
        },
        {
         "data": [
          {
           "mode": "lines+markers",
           "type": "scatter3d",
           "x": [
            74,
            75
           ],
           "y": [
            0.9183943151173104,
            0.5328653809990778
           ],
           "z": [
            0.7022570116703254,
            0.00902951147683162
           ]
          },
          {
           "mode": "lines+markers",
           "type": "scatter3d",
           "x": [
            75,
            76
           ],
           "y": [
            0.5328653809990778,
            0.26738986167913625
           ],
           "z": [
            0.00902951147683162,
            0.7928976737763197
           ]
          }
         ],
         "name": "frame74",
         "traces": [
          0
         ]
        },
        {
         "data": [
          {
           "mode": "lines+markers",
           "type": "scatter3d",
           "x": [
            75,
            76
           ],
           "y": [
            0.5328653809990778,
            0.26738986167913625
           ],
           "z": [
            0.00902951147683162,
            0.7928976737763197
           ]
          },
          {
           "mode": "lines+markers",
           "type": "scatter3d",
           "x": [
            76,
            77
           ],
           "y": [
            0.26738986167913625,
            0.3785076470155091
           ],
           "z": [
            0.7928976737763197,
            0.10692633984105537
           ]
          }
         ],
         "name": "frame75",
         "traces": [
          0
         ]
        },
        {
         "data": [
          {
           "mode": "lines+markers",
           "type": "scatter3d",
           "x": [
            76,
            77
           ],
           "y": [
            0.26738986167913625,
            0.3785076470155091
           ],
           "z": [
            0.7928976737763197,
            0.10692633984105537
           ]
          },
          {
           "mode": "lines+markers",
           "type": "scatter3d",
           "x": [
            77,
            78
           ],
           "y": [
            0.3785076470155091,
            0.38571666208110433
           ],
           "z": [
            0.10692633984105537,
            0.06938966710732963
           ]
          }
         ],
         "name": "frame76",
         "traces": [
          0
         ]
        },
        {
         "data": [
          {
           "mode": "lines+markers",
           "type": "scatter3d",
           "x": [
            77,
            78
           ],
           "y": [
            0.3785076470155091,
            0.38571666208110433
           ],
           "z": [
            0.10692633984105537,
            0.06938966710732963
           ]
          },
          {
           "mode": "lines+markers",
           "type": "scatter3d",
           "x": [
            78,
            79
           ],
           "y": [
            0.38571666208110433,
            0.030380240899840816
           ],
           "z": [
            0.06938966710732963,
            0.9708443224008205
           ]
          }
         ],
         "name": "frame77",
         "traces": [
          0
         ]
        },
        {
         "data": [
          {
           "mode": "lines+markers",
           "type": "scatter3d",
           "x": [
            78,
            79
           ],
           "y": [
            0.38571666208110433,
            0.030380240899840816
           ],
           "z": [
            0.06938966710732963,
            0.9708443224008205
           ]
          },
          {
           "mode": "lines+markers",
           "type": "scatter3d",
           "x": [
            79,
            80
           ],
           "y": [
            0.030380240899840816,
            0.3545213090376106
           ],
           "z": [
            0.9708443224008205,
            0.3221210156858879
           ]
          }
         ],
         "name": "frame78",
         "traces": [
          0
         ]
        },
        {
         "data": [
          {
           "mode": "lines+markers",
           "type": "scatter3d",
           "x": [
            79,
            80
           ],
           "y": [
            0.030380240899840816,
            0.3545213090376106
           ],
           "z": [
            0.9708443224008205,
            0.3221210156858879
           ]
          },
          {
           "mode": "lines+markers",
           "type": "scatter3d",
           "x": [
            80,
            81
           ],
           "y": [
            0.3545213090376106,
            0.6196464508783007
           ],
           "z": [
            0.3221210156858879,
            0.05485356563102095
           ]
          }
         ],
         "name": "frame79",
         "traces": [
          0
         ]
        },
        {
         "data": [
          {
           "mode": "lines+markers",
           "type": "scatter3d",
           "x": [
            80,
            81
           ],
           "y": [
            0.3545213090376106,
            0.6196464508783007
           ],
           "z": [
            0.3221210156858879,
            0.05485356563102095
           ]
          },
          {
           "mode": "lines+markers",
           "type": "scatter3d",
           "x": [
            81,
            82
           ],
           "y": [
            0.6196464508783007,
            0.34721212816279534
           ],
           "z": [
            0.05485356563102095,
            0.8621429341339438
           ]
          }
         ],
         "name": "frame80",
         "traces": [
          0
         ]
        },
        {
         "data": [
          {
           "mode": "lines+markers",
           "type": "scatter3d",
           "x": [
            81,
            82
           ],
           "y": [
            0.6196464508783007,
            0.34721212816279534
           ],
           "z": [
            0.05485356563102095,
            0.8621429341339438
           ]
          },
          {
           "mode": "lines+markers",
           "type": "scatter3d",
           "x": [
            82,
            83
           ],
           "y": [
            0.34721212816279534,
            0.4315218310623007
           ],
           "z": [
            0.8621429341339438,
            0.6667629615331776
           ]
          }
         ],
         "name": "frame81",
         "traces": [
          0
         ]
        },
        {
         "data": [
          {
           "mode": "lines+markers",
           "type": "scatter3d",
           "x": [
            82,
            83
           ],
           "y": [
            0.34721212816279534,
            0.4315218310623007
           ],
           "z": [
            0.8621429341339438,
            0.6667629615331776
           ]
          },
          {
           "mode": "lines+markers",
           "type": "scatter3d",
           "x": [
            83,
            84
           ],
           "y": [
            0.4315218310623007,
            0.10713035429903173
           ],
           "z": [
            0.6667629615331776,
            0.8057932331903548
           ]
          }
         ],
         "name": "frame82",
         "traces": [
          0
         ]
        },
        {
         "data": [
          {
           "mode": "lines+markers",
           "type": "scatter3d",
           "x": [
            83,
            84
           ],
           "y": [
            0.4315218310623007,
            0.10713035429903173
           ],
           "z": [
            0.6667629615331776,
            0.8057932331903548
           ]
          },
          {
           "mode": "lines+markers",
           "type": "scatter3d",
           "x": [
            84,
            85
           ],
           "y": [
            0.10713035429903173,
            0.56649593125395
           ],
           "z": [
            0.8057932331903548,
            0.10303694938966423
           ]
          }
         ],
         "name": "frame83",
         "traces": [
          0
         ]
        },
        {
         "data": [
          {
           "mode": "lines+markers",
           "type": "scatter3d",
           "x": [
            84,
            85
           ],
           "y": [
            0.10713035429903173,
            0.56649593125395
           ],
           "z": [
            0.8057932331903548,
            0.10303694938966423
           ]
          },
          {
           "mode": "lines+markers",
           "type": "scatter3d",
           "x": [
            85,
            86
           ],
           "y": [
            0.56649593125395,
            0.02338396119959607
           ],
           "z": [
            0.10303694938966423,
            0.692986493494022
           ]
          }
         ],
         "name": "frame84",
         "traces": [
          0
         ]
        },
        {
         "data": [
          {
           "mode": "lines+markers",
           "type": "scatter3d",
           "x": [
            85,
            86
           ],
           "y": [
            0.56649593125395,
            0.02338396119959607
           ],
           "z": [
            0.10303694938966423,
            0.692986493494022
           ]
          },
          {
           "mode": "lines+markers",
           "type": "scatter3d",
           "x": [
            86,
            87
           ],
           "y": [
            0.02338396119959607,
            0.16998796634519042
           ],
           "z": [
            0.692986493494022,
            0.7406453202984403
           ]
          }
         ],
         "name": "frame85",
         "traces": [
          0
         ]
        },
        {
         "data": [
          {
           "mode": "lines+markers",
           "type": "scatter3d",
           "x": [
            86,
            87
           ],
           "y": [
            0.02338396119959607,
            0.16998796634519042
           ],
           "z": [
            0.692986493494022,
            0.7406453202984403
           ]
          },
          {
           "mode": "lines+markers",
           "type": "scatter3d",
           "x": [
            87,
            88
           ],
           "y": [
            0.16998796634519042,
            0.10776214038206533
           ],
           "z": [
            0.7406453202984403,
            0.7400561546139394
           ]
          }
         ],
         "name": "frame86",
         "traces": [
          0
         ]
        },
        {
         "data": [
          {
           "mode": "lines+markers",
           "type": "scatter3d",
           "x": [
            87,
            88
           ],
           "y": [
            0.16998796634519042,
            0.10776214038206533
           ],
           "z": [
            0.7406453202984403,
            0.7400561546139394
           ]
          },
          {
           "mode": "lines+markers",
           "type": "scatter3d",
           "x": [
            88,
            89
           ],
           "y": [
            0.10776214038206533,
            0.5841778645806409
           ],
           "z": [
            0.7400561546139394,
            0.33990321815895386
           ]
          }
         ],
         "name": "frame87",
         "traces": [
          0
         ]
        },
        {
         "data": [
          {
           "mode": "lines+markers",
           "type": "scatter3d",
           "x": [
            88,
            89
           ],
           "y": [
            0.10776214038206533,
            0.5841778645806409
           ],
           "z": [
            0.7400561546139394,
            0.33990321815895386
           ]
          },
          {
           "mode": "lines+markers",
           "type": "scatter3d",
           "x": [
            89,
            90
           ],
           "y": [
            0.5841778645806409,
            0.32105857934720095
           ],
           "z": [
            0.33990321815895386,
            0.48531032083058734
           ]
          }
         ],
         "name": "frame88",
         "traces": [
          0
         ]
        },
        {
         "data": [
          {
           "mode": "lines+markers",
           "type": "scatter3d",
           "x": [
            89,
            90
           ],
           "y": [
            0.5841778645806409,
            0.32105857934720095
           ],
           "z": [
            0.33990321815895386,
            0.48531032083058734
           ]
          },
          {
           "mode": "lines+markers",
           "type": "scatter3d",
           "x": [
            90,
            91
           ],
           "y": [
            0.32105857934720095,
            0.8195893548773054
           ],
           "z": [
            0.48531032083058734,
            0.3355288070901217
           ]
          }
         ],
         "name": "frame89",
         "traces": [
          0
         ]
        },
        {
         "data": [
          {
           "mode": "lines+markers",
           "type": "scatter3d",
           "x": [
            90,
            91
           ],
           "y": [
            0.32105857934720095,
            0.8195893548773054
           ],
           "z": [
            0.48531032083058734,
            0.3355288070901217
           ]
          },
          {
           "mode": "lines+markers",
           "type": "scatter3d",
           "x": [
            91,
            92
           ],
           "y": [
            0.8195893548773054,
            0.021963624903266088
           ],
           "z": [
            0.3355288070901217,
            0.016670251465923935
           ]
          }
         ],
         "name": "frame90",
         "traces": [
          0
         ]
        },
        {
         "data": [
          {
           "mode": "lines+markers",
           "type": "scatter3d",
           "x": [
            91,
            92
           ],
           "y": [
            0.8195893548773054,
            0.021963624903266088
           ],
           "z": [
            0.3355288070901217,
            0.016670251465923935
           ]
          },
          {
           "mode": "lines+markers",
           "type": "scatter3d",
           "x": [
            92,
            93
           ],
           "y": [
            0.021963624903266088,
            0.4627422651251917
           ],
           "z": [
            0.016670251465923935,
            0.9193137944796298
           ]
          }
         ],
         "name": "frame91",
         "traces": [
          0
         ]
        },
        {
         "data": [
          {
           "mode": "lines+markers",
           "type": "scatter3d",
           "x": [
            92,
            93
           ],
           "y": [
            0.021963624903266088,
            0.4627422651251917
           ],
           "z": [
            0.016670251465923935,
            0.9193137944796298
           ]
          },
          {
           "mode": "lines+markers",
           "type": "scatter3d",
           "x": [
            93,
            94
           ],
           "y": [
            0.4627422651251917,
            0.051810785348274435
           ],
           "z": [
            0.9193137944796298,
            0.3002250625916174
           ]
          }
         ],
         "name": "frame92",
         "traces": [
          0
         ]
        },
        {
         "data": [
          {
           "mode": "lines+markers",
           "type": "scatter3d",
           "x": [
            93,
            94
           ],
           "y": [
            0.4627422651251917,
            0.051810785348274435
           ],
           "z": [
            0.9193137944796298,
            0.3002250625916174
           ]
          },
          {
           "mode": "lines+markers",
           "type": "scatter3d",
           "x": [
            94,
            95
           ],
           "y": [
            0.051810785348274435,
            0.10075747736198715
           ],
           "z": [
            0.3002250625916174,
            0.7162265638922966
           ]
          }
         ],
         "name": "frame93",
         "traces": [
          0
         ]
        },
        {
         "data": [
          {
           "mode": "lines+markers",
           "type": "scatter3d",
           "x": [
            94,
            95
           ],
           "y": [
            0.051810785348274435,
            0.10075747736198715
           ],
           "z": [
            0.3002250625916174,
            0.7162265638922966
           ]
          },
          {
           "mode": "lines+markers",
           "type": "scatter3d",
           "x": [
            95,
            96
           ],
           "y": [
            0.10075747736198715,
            0.11037982675956814
           ],
           "z": [
            0.7162265638922966,
            0.3854773537831301
           ]
          }
         ],
         "name": "frame94",
         "traces": [
          0
         ]
        },
        {
         "data": [
          {
           "mode": "lines+markers",
           "type": "scatter3d",
           "x": [
            95,
            96
           ],
           "y": [
            0.10075747736198715,
            0.11037982675956814
           ],
           "z": [
            0.7162265638922966,
            0.3854773537831301
           ]
          },
          {
           "mode": "lines+markers",
           "type": "scatter3d",
           "x": [
            96,
            97
           ],
           "y": [
            0.11037982675956814,
            0.9177904986634787
           ],
           "z": [
            0.3854773537831301,
            0.29054236291946856
           ]
          }
         ],
         "name": "frame95",
         "traces": [
          0
         ]
        },
        {
         "data": [
          {
           "mode": "lines+markers",
           "type": "scatter3d",
           "x": [
            96,
            97
           ],
           "y": [
            0.11037982675956814,
            0.9177904986634787
           ],
           "z": [
            0.3854773537831301,
            0.29054236291946856
           ]
          },
          {
           "mode": "lines+markers",
           "type": "scatter3d",
           "x": [
            97,
            98
           ],
           "y": [
            0.9177904986634787,
            0.014207426355000163
           ],
           "z": [
            0.29054236291946856,
            0.6580183669499234
           ]
          }
         ],
         "name": "frame96",
         "traces": [
          0
         ]
        }
       ],
       "layout": {
        "scene": {
         "xaxis": {
          "autorange": false,
          "range": [
           0,
           99
          ]
         },
         "yaxis": {
          "autorange": false,
          "range": [
           0.0025392730452694634,
           0.9915928801986945
          ]
         },
         "zaxis": {
          "autorange": false,
          "range": [
           0.00902951147683162,
           0.9960757716056323
          ]
         }
        },
        "sliders": [
         {
          "len": 0.9,
          "pad": {
           "b": 10,
           "t": 60
          },
          "steps": [
           {
            "args": [
             [
              "frame0"
             ],
             {
              "frame": {
               "duration": 0
              },
              "fromcurrent": true,
              "mode": "immediate",
              "transition": {
               "duration": 0,
               "easing": "linear"
              }
             }
            ],
            "label": "0",
            "method": "animate"
           },
           {
            "args": [
             [
              "frame1"
             ],
             {
              "frame": {
               "duration": 0
              },
              "fromcurrent": true,
              "mode": "immediate",
              "transition": {
               "duration": 0,
               "easing": "linear"
              }
             }
            ],
            "label": "1",
            "method": "animate"
           },
           {
            "args": [
             [
              "frame2"
             ],
             {
              "frame": {
               "duration": 0
              },
              "fromcurrent": true,
              "mode": "immediate",
              "transition": {
               "duration": 0,
               "easing": "linear"
              }
             }
            ],
            "label": "2",
            "method": "animate"
           },
           {
            "args": [
             [
              "frame3"
             ],
             {
              "frame": {
               "duration": 0
              },
              "fromcurrent": true,
              "mode": "immediate",
              "transition": {
               "duration": 0,
               "easing": "linear"
              }
             }
            ],
            "label": "3",
            "method": "animate"
           },
           {
            "args": [
             [
              "frame4"
             ],
             {
              "frame": {
               "duration": 0
              },
              "fromcurrent": true,
              "mode": "immediate",
              "transition": {
               "duration": 0,
               "easing": "linear"
              }
             }
            ],
            "label": "4",
            "method": "animate"
           },
           {
            "args": [
             [
              "frame5"
             ],
             {
              "frame": {
               "duration": 0
              },
              "fromcurrent": true,
              "mode": "immediate",
              "transition": {
               "duration": 0,
               "easing": "linear"
              }
             }
            ],
            "label": "5",
            "method": "animate"
           },
           {
            "args": [
             [
              "frame6"
             ],
             {
              "frame": {
               "duration": 0
              },
              "fromcurrent": true,
              "mode": "immediate",
              "transition": {
               "duration": 0,
               "easing": "linear"
              }
             }
            ],
            "label": "6",
            "method": "animate"
           },
           {
            "args": [
             [
              "frame7"
             ],
             {
              "frame": {
               "duration": 0
              },
              "fromcurrent": true,
              "mode": "immediate",
              "transition": {
               "duration": 0,
               "easing": "linear"
              }
             }
            ],
            "label": "7",
            "method": "animate"
           },
           {
            "args": [
             [
              "frame8"
             ],
             {
              "frame": {
               "duration": 0
              },
              "fromcurrent": true,
              "mode": "immediate",
              "transition": {
               "duration": 0,
               "easing": "linear"
              }
             }
            ],
            "label": "8",
            "method": "animate"
           },
           {
            "args": [
             [
              "frame9"
             ],
             {
              "frame": {
               "duration": 0
              },
              "fromcurrent": true,
              "mode": "immediate",
              "transition": {
               "duration": 0,
               "easing": "linear"
              }
             }
            ],
            "label": "9",
            "method": "animate"
           },
           {
            "args": [
             [
              "frame10"
             ],
             {
              "frame": {
               "duration": 0
              },
              "fromcurrent": true,
              "mode": "immediate",
              "transition": {
               "duration": 0,
               "easing": "linear"
              }
             }
            ],
            "label": "10",
            "method": "animate"
           },
           {
            "args": [
             [
              "frame11"
             ],
             {
              "frame": {
               "duration": 0
              },
              "fromcurrent": true,
              "mode": "immediate",
              "transition": {
               "duration": 0,
               "easing": "linear"
              }
             }
            ],
            "label": "11",
            "method": "animate"
           },
           {
            "args": [
             [
              "frame12"
             ],
             {
              "frame": {
               "duration": 0
              },
              "fromcurrent": true,
              "mode": "immediate",
              "transition": {
               "duration": 0,
               "easing": "linear"
              }
             }
            ],
            "label": "12",
            "method": "animate"
           },
           {
            "args": [
             [
              "frame13"
             ],
             {
              "frame": {
               "duration": 0
              },
              "fromcurrent": true,
              "mode": "immediate",
              "transition": {
               "duration": 0,
               "easing": "linear"
              }
             }
            ],
            "label": "13",
            "method": "animate"
           },
           {
            "args": [
             [
              "frame14"
             ],
             {
              "frame": {
               "duration": 0
              },
              "fromcurrent": true,
              "mode": "immediate",
              "transition": {
               "duration": 0,
               "easing": "linear"
              }
             }
            ],
            "label": "14",
            "method": "animate"
           },
           {
            "args": [
             [
              "frame15"
             ],
             {
              "frame": {
               "duration": 0
              },
              "fromcurrent": true,
              "mode": "immediate",
              "transition": {
               "duration": 0,
               "easing": "linear"
              }
             }
            ],
            "label": "15",
            "method": "animate"
           },
           {
            "args": [
             [
              "frame16"
             ],
             {
              "frame": {
               "duration": 0
              },
              "fromcurrent": true,
              "mode": "immediate",
              "transition": {
               "duration": 0,
               "easing": "linear"
              }
             }
            ],
            "label": "16",
            "method": "animate"
           },
           {
            "args": [
             [
              "frame17"
             ],
             {
              "frame": {
               "duration": 0
              },
              "fromcurrent": true,
              "mode": "immediate",
              "transition": {
               "duration": 0,
               "easing": "linear"
              }
             }
            ],
            "label": "17",
            "method": "animate"
           },
           {
            "args": [
             [
              "frame18"
             ],
             {
              "frame": {
               "duration": 0
              },
              "fromcurrent": true,
              "mode": "immediate",
              "transition": {
               "duration": 0,
               "easing": "linear"
              }
             }
            ],
            "label": "18",
            "method": "animate"
           },
           {
            "args": [
             [
              "frame19"
             ],
             {
              "frame": {
               "duration": 0
              },
              "fromcurrent": true,
              "mode": "immediate",
              "transition": {
               "duration": 0,
               "easing": "linear"
              }
             }
            ],
            "label": "19",
            "method": "animate"
           },
           {
            "args": [
             [
              "frame20"
             ],
             {
              "frame": {
               "duration": 0
              },
              "fromcurrent": true,
              "mode": "immediate",
              "transition": {
               "duration": 0,
               "easing": "linear"
              }
             }
            ],
            "label": "20",
            "method": "animate"
           },
           {
            "args": [
             [
              "frame21"
             ],
             {
              "frame": {
               "duration": 0
              },
              "fromcurrent": true,
              "mode": "immediate",
              "transition": {
               "duration": 0,
               "easing": "linear"
              }
             }
            ],
            "label": "21",
            "method": "animate"
           },
           {
            "args": [
             [
              "frame22"
             ],
             {
              "frame": {
               "duration": 0
              },
              "fromcurrent": true,
              "mode": "immediate",
              "transition": {
               "duration": 0,
               "easing": "linear"
              }
             }
            ],
            "label": "22",
            "method": "animate"
           },
           {
            "args": [
             [
              "frame23"
             ],
             {
              "frame": {
               "duration": 0
              },
              "fromcurrent": true,
              "mode": "immediate",
              "transition": {
               "duration": 0,
               "easing": "linear"
              }
             }
            ],
            "label": "23",
            "method": "animate"
           },
           {
            "args": [
             [
              "frame24"
             ],
             {
              "frame": {
               "duration": 0
              },
              "fromcurrent": true,
              "mode": "immediate",
              "transition": {
               "duration": 0,
               "easing": "linear"
              }
             }
            ],
            "label": "24",
            "method": "animate"
           },
           {
            "args": [
             [
              "frame25"
             ],
             {
              "frame": {
               "duration": 0
              },
              "fromcurrent": true,
              "mode": "immediate",
              "transition": {
               "duration": 0,
               "easing": "linear"
              }
             }
            ],
            "label": "25",
            "method": "animate"
           },
           {
            "args": [
             [
              "frame26"
             ],
             {
              "frame": {
               "duration": 0
              },
              "fromcurrent": true,
              "mode": "immediate",
              "transition": {
               "duration": 0,
               "easing": "linear"
              }
             }
            ],
            "label": "26",
            "method": "animate"
           },
           {
            "args": [
             [
              "frame27"
             ],
             {
              "frame": {
               "duration": 0
              },
              "fromcurrent": true,
              "mode": "immediate",
              "transition": {
               "duration": 0,
               "easing": "linear"
              }
             }
            ],
            "label": "27",
            "method": "animate"
           },
           {
            "args": [
             [
              "frame28"
             ],
             {
              "frame": {
               "duration": 0
              },
              "fromcurrent": true,
              "mode": "immediate",
              "transition": {
               "duration": 0,
               "easing": "linear"
              }
             }
            ],
            "label": "28",
            "method": "animate"
           },
           {
            "args": [
             [
              "frame29"
             ],
             {
              "frame": {
               "duration": 0
              },
              "fromcurrent": true,
              "mode": "immediate",
              "transition": {
               "duration": 0,
               "easing": "linear"
              }
             }
            ],
            "label": "29",
            "method": "animate"
           },
           {
            "args": [
             [
              "frame30"
             ],
             {
              "frame": {
               "duration": 0
              },
              "fromcurrent": true,
              "mode": "immediate",
              "transition": {
               "duration": 0,
               "easing": "linear"
              }
             }
            ],
            "label": "30",
            "method": "animate"
           },
           {
            "args": [
             [
              "frame31"
             ],
             {
              "frame": {
               "duration": 0
              },
              "fromcurrent": true,
              "mode": "immediate",
              "transition": {
               "duration": 0,
               "easing": "linear"
              }
             }
            ],
            "label": "31",
            "method": "animate"
           },
           {
            "args": [
             [
              "frame32"
             ],
             {
              "frame": {
               "duration": 0
              },
              "fromcurrent": true,
              "mode": "immediate",
              "transition": {
               "duration": 0,
               "easing": "linear"
              }
             }
            ],
            "label": "32",
            "method": "animate"
           },
           {
            "args": [
             [
              "frame33"
             ],
             {
              "frame": {
               "duration": 0
              },
              "fromcurrent": true,
              "mode": "immediate",
              "transition": {
               "duration": 0,
               "easing": "linear"
              }
             }
            ],
            "label": "33",
            "method": "animate"
           },
           {
            "args": [
             [
              "frame34"
             ],
             {
              "frame": {
               "duration": 0
              },
              "fromcurrent": true,
              "mode": "immediate",
              "transition": {
               "duration": 0,
               "easing": "linear"
              }
             }
            ],
            "label": "34",
            "method": "animate"
           },
           {
            "args": [
             [
              "frame35"
             ],
             {
              "frame": {
               "duration": 0
              },
              "fromcurrent": true,
              "mode": "immediate",
              "transition": {
               "duration": 0,
               "easing": "linear"
              }
             }
            ],
            "label": "35",
            "method": "animate"
           },
           {
            "args": [
             [
              "frame36"
             ],
             {
              "frame": {
               "duration": 0
              },
              "fromcurrent": true,
              "mode": "immediate",
              "transition": {
               "duration": 0,
               "easing": "linear"
              }
             }
            ],
            "label": "36",
            "method": "animate"
           },
           {
            "args": [
             [
              "frame37"
             ],
             {
              "frame": {
               "duration": 0
              },
              "fromcurrent": true,
              "mode": "immediate",
              "transition": {
               "duration": 0,
               "easing": "linear"
              }
             }
            ],
            "label": "37",
            "method": "animate"
           },
           {
            "args": [
             [
              "frame38"
             ],
             {
              "frame": {
               "duration": 0
              },
              "fromcurrent": true,
              "mode": "immediate",
              "transition": {
               "duration": 0,
               "easing": "linear"
              }
             }
            ],
            "label": "38",
            "method": "animate"
           },
           {
            "args": [
             [
              "frame39"
             ],
             {
              "frame": {
               "duration": 0
              },
              "fromcurrent": true,
              "mode": "immediate",
              "transition": {
               "duration": 0,
               "easing": "linear"
              }
             }
            ],
            "label": "39",
            "method": "animate"
           },
           {
            "args": [
             [
              "frame40"
             ],
             {
              "frame": {
               "duration": 0
              },
              "fromcurrent": true,
              "mode": "immediate",
              "transition": {
               "duration": 0,
               "easing": "linear"
              }
             }
            ],
            "label": "40",
            "method": "animate"
           },
           {
            "args": [
             [
              "frame41"
             ],
             {
              "frame": {
               "duration": 0
              },
              "fromcurrent": true,
              "mode": "immediate",
              "transition": {
               "duration": 0,
               "easing": "linear"
              }
             }
            ],
            "label": "41",
            "method": "animate"
           },
           {
            "args": [
             [
              "frame42"
             ],
             {
              "frame": {
               "duration": 0
              },
              "fromcurrent": true,
              "mode": "immediate",
              "transition": {
               "duration": 0,
               "easing": "linear"
              }
             }
            ],
            "label": "42",
            "method": "animate"
           },
           {
            "args": [
             [
              "frame43"
             ],
             {
              "frame": {
               "duration": 0
              },
              "fromcurrent": true,
              "mode": "immediate",
              "transition": {
               "duration": 0,
               "easing": "linear"
              }
             }
            ],
            "label": "43",
            "method": "animate"
           },
           {
            "args": [
             [
              "frame44"
             ],
             {
              "frame": {
               "duration": 0
              },
              "fromcurrent": true,
              "mode": "immediate",
              "transition": {
               "duration": 0,
               "easing": "linear"
              }
             }
            ],
            "label": "44",
            "method": "animate"
           },
           {
            "args": [
             [
              "frame45"
             ],
             {
              "frame": {
               "duration": 0
              },
              "fromcurrent": true,
              "mode": "immediate",
              "transition": {
               "duration": 0,
               "easing": "linear"
              }
             }
            ],
            "label": "45",
            "method": "animate"
           },
           {
            "args": [
             [
              "frame46"
             ],
             {
              "frame": {
               "duration": 0
              },
              "fromcurrent": true,
              "mode": "immediate",
              "transition": {
               "duration": 0,
               "easing": "linear"
              }
             }
            ],
            "label": "46",
            "method": "animate"
           },
           {
            "args": [
             [
              "frame47"
             ],
             {
              "frame": {
               "duration": 0
              },
              "fromcurrent": true,
              "mode": "immediate",
              "transition": {
               "duration": 0,
               "easing": "linear"
              }
             }
            ],
            "label": "47",
            "method": "animate"
           },
           {
            "args": [
             [
              "frame48"
             ],
             {
              "frame": {
               "duration": 0
              },
              "fromcurrent": true,
              "mode": "immediate",
              "transition": {
               "duration": 0,
               "easing": "linear"
              }
             }
            ],
            "label": "48",
            "method": "animate"
           },
           {
            "args": [
             [
              "frame49"
             ],
             {
              "frame": {
               "duration": 0
              },
              "fromcurrent": true,
              "mode": "immediate",
              "transition": {
               "duration": 0,
               "easing": "linear"
              }
             }
            ],
            "label": "49",
            "method": "animate"
           },
           {
            "args": [
             [
              "frame50"
             ],
             {
              "frame": {
               "duration": 0
              },
              "fromcurrent": true,
              "mode": "immediate",
              "transition": {
               "duration": 0,
               "easing": "linear"
              }
             }
            ],
            "label": "50",
            "method": "animate"
           },
           {
            "args": [
             [
              "frame51"
             ],
             {
              "frame": {
               "duration": 0
              },
              "fromcurrent": true,
              "mode": "immediate",
              "transition": {
               "duration": 0,
               "easing": "linear"
              }
             }
            ],
            "label": "51",
            "method": "animate"
           },
           {
            "args": [
             [
              "frame52"
             ],
             {
              "frame": {
               "duration": 0
              },
              "fromcurrent": true,
              "mode": "immediate",
              "transition": {
               "duration": 0,
               "easing": "linear"
              }
             }
            ],
            "label": "52",
            "method": "animate"
           },
           {
            "args": [
             [
              "frame53"
             ],
             {
              "frame": {
               "duration": 0
              },
              "fromcurrent": true,
              "mode": "immediate",
              "transition": {
               "duration": 0,
               "easing": "linear"
              }
             }
            ],
            "label": "53",
            "method": "animate"
           },
           {
            "args": [
             [
              "frame54"
             ],
             {
              "frame": {
               "duration": 0
              },
              "fromcurrent": true,
              "mode": "immediate",
              "transition": {
               "duration": 0,
               "easing": "linear"
              }
             }
            ],
            "label": "54",
            "method": "animate"
           },
           {
            "args": [
             [
              "frame55"
             ],
             {
              "frame": {
               "duration": 0
              },
              "fromcurrent": true,
              "mode": "immediate",
              "transition": {
               "duration": 0,
               "easing": "linear"
              }
             }
            ],
            "label": "55",
            "method": "animate"
           },
           {
            "args": [
             [
              "frame56"
             ],
             {
              "frame": {
               "duration": 0
              },
              "fromcurrent": true,
              "mode": "immediate",
              "transition": {
               "duration": 0,
               "easing": "linear"
              }
             }
            ],
            "label": "56",
            "method": "animate"
           },
           {
            "args": [
             [
              "frame57"
             ],
             {
              "frame": {
               "duration": 0
              },
              "fromcurrent": true,
              "mode": "immediate",
              "transition": {
               "duration": 0,
               "easing": "linear"
              }
             }
            ],
            "label": "57",
            "method": "animate"
           },
           {
            "args": [
             [
              "frame58"
             ],
             {
              "frame": {
               "duration": 0
              },
              "fromcurrent": true,
              "mode": "immediate",
              "transition": {
               "duration": 0,
               "easing": "linear"
              }
             }
            ],
            "label": "58",
            "method": "animate"
           },
           {
            "args": [
             [
              "frame59"
             ],
             {
              "frame": {
               "duration": 0
              },
              "fromcurrent": true,
              "mode": "immediate",
              "transition": {
               "duration": 0,
               "easing": "linear"
              }
             }
            ],
            "label": "59",
            "method": "animate"
           },
           {
            "args": [
             [
              "frame60"
             ],
             {
              "frame": {
               "duration": 0
              },
              "fromcurrent": true,
              "mode": "immediate",
              "transition": {
               "duration": 0,
               "easing": "linear"
              }
             }
            ],
            "label": "60",
            "method": "animate"
           },
           {
            "args": [
             [
              "frame61"
             ],
             {
              "frame": {
               "duration": 0
              },
              "fromcurrent": true,
              "mode": "immediate",
              "transition": {
               "duration": 0,
               "easing": "linear"
              }
             }
            ],
            "label": "61",
            "method": "animate"
           },
           {
            "args": [
             [
              "frame62"
             ],
             {
              "frame": {
               "duration": 0
              },
              "fromcurrent": true,
              "mode": "immediate",
              "transition": {
               "duration": 0,
               "easing": "linear"
              }
             }
            ],
            "label": "62",
            "method": "animate"
           },
           {
            "args": [
             [
              "frame63"
             ],
             {
              "frame": {
               "duration": 0
              },
              "fromcurrent": true,
              "mode": "immediate",
              "transition": {
               "duration": 0,
               "easing": "linear"
              }
             }
            ],
            "label": "63",
            "method": "animate"
           },
           {
            "args": [
             [
              "frame64"
             ],
             {
              "frame": {
               "duration": 0
              },
              "fromcurrent": true,
              "mode": "immediate",
              "transition": {
               "duration": 0,
               "easing": "linear"
              }
             }
            ],
            "label": "64",
            "method": "animate"
           },
           {
            "args": [
             [
              "frame65"
             ],
             {
              "frame": {
               "duration": 0
              },
              "fromcurrent": true,
              "mode": "immediate",
              "transition": {
               "duration": 0,
               "easing": "linear"
              }
             }
            ],
            "label": "65",
            "method": "animate"
           },
           {
            "args": [
             [
              "frame66"
             ],
             {
              "frame": {
               "duration": 0
              },
              "fromcurrent": true,
              "mode": "immediate",
              "transition": {
               "duration": 0,
               "easing": "linear"
              }
             }
            ],
            "label": "66",
            "method": "animate"
           },
           {
            "args": [
             [
              "frame67"
             ],
             {
              "frame": {
               "duration": 0
              },
              "fromcurrent": true,
              "mode": "immediate",
              "transition": {
               "duration": 0,
               "easing": "linear"
              }
             }
            ],
            "label": "67",
            "method": "animate"
           },
           {
            "args": [
             [
              "frame68"
             ],
             {
              "frame": {
               "duration": 0
              },
              "fromcurrent": true,
              "mode": "immediate",
              "transition": {
               "duration": 0,
               "easing": "linear"
              }
             }
            ],
            "label": "68",
            "method": "animate"
           },
           {
            "args": [
             [
              "frame69"
             ],
             {
              "frame": {
               "duration": 0
              },
              "fromcurrent": true,
              "mode": "immediate",
              "transition": {
               "duration": 0,
               "easing": "linear"
              }
             }
            ],
            "label": "69",
            "method": "animate"
           },
           {
            "args": [
             [
              "frame70"
             ],
             {
              "frame": {
               "duration": 0
              },
              "fromcurrent": true,
              "mode": "immediate",
              "transition": {
               "duration": 0,
               "easing": "linear"
              }
             }
            ],
            "label": "70",
            "method": "animate"
           },
           {
            "args": [
             [
              "frame71"
             ],
             {
              "frame": {
               "duration": 0
              },
              "fromcurrent": true,
              "mode": "immediate",
              "transition": {
               "duration": 0,
               "easing": "linear"
              }
             }
            ],
            "label": "71",
            "method": "animate"
           },
           {
            "args": [
             [
              "frame72"
             ],
             {
              "frame": {
               "duration": 0
              },
              "fromcurrent": true,
              "mode": "immediate",
              "transition": {
               "duration": 0,
               "easing": "linear"
              }
             }
            ],
            "label": "72",
            "method": "animate"
           },
           {
            "args": [
             [
              "frame73"
             ],
             {
              "frame": {
               "duration": 0
              },
              "fromcurrent": true,
              "mode": "immediate",
              "transition": {
               "duration": 0,
               "easing": "linear"
              }
             }
            ],
            "label": "73",
            "method": "animate"
           },
           {
            "args": [
             [
              "frame74"
             ],
             {
              "frame": {
               "duration": 0
              },
              "fromcurrent": true,
              "mode": "immediate",
              "transition": {
               "duration": 0,
               "easing": "linear"
              }
             }
            ],
            "label": "74",
            "method": "animate"
           },
           {
            "args": [
             [
              "frame75"
             ],
             {
              "frame": {
               "duration": 0
              },
              "fromcurrent": true,
              "mode": "immediate",
              "transition": {
               "duration": 0,
               "easing": "linear"
              }
             }
            ],
            "label": "75",
            "method": "animate"
           },
           {
            "args": [
             [
              "frame76"
             ],
             {
              "frame": {
               "duration": 0
              },
              "fromcurrent": true,
              "mode": "immediate",
              "transition": {
               "duration": 0,
               "easing": "linear"
              }
             }
            ],
            "label": "76",
            "method": "animate"
           },
           {
            "args": [
             [
              "frame77"
             ],
             {
              "frame": {
               "duration": 0
              },
              "fromcurrent": true,
              "mode": "immediate",
              "transition": {
               "duration": 0,
               "easing": "linear"
              }
             }
            ],
            "label": "77",
            "method": "animate"
           },
           {
            "args": [
             [
              "frame78"
             ],
             {
              "frame": {
               "duration": 0
              },
              "fromcurrent": true,
              "mode": "immediate",
              "transition": {
               "duration": 0,
               "easing": "linear"
              }
             }
            ],
            "label": "78",
            "method": "animate"
           },
           {
            "args": [
             [
              "frame79"
             ],
             {
              "frame": {
               "duration": 0
              },
              "fromcurrent": true,
              "mode": "immediate",
              "transition": {
               "duration": 0,
               "easing": "linear"
              }
             }
            ],
            "label": "79",
            "method": "animate"
           },
           {
            "args": [
             [
              "frame80"
             ],
             {
              "frame": {
               "duration": 0
              },
              "fromcurrent": true,
              "mode": "immediate",
              "transition": {
               "duration": 0,
               "easing": "linear"
              }
             }
            ],
            "label": "80",
            "method": "animate"
           },
           {
            "args": [
             [
              "frame81"
             ],
             {
              "frame": {
               "duration": 0
              },
              "fromcurrent": true,
              "mode": "immediate",
              "transition": {
               "duration": 0,
               "easing": "linear"
              }
             }
            ],
            "label": "81",
            "method": "animate"
           },
           {
            "args": [
             [
              "frame82"
             ],
             {
              "frame": {
               "duration": 0
              },
              "fromcurrent": true,
              "mode": "immediate",
              "transition": {
               "duration": 0,
               "easing": "linear"
              }
             }
            ],
            "label": "82",
            "method": "animate"
           },
           {
            "args": [
             [
              "frame83"
             ],
             {
              "frame": {
               "duration": 0
              },
              "fromcurrent": true,
              "mode": "immediate",
              "transition": {
               "duration": 0,
               "easing": "linear"
              }
             }
            ],
            "label": "83",
            "method": "animate"
           },
           {
            "args": [
             [
              "frame84"
             ],
             {
              "frame": {
               "duration": 0
              },
              "fromcurrent": true,
              "mode": "immediate",
              "transition": {
               "duration": 0,
               "easing": "linear"
              }
             }
            ],
            "label": "84",
            "method": "animate"
           },
           {
            "args": [
             [
              "frame85"
             ],
             {
              "frame": {
               "duration": 0
              },
              "fromcurrent": true,
              "mode": "immediate",
              "transition": {
               "duration": 0,
               "easing": "linear"
              }
             }
            ],
            "label": "85",
            "method": "animate"
           },
           {
            "args": [
             [
              "frame86"
             ],
             {
              "frame": {
               "duration": 0
              },
              "fromcurrent": true,
              "mode": "immediate",
              "transition": {
               "duration": 0,
               "easing": "linear"
              }
             }
            ],
            "label": "86",
            "method": "animate"
           },
           {
            "args": [
             [
              "frame87"
             ],
             {
              "frame": {
               "duration": 0
              },
              "fromcurrent": true,
              "mode": "immediate",
              "transition": {
               "duration": 0,
               "easing": "linear"
              }
             }
            ],
            "label": "87",
            "method": "animate"
           },
           {
            "args": [
             [
              "frame88"
             ],
             {
              "frame": {
               "duration": 0
              },
              "fromcurrent": true,
              "mode": "immediate",
              "transition": {
               "duration": 0,
               "easing": "linear"
              }
             }
            ],
            "label": "88",
            "method": "animate"
           },
           {
            "args": [
             [
              "frame89"
             ],
             {
              "frame": {
               "duration": 0
              },
              "fromcurrent": true,
              "mode": "immediate",
              "transition": {
               "duration": 0,
               "easing": "linear"
              }
             }
            ],
            "label": "89",
            "method": "animate"
           },
           {
            "args": [
             [
              "frame90"
             ],
             {
              "frame": {
               "duration": 0
              },
              "fromcurrent": true,
              "mode": "immediate",
              "transition": {
               "duration": 0,
               "easing": "linear"
              }
             }
            ],
            "label": "90",
            "method": "animate"
           },
           {
            "args": [
             [
              "frame91"
             ],
             {
              "frame": {
               "duration": 0
              },
              "fromcurrent": true,
              "mode": "immediate",
              "transition": {
               "duration": 0,
               "easing": "linear"
              }
             }
            ],
            "label": "91",
            "method": "animate"
           },
           {
            "args": [
             [
              "frame92"
             ],
             {
              "frame": {
               "duration": 0
              },
              "fromcurrent": true,
              "mode": "immediate",
              "transition": {
               "duration": 0,
               "easing": "linear"
              }
             }
            ],
            "label": "92",
            "method": "animate"
           },
           {
            "args": [
             [
              "frame93"
             ],
             {
              "frame": {
               "duration": 0
              },
              "fromcurrent": true,
              "mode": "immediate",
              "transition": {
               "duration": 0,
               "easing": "linear"
              }
             }
            ],
            "label": "93",
            "method": "animate"
           },
           {
            "args": [
             [
              "frame94"
             ],
             {
              "frame": {
               "duration": 0
              },
              "fromcurrent": true,
              "mode": "immediate",
              "transition": {
               "duration": 0,
               "easing": "linear"
              }
             }
            ],
            "label": "94",
            "method": "animate"
           },
           {
            "args": [
             [
              "frame95"
             ],
             {
              "frame": {
               "duration": 0
              },
              "fromcurrent": true,
              "mode": "immediate",
              "transition": {
               "duration": 0,
               "easing": "linear"
              }
             }
            ],
            "label": "95",
            "method": "animate"
           },
           {
            "args": [
             [
              "frame96"
             ],
             {
              "frame": {
               "duration": 0
              },
              "fromcurrent": true,
              "mode": "immediate",
              "transition": {
               "duration": 0,
               "easing": "linear"
              }
             }
            ],
            "label": "96",
            "method": "animate"
           }
          ],
          "x": 0.1,
          "y": 0
         }
        ],
        "template": {
         "data": {
          "bar": [
           {
            "error_x": {
             "color": "#2a3f5f"
            },
            "error_y": {
             "color": "#2a3f5f"
            },
            "marker": {
             "line": {
              "color": "#E5ECF6",
              "width": 0.5
             },
             "pattern": {
              "fillmode": "overlay",
              "size": 10,
              "solidity": 0.2
             }
            },
            "type": "bar"
           }
          ],
          "barpolar": [
           {
            "marker": {
             "line": {
              "color": "#E5ECF6",
              "width": 0.5
             },
             "pattern": {
              "fillmode": "overlay",
              "size": 10,
              "solidity": 0.2
             }
            },
            "type": "barpolar"
           }
          ],
          "carpet": [
           {
            "aaxis": {
             "endlinecolor": "#2a3f5f",
             "gridcolor": "white",
             "linecolor": "white",
             "minorgridcolor": "white",
             "startlinecolor": "#2a3f5f"
            },
            "baxis": {
             "endlinecolor": "#2a3f5f",
             "gridcolor": "white",
             "linecolor": "white",
             "minorgridcolor": "white",
             "startlinecolor": "#2a3f5f"
            },
            "type": "carpet"
           }
          ],
          "choropleth": [
           {
            "colorbar": {
             "outlinewidth": 0,
             "ticks": ""
            },
            "type": "choropleth"
           }
          ],
          "contour": [
           {
            "colorbar": {
             "outlinewidth": 0,
             "ticks": ""
            },
            "colorscale": [
             [
              0,
              "#0d0887"
             ],
             [
              0.1111111111111111,
              "#46039f"
             ],
             [
              0.2222222222222222,
              "#7201a8"
             ],
             [
              0.3333333333333333,
              "#9c179e"
             ],
             [
              0.4444444444444444,
              "#bd3786"
             ],
             [
              0.5555555555555556,
              "#d8576b"
             ],
             [
              0.6666666666666666,
              "#ed7953"
             ],
             [
              0.7777777777777778,
              "#fb9f3a"
             ],
             [
              0.8888888888888888,
              "#fdca26"
             ],
             [
              1,
              "#f0f921"
             ]
            ],
            "type": "contour"
           }
          ],
          "contourcarpet": [
           {
            "colorbar": {
             "outlinewidth": 0,
             "ticks": ""
            },
            "type": "contourcarpet"
           }
          ],
          "heatmap": [
           {
            "colorbar": {
             "outlinewidth": 0,
             "ticks": ""
            },
            "colorscale": [
             [
              0,
              "#0d0887"
             ],
             [
              0.1111111111111111,
              "#46039f"
             ],
             [
              0.2222222222222222,
              "#7201a8"
             ],
             [
              0.3333333333333333,
              "#9c179e"
             ],
             [
              0.4444444444444444,
              "#bd3786"
             ],
             [
              0.5555555555555556,
              "#d8576b"
             ],
             [
              0.6666666666666666,
              "#ed7953"
             ],
             [
              0.7777777777777778,
              "#fb9f3a"
             ],
             [
              0.8888888888888888,
              "#fdca26"
             ],
             [
              1,
              "#f0f921"
             ]
            ],
            "type": "heatmap"
           }
          ],
          "heatmapgl": [
           {
            "colorbar": {
             "outlinewidth": 0,
             "ticks": ""
            },
            "colorscale": [
             [
              0,
              "#0d0887"
             ],
             [
              0.1111111111111111,
              "#46039f"
             ],
             [
              0.2222222222222222,
              "#7201a8"
             ],
             [
              0.3333333333333333,
              "#9c179e"
             ],
             [
              0.4444444444444444,
              "#bd3786"
             ],
             [
              0.5555555555555556,
              "#d8576b"
             ],
             [
              0.6666666666666666,
              "#ed7953"
             ],
             [
              0.7777777777777778,
              "#fb9f3a"
             ],
             [
              0.8888888888888888,
              "#fdca26"
             ],
             [
              1,
              "#f0f921"
             ]
            ],
            "type": "heatmapgl"
           }
          ],
          "histogram": [
           {
            "marker": {
             "pattern": {
              "fillmode": "overlay",
              "size": 10,
              "solidity": 0.2
             }
            },
            "type": "histogram"
           }
          ],
          "histogram2d": [
           {
            "colorbar": {
             "outlinewidth": 0,
             "ticks": ""
            },
            "colorscale": [
             [
              0,
              "#0d0887"
             ],
             [
              0.1111111111111111,
              "#46039f"
             ],
             [
              0.2222222222222222,
              "#7201a8"
             ],
             [
              0.3333333333333333,
              "#9c179e"
             ],
             [
              0.4444444444444444,
              "#bd3786"
             ],
             [
              0.5555555555555556,
              "#d8576b"
             ],
             [
              0.6666666666666666,
              "#ed7953"
             ],
             [
              0.7777777777777778,
              "#fb9f3a"
             ],
             [
              0.8888888888888888,
              "#fdca26"
             ],
             [
              1,
              "#f0f921"
             ]
            ],
            "type": "histogram2d"
           }
          ],
          "histogram2dcontour": [
           {
            "colorbar": {
             "outlinewidth": 0,
             "ticks": ""
            },
            "colorscale": [
             [
              0,
              "#0d0887"
             ],
             [
              0.1111111111111111,
              "#46039f"
             ],
             [
              0.2222222222222222,
              "#7201a8"
             ],
             [
              0.3333333333333333,
              "#9c179e"
             ],
             [
              0.4444444444444444,
              "#bd3786"
             ],
             [
              0.5555555555555556,
              "#d8576b"
             ],
             [
              0.6666666666666666,
              "#ed7953"
             ],
             [
              0.7777777777777778,
              "#fb9f3a"
             ],
             [
              0.8888888888888888,
              "#fdca26"
             ],
             [
              1,
              "#f0f921"
             ]
            ],
            "type": "histogram2dcontour"
           }
          ],
          "mesh3d": [
           {
            "colorbar": {
             "outlinewidth": 0,
             "ticks": ""
            },
            "type": "mesh3d"
           }
          ],
          "parcoords": [
           {
            "line": {
             "colorbar": {
              "outlinewidth": 0,
              "ticks": ""
             }
            },
            "type": "parcoords"
           }
          ],
          "pie": [
           {
            "automargin": true,
            "type": "pie"
           }
          ],
          "scatter": [
           {
            "fillpattern": {
             "fillmode": "overlay",
             "size": 10,
             "solidity": 0.2
            },
            "type": "scatter"
           }
          ],
          "scatter3d": [
           {
            "line": {
             "colorbar": {
              "outlinewidth": 0,
              "ticks": ""
             }
            },
            "marker": {
             "colorbar": {
              "outlinewidth": 0,
              "ticks": ""
             }
            },
            "type": "scatter3d"
           }
          ],
          "scattercarpet": [
           {
            "marker": {
             "colorbar": {
              "outlinewidth": 0,
              "ticks": ""
             }
            },
            "type": "scattercarpet"
           }
          ],
          "scattergeo": [
           {
            "marker": {
             "colorbar": {
              "outlinewidth": 0,
              "ticks": ""
             }
            },
            "type": "scattergeo"
           }
          ],
          "scattergl": [
           {
            "marker": {
             "colorbar": {
              "outlinewidth": 0,
              "ticks": ""
             }
            },
            "type": "scattergl"
           }
          ],
          "scattermapbox": [
           {
            "marker": {
             "colorbar": {
              "outlinewidth": 0,
              "ticks": ""
             }
            },
            "type": "scattermapbox"
           }
          ],
          "scatterpolar": [
           {
            "marker": {
             "colorbar": {
              "outlinewidth": 0,
              "ticks": ""
             }
            },
            "type": "scatterpolar"
           }
          ],
          "scatterpolargl": [
           {
            "marker": {
             "colorbar": {
              "outlinewidth": 0,
              "ticks": ""
             }
            },
            "type": "scatterpolargl"
           }
          ],
          "scatterternary": [
           {
            "marker": {
             "colorbar": {
              "outlinewidth": 0,
              "ticks": ""
             }
            },
            "type": "scatterternary"
           }
          ],
          "surface": [
           {
            "colorbar": {
             "outlinewidth": 0,
             "ticks": ""
            },
            "colorscale": [
             [
              0,
              "#0d0887"
             ],
             [
              0.1111111111111111,
              "#46039f"
             ],
             [
              0.2222222222222222,
              "#7201a8"
             ],
             [
              0.3333333333333333,
              "#9c179e"
             ],
             [
              0.4444444444444444,
              "#bd3786"
             ],
             [
              0.5555555555555556,
              "#d8576b"
             ],
             [
              0.6666666666666666,
              "#ed7953"
             ],
             [
              0.7777777777777778,
              "#fb9f3a"
             ],
             [
              0.8888888888888888,
              "#fdca26"
             ],
             [
              1,
              "#f0f921"
             ]
            ],
            "type": "surface"
           }
          ],
          "table": [
           {
            "cells": {
             "fill": {
              "color": "#EBF0F8"
             },
             "line": {
              "color": "white"
             }
            },
            "header": {
             "fill": {
              "color": "#C8D4E3"
             },
             "line": {
              "color": "white"
             }
            },
            "type": "table"
           }
          ]
         },
         "layout": {
          "annotationdefaults": {
           "arrowcolor": "#2a3f5f",
           "arrowhead": 0,
           "arrowwidth": 1
          },
          "autotypenumbers": "strict",
          "coloraxis": {
           "colorbar": {
            "outlinewidth": 0,
            "ticks": ""
           }
          },
          "colorscale": {
           "diverging": [
            [
             0,
             "#8e0152"
            ],
            [
             0.1,
             "#c51b7d"
            ],
            [
             0.2,
             "#de77ae"
            ],
            [
             0.3,
             "#f1b6da"
            ],
            [
             0.4,
             "#fde0ef"
            ],
            [
             0.5,
             "#f7f7f7"
            ],
            [
             0.6,
             "#e6f5d0"
            ],
            [
             0.7,
             "#b8e186"
            ],
            [
             0.8,
             "#7fbc41"
            ],
            [
             0.9,
             "#4d9221"
            ],
            [
             1,
             "#276419"
            ]
           ],
           "sequential": [
            [
             0,
             "#0d0887"
            ],
            [
             0.1111111111111111,
             "#46039f"
            ],
            [
             0.2222222222222222,
             "#7201a8"
            ],
            [
             0.3333333333333333,
             "#9c179e"
            ],
            [
             0.4444444444444444,
             "#bd3786"
            ],
            [
             0.5555555555555556,
             "#d8576b"
            ],
            [
             0.6666666666666666,
             "#ed7953"
            ],
            [
             0.7777777777777778,
             "#fb9f3a"
            ],
            [
             0.8888888888888888,
             "#fdca26"
            ],
            [
             1,
             "#f0f921"
            ]
           ],
           "sequentialminus": [
            [
             0,
             "#0d0887"
            ],
            [
             0.1111111111111111,
             "#46039f"
            ],
            [
             0.2222222222222222,
             "#7201a8"
            ],
            [
             0.3333333333333333,
             "#9c179e"
            ],
            [
             0.4444444444444444,
             "#bd3786"
            ],
            [
             0.5555555555555556,
             "#d8576b"
            ],
            [
             0.6666666666666666,
             "#ed7953"
            ],
            [
             0.7777777777777778,
             "#fb9f3a"
            ],
            [
             0.8888888888888888,
             "#fdca26"
            ],
            [
             1,
             "#f0f921"
            ]
           ]
          },
          "colorway": [
           "#636efa",
           "#EF553B",
           "#00cc96",
           "#ab63fa",
           "#FFA15A",
           "#19d3f3",
           "#FF6692",
           "#B6E880",
           "#FF97FF",
           "#FECB52"
          ],
          "font": {
           "color": "#2a3f5f"
          },
          "geo": {
           "bgcolor": "white",
           "lakecolor": "white",
           "landcolor": "#E5ECF6",
           "showlakes": true,
           "showland": true,
           "subunitcolor": "white"
          },
          "hoverlabel": {
           "align": "left"
          },
          "hovermode": "closest",
          "mapbox": {
           "style": "light"
          },
          "paper_bgcolor": "white",
          "plot_bgcolor": "#E5ECF6",
          "polar": {
           "angularaxis": {
            "gridcolor": "white",
            "linecolor": "white",
            "ticks": ""
           },
           "bgcolor": "#E5ECF6",
           "radialaxis": {
            "gridcolor": "white",
            "linecolor": "white",
            "ticks": ""
           }
          },
          "scene": {
           "xaxis": {
            "backgroundcolor": "#E5ECF6",
            "gridcolor": "white",
            "gridwidth": 2,
            "linecolor": "white",
            "showbackground": true,
            "ticks": "",
            "zerolinecolor": "white"
           },
           "yaxis": {
            "backgroundcolor": "#E5ECF6",
            "gridcolor": "white",
            "gridwidth": 2,
            "linecolor": "white",
            "showbackground": true,
            "ticks": "",
            "zerolinecolor": "white"
           },
           "zaxis": {
            "backgroundcolor": "#E5ECF6",
            "gridcolor": "white",
            "gridwidth": 2,
            "linecolor": "white",
            "showbackground": true,
            "ticks": "",
            "zerolinecolor": "white"
           }
          },
          "shapedefaults": {
           "line": {
            "color": "#2a3f5f"
           }
          },
          "ternary": {
           "aaxis": {
            "gridcolor": "white",
            "linecolor": "white",
            "ticks": ""
           },
           "baxis": {
            "gridcolor": "white",
            "linecolor": "white",
            "ticks": ""
           },
           "bgcolor": "#E5ECF6",
           "caxis": {
            "gridcolor": "white",
            "linecolor": "white",
            "ticks": ""
           }
          },
          "title": {
           "x": 0.05
          },
          "xaxis": {
           "automargin": true,
           "gridcolor": "white",
           "linecolor": "white",
           "ticks": "",
           "title": {
            "standoff": 15
           },
           "zerolinecolor": "white",
           "zerolinewidth": 2
          },
          "yaxis": {
           "automargin": true,
           "gridcolor": "white",
           "linecolor": "white",
           "ticks": "",
           "title": {
            "standoff": 15
           },
           "zerolinecolor": "white",
           "zerolinewidth": 2
          }
         }
        },
        "updatemenus": [
         {
          "buttons": [
           {
            "args": [
             null,
             {
              "frame": {
               "duration": 50
              },
              "fromcurrent": true,
              "mode": "immediate",
              "transition": {
               "duration": 50,
               "easing": "linear"
              }
             }
            ],
            "label": "Play",
            "method": "animate"
           },
           {
            "args": [
             [
              null
             ],
             {
              "frame": {
               "duration": 0
              },
              "fromcurrent": true,
              "mode": "immediate",
              "transition": {
               "duration": 0,
               "easing": "linear"
              }
             }
            ],
            "label": "Pause",
            "method": "animate"
           }
          ],
          "direction": "left",
          "pad": {
           "r": 10,
           "t": 70
          },
          "type": "buttons",
          "x": 0.1,
          "y": 0
         }
        ]
       }
      }
     },
     "metadata": {},
     "output_type": "display_data"
    }
   ],
   "source": [
    "# bottom up test\n",
    "\n",
    "import numpy as np\n",
    "import plotly.graph_objects as go\n",
    "\n",
    "#x,y,z = np.genfromtxt(r'dat.txt', unpack=True)\n",
    "x = np.linspace(0, 10, 100).reshape(-1, 2)\n",
    "y = np.linspace(0, 10, 100).reshape(-1, 2)\n",
    "z = np.linspace(0, 10, 100).reshape(-1, 2)\n",
    "\n",
    "x = np.arange(100)\n",
    "y = np.random.random(100)\n",
    "z = np.random.random(100)\n",
    "\n",
    "# Create figure\n",
    "fig = go.Figure(\n",
    "    data = go.Scatter3d(\n",
    "        x=[], y=[], z=[],\n",
    "        mode=\"markers\",\n",
    "        marker=dict(color=\"red\", size=10)\n",
    "    )\n",
    ")\n",
    "\n",
    "# Frames\n",
    "frames = [\n",
    "    go.Frame(\n",
    "        data = [\n",
    "            go.Scatter3d(\n",
    "                x=x[k:k+2],\n",
    "                y=y[k:k+2],\n",
    "                z=z[k:k+2],\n",
    "                mode=\"lines+markers\"\n",
    "            ),\n",
    "            go.Scatter3d(\n",
    "                x=x[k+1:k+3],\n",
    "                y=y[k+1:k+3],\n",
    "                z=z[k+1:k+3],\n",
    "                mode=\"lines+markers\"\n",
    "            )\n",
    "        \n",
    "        ],\n",
    "        traces= [0],\n",
    "        name=f'frame{k}'      \n",
    "    )for k  in  range(len(x)-3)\n",
    "]\n",
    "fig.update(frames=frames)\n",
    "\n",
    "\n",
    "def frame_args(duration):\n",
    "    return {\n",
    "        \"frame\": {\"duration\": duration},\n",
    "        \"mode\": \"immediate\",\n",
    "        \"fromcurrent\": True,\n",
    "        \"transition\": {\"duration\": duration, \"easing\": \"linear\"},\n",
    "    }\n",
    "\n",
    "\n",
    "sliders = [\n",
    "    {\n",
    "        \"pad\": {\"b\": 10, \"t\": 60},\n",
    "        \"len\": 0.9,\n",
    "        \"x\": 0.1,\n",
    "        \"y\": 0,\n",
    "        \"steps\": [\n",
    "            {\n",
    "                \"args\": [[f.name], frame_args(0)],\n",
    "                \"label\": str(k),\n",
    "                \"method\": \"animate\",\n",
    "            } for k, f in enumerate(fig.frames)\n",
    "        ]\n",
    "    }\n",
    "]\n",
    "\n",
    "fig.update_layout(\n",
    "    updatemenus = [\n",
    "        {\n",
    "            \"buttons\":[\n",
    "                {\n",
    "                    \"args\": [None, frame_args(50)],\n",
    "                    \"label\": \"Play\", \n",
    "                    \"method\": \"animate\",\n",
    "                },\n",
    "                {\n",
    "                    \"args\": [[None], frame_args(0)],\n",
    "                    \"label\": \"Pause\", \n",
    "                    \"method\": \"animate\",\n",
    "                }\n",
    "            ],    \n",
    "            \"direction\": \"left\",\n",
    "            \"pad\": {\"r\": 10, \"t\": 70},\n",
    "            \"type\": \"buttons\",\n",
    "            \"x\": 0.1,\n",
    "            \"y\": 0,\n",
    "        }\n",
    "    ],\n",
    "    sliders=sliders\n",
    ")\n",
    "\n",
    "fig.update_layout(\n",
    "    scene = dict(\n",
    "        xaxis=dict(range=[x.min(), x.max()], autorange=False),\n",
    "        yaxis=dict(range=[y.min(), y.max()], autorange=False),\n",
    "        zaxis=dict(range=[z.min(), z.max()], autorange=False)\n",
    "    )\n",
    ")\n",
    "\n",
    "fig.update_layout(sliders=sliders)\n",
    "fig.show()"
   ]
  },
  {
   "cell_type": "code",
   "execution_count": 92,
   "metadata": {},
   "outputs": [
    {
     "data": {
      "text/plain": [
       "0.0"
      ]
     },
     "execution_count": 92,
     "metadata": {},
     "output_type": "execute_result"
    }
   ],
   "source": [
    "x.min()"
   ]
  }
 ],
 "metadata": {
  "kernelspec": {
   "display_name": "first",
   "language": "python",
   "name": "python3"
  },
  "language_info": {
   "codemirror_mode": {
    "name": "ipython",
    "version": 3
   },
   "file_extension": ".py",
   "mimetype": "text/x-python",
   "name": "python",
   "nbconvert_exporter": "python",
   "pygments_lexer": "ipython3",
   "version": "3.10.9"
  },
  "orig_nbformat": 4
 },
 "nbformat": 4,
 "nbformat_minor": 2
}
