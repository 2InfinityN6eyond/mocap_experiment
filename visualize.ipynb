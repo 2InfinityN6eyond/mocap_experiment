{
 "cells": [
  {
   "cell_type": "code",
   "execution_count": 352,
   "metadata": {},
   "outputs": [],
   "source": [
    "import pandas as pd\n",
    "import io\n",
    "import os\n",
    "import glob\n",
    "from dataclasses import dataclass\n",
    "import matplotlib.pyplot as plt\n",
    "import numpy as np\n",
    "\n",
    "import plotly.graph_objects as go\n",
    "\n",
    "def rpy2rm(roll, pitch, yaw) :\n",
    "    '''\n",
    "    fixed angle rotation values to rotation matrix\n",
    "    same as euler angle with ZYX order\n",
    "    '''\n",
    "    c = np.cos\n",
    "    s = np.sin\n",
    "    r, p, y = roll, pitch, yaw\n",
    "    Rz = np.array([\n",
    "        [ c(y), -s(y), 0],\n",
    "        [ s(y),  c(y), 0],\n",
    "        [    0,     0, 1]\n",
    "    ])\n",
    "    Ry = np.array([\n",
    "        [ c(p), 0, s(p)],\n",
    "        [    0, 1,     0],\n",
    "        [ -s(p), 0,  c(p)]\n",
    "    ])\n",
    "    Rx = np.array([\n",
    "        [1,    0,     0],\n",
    "        [0, c(r), -s(r)],\n",
    "        [0, s(r),  c(r)]\n",
    "    ])\n",
    "    return Rz @ Ry @ Rx\n",
    "\n",
    "def rotate(landmark, roll, pitch, yaw) :\n",
    "    \"\"\"\n",
    "    input type : degree\n",
    "    \"\"\"\n",
    "\n",
    "    R = rpy2rm(np.rad2deg(roll), np.rad2deg(pitch), np.rad2deg(yaw))\n",
    "    return (R @ landmark.T).T\n",
    "\n",
    "\n",
    "def averate_filter(arr, kernel_size=3) :\n",
    "    stacked = np.vstack([\n",
    "        arr[i:len(arr)-kernel_size+i+1] for i in range(kernel_size)\n",
    "    ])\n",
    "    return stacked.sum(axis=0) / kernel_size\n",
    "\n",
    "\n",
    "def plot(\n",
    "    points, connection_idx_list,\n",
    "    line_color_list = None,\n",
    "    show = True\n",
    ") :\n",
    "    '''\n",
    "    points : np.ndarray\n",
    "        shape : N, 2\n",
    "    '''\n",
    "    if not line_color_list :\n",
    "        line_color_list = ['red'] * (len(connection_idx_list))\n",
    "\n",
    "    fig = go.Figure(\n",
    "        data = list(map(\n",
    "            lambda i, j, c : go.Scatter(\n",
    "                x = points[[i, j], 0],\n",
    "                y = points[[i, j], 1],\n",
    "                mode = 'lines+markers+text',\n",
    "                line = dict(\n",
    "                    color = c\n",
    "                ),\n",
    "                marker = dict(\n",
    "                    color = c,\n",
    "                    size = 2\n",
    "                )\n",
    "            ),\n",
    "            connection_idx_list[:-1],\n",
    "            connection_idx_list[1:],\n",
    "            line_color_list\n",
    "        ))\n",
    "    )\n",
    "    fig.update_yaxes(scaleanchor='x', scaleratio=1)\n",
    "\n",
    "    if show :\n",
    "        fig.show()\n",
    "\n",
    "def plot3d(\n",
    "    points, connection_idx_list,\n",
    "    line_color_list = None,\n",
    "    show = True\n",
    ") :\n",
    "    '''\n",
    "    points : np.ndarray\n",
    "        shape : N, 3\n",
    "    '''\n",
    "    if not line_color_list :\n",
    "        line_color_list = ['red'] * (len(connection_idx_list))\n",
    "\n",
    "    fig = go.Figure(\n",
    "        data = list(map(\n",
    "            lambda i, j, c : go.Scatter3d(\n",
    "                x = points[[i, j], 0],\n",
    "                y = points[[i, j], 1],\n",
    "                z = points[[i, j], 2],\n",
    "                mode = 'lines+markers+text',\n",
    "                line = dict(\n",
    "                    color = c\n",
    "                ),\n",
    "                marker = dict(\n",
    "                    color = c,\n",
    "                    size = 2\n",
    "                )\n",
    "            ),\n",
    "            connection_idx_list[:-1],\n",
    "            connection_idx_list[1:],\n",
    "            line_color_list\n",
    "        ))\n",
    "    )\n",
    "\n",
    "    max_range = np.max(np.ptp(points, axis=0))\n",
    "    xmin, ymin, zmin = points.min(axis=0)\n",
    "\n",
    "    fig.update_layout(scene=dict(aspectmode='cube'))\n",
    "    fig.update_layout(scene=dict(\n",
    "        xaxis = dict(range=[xmin-0.1, xmin + max_range+ 0.1]),\n",
    "        yaxis = dict(range=[ymin-0.1, ymin + max_range+ 0.1]),\n",
    "        zaxis = dict(range=[zmin-0.1, zmin + max_range+ 0.1])\n",
    "    ))\n",
    "\n",
    "    layout = go.Layout(\n",
    "        scene = dict(\n",
    "            camera = dict(\n",
    "                eye = dict(x=-1, y = -1, z = 1)\n",
    "            ),\n",
    "            aspectmode=\"data\"\n",
    "        )\n",
    "    )\n",
    "    fig.layout = layout\n",
    "    if show :\n",
    "        fig.show()\n",
    "\n",
    "\n",
    "@dataclass\n",
    "class MocapLowerLandmark :\n",
    "    LANK: np.ndarray = None # 0\n",
    "    LASI: np.ndarray = None # 1\n",
    "    LHEE: np.ndarray = None # 2\n",
    "    LKNE: np.ndarray = None # 3\n",
    "    LPSI: np.ndarray = None # 4\n",
    "    LTHI: np.ndarray = None # 5\n",
    "    LTIB: np.ndarray = None # 6\n",
    "    LTOE: np.ndarray = None # 7\n",
    "    RANK: np.ndarray = None # 8\n",
    "    RASI: np.ndarray = None # 9\n",
    "    RHEE: np.ndarray = None # 10\n",
    "    RKNE: np.ndarray = None # 11\n",
    "    RPSI: np.ndarray = None # 12\n",
    "    RTHI: np.ndarray = None # 13\n",
    "    RTIB: np.ndarray = None # 14\n",
    "    RTOE: np.ndarray = None # 15\n",
    "    \n",
    "    CONN_PATH_LIST = [\n",
    "         7,  2,  0,  3,  1,  4, \n",
    "        12,  9, 11,  8, 10, 15\n",
    "    ]\n",
    "\n",
    "    @staticmethod\n",
    "    def calcKneeDegrees(mocap_df, idx = 0) :\n",
    "        raw_val = mocap_df.loc[:, ~mocap_df.columns.isin([\"Frame\", \"Time (Seconds)\"]) ].to_numpy()\n",
    "        raw_val = raw_val[idx].reshape(16, 3)\n",
    "\n",
    "        rthai = raw_val[9] - raw_val[11]\n",
    "        rcalf = raw_val[8] - raw_val[11]\n",
    "\n",
    "        lthai = raw_val[1] - raw_val[3]\n",
    "        lcalf = raw_val[0] - raw_val[3]\n",
    "\n",
    "        rthai_unit = rthai / np.linalg.norm(rthai)\n",
    "        rcalf_unit = rcalf / np.linalg.norm(rcalf)\n",
    "\n",
    "        lthai_unit = lthai / np.linalg.norm(lthai)\n",
    "        lcalf_unit = lcalf / np.linalg.norm(lcalf)\n",
    "\n",
    "        rangle = np.arccos(np.dot(rthai_unit, rcalf_unit))\n",
    "        langle = np.arccos(np.dot(lthai_unit, lcalf_unit))\n",
    "\n",
    "        return langle, rangle\n",
    "\n",
    "    @staticmethod\n",
    "    def df2landmark(mocap_df, idx = 0) :\n",
    "        raw_val = mocap_df.loc[:, ~mocap_df.columns.isin([\"Frame\", \"Time (Seconds)\"]) ].to_numpy()\n",
    "        return raw_val[idx].reshape(16, 3)\n",
    "\n"
   ]
  },
  {
   "cell_type": "code",
   "execution_count": 324,
   "metadata": {},
   "outputs": [],
   "source": [
    "def read_whole_data(trial_idx, experiment_idx) :\n",
    "    FORCE_PLATE_1_PATH = f\"/Volumes/HJP/CODES/mocap/data/d1/230626_Group7_trial{trial_idx}_{experiment_idx:03}_forceplate_1.csv\"\n",
    "    FORCE_PLATE_2_PATH = f\"/Volumes/HJP/CODES/mocap/data/d1/230626_Group7_trial{trial_idx}_{experiment_idx:03}_forceplate_2.csv\"\n",
    "    MOCAP_PATH = f\"/Volumes/HJP/CODES/mocap/data/d1/230626_Group7_trial{trial_idx}_{experiment_idx:03}.csv\"\n",
    "    EMG_PATH = f\"/Volumes/HJP/CODES/mocap/data/d1/230626_Group7_trial{trial_idx}_{experiment_idx:03}_Trigno_2883.csv\"\n",
    "\n",
    "    \n",
    "    with open(FORCE_PLATE_1_PATH, \"r\") as fp :\n",
    "        lines = fp.readlines()\n",
    "    raw_text = \"\".join(lines)\n",
    "    table = raw_text.split(\"\\n\\n\")[-1]\n",
    "    fp1_df = pd.read_csv(io.StringIO(table))\n",
    "\n",
    "    with open(FORCE_PLATE_2_PATH, \"r\") as fp :\n",
    "        lines = fp.readlines()\n",
    "    raw_text = \"\".join(lines)\n",
    "    table = raw_text.split(\"\\n\\n\")[-1]\n",
    "    fp2_df = pd.read_csv(io.StringIO(table))\n",
    "\n",
    "    with open(EMG_PATH, \"r\") as fp :\n",
    "        lines = fp.readlines()\n",
    "    raw_text = \"\".join(lines)\n",
    "    table = raw_text.split(\"\\n\\n\")[-1]\n",
    "    emg_df = pd.read_csv(io.StringIO(table))\n",
    "\n",
    "    with open(MOCAP_PATH, \"r\") as fp :\n",
    "        lines = fp.readlines()\n",
    "    mocap_df = pd.read_csv(io.StringIO( ''.join(lines[6:]) ))\n",
    "    \n",
    "    return mocap_df, emg_df, fp1_df, fp2_df\n",
    "\n",
    "mocap_df, emg_df, fp1_df, fp2_df = read_whole_data(2, 1)"
   ]
  },
  {
   "cell_type": "code",
   "execution_count": 339,
   "metadata": {},
   "outputs": [
    {
     "data": {
      "image/png": "[encoded data removed]",
      "text/plain": [
       "<Figure size 640x480 with 1 Axes>"
      ]
     },
     "metadata": {},
     "output_type": "display_data"
    },
    {
     "data": {
      "image/png": "[encoded data removed]",
      "text/plain": [
       "<Figure size 640x480 with 1 Axes>"
      ]
     },
     "metadata": {},
     "output_type": "display_data"
    }
   ],
   "source": [
    "orange = (1.0, 0.7, 0.2)\n",
    "blue = (0.5, 0.5, 1.0)\n",
    "\n",
    "plt.plot(\n",
    "    averate_filter(emg_df[\"Sensor 1\"].to_numpy(), kernel_size=2),\n",
    "    label = \"Sensor 1\",\n",
    "    linewidth=0.5,\n",
    "    color = orange,\n",
    "    alpha = 0.6\n",
    ")\n",
    "\n",
    "plt.plot( \n",
    "    averate_filter(emg_df[\"Sensor 2\"].to_numpy(), kernel_size=2),\n",
    "    label = \"Sensor 2\",\n",
    "    linewidth=0.5,\n",
    "    color = blue,\n",
    "    alpha = 0.6\n",
    ")\n",
    "plt.title(\"emg\")\n",
    "plt.legend()\n",
    "plt.show()\n",
    "\n",
    "plt.plot(fp1_df[\" Fz\"],\n",
    "    label=\"right\",\n",
    "    linewidth=0.5,\n",
    "    color = blue,\n",
    ")\n",
    "plt.plot(\n",
    "    fp2_df[\" Fz\"],\n",
    "    label=\"left\",\n",
    "    linewidth=0.5,\n",
    "    color = orange,\n",
    ")\n",
    "plt.legend()\n",
    "plt.title(\"force plate\")\n",
    "plt.show()"
   ]
  },
  {
   "cell_type": "code",
   "execution_count": 357,
   "metadata": {},
   "outputs": [
    {
     "data": {
      "application/vnd.plotly.v1+json": {
       "config": {
        "plotlyServerURL": "https://plot.ly"
       },
       "data": [
        {
         "line": {
          "color": "red"
         },
         "marker": {
          "color": "red",
          "size": 2
         },
         "mode": "lines+markers+text",
         "type": "scatter3d",
         "x": [
          0.199117,
          0.368073
         ],
         "y": [
          0.052316,
          0.083098
         ],
         "z": [
          0.772585,
          0.696343
         ]
        },
        {
         "line": {
          "color": "red"
         },
         "marker": {
          "color": "red",
          "size": 2
         },
         "mode": "lines+markers+text",
         "type": "scatter3d",
         "x": [
          0.368073,
          0.336275
         ],
         "y": [
          0.083098,
          0.082106
         ],
         "z": [
          0.696343,
          0.755935
         ]
        },
        {
         "line": {
          "color": "red"
         },
         "marker": {
          "color": "red",
          "size": 2
         },
         "mode": "lines+markers+text",
         "type": "scatter3d",
         "x": [
          0.336275,
          0.285925
         ],
         "y": [
          0.082106,
          0.508956
         ],
         "z": [
          0.755935,
          0.749236
         ]
        },
        {
         "line": {
          "color": "red"
         },
         "marker": {
          "color": "red",
          "size": 2
         },
         "mode": "lines+markers+text",
         "type": "scatter3d",
         "x": [
          0.285925,
          0.237573
         ],
         "y": [
          0.508956,
          0.97976
         ],
         "z": [
          0.749236,
          0.691219
         ]
        },
        {
         "line": {
          "color": "red"
         },
         "marker": {
          "color": "red",
          "size": 2
         },
         "mode": "lines+markers+text",
         "type": "scatter3d",
         "x": [
          0.237573,
          0.420347
         ],
         "y": [
          0.97976,
          0.993694
         ],
         "z": [
          0.691219,
          0.600448
         ]
        },
        {
         "line": {
          "color": "red"
         },
         "marker": {
          "color": "red",
          "size": 2
         },
         "mode": "lines+markers+text",
         "type": "scatter3d",
         "x": [
          0.420347,
          0.42254
         ],
         "y": [
          0.993694,
          0.989592
         ],
         "z": [
          0.600448,
          0.494438
         ]
        },
        {
         "line": {
          "color": "red"
         },
         "marker": {
          "color": "red",
          "size": 2
         },
         "mode": "lines+markers+text",
         "type": "scatter3d",
         "x": [
          0.42254,
          0.233557
         ],
         "y": [
          0.989592,
          0.969485
         ],
         "z": [
          0.494438,
          0.420296
         ]
        },
        {
         "line": {
          "color": "red"
         },
         "marker": {
          "color": "red",
          "size": 2
         },
         "mode": "lines+markers+text",
         "type": "scatter3d",
         "x": [
          0.233557,
          0.3042
         ],
         "y": [
          0.969485,
          0.516926
         ],
         "z": [
          0.420296,
          0.316536
         ]
        },
        {
         "line": {
          "color": "red"
         },
         "marker": {
          "color": "red",
          "size": 2
         },
         "mode": "lines+markers+text",
         "type": "scatter3d",
         "x": [
          0.3042,
          0.353388
         ],
         "y": [
          0.516926,
          0.078018
         ],
         "z": [
          0.316536,
          0.272256
         ]
        },
        {
         "line": {
          "color": "red"
         },
         "marker": {
          "color": "red",
          "size": 2
         },
         "mode": "lines+markers+text",
         "type": "scatter3d",
         "x": [
          0.353388,
          0.377675
         ],
         "y": [
          0.078018,
          0.078301
         ],
         "z": [
          0.272256,
          0.332318
         ]
        },
        {
         "line": {
          "color": "red"
         },
         "marker": {
          "color": "red",
          "size": 2
         },
         "mode": "lines+markers+text",
         "type": "scatter3d",
         "x": [
          0.377675,
          0.193972
         ],
         "y": [
          0.078301,
          0.041946
         ],
         "z": [
          0.332318,
          0.243905
         ]
        }
       ],
       "layout": {
        "scene": {
         "aspectmode": "data",
         "camera": {
          "eye": {
           "x": -1,
           "y": -1,
           "z": 1
          }
         }
        },
        "template": {
         "data": {
          "bar": [
           {
            "error_x": {
             "color": "#2a3f5f"
            },
            "error_y": {
             "color": "#2a3f5f"
            },
            "marker": {
             "line": {
              "color": "#E5ECF6",
              "width": 0.5
             },
             "pattern": {
              "fillmode": "overlay",
              "size": 10,
              "solidity": 0.2
             }
            },
            "type": "bar"
           }
          ],
          "barpolar": [
           {
            "marker": {
             "line": {
              "color": "#E5ECF6",
              "width": 0.5
             },
             "pattern": {
              "fillmode": "overlay",
              "size": 10,
              "solidity": 0.2
             }
            },
            "type": "barpolar"
           }
          ],
          "carpet": [
           {
            "aaxis": {
             "endlinecolor": "#2a3f5f",
             "gridcolor": "white",
             "linecolor": "white",
             "minorgridcolor": "white",
             "startlinecolor": "#2a3f5f"
            },
            "baxis": {
             "endlinecolor": "#2a3f5f",
             "gridcolor": "white",
             "linecolor": "white",
             "minorgridcolor": "white",
             "startlinecolor": "#2a3f5f"
            },
            "type": "carpet"
           }
          ],
          "choropleth": [
           {
            "colorbar": {
             "outlinewidth": 0,
             "ticks": ""
            },
            "type": "choropleth"
           }
          ],
          "contour": [
           {
            "colorbar": {
             "outlinewidth": 0,
             "ticks": ""
            },
            "colorscale": [
             [
              0,
              "#0d0887"
             ],
             [
              0.1111111111111111,
              "#46039f"
             ],
             [
              0.2222222222222222,
              "#7201a8"
             ],
             [
              0.3333333333333333,
              "#9c179e"
             ],
             [
              0.4444444444444444,
              "#bd3786"
             ],
             [
              0.5555555555555556,
              "#d8576b"
             ],
             [
              0.6666666666666666,
              "#ed7953"
             ],
             [
              0.7777777777777778,
              "#fb9f3a"
             ],
             [
              0.8888888888888888,
              "#fdca26"
             ],
             [
              1,
              "#f0f921"
             ]
            ],
            "type": "contour"
           }
          ],
          "contourcarpet": [
           {
            "colorbar": {
             "outlinewidth": 0,
             "ticks": ""
            },
            "type": "contourcarpet"
           }
          ],
          "heatmap": [
           {
            "colorbar": {
             "outlinewidth": 0,
             "ticks": ""
            },
            "colorscale": [
             [
              0,
              "#0d0887"
             ],
             [
              0.1111111111111111,
              "#46039f"
             ],
             [
              0.2222222222222222,
              "#7201a8"
             ],
             [
              0.3333333333333333,
              "#9c179e"
             ],
             [
              0.4444444444444444,
              "#bd3786"
             ],
             [
              0.5555555555555556,
              "#d8576b"
             ],
             [
              0.6666666666666666,
              "#ed7953"
             ],
             [
              0.7777777777777778,
              "#fb9f3a"
             ],
             [
              0.8888888888888888,
              "#fdca26"
             ],
             [
              1,
              "#f0f921"
             ]
            ],
            "type": "heatmap"
           }
          ],
          "heatmapgl": [
           {
            "colorbar": {
             "outlinewidth": 0,
             "ticks": ""
            },
            "colorscale": [
             [
              0,
              "#0d0887"
             ],
             [
              0.1111111111111111,
              "#46039f"
             ],
             [
              0.2222222222222222,
              "#7201a8"
             ],
             [
              0.3333333333333333,
              "#9c179e"
             ],
             [
              0.4444444444444444,
              "#bd3786"
             ],
             [
              0.5555555555555556,
              "#d8576b"
             ],
             [
              0.6666666666666666,
              "#ed7953"
             ],
             [
              0.7777777777777778,
              "#fb9f3a"
             ],
             [
              0.8888888888888888,
              "#fdca26"
             ],
             [
              1,
              "#f0f921"
             ]
            ],
            "type": "heatmapgl"
           }
          ],
          "histogram": [
           {
            "marker": {
             "pattern": {
              "fillmode": "overlay",
              "size": 10,
              "solidity": 0.2
             }
            },
            "type": "histogram"
           }
          ],
          "histogram2d": [
           {
            "colorbar": {
             "outlinewidth": 0,
             "ticks": ""
            },
            "colorscale": [
             [
              0,
              "#0d0887"
             ],
             [
              0.1111111111111111,
              "#46039f"
             ],
             [
              0.2222222222222222,
              "#7201a8"
             ],
             [
              0.3333333333333333,
              "#9c179e"
             ],
             [
              0.4444444444444444,
              "#bd3786"
             ],
             [
              0.5555555555555556,
              "#d8576b"
             ],
             [
              0.6666666666666666,
              "#ed7953"
             ],
             [
              0.7777777777777778,
              "#fb9f3a"
             ],
             [
              0.8888888888888888,
              "#fdca26"
             ],
             [
              1,
              "#f0f921"
             ]
            ],
            "type": "histogram2d"
           }
          ],
          "histogram2dcontour": [
           {
            "colorbar": {
             "outlinewidth": 0,
             "ticks": ""
            },
            "colorscale": [
             [
              0,
              "#0d0887"
             ],
             [
              0.1111111111111111,
              "#46039f"
             ],
             [
              0.2222222222222222,
              "#7201a8"
             ],
             [
              0.3333333333333333,
              "#9c179e"
             ],
             [
              0.4444444444444444,
              "#bd3786"
             ],
             [
              0.5555555555555556,
              "#d8576b"
             ],
             [
              0.6666666666666666,
              "#ed7953"
             ],
             [
              0.7777777777777778,
              "#fb9f3a"
             ],
             [
              0.8888888888888888,
              "#fdca26"
             ],
             [
              1,
              "#f0f921"
             ]
            ],
            "type": "histogram2dcontour"
           }
          ],
          "mesh3d": [
           {
            "colorbar": {
             "outlinewidth": 0,
             "ticks": ""
            },
            "type": "mesh3d"
           }
          ],
          "parcoords": [
           {
            "line": {
             "colorbar": {
              "outlinewidth": 0,
              "ticks": ""
             }
            },
            "type": "parcoords"
           }
          ],
          "pie": [
           {
            "automargin": true,
            "type": "pie"
           }
          ],
          "scatter": [
           {
            "fillpattern": {
             "fillmode": "overlay",
             "size": 10,
             "solidity": 0.2
            },
            "type": "scatter"
           }
          ],
          "scatter3d": [
           {
            "line": {
             "colorbar": {
              "outlinewidth": 0,
              "ticks": ""
             }
            },
            "marker": {
             "colorbar": {
              "outlinewidth": 0,
              "ticks": ""
             }
            },
            "type": "scatter3d"
           }
          ],
          "scattercarpet": [
           {
            "marker": {
             "colorbar": {
              "outlinewidth": 0,
              "ticks": ""
             }
            },
            "type": "scattercarpet"
           }
          ],
          "scattergeo": [
           {
            "marker": {
             "colorbar": {
              "outlinewidth": 0,
              "ticks": ""
             }
            },
            "type": "scattergeo"
           }
          ],
          "scattergl": [
           {
            "marker": {
             "colorbar": {
              "outlinewidth": 0,
              "ticks": ""
             }
            },
            "type": "scattergl"
           }
          ],
          "scattermapbox": [
           {
            "marker": {
             "colorbar": {
              "outlinewidth": 0,
              "ticks": ""
             }
            },
            "type": "scattermapbox"
           }
          ],
          "scatterpolar": [
           {
            "marker": {
             "colorbar": {
              "outlinewidth": 0,
              "ticks": ""
             }
            },
            "type": "scatterpolar"
           }
          ],
          "scatterpolargl": [
           {
            "marker": {
             "colorbar": {
              "outlinewidth": 0,
              "ticks": ""
             }
            },
            "type": "scatterpolargl"
           }
          ],
          "scatterternary": [
           {
            "marker": {
             "colorbar": {
              "outlinewidth": 0,
              "ticks": ""
             }
            },
            "type": "scatterternary"
           }
          ],
          "surface": [
           {
            "colorbar": {
             "outlinewidth": 0,
             "ticks": ""
            },
            "colorscale": [
             [
              0,
              "#0d0887"
             ],
             [
              0.1111111111111111,
              "#46039f"
             ],
             [
              0.2222222222222222,
              "#7201a8"
             ],
             [
              0.3333333333333333,
              "#9c179e"
             ],
             [
              0.4444444444444444,
              "#bd3786"
             ],
             [
              0.5555555555555556,
              "#d8576b"
             ],
             [
              0.6666666666666666,
              "#ed7953"
             ],
             [
              0.7777777777777778,
              "#fb9f3a"
             ],
             [
              0.8888888888888888,
              "#fdca26"
             ],
             [
              1,
              "#f0f921"
             ]
            ],
            "type": "surface"
           }
          ],
          "table": [
           {
            "cells": {
             "fill": {
              "color": "#EBF0F8"
             },
             "line": {
              "color": "white"
             }
            },
            "header": {
             "fill": {
              "color": "#C8D4E3"
             },
             "line": {
              "color": "white"
             }
            },
            "type": "table"
           }
          ]
         },
         "layout": {
          "annotationdefaults": {
           "arrowcolor": "#2a3f5f",
           "arrowhead": 0,
           "arrowwidth": 1
          },
          "autotypenumbers": "strict",
          "coloraxis": {
           "colorbar": {
            "outlinewidth": 0,
            "ticks": ""
           }
          },
          "colorscale": {
           "diverging": [
            [
             0,
             "#8e0152"
            ],
            [
             0.1,
             "#c51b7d"
            ],
            [
             0.2,
             "#de77ae"
            ],
            [
             0.3,
             "#f1b6da"
            ],
            [
             0.4,
             "#fde0ef"
            ],
            [
             0.5,
             "#f7f7f7"
            ],
            [
             0.6,
             "#e6f5d0"
            ],
            [
             0.7,
             "#b8e186"
            ],
            [
             0.8,
             "#7fbc41"
            ],
            [
             0.9,
             "#4d9221"
            ],
            [
             1,
             "#276419"
            ]
           ],
           "sequential": [
            [
             0,
             "#0d0887"
            ],
            [
             0.1111111111111111,
             "#46039f"
            ],
            [
             0.2222222222222222,
             "#7201a8"
            ],
            [
             0.3333333333333333,
             "#9c179e"
            ],
            [
             0.4444444444444444,
             "#bd3786"
            ],
            [
             0.5555555555555556,
             "#d8576b"
            ],
            [
             0.6666666666666666,
             "#ed7953"
            ],
            [
             0.7777777777777778,
             "#fb9f3a"
            ],
            [
             0.8888888888888888,
             "#fdca26"
            ],
            [
             1,
             "#f0f921"
            ]
           ],
           "sequentialminus": [
            [
             0,
             "#0d0887"
            ],
            [
             0.1111111111111111,
             "#46039f"
            ],
            [
             0.2222222222222222,
             "#7201a8"
            ],
            [
             0.3333333333333333,
             "#9c179e"
            ],
            [
             0.4444444444444444,
             "#bd3786"
            ],
            [
             0.5555555555555556,
             "#d8576b"
            ],
            [
             0.6666666666666666,
             "#ed7953"
            ],
            [
             0.7777777777777778,
             "#fb9f3a"
            ],
            [
             0.8888888888888888,
             "#fdca26"
            ],
            [
             1,
             "#f0f921"
            ]
           ]
          },
          "colorway": [
           "#636efa",
           "#EF553B",
           "#00cc96",
           "#ab63fa",
           "#FFA15A",
           "#19d3f3",
           "#FF6692",
           "#B6E880",
           "#FF97FF",
           "#FECB52"
          ],
          "font": {
           "color": "#2a3f5f"
          },
          "geo": {
           "bgcolor": "white",
           "lakecolor": "white",
           "landcolor": "#E5ECF6",
           "showlakes": true,
           "showland": true,
           "subunitcolor": "white"
          },
          "hoverlabel": {
           "align": "left"
          },
          "hovermode": "closest",
          "mapbox": {
           "style": "light"
          },
          "paper_bgcolor": "white",
          "plot_bgcolor": "#E5ECF6",
          "polar": {
           "angularaxis": {
            "gridcolor": "white",
            "linecolor": "white",
            "ticks": ""
           },
           "bgcolor": "#E5ECF6",
           "radialaxis": {
            "gridcolor": "white",
            "linecolor": "white",
            "ticks": ""
           }
          },
          "scene": {
           "xaxis": {
            "backgroundcolor": "#E5ECF6",
            "gridcolor": "white",
            "gridwidth": 2,
            "linecolor": "white",
            "showbackground": true,
            "ticks": "",
            "zerolinecolor": "white"
           },
           "yaxis": {
            "backgroundcolor": "#E5ECF6",
            "gridcolor": "white",
            "gridwidth": 2,
            "linecolor": "white",
            "showbackground": true,
            "ticks": "",
            "zerolinecolor": "white"
           },
           "zaxis": {
            "backgroundcolor": "#E5ECF6",
            "gridcolor": "white",
            "gridwidth": 2,
            "linecolor": "white",
            "showbackground": true,
            "ticks": "",
            "zerolinecolor": "white"
           }
          },
          "shapedefaults": {
           "line": {
            "color": "#2a3f5f"
           }
          },
          "ternary": {
           "aaxis": {
            "gridcolor": "white",
            "linecolor": "white",
            "ticks": ""
           },
           "baxis": {
            "gridcolor": "white",
            "linecolor": "white",
            "ticks": ""
           },
           "bgcolor": "#E5ECF6",
           "caxis": {
            "gridcolor": "white",
            "linecolor": "white",
            "ticks": ""
           }
          },
          "title": {
           "x": 0.05
          },
          "xaxis": {
           "automargin": true,
           "gridcolor": "white",
           "linecolor": "white",
           "ticks": "",
           "title": {
            "standoff": 15
           },
           "zerolinecolor": "white",
           "zerolinewidth": 2
          },
          "yaxis": {
           "automargin": true,
           "gridcolor": "white",
           "linecolor": "white",
           "ticks": "",
           "title": {
            "standoff": 15
           },
           "zerolinecolor": "white",
           "zerolinewidth": 2
          }
         }
        }
       }
      }
     },
     "metadata": {},
     "output_type": "display_data"
    }
   ],
   "source": [
    "landmark = MocapLowerLandmark.df2landmark(mocap_df, 300)\n",
    "\n",
    "plot3d(landmark, MocapLowerLandmark.CONN_PATH_LIST)"
   ]
  },
  {
   "cell_type": "code",
   "execution_count": 347,
   "metadata": {},
   "outputs": [
    {
     "data": {
      "text/plain": [
       "'\\nangle_track = list(map(\\n    np.rad2deg,\\n    np.array(angle_track).mean(axis=1)\\n))\\n'"
      ]
     },
     "execution_count": 347,
     "metadata": {},
     "output_type": "execute_result"
    }
   ],
   "source": [
    "angle_track = list(map(\n",
    "    lambda idx : calcKneeDegrees(mocap_df, idx = idx),\n",
    "    range(len(mocap_df))\n",
    "))\n",
    "\n",
    "angle_track = np.array(angle_track)\n",
    "\n",
    "rang\n",
    "'''\n",
    "angle_track = list(map(\n",
    "    np.rad2deg,\n",
    "    np.array(angle_track).mean(axis=1)\n",
    "))\n",
    "'''"
   ]
  },
  {
   "cell_type": "code",
   "execution_count": 346,
   "metadata": {},
   "outputs": [
    {
     "ename": "SyntaxError",
     "evalue": "can't use starred expression here (916167967.py, line 1)",
     "output_type": "error",
     "traceback": [
      "\u001b[0;36m  Cell \u001b[0;32mIn[346], line 1\u001b[0;36m\u001b[0m\n\u001b[0;31m    *zip(angle_track)\u001b[0m\n\u001b[0m    ^\u001b[0m\n\u001b[0;31mSyntaxError\u001b[0m\u001b[0;31m:\u001b[0m can't use starred expression here\n"
     ]
    }
   ],
   "source": []
  },
  {
   "cell_type": "code",
   "execution_count": 338,
   "metadata": {},
   "outputs": [
    {
     "data": {
      "image/png": "[encoded data removed]",
      "text/plain": [
       "<Figure size 640x480 with 1 Axes>"
      ]
     },
     "metadata": {},
     "output_type": "display_data"
    }
   ],
   "source": [
    "plt.plot(angle_track)\n",
    "plt.show()"
   ]
  },
  {
   "cell_type": "code",
   "execution_count": null,
   "metadata": {},
   "outputs": [],
   "source": []
  },
  {
   "cell_type": "code",
   "execution_count": 331,
   "metadata": {},
   "outputs": [
    {
     "data": {
      "text/plain": [
       "(339,)"
      ]
     },
     "execution_count": 331,
     "metadata": {},
     "output_type": "execute_result"
    }
   ],
   "source": [
    "\n",
    "\n"
   ]
  },
  {
   "cell_type": "code",
   "execution_count": 325,
   "metadata": {},
   "outputs": [
    {
     "data": {
      "text/plain": [
       "339"
      ]
     },
     "execution_count": 325,
     "metadata": {},
     "output_type": "execute_result"
    }
   ],
   "source": [
    "len(mocap_df)"
   ]
  },
  {
   "cell_type": "code",
   "execution_count": 316,
   "metadata": {},
   "outputs": [
    {
     "data": {
      "text/plain": [
       "(84.3349965307593, nan)"
      ]
     },
     "execution_count": 316,
     "metadata": {},
     "output_type": "execute_result"
    }
   ],
   "source": [
    "langle, rangle = MocapLowerLandmark.calcKneeDegrees(\n",
    "    mocap_df, 220\n",
    ")\n",
    "\n",
    "np.rad2deg(langle), np.rad2deg(rangle)"
   ]
  },
  {
   "cell_type": "code",
   "execution_count": 319,
   "metadata": {},
   "outputs": [
    {
     "data": {
      "text/plain": [
       "(84.3349965307593, nan)"
      ]
     },
     "execution_count": 319,
     "metadata": {},
     "output_type": "execute_result"
    }
   ],
   "source": [
    "\n",
    "def calcKneeDegrees(mocap_df, idx = 0) :\n",
    "    raw_val = mocap_df.loc[:, ~mocap_df.columns.isin([\"Frame\", \"Time (Seconds)\"]) ].to_numpy()\n",
    "    raw_val = raw_val[idx].reshape(16, 3)\n",
    "\n",
    "    rthai = raw_val[9] - raw_val[11]\n",
    "    rcalf = raw_val[8] - raw_val[11]\n",
    "\n",
    "    lthai = raw_val[1] - raw_val[3]\n",
    "    lcalf = raw_val[0] - raw_val[3]\n",
    "\n",
    "    rthai_unit = rthai / np.linalg.norm(rthai)\n",
    "    rcalf_unit = rcalf / np.linalg.norm(rcalf)\n",
    "\n",
    "    lthai_unit = lthai / np.linalg.norm(lthai)\n",
    "    lcalf_unit = lcalf / np.linalg.norm(lcalf)\n",
    "\n",
    "    rangle = np.arccos(np.dot(rthai_unit, rcalf_unit))\n",
    "    langle = np.arccos(np.dot(lthai_unit, lcalf_unit))\n",
    "\n",
    "    return langle, rangle\n",
    "\n",
    "\n",
    "langle, rangle = calcKneeDegrees(mocap_df, 220)\n",
    "\n",
    "np.rad2deg(langle), np.rad2deg(rangle)"
   ]
  }
 ],
 "metadata": {
  "kernelspec": {
   "display_name": "first",
   "language": "python",
   "name": "python3"
  },
  "language_info": {
   "codemirror_mode": {
    "name": "ipython",
    "version": 3
   },
   "file_extension": ".py",
   "mimetype": "text/x-python",
   "name": "python",
   "nbconvert_exporter": "python",
   "pygments_lexer": "ipython3",
   "version": "3.10.9"
  },
  "orig_nbformat": 4
 },
 "nbformat": 4,
 "nbformat_minor": 2
}
